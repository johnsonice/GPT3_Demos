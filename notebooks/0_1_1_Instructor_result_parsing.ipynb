{
 "cells": [
  {
   "cell_type": "markdown",
   "metadata": {},
   "source": [
    "#### LLM Result parsing with Instructor \n",
    "- [Main Reference Page](https://python.useinstructor.com/)\n",
    "- [Basic tutorial](https://python.useinstructor.com/tutorials/1-introduction/)\n",
    "- [Example of Self Critique](https://python.useinstructor.com/examples/self_critique/)\n",
    "- [Prompting tips](https://python.useinstructor.com/)"
   ]
  },
  {
   "cell_type": "markdown",
   "metadata": {},
   "source": [
    "#### Basic usage of pydantic"
   ]
  },
  {
   "cell_type": "code",
   "execution_count": 9,
   "metadata": {},
   "outputs": [],
   "source": [
    "from pydantic import BaseModel, Field\n",
    "from typing import Optional,List,Literal,Iterable\n",
    "#from typing_extensions import Literal"
   ]
  },
  {
   "cell_type": "markdown",
   "metadata": {},
   "source": [
    "- define a response class with specified datatype"
   ]
  },
  {
   "cell_type": "code",
   "execution_count": 5,
   "metadata": {},
   "outputs": [
    {
     "data": {
      "text/plain": [
       "Topic(title='Fiscal Sector', description='Test description', indicators=[], index=0)"
      ]
     },
     "execution_count": 5,
     "metadata": {},
     "output_type": "execute_result"
    }
   ],
   "source": [
    "### use string, int and optional fields \n",
    "class Topic(BaseModel):\n",
    "    title: Literal[\"Financial Sector\", \"Fiscal Sector\", \"Monetary Sector\", \"Real Sector\"] = Field(description=\"Short title of the topic\")\n",
    "    description: Optional[str] = Field(description=\"A short description of the topic\")\n",
    "    indicators: List[str] = Field(description=\"List of keywords that can represent the topic\", default=[])  ## you can set default value \n",
    "    index: int = Field(description=\"Topic index\",default=0)\n",
    "\n",
    "### it will convert basic info to follow datatypes\n",
    "T0 = Topic(title=\"Fiscal Sector\", description='Test description')\n",
    "T0 \n",
    "#T0.model_json_schema()"
   ]
  },
  {
   "cell_type": "markdown",
   "metadata": {},
   "source": [
    "- nested response type"
   ]
  },
  {
   "cell_type": "code",
   "execution_count": 6,
   "metadata": {},
   "outputs": [
    {
     "data": {
      "text/plain": [
       "Topic_List(topic_list=[])"
      ]
     },
     "execution_count": 6,
     "metadata": {},
     "output_type": "execute_result"
    }
   ],
   "source": [
    "class Topic_List(BaseModel):\n",
    "    topic_list:List[Topic] = Field(description=\"List of topic response object\", default=[])  ## you can set default value \n",
    "Topic_List()"
   ]
  },
  {
   "cell_type": "code",
   "execution_count": 7,
   "metadata": {},
   "outputs": [],
   "source": [
    "import instructor\n",
    "from openai import OpenAI\n",
    "import os,getpass\n",
    "from enum import Enum\n",
    "from pydantic import BaseModel, Field\n",
    "from typing_extensions import Literal\n",
    "os.environ[\"OPENAI_API_KEY\"] = getpass.getpass(prompt='OpenAI API Token:')"
   ]
  },
  {
   "cell_type": "code",
   "execution_count": 8,
   "metadata": {},
   "outputs": [],
   "source": [
    "### define a instructor openai client \n",
    "client = instructor.patch(OpenAI())\n"
   ]
  },
  {
   "cell_type": "code",
   "execution_count": 14,
   "metadata": {},
   "outputs": [
    {
     "name": "stdout",
     "output_type": "stream",
     "text": [
      "title='Financial Sector' description='The financial sector comprises institutions that facilitate transactions and manage risks, including banks, insurance companies, and stock markets.' indicators=['stock market indices', 'banking assets', 'insurance premiums', 'credit growth'] index=1\n",
      "title='Fiscal Sector' description='The fiscal sector relates to government revenue and expenditure, focusing on taxation, budgeting, and public investment.' indicators=['government budget deficit', 'public debt', 'tax revenue', 'public spending'] index=2\n",
      "title='Monetary Sector' description='This sector involves the policies and mechanisms for controlling the supply of money, primarily managed by a central bank.' indicators=['interest rates', 'monetary base', 'inflation rate', 'foreign exchange reserves'] index=3\n",
      "title='Real Sector' description='The real sector encompasses the physical, non-financial components of the economy such as goods, services, and infrastructure.' indicators=['GDP', 'unemployment rate', 'industrial production', 'trade balance'] index=4\n"
     ]
    }
   ],
   "source": [
    "prompt = \"\"\" \n",
    "Create a list of Macro economic sector definations. the list of sectors are Financial Sector, Fiscal Sector, Monetary Sector, Real Sector. \n",
    "please provide a very short description of the each sector, together with key indicator as a list of keywords, and an topic index for each created sector. \n",
    "\n",
    "\"\"\"\n",
    "#return the list in a json formate. \n",
    "resp = client.chat.completions.create(\n",
    "    model=\"gpt-4-1106-preview\",\n",
    "    messages=[{\"role\": \"user\", \"content\": prompt}],\n",
    "    response_model=Iterable[Topic],\n",
    ")\n",
    "\n",
    "for t in resp:\n",
    "    print(t)"
   ]
  },
  {
   "cell_type": "code",
   "execution_count": null,
   "metadata": {},
   "outputs": [],
   "source": []
  },
  {
   "cell_type": "code",
   "execution_count": null,
   "metadata": {},
   "outputs": [],
   "source": []
  },
  {
   "cell_type": "code",
   "execution_count": null,
   "metadata": {},
   "outputs": [],
   "source": []
  },
  {
   "cell_type": "code",
   "execution_count": null,
   "metadata": {},
   "outputs": [],
   "source": []
  },
  {
   "cell_type": "code",
   "execution_count": null,
   "metadata": {},
   "outputs": [],
   "source": []
  }
 ],
 "metadata": {
  "kernelspec": {
   "display_name": "gpt",
   "language": "python",
   "name": "python3"
  },
  "language_info": {
   "codemirror_mode": {
    "name": "ipython",
    "version": 3
   },
   "file_extension": ".py",
   "mimetype": "text/x-python",
   "name": "python",
   "nbconvert_exporter": "python",
   "pygments_lexer": "ipython3",
   "version": "3.11.9"
  }
 },
 "nbformat": 4,
 "nbformat_minor": 2
}
