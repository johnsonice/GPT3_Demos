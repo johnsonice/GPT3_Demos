{
 "cells": [
  {
   "cell_type": "markdown",
   "metadata": {},
   "source": [
    "## OpenAI Agent SDK"
   ]
  },
  {
   "cell_type": "markdown",
   "metadata": {},
   "source": [
    "\n",
    "Documentation: https://openai.github.io/openai-agents-python/agents/\n"
   ]
  },
  {
   "cell_type": "code",
   "execution_count": 1,
   "metadata": {},
   "outputs": [],
   "source": [
    "import os\n",
    "from dotenv import load_dotenv\n",
    "load_dotenv()\n",
    "\n",
    "from agents import Agent, Runner\n",
    "import nest_asyncio\n",
    "nest_asyncio.apply()\n",
    "\n",
    "# Access your API key\n",
    "api_key = os.getenv(\"OPENAI_API_KEY\")\n",
    "if not api_key:\n",
    "   raise ValueError(\"OPENAI_API_KEY not found in .env file\")"
   ]
  },
  {
   "cell_type": "markdown",
   "metadata": {},
   "source": [
    "### Basics"
   ]
  },
  {
   "cell_type": "code",
   "execution_count": 19,
   "metadata": {},
   "outputs": [
    {
     "name": "stdout",
     "output_type": "stream",
     "text": [
      "Code within itself,  \n",
      "A loop of endless echoes—  \n",
      "Infinite unfolds.\n",
      "Hello! Yes, I'm working correctly. How can I assist you today?\n"
     ]
    }
   ],
   "source": [
    "## Sync run \n",
    "agent = Agent(name=\"Assistant\", instructions=\"You are a helpful assistant\",model=\"gpt-4o-mini\")\n",
    "result = Runner.run_sync(agent, \"Write a haiku about recursion in programming.\")\n",
    "print(result.final_output)\n",
    "\n",
    "## async run \n",
    "agent = Agent(\n",
    "   name=\"Test Agent\",\n",
    "   instructions=\"You are a helpful assistant that provides concise responses.\",\n",
    "   model=\"gpt-4o-mini\"\n",
    ")\n",
    "result = await Runner.run(agent, \"Hello! Are you working correctly?\")\n",
    "print(result.final_output)\n"
   ]
  },
  {
   "cell_type": "markdown",
   "metadata": {},
   "source": [
    "### Some Agent Params"
   ]
  },
  {
   "cell_type": "markdown",
   "metadata": {},
   "source": [
    "### Best practices for writing instructions\n",
    "- Be specific: Clearly define the agent’s role, personality, and limitations\n",
    "- Set boundaries: Explicitly state what topics or actions the agent should avoid\n",
    "- Define interaction patterns: Explain how the agent should handle various types of inputs\n",
    "- Establish knowledge boundaries: Clarify what the agent should know and when it should acknowledge uncertainty"
   ]
  },
  {
   "cell_type": "code",
   "execution_count": null,
   "metadata": {},
   "outputs": [],
   "source": [
    "from agents import ModelSettings"
   ]
  },
  {
   "cell_type": "code",
   "execution_count": 22,
   "metadata": {},
   "outputs": [],
   "source": [
    "advanced_agent = Agent(\n",
    "   name=\"Advanced Assistant\",\n",
    "   instructions=\"\"\"You are a professional, concise assistant who always provides\n",
    "   accurate information. When you don't know something, clearly state that.\n",
    "   Focus on giving actionable insights when answering questions.\"\"\",\n",
    "   model=\"gpt-4o-mini\",\n",
    "   model_settings=ModelSettings(\n",
    "       temperature=0.3,  # Lower for more deterministic outputs (0.0-2.0)\n",
    "       max_tokens=1024,  # Maximum length of response\n",
    "   ),\n",
    "   tools=[] \n",
    ")"
   ]
  },
  {
   "cell_type": "markdown",
   "metadata": {},
   "source": [
    "### Agent tools use"
   ]
  },
  {
   "cell_type": "code",
   "execution_count": 23,
   "metadata": {},
   "outputs": [],
   "source": [
    "from agents import WebSearchTool"
   ]
  },
  {
   "cell_type": "code",
   "execution_count": 32,
   "metadata": {},
   "outputs": [],
   "source": [
    "# Create a research assistant with web search capability\n",
    "research_assistant = Agent(\n",
    "   name=\"Research Assistant\",\n",
    "   instructions=\"\"\"You are a research assistant that helps users find and summarize information.\n",
    "   When asked about a topic:\n",
    "   1. Search the web for relevant, up-to-date information\n",
    "   2. Synthesize the information into a clear, concise summary\n",
    "   3. Structure your response with headings and bullet points when appropriate\n",
    "   4. Always cite your sources at the end of your response\n",
    "  \n",
    "   If the information might be time-sensitive or rapidly changing, mention when the search was performed.\n",
    "   \"\"\",\n",
    "   tools=[WebSearchTool(\n",
    "      user_location={\"type\": \"approximate\", \"city\": \"New York\"},  # Provides geographic context for local search queries\n",
    "      search_context_size='medium'   ## high medium low\n",
    "      )]\n",
    "   )"
   ]
  },
  {
   "cell_type": "code",
   "execution_count": 33,
   "metadata": {},
   "outputs": [
    {
     "name": "stdout",
     "output_type": "stream",
     "text": [
      "RunResult:\n",
      "- Last agent: Agent(name=\"Research Assistant\", ...)\n",
      "- Final output (str):\n",
      "    As of March 25, 2025, personal productivity applications have seen significant advancements, particularly through the integration of artificial intelligence (AI) and the development of autonomous AI agents.\n",
      "    \n",
      "    **Integration of AI in Productivity Tools**\n",
      "    \n",
      "    AI has been increasingly embedded into productivity applications to enhance efficiency and user experience. Notable developments include:\n",
      "    \n",
      "    - **AI-Powered Assistants**: Applications like Notion have introduced AI assistants capable of drafting, summarizing, and refining content within user notes, facilitating collaborative projects and individual brainstorming. ([eti.co.ke](https://eti.co.ke/how-ai-is-changing-personal-productivity-apps-you-need/?utm_source=openai))\n",
      "    \n",
      "    - **Intelligent Task Management**: Tools such as Todoist have integrated AI to help users prioritize tasks based on deadlines, importance, and workload, suggesting optimal times for task completion. ([eti.co.ke](https://eti.co.ke/how-ai-is-changing-personal-productivity-apps-you-need/?utm_source=openai))\n",
      "    \n",
      "    - **Enhanced Writing Support**: Grammarly's AI-driven writing assistant offers real-time grammar checks, tone suggestions, and advanced features like rewriting for clarity or creativity, improving written communication. ([eti.co.ke](https://eti.co.ke/how-ai-is-changing-personal-productivity-apps-you-need/?utm_source=openai))\n",
      "    \n",
      "    **Emergence of Autonomous AI Agents**\n",
      "    \n",
      "    The development of autonomous AI agents marks a transformative shift in personal productivity:\n",
      "    \n",
      "    - **Task Automation**: Startups like Anthropic have created systems capable of performing routine tasks across various applications and websites, streamlining workflows and reducing manual effort. ([ft.com](https://www.ft.com/content/a0e54dd5-b270-42cc-8c4c-18a0b8b3e6cc?utm_source=openai))\n",
      "    \n",
      "    - **Integrated Digital Labor**: These AI agents can independently execute tasks, make decisions, and collaborate with other agents, offering scalable digital labor that enhances operational efficiency and cost-effectiveness. ([time.com](https://time.com/7178872/agents-unlimited-age/?utm_source=openai))\n",
      "    \n",
      "    **AI Integration in Major Productivity Suites**\n",
      "    \n",
      "    Leading technology companies are embedding AI into their productivity suites:\n",
      "    \n",
      "    - **Microsoft 365 Copilot**: Microsoft offers an AI-powered assistant within its Office suite, designed to assist with tasks like drafting emails and generating reports. ([axios.com](https://www.axios.com/newsletters/axios-ai-plus-f20ebce0-d64e-11ef-a5af-c53918672a6d?utm_source=openai))\n",
      "    \n",
      "    - **Google Workspace with Gemini Advanced**: Google has incorporated its Gemini Advanced chatbot into its Workspace bundle, aiming to enhance user productivity through AI-driven assistance. ([axios.com](https://www.axios.com/newsletters/axios-ai-plus-f20ebce0-d64e-11ef-a5af-c53918672a6d?utm_source=openai))\n",
      "    \n",
      "    These integrations reflect a broader trend of embedding AI into everyday productivity tools to automate tasks and provide intelligent assistance.\n",
      "    \n",
      "    **Conclusion**\n",
      "    \n",
      "    The landscape of personal productivity applications is rapidly evolving, with AI integration and autonomous agents playing pivotal roles. These advancements aim to streamline workflows, automate routine tasks, and offer intelligent assistance, thereby enhancing overall productivity.\n",
      "    \n",
      "    *Note: The information provided is based on developments up to March 25, 2025.* \n",
      "- 2 new item(s)\n",
      "- 1 raw response(s)\n",
      "- 0 input guardrail result(s)\n",
      "- 0 output guardrail result(s)\n",
      "(See `RunResult` for more details)\n"
     ]
    }
   ],
   "source": [
    "# Usage example (in Jupyter notebook)\n",
    "summary = Runner.run_sync(research_assistant, \"Latest developments in personal productivity apps.\")\n",
    "print(summary)"
   ]
  },
  {
   "cell_type": "markdown",
   "metadata": {},
   "source": [
    "#### Basic Function tool "
   ]
  },
  {
   "cell_type": "code",
   "execution_count": 2,
   "metadata": {},
   "outputs": [],
   "source": [
    "from agents import function_tool"
   ]
  },
  {
   "cell_type": "code",
   "execution_count": 3,
   "metadata": {},
   "outputs": [
    {
     "name": "stdout",
     "output_type": "stream",
     "text": [
      "Sunshine fills the sky,  \n",
      "New York basks in golden light,  \n",
      "Joy in every breath.\n"
     ]
    }
   ],
   "source": [
    "@function_tool\n",
    "def get_weather(city: str) -> str:\n",
    "    \"\"\"\n",
    "    Get the weather in a city\n",
    "    \"\"\"\n",
    "    return f\"The weather in {city} is sunny\"\n",
    "\n",
    "agent = Agent(\n",
    "    name=\"Haiku agent\",\n",
    "    instructions=\"Always respond in haiku form\",\n",
    "    model=\"gpt-4o-mini\",\n",
    "    tools=[get_weather],\n",
    ")\n",
    "results = Runner.run_sync(agent, \"what is the weather in new york?\")\n",
    "print(results.final_output)"
   ]
  },
  {
   "cell_type": "code",
   "execution_count": 4,
   "metadata": {},
   "outputs": [
    {
     "data": {
      "text/plain": [
       "FunctionTool(name='get_weather', description='Get the weather in a city', params_json_schema={'properties': {'city': {'title': 'City', 'type': 'string'}}, 'required': ['city'], 'title': 'get_weather_args', 'type': 'object', 'additionalProperties': False}, on_invoke_tool=<function function_tool.<locals>._create_function_tool.<locals>._on_invoke_tool at 0x76506517b1c0>, strict_json_schema=True)"
      ]
     },
     "execution_count": 4,
     "metadata": {},
     "output_type": "execute_result"
    }
   ],
   "source": [
    "## comments for the fucntion will be the description of the tool;\n",
    "get_weather"
   ]
  },
  {
   "cell_type": "markdown",
   "metadata": {},
   "source": [
    "#### Structured output"
   ]
  },
  {
   "cell_type": "code",
   "execution_count": 5,
   "metadata": {},
   "outputs": [],
   "source": [
    "from pydantic import BaseModel\n",
    "from typing import List, Optional\n",
    "# Define person data model\n",
    "class Person(BaseModel):\n",
    "   name: str\n",
    "   role: Optional[str]\n",
    "   contact: Optional[str]\n",
    "# Define meeting data model\n",
    "class Meeting(BaseModel):\n",
    "   date: str\n",
    "   time: str\n",
    "   location: Optional[str]\n",
    "   duration: Optional[str]\n",
    "# Define task data model\n",
    "class Task(BaseModel):\n",
    "   description: str\n",
    "   assignee: Optional[str]\n",
    "   deadline: Optional[str]\n",
    "   priority: Optional[str]\n",
    "# Define the complete email data model\n",
    "class EmailData(BaseModel):\n",
    "   subject: str\n",
    "   sender: Person\n",
    "   recipients: List[Person]\n",
    "   main_points: List[str]\n",
    "   meetings: List[Meeting]\n",
    "   tasks: List[Task]\n",
    "   next_steps: Optional[str]"
   ]
  },
  {
   "cell_type": "code",
   "execution_count": 6,
   "metadata": {},
   "outputs": [],
   "source": [
    "# Create an email extraction agent with structured output\n",
    "email_extractor = Agent(\n",
    "   name=\"Email Extractor\",\n",
    "   instructions=\"\"\"You are an assistant that extracts structured information from emails.\n",
    "  \n",
    "   When given an email, carefully identify:\n",
    "   - Subject and main points\n",
    "   - People mentioned (names, roles, contact info)\n",
    "   - Meetings (dates, times, locations)\n",
    "   - Tasks or action items (with assignees and deadlines)\n",
    "   - Next steps or follow-ups\n",
    "  \n",
    "   Extract this information as structured data. If something is unclear or not mentioned,\n",
    "   leave those fields empty rather than making assumptions.\n",
    "   \"\"\",\n",
    "   output_type=EmailData,  # This tells the agent to return data in EmailData format\n",
    ")"
   ]
  },
  {
   "cell_type": "code",
   "execution_count": 7,
   "metadata": {},
   "outputs": [],
   "source": [
    "# For simple lists\n",
    "agent_with_list_output = Agent(\n",
    "   name=\"List Generator\",\n",
    "   instructions=\"Generate lists of items based on the user's request.\",\n",
    "   output_type=list[str],  # Returns a list of strings\n",
    ")\n",
    "\n",
    "# For dictionaries\n",
    "agent_with_dict_output = Agent(\n",
    "   name=\"Dictionary Generator\",\n",
    "   instructions=\"Create key-value pairs based on the input.\",\n",
    "   output_type=dict[\n",
    "       str, int\n",
    "   ],  # Returns a dictionary with string keys and integer values\n",
    ")\n",
    "\n",
    "# For simple primitive types\n",
    "agent_with_bool_output = Agent(\n",
    "   name=\"Decision Maker\",\n",
    "   instructions=\"Answer yes/no questions with True or False.\",\n",
    "   output_type=bool,  # Returns a boolean\n",
    ")"
   ]
  },
  {
   "cell_type": "markdown",
   "metadata": {},
   "source": [
    "- see context and output types here : https://openai.github.io/openai-agents-python/agents/"
   ]
  },
  {
   "cell_type": "markdown",
   "metadata": {},
   "source": [
    "#### Agent as tool "
   ]
  },
  {
   "cell_type": "code",
   "execution_count": 9,
   "metadata": {},
   "outputs": [
    {
     "name": "stdout",
     "output_type": "stream",
     "text": [
      "Do you want assistance setting up deadlines in a particular tool or platform?\n"
     ]
    }
   ],
   "source": [
    "# Specialist agents\n",
    "note_taking_agent = Agent(\n",
    "   name=\"Note Manager\",\n",
    "   instructions=\"You help users take and organize notes efficiently.\",\n",
    "   # In a real application, this agent would have note-taking tools\n",
    ")\n",
    "task_management_agent = Agent(\n",
    "   name=\"Task Manager\",\n",
    "   instructions=\"You help users manage tasks, deadlines, and priorities.\",\n",
    "   # In a real application, this agent would have task management tools\n",
    ")\n",
    "# Coordinator agent that uses specialists as tools\n",
    "productivity_assistant = Agent(\n",
    "   name=\"Productivity Assistant\",\n",
    "   instructions=\"\"\"You are a productivity assistant that helps users organize their work and personal life.\n",
    "  \n",
    "   For note-taking questions or requests, use the note_taking tool.\n",
    "   For task and deadline management, use the task_management tool.\n",
    "  \n",
    "   Help the user decide which tool is appropriate based on their request,\n",
    "   and coordinate between different aspects of productivity.\n",
    "   \"\"\",\n",
    "   tools=[\n",
    "       note_taking_agent.as_tool(\n",
    "           tool_name=\"note_taking\",\n",
    "           tool_description=\"For taking, organizing, and retrieving notes and information\"\n",
    "       ),\n",
    "       task_management_agent.as_tool(\n",
    "           tool_name=\"task_management\",\n",
    "           tool_description=\"For managing tasks, setting deadlines, and tracking priorities\"\n",
    "       )\n",
    "   ]\n",
    ")\n",
    "result = Runner.run_sync(productivity_assistant, \"I need to keep track of my project deadlines\")\n",
    "print(result.final_output)"
   ]
  },
  {
   "cell_type": "markdown",
   "metadata": {},
   "source": [
    "### Basic handoff"
   ]
  },
  {
   "cell_type": "code",
   "execution_count": 10,
   "metadata": {},
   "outputs": [],
   "source": [
    "billing_agent = Agent(\n",
    "   name=\"Billing Agent\",\n",
    "   instructions=\"\"\"You are a billing specialist who helps customers with payment issues.\n",
    "   Focus on resolving billing inquiries, subscription changes, and refund requests.\n",
    "   If asked about technical problems or account settings, explain that you specialize\n",
    "   in billing and payment matters only.\"\"\",\n",
    ")\n",
    "\n",
    "technical_agent = Agent(\n",
    "   name=\"Technical Agent\",\n",
    "   instructions=\"\"\"You are a technical support specialist who helps with product issues.\n",
    "   Assist users with troubleshooting, error messages, and how-to questions.\n",
    "   Focus on resolving technical problems only.\"\"\",\n",
    ")\n",
    "\n",
    "# Create a triage agent that can hand off to specialists\n",
    "triage_agent = Agent(\n",
    "   name=\"Customer Service\",\n",
    "   instructions=\"\"\"You are the initial customer service contact who helps direct\n",
    "   customers to the right specialist.\n",
    "  \n",
    "   If the customer has billing or payment questions, hand off to the Billing Agent.\n",
    "   If the customer has technical problems or how-to questions, hand off to the Technical Agent.\n",
    "   For general inquiries or questions about products, you can answer directly.\n",
    "  \n",
    "   Always be polite and helpful, and ensure a smooth transition when handing off to specialists.\"\"\",\n",
    "   handoffs=[billing_agent, technical_agent],  # Direct handoff to specialist agents; let the llm to decide which agent to handoff to\n",
    ")"
   ]
  },
  {
   "cell_type": "markdown",
   "metadata": {},
   "source": [
    "- Run process"
   ]
  },
  {
   "cell_type": "code",
   "execution_count": 11,
   "metadata": {},
   "outputs": [
    {
     "name": "stdout",
     "output_type": "stream",
     "text": [
      "Billing inquiry response:\n",
      "I'm sorry to hear about the double charge. Let's get that sorted out for you. Can you provide me with your account details or the transaction IDs for those charges? This will help me process your refund more efficiently.\n",
      "\n",
      "Technical inquiry response:\n",
      "Try these steps: \n",
      "\n",
      "1. Clear app cache.\n",
      "2. Restart the app.\n",
      "3. Check for updates.\n",
      "4. Reboot your device.\n",
      "\n",
      "This should help with the crashing issue.\n",
      "\n",
      "General inquiry response:\n",
      "Our business hours are Monday to Friday, 9:00 AM to 5:00 PM. If you have any specific questions, feel free to ask!\n"
     ]
    }
   ],
   "source": [
    "async def handle_customer_request(request):\n",
    "   runner = Runner()\n",
    "   result = await runner.run(triage_agent, request)\n",
    "   return result\n",
    "\n",
    "\n",
    "# Example customer inquiries\n",
    "billing_inquiry = (\n",
    "   \"I was charged twice for my subscription last month. Can I get a refund?\"\n",
    ")\n",
    "technical_inquiry = (\n",
    "   \"The app keeps crashing when I try to upload photos. How can I fix this? Give me the shortest solution possible.\"\n",
    ")\n",
    "general_inquiry = \"What are your business hours?\"\n",
    "\n",
    "# Process the different types of inquiries\n",
    "billing_response = await handle_customer_request(billing_inquiry)\n",
    "print(f\"Billing inquiry response:\\n{billing_response.final_output}\\n\")\n",
    "\n",
    "technical_response = await handle_customer_request(technical_inquiry)\n",
    "print(f\"Technical inquiry response:\\n{technical_response.final_output}\\n\")\n",
    "\n",
    "general_response = await handle_customer_request(general_inquiry)\n",
    "print(f\"General inquiry response:\\n{general_response.final_output}\")"
   ]
  },
  {
   "cell_type": "markdown",
   "metadata": {},
   "source": [
    "### Customizing handoffs\n",
    "For more control over handoffs, you can use the handoff() function instead of passing agents directly to the handoffs parameter:"
   ]
  },
  {
   "cell_type": "code",
   "execution_count": 13,
   "metadata": {},
   "outputs": [
    {
     "name": "stdout",
     "output_type": "stream",
     "text": [
      "[LOG] Account handoff triggered at 2025-03-31 04:23:27\n"
     ]
    }
   ],
   "source": [
    "from agents import RunContextWrapper\n",
    "from datetime import datetime\n",
    "\n",
    "# Create an agent that handles account-related questions\n",
    "account_agent = Agent(\n",
    "   name=\"Account Management\",\n",
    "   instructions=\"\"\"You help customers with account-related issues such as\n",
    "   password resets, account settings, and profile updates.\"\"\",\n",
    ")\n",
    "\n",
    "\n",
    "# Custom handoff callback function\n",
    "async def log_account_handoff(ctx: RunContextWrapper[None]):\n",
    "   print(\n",
    "       f\"[LOG] Account handoff triggered at {datetime.now().strftime('%Y-%m-%d %H:%M:%S')}\"\n",
    "   )\n",
    "   # In a real app, you might log to a database or alert a human supervisor\n",
    "\n",
    "\n",
    "# Create a triage agent with customized handoffs\n",
    "enhanced_triage_agent = Agent(\n",
    "   name=\"Enhanced Customer Service\",\n",
    "   instructions=\"\"\"You are the initial customer service contact who directs\n",
    "   customers to the right specialist.\n",
    "  \n",
    "   If the customer has billing or payment questions, hand off to the Billing Agent.\n",
    "   If the customer has technical problems, hand off to the Technical Agent.\n",
    "   If the customer needs to change account settings, hand off to the Account Management agent.\n",
    "   For general inquiries, you can answer directly.\"\"\",\n",
    "   handoffs=[\n",
    "       billing_agent,  # Basic handoff\n",
    "       handoff(  # Customized handoff\n",
    "           agent=account_agent,\n",
    "           on_handoff=log_account_handoff,  # Callback function\n",
    "           tool_name_override=\"escalate_to_account_team\",  # Custom tool name\n",
    "           tool_description_override=\"Transfer the customer to the account management team for help with account settings, password resets, etc.\",\n",
    "       ),\n",
    "       technical_agent,  # Basic handoff\n",
    "   ],\n",
    ")\n",
    "\n",
    "result = await Runner.run(\n",
    "   enhanced_triage_agent, \"I need to change my password.\"\n",
    ")"
   ]
  },
  {
   "cell_type": "markdown",
   "metadata": {},
   "source": [
    "### Passing data during handoffs \n",
    "With this setup, when the service agent decides to hand off to the escalation agent, it will provide structured data about why the escalation is happening. The system will validate this data against the EscalationData model before passing it to the process_escalation callback."
   ]
  },
  {
   "cell_type": "code",
   "execution_count": 14,
   "metadata": {},
   "outputs": [],
   "source": [
    "from pydantic import BaseModel\n",
    "from typing import Optional\n",
    "from agents import Agent, handoff, RunContextWrapper\n",
    "\n",
    "# Define the data structure to pass during handoff\n",
    "class EscalationData(BaseModel):\n",
    "   reason: str\n",
    "   priority: Optional[str]\n",
    "   customer_tier: Optional[str]\n",
    "\n",
    "\n",
    "# Handoff callback that processes the escalation data\n",
    "async def process_escalation(ctx: RunContextWrapper, input_data: EscalationData):\n",
    "   print(f\"[ESCALATION] Reason: {input_data.reason}\")\n",
    "   print(f\"[ESCALATION] Priority: {input_data.priority}\")\n",
    "   print(f\"[ESCALATION] Customer tier: {input_data.customer_tier}\")\n",
    "   # You might use this data to prioritize responses, alert human agents, etc.\n",
    "# Create an escalation agent\n",
    "escalation_agent = Agent(\n",
    "   name=\"Escalation Agent\",\n",
    "   instructions=\"\"\"You handle complex or sensitive customer issues that require\n",
    "   special attention. Always address the customer's concerns with extra care and detail.\"\"\",\n",
    ")\n",
    "\n",
    "# Create a service agent that can escalate with context\n",
    "service_agent = Agent(\n",
    "   name=\"Service Agent\",\n",
    "   instructions=\"\"\"You are a customer service agent who handles general inquiries.\n",
    "  \n",
    "   For complex issues, escalate to the Escalation Agent and provide:\n",
    "   - The reason for escalation\n",
    "   - Priority level (Low, Normal, High, Urgent)\n",
    "   - Customer tier if mentioned (Standard, Premium, VIP)\"\"\",\n",
    "   handoffs=[\n",
    "       handoff(\n",
    "           agent=escalation_agent,\n",
    "           on_handoff=process_escalation,\n",
    "           input_type=EscalationData,\n",
    "       )\n",
    "   ],\n",
    ")"
   ]
  },
  {
   "cell_type": "code",
   "execution_count": 15,
   "metadata": {},
   "outputs": [],
   "source": [
    "from agents import trace"
   ]
  },
  {
   "cell_type": "markdown",
   "metadata": {},
   "source": [
    "### Trace and conversation history"
   ]
  },
  {
   "cell_type": "code",
   "execution_count": 21,
   "metadata": {},
   "outputs": [
    {
     "name": "stdout",
     "output_type": "stream",
     "text": [
      "[ESCALATION] Reason: Customer requests escalation to speak with a manager about a serious account issue.\n",
      "[ESCALATION] Priority: High\n",
      "[ESCALATION] Customer tier: VIP\n",
      "1st response: I'm sorry to hear you're having an issue with your account. Can you please provide more details about the problem?\n",
      "2nd response: I've escalated your request to a manager. They will be in touch with you shortly to address your concerns. If there's anything else I can assist you with in the meantime, please let me know.\n"
     ]
    }
   ],
   "source": [
    "with trace(\"customer service workflow\"): \n",
    "    first_result = await Runner.run(service_agent, f\"How are you, i got a serious problem with my account\")\n",
    "    second_result = await Runner.run(service_agent, first_result.to_input_list()+[{\"role\": \"user\", \"content\": \"I want to talk to your manager, please escalate, it is high priority. I am VIP customer\"}])\n",
    "    ## passing the conversation history to the agent from previous results \n",
    "    print(f\"1st response: {first_result.final_output}\")\n",
    "    print(f\"2nd response: {second_result.final_output}\")"
   ]
  },
  {
   "cell_type": "code",
   "execution_count": 22,
   "metadata": {},
   "outputs": [
    {
     "data": {
      "text/plain": [
       "[{'content': 'How are you, i got a serious problem with my account',\n",
       "  'role': 'user'},\n",
       " {'id': 'msg_67ea1fef0a588192af7ca9729815d68904aaba7f46c4af9f',\n",
       "  'content': [{'annotations': [],\n",
       "    'text': \"I'm sorry to hear you're having an issue with your account. Can you please provide more details about the problem?\",\n",
       "    'type': 'output_text'}],\n",
       "  'role': 'assistant',\n",
       "  'status': 'completed',\n",
       "  'type': 'message'},\n",
       " {'role': 'user',\n",
       "  'content': 'I want to talk to your manager, please escalate, it is high priority. I am VIP customer'},\n",
       " {'arguments': '{\"reason\":\"Customer requests escalation to speak with a manager about a serious account issue.\",\"priority\":\"High\",\"customer_tier\":\"VIP\"}',\n",
       "  'call_id': 'call_QMnaCT3Qs8S2fLSnS3Ff7Yzi',\n",
       "  'name': 'transfer_to_escalation_agent',\n",
       "  'type': 'function_call',\n",
       "  'id': 'fc_67ea1ff016ac8192b5979e7b0a8e33ea04aaba7f46c4af9f',\n",
       "  'status': 'completed'},\n",
       " {'call_id': 'call_QMnaCT3Qs8S2fLSnS3Ff7Yzi',\n",
       "  'output': \"{'assistant': 'Escalation Agent'}\",\n",
       "  'type': 'function_call_output'},\n",
       " {'id': 'msg_67ea1ff11d948192a447f460c26e4a3004aaba7f46c4af9f',\n",
       "  'content': [{'annotations': [],\n",
       "    'text': \"I've escalated your request to a manager. They will be in touch with you shortly to address your concerns. If there's anything else I can assist you with in the meantime, please let me know.\",\n",
       "    'type': 'output_text'}],\n",
       "  'role': 'assistant',\n",
       "  'status': 'completed',\n",
       "  'type': 'message'}]"
      ]
     },
     "execution_count": 22,
     "metadata": {},
     "output_type": "execute_result"
    }
   ],
   "source": [
    "second_result.to_input_list()"
   ]
  },
  {
   "cell_type": "code",
   "execution_count": null,
   "metadata": {},
   "outputs": [],
   "source": []
  },
  {
   "cell_type": "code",
   "execution_count": null,
   "metadata": {},
   "outputs": [],
   "source": []
  },
  {
   "cell_type": "code",
   "execution_count": null,
   "metadata": {},
   "outputs": [],
   "source": []
  }
 ],
 "metadata": {
  "kernelspec": {
   "display_name": "llm",
   "language": "python",
   "name": "python3"
  },
  "language_info": {
   "codemirror_mode": {
    "name": "ipython",
    "version": 3
   },
   "file_extension": ".py",
   "mimetype": "text/x-python",
   "name": "python",
   "nbconvert_exporter": "python",
   "pygments_lexer": "ipython3",
   "version": "3.10.16"
  }
 },
 "nbformat": 4,
 "nbformat_minor": 2
}
