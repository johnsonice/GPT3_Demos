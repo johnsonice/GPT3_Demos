{
 "cells": [
  {
   "cell_type": "markdown",
   "metadata": {},
   "source": [
    "## OpenAI Agent SDK"
   ]
  },
  {
   "cell_type": "markdown",
   "metadata": {},
   "source": [
    "\n",
    "Documentation: https://openai.github.io/openai-agents-python/agents/\n"
   ]
  },
  {
   "cell_type": "code",
   "execution_count": 14,
   "metadata": {},
   "outputs": [
    {
     "data": {
      "text/plain": [
       "True"
      ]
     },
     "execution_count": 14,
     "metadata": {},
     "output_type": "execute_result"
    }
   ],
   "source": [
    "import os\n",
    "from dotenv import load_dotenv\n",
    "load_dotenv()\n",
    "\n",
    "from agents import Agent, Runner\n",
    "import nest_asyncio\n",
    "nest_asyncio.apply()\n",
    "\n",
    "# Access your API key\n",
    "api_key = os.getenv(\"OPENAI_API_KEY\")\n",
    "if not api_key:\n",
    "   raise ValueError(\"OPENAI_API_KEY not found in .env file\")"
   ]
  },
  {
   "cell_type": "markdown",
   "metadata": {},
   "source": [
    "### Basics"
   ]
  },
  {
   "cell_type": "code",
   "execution_count": 19,
   "metadata": {},
   "outputs": [
    {
     "name": "stdout",
     "output_type": "stream",
     "text": [
      "Code within itself,  \n",
      "A loop of endless echoes—  \n",
      "Infinite unfolds.\n",
      "Hello! Yes, I'm working correctly. How can I assist you today?\n"
     ]
    }
   ],
   "source": [
    "## Sync run \n",
    "agent = Agent(name=\"Assistant\", instructions=\"You are a helpful assistant\",model=\"gpt-4o-mini\")\n",
    "result = Runner.run_sync(agent, \"Write a haiku about recursion in programming.\")\n",
    "print(result.final_output)\n",
    "\n",
    "## async run \n",
    "agent = Agent(\n",
    "   name=\"Test Agent\",\n",
    "   instructions=\"You are a helpful assistant that provides concise responses.\",\n",
    "   model=\"gpt-4o-mini\"\n",
    ")\n",
    "result = await Runner.run(agent, \"Hello! Are you working correctly?\")\n",
    "print(result.final_output)\n"
   ]
  },
  {
   "cell_type": "markdown",
   "metadata": {},
   "source": [
    "### Some Agent Params"
   ]
  },
  {
   "cell_type": "markdown",
   "metadata": {},
   "source": [
    "### Best practices for writing instructions\n",
    "- Be specific: Clearly define the agent’s role, personality, and limitations\n",
    "- Set boundaries: Explicitly state what topics or actions the agent should avoid\n",
    "- Define interaction patterns: Explain how the agent should handle various types of inputs\n",
    "- Establish knowledge boundaries: Clarify what the agent should know and when it should acknowledge uncertainty"
   ]
  },
  {
   "cell_type": "code",
   "execution_count": null,
   "metadata": {},
   "outputs": [],
   "source": [
    "from agents import ModelSettings"
   ]
  },
  {
   "cell_type": "code",
   "execution_count": 22,
   "metadata": {},
   "outputs": [],
   "source": [
    "advanced_agent = Agent(\n",
    "   name=\"Advanced Assistant\",\n",
    "   instructions=\"\"\"You are a professional, concise assistant who always provides\n",
    "   accurate information. When you don't know something, clearly state that.\n",
    "   Focus on giving actionable insights when answering questions.\"\"\",\n",
    "   model=\"gpt-4o-mini\",\n",
    "   model_settings=ModelSettings(\n",
    "       temperature=0.3,  # Lower for more deterministic outputs (0.0-2.0)\n",
    "       max_tokens=1024,  # Maximum length of response\n",
    "   ),\n",
    "   tools=[] \n",
    ")"
   ]
  },
  {
   "cell_type": "markdown",
   "metadata": {},
   "source": [
    "### Agent tools use"
   ]
  },
  {
   "cell_type": "code",
   "execution_count": 23,
   "metadata": {},
   "outputs": [],
   "source": [
    "from agents import WebSearchTool"
   ]
  },
  {
   "cell_type": "code",
   "execution_count": 32,
   "metadata": {},
   "outputs": [],
   "source": [
    "# Create a research assistant with web search capability\n",
    "research_assistant = Agent(\n",
    "   name=\"Research Assistant\",\n",
    "   instructions=\"\"\"You are a research assistant that helps users find and summarize information.\n",
    "   When asked about a topic:\n",
    "   1. Search the web for relevant, up-to-date information\n",
    "   2. Synthesize the information into a clear, concise summary\n",
    "   3. Structure your response with headings and bullet points when appropriate\n",
    "   4. Always cite your sources at the end of your response\n",
    "  \n",
    "   If the information might be time-sensitive or rapidly changing, mention when the search was performed.\n",
    "   \"\"\",\n",
    "   tools=[WebSearchTool(\n",
    "      user_location={\"type\": \"approximate\", \"city\": \"New York\"},  # Provides geographic context for local search queries\n",
    "      search_context_size='medium'   ## high medium low\n",
    "      )]\n",
    "   )"
   ]
  },
  {
   "cell_type": "code",
   "execution_count": 33,
   "metadata": {},
   "outputs": [
    {
     "name": "stdout",
     "output_type": "stream",
     "text": [
      "RunResult:\n",
      "- Last agent: Agent(name=\"Research Assistant\", ...)\n",
      "- Final output (str):\n",
      "    As of March 25, 2025, personal productivity applications have seen significant advancements, particularly through the integration of artificial intelligence (AI) and the development of autonomous AI agents.\n",
      "    \n",
      "    **Integration of AI in Productivity Tools**\n",
      "    \n",
      "    AI has been increasingly embedded into productivity applications to enhance efficiency and user experience. Notable developments include:\n",
      "    \n",
      "    - **AI-Powered Assistants**: Applications like Notion have introduced AI assistants capable of drafting, summarizing, and refining content within user notes, facilitating collaborative projects and individual brainstorming. ([eti.co.ke](https://eti.co.ke/how-ai-is-changing-personal-productivity-apps-you-need/?utm_source=openai))\n",
      "    \n",
      "    - **Intelligent Task Management**: Tools such as Todoist have integrated AI to help users prioritize tasks based on deadlines, importance, and workload, suggesting optimal times for task completion. ([eti.co.ke](https://eti.co.ke/how-ai-is-changing-personal-productivity-apps-you-need/?utm_source=openai))\n",
      "    \n",
      "    - **Enhanced Writing Support**: Grammarly's AI-driven writing assistant offers real-time grammar checks, tone suggestions, and advanced features like rewriting for clarity or creativity, improving written communication. ([eti.co.ke](https://eti.co.ke/how-ai-is-changing-personal-productivity-apps-you-need/?utm_source=openai))\n",
      "    \n",
      "    **Emergence of Autonomous AI Agents**\n",
      "    \n",
      "    The development of autonomous AI agents marks a transformative shift in personal productivity:\n",
      "    \n",
      "    - **Task Automation**: Startups like Anthropic have created systems capable of performing routine tasks across various applications and websites, streamlining workflows and reducing manual effort. ([ft.com](https://www.ft.com/content/a0e54dd5-b270-42cc-8c4c-18a0b8b3e6cc?utm_source=openai))\n",
      "    \n",
      "    - **Integrated Digital Labor**: These AI agents can independently execute tasks, make decisions, and collaborate with other agents, offering scalable digital labor that enhances operational efficiency and cost-effectiveness. ([time.com](https://time.com/7178872/agents-unlimited-age/?utm_source=openai))\n",
      "    \n",
      "    **AI Integration in Major Productivity Suites**\n",
      "    \n",
      "    Leading technology companies are embedding AI into their productivity suites:\n",
      "    \n",
      "    - **Microsoft 365 Copilot**: Microsoft offers an AI-powered assistant within its Office suite, designed to assist with tasks like drafting emails and generating reports. ([axios.com](https://www.axios.com/newsletters/axios-ai-plus-f20ebce0-d64e-11ef-a5af-c53918672a6d?utm_source=openai))\n",
      "    \n",
      "    - **Google Workspace with Gemini Advanced**: Google has incorporated its Gemini Advanced chatbot into its Workspace bundle, aiming to enhance user productivity through AI-driven assistance. ([axios.com](https://www.axios.com/newsletters/axios-ai-plus-f20ebce0-d64e-11ef-a5af-c53918672a6d?utm_source=openai))\n",
      "    \n",
      "    These integrations reflect a broader trend of embedding AI into everyday productivity tools to automate tasks and provide intelligent assistance.\n",
      "    \n",
      "    **Conclusion**\n",
      "    \n",
      "    The landscape of personal productivity applications is rapidly evolving, with AI integration and autonomous agents playing pivotal roles. These advancements aim to streamline workflows, automate routine tasks, and offer intelligent assistance, thereby enhancing overall productivity.\n",
      "    \n",
      "    *Note: The information provided is based on developments up to March 25, 2025.* \n",
      "- 2 new item(s)\n",
      "- 1 raw response(s)\n",
      "- 0 input guardrail result(s)\n",
      "- 0 output guardrail result(s)\n",
      "(See `RunResult` for more details)\n"
     ]
    }
   ],
   "source": [
    "# Usage example (in Jupyter notebook)\n",
    "summary = Runner.run_sync(research_assistant, \"Latest developments in personal productivity apps.\")\n",
    "print(summary)"
   ]
  },
  {
   "cell_type": "markdown",
   "metadata": {},
   "source": [
    "#### Basic Function tool "
   ]
  },
  {
   "cell_type": "code",
   "execution_count": 34,
   "metadata": {},
   "outputs": [],
   "source": [
    "from agents import function_tool"
   ]
  },
  {
   "cell_type": "code",
   "execution_count": 35,
   "metadata": {},
   "outputs": [
    {
     "name": "stdout",
     "output_type": "stream",
     "text": [
      "Bright sun fills the sky,  \n",
      "New York dances in warm light,  \n",
      "Joy in every stride.  \n"
     ]
    }
   ],
   "source": [
    "@function_tool\n",
    "def get_weather(city: str) -> str:\n",
    "    return f\"The weather in {city} is sunny\"\n",
    "\n",
    "agent = Agent(\n",
    "    name=\"Haiku agent\",\n",
    "    instructions=\"Always respond in haiku form\",\n",
    "    model=\"gpt-4o-mini\",\n",
    "    tools=[get_weather],\n",
    ")\n",
    "results = Runner.run_sync(agent, \"what is the weather in new york?\")\n",
    "print(results.final_output)"
   ]
  },
  {
   "cell_type": "markdown",
   "metadata": {},
   "source": [
    "#### Structured output"
   ]
  },
  {
   "cell_type": "code",
   "execution_count": 37,
   "metadata": {},
   "outputs": [],
   "source": [
    "from pydantic import BaseModel\n",
    "from typing import List, Optional\n",
    "# Define person data model\n",
    "class Person(BaseModel):\n",
    "   name: str\n",
    "   role: Optional[str]\n",
    "   contact: Optional[str]\n",
    "# Define meeting data model\n",
    "class Meeting(BaseModel):\n",
    "   date: str\n",
    "   time: str\n",
    "   location: Optional[str]\n",
    "   duration: Optional[str]\n",
    "# Define task data model\n",
    "class Task(BaseModel):\n",
    "   description: str\n",
    "   assignee: Optional[str]\n",
    "   deadline: Optional[str]\n",
    "   priority: Optional[str]\n",
    "# Define the complete email data model\n",
    "class EmailData(BaseModel):\n",
    "   subject: str\n",
    "   sender: Person\n",
    "   recipients: List[Person]\n",
    "   main_points: List[str]\n",
    "   meetings: List[Meeting]\n",
    "   tasks: List[Task]\n",
    "   next_steps: Optional[str]"
   ]
  },
  {
   "cell_type": "code",
   "execution_count": null,
   "metadata": {},
   "outputs": [],
   "source": [
    "# Create an email extraction agent with structured output\n",
    "email_extractor = Agent(\n",
    "   name=\"Email Extractor\",\n",
    "   instructions=\"\"\"You are an assistant that extracts structured information from emails.\n",
    "  \n",
    "   When given an email, carefully identify:\n",
    "   - Subject and main points\n",
    "   - People mentioned (names, roles, contact info)\n",
    "   - Meetings (dates, times, locations)\n",
    "   - Tasks or action items (with assignees and deadlines)\n",
    "   - Next steps or follow-ups\n",
    "  \n",
    "   Extract this information as structured data. If something is unclear or not mentioned,\n",
    "   leave those fields empty rather than making assumptions.\n",
    "   \"\"\",\n",
    "   output_type=EmailData,  # This tells the agent to return data in EmailData format\n",
    ")"
   ]
  },
  {
   "cell_type": "code",
   "execution_count": 38,
   "metadata": {},
   "outputs": [],
   "source": [
    "# For simple lists\n",
    "agent_with_list_output = Agent(\n",
    "   name=\"List Generator\",\n",
    "   instructions=\"Generate lists of items based on the user's request.\",\n",
    "   output_type=list[str],  # Returns a list of strings\n",
    ")\n",
    "\n",
    "# For dictionaries\n",
    "agent_with_dict_output = Agent(\n",
    "   name=\"Dictionary Generator\",\n",
    "   instructions=\"Create key-value pairs based on the input.\",\n",
    "   output_type=dict[\n",
    "       str, int\n",
    "   ],  # Returns a dictionary with string keys and integer values\n",
    ")\n",
    "\n",
    "# For simple primitive types\n",
    "agent_with_bool_output = Agent(\n",
    "   name=\"Decision Maker\",\n",
    "   instructions=\"Answer yes/no questions with True or False.\",\n",
    "   output_type=bool,  # Returns a boolean\n",
    ")"
   ]
  },
  {
   "cell_type": "code",
   "execution_count": null,
   "metadata": {},
   "outputs": [],
   "source": []
  },
  {
   "cell_type": "markdown",
   "metadata": {},
   "source": [
    "- see context and output types here : https://openai.github.io/openai-agents-python/agents/"
   ]
  },
  {
   "cell_type": "markdown",
   "metadata": {},
   "source": [
    "#### Agent as tool "
   ]
  },
  {
   "cell_type": "code",
   "execution_count": 36,
   "metadata": {},
   "outputs": [
    {
     "name": "stdout",
     "output_type": "stream",
     "text": [
      "If you need assistance with implementing any of these steps, or if you'd like to discuss using specific tools, feel free to ask!\n"
     ]
    }
   ],
   "source": [
    "# Specialist agents\n",
    "note_taking_agent = Agent(\n",
    "   name=\"Note Manager\",\n",
    "   instructions=\"You help users take and organize notes efficiently.\",\n",
    "   # In a real application, this agent would have note-taking tools\n",
    ")\n",
    "task_management_agent = Agent(\n",
    "   name=\"Task Manager\",\n",
    "   instructions=\"You help users manage tasks, deadlines, and priorities.\",\n",
    "   # In a real application, this agent would have task management tools\n",
    ")\n",
    "# Coordinator agent that uses specialists as tools\n",
    "productivity_assistant = Agent(\n",
    "   name=\"Productivity Assistant\",\n",
    "   instructions=\"\"\"You are a productivity assistant that helps users organize their work and personal life.\n",
    "  \n",
    "   For note-taking questions or requests, use the note_taking tool.\n",
    "   For task and deadline management, use the task_management tool.\n",
    "  \n",
    "   Help the user decide which tool is appropriate based on their request,\n",
    "   and coordinate between different aspects of productivity.\n",
    "   \"\"\",\n",
    "   tools=[\n",
    "       note_taking_agent.as_tool(\n",
    "           tool_name=\"note_taking\",\n",
    "           tool_description=\"For taking, organizing, and retrieving notes and information\"\n",
    "       ),\n",
    "       task_management_agent.as_tool(\n",
    "           tool_name=\"task_management\",\n",
    "           tool_description=\"For managing tasks, setting deadlines, and tracking priorities\"\n",
    "       )\n",
    "   ]\n",
    ")\n",
    "result = Runner.run_sync(productivity_assistant, \"I need to keep track of my project deadlines\")\n",
    "print(result.final_output)"
   ]
  },
  {
   "cell_type": "code",
   "execution_count": null,
   "metadata": {},
   "outputs": [],
   "source": []
  },
  {
   "cell_type": "code",
   "execution_count": null,
   "metadata": {},
   "outputs": [],
   "source": []
  },
  {
   "cell_type": "code",
   "execution_count": null,
   "metadata": {},
   "outputs": [],
   "source": []
  },
  {
   "cell_type": "code",
   "execution_count": null,
   "metadata": {},
   "outputs": [],
   "source": []
  },
  {
   "cell_type": "code",
   "execution_count": null,
   "metadata": {},
   "outputs": [],
   "source": []
  },
  {
   "cell_type": "code",
   "execution_count": null,
   "metadata": {},
   "outputs": [],
   "source": []
  },
  {
   "cell_type": "code",
   "execution_count": null,
   "metadata": {},
   "outputs": [],
   "source": []
  },
  {
   "cell_type": "code",
   "execution_count": null,
   "metadata": {},
   "outputs": [],
   "source": []
  },
  {
   "cell_type": "code",
   "execution_count": null,
   "metadata": {},
   "outputs": [],
   "source": []
  },
  {
   "cell_type": "code",
   "execution_count": null,
   "metadata": {},
   "outputs": [],
   "source": []
  }
 ],
 "metadata": {
  "kernelspec": {
   "display_name": "llm",
   "language": "python",
   "name": "python3"
  },
  "language_info": {
   "codemirror_mode": {
    "name": "ipython",
    "version": 3
   },
   "file_extension": ".py",
   "mimetype": "text/x-python",
   "name": "python",
   "nbconvert_exporter": "python",
   "pygments_lexer": "ipython3",
   "version": "3.10.16"
  }
 },
 "nbformat": 4,
 "nbformat_minor": 2
}
