{
 "cells": [
  {
   "cell_type": "markdown",
   "metadata": {},
   "source": [
    "## Lite LLM "
   ]
  },
  {
   "cell_type": "code",
   "execution_count": 1,
   "metadata": {},
   "outputs": [],
   "source": [
    "import os\n",
    "from dotenv import load_dotenv\n",
    "load_dotenv()\n",
    "\n",
    "#from agents import Agent, Runner\n",
    "import nest_asyncio\n",
    "nest_asyncio.apply()\n",
    "\n",
    "# Access your API key\n",
    "if not os.getenv(\"OPENAI_API_KEY\"):\n",
    "   raise ValueError(\"OPENAI_API_KEY not found in .env file\")"
   ]
  },
  {
   "cell_type": "code",
   "execution_count": 2,
   "metadata": {},
   "outputs": [
    {
     "name": "stderr",
     "output_type": "stream",
     "text": [
      "/ephemeral/home/xiong/miniconda3/envs/llm/lib/python3.11/site-packages/pydantic/_internal/_config.py:345: UserWarning: Valid config keys have changed in V2:\n",
      "* 'fields' has been removed\n",
      "  warnings.warn(message, UserWarning)\n"
     ]
    }
   ],
   "source": [
    "from litellm import completion\n",
    "import pprint\n",
    "import textwrap\n",
    "from pydantic import BaseModel\n",
    "from typing import Optional"
   ]
  },
  {
   "cell_type": "markdown",
   "metadata": {},
   "source": [
    "#### call openai with formated output "
   ]
  },
  {
   "cell_type": "code",
   "execution_count": 3,
   "metadata": {},
   "outputs": [
    {
     "name": "stdout",
     "output_type": "stream",
     "text": [
      "Structured Weather Response:\n",
      "{\"location\":\"San Francisco, CA\",\"temperature\":\"58°F\",\"conditions\":\"Partly Cloudy\",\"humidity\":\"75%\",\"wind\":\"NW 15 mph\",\"summary\":\"The weather in San Francisco is cool and partly cloudy with a light breeze.\"}\n"
     ]
    }
   ],
   "source": [
    "# Define Pydantic model for structured weather response\n",
    "class WeatherResponse(BaseModel):\n",
    "    location: str\n",
    "    temperature: Optional[str] = None\n",
    "    conditions: Optional[str] = None\n",
    "    humidity: Optional[str] = None\n",
    "    wind: Optional[str] = None\n",
    "    summary: str\n",
    "\n",
    "## Call 4o mini with structured output\n",
    "messages=[{\"role\": \"system\", \"content\": \"You are a helpful weather assistant. Respond with structured weather information.\"},\n",
    "          {\"role\": \"user\", \"content\": \"what's the weather in SF\"}]\n",
    "\n",
    "response = completion(\n",
    "    messages=messages,\n",
    "    model='gpt-4o-mini',\n",
    "    max_completion_tokens=100,  ## equals to max output tokens\n",
    "    response_format=WeatherResponse  # Use Pydantic model for structured output\n",
    ")\n",
    "\n",
    "# Parse the structured response\n",
    "weather_data = response['choices'][0]['message']['content']\n",
    "print(\"Structured Weather Response:\")\n",
    "print(weather_data)"
   ]
  },
  {
   "cell_type": "markdown",
   "metadata": {},
   "source": [
    "#### call reasoning models "
   ]
  },
  {
   "cell_type": "code",
   "execution_count": 5,
   "metadata": {},
   "outputs": [
    {
     "name": "stdout",
     "output_type": "stream",
     "text": [
      "Raw Response:\n",
      "# Understanding Recursion in Programming\n",
      "\n",
      "Recursion is a programming technique where a function call\n"
     ]
    }
   ],
   "source": [
    "## call thinking models \n",
    "# Call o1-mini thinking model to get both reasoning and final answer\n",
    "messages = [{\"role\": \"user\", \"content\": \"Explain the concept of recursion in programming with a simple example.Please think carefully and provide a detailed explanation.\"}]\n",
    "\n",
    "# Make the completion call to o1-mini\n",
    "response = completion(\n",
    "    model=\"anthropic/claude-3-7-sonnet-20250219\",\n",
    "    messages=messages,\n",
    "    #reasoning_effort=\"low\", \n",
    "    )\n",
    "# Check if reasoning content exists and print accordingly\n",
    "if response['choices'][0]['message'].get('reasoning_content'):\n",
    "    print(\"Reasoning Content:\")\n",
    "    print(response['choices'][0]['message']['reasoning_content'])\n",
    "    print(\"\\nFinal Answer:\")\n",
    "    print(response.choices[0].message.content[:100])\n",
    "else:\n",
    "    print(\"Raw Response:\")\n",
    "    print(response.choices[0].message.content[:100])\n",
    "\n"
   ]
  },
  {
   "cell_type": "markdown",
   "metadata": {},
   "source": [
    "#### Call gogole gemini 2.5 "
   ]
  },
  {
   "cell_type": "code",
   "execution_count": 8,
   "metadata": {},
   "outputs": [
    {
     "name": "stdout",
     "output_type": "stream",
     "text": [
      "The capital of France is **Paris**.\n"
     ]
    }
   ],
   "source": [
    "response = completion(\n",
    "  model=\"gemini/gemini-2.5-flash\",\n",
    "  messages=[{\"role\": \"user\", \"content\": \"What is the capital of France?\"}],\n",
    "  thinking={\"type\": \"enabled\", \"budget_tokens\": 1024},\n",
    ")\n",
    "\n",
    "print(response.choices[0].message.content)"
   ]
  },
  {
   "cell_type": "markdown",
   "metadata": {},
   "source": [
    "#### call any other openai competable api  [netmind Error]"
   ]
  },
  {
   "cell_type": "code",
   "execution_count": 9,
   "metadata": {},
   "outputs": [],
   "source": [
    "#### there is a problem with server setup \n",
    "response = completion(\n",
    "            model=\"openai/Qwen/QwQ-32B\",\n",
    "            messages=messages,\n",
    "            api_base=\"https://api.netmind.ai/inference-api/openai/v1\",\n",
    "            api_key=os.getenv(\"NETMIND_API_KEY\"),\n",
    "            temperature=0.2,\n",
    "            max_tokens=2000)"
   ]
  },
  {
   "cell_type": "markdown",
   "metadata": {},
   "source": [
    "## Other useages \n",
    "- https://docs.litellm.ai/docs/providers/gemini"
   ]
  },
  {
   "cell_type": "code",
   "execution_count": null,
   "metadata": {},
   "outputs": [],
   "source": []
  },
  {
   "cell_type": "code",
   "execution_count": null,
   "metadata": {},
   "outputs": [],
   "source": []
  },
  {
   "cell_type": "code",
   "execution_count": null,
   "metadata": {},
   "outputs": [],
   "source": []
  },
  {
   "cell_type": "code",
   "execution_count": null,
   "metadata": {},
   "outputs": [],
   "source": []
  },
  {
   "cell_type": "code",
   "execution_count": null,
   "metadata": {},
   "outputs": [],
   "source": []
  }
 ],
 "metadata": {
  "kernelspec": {
   "display_name": "llm",
   "language": "python",
   "name": "python3"
  },
  "language_info": {
   "codemirror_mode": {
    "name": "ipython",
    "version": 3
   },
   "file_extension": ".py",
   "mimetype": "text/x-python",
   "name": "python",
   "nbconvert_exporter": "python",
   "pygments_lexer": "ipython3",
   "version": "3.11.11"
  }
 },
 "nbformat": 4,
 "nbformat_minor": 2
}
