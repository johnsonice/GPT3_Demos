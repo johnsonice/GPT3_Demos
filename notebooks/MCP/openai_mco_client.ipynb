{
  "cells": [
    {
      "cell_type": "code",
      "execution_count": 2,
      "metadata": {},
      "outputs": [
        {
          "name": "stdout",
          "output_type": "stream",
          "text": [
            "✅ OpenAI Remote MCP Setup Complete\n"
          ]
        }
      ],
      "source": [
        "\"\"\"\n",
        "OpenAI Remote MCP Example - Simplified Version\n",
        "This notebook demonstrates how to use OpenAI's remote MCP with the standard OpenAI Python client.\n",
        "\n",
        "Based on: https://platform.openai.com/docs/guides/tools-remote-mcp\n",
        "\"\"\"\n",
        "\n",
        "import os\n",
        "import asyncio\n",
        "import subprocess\n",
        "from openai import OpenAI\n",
        "from dotenv import load_dotenv\n",
        "\n",
        "# Load environment variables\n",
        "load_dotenv(\"../../.env\")\n",
        "\n",
        "print(\"✅ OpenAI Remote MCP Setup Complete\")\n"
      ]
    },
    {
      "cell_type": "code",
      "execution_count": 3,
      "metadata": {},
      "outputs": [],
      "source": [
        "from openai import OpenAI\n",
        "\n",
        "client = OpenAI()"
      ]
    },
    {
      "cell_type": "markdown",
      "metadata": {},
      "source": [
        "#### Example call third party MCP service"
      ]
    },
    {
      "cell_type": "code",
      "execution_count": 4,
      "metadata": {},
      "outputs": [
        {
          "name": "stdout",
          "output_type": "stream",
          "text": [
            "As of the **2025-03-26 version of the MCP (Mesh Control Protocol) specification**, the following **transport protocols** are supported:\n",
            "\n",
            "1. **HTTP/1.1**\n",
            "2. **HTTP/2**\n",
            "3. **gRPC**\n",
            "4. **QUIC (HTTP/3)**\n",
            "5. **Unix Domain Sockets (UDS)**\n",
            "6. **TLS (for secured transport over the above protocols)**\n",
            "\n",
            "**Key Notes:**\n",
            "- The MCP spec has evolved to include modern, high-performance transports like **gRPC** and **QUIC** in addition to standard HTTP/1.1 and HTTP/2.\n",
            "- **gRPC** is recommended for efficiency, bidirectional streaming, and native protobuf support.\n",
            "- **HTTP/2** support ensures backward compatibility and interoperability with legacy systems.\n",
            "- **QUIC (HTTP/3)** is included as experimental or optional in some implementations but is recognized in the spec.\n",
            "- **Unix Domain Sockets** are supported primarily for local agent-to-agent (sidecar) communication.\n",
            "- **TLS** is specified as the encryption mechanism for secure communications over any of the supported transports.\n",
            "\n",
            "**References:**  \n",
            "- [Official MCP Specification 2025-03-26](https://github.com/istio/api/blob/master/mcp/v1alpha1/README.md)  \n",
            "- [MCP Transport Guide (2025)](https://istio.io/latest/docs/reference/protocols/mcp/)\n",
            "\n",
            "If you need details from a specific implementation or have a particular use-case (e.g., for control-plane vs data-plane), let me know!\n"
          ]
        }
      ],
      "source": [
        "resp = client.responses.create(\n",
        "    model=\"gpt-4.1\",\n",
        "    tools=[\n",
        "        {\n",
        "            \"type\": \"mcp\",\n",
        "            \"server_label\": \"deepwiki\",\n",
        "            \"server_url\": \"https://mcp.deepwiki.com/mcp\",\n",
        "            \"require_approval\": \"never\",\n",
        "        },\n",
        "    ],\n",
        "    input=\"What transport protocols are supported in the 2025-03-26 version of the MCP spec?\",\n",
        ")\n",
        "\n",
        "print(resp.output_text)"
      ]
    },
    {
      "cell_type": "markdown",
      "metadata": {},
      "source": [
        "### Example of calling selfhosted MCP server from OpenAI\n",
        "- read doc: https://gofastmcp.com/integrations/openai#deploy-the-server\n",
        "- openai require the mcp server to be public accessible \n",
        "- temp deploy with ngrok"
      ]
    },
    {
      "cell_type": "code",
      "execution_count": 5,
      "metadata": {},
      "outputs": [
        {
          "name": "stdout",
          "output_type": "stream",
          "text": [
            "🔍 Testing OpenAI Remote MCP with new server...\n",
            "✅ Success! Response received:\n",
            "Here’s a general process for reporting a security incident, but **please consult your company’s official security policy or IT department for the exact procedure**. If you’d like, I can provide a sample template or steps you can tailor to your organization.\n",
            "\n",
            "**General Process for Reporting a Security Incident:**\n",
            "\n",
            "1. **Identify the Incident**\n",
            "   - Recognize unusual or unauthorized activity (e.g., phishing emails, malware, lost/stolen device, unauthorized data access).\n",
            "\n",
            "2. **Do Not Investigate Alone**\n",
            "   - Avoid trying to fix the issue on your own, as it could worsen the situation or destroy important evidence.\n",
            "\n",
            "3. **Document Information**\n",
            "   - Record what you observed:  \n",
            "     - Date and time  \n",
            "     - Description of the incident (what happened, how, and when)  \n",
            "     - Any involved systems, files, or people  \n",
            "     - Evidence (screenshots, error messages, suspicious emails, etc.)\n",
            "\n",
            "4. **Report Immediately**\n",
            "   - Notify your designated contact point, typically:\n",
            "     - IT/Security Team (often via security@yourcompany.com or a hotline)\n",
            "     - Your manager or supervisor\n",
            "     - Follow your company's incident reporting form or system (if available)\n",
            "   - Do not use the affected device/account to report if you suspect a severe incident (use a different device/account if possible)\n",
            "\n",
            "5. **Follow Instructions**\n",
            "   - Cooperate with the security or IT team\n",
            "   - Do not discuss the incident broadly until instructed; confidentiality helps contain potential damage\n",
            "\n",
            "6. **Aftermath Review**\n",
            "   - Assist with follow-up investigation as needed\n",
            "   - Participate in incident review and prevention recommendations\n",
            "\n",
            "**If you need your company’s specific policy or reporting contact information, check your internal resources (intranet, employee handbook) or let me know if you want an example incident report template!**\n"
          ]
        }
      ],
      "source": [
        "# Make sure to start the server python kg_server.py -t http\n",
        "\n",
        "print(\"🔍 Testing OpenAI Remote MCP with new server...\")\n",
        "    # Test with the security incident question\n",
        "resp = client.responses.create(\n",
        "    model=\"gpt-4.1\",\n",
        "    tools=[\n",
        "        {\n",
        "            \"type\": \"mcp\",\n",
        "            \"server_label\": \"Knowledge-Base\",\n",
        "            \"server_url\": \"https://edd4-71-163-19-114.ngrok-free.app/mcp\",\n",
        "            \"require_approval\": \"never\",\n",
        "        },\n",
        "    ],\n",
        "    input=\"What is our process for reporting a security incident?\",\n",
        ")\n",
        "\n",
        "print(\"✅ Success! Response received:\")\n",
        "print(resp.output_text)\n",
        "\n",
        "\n"
      ]
    },
    {
      "cell_type": "markdown",
      "metadata": {},
      "source": []
    },
    {
      "cell_type": "code",
      "execution_count": null,
      "metadata": {},
      "outputs": [],
      "source": []
    }
  ],
  "metadata": {
    "kernelspec": {
      "display_name": "gpt",
      "language": "python",
      "name": "python3"
    },
    "language_info": {
      "codemirror_mode": {
        "name": "ipython",
        "version": 3
      },
      "file_extension": ".py",
      "mimetype": "text/x-python",
      "name": "python",
      "nbconvert_exporter": "python",
      "pygments_lexer": "ipython3",
      "version": "3.10.16"
    }
  },
  "nbformat": 4,
  "nbformat_minor": 2
}
