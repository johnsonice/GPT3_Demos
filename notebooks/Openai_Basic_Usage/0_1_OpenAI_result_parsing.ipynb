{
 "cells": [
  {
   "cell_type": "markdown",
   "metadata": {},
   "source": [
    "### OPEN AI result parsing"
   ]
  },
  {
   "cell_type": "code",
   "execution_count": 1,
   "metadata": {},
   "outputs": [],
   "source": [
    "import openai\n",
    "import os,getpass,sys\n",
    "sys.path.insert(0,'../libs')\n",
    "from llm_utils import BSAgent\n",
    "os.environ[\"OPENAI_API_KEY\"] = getpass.getpass(prompt='OpenAI API Token:')\n"
   ]
  },
  {
   "cell_type": "markdown",
   "metadata": {},
   "source": [
    "- First run one test to make sure API key wir working"
   ]
  },
  {
   "cell_type": "code",
   "execution_count": 2,
   "metadata": {},
   "outputs": [
    {
     "name": "stdout",
     "output_type": "stream",
     "text": [
      "{\"name\":\"xxx\"}\n"
     ]
    }
   ],
   "source": [
    "openai.api_key  = os.getenv('OPENAI_API_KEY')\n",
    "llm_agent  = BSAgent(model=\"gpt-4-1106-preview\", \n",
    "                    temperature=0)\n",
    "## just run one test, make sure the api works \n",
    "pt = {'System':'You are a helpful assistant. You name is xxx',\n",
    "      'Human':'What is your name?, respond in json format like {{\"name\":<name>}}'}\n",
    "res = llm_agent.get_response_content(prompt_template=pt,json_mode=True)\n",
    "print(res)  "
   ]
  },
  {
   "cell_type": "code",
   "execution_count": 3,
   "metadata": {},
   "outputs": [],
   "source": [
    "RISK_LIST = \"\"\"\n",
    "Inflationary Pressures: The rapid rebound in the U.S. economy has led to a sharp increase in nominal wages and prices. Inflation initially affected durable goods and then spread broadly across the consumption basket. This inflationary pressure is a significant macro critical risk.\n",
    "Labor Shortages: Labor shortages were initially seen in low-skilled occupations, driving up wages in that segment. However, by the fourth quarter, wage pressures were spreading across the economy as firms struggled to fill vacancies. Labor shortages pose a substantial risk to the economy.\n",
    "Global Supply Constraints: The report mentions that global supply constraints are likely to persist. These constraints can affect various industries and have a substantial impact on the overall economy.\n",
    "Geopolitical Uncertainty (Russian Invasion of Ukraine): The report highlights that the Russian invasion of Ukraine is creating additional uncertainties. Geopolitical events like this can have far-reaching economic consequences and are considered a macro critical risk.\n",
    "Misjudging the Policy Mix: The difficulty in calibrating the response to inflation is identified as a major risk. Misjudging the policy mix, whether it is overly forceful or insufficient, can result in sizable economic costs and negative spillovers to the global economy.\n",
    "Abrupt Tightening in Financial Conditions: An overly forceful policy response is noted as a risk that could lead to an abrupt tightening in financial conditions, potentially triggering a U.S. recession and negative spillovers to the global economy.\n",
    "Prolonged High Inflation: On the other hand, an insufficient shift in policies is mentioned as a risk that could lead to a prolonged period of high inflation, which may necessitate even stronger and more economically costly measures in the future.\n",
    "Negative Shocks to the Economy: There is also a risk of the economy being hit by a negative shock, potentially turning the expected slowdown into a short-lived recession.\n",
    "COVID-19 Mortality and Hospitalization: Despite successful vaccination campaigns, the U.S. still faces a significant risk related to COVID-19. The section mentions a tragic landmark of 1 million deaths from COVID-19 and ongoing daily deaths, particularly among older, unvaccinated, or unboosted Americans.\n",
    "Labor Force Participation: The section highlights concerns about the slower recovery of labor force participation, partly due to demographic trends and early retirements triggered by the pandemic. This poses a risk to the labor market and the economy's potential.\n",
    "Education Outcomes: There are important concerns about the potential longer-term impacts of the pandemic on education outcomes, particularly for lower-income families. This risk could have broader implications for human capital and the economy's future productivity.\n",
    "Inflation: The section discusses a significant acceleration in wage and price inflation, which has intensified and broadened in recent months. This rapid inflation presents a macro critical risk, affecting both consumers and the broader economic stability.\n",
    "Inflation Pressure: Median PCE inflation continues to rise, indicating broad-based price pressures, with an acceleration in shelter, healthcare, and other services inflation, and rapidly rising food and energy prices.\n",
    "Geopolitical Impact: The Russian invasion of Ukraine has fueled the rise in food and energy prices, contributing to headline inflation.\n",
    "Policy Intervention Drawbacks: The poor targeting of pandemic-related support measures has contributed to increased household savings, now boosting domestic demand and making disinflation more challenging.\n",
    "Fiscal Sustainability Risk: The increase in public debt due to the pandemic and expected continued rise due to aging-related expenditures on healthcare and social security could challenge fiscal sustainability.\n",
    "Financial Stability Risk: The shift in monetary stance and uncertainties from the Russian invasion of Ukraine have tightened financial conditions, potentially destabilizing financial markets.\n",
    "Corporate Leverage Risk: High corporate leverage, despite being mitigated by factors like corporate cash buffers and healthy interest coverage ratios, poses a risk if financial conditions tighten more than expected, especially for sectors and firms with significant heterogeneity.\n",
    "Fixed Income Market Fragility: The smooth functioning of key money, repo, and Treasury markets is overly reliant on high levels of liquidity, which may not be sustainable. Additionally, there is a risk of runs in prime and tax-exempt money market funds, as well as dollar-denominated offshore funds.\n",
    "Leverage Risks in Hedge Funds and Insurers: Hedge funds and life insurance companies exhibit high leverage. Life insurers have reduced their holdings of liquid assets and are increasingly dependent on short-term funding. There's also a rise in the issuance of securitized instruments, especially auto loan-linked ones, which could pose risks.\n",
    "Digital Asset Sector Instability: The rapid growth and recent selling pressures in the digital assets sector, including stablecoins and other crypto-assets, demonstrate fragility and potential for significant market impact. The sector's opacity and the vulnerability of stablecoins to run risk are notable concerns.\n",
    "Housing Market Overvaluation: The steep increase in housing prices and their high ratio to rents and household income could pose risks, despite current financial stability due to low leverage and conservative underwriting standards. There are also social concerns related to housing affordability, especially for lower-income households.\n",
    "Financial Stability Vulnerabilities: In the context of tightening financial conditions and slowing economic activity, the described financial stability vulnerabilities may become more pronounced.\n",
    "Unaddressed FSAP Recommendations: The failure to implement FSAP recommendations such as explicit financial stability objectives for council members, closing data gaps, and reviewing prudential requirements for non-internationally active banks can pose a downside risk to financial stability.\n",
    "Economic Impact of Sanctions: The sanctions imposed on Russia and Belarus in response to the invasion of Ukraine are expected to reduce global growth, increase commodity prices, and disrupt trade and financial linkages, which is a significant downside risk to the overall economy.\n",
    "Resilience of Financial System: The ongoing war and related sanctions may test the resilience of the financial system, including direct and indirect exposures of banks and nonbanks, market disruptions in commodity markets, increases in counterparty risk, cryptoization, and possible cyber-related events, posing a major downside risk to financial stability.\n",
    "Economic Impact of Sanctions: The imposition of economic sanctions and export controls on Russian and Belarusian individuals, companies, and financial institutions by the U.S. and over 30 other countries poses a significant downside risk. These measures, including asset freezes, import and export restrictions, and investment restrictions, can have a substantial impact on the overall economies of Russia and Belarus.\n",
    "Capital Flow Management Measures: Some of the sanctions mentioned in the section constitute capital flow management measures introduced for reasons of national or international security. These measures could affect capital flows and financial stability, leading to macroeconomic risks for the countries involved.\n",
    "Global Economic Spillover Effects: While not explicitly mentioned in the section, the widespread imposition of sanctions on Russia and Belarus can have global economic spillover effects, impacting international trade and financial markets. These spillover effects can pose both downside and upside risks to the global economy, depending on how other countries and entities respond to these sanctions.\n",
    "Weaker External Position: The 2021 external position is moderately weaker than implied by medium-term fundamentals and desirable policies, indicating a risk of external imbalances.\n",
    "Current Account Deficit: The current account deficit has increased over the past two years due to shifts in consumer demand, fiscal stimulus, and the U.S. recovery, suggesting a potential risk to the overall balance of payments.\n",
    "Real Exchange Rate Appreciation: The real exchange rate is approximately 5 percent more appreciated in 2022 compared to 2021, which could contribute to future imbalances in the U.S. external position, posing a significant macroeconomic risk.\n",
    "Failure to Pass Broader Tax and Spending Package: The inability to legislate the broader tax and spending package proposed by the administration is mentioned as a risk that will modestly lower near-term growth prospects and forego positive supply-side benefits.\n",
    "Persistent Supply Chain Constraints: The section highlights that supply chain constraints have been more persistent than expected a year ago, which can impact economic stability.\n",
    "Russian Invasion of Ukraine: The Russian invasion of Ukraine is mentioned as a new concern that poses a risk to the economy.\n",
    "Chinese Lockdowns: Lockdowns in China are also highlighted as a concern that can impact the economy.\n",
    "Inflationary Pressure: The section highlights sustained and broad-based inflationary pressures, particularly in shelter, healthcare, and other services. These inflationary pressures are a significant macro-critical risk for the U.S. economy.\n",
    "Structural Shifts in Labor Markets: The ongoing and uncertain structural shifts in labor markets and the broader economy, catalyzed by COVID-19, are mentioned as a complicating factor. These structural shifts pose a risk to the economic stability.\n",
    "Rapid Wage Growth: The rapid acceleration in nominal wages, especially for lower-income workers, is noted as a departure from past U.S. recoveries. This wage growth trend could have macroeconomic implications.\n",
    "Wage Polarization Reduction: The reduction in wage polarization, with lower-income workers experiencing significant wage increases, is highlighted as a change from the pre-pandemic period. The sustainability of this reduction in wage polarization is uncertain.\n",
    "Inflationary Pressure: The section discusses the need for a rapid withdrawal of monetary accommodation due to broad-based wage and price inflation pressures, indicating a risk of high inflation affecting the overall economy.\n",
    "Market Concentration: There is mention of a potential secular increase in market concentration among U.S. corporates that may dampen the transmission of monetary tightening, posing a risk to the stability of the system.\n",
    "Unemployment and Recession: In the event of more inertia in wage and price inflation, a tighter policy stance could lead to a more pronounced increase in unemployment and a short recession, indicating a risk to economic stability.\n",
    "Financial and Macroeconomic Uncertainties: The section mentions significant ongoing uncertainties related to the pandemic, China lockdowns, and the Russian invasion of Ukraine, which could affect the transmission of monetary policy and lead to a contraction in activity and an increase in unemployment, posing financial and macroeconomic stability risks.\n",
    "Setback in Achieving Emission Reduction Goals: The section mentions that the setback in passing the Build Back Better Act endangers the achievement of the administration’s emission reduction goals, which is a significant macro critical risk.\n",
    "Transition Challenges Away from Fossil Fuels: The transition away from fossil fuels is described as challenging, involving a significant reallocation of factors of production across sectors and skills. This presents a macro critical risk to the economy.\n",
    "Skills Mismatch and Worker Redeployment: The text mentions that achieving the transition will require overcoming a sizable skills mismatch, particularly for older workers. This poses a macro critical risk to the labor market and overall economic stability.\n",
    "Dependence on Multiple Policy Measures: The section suggests that a more effective strategy for achieving climate goals would involve a combination of measures, including carbon pricing, feebates, regulatory actions, and subsidy elimination. Dependence on multiple policy measures itself can be considered a macro critical risk if not effectively implemented.\n",
    "\"\"\""
   ]
  },
  {
   "cell_type": "code",
   "execution_count": 6,
   "metadata": {},
   "outputs": [],
   "source": [
    "human_input_template_json = \"\"\"\n",
    "Your task as an economist in the IMF is to carefully review Country Staff reports。\n",
    "Please look through carefully the following list of identified risks from a country staff report and the corresponding description. \n",
    "There are significant overlap within the list. Merge those items into a json list of up to 15 main risks based on the overlap of the name and description. \n",
    "Make sure there is no overlapping in the list and make sure you return a json list of merged identified risks and the corresponding description. \n",
    "\n",
    "Output is a JSON object with the following format:\n",
    "\n",
    "\"risks\": [\n",
    "    {{\"risk_name\": \"<risk1>\", \"risk_description\": \"<risk_description1>\"}}, \n",
    "    {{\"risk_name\": \"<risk2>\", \"risk_description\": \"<risk_description2>\"}},\n",
    "    ......\n",
    "    ]\n",
    "\n",
    "Here is the list of risks:\n",
    "---------------\n",
    "{RISK_LIST}\n",
    "---------------\n",
    "\n",
    "Please proceed with the task, keeping in mind the importance of accuracy and clarity in your analysis. Return the JSON object only and nothing else. \n",
    "\n",
    "\"\"\""
   ]
  },
  {
   "cell_type": "markdown",
   "metadata": {},
   "source": [
    "- results using json mode\n",
    "    - for gpt 3, It often produce nonsnese results, it is a bit more sensitive to wordings in the prompt\n",
    "    - for gpt 4, it seems to be decent, so for GPT 4, maybe good idea to have json_mode on"
   ]
  },
  {
   "cell_type": "code",
   "execution_count": 7,
   "metadata": {},
   "outputs": [
    {
     "name": "stdout",
     "output_type": "stream",
     "text": [
      "{\n",
      "    \"risks\": [\n",
      "        {\"risk_name\": \"Inflationary Pressures\", \"risk_description\": \"Significant acceleration in wage and price inflation, including shelter, healthcare, and other services, as well as food and energy prices, presenting a macro critical risk affecting both consumers and broader economic stability.\"},\n",
      "        {\"risk_name\": \"Labor Market Challenges\", \"risk_description\": \"Labor shortages across the economy, slower recovery of labor force participation, structural shifts in labor markets, rapid wage growth, and the need to address skills mismatch and worker redeployment pose substantial risks to economic stability.\"},\n",
      "        {\"risk_name\": \"Global Supply Chain Disruptions\", \"risk_description\": \"Persistent supply chain constraints and labor shortages are impacting various industries and economic stability, with potential long-term impacts on education outcomes and productivity.\"},\n",
      "        {\"risk_name\": \"Geopolitical Uncertainty\", \"risk_description\": \"The Russian invasion of Ukraine and related sanctions are creating uncertainties with far-reaching economic consequences, including disruptions in trade, financial linkages, and global spillover effects.\"},\n",
      "        {\"risk_name\": \"Policy Calibration Challenges\", \"risk_description\": \"Difficulties in calibrating the policy mix to address inflation and other economic challenges, with potential for misjudging the response leading to sizable economic costs and negative spillovers.\"},\n",
      "        {\"risk_name\": \"Financial Conditions and Stability Risks\", \"risk_description\": \"Abrupt tightening in financial conditions, high corporate leverage, fixed income market fragility, leverage risks in hedge funds and insurers, and digital asset sector instability pose risks to financial markets and economic stability.\"},\n",
      "        {\"risk_name\": \"Fiscal Sustainability Concerns\", \"risk_description\": \"Increased public debt due to the pandemic and expected continued rise due to aging-related expenditures on healthcare and social security could challenge fiscal sustainability.\"},\n",
      "        {\"risk_name\": \"Housing Market Vulnerabilities\", \"risk_description\": \"Overvaluation in the housing market and concerns related to housing affordability, especially for lower-income households, could pose risks to financial stability and social welfare.\"},\n",
      "        {\"risk_name\": \"External Imbalances\", \"risk_description\": \"A moderately weaker external position than implied by fundamentals, an increased current account deficit, and real exchange rate appreciation indicate risks of external imbalances.\"},\n",
      "        {\"risk_name\": \"Legislative Risks\", \"risk_description\": \"Failure to pass broader tax and spending packages, including measures for climate goals, poses risks to near-term growth prospects, supply-side benefits, and emission reduction targets.\"},\n",
      "        {\"risk_name\": \"Transition to Green Economy\", \"risk_description\": \"Challenges in transitioning away from fossil fuels, involving significant reallocation of factors of production and overcoming skills mismatch, present macro critical risks to the economy.\"},\n",
      "        {\"risk_name\": \"COVID-19 Pandemic Risks\", \"risk_description\": \"Ongoing risks related to COVID-19 mortality and hospitalization, particularly among vulnerable populations, continue to pose significant risks to public health and economic recovery.\"},\n",
      "        {\"risk_name\": \"Financial System Resilience\", \"risk_description\": \"The resilience of the financial system is being tested by geopolitical events, market disruptions, counterparty risks, and potential cyber-related events, posing major downside risks to financial stability.\"},\n",
      "        {\"risk_name\": \"Unaddressed Regulatory Recommendations\", \"risk_description\": \"Failure to implement financial stability recommendations, such as those from the FSAP, can pose downside risks to financial stability.\"},\n",
      "        {\"risk_name\": \"Capital Flow Management Measures\", \"risk_description\": \"Sanctions constituting capital flow management measures could affect capital flows and financial stability, leading to macroeconomic risks for the countries involved.\"}\n",
      "    ]\n",
      "}\n"
     ]
    }
   ],
   "source": [
    "pt = {'System':'You are an experienced economist working at the IMF. Your job is to summarize lengthy documents and provide useful insights',\n",
    "        'Human':human_input_template_json.format(RISK_LIST=RISK_LIST)}\n",
    "res_josn_mode = llm_agent.get_response_content(prompt_template=pt,conv_history=[],json_mode=True)\n",
    "print(res_josn_mode)\n",
    "#merged_toipcs = llm_agent.parse_load_json_str(res)"
   ]
  },
  {
   "cell_type": "markdown",
   "metadata": {},
   "source": [
    "- return json but not using json mode\n",
    "    - it returns fine, but a bit different from return a plain list "
   ]
  },
  {
   "cell_type": "code",
   "execution_count": 8,
   "metadata": {},
   "outputs": [
    {
     "name": "stdout",
     "output_type": "stream",
     "text": [
      "```json\n",
      "[\n",
      "    {\"risk_name\": \"Inflationary Pressures\", \"risk_description\": \"A significant acceleration in wage and price inflation, initially affecting durable goods and spreading across the consumption basket, presents a macro critical risk, affecting both consumers and the broader economic stability.\"},\n",
      "    {\"risk_name\": \"Labor Market Challenges\", \"risk_description\": \"Labor shortages, slower recovery of labor force participation, and ongoing structural shifts in labor markets pose substantial risks to the economy's potential and stability.\"},\n",
      "    {\"risk_name\": \"Global Supply Chain Disruptions\", \"risk_description\": \"Persistent global supply constraints and supply chain disruptions, exacerbated by events such as the Russian invasion of Ukraine and Chinese lockdowns, impact various industries and economic stability.\"},\n",
      "    {\"risk_name\": \"Geopolitical Uncertainty\", \"risk_description\": \"Geopolitical events, particularly the Russian invasion of Ukraine, create uncertainties with far-reaching economic consequences, including fueling the rise in food and energy prices.\"},\n",
      "    {\"risk_name\": \"Monetary and Fiscal Policy Challenges\", \"risk_description\": \"Misjudging the policy mix, whether overly forceful or insufficient, can result in sizable economic costs, negative spillovers, and challenges to fiscal sustainability.\"},\n",
      "    {\"risk_name\": \"Financial Conditions and Stability Risks\", \"risk_description\": \"An abrupt tightening in financial conditions, high corporate leverage, fixed income market fragility, and unaddressed FSAP recommendations pose risks to financial stability.\"},\n",
      "    {\"risk_name\": \"Digital Asset Sector Risks\", \"risk_description\": \"The rapid growth and fragility in the digital assets sector, including stablecoins and other crypto-assets, demonstrate potential for significant market impact and financial instability.\"},\n",
      "    {\"risk_name\": \"Housing Market Concerns\", \"risk_description\": \"Overvaluation in the housing market and related affordability issues could pose risks to financial stability and have broader social implications.\"},\n",
      "    {\"risk_name\": \"External Imbalances\", \"risk_description\": \"A moderately weaker external position than implied by fundamentals, an increased current account deficit, and real exchange rate appreciation indicate risks of external imbalances.\"},\n",
      "    {\"risk_name\": \"Legislative Risks\", \"risk_description\": \"Failure to pass broader tax and spending packages could lower near-term growth prospects and forego positive supply-side benefits.\"},\n",
      "    {\"risk_name\": \"Economic Impact of Sanctions\", \"risk_description\": \"Sanctions imposed on Russia and Belarus reduce global growth, increase commodity prices, and disrupt trade and financial linkages, posing significant downside risks to the overall economy.\"},\n",
      "    {\"risk_name\": \"Capital Flow Management Measures\", \"risk_description\": \"Sanctions that constitute capital flow management measures could affect capital flows and financial stability, leading to macroeconomic risks.\"},\n",
      "    {\"risk_name\": \"Climate Policy Risks\", \"risk_description\": \"Setbacks in achieving emission reduction goals, transition challenges away from fossil fuels, and skills mismatches during worker redeployment present macro critical risks to the economy.\"},\n",
      "    {\"risk_name\": \"COVID-19 Health Risks\", \"risk_description\": \"Despite vaccination efforts, the U.S. still faces significant risks related to COVID-19 mortality and hospitalization, particularly among vulnerable populations.\"},\n",
      "    {\"risk_name\": \"Education and Human Capital Risks\", \"risk_description\": \"Potential longer-term impacts of the pandemic on education outcomes, especially for lower-income families, could have broader implications for human capital and future productivity.\"}\n",
      "]\n",
      "```\n"
     ]
    }
   ],
   "source": [
    "human_input_template_json_notoggle = \"\"\"\n",
    "Your task as an economist in the IMF is to carefully review Country Staff reports。\n",
    "Please look through carefully the following list of identified risks from a country staff report and the corresponding description. \n",
    "There are significant overlap within the list. Merge those items into a json list of up to 15 main risks based on the overlap of the name and description. \n",
    "Make sure there is no overlapping in the list and make sure you return a json list of merged identified risks and the corresponding description. \n",
    "\n",
    "Output is a JSON object with the following format:\n",
    "[\n",
    "    {{\"risk_name\": \"<risk1>\", \"risk_description\": \"<risk_description1>\"}}, \n",
    "    {{\"risk_name\": \"<risk2>\", \"risk_description\": \"<risk_description2>\"}},\n",
    "    ......\n",
    "]\n",
    "\n",
    "Here is the list of risks:\n",
    "---------------\n",
    "{RISK_LIST}\n",
    "---------------\n",
    "\n",
    "Please proceed with the task, keeping in mind the importance of accuracy and clarity in your analysis. Return the JSON object only and nothing else. \n",
    "\n",
    "\"\"\"\n",
    "\n",
    "pt = {'System':'You are an experienced economist working at the IMF. Your job is to summarize lengthy documents and provide useful insights',\n",
    "        'Human':human_input_template_json_notoggle.format(RISK_LIST=RISK_LIST)}\n",
    "res = llm_agent.get_response_content(prompt_template=pt,conv_history=[],json_mode=False)\n",
    "print(res)"
   ]
  },
  {
   "cell_type": "code",
   "execution_count": 9,
   "metadata": {},
   "outputs": [],
   "source": [
    "human_input_template_list = \"\"\"\n",
    "Your task as an economist in the IMF is to carefully review Country Staff reports.\n",
    "Please look through carefully the following list of identified risks from a country staff report and the corresponding description. \n",
    "There are significant overlap within the list. Merge those items into a plain text list of up to 15 main risks based on the overlap of the name and description. \n",
    "Make sure there is no overlapping in the resulting list and make sure you format the output with the following format:\n",
    "\n",
    "risk title: risk description\n",
    "risk title: risk description\n",
    "... \n",
    "...\n",
    "\n",
    "Here is the list of risks:\n",
    "---------------\n",
    "{RISK_LIST}\n",
    "---------------\n",
    "\n",
    "Please proceed with the task, keeping in mind the importance of accuracy and clarity in your analysis. Return the list only and nothing else. \n",
    "\n",
    "\"\"\""
   ]
  },
  {
   "cell_type": "markdown",
   "metadata": {},
   "source": [
    "- just plan text list \n",
    "    - for gpt 4, I do not see a difference between us json mode and use plan text list. \n",
    "    - in some use cases, plane text list seems to produce better results. so when tuning prompts, check both "
   ]
  },
  {
   "cell_type": "code",
   "execution_count": 10,
   "metadata": {},
   "outputs": [
    {
     "name": "stdout",
     "output_type": "stream",
     "text": [
      "Inflationary Pressures and Wage Growth: The rapid economic rebound has led to a sharp increase in nominal wages and prices, affecting durable goods and spreading across the consumption basket, with sustained and broad-based inflationary pressures in shelter, healthcare, and other services.\n",
      "\n",
      "Labor Market Challenges: Labor shortages, slower recovery of labor force participation, structural shifts in labor markets, and rapid wage growth, especially for lower-income workers, pose substantial risks to economic stability and productivity.\n",
      "\n",
      "Global Supply Chain Disruptions: Persistent supply chain constraints and labor shortages have been more persistent than expected, impacting various industries and the overall economy.\n",
      "\n",
      "Geopolitical Uncertainty and Economic Sanctions: The Russian invasion of Ukraine and the resulting sanctions have created additional uncertainties, fueling the rise in food and energy prices, contributing to headline inflation, and posing significant downside risks to global growth and financial stability.\n",
      "\n",
      "Policy Calibration and Intervention Risks: Misjudging the policy mix, whether overly forceful or insufficient, could lead to an abrupt tightening in financial conditions, a U.S. recession, prolonged high inflation, or make disinflation more challenging.\n",
      "\n",
      "Fiscal Sustainability Concerns: The increase in public debt due to the pandemic and expected continued rise due to aging-related expenditures on healthcare and social security could challenge fiscal sustainability.\n",
      "\n",
      "Financial Stability and Market Vulnerabilities: Tightening financial conditions, high corporate leverage, fixed income market fragility, leverage risks in hedge funds and insurers, and digital asset sector instability pose risks to financial stability.\n",
      "\n",
      "Housing Market Risks: Overvaluation in the housing market, despite current financial stability, could pose risks, including social concerns related to housing affordability.\n",
      "\n",
      "Unaddressed Financial Sector Recommendations: Failure to implement FSAP recommendations can pose a downside risk to financial stability.\n",
      "\n",
      "External Imbalances: A moderately weaker external position than implied by fundamentals, an increased current account deficit, and real exchange rate appreciation indicate risks of external imbalances.\n",
      "\n",
      "Legislative Risks: The inability to pass broader tax and spending packages could lower near-term growth prospects and forego positive supply-side benefits.\n",
      "\n",
      "Climate Transition Risks: Setbacks in achieving emission reduction goals, transition challenges away from fossil fuels, and skills mismatch for worker redeployment present macro critical risks to the economy.\n",
      "\n",
      "Education Outcomes: Potential longer-term impacts of the pandemic on education outcomes, particularly for lower-income families, could have broader implications for human capital and future productivity.\n",
      "\n",
      "COVID-19 Health Risks: Despite vaccination efforts, the U.S. still faces significant risks related to COVID-19 mortality and hospitalization, particularly among vulnerable populations.\n",
      "\n",
      "Global Economic Spillovers: The widespread imposition of sanctions on Russia and Belarus, along with other geopolitical events, can have global economic spillover effects, impacting international trade and financial markets.\n"
     ]
    }
   ],
   "source": [
    "\n",
    "pt = {'System':'Your task as an economist in the IMF is to carefully review Country Staff reports.',\n",
    "        'Human':human_input_template_list.format(RISK_LIST=RISK_LIST)}\n",
    "res_list = llm_agent.get_response_content(prompt_template=pt,conv_history=[],json_mode=False)\n",
    "print(res_list)"
   ]
  },
  {
   "cell_type": "markdown",
   "metadata": {},
   "source": [
    "- LLM output parsing \n",
    "    - json output"
   ]
  },
  {
   "cell_type": "code",
   "execution_count": 31,
   "metadata": {},
   "outputs": [],
   "source": [
    "import re,json\n",
    "def extract_json_string(text):\n",
    "    \"\"\"\n",
    "    Extracts the string between ```json and ``` using regular expressions.\n",
    "    Parameters:\n",
    "    text (str): The text from which to extract the string.\n",
    "    Returns:\n",
    "    str: The extracted string, or an empty string if no match is found.\n",
    "    \"\"\"\n",
    "    # Regular expression to extract text between ```json and ```\n",
    "    match = re.search(r'```json\\s+(.*?)\\s+```', text, re.DOTALL)\n",
    "\n",
    "    # Return the extracted text if a match is found, otherwise return an empty string\n",
    "    return match.group(1) if match else \"\""
   ]
  },
  {
   "cell_type": "code",
   "execution_count": 36,
   "metadata": {},
   "outputs": [
    {
     "name": "stdout",
     "output_type": "stream",
     "text": [
      "[{'risk_name': 'Inflationary Pressures', 'risk_description': 'The rapid rebound in the U.S. economy has led to a sharp increase in nominal wages and prices. Inflation initially affected durable goods and then spread broadly across the consumption basket. This inflationary pressure is a significant macro critical risk.'}, {'risk_name': 'Labor Shortages', 'risk_description': 'Labor shortages were initially seen in low-skilled occupations, driving up wages in that segment. However, by the fourth quarter, wage pressures were spreading across the economy as firms struggled to fill vacancies. Labor shortages pose a substantial risk to the economy.'}]\n"
     ]
    }
   ],
   "source": [
    "results_list = json.loads(extract_json_string(res))\n",
    "print(results_list[:2])"
   ]
  },
  {
   "cell_type": "markdown",
   "metadata": {},
   "source": [
    " - text list output\n",
    "    - plan string list is easy, will skip. let's assume there are ramdon noise in response. Use LLM to formate it as python list"
   ]
  },
  {
   "cell_type": "code",
   "execution_count": 46,
   "metadata": {},
   "outputs": [],
   "source": [
    "human_input_template = \"\"\"\n",
    "Here is a result from an LLM output. It is supposed to be a clean list of strings. But sometimes it will contain common AI assistant initial response and closing languages. \n",
    "Remove all those languages and only keep the actual substance of the answer. Formate the string list into a list formate like [item1,item2,...]\n",
    "\n",
    "Here is the raw LLM output:\n",
    "------------\n",
    "{LLM_OUTPUT}\n",
    "------------\n",
    "\n",
    "You can now proceed with the task and make sure you only return a list. \n",
    "\n",
    "\"\"\"\n",
    "\n",
    "pt = {'System':'You are a data cleaning specialist. You job is to re-formate a noisy string output into a clean desired formate',\n",
    "        'Human':human_input_template.format(LLM_OUTPUT='I have reviewed the document you provided and identified policy responses below: \\n' + \n",
    "                                            res_list + \n",
    "                                            \"\\n For a comprehensive understanding, it's necessary to complete the analysis for all risks, specifically those for which responses were not fully identified within the time frame.\")} \n",
    "                                        ## add some noise just for testing purpose \n",
    "res_py_list = llm_agent.get_response_content(prompt_template=pt,conv_history=[],json_mode=False)"
   ]
  },
  {
   "cell_type": "code",
   "execution_count": 45,
   "metadata": {},
   "outputs": [
    {
     "data": {
      "text/plain": [
       "['Labor Shortages: Labor shortages, particularly in low-skilled occupations, are driving up wages and spreading across the economy, posing a substantial risk.',\n",
       " 'Global Supply Constraints: Persistent global supply constraints are likely to affect various industries and have a substantial impact on the overall economy.',\n",
       " 'Geopolitical Uncertainty: Geopolitical events, such as the Russian invasion of Ukraine, create additional uncertainties with far-reaching economic consequences, considered a macro critical risk.']"
      ]
     },
     "execution_count": 45,
     "metadata": {},
     "output_type": "execute_result"
    }
   ],
   "source": [
    "res_py_list = json.loads(res_py_list)\n",
    "res_py_list[:3]"
   ]
  },
  {
   "cell_type": "code",
   "execution_count": null,
   "metadata": {},
   "outputs": [],
   "source": []
  }
 ],
 "metadata": {
  "kernelspec": {
   "display_name": "gpt",
   "language": "python",
   "name": "python3"
  },
  "language_info": {
   "codemirror_mode": {
    "name": "ipython",
    "version": 3
   },
   "file_extension": ".py",
   "mimetype": "text/x-python",
   "name": "python",
   "nbconvert_exporter": "python",
   "pygments_lexer": "ipython3",
   "version": "3.9.0"
  },
  "orig_nbformat": 4
 },
 "nbformat": 4,
 "nbformat_minor": 2
}
