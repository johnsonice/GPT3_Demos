{
 "cells": [
  {
   "cell_type": "code",
   "execution_count": 2,
   "metadata": {},
   "outputs": [],
   "source": [
    "import os,sys\n",
    "sys.path.insert(0,'../libs')\n",
    "from utils import load_json\n",
    "\n",
    "import openai\n",
    "\n",
    "## load API Key\n",
    "key = load_json('/home/chuang/Dev/Keys/openai_key.json') \n",
    "os.environ['OPENAI_API_KEY'] = key['ChatGPT']['API_KEY']\n",
    "openai.api_key  = os.getenv('OPENAI_API_KEY')\n",
    "\n",
    "def get_completion(prompt, model=\"gpt-3.5-turbo\",temperature=0):\n",
    "    messages = [{\"role\": \"user\", \"content\": prompt}]\n",
    "    response = openai.ChatCompletion.create(\n",
    "        model=model,\n",
    "        messages=messages,\n",
    "        temperature=temperature, # this is the degree of randomness of the model's output\n",
    "    )\n",
    "    return response.choices[0].message[\"content\"]"
   ]
  },
  {
   "cell_type": "code",
   "execution_count": 26,
   "id": "ae8b0e4c",
   "metadata": {},
   "outputs": [],
   "source": [
    "Sample_AIV_text =\"\"\"\n",
    "The authorities and staff agreed that the economy should continue to recover \\\n",
    "during the next few years, provided that weather conditions remain favorable, \\\n",
    "the security situation does not deteriorate, and donor support continues. \\\n",
    "Growth would mostly be concentrated in agriculture, reflecting ongoing repairs \\\n",
    "to irrigation systems and a better quality of inputs, and in the trade, services, \\\n",
    "and construction sectors, largely driven by donor inflows and the slow but steady \\\n",
    "improvement in incomes (including from opium production). In the authorities' view, \\\n",
    "Afghanistan's prospects, as well as most data and economic relationships, \\\n",
    "were still too uncertain for a quantified medium-term scenario to be meaningful. \\\n",
    "Staff concurred with this view.\n",
    "\"\"\""
   ]
  },
  {
   "attachments": {},
   "cell_type": "markdown",
   "id": "1bfd2d76",
   "metadata": {},
   "source": [
    "### Sentiment "
   ]
  },
  {
   "cell_type": "code",
   "execution_count": 27,
   "id": "fe8f2907",
   "metadata": {},
   "outputs": [
    {
     "name": "stdout",
     "output_type": "stream",
     "text": [
      "positive:80\n"
     ]
    }
   ],
   "source": [
    "prompt = f\"\"\"\n",
    "What is the sentiment of the following economic assessment,\n",
    "which is delimited with triple backticks?\n",
    "\n",
    "Give your answer as a single word, either \"positive\" \\\n",
    "or \"negative\" and at the same time provide a score from \\\n",
    "0 - 100 indicating confidence of your answer with a \":\" in between.\n",
    "\n",
    "Review text: '''{Sample_AIV_text}'''\n",
    "\"\"\"\n",
    "response = get_completion(prompt)\n",
    "print(response)"
   ]
  },
  {
   "attachments": {},
   "cell_type": "markdown",
   "id": "4e2fe3dd",
   "metadata": {},
   "source": [
    "#### Identify other angels : disagreement"
   ]
  },
  {
   "cell_type": "code",
   "execution_count": 28,
   "id": "9f6adcb4",
   "metadata": {},
   "outputs": [
    {
     "name": "stdout",
     "output_type": "stream",
     "text": [
      "Disagreement: No\n"
     ]
    }
   ],
   "source": [
    "prompt = f\"\"\"\n",
    "Is the writer of the following assessment expressing disagreement \\\n",
    "The review is delimited with triple backticks. \\\n",
    "Give your answer as either yes or no.\n",
    "Review text: '''{Sample_AIV_text}'''\n",
    "\"\"\"\n",
    "response = get_completion(prompt)\n",
    "print(\"Disagreement: \"+response)"
   ]
  },
  {
   "attachments": {},
   "cell_type": "markdown",
   "id": "5af8e327",
   "metadata": {},
   "source": [
    "#### Emotion Detection"
   ]
  },
  {
   "cell_type": "code",
   "execution_count": 29,
   "id": "6d8c6bee",
   "metadata": {},
   "outputs": [
    {
     "name": "stdout",
     "output_type": "stream",
     "text": [
      "{\n",
      "  \"emotion\": \"frustration\",\n",
      "  \"confidence\": 80\n",
      "}\n"
     ]
    }
   ],
   "source": [
    "prompt = f\"\"\"\n",
    "What is the emotion of the following economic assessment,\n",
    "which is delimited with triple backticks?\n",
    "\n",
    "Format your response as a JSON object with \"emition\" and \"confidence\" as the keys. \\\n",
    "Here are all possible emotions: \"joy\", \"anger\", \"surprise\", \"frustration\" and \"mixex\". \\\n",
    "You need to provide a score from \\\n",
    "0 - 100 indicating confidence of your answer in \"confidence\" field.\n",
    "\n",
    "Review text: '''{Sample_AIV_text}'''\n",
    "\"\"\"\n",
    "response = get_completion(prompt)\n",
    "print(response)"
   ]
  },
  {
   "attachments": {},
   "cell_type": "markdown",
   "id": "16466fd1",
   "metadata": {},
   "source": [
    "### Extract Entities"
   ]
  },
  {
   "cell_type": "code",
   "execution_count": 32,
   "id": "f18bdf23",
   "metadata": {},
   "outputs": [
    {
     "name": "stdout",
     "output_type": "stream",
     "text": [
      "{\n",
      "  \"Country\": \"Afghanistan\",\n",
      "  \"Sector\": \"Real\"\n",
      "}\n"
     ]
    }
   ],
   "source": [
    "prompt = f\"\"\"\n",
    "You are an Macroeconomic Bot\n",
    "Identify the following items from the review text:\n",
    "- Country mentioned by reviewer\n",
    "- Economic Sector being discussed, which can be \"Real\", \"Financial\", \"Fiscal\", \\\n",
    "\"External\" and \"Monetary\" \\\n",
    "The review is delimited with triple backticks. \\\n",
    "Format your response as a JSON object with \\\n",
    "\"Country\" and \"Sector\" as the keys.\n",
    "If the information isn't present, use \"unknown\" as the value. \\\n",
    "Make your response as short as possible. \\\n",
    "Review text: '''{Sample_AIV_text}'''\n",
    "\"\"\"\n",
    "response = get_completion(prompt)\n",
    "print(response)"
   ]
  },
  {
   "cell_type": "code",
   "execution_count": null,
   "id": "7a89a8ee",
   "metadata": {},
   "outputs": [],
   "source": []
  },
  {
   "cell_type": "code",
   "execution_count": null,
   "id": "2a5f7a8c",
   "metadata": {},
   "outputs": [],
   "source": []
  },
  {
   "cell_type": "code",
   "execution_count": null,
   "id": "ce76aaf7",
   "metadata": {},
   "outputs": [],
   "source": []
  }
 ],
 "metadata": {
  "kernelspec": {
   "display_name": "sbert",
   "language": "python",
   "name": "sbert"
  },
  "language_info": {
   "codemirror_mode": {
    "name": "ipython",
    "version": 3
   },
   "file_extension": ".py",
   "mimetype": "text/x-python",
   "name": "python",
   "nbconvert_exporter": "python",
   "pygments_lexer": "ipython3",
   "version": "3.8.13"
  }
 },
 "nbformat": 4,
 "nbformat_minor": 5
}
