{
 "cells": [
  {
   "cell_type": "markdown",
   "metadata": {},
   "source": [
    "## Langchain Output Parsing"
   ]
  },
  {
   "cell_type": "code",
   "execution_count": 3,
   "metadata": {},
   "outputs": [],
   "source": [
    "import os,sys,getpass\n",
    "import pprint\n",
    "os.environ[\"OPENAI_API_KEY\"] = getpass.getpass(prompt='OpenAI API Token:')"
   ]
  },
  {
   "cell_type": "code",
   "execution_count": 4,
   "metadata": {},
   "outputs": [],
   "source": [
    "from langchain_openai import OpenAI,ChatOpenAI\n",
    "from langchain_core.prompts import ChatPromptTemplate"
   ]
  },
  {
   "cell_type": "markdown",
   "metadata": {},
   "source": [
    "- Basic LLM with system and user inputs "
   ]
  },
  {
   "cell_type": "code",
   "execution_count": 22,
   "metadata": {},
   "outputs": [],
   "source": [
    "llm = ChatOpenAI(model = 'gpt-3.5-turbo')\n",
    "\n",
    "prompt = ChatPromptTemplate.from_messages([\n",
    "    (\"system\", \"You are a IMF Economist. You job is to respond to user's question from a Macro economic perspective. Follow instructions as closely as you can.\"),\n",
    "    (\"user\", \"{input}\")\n",
    "])\n",
    "\n",
    "chain = prompt | llm "
   ]
  },
  {
   "cell_type": "code",
   "execution_count": 23,
   "metadata": {},
   "outputs": [
    {
     "name": "stdout",
     "output_type": "stream",
     "text": [
      "Stock market volatility can be influenced by various factors. Here are five reasons for stock market volatility along with examples for each:\n",
      "\n",
      "1. Economic Uncertainty: Uncertainty about economic conditions, such as GDP growth, interest rates, or inflation, can lead to stock market volatility. For example, during the global financial crisis in 2008, uncertainty about the extent of the crisis and its impact on the economy caused stock markets around the world to experience significant volatility.\n",
      "\n",
      "2. Political Instability: Political events and policy changes can create uncertainty and affect investor sentiment, leading to stock market volatility. For instance, Brexit negotiations and their potential impact on trade relations between the United Kingdom and the European Union have caused volatility in the UK stock market.\n",
      "\n",
      "3. Corporate Earnings: Company-specific factors, such as earnings reports or unexpected changes in business prospects, can cause stock market volatility. For example, if a company reports lower-than-expected earnings, investors may sell their shares, leading to a decline in stock prices.\n",
      "\n",
      "4. Investor Sentiment: Psychological factors, such as fear, greed, or market sentiment, can influence stock market volatility. For instance, if investors become overly optimistic about the future prospects of a particular sector, they may drive up prices to unsustainable levels, leading to a subsequent correction and increased volatility.\n",
      "\n",
      "5. Global Events: Worldwide events, such as natural disasters, geopolitical tensions, or health crises, can impact stock markets globally. For instance, the outbreak of the COVID-19 pandemic in early 2020 resulted in significant stock market volatility as investors grappled with the uncertainty surrounding the virus's impact on the global economy.\n",
      "\n",
      "It is important to note that these reasons for stock market volatility are not exhaustive, and multiple factors can interact and amplify market movements. Additionally, the examples provided are illustrative and represent specific instances of volatility tied to each reason.\n"
     ]
    }
   ],
   "source": [
    "res = chain.invoke({\"input\": \"Please Provide 5 reasons for stock market volatility. and provide an example for each of them.\"})\n",
    "print(res.content)"
   ]
  },
  {
   "cell_type": "markdown",
   "metadata": {},
   "source": [
    "- ### Basic List output parser"
   ]
  },
  {
   "cell_type": "code",
   "execution_count": 46,
   "metadata": {},
   "outputs": [
    {
     "name": "stdout",
     "output_type": "stream",
     "text": [
      "1) Economic indicators: Economic indicators such as GDP growth, inflation, and interest rates can have a significant impact on stock market volatility. For example, if GDP growth slows down, it may indicate a weaker economy, causing investors to sell stocks and leading to increased volatility.\n",
      "\n",
      "2) Geopolitical events: Geopolitical events such as wars, political instability, or trade disputes can create uncertainty in the financial markets, leading to increased stock market volatility. For instance, when the United States and China engaged in a trade war, it caused significant fluctuations in stock prices.\n",
      "\n",
      "3) Investor sentiment: Investor sentiment plays a crucial role in stock market volatility. If investors become overly optimistic or pessimistic about the future prospects of the market, it can lead to increased volatility. For example, during the dot-com bubble in the late 1990s, investors had an extremely optimistic outlook, causing stock prices to skyrocket and subsequently crash.\n",
      "\n",
      "4) Corporate earnings announcements: Companies' quarterly earnings reports can have a significant impact on stock prices. If a company reports better-than-expected earnings, it can lead to a surge in stock prices. On the other hand, if a company reports lower-than-expected earnings, it can result in a decline in stock prices. This volatility can be seen in the immediate reactions to earnings announcements by companies like Apple or Amazon.\n",
      "\n",
      "5) Financial market regulations: Changes in financial market regulations can also contribute to stock market volatility. For instance, if new regulations are introduced that restrict certain trading activities or increase the transparency requirements for companies, it can lead to increased uncertainty and volatility in the market. The introduction of the Volcker Rule in the aftermath of the 2008 financial crisis is an example of regulatory changes impacting stock market volatility.\n"
     ]
    }
   ],
   "source": [
    "Prompt = \"\"\"\n",
    "Please Provide 5 reasons for stock market volatility. and provide an example for each of them.\n",
    "Please format it as a numbered list for clarity and ease of understanding. \n",
    "For example, structure your answer with each item listed as: \n",
    "1) [item 1]\n",
    "2) [item 2]\n",
    "and so on.\n",
    "\n",
    "Please provide your answer below:\n",
    "\"\"\"\n",
    "res = chain.invoke({\"input\": Prompt})\n",
    "print(res.content)"
   ]
  },
  {
   "cell_type": "code",
   "execution_count": 119,
   "metadata": {},
   "outputs": [],
   "source": [
    "import re \n",
    "\n",
    "def parse_list_string(res_str):\n",
    "    if not isinstance(res_str, str):\n",
    "        raise ValueError(\"Input must be a string\")\n",
    "    # Compile the regular expression for efficiency if used multiple times\n",
    "    pattern = r\"\\d+\\)(.*?)(?=\\n|$)\"\n",
    "    # Find all matches and strip whitespace from each item\n",
    "    items = [item.strip() for item in re.findall(pattern, res_str,re.DOTALL)]\n",
    "    return items \n",
    "    return items \n",
    "\n",
    "    "
   ]
  },
  {
   "cell_type": "code",
   "execution_count": 124,
   "metadata": {},
   "outputs": [
    {
     "data": {
      "text/plain": [
       "['Economic indicators: Economic indicators such as GDP growth, inflation, and interest rates can have a significant impact on stock market volatility. For example, if GDP growth slows down, it may indicate a weaker economy, causing investors to sell stocks and leading to increased volatility.',\n",
       " 'Geopolitical events: Geopolitical events such as wars, political instability, or trade disputes can create uncertainty in the financial markets, leading to increased stock market volatility. For instance, when the United States and China engaged in a trade war, it caused significant fluctuations in stock prices.',\n",
       " 'Investor sentiment: Investor sentiment plays a crucial role in stock market volatility. If investors become overly optimistic or pessimistic about the future prospects of the market, it can lead to increased volatility. For example, during the dot-com bubble in the late 1990s, investors had an extremely optimistic outlook, causing stock prices to skyrocket and subsequently crash.',\n",
       " \"Corporate earnings announcements: Companies' quarterly earnings reports can have a significant impact on stock prices. If a company reports better-than-expected earnings, it can lead to a surge in stock prices. On the other hand, if a company reports lower-than-expected earnings, it can result in a decline in stock prices. This volatility can be seen in the immediate reactions to earnings announcements by companies like Apple or Amazon.\",\n",
       " 'Financial market regulations: Changes in financial market regulations can also contribute to stock market volatility. For instance, if new regulations are introduced that restrict certain trading activities or increase the transparency requirements for companies, it can lead to increased uncertainty and volatility in the market. The introduction of the Volcker Rule in the aftermath of the 2008 financial crisis is an example of regulatory changes impacting stock market volatility.']"
      ]
     },
     "execution_count": 124,
     "metadata": {},
     "output_type": "execute_result"
    }
   ],
   "source": [
    "items = parse_list_string('Add additional test as noise to see robustness.\\n\\n' + res.content + '\\n\\nAdd additional test as noise to see robustness.')\n",
    "items"
   ]
  },
  {
   "cell_type": "markdown",
   "metadata": {},
   "source": [
    "- ### output reformat parser\n",
    "    - it kinda works, but it did change the actual contents a little bit \n",
    "    - **not very ideal. when format to json, the first value tends to be very short**"
   ]
  },
  {
   "cell_type": "code",
   "execution_count": 131,
   "metadata": {},
   "outputs": [
    {
     "name": "stdout",
     "output_type": "stream",
     "text": [
      "\n",
      "Here is a answer provided by a language model:\n",
      "-------------\n",
      "1) Economic indicators: Economic indicators such as GDP growth, inflation, and interest rates can have a significant impact on stock market volatility. For example, if GDP growth slows down, it may indicate a weaker economy, causing investors to sell stocks and leading to increased volatility.\n",
      "\n",
      "2) Geopolitical events: Geopolitical events such as wars, political instability, or trade disputes can create uncertainty in the financial markets, leading to increased stock market volatility. For instance, when the United States and China engaged in a trade war, it caused significant fluctuations in stock prices.\n",
      "\n",
      "3) Investor sentiment: Investor sentiment plays a crucial role in stock market volatility. If investors become overly optimistic or pessimistic about the future prospects of the market, it can lead to increased volatility. For example, during the dot-com bubble in the late 1990s, investors had an extremely optimistic outlook, causing stock prices to skyrocket and subsequently crash.\n",
      "\n",
      "4) Corporate earnings announcements: Companies' quarterly earnings reports can have a significant impact on stock prices. If a company reports better-than-expected earnings, it can lead to a surge in stock prices. On the other hand, if a company reports lower-than-expected earnings, it can result in a decline in stock prices. This volatility can be seen in the immediate reactions to earnings announcements by companies like Apple or Amazon.\n",
      "\n",
      "5) Financial market regulations: Changes in financial market regulations can also contribute to stock market volatility. For instance, if new regulations are introduced that restrict certain trading activities or increase the transparency requirements for companies, it can lead to increased uncertainty and volatility in the market. The introduction of the Volcker Rule in the aftermath of the 2008 financial crisis is an example of regulatory changes impacting stock market volatility.\n",
      "-------------\n",
      "\n",
      "In the provided output, each item contains a reason with brief description and an example\n",
      "Please reformat the initial result into a JSON object with the following format: \n",
      "{\"results\": \n",
      "    [ \n",
      "        {\"reason\": \"<reason_description1>\", \"example\": \"<example_description1>\"}, \n",
      "        {\"reason\": \"<reason_description2>\", \"example\": \"<example_description2>\"}, \n",
      "        ...... \n",
      "    ]\n",
      "}\n",
      "\n",
      "Please provide your answer below:\n",
      "\n"
     ]
    }
   ],
   "source": [
    "Reformat_Prompt = \"\"\"\n",
    "Here is a answer provided by a language model:\n",
    "-------------\n",
    "{}\n",
    "-------------\n",
    "\n",
    "In the provided output, each item contains a reason with brief description and an example\n",
    "Please reformat the initial result into a JSON object with the following format: \n",
    "{{\"results\": \n",
    "    [ \n",
    "        {{\"reason\": \"<reason_description1>\", \"example\": \"<example_description1>\"}}, \n",
    "        {{\"reason\": \"<reason_description2>\", \"example\": \"<example_description2>\"}}, \n",
    "        ...... \n",
    "    ]\n",
    "}}\n",
    "\n",
    "Please provide your answer below:\n",
    "\"\"\"\n",
    "print(Reformat_Prompt.format(res.content))"
   ]
  },
  {
   "cell_type": "code",
   "execution_count": 133,
   "metadata": {},
   "outputs": [
    {
     "name": "stdout",
     "output_type": "stream",
     "text": [
      "{\"results\": [\n",
      "    {\"reason\": \"Economic indicators\", \"example\": \"If GDP growth slows down, it may indicate a weaker economy, causing investors to sell stocks and leading to increased volatility.\"},\n",
      "    {\"reason\": \"Geopolitical events\", \"example\": \"When the United States and China engaged in a trade war, it caused significant fluctuations in stock prices.\"},\n",
      "    {\"reason\": \"Investor sentiment\", \"example\": \"During the dot-com bubble in the late 1990s, investors had an extremely optimistic outlook, causing stock prices to skyrocket and subsequently crash.\"},\n",
      "    {\"reason\": \"Corporate earnings announcements\", \"example\": \"If a company reports better-than-expected earnings, it can lead to a surge in stock prices.\"},\n",
      "    {\"reason\": \"Financial market regulations\", \"example\": \"The introduction of the Volcker Rule in the aftermath of the 2008 financial crisis is an example of regulatory changes impacting stock market volatility.\"}\n",
      "]}\n"
     ]
    }
   ],
   "source": [
    "import json\n",
    "res_json = chain.invoke({\"input\": Reformat_Prompt.format(res.content)})\n",
    "print(res_json.content)"
   ]
  },
  {
   "cell_type": "code",
   "execution_count": null,
   "metadata": {},
   "outputs": [],
   "source": []
  },
  {
   "cell_type": "code",
   "execution_count": null,
   "metadata": {},
   "outputs": [],
   "source": []
  }
 ],
 "metadata": {
  "kernelspec": {
   "display_name": "gpt",
   "language": "python",
   "name": "python3"
  },
  "language_info": {
   "codemirror_mode": {
    "name": "ipython",
    "version": 3
   },
   "file_extension": ".py",
   "mimetype": "text/x-python",
   "name": "python",
   "nbconvert_exporter": "python",
   "pygments_lexer": "ipython3",
   "version": "3.9.0"
  },
  "orig_nbformat": 4
 },
 "nbformat": 4,
 "nbformat_minor": 2
}
