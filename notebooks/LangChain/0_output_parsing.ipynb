{
 "cells": [
  {
   "cell_type": "markdown",
   "metadata": {},
   "source": [
    "## Langchain Output Parsing"
   ]
  },
  {
   "cell_type": "code",
   "execution_count": 6,
   "metadata": {},
   "outputs": [],
   "source": [
    "import os,sys,getpass\n",
    "import pprint\n",
    "os.environ[\"OPENAI_API_KEY\"] = getpass.getpass(prompt='OpenAI API Token:')"
   ]
  },
  {
   "cell_type": "code",
   "execution_count": 7,
   "metadata": {},
   "outputs": [],
   "source": [
    "from langchain_openai import OpenAI,ChatOpenAI\n",
    "from langchain_core.prompts import ChatPromptTemplate"
   ]
  },
  {
   "cell_type": "code",
   "execution_count": 12,
   "metadata": {},
   "outputs": [],
   "source": [
    "llm = ChatOpenAI(model = 'gpt-3.5-turbo')\n",
    "\n",
    "prompt = ChatPromptTemplate.from_messages([\n",
    "    (\"system\", \"You are world class technical documentation writer.\"),\n",
    "    (\"user\", \"{input}\")\n",
    "])\n",
    "\n",
    "chain = prompt | llm "
   ]
  },
  {
   "cell_type": "code",
   "execution_count": 23,
   "metadata": {},
   "outputs": [
    {
     "name": "stdout",
     "output_type": "stream",
     "text": [
      "Langsmith can be a valuable tool for testing in a variety of ways. Here are some ways in which Langsmith can assist with testing:\n",
      "\n",
      "1. Test Automation: Langsmith provides a powerful testing framework that allows you to write automated tests for your software applications. You can write test scripts using the Langsmith programming language, which provides a wide range of testing capabilities. These tests can be executed automatically, saving time and effort compared to manual testing.\n",
      "\n",
      "2. Test Data Generation: Langsmith includes built-in features for generating test data. This can be useful for creating a variety of test scenarios and data sets, enabling comprehensive testing of your application's functionality and ensuring that it handles different inputs correctly.\n",
      "\n",
      "3. Test Orchestration: Langsmith allows you to define and manage complex testing workflows. You can orchestrate the execution of multiple tests, including setting up preconditions, executing test cases, and verifying the expected outcomes. This helps in managing and organizing your testing efforts effectively.\n",
      "\n",
      "4. Integration Testing: Langsmith supports integration testing by providing mechanisms to interact with external systems, such as databases, web services, and APIs. You can simulate interactions with these external components and validate the behavior and data exchange between your application and the integrated systems.\n",
      "\n",
      "5. Performance Testing: Langsmith includes performance testing capabilities that enable you to simulate high loads and stress conditions on your application. You can measure response times, throughput, and resource utilization to identify performance bottlenecks and ensure your application can handle expected loads.\n",
      "\n",
      "6. Continuous Integration (CI) and Continuous Testing: Langsmith integrates well with CI/CD (Continuous Integration/Continuous Deployment) pipelines. You can easily incorporate Langsmith tests into your CI process to ensure that your application is continuously tested and validated throughout its development lifecycle.\n",
      "\n",
      "7. Test Reporting and Analysis: Langsmith provides built-in reporting features that allow you to generate detailed test reports, including test results, coverage metrics, and any issues encountered during testing. You can analyze this information to identify areas of improvement and make data-driven decisions for your application's quality.\n",
      "\n",
      "By leveraging Langsmith's capabilities, you can enhance your testing processes, improve test coverage, increase test automation, and ultimately deliver high-quality software to your users.\n"
     ]
    }
   ],
   "source": [
    "res = chain.invoke({\"input\": \"how can langsmith help with testing?\"})\n",
    "print(res.content)"
   ]
  },
  {
   "cell_type": "code",
   "execution_count": 15,
   "metadata": {},
   "outputs": [
    {
     "data": {
      "text/plain": [
       "\"Langsmith can be a valuable tool in the testing process by providing automated language testing capabilities. Here's how Langsmith can assist with testing:\\n\\n1. Language Compatibility Testing: Langsmith can analyze codebases written in different programming languages and provide insights into potential compatibility issues. It can help identify language-specific syntax errors, deprecated functions, or language-specific quirks that may cause issues during execution.\\n\\n2. Code Quality Analysis: Langsmith can perform static code analysis to identify potential bugs, code smells, and other coding issues. It can provide detailed reports on code complexity, maintainability, and adherence to coding best practices. This information enables developers to improve the quality of their code and reduce the chances of introducing bugs.\\n\\n3. Automated Testing: Langsmith can be integrated into testing frameworks to automate certain testing processes. For example, it can automatically generate test cases based on code analysis and execute them, helping to identify potential issues or bugs. By automating repetitive testing tasks, Langsmith can save time and effort for testers, allowing them to focus on more complex testing scenarios.\\n\\n4. Documentation Testing: Langsmith can help ensure the accuracy and comprehensiveness of technical documentation. By analyzing code samples and documentation, it can identify inconsistencies, outdated information, or missing details. This helps technical writers and documentation teams to improve the quality and reliability of their documentation.\\n\\n5. Performance Testing: Langsmith can also assist in performance testing by analyzing code and suggesting improvements to enhance the efficiency of the software. It can identify bottlenecks, memory leaks, or inefficient algorithms that may impact the performance of an application.\\n\\nOverall, Langsmith's automated language testing capabilities can significantly improve the efficiency, quality, and reliability of the testing process, leading to more robust software and better user experiences.\""
      ]
     },
     "execution_count": 15,
     "metadata": {},
     "output_type": "execute_result"
    }
   ],
   "source": []
  },
  {
   "cell_type": "code",
   "execution_count": null,
   "metadata": {},
   "outputs": [],
   "source": []
  }
 ],
 "metadata": {
  "kernelspec": {
   "display_name": "gpt",
   "language": "python",
   "name": "python3"
  },
  "language_info": {
   "codemirror_mode": {
    "name": "ipython",
    "version": 3
   },
   "file_extension": ".py",
   "mimetype": "text/x-python",
   "name": "python",
   "nbconvert_exporter": "python",
   "pygments_lexer": "ipython3",
   "version": "3.9.0"
  },
  "orig_nbformat": 4
 },
 "nbformat": 4,
 "nbformat_minor": 2
}
