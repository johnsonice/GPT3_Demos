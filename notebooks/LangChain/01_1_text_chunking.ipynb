{
 "cells": [
  {
   "cell_type": "markdown",
   "id": "65f3170a",
   "metadata": {},
   "source": [
    "### Langchina Chunking\n",
    "- Preparing Text Data for use with Retrieval-Augmented LLMs\n"
   ]
  },
  {
   "cell_type": "code",
   "execution_count": 1,
   "id": "3a745f0d",
   "metadata": {},
   "outputs": [],
   "source": [
    "from langchain.document_loaders import ReadTheDocsLoader"
   ]
  },
  {
   "cell_type": "markdown",
   "id": "7b729d63",
   "metadata": {},
   "source": [
    "- get am sample html doc ; the following commend will get all links in the page recursively \n",
    "- !wget -r -A.html -P rtdocs https://langchain.readthedocs.io/en/latest/"
   ]
  },
  {
   "cell_type": "code",
   "execution_count": 13,
   "id": "ce7b97fb",
   "metadata": {},
   "outputs": [
    {
     "data": {
      "text/plain": [
       "2"
      ]
     },
     "execution_count": 13,
     "metadata": {},
     "output_type": "execute_result"
    }
   ],
   "source": [
    "#### ReadTheDocsLoader is used for parsing htmls \n",
    "loader = ReadTheDocsLoader('data')\n",
    "docs = loader.load()\n",
    "len(docs)"
   ]
  },
  {
   "cell_type": "code",
   "execution_count": 20,
   "id": "13ecd68b",
   "metadata": {},
   "outputs": [
    {
     "name": "stdout",
     "output_type": "stream",
     "text": [
      ".rst\n",
      ".pdf\n",
      "Agents\n",
      " Contents \n",
      "Action Agents\n",
      "Plan-and-Execute Agents\n",
      "Agents#\n",
      "Note\n",
      "Conceptual Guide\n",
      "Some applications require not just a predetermined chain of calls to LLMs/other tools,\n",
      "but potentially an unknown chain that depends on the userâ€™s input.\n",
      "In these types of chains, there is an agent which has access to a suite of tools.\n",
      "Depending on the user input, the agent can then decide which, if any, of these tools to call.\n",
      "At the moment, there are two main types of agents:\n",
      "Action Agents: these agents decide the actions to take and execute that actions one action at a time.\n",
      "Plan-and-Execute Agents: these agents first decide a plan of actions to take, and then execute those actions one at a time.\n",
      "When should you use each one? Action Agents are more conventional, and good for small tasks.\n",
      "For more complex or long running tasks, the initial planning step helps to maintain long term objectives and focus.\n",
      "However, that comes at the expense of generally more calls and higher latency.\n",
      "These t\n"
     ]
    }
   ],
   "source": [
    "#### basic data exploration\n",
    "print(docs[0].page_content[:1000])"
   ]
  },
  {
   "cell_type": "markdown",
   "id": "288a9cbd",
   "metadata": {},
   "source": [
    "##### use a gpt tokenizer to count tokens\n",
    "- https://github.com/openai/tiktoken/blob/main/tiktoken/model.py\n",
    "- you can read the tiktoken doc, for which version of tokenizer you should use "
   ]
  },
  {
   "cell_type": "code",
   "execution_count": 27,
   "id": "a0ea0b24",
   "metadata": {},
   "outputs": [
    {
     "name": "stdout",
     "output_type": "stream",
     "text": [
      "<Encoding 'cl100k_base'>\n"
     ]
    }
   ],
   "source": [
    "import tiktoken\n",
    "\n",
    "print(tiktoken.encoding_for_model('gpt-3.5-turbo'))\n",
    "tokenizer = tiktoken.get_encoding('cl100k_base')\n",
    "# create the length function\n",
    "def tiktoken_len(text):\n",
    "    tokens = tokenizer.encode(\n",
    "        text,\n",
    "        disallowed_special=()\n",
    "    )\n",
    "    return len(tokens)"
   ]
  },
  {
   "cell_type": "code",
   "execution_count": 31,
   "id": "ccc955c4",
   "metadata": {},
   "outputs": [
    {
     "name": "stdout",
     "output_type": "stream",
     "text": [
      "Min: 910\n",
      "Avg: 1011\n",
      "Max: 1113\n"
     ]
    }
   ],
   "source": [
    "## some summary statistics \n",
    "token_counts = [tiktoken_len(doc.page_content) for doc in docs]\n",
    "print(f\"\"\"Min: {min(token_counts)}\n",
    "Avg: {int(sum(token_counts) / len(token_counts))}\n",
    "Max: {max(token_counts)}\"\"\")"
   ]
  },
  {
   "cell_type": "code",
   "execution_count": 32,
   "id": "99818cff",
   "metadata": {},
   "outputs": [
    {
     "data": {
      "image/png": "[encoded data removed]",
      "text/plain": [
       "<Figure size 864x432 with 1 Axes>"
      ]
     },
     "metadata": {},
     "output_type": "display_data"
    }
   ],
   "source": [
    "import matplotlib.pyplot as plt\n",
    "import seaborn as sns\n",
    "\n",
    "# set style and color palette for the plot\n",
    "sns.set_style(\"whitegrid\")\n",
    "sns.set_palette(\"muted\")\n",
    "\n",
    "# create histogram\n",
    "plt.figure(figsize=(12, 6))\n",
    "sns.histplot(token_counts, kde=False, bins=50)\n",
    "\n",
    "# customize the plot info\n",
    "plt.title(\"Token Counts Histogram\")\n",
    "plt.xlabel(\"Token Count\")\n",
    "plt.ylabel(\"Frequency\")\n",
    "\n",
    "plt.show()"
   ]
  },
  {
   "cell_type": "markdown",
   "id": "4df86faf",
   "metadata": {},
   "source": [
    "### Chunking the Text"
   ]
  },
  {
   "cell_type": "markdown",
   "id": "36f2c731",
   "metadata": {},
   "source": [
    "At the time of writing, gpt-3.5-turbo supports a context window of 4096 tokens — that means that input tokens + generated ( / completion) output tokens, cannot total more than 4096 without hitting an error.\n"
   ]
  },
  {
   "cell_type": "markdown",
   "id": "bd577d8e",
   "metadata": {},
   "source": [
    "With the length function defined we can initialize our RecursiveCharacterTextSplitter object like so:"
   ]
  },
  {
   "cell_type": "code",
   "execution_count": 40,
   "id": "e7343b8d",
   "metadata": {},
   "outputs": [],
   "source": [
    "from langchain.text_splitter import RecursiveCharacterTextSplitter\n",
    "\n",
    "text_splitter = RecursiveCharacterTextSplitter(\n",
    "    chunk_size=400,\n",
    "    chunk_overlap=20,  # number of tokens overlap between chunks\n",
    "    length_function=tiktoken_len,\n",
    "    separators=['\\n\\n', '\\n', ' ', '']\n",
    ")"
   ]
  },
  {
   "cell_type": "markdown",
   "id": "983bb6bb",
   "metadata": {},
   "source": [
    "- let's create a unique id for each page and each chunk "
   ]
  },
  {
   "cell_type": "code",
   "execution_count": 33,
   "id": "b3d4ab82",
   "metadata": {},
   "outputs": [],
   "source": [
    "import hashlib\n",
    "m = hashlib.md5()  # this will convert URL into unique ID"
   ]
  },
  {
   "cell_type": "code",
   "execution_count": 38,
   "id": "9498deec",
   "metadata": {},
   "outputs": [
    {
     "name": "stdout",
     "output_type": "stream",
     "text": [
      "data\\Agents — 🦜🔗 LangChain 0.0.195.html\n",
      "92aed2339c4d\n"
     ]
    }
   ],
   "source": [
    "### one example \n",
    "url = docs[0].metadata['source'].replace('data/', 'https://')\n",
    "print(url)\n",
    "\n",
    "# convert URL to unique ID\n",
    "m.update(url.encode('utf-8'))\n",
    "uid = m.hexdigest()[:12]\n",
    "print(uid)"
   ]
  },
  {
   "cell_type": "code",
   "execution_count": 41,
   "id": "9c840e92",
   "metadata": {},
   "outputs": [
    {
     "data": {
      "application/vnd.jupyter.widget-view+json": {
       "model_id": "5a0fc4ff64ed4e4e9792721b3d73fcbe",
       "version_major": 2,
       "version_minor": 0
      },
      "text/plain": [
       "  0%|          | 0/2 [00:00<?, ?it/s]"
      ]
     },
     "metadata": {},
     "output_type": "display_data"
    },
    {
     "data": {
      "text/plain": [
       "7"
      ]
     },
     "execution_count": 41,
     "metadata": {},
     "output_type": "execute_result"
    }
   ],
   "source": [
    "from tqdm.auto import tqdm\n",
    "\n",
    "documents = []\n",
    "\n",
    "for doc in tqdm(docs):\n",
    "    url = doc.metadata['source'].replace('data/', 'https://')\n",
    "    m.update(url.encode('utf-8'))\n",
    "    uid = m.hexdigest()[:12]\n",
    "    chunks = text_splitter.split_text(doc.page_content)\n",
    "    for i, chunk in enumerate(chunks):\n",
    "        documents.append({\n",
    "            'id': f'{uid}-{i}',\n",
    "            'text': chunk,\n",
    "            'source': url\n",
    "        })\n",
    "\n",
    "len(documents)"
   ]
  },
  {
   "cell_type": "code",
   "execution_count": 42,
   "id": "cb026527",
   "metadata": {},
   "outputs": [
    {
     "data": {
      "text/plain": [
       "{'id': '4aa271fd7436-0',\n",
       " 'text': '.rst\\n.pdf\\nAgents\\n Contents \\nAction Agents\\nPlan-and-Execute Agents\\nAgents#\\nNote\\nConceptual Guide\\nSome applications require not just a predetermined chain of calls to LLMs/other tools,\\nbut potentially an unknown chain that depends on the userâ€™s input.\\nIn these types of chains, there is an agent which has access to a suite of tools.\\nDepending on the user input, the agent can then decide which, if any, of these tools to call.\\nAt the moment, there are two main types of agents:\\nAction Agents: these agents decide the actions to take and execute that actions one action at a time.\\nPlan-and-Execute Agents: these agents first decide a plan of actions to take, and then execute those actions one at a time.\\nWhen should you use each one? Action Agents are more conventional, and good for small tasks.\\nFor more complex or long running tasks, the initial planning step helps to maintain long term objectives and focus.\\nHowever, that comes at the expense of generally more calls and higher latency.\\nThese two agents are also not mutually exclusive - in fact, it is often best to have an Action Agent be in charge\\nof the execution for the Plan and Execute agent.\\nAction Agents#\\nHigh level pseudocode of the Action Agents:\\nThe user input is received\\nThe agent decides which tool - if any - to use, and what the tool input should be\\nThat tool is then called with the tool input, and an observation is recorded (the output of this calling)\\nThat history of tool, tool input, and observation is passed back into the agent, and it decides the next step\\nThis is repeated until the agent decides it no longer needs to use a tool, and then it responds directly to the user.\\nThe different abstractions involved in agents are:',\n",
       " 'source': 'data\\\\Agents — 🦜🔗 LangChain 0.0.195.html'}"
      ]
     },
     "execution_count": 42,
     "metadata": {},
     "output_type": "execute_result"
    }
   ],
   "source": [
    "documents[0]"
   ]
  },
  {
   "cell_type": "markdown",
   "id": "629e3d94",
   "metadata": {},
   "source": [
    "#### Save to jsonl so that is it compatable with huggingface datasets "
   ]
  },
  {
   "cell_type": "code",
   "execution_count": 43,
   "id": "55fe6a60",
   "metadata": {},
   "outputs": [],
   "source": [
    "import json\n",
    "\n",
    "with open('data/train.jsonl', 'w') as f:\n",
    "    for doc in documents:\n",
    "        f.write(json.dumps(doc) + '\\n')"
   ]
  },
  {
   "cell_type": "code",
   "execution_count": 45,
   "id": "4fc23db5",
   "metadata": {},
   "outputs": [
    {
     "data": {
      "text/plain": [
       "{'id': '4aa271fd7436-0',\n",
       " 'text': '.rst\\n.pdf\\nAgents\\n Contents \\nAction Agents\\nPlan-and-Execute Agents\\nAgents#\\nNote\\nConceptual Guide\\nSome applications require not just a predetermined chain of calls to LLMs/other tools,\\nbut potentially an unknown chain that depends on the userâ€™s input.\\nIn these types of chains, there is an agent which has access to a suite of tools.\\nDepending on the user input, the agent can then decide which, if any, of these tools to call.\\nAt the moment, there are two main types of agents:\\nAction Agents: these agents decide the actions to take and execute that actions one action at a time.\\nPlan-and-Execute Agents: these agents first decide a plan of actions to take, and then execute those actions one at a time.\\nWhen should you use each one? Action Agents are more conventional, and good for small tasks.\\nFor more complex or long running tasks, the initial planning step helps to maintain long term objectives and focus.\\nHowever, that comes at the expense of generally more calls and higher latency.\\nThese two agents are also not mutually exclusive - in fact, it is often best to have an Action Agent be in charge\\nof the execution for the Plan and Execute agent.\\nAction Agents#\\nHigh level pseudocode of the Action Agents:\\nThe user input is received\\nThe agent decides which tool - if any - to use, and what the tool input should be\\nThat tool is then called with the tool input, and an observation is recorded (the output of this calling)\\nThat history of tool, tool input, and observation is passed back into the agent, and it decides the next step\\nThis is repeated until the agent decides it no longer needs to use a tool, and then it responds directly to the user.\\nThe different abstractions involved in agents are:',\n",
       " 'source': 'data\\\\Agents — 🦜🔗 LangChain 0.0.195.html'}"
      ]
     },
     "execution_count": 45,
     "metadata": {},
     "output_type": "execute_result"
    }
   ],
   "source": [
    "documents = []\n",
    "\n",
    "with open('data/train.jsonl', 'r') as f:\n",
    "    for line in f:\n",
    "        documents.append(json.loads(line))\n",
    "\n",
    "documents[0]"
   ]
  },
  {
   "cell_type": "markdown",
   "id": "9b9411a5",
   "metadata": {},
   "source": [
    "### More advance parsing strategy\n",
    "- https://www.arxiv-vanity.com/papers/1503.05543/"
   ]
  },
  {
   "cell_type": "code",
   "execution_count": null,
   "id": "8da81516",
   "metadata": {},
   "outputs": [],
   "source": []
  }
 ],
 "metadata": {
  "kernelspec": {
   "display_name": "Python 3",
   "language": "python",
   "name": "python3"
  },
  "language_info": {
   "codemirror_mode": {
    "name": "ipython",
    "version": 3
   },
   "file_extension": ".py",
   "mimetype": "text/x-python",
   "name": "python",
   "nbconvert_exporter": "python",
   "pygments_lexer": "ipython3",
   "version": "3.8.10"
  }
 },
 "nbformat": 4,
 "nbformat_minor": 5
}
