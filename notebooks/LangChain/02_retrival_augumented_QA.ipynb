{
 "cells": [
  {
   "cell_type": "code",
   "execution_count": 23,
   "metadata": {},
   "outputs": [
    {
     "name": "stdout",
     "output_type": "stream",
     "text": [
      "Python:  3.8.13\n"
     ]
    }
   ],
   "source": [
    "import os\n",
    "import platform\n",
    "\n",
    "import openai\n",
    "import chromadb\n",
    "import langchain\n",
    "\n",
    "from langchain.embeddings.openai import OpenAIEmbeddings\n",
    "from langchain.vectorstores import Chroma\n",
    "from langchain.text_splitter import TokenTextSplitter,RecursiveCharacterTextSplitter\n",
    "from langchain.llms import OpenAI\n",
    "from langchain.chains import ChatVectorDBChain\n",
    "from langchain.document_loaders import GutenbergLoader,DirectoryLoader,TextLoader\n",
    "\n",
    "import os,sys\n",
    "sys.path.insert(0,'../../libs')\n",
    "from utils import load_json\n",
    "from llm_utils import tiktoken_len\n",
    "print('Python: ', platform.python_version())\n",
    "\n",
    "import ssl\n",
    "if (not os.environ.get('PYTHONHTTPSVERIFY', '') and getattr(ssl, '_create_unverified_context', None)):\n",
    "    ssl._create_default_https_context = ssl._create_unverified_context"
   ]
  },
  {
   "attachments": {},
   "cell_type": "markdown",
   "metadata": {},
   "source": [
    "#### Load custom data "
   ]
  },
  {
   "cell_type": "code",
   "execution_count": 71,
   "metadata": {},
   "outputs": [],
   "source": [
    "# Loading from a directory\n",
    "Knowledge_Base_Folder = '/data/chuang/QA_LangChan/Knowledge_Base'\n",
    "Index_Save_Path = '/data/chuang/QA_LangChan/KB_Index/chroma'"
   ]
  },
  {
   "cell_type": "code",
   "execution_count": 21,
   "metadata": {},
   "outputs": [
    {
     "name": "stdout",
     "output_type": "stream",
     "text": [
      "{'source': '/data/chuang/QA_LangChan/Knowledge_Base/2022_FM_April_0.txt'}\n",
      "{'source': '/data/chuang/QA_LangChan/Knowledge_Base/2022_WEO_April_0.txt'}\n",
      "{'source': '/data/chuang/QA_LangChan/Knowledge_Base/2022_GFSR_April_0.txt'}\n"
     ]
    }
   ],
   "source": [
    "loader = DirectoryLoader(Knowledge_Base_Folder, glob=\"**/*.txt\",loader_cls=TextLoader)\n",
    "docs = loader.load()\n",
    "for i in range(3):\n",
    "    print(docs[i].metadata)"
   ]
  },
  {
   "attachments": {},
   "cell_type": "markdown",
   "metadata": {},
   "source": [
    "#### Split text into meaningful small chunks \n",
    "- We can do it pagragph by pargaph once the data is fully cleaned \n",
    "- for now, just put them into chunks using RecursiveCharacterTextSplitter \n",
    "-  It tries to split on them in order until the chunks are small enough. The default list is [\"\\n\\n\", \"\\n\", \" \", \"\"]. This has the effect of trying to keep all paragraphs (and then sentences, and then words) together as long as possible, as those would generically seem to be the strongest semantically related pieces of text."
   ]
  },
  {
   "cell_type": "code",
   "execution_count": 37,
   "metadata": {},
   "outputs": [],
   "source": [
    "text_splitter = RecursiveCharacterTextSplitter(\n",
    "    # Set a really small chunk size, just to show.\n",
    "    chunk_size = 400,      ## you can set this size based on your embeding models size\n",
    "    chunk_overlap  = 20,\n",
    "    length_function = tiktoken_len,\n",
    ")\n",
    "## process all docs \n",
    "allchunks = []\n",
    "for d in docs:\n",
    "    allchunks.extend(text_splitter.create_documents([d.page_content],metadatas=[d.metadata]))"
   ]
  },
  {
   "cell_type": "code",
   "execution_count": 55,
   "metadata": {},
   "outputs": [
    {
     "name": "stdout",
     "output_type": "stream",
     "text": [
      "{'source': '/data/chuang/QA_LangChan/Knowledge_Base/2022_FM_April_0.txt'} 0\n",
      "token length : 380\n",
      "Description: Washington, DC : International Monetary Fund, 2009- | Semiannual | Some issues also have thematic titles.\n",
      "Publication orders may be placed online, by fax, or through the mail: International Monetary Fund, Publication Services\n",
      "Online Annex 1.2. Analysis of Poverty, Social Safety Nets, and Informality Online Annex 1.3. Inflation and Fiscal Nexus: Empirical Findings\n",
      "Online Annex 2.1. Estimating the Revenue Impact of Pillar 1 and 2 Online Annex 2.2. Corporate Tax Rate Strategic Reaction\n",
      "Online Annex 2.3. Survey of International Coordination and Tax Administration Online Annex 2.4. Revenue Implications of Cross-Border Remote Work\n",
      "— to indicate that the figure is zero or less than half the final digit shown, or that the item does not exist\n",
      "– between years or months (for example, 2008–09 or January–June) to indicate the years or months covered, including the beginning and ending years or months\n",
      "“Basis points” refers to hundredths of 1 percentage point (for example, 25 basis points are equivalent to ¼ of 1 percentage point).\n",
      "As used in this publication, the term “country” does not in all cases refer to a territorial entity that is a state as understood by international law and practice. As used here, the term also covers some territorial entities that are not states but for which statistical data are maintained on a separate and independent basis.\n",
      "The data and analysis appearing in the Fiscal Monitor are compiled by IMF staff at the time of publication. Every effort is made to ensure their timeliness, accuracy, and completeness. When errors are discovered, corrections and revisions are incorporated into the digital editions available from the IMF website and on the IMF eLibrary. All substantive changes are listed in the Table of Contents of the online PDF of the report.\n",
      "{'source': '/data/chuang/QA_LangChan/Knowledge_Base/2022_FM_April_0.txt'} 0\n",
      "token length : 260\n",
      "Multiple digital editions of the Fiscal Monitor, including ePub, enhanced PDF, Mobi, and HTML, are available on the IMF eLibrary at\n",
      "Download a free PDF of the report and data sets for each of the charts therein from the IMF website at or scan the QR code below to access the Fiscal Monitor web page directly:\n",
      "The projections included in this issue of the Fiscal Monitor are drawn from the same database used for the April 2022 World Economic Outlook and Global Financial Stability Report (and are referred to as “IMF staff projections”). Fiscal projections refer to the general government, unless otherwise indicated. Short-term projections are based on officially announced budgets, adjusted for differences between the national authorities and the IMF staff regarding macroeconomic assumptions. The fiscal projections incorporate policy measures that are judged by the IMF staff as likely to be implemented. For countries supported by an IMF arrangement, the projections are those under the arrangement. In cases in which the IMF staff has insufficient information to assess the authorities’ budget inten- tions and prospects for policy implementation, an unchanged cyclically adjusted primary balance is assumed, unless indicated otherwise. Details on the composition of the groups, as well as country-specific assumptions, can be found in the Methodological and Statistical Appendix of the April 2022 Fiscal Monitor.\n"
     ]
    }
   ],
   "source": [
    "for i in range(2):\n",
    "    print(allchunks[i].metadata,allchunks[i].lookup_index)\n",
    "    print(\"token length : {}\".format(tiktoken_len(allchunks[i].page_content)))\n",
    "    print(allchunks[i].page_content)\n",
    "    "
   ]
  },
  {
   "attachments": {},
   "cell_type": "markdown",
   "metadata": {},
   "source": [
    "#### Creating Embedings "
   ]
  },
  {
   "cell_type": "code",
   "execution_count": 57,
   "metadata": {},
   "outputs": [],
   "source": [
    "### Load all API keys \n",
    "openai_key = load_json('/home/chuang/Dev/Keys/openai_key.json') \n",
    "hf_key = load_json('/home/chuang/Dev/Keys/huggingface_key.json')\n",
    "os.environ['OPENAI_API_KEY'] = openai_key['ChatGPT']['API_KEY']\n",
    "os.environ['HUGGINGFACEHUB_API_TOKEN'] = hf_key['HuggingFace']['API_KEY']"
   ]
  },
  {
   "attachments": {},
   "cell_type": "markdown",
   "metadata": {},
   "source": [
    "- initialize model with openai embeding; of course you can use other mebeding models as well "
   ]
  },
  {
   "cell_type": "code",
   "execution_count": 58,
   "metadata": {},
   "outputs": [],
   "source": [
    "model_name = 'text-embedding-ada-002'  ## this is the recommended embeding modle for gpt3.5\n",
    "\n",
    "embed = OpenAIEmbeddings(\n",
    "    document_model_name=model_name,\n",
    "    query_model_name=model_name,        ## you can set different model to embed queries \n",
    "    openai_api_key=os.environ['OPENAI_API_KEY'] \n",
    ")"
   ]
  },
  {
   "cell_type": "code",
   "execution_count": 70,
   "metadata": {},
   "outputs": [
    {
     "name": "stdout",
     "output_type": "stream",
     "text": [
      "embeding size : 1 1536\n"
     ]
    }
   ],
   "source": [
    "## try one example \n",
    "res = embed.embed_documents([allchunks[0].page_content]) ## need to put them in list \n",
    "print(\"embeding size :\",len(res), len(res[0]))"
   ]
  },
  {
   "attachments": {},
   "cell_type": "markdown",
   "metadata": {},
   "source": [
    "- embeding everything and samve to chroma "
   ]
  },
  {
   "cell_type": "code",
   "execution_count": 72,
   "metadata": {},
   "outputs": [
    {
     "name": "stdout",
     "output_type": "stream",
     "text": [
      "Running Chroma using direct local API.\n",
      "No existing DB found in /data/chuang/QA_LangChan/KB_Index/chroma, skipping load\n",
      "No existing DB found in /data/chuang/QA_LangChan/KB_Index/chroma, skipping load\n",
      "Persisting DB to disk, putting it in the save folder /data/chuang/QA_LangChan/KB_Index/chroma\n"
     ]
    }
   ],
   "source": [
    "#docsearch = Chroma.from_texts(texts, embeddings)\n",
    "vectordb = Chroma.from_documents(allchunks, embed,persist_directory=Index_Save_Path)\n",
    "vectordb.persist()"
   ]
  },
  {
   "attachments": {},
   "cell_type": "markdown",
   "metadata": {},
   "source": [
    "- load back from local "
   ]
  },
  {
   "cell_type": "code",
   "execution_count": 73,
   "metadata": {},
   "outputs": [
    {
     "name": "stdout",
     "output_type": "stream",
     "text": [
      "Running Chroma using direct local API.\n",
      "loaded in 556 embeddings\n",
      "loaded in 1 collections\n",
      "collection with name langchain already exists, returning existing collection\n",
      "PersistentDuckDB del, about to run persist\n",
      "Persisting DB to disk, putting it in the save folder /data/chuang/QA_LangChan/KB_Index/chroma\n"
     ]
    }
   ],
   "source": [
    "# Now we can load the persisted database from disk, and use it as normal. \n",
    "vectordb = Chroma(persist_directory=Index_Save_Path, embedding_function=embed)"
   ]
  },
  {
   "cell_type": "code",
   "execution_count": 92,
   "metadata": {},
   "outputs": [
    {
     "name": "stdout",
     "output_type": "stream",
     "text": [
      "lobal economic prospects have worsened significantly since our last World Economic Outlook forecast in January. At the time, we had projected the global recovery to\n",
      "strengthen from the second quarter of this year after a short-lived impact of the Omicron variant. Since then, the outlook has deteriorated, largely because of Russia’s invasion of Ukraine—causing a tragic\n",
      "This crisis unfolds while the global economy was on a mending path but had not yet fully recovered from the COVID-19 pandemic, with a significant diver- gence between the economic recoveries of advanced economies and emerging market and developing ones. In addition to the war, frequent and wider-ranging lockdowns in China—including in key manufactur- ing hubs—have also slowed activity there and could cause new bottlenecks in global supply chains. Higher, broader, and more persistent price pressures also led\n",
      "to a tightening of monetary policy in many coun- tries. Overall risks to economic prospects have risen sharply and policy trade-offs have become ever more challenging.\n",
      "Beyond the immediate humanitarian impacts, the war will severely set back the global recovery, slow- ing growth and increasing inflation even further. This report projects global growth at 3.6 percent in 2022 and 2023—0.8 and 0.2 percentage points lower than in the January forecast, respectively. The downgrade largely reflects the war’s direct impacts on Russia and Ukraine and global spillovers.\n",
      "Both Russia and Ukraine are projected to experi- ence large GDP contractions in 2022. The severe collapse in Ukraine is a direct result of the invasion, destruction of infrastructure, and exodus of its people.\n",
      "In Russia, the sharp decline reflects the impact of the sanctions with a severing of trade ties, greatly impaired domestic financial intermediation, and loss of confidence.\n",
      "0.3095918893814087\n"
     ]
    }
   ],
   "source": [
    "Q = \"weo macro-economic forecast in 2022\" \n",
    "res_docs = vectordb.similarity_search_with_score(Q,k=10) ## with this wraper, you can only filter by matadata\n",
    "t,score = res_docs[-1]\n",
    "print(t.page_content)\n",
    "print(score)"
   ]
  },
  {
   "attachments": {},
   "cell_type": "markdown",
   "metadata": {},
   "source": [
    "#### vector matching with keywords, and metadata filtering \n",
    "- please see [Chroma doc](https://docs.trychroma.com/usage-guide#querying-a-collection) for details \n",
    "- see chroma object code [here](https://github.com/hwchase17/langchain/blob/75149d6d38cc8952ebaf13d7b9fe48c466dbfa19/langchain/vectorstores/chroma.py#L19)"
   ]
  },
  {
   "cell_type": "code",
   "execution_count": 157,
   "metadata": {},
   "outputs": [],
   "source": [
    "from langchain.vectorstores.chroma import _results_to_docs_and_scores"
   ]
  },
  {
   "cell_type": "code",
   "execution_count": 160,
   "metadata": {},
   "outputs": [
    {
     "name": "stdout",
     "output_type": "stream",
     "text": [
      "(Document(page_content='A number of assumptions have been adopted for the projections presented in the World Economic Outlook (WEO). It has been assumed that real effective exchange rates remained constant at their average levels during February 22, 2022 to March 22, 2022, except for those for the currencies participating in the European exchange rate mechanism II, which are assumed to have remained constant in nominal terms relative to the euro; that established policies of national authorities will be maintained (for specific assumptions about fiscal and monetary policies for selected economies, see Box A1 in the Statistical Appendix); that the average price of oil will be\\n$106.83 a barrel in 2022 and $92.63 a barrel in 2023; that the three-month government bond yield for the United States will average 0.9 percent in 2022 and 2.4 percent in 2023, for the euro area will average –0.7 percent in 2022 and 0.0 percent in 2023, and for Japan will average 0.0 percent in 2022 and 0.1 percent in 2023; and\\nthat the 10-year government bond yield for the United States will average 2.6 percent in 2022 and 3.4 percent in 2023, for the euro area will average 0.4 percent in 2022 and 0.6 percent in 2023, and for Japan will average\\n0.3 percent in 2022 and 0.4 percent in 2023. These are, of course, working hypotheses rather than forecasts, and the uncertainties surrounding them add to the margin of error that would, in any event, be involved in the projections. The estimates and projections are based on statistical information available through April 8, 2022.\\n– between years or months (for example, 2021–22 or January–June) to indicate the years or months covered, including the beginning and ending years or months; and\\n“Basis points” refers to hundredths of 1 percentage point (for example, 25 basis points are equivalent to ¼ of 1 percentage point).', lookup_str='', metadata={'source': '/data/chuang/QA_LangChan/Knowledge_Base/2022_WEO_April_0.txt'}, lookup_index=0), 0.24065613746643066)\n"
     ]
    }
   ],
   "source": [
    "## vector search with \"china\" as keyword\n",
    "q_embedding = vectordb._embedding_function.embed_query(Q)\n",
    "res = vectordb._collection.query(query_embeddings=q_embedding,n_results=5,\n",
    "                                 where_document={\"$or\":[\n",
    "                                                {\"$contains\":\"China\"},\n",
    "                                                {\"$contains\":\"china\"}\n",
    "                                                ]})\n",
    "r = _results_to_docs_and_scores(res)\n",
    "print(r[0])"
   ]
  },
  {
   "attachments": {},
   "cell_type": "markdown",
   "metadata": {},
   "source": [
    "#### Generative Question-Answering\n",
    "- [OverallQA](https://langchain.readthedocs.io/en/latest/use_cases/question_answering.html)\n",
    "- [QA DOC](https://langchain.readthedocs.io/en/latest/modules/indexes/chain_examples/qa_with_sources.html)\n",
    "- [VectorDB QA](https://langchain.readthedocs.io/en/latest/modules/indexes/chain_examples/vector_db_qa_with_sources.html)\n"
   ]
  },
  {
   "cell_type": "code",
   "execution_count": 122,
   "metadata": {},
   "outputs": [],
   "source": [
    "from langchain import OpenAI, VectorDBQA,VectorDBQAWithSourcesChain\n",
    "# completion llm\n",
    "llm = OpenAI(\n",
    "    openai_api_key=os.environ['OPENAI_API_KEY'],\n",
    "    model_name='gpt-3.5-turbo',\n",
    "    temperature=0.0\n",
    ")\n",
    "\n",
    "qa_with_sources = VectorDBQAWithSourcesChain.from_chain_type(\n",
    "    llm=llm,\n",
    "    chain_type=\"stuff\",#only work with small context \n",
    "    vectorstore=vectordb,\n",
    "    k=5,\n",
    "    return_source_documents=True)\n"
   ]
  },
  {
   "cell_type": "code",
   "execution_count": 123,
   "metadata": {},
   "outputs": [],
   "source": [
    "Q = \"what is our macro economic forecast for 2022\" \n",
    "res = qa_with_sources(Q)"
   ]
  },
  {
   "cell_type": "code",
   "execution_count": 112,
   "metadata": {},
   "outputs": [
    {
     "data": {
      "text/plain": [
       "{'question': 'what is our macro economic forecast for 2022',\n",
       " 'answer': 'The macroeconomic forecast for 2022 is uncertain, with high inflation expected to persist and downside risks dominating, including from a possible worsening of the war, escalation of sanctions on Russia, a sharper-than-anticipated deceleration in China as a strict zero-COVID strategy is tested by Omicron, and a renewed flare-up of the pandemic should a new, more virulent virus strain emerge. The forecast for emerging market and developing economies is expected to be worse than for advanced economies, with output remaining below pre-pandemic trends throughout the forecast horizon. Specific projections for individual countries are also provided in the sources. \\n',\n",
       " 'sources': '/data/chuang/QA_LangChan/Knowledge_Base/2022_FM_April_0.txt, /data/chuang/QA_LangChan/Knowledge_Base/2022_WEO_April_0.txt',\n",
       " 'source_documents': [Document(page_content='Estonia: The forecast incorporates the authorities’ approved supplementary budget for 2021, and the approved budget for 2022, adjusted for newly available information (e.g., measures to mitigate the impact\\nof higher energy costs; and the impact of the war in Ukraine) for Staff’s macroeconomic scenario.\\nFinland: Projections for 2021 onward are based on the measures of the 2018–21 budget laws and the draft-amending budget law presented in June 2021, adjusted for differences in assumptions on macro- economic and financial variables and in revenue projections.\\nFrance: Projections for 2022 onward are based on the measures of the 2018–22 budget laws adjusted for differences in revenue projections and assumptions on macroeconomic and financial variables.\\nGermany: IMF staff’s projections for 2022 and beyond are based on the provisional 2022 budget, the federal government’s medium-term budget plan, and data updates from the national statistical agency (Destatis) and the ministry of finance, adjusted for\\ndifferences in the IMF staff’s macroeconomic framework and assumptions concerning revenue elasticities. The estimate of gross debt includes portfolios of impaired assets and noncore business transferred to institutions that are winding up as well as other financial sector and EU support operations.\\nGreece: Data since 2010 reflect adjustments in line with the primary balance definition under the enhanced surveillance framework for Greece.\\nHong Kong Special Administrative Region: Projec- tions are based on the authorities’ medium-term fiscal projections of expenditures.\\nHungary: Fiscal projections include IMF staff pro- jections of the macroeconomic framework and fiscal policy plans announced in the 2020 budget.', lookup_str='', metadata={'source': '/data/chuang/QA_LangChan/Knowledge_Base/2022_FM_April_0.txt'}, lookup_index=0),\n",
       "  Document(page_content='and the pandemic’s health and economic impacts abate over the course of 2022. With a few excep- tions, employment and output will typically remain below pre-pandemic trends through 2026. Scarring effects are expected to be much larger in emerging market and developing economies than in advanced economies—reflecting more limited policy sup- port and generally slower vaccination—with output expected to remain below the pre-pandemic trend throughout the forecast horizon. Unusually high uncertainty surrounds this forecast, and downside\\nrisks to the global outlook dominate—including from a possible worsening of the war, escalation of sanc- tions on Russia, a sharper-than-anticipated decelera- tion in China as a strict zero-COVID strategy is tested by Omicron, and a renewed flare-up of the pandemic should a new, more virulent virus strain emerge. Moreover, the war in Ukraine has increased the probability of wider social tensions because of higher food and energy prices, which would further weigh on the outlook.\\nInflation is expected to remain elevated for longer than in the previous forecast, driven by war-induced commodity price increases and broadening price pres- sures. For 2022, inflation is projected at 5.7 percent in advanced economies and 8.7 percent in emerging mar- ket and developing economies—1.8 and 2.8 percentage points higher than projected in January. Although a gradual resolution of supply-demand imbalances and a modest pickup in labor supply are expected in the base- line, easing price inflation eventually, uncertainty again surrounds the forecast. Conditions could significantly deteriorate. Worsening supply-demand imbalances— including those stemming from the war—and further increases in commodity prices could lead to persistently high inflation, rising inflation expectations, and stron-', lookup_str='', metadata={'source': '/data/chuang/QA_LangChan/Knowledge_Base/2022_WEO_April_0.txt'}, lookup_index=0),\n",
       "  Document(page_content='China: After a significant tightening in 2021, the pace of fiscal tightening is projected to slow in 2022 based on Article IV consultation findings and public statements by the authorities.\\nDenmark: Estimates for the current year are aligned with the latest official budget numbers, adjusted where appropriate for the IMF staff’s macro- economic assumptions. Beyond the current year, the projections incorporate key features of the medium- term fiscal plan as embodied in the authorities’ latest budget. Structural balances are net of temporary fluctuations in some revenues (for example, North Sea revenue, pension yield tax revenue) and one-offs (COVID-19–related one-offs are, however, included).\\nFrance: Projections for 2022 onward are based on the measures of the 2018–22 budget laws adjusted for differences in revenue projections and assump- tions on macroeconomic and financial variables.\\nGermany: The IMF staff’s projections for 2022 and beyond are based on the provisional 2022 bud- get, the federal government’s medium-term budget plan, and data updates from the national statisti- cal agency (Destatis) and the ministry of finance, adjusted for differences in the IMF staff’s macro- economic framework and assumptions concern-\\ning revenue elasticities. The estimate of gross debt includes portfolios of impaired assets and noncore business transferred to institutions that are winding up as well as other financial sector and EU support operations.\\nGreece: Data since 2010 reflect adjustments in line with the primary balance definition under the enhanced surveillance framework for Greece.\\nHong Kong Special Administrative Region: Projec- tions are based on the authorities’ medium-term fiscal projections of expenditures.\\nHungary: Fiscal projections include the IMF staff’s projections of the macroeconomic framework and fiscal policy plans announced in the 2020 budget.', lookup_str='', metadata={'source': '/data/chuang/QA_LangChan/Knowledge_Base/2022_WEO_April_0.txt'}, lookup_index=0),\n",
       "  Document(page_content='in 2023, and for Japan will average 0.3 percent in 2022 and 0.4 percent in 2023.\\nArgentina: Monetary projections are consistent with the overall macroeconomic framework, the fiscal and financing plans, and the monetary and foreign exchange policies under the crawling peg regime.\\nAustralia: Monetary policy assumptions are based on the IMF staff’s analysis and the expected infla- tion path.\\nBrazil: Monetary policy assumptions are consis- tent with the convergence of inflation toward the middle of the target range by the end of 2023.\\ncurrent forecast reflects the new data and the war in Ukraine. While the headline inflation is assumed to increase significantly, the policy response is muted due to the forward-looking\\nChina: The overall monetary policy stance was moderately tight in 2021, but it is expected to be moderately accommodative in 2022.\\nEuro area: Monetary policy assumptions for euro area member countries are in line with market expectations.\\nGreece: Broad money projections are based on monetary financial institution balance sheets and deposit flow assumptions.\\nHong Kong Special Administrative Region: The IMF staff assumes that the currency board system will remain intact.\\nIndia: Monetary policy projections are consistent with achieving the Reserve Bank of India’s inflation target over the medium term.\\nIndonesia: Monetary policy assumptions are in line with inflation within the central bank’s target band over the medium term.\\nItaly: The IMF staff’s estimates and projections are informed by the actual outturn and policy plans by the Bank of Italy and the European Central Bank’s monetary policy stance forecast from the IMF’s euro area team.\\nThe Netherlands: Monetary projections are based on the IMF staff ’s estimated six-month euro Lon- don interbank offered rate projections.\\nPortugal: Monetary policy assumptions are based on the country desk officers’ spreadsheets, given input projections for the real and fiscal sectors.', lookup_str='', metadata={'source': '/data/chuang/QA_LangChan/Knowledge_Base/2022_WEO_April_0.txt'}, lookup_index=0),\n",
       "  Document(page_content='Asia: Developments in China continue to dominate the outlook for Asia, especially for emerging Asia. As noted, the combination of more transmissible variants and the strict zero-COVID strategy in China has led to repeated mobility restrictions and localized lockdowns that, together with an anemic recovery in urban employment, have weighed on private consumption. Recent lockdowns in key manufacturing and trading hubs such as Shenzhen and Shanghai will likely compound supply disruptions elsewhere in the region and beyond. Moreover, real estate\\ninvestment growth has slowed significantly. External demand is also expected to be weaker in light of the war in Ukraine. While partially offset by more supportive macroeconomic policy, these factors contribute to a\\n0.4 percentage point forecast downgrade for 2022. For the region more broadly, limited direct trade links to Russia and Ukraine mean that spillover effects will be limited\\nto the commodity price channel and to indirect impacts via weaker demand from key trading partners, such as the euro area. As such, external positions are generally\\nexpected to deteriorate—particularly for net oil importers. Notable downgrades to the 2022 forecast include Japan (0.9 percentage point) and India (0.8 percentage point), reflecting in part weaker domestic demand—as higher oil prices are expected to weigh on private consumption and investment—and a drag from lower net exports.', lookup_str='', metadata={'source': '/data/chuang/QA_LangChan/Knowledge_Base/2022_WEO_April_0.txt'}, lookup_index=0)]}"
      ]
     },
     "execution_count": 112,
     "metadata": {},
     "output_type": "execute_result"
    }
   ],
   "source": [
    "res"
   ]
  },
  {
   "cell_type": "code",
   "execution_count": 117,
   "metadata": {},
   "outputs": [
    {
     "name": "stdout",
     "output_type": "stream",
     "text": [
      "336\n",
      "371\n",
      "371\n"
     ]
    }
   ],
   "source": [
    "print(tiktoken_len(res['source_documents'][0].page_content))\n",
    "print(tiktoken_len(res['source_documents'][1].page_content))\n",
    "print(tiktoken_len(res['source_documents'][2].page_content))"
   ]
  },
  {
   "attachments": {},
   "cell_type": "markdown",
   "metadata": {},
   "source": [
    "#### Now let's break it down using more customized process"
   ]
  },
  {
   "cell_type": "code",
   "execution_count": 167,
   "metadata": {},
   "outputs": [],
   "source": [
    "from langchain.chains.qa_with_sources import load_qa_with_sources_chain"
   ]
  },
  {
   "attachments": {},
   "cell_type": "markdown",
   "metadata": {},
   "source": [
    "- Here, you can do some filtering on your retrieved restults \n",
    "- e.g similarity score threshold, do an rerank score etc "
   ]
  },
  {
   "cell_type": "code",
   "execution_count": 213,
   "metadata": {},
   "outputs": [
    {
     "name": "stdout",
     "output_type": "stream",
     "text": [
      "3\n",
      "page_content='United States and Canada: Economic links between Russia and the United States and Canada are limited. Other factors also have a significant impact on the outlook for the two economies. The forecast for the United States was already downgraded in January, largely reflecting non-passage of the Build Back Better fiscal policy package and continued supply chain dis- ruptions. The additional 0.3 percentage point forecast markdown for 2022 in the current round reflects faster withdrawal of monetary support than in the previous projection—as policy tightens to rein in inflation—and the impact of lower growth in trading partners because of disruptions resulting from the war. The forecast for Canada is marked down 0.2 percentage point, reflect- ing the withdrawal of policy support and weaker exter- nal demand from the United States, which outweigh the lift from favorable terms of trade effects.\\nLatin America and the Caribbean: With fewer direct connections to Europe, the region is also expected to be more affected by inflation and policy tightening.\\nBrazil has responded to higher inflation by increasing interest rates 975 basis points over the past year, which will weigh on domestic demand. To a lesser extent, this is also the case in Mexico. The downgrades to the forecasts for the United States and China also weigh on the outlook for trading partners in the region.\\nThe fluid international situation means that quanti- tative forecasts are even more uncertain than usual. Yet some channels through which the war and associated sanctions will affect the global economy seem relatively clear, even if their magnitudes are difficult to assess. The following sections explore these channels in some detail.\\nNote: Real effective exchange rates are assumed to remain constant at the levels prevailing during February 7, 2022–March 7, 2022. Economies are listed on the basis of economic size. The aggregated quarterly data are seasonally adjusted. WEO = World Economic Outlook.\\n1Difference based on rounded figures for the current, January 2022 WEO Update, and October 2021 WEO forecasts.' lookup_str='' metadata={'source': '/data/chuang/QA_LangChan/Knowledge_Base/2022_WEO_April_0.txt'} lookup_index=0\n"
     ]
    }
   ],
   "source": [
    "Q = \"weo macro-economic forecast in 2022\" \n",
    "## vector search with \"china\" as keyword\n",
    "q_embedding = vectordb._embedding_function.embed_query(Q)\n",
    "res = vectordb._collection.query(query_embeddings=q_embedding,n_results=3,\n",
    "                                 where_document={\"$or\":[\n",
    "                                                {\"$contains\":\"China\"},\n",
    "                                                {\"$contains\":\"china\"}\n",
    "                                                ]})\n",
    "res_formated = _results_to_docs_and_scores(res)\n",
    "docs = [i[0] for i in res_formated]\n",
    "print(len(docs))\n",
    "print(docs[0])"
   ]
  },
  {
   "attachments": {},
   "cell_type": "markdown",
   "metadata": {},
   "source": [
    "- use loadQAwithSourceChain and pass in retrieved doc as context "
   ]
  },
  {
   "cell_type": "code",
   "execution_count": 214,
   "metadata": {},
   "outputs": [],
   "source": [
    "QA_chain = load_qa_with_sources_chain(llm, chain_type=\"stuff\",verbose=True)\n"
   ]
  },
  {
   "attachments": {},
   "cell_type": "markdown",
   "metadata": {},
   "source": [
    "- we can see how the staff chain works; see [code](https://github.com/hwchase17/langchain/blob/ff4a25b841f1cca6f4a973067d39dcc5ec2dcf81/langchain/chains/combine_documents/stuff.py#L18) \n",
    "- it will first put all context together"
   ]
  },
  {
   "cell_type": "code",
   "execution_count": 215,
   "metadata": {},
   "outputs": [
    {
     "name": "stdout",
     "output_type": "stream",
     "text": [
      "Content: United States and Canada: Economic links between Russia and the United States and Canada are limited. Other factors also have a significant impact on the outlook for the two economies. The forecast for the United States was already downgraded in January, largely reflecting non-passage of the Build Back Better fiscal policy package and continued supply chain dis- ruptions. The additional 0.3 percentage point forecast markdown for 2022 in the current round reflects faster withdrawal of monetary support than in the previous projection—as policy tightens to rein in inflation—and the impact of lower growth in trading partners because of disruptions resulting from the war. The forecast for Canada is marked down 0.2 percentage point, reflect- ing the withdrawal of policy support and weaker exter- nal demand from the United States, which outweigh the lift from favorable terms of trade effects.\n",
      "Latin America and the Caribbean: With fewer direct connections to Europe, the region is also expected to be more affected by inflation and policy tightening.\n",
      "Brazil has responded to higher inflation by increasing interest rates 975 basis points over the past year, which will weigh on domestic demand. To a lesser extent, this is also the case in Mexico. The downgrades to the forecasts for the United States and China also weigh on the outlook for trading partners in the region.\n",
      "The fluid international situation means that quanti- tative forecasts are even more uncertain than usual. Yet some channels through which the war and associated sanctions will affect the global economy seem relatively clear, even if their magnitudes are difficult to assess. The following sections explore these channels in some detail.\n",
      "Note: Real effective exchange rates are assumed to remain constant at the levels prevailing during February 7, 2022–March 7, 2022. Economies are listed on the basis of economic size. The aggregated quarterly data are seasonally adjusted. WEO = World Economic Outlook.\n",
      "1Difference based on rounded figures for the current, January 2022 WEO Update, and October 2021 WEO forecasts.\n",
      "Source: /data/chuang/QA_LangChan/Knowledge_Base/2022_WEO_April_0.txt\n",
      "\n",
      "Content: and the pandemic’s health and economic impacts abate over the course of 2022. With a few excep- tions, employment and output will typically remain below pre-pandemic trends through 2026. Scarring effects are expected to be much larger in emerging market and developing economies than in advanced economies—reflecting more limited policy sup- port and generally slower vaccination—with output expected to remain below the pre-pandemic trend throughout the forecast horizon. Unusually high uncertainty surrounds this forecast, and downside\n",
      "risks to the global outlook dominate—including from a possible worsening of the war, escalation of sanc- tions on Russia, a sharper-than-anticipated decelera- tion in China as a strict zero-COVID strategy is tested by Omicron, and a renewed flare-up of the pandemic should a new, more virulent virus strain emerge. Moreover, the war in Ukraine has increased the probability of wider social tensions because of higher food and energy prices, which would further weigh on the outlook.\n",
      "Inflation is expected to remain elevated for longer than in the previous forecast, driven by war-induced commodity price increases and broadening price pres- sures. For 2022, inflation is projected at 5.7 percent in advanced economies and 8.7 percent in emerging mar- ket and developing economies—1.8 and 2.8 percentage points higher than projected in January. Although a gradual resolution of supply-demand imbalances and a modest pickup in labor supply are expected in the base- line, easing price inflation eventually, uncertainty again surrounds the forecast. Conditions could significantly deteriorate. Worsening supply-demand imbalances— including those stemming from the war—and further increases in commodity prices could lead to persistently high inflation, rising inflation expectations, and stron-\n",
      "Source: /data/chuang/QA_LangChan/Knowledge_Base/2022_WEO_April_0.txt\n",
      "\n",
      "Content: lobal economic prospects have worsened significantly since our last World Economic Outlook forecast in January. At the time, we had projected the global recovery to\n",
      "strengthen from the second quarter of this year after a short-lived impact of the Omicron variant. Since then, the outlook has deteriorated, largely because of Russia’s invasion of Ukraine—causing a tragic\n",
      "This crisis unfolds while the global economy was on a mending path but had not yet fully recovered from the COVID-19 pandemic, with a significant diver- gence between the economic recoveries of advanced economies and emerging market and developing ones. In addition to the war, frequent and wider-ranging lockdowns in China—including in key manufactur- ing hubs—have also slowed activity there and could cause new bottlenecks in global supply chains. Higher, broader, and more persistent price pressures also led\n",
      "to a tightening of monetary policy in many coun- tries. Overall risks to economic prospects have risen sharply and policy trade-offs have become ever more challenging.\n",
      "Beyond the immediate humanitarian impacts, the war will severely set back the global recovery, slow- ing growth and increasing inflation even further. This report projects global growth at 3.6 percent in 2022 and 2023—0.8 and 0.2 percentage points lower than in the January forecast, respectively. The downgrade largely reflects the war’s direct impacts on Russia and Ukraine and global spillovers.\n",
      "Both Russia and Ukraine are projected to experi- ence large GDP contractions in 2022. The severe collapse in Ukraine is a direct result of the invasion, destruction of infrastructure, and exodus of its people.\n",
      "In Russia, the sharp decline reflects the impact of the sanctions with a severing of trade ties, greatly impaired domestic financial intermediation, and loss of confidence.\n",
      "Source: /data/chuang/QA_LangChan/Knowledge_Base/2022_WEO_April_0.txt\n"
     ]
    }
   ],
   "source": [
    "temp = QA_chain._get_inputs(docs)\n",
    "print(temp['summaries'])"
   ]
  },
  {
   "attachments": {},
   "cell_type": "markdown",
   "metadata": {},
   "source": [
    "- then check prompt length. if length > 4k, we need to trunk it donwn, otherwise, it will error out"
   ]
  },
  {
   "cell_type": "code",
   "execution_count": 216,
   "metadata": {},
   "outputs": [
    {
     "name": "stderr",
     "output_type": "stream",
     "text": [
      "Token indices sequence length is longer than the specified maximum sequence length for this model (2763 > 1024). Running this sequence through the model will result in indexing errors\n"
     ]
    },
    {
     "data": {
      "text/plain": [
       "2763"
      ]
     },
     "execution_count": 216,
     "metadata": {},
     "output_type": "execute_result"
    }
   ],
   "source": [
    "QA_chain.prompt_length(docs,question=Q)"
   ]
  },
  {
   "cell_type": "code",
   "execution_count": 224,
   "metadata": {},
   "outputs": [
    {
     "name": "stdout",
     "output_type": "stream",
     "text": [
      "\n",
      "\n",
      "\u001b[1m> Entering new StuffDocumentsChain chain...\u001b[0m\n",
      "\n",
      "\n",
      "\u001b[1m> Entering new LLMChain chain...\u001b[0m\n",
      "Prompt after formatting:\n",
      "\u001b[32;1m\u001b[1;3mGiven the following extracted parts of a long document and a question, create a final answer with references (\"SOURCES\"). \n",
      "If you don't know the answer, just say that you don't know. Don't try to make up an answer.\n",
      "ALWAYS return a \"SOURCES\" part in your answer.\n",
      "\n",
      "QUESTION: Which state/country's law governs the interpretation of the contract?\n",
      "=========\n",
      "Content: This Agreement is governed by English law and the parties submit to the exclusive jurisdiction of the English courts in  relation to any dispute (contractual or non-contractual) concerning this Agreement save that either party may apply to any court for an  injunction or other relief to protect its Intellectual Property Rights.\n",
      "Source: 28-pl\n",
      "Content: No Waiver. Failure or delay in exercising any right or remedy under this Agreement shall not constitute a waiver of such (or any other)  right or remedy.\n",
      "\n",
      "11.7 Severability. The invalidity, illegality or unenforceability of any term (or part of a term) of this Agreement shall not affect the continuation  in force of the remainder of the term (if any) and this Agreement.\n",
      "\n",
      "11.8 No Agency. Except as expressly stated otherwise, nothing in this Agreement shall create an agency, partnership or joint venture of any  kind between the parties.\n",
      "\n",
      "11.9 No Third-Party Beneficiaries.\n",
      "Source: 30-pl\n",
      "Content: (b) if Google believes, in good faith, that the Distributor has violated or caused Google to violate any Anti-Bribery Laws (as  defined in Clause 8.5) or that such a violation is reasonably likely to occur,\n",
      "Source: 4-pl\n",
      "=========\n",
      "FINAL ANSWER: This Agreement is governed by English law.\n",
      "SOURCES: 28-pl\n",
      "\n",
      "QUESTION: What did the president say about Michael Jackson?\n",
      "=========\n",
      "Content: Madam Speaker, Madam Vice President, our First Lady and Second Gentleman. Members of Congress and the Cabinet. Justices of the Supreme Court. My fellow Americans.  \n",
      "\n",
      "Last year COVID-19 kept us apart. This year we are finally together again. \n",
      "\n",
      "Tonight, we meet as Democrats Republicans and Independents. But most importantly as Americans. \n",
      "\n",
      "With a duty to one another to the American people to the Constitution. \n",
      "\n",
      "And with an unwavering resolve that freedom will always triumph over tyranny. \n",
      "\n",
      "Six days ago, Russia’s Vladimir Putin sought to shake the foundations of the free world thinking he could make it bend to his menacing ways. But he badly miscalculated. \n",
      "\n",
      "He thought he could roll into Ukraine and the world would roll over. Instead he met a wall of strength he never imagined. \n",
      "\n",
      "He met the Ukrainian people. \n",
      "\n",
      "From President Zelenskyy to every Ukrainian, their fearlessness, their courage, their determination, inspires the world. \n",
      "\n",
      "Groups of citizens blocking tanks with their bodies. Everyone from students to retirees teachers turned soldiers defending their homeland.\n",
      "Source: 0-pl\n",
      "Content: And we won’t stop. \n",
      "\n",
      "We have lost so much to COVID-19. Time with one another. And worst of all, so much loss of life. \n",
      "\n",
      "Let’s use this moment to reset. Let’s stop looking at COVID-19 as a partisan dividing line and see it for what it is: A God-awful disease.  \n",
      "\n",
      "Let’s stop seeing each other as enemies, and start seeing each other for who we really are: Fellow Americans.  \n",
      "\n",
      "We can’t change how divided we’ve been. But we can change how we move forward—on COVID-19 and other issues we must face together. \n",
      "\n",
      "I recently visited the New York City Police Department days after the funerals of Officer Wilbert Mora and his partner, Officer Jason Rivera. \n",
      "\n",
      "They were responding to a 9-1-1 call when a man shot and killed them with a stolen gun. \n",
      "\n",
      "Officer Mora was 27 years old. \n",
      "\n",
      "Officer Rivera was 22. \n",
      "\n",
      "Both Dominican Americans who’d grown up on the same streets they later chose to patrol as police officers. \n",
      "\n",
      "I spoke with their families and told them that we are forever in debt for their sacrifice, and we will carry on their mission to restore the trust and safety every community deserves.\n",
      "Source: 24-pl\n",
      "Content: And a proud Ukrainian people, who have known 30 years  of independence, have repeatedly shown that they will not tolerate anyone who tries to take their country backwards.  \n",
      "\n",
      "To all Americans, I will be honest with you, as I’ve always promised. A Russian dictator, invading a foreign country, has costs around the world. \n",
      "\n",
      "And I’m taking robust action to make sure the pain of our sanctions  is targeted at Russia’s economy. And I will use every tool at our disposal to protect American businesses and consumers. \n",
      "\n",
      "Tonight, I can announce that the United States has worked with 30 other countries to release 60 Million barrels of oil from reserves around the world.  \n",
      "\n",
      "America will lead that effort, releasing 30 Million barrels from our own Strategic Petroleum Reserve. And we stand ready to do more if necessary, unified with our allies.  \n",
      "\n",
      "These steps will help blunt gas prices here at home. And I know the news about what’s happening can seem alarming. \n",
      "\n",
      "But I want you to know that we are going to be okay.\n",
      "Source: 5-pl\n",
      "Content: More support for patients and families. \n",
      "\n",
      "To get there, I call on Congress to fund ARPA-H, the Advanced Research Projects Agency for Health. \n",
      "\n",
      "It’s based on DARPA—the Defense Department project that led to the Internet, GPS, and so much more.  \n",
      "\n",
      "ARPA-H will have a singular purpose—to drive breakthroughs in cancer, Alzheimer’s, diabetes, and more. \n",
      "\n",
      "A unity agenda for the nation. \n",
      "\n",
      "We can do this. \n",
      "\n",
      "My fellow Americans—tonight , we have gathered in a sacred space—the citadel of our democracy. \n",
      "\n",
      "In this Capitol, generation after generation, Americans have debated great questions amid great strife, and have done great things. \n",
      "\n",
      "We have fought for freedom, expanded liberty, defeated totalitarianism and terror. \n",
      "\n",
      "And built the strongest, freest, and most prosperous nation the world has ever known. \n",
      "\n",
      "Now is the hour. \n",
      "\n",
      "Our moment of responsibility. \n",
      "\n",
      "Our test of resolve and conscience, of history itself. \n",
      "\n",
      "It is in this moment that our character is formed. Our purpose is found. Our future is forged. \n",
      "\n",
      "Well I know this nation.\n",
      "Source: 34-pl\n",
      "=========\n",
      "FINAL ANSWER: The president did not mention Michael Jackson.\n",
      "SOURCES:\n",
      "\n",
      "QUESTION: weo macro-economic forecast in 2022\n",
      "=========\n",
      "Content: United States and Canada: Economic links between Russia and the United States and Canada are limited. Other factors also have a significant impact on the outlook for the two economies. The forecast for the United States was already downgraded in January, largely reflecting non-passage of the Build Back Better fiscal policy package and continued supply chain dis- ruptions. The additional 0.3 percentage point forecast markdown for 2022 in the current round reflects faster withdrawal of monetary support than in the previous projection—as policy tightens to rein in inflation—and the impact of lower growth in trading partners because of disruptions resulting from the war. The forecast for Canada is marked down 0.2 percentage point, reflect- ing the withdrawal of policy support and weaker exter- nal demand from the United States, which outweigh the lift from favorable terms of trade effects.\n",
      "Latin America and the Caribbean: With fewer direct connections to Europe, the region is also expected to be more affected by inflation and policy tightening.\n",
      "Brazil has responded to higher inflation by increasing interest rates 975 basis points over the past year, which will weigh on domestic demand. To a lesser extent, this is also the case in Mexico. The downgrades to the forecasts for the United States and China also weigh on the outlook for trading partners in the region.\n",
      "The fluid international situation means that quanti- tative forecasts are even more uncertain than usual. Yet some channels through which the war and associated sanctions will affect the global economy seem relatively clear, even if their magnitudes are difficult to assess. The following sections explore these channels in some detail.\n",
      "Note: Real effective exchange rates are assumed to remain constant at the levels prevailing during February 7, 2022–March 7, 2022. Economies are listed on the basis of economic size. The aggregated quarterly data are seasonally adjusted. WEO = World Economic Outlook.\n",
      "1Difference based on rounded figures for the current, January 2022 WEO Update, and October 2021 WEO forecasts.\n",
      "Source: /data/chuang/QA_LangChan/Knowledge_Base/2022_WEO_April_0.txt\n",
      "\n",
      "Content: and the pandemic’s health and economic impacts abate over the course of 2022. With a few excep- tions, employment and output will typically remain below pre-pandemic trends through 2026. Scarring effects are expected to be much larger in emerging market and developing economies than in advanced economies—reflecting more limited policy sup- port and generally slower vaccination—with output expected to remain below the pre-pandemic trend throughout the forecast horizon. Unusually high uncertainty surrounds this forecast, and downside\n",
      "risks to the global outlook dominate—including from a possible worsening of the war, escalation of sanc- tions on Russia, a sharper-than-anticipated decelera- tion in China as a strict zero-COVID strategy is tested by Omicron, and a renewed flare-up of the pandemic should a new, more virulent virus strain emerge. Moreover, the war in Ukraine has increased the probability of wider social tensions because of higher food and energy prices, which would further weigh on the outlook.\n",
      "Inflation is expected to remain elevated for longer than in the previous forecast, driven by war-induced commodity price increases and broadening price pres- sures. For 2022, inflation is projected at 5.7 percent in advanced economies and 8.7 percent in emerging mar- ket and developing economies—1.8 and 2.8 percentage points higher than projected in January. Although a gradual resolution of supply-demand imbalances and a modest pickup in labor supply are expected in the base- line, easing price inflation eventually, uncertainty again surrounds the forecast. Conditions could significantly deteriorate. Worsening supply-demand imbalances— including those stemming from the war—and further increases in commodity prices could lead to persistently high inflation, rising inflation expectations, and stron-\n",
      "Source: /data/chuang/QA_LangChan/Knowledge_Base/2022_WEO_April_0.txt\n",
      "\n",
      "Content: lobal economic prospects have worsened significantly since our last World Economic Outlook forecast in January. At the time, we had projected the global recovery to\n",
      "strengthen from the second quarter of this year after a short-lived impact of the Omicron variant. Since then, the outlook has deteriorated, largely because of Russia’s invasion of Ukraine—causing a tragic\n",
      "This crisis unfolds while the global economy was on a mending path but had not yet fully recovered from the COVID-19 pandemic, with a significant diver- gence between the economic recoveries of advanced economies and emerging market and developing ones. In addition to the war, frequent and wider-ranging lockdowns in China—including in key manufactur- ing hubs—have also slowed activity there and could cause new bottlenecks in global supply chains. Higher, broader, and more persistent price pressures also led\n",
      "to a tightening of monetary policy in many coun- tries. Overall risks to economic prospects have risen sharply and policy trade-offs have become ever more challenging.\n",
      "Beyond the immediate humanitarian impacts, the war will severely set back the global recovery, slow- ing growth and increasing inflation even further. This report projects global growth at 3.6 percent in 2022 and 2023—0.8 and 0.2 percentage points lower than in the January forecast, respectively. The downgrade largely reflects the war’s direct impacts on Russia and Ukraine and global spillovers.\n",
      "Both Russia and Ukraine are projected to experi- ence large GDP contractions in 2022. The severe collapse in Ukraine is a direct result of the invasion, destruction of infrastructure, and exodus of its people.\n",
      "In Russia, the sharp decline reflects the impact of the sanctions with a severing of trade ties, greatly impaired domestic financial intermediation, and loss of confidence.\n",
      "Source: /data/chuang/QA_LangChan/Knowledge_Base/2022_WEO_April_0.txt\n",
      "=========\n",
      "FINAL ANSWER:\u001b[0m\n",
      "\n",
      "\u001b[1m> Finished chain.\u001b[0m\n",
      "\n",
      "\u001b[1m> Finished chain.\u001b[0m\n",
      "{'input_documents': [Document(page_content='United States and Canada: Economic links between Russia and the United States and Canada are limited. Other factors also have a significant impact on the outlook for the two economies. The forecast for the United States was already downgraded in January, largely reflecting non-passage of the Build Back Better fiscal policy package and continued supply chain dis- ruptions. The additional 0.3 percentage point forecast markdown for 2022 in the current round reflects faster withdrawal of monetary support than in the previous projection—as policy tightens to rein in inflation—and the impact of lower growth in trading partners because of disruptions resulting from the war. The forecast for Canada is marked down 0.2 percentage point, reflect- ing the withdrawal of policy support and weaker exter- nal demand from the United States, which outweigh the lift from favorable terms of trade effects.\\nLatin America and the Caribbean: With fewer direct connections to Europe, the region is also expected to be more affected by inflation and policy tightening.\\nBrazil has responded to higher inflation by increasing interest rates 975 basis points over the past year, which will weigh on domestic demand. To a lesser extent, this is also the case in Mexico. The downgrades to the forecasts for the United States and China also weigh on the outlook for trading partners in the region.\\nThe fluid international situation means that quanti- tative forecasts are even more uncertain than usual. Yet some channels through which the war and associated sanctions will affect the global economy seem relatively clear, even if their magnitudes are difficult to assess. The following sections explore these channels in some detail.\\nNote: Real effective exchange rates are assumed to remain constant at the levels prevailing during February 7, 2022–March 7, 2022. Economies are listed on the basis of economic size. The aggregated quarterly data are seasonally adjusted. WEO = World Economic Outlook.\\n1Difference based on rounded figures for the current, January 2022 WEO Update, and October 2021 WEO forecasts.', lookup_str='', metadata={'source': '/data/chuang/QA_LangChan/Knowledge_Base/2022_WEO_April_0.txt'}, lookup_index=0), Document(page_content='and the pandemic’s health and economic impacts abate over the course of 2022. With a few excep- tions, employment and output will typically remain below pre-pandemic trends through 2026. Scarring effects are expected to be much larger in emerging market and developing economies than in advanced economies—reflecting more limited policy sup- port and generally slower vaccination—with output expected to remain below the pre-pandemic trend throughout the forecast horizon. Unusually high uncertainty surrounds this forecast, and downside\\nrisks to the global outlook dominate—including from a possible worsening of the war, escalation of sanc- tions on Russia, a sharper-than-anticipated decelera- tion in China as a strict zero-COVID strategy is tested by Omicron, and a renewed flare-up of the pandemic should a new, more virulent virus strain emerge. Moreover, the war in Ukraine has increased the probability of wider social tensions because of higher food and energy prices, which would further weigh on the outlook.\\nInflation is expected to remain elevated for longer than in the previous forecast, driven by war-induced commodity price increases and broadening price pres- sures. For 2022, inflation is projected at 5.7 percent in advanced economies and 8.7 percent in emerging mar- ket and developing economies—1.8 and 2.8 percentage points higher than projected in January. Although a gradual resolution of supply-demand imbalances and a modest pickup in labor supply are expected in the base- line, easing price inflation eventually, uncertainty again surrounds the forecast. Conditions could significantly deteriorate. Worsening supply-demand imbalances— including those stemming from the war—and further increases in commodity prices could lead to persistently high inflation, rising inflation expectations, and stron-', lookup_str='', metadata={'source': '/data/chuang/QA_LangChan/Knowledge_Base/2022_WEO_April_0.txt'}, lookup_index=0), Document(page_content='lobal economic prospects have worsened significantly since our last World Economic Outlook forecast in January. At the time, we had projected the global recovery to\\nstrengthen from the second quarter of this year after a short-lived impact of the Omicron variant. Since then, the outlook has deteriorated, largely because of Russia’s invasion of Ukraine—causing a tragic\\nThis crisis unfolds while the global economy was on a mending path but had not yet fully recovered from the COVID-19 pandemic, with a significant diver- gence between the economic recoveries of advanced economies and emerging market and developing ones. In addition to the war, frequent and wider-ranging lockdowns in China—including in key manufactur- ing hubs—have also slowed activity there and could cause new bottlenecks in global supply chains. Higher, broader, and more persistent price pressures also led\\nto a tightening of monetary policy in many coun- tries. Overall risks to economic prospects have risen sharply and policy trade-offs have become ever more challenging.\\nBeyond the immediate humanitarian impacts, the war will severely set back the global recovery, slow- ing growth and increasing inflation even further. This report projects global growth at 3.6 percent in 2022 and 2023—0.8 and 0.2 percentage points lower than in the January forecast, respectively. The downgrade largely reflects the war’s direct impacts on Russia and Ukraine and global spillovers.\\nBoth Russia and Ukraine are projected to experi- ence large GDP contractions in 2022. The severe collapse in Ukraine is a direct result of the invasion, destruction of infrastructure, and exodus of its people.\\nIn Russia, the sharp decline reflects the impact of the sanctions with a severing of trade ties, greatly impaired domestic financial intermediation, and loss of confidence.', lookup_str='', metadata={'source': '/data/chuang/QA_LangChan/Knowledge_Base/2022_WEO_April_0.txt'}, lookup_index=0)], 'question': 'weo macro-economic forecast in 2022', 'output_text': 'The WEO macro-economic forecast for 2022 is that global growth will be 3.6 percent, with inflation projected at 5.7 percent in advanced economies and 8.7 percent in emerging market and developing economies. The forecast for the United States was downgraded by 0.3 percentage points due to faster withdrawal of monetary support and lower growth in trading partners resulting from the war. The forecast for Canada was marked down by 0.2 percentage points due to the withdrawal of policy support and weaker external demand from the United States. The fluid international situation means that quantitative forecasts are even more uncertain than usual, and downside risks to the global outlook dominate. The war in Ukraine has increased the probability of wider social tensions because of higher food and energy prices, which would further weigh on the outlook. Inflation is expected to remain elevated for longer than in the previous forecast, driven by war-induced commodity price increases and broadening price pressures. Sources: /data/chuang/QA_LangChan/Knowledge_Base/2022_WEO_April_0.txt'}\n"
     ]
    }
   ],
   "source": [
    "answer = QA_chain({\"input_documents\": docs, \"question\": Q}, return_only_outputs=False)\n",
    "print(answer)"
   ]
  },
  {
   "cell_type": "code",
   "execution_count": 225,
   "metadata": {},
   "outputs": [
    {
     "name": "stdout",
     "output_type": "stream",
     "text": [
      "The WEO macro-economic forecast for 2022 is that global growth will be 3.6 percent, with inflation projected at 5.7 percent in advanced economies and 8.7 percent in emerging market and developing economies. The forecast for the United States was downgraded by 0.3 percentage points due to faster withdrawal of monetary support and lower growth in trading partners resulting from the war. The forecast for Canada was marked down by 0.2 percentage points due to the withdrawal of policy support and weaker external demand from the United States. The fluid international situation means that quantitative forecasts are even more uncertain than usual, and downside risks to the global outlook dominate. The war in Ukraine has increased the probability of wider social tensions because of higher food and energy prices, which would further weigh on the outlook. Inflation is expected to remain elevated for longer than in the previous forecast, driven by war-induced commodity price increases and broadening price pressures. Sources: /data/chuang/QA_LangChan/Knowledge_Base/2022_WEO_April_0.txt\n"
     ]
    }
   ],
   "source": [
    "print(answer['output_text'])"
   ]
  },
  {
   "attachments": {},
   "cell_type": "markdown",
   "metadata": {},
   "source": [
    "- we can try a different chain type - the refine chain\n",
    "- it will make multiple calls to llm and iteratively refine the answer "
   ]
  },
  {
   "cell_type": "code",
   "execution_count": 226,
   "metadata": {},
   "outputs": [
    {
     "name": "stdout",
     "output_type": "stream",
     "text": [
      "\n",
      "\n",
      "\u001b[1m> Entering new RefineDocumentsChain chain...\u001b[0m\n",
      "\n",
      "\n",
      "\u001b[1m> Entering new LLMChain chain...\u001b[0m\n",
      "Prompt after formatting:\n",
      "\u001b[32;1m\u001b[1;3mContext information is below. \n",
      "---------------------\n",
      "Content: United States and Canada: Economic links between Russia and the United States and Canada are limited. Other factors also have a significant impact on the outlook for the two economies. The forecast for the United States was already downgraded in January, largely reflecting non-passage of the Build Back Better fiscal policy package and continued supply chain dis- ruptions. The additional 0.3 percentage point forecast markdown for 2022 in the current round reflects faster withdrawal of monetary support than in the previous projection—as policy tightens to rein in inflation—and the impact of lower growth in trading partners because of disruptions resulting from the war. The forecast for Canada is marked down 0.2 percentage point, reflect- ing the withdrawal of policy support and weaker exter- nal demand from the United States, which outweigh the lift from favorable terms of trade effects.\n",
      "Latin America and the Caribbean: With fewer direct connections to Europe, the region is also expected to be more affected by inflation and policy tightening.\n",
      "Brazil has responded to higher inflation by increasing interest rates 975 basis points over the past year, which will weigh on domestic demand. To a lesser extent, this is also the case in Mexico. The downgrades to the forecasts for the United States and China also weigh on the outlook for trading partners in the region.\n",
      "The fluid international situation means that quanti- tative forecasts are even more uncertain than usual. Yet some channels through which the war and associated sanctions will affect the global economy seem relatively clear, even if their magnitudes are difficult to assess. The following sections explore these channels in some detail.\n",
      "Note: Real effective exchange rates are assumed to remain constant at the levels prevailing during February 7, 2022–March 7, 2022. Economies are listed on the basis of economic size. The aggregated quarterly data are seasonally adjusted. WEO = World Economic Outlook.\n",
      "1Difference based on rounded figures for the current, January 2022 WEO Update, and October 2021 WEO forecasts.\n",
      "Source: /data/chuang/QA_LangChan/Knowledge_Base/2022_WEO_April_0.txt\n",
      "---------------------\n",
      "Given the context information and not prior knowledge, answer the question: weo macro-economic forecast in 2022\n",
      "\u001b[0m\n",
      "\n",
      "\u001b[1m> Finished chain.\u001b[0m\n",
      "\n",
      "\n",
      "\u001b[1m> Entering new LLMChain chain...\u001b[0m\n",
      "Prompt after formatting:\n",
      "\u001b[32;1m\u001b[1;3mThe original question is as follows: weo macro-economic forecast in 2022\n",
      "We have provided an existing answer, including sources: The context information discusses the World Economic Outlook (WEO) macro-economic forecast for 2022. It mentions downgrades to the forecasts for the United States and Canada, as well as the impact of inflation and policy tightening on Latin America and the Caribbean. The uncertain international situation makes quantitative forecasts even more uncertain than usual. The source of the information is the 2022 WEO April update.\n",
      "We have the opportunity to refine the existing answer(only if needed) with some more context below.\n",
      "------------\n",
      "Content: and the pandemic’s health and economic impacts abate over the course of 2022. With a few excep- tions, employment and output will typically remain below pre-pandemic trends through 2026. Scarring effects are expected to be much larger in emerging market and developing economies than in advanced economies—reflecting more limited policy sup- port and generally slower vaccination—with output expected to remain below the pre-pandemic trend throughout the forecast horizon. Unusually high uncertainty surrounds this forecast, and downside\n",
      "risks to the global outlook dominate—including from a possible worsening of the war, escalation of sanc- tions on Russia, a sharper-than-anticipated decelera- tion in China as a strict zero-COVID strategy is tested by Omicron, and a renewed flare-up of the pandemic should a new, more virulent virus strain emerge. Moreover, the war in Ukraine has increased the probability of wider social tensions because of higher food and energy prices, which would further weigh on the outlook.\n",
      "Inflation is expected to remain elevated for longer than in the previous forecast, driven by war-induced commodity price increases and broadening price pres- sures. For 2022, inflation is projected at 5.7 percent in advanced economies and 8.7 percent in emerging mar- ket and developing economies—1.8 and 2.8 percentage points higher than projected in January. Although a gradual resolution of supply-demand imbalances and a modest pickup in labor supply are expected in the base- line, easing price inflation eventually, uncertainty again surrounds the forecast. Conditions could significantly deteriorate. Worsening supply-demand imbalances— including those stemming from the war—and further increases in commodity prices could lead to persistently high inflation, rising inflation expectations, and stron-\n",
      "Source: /data/chuang/QA_LangChan/Knowledge_Base/2022_WEO_April_0.txt\n",
      "------------\n",
      "Given the new context, refine the original answer to better answer the question. If you do update it, please update the sources as well. If the context isn't useful, return the original answer.\u001b[0m\n",
      "\n",
      "\u001b[1m> Finished chain.\u001b[0m\n",
      "\n",
      "\n",
      "\u001b[1m> Entering new LLMChain chain...\u001b[0m\n",
      "Prompt after formatting:\n",
      "\u001b[32;1m\u001b[1;3mThe original question is as follows: weo macro-economic forecast in 2022\n",
      "We have provided an existing answer, including sources: Refined answer: The 2022 World Economic Outlook (WEO) macro-economic forecast predicts that employment and output will typically remain below pre-pandemic trends through 2026, with emerging market and developing economies experiencing larger scarring effects due to limited policy support and slower vaccination rates. The forecast is highly uncertain, with downside risks dominating, including a possible worsening of the war, escalation of sanctions on Russia, a sharper-than-anticipated deceleration in China due to Omicron, and a renewed flare-up of the pandemic. Inflation is expected to remain elevated for longer than previously forecast, driven by war-induced commodity price increases and broadening price pressures. The projected inflation rates for 2022 are 5.7 percent in advanced economies and 8.7 percent in emerging market and developing economies, which are higher than projected in January. The forecast is subject to uncertainty, and worsening supply-demand imbalances and further increases in commodity prices could lead to persistently high inflation, rising inflation expectations, and strong downside risks to the global outlook. The source of this information is the 2022 WEO April update.\n",
      "We have the opportunity to refine the existing answer(only if needed) with some more context below.\n",
      "------------\n",
      "Content: lobal economic prospects have worsened significantly since our last World Economic Outlook forecast in January. At the time, we had projected the global recovery to\n",
      "strengthen from the second quarter of this year after a short-lived impact of the Omicron variant. Since then, the outlook has deteriorated, largely because of Russia’s invasion of Ukraine—causing a tragic\n",
      "This crisis unfolds while the global economy was on a mending path but had not yet fully recovered from the COVID-19 pandemic, with a significant diver- gence between the economic recoveries of advanced economies and emerging market and developing ones. In addition to the war, frequent and wider-ranging lockdowns in China—including in key manufactur- ing hubs—have also slowed activity there and could cause new bottlenecks in global supply chains. Higher, broader, and more persistent price pressures also led\n",
      "to a tightening of monetary policy in many coun- tries. Overall risks to economic prospects have risen sharply and policy trade-offs have become ever more challenging.\n",
      "Beyond the immediate humanitarian impacts, the war will severely set back the global recovery, slow- ing growth and increasing inflation even further. This report projects global growth at 3.6 percent in 2022 and 2023—0.8 and 0.2 percentage points lower than in the January forecast, respectively. The downgrade largely reflects the war’s direct impacts on Russia and Ukraine and global spillovers.\n",
      "Both Russia and Ukraine are projected to experi- ence large GDP contractions in 2022. The severe collapse in Ukraine is a direct result of the invasion, destruction of infrastructure, and exodus of its people.\n",
      "In Russia, the sharp decline reflects the impact of the sanctions with a severing of trade ties, greatly impaired domestic financial intermediation, and loss of confidence.\n",
      "Source: /data/chuang/QA_LangChan/Knowledge_Base/2022_WEO_April_0.txt\n",
      "------------\n",
      "Given the new context, refine the original answer to better answer the question. If you do update it, please update the sources as well. If the context isn't useful, return the original answer.\u001b[0m\n",
      "\n",
      "\u001b[1m> Finished chain.\u001b[0m\n",
      "\n",
      "\u001b[1m> Finished chain.\u001b[0m\n",
      "{'input_documents': [Document(page_content='United States and Canada: Economic links between Russia and the United States and Canada are limited. Other factors also have a significant impact on the outlook for the two economies. The forecast for the United States was already downgraded in January, largely reflecting non-passage of the Build Back Better fiscal policy package and continued supply chain dis- ruptions. The additional 0.3 percentage point forecast markdown for 2022 in the current round reflects faster withdrawal of monetary support than in the previous projection—as policy tightens to rein in inflation—and the impact of lower growth in trading partners because of disruptions resulting from the war. The forecast for Canada is marked down 0.2 percentage point, reflect- ing the withdrawal of policy support and weaker exter- nal demand from the United States, which outweigh the lift from favorable terms of trade effects.\\nLatin America and the Caribbean: With fewer direct connections to Europe, the region is also expected to be more affected by inflation and policy tightening.\\nBrazil has responded to higher inflation by increasing interest rates 975 basis points over the past year, which will weigh on domestic demand. To a lesser extent, this is also the case in Mexico. The downgrades to the forecasts for the United States and China also weigh on the outlook for trading partners in the region.\\nThe fluid international situation means that quanti- tative forecasts are even more uncertain than usual. Yet some channels through which the war and associated sanctions will affect the global economy seem relatively clear, even if their magnitudes are difficult to assess. The following sections explore these channels in some detail.\\nNote: Real effective exchange rates are assumed to remain constant at the levels prevailing during February 7, 2022–March 7, 2022. Economies are listed on the basis of economic size. The aggregated quarterly data are seasonally adjusted. WEO = World Economic Outlook.\\n1Difference based on rounded figures for the current, January 2022 WEO Update, and October 2021 WEO forecasts.', lookup_str='', metadata={'source': '/data/chuang/QA_LangChan/Knowledge_Base/2022_WEO_April_0.txt'}, lookup_index=0), Document(page_content='and the pandemic’s health and economic impacts abate over the course of 2022. With a few excep- tions, employment and output will typically remain below pre-pandemic trends through 2026. Scarring effects are expected to be much larger in emerging market and developing economies than in advanced economies—reflecting more limited policy sup- port and generally slower vaccination—with output expected to remain below the pre-pandemic trend throughout the forecast horizon. Unusually high uncertainty surrounds this forecast, and downside\\nrisks to the global outlook dominate—including from a possible worsening of the war, escalation of sanc- tions on Russia, a sharper-than-anticipated decelera- tion in China as a strict zero-COVID strategy is tested by Omicron, and a renewed flare-up of the pandemic should a new, more virulent virus strain emerge. Moreover, the war in Ukraine has increased the probability of wider social tensions because of higher food and energy prices, which would further weigh on the outlook.\\nInflation is expected to remain elevated for longer than in the previous forecast, driven by war-induced commodity price increases and broadening price pres- sures. For 2022, inflation is projected at 5.7 percent in advanced economies and 8.7 percent in emerging mar- ket and developing economies—1.8 and 2.8 percentage points higher than projected in January. Although a gradual resolution of supply-demand imbalances and a modest pickup in labor supply are expected in the base- line, easing price inflation eventually, uncertainty again surrounds the forecast. Conditions could significantly deteriorate. Worsening supply-demand imbalances— including those stemming from the war—and further increases in commodity prices could lead to persistently high inflation, rising inflation expectations, and stron-', lookup_str='', metadata={'source': '/data/chuang/QA_LangChan/Knowledge_Base/2022_WEO_April_0.txt'}, lookup_index=0), Document(page_content='lobal economic prospects have worsened significantly since our last World Economic Outlook forecast in January. At the time, we had projected the global recovery to\\nstrengthen from the second quarter of this year after a short-lived impact of the Omicron variant. Since then, the outlook has deteriorated, largely because of Russia’s invasion of Ukraine—causing a tragic\\nThis crisis unfolds while the global economy was on a mending path but had not yet fully recovered from the COVID-19 pandemic, with a significant diver- gence between the economic recoveries of advanced economies and emerging market and developing ones. In addition to the war, frequent and wider-ranging lockdowns in China—including in key manufactur- ing hubs—have also slowed activity there and could cause new bottlenecks in global supply chains. Higher, broader, and more persistent price pressures also led\\nto a tightening of monetary policy in many coun- tries. Overall risks to economic prospects have risen sharply and policy trade-offs have become ever more challenging.\\nBeyond the immediate humanitarian impacts, the war will severely set back the global recovery, slow- ing growth and increasing inflation even further. This report projects global growth at 3.6 percent in 2022 and 2023—0.8 and 0.2 percentage points lower than in the January forecast, respectively. The downgrade largely reflects the war’s direct impacts on Russia and Ukraine and global spillovers.\\nBoth Russia and Ukraine are projected to experi- ence large GDP contractions in 2022. The severe collapse in Ukraine is a direct result of the invasion, destruction of infrastructure, and exodus of its people.\\nIn Russia, the sharp decline reflects the impact of the sanctions with a severing of trade ties, greatly impaired domestic financial intermediation, and loss of confidence.', lookup_str='', metadata={'source': '/data/chuang/QA_LangChan/Knowledge_Base/2022_WEO_April_0.txt'}, lookup_index=0)], 'question': 'weo macro-economic forecast in 2022', 'output_text': \"Refined answer: The 2022 World Economic Outlook (WEO) macro-economic forecast predicts a significant worsening of global economic prospects since the last forecast in January, largely due to Russia's invasion of Ukraine. The war will severely set back the global recovery, slowing growth and increasing inflation even further. The forecast projects global growth at 3.6 percent in 2022 and 2023, which is 0.8 and 0.2 percentage points lower than in the January forecast, respectively. The downgrade largely reflects the war's direct impacts on Russia and Ukraine and global spillovers. Both Russia and Ukraine are projected to experience large GDP contractions in 2022. The severe collapse in Ukraine is a direct result of the invasion, destruction of infrastructure, and exodus of its people. In addition to the war, frequent and wider-ranging lockdowns in China, including in key manufacturing hubs, have also slowed activity there and could cause new bottlenecks in global supply chains. The forecast is highly uncertain, with downside risks dominating, including a possible worsening of the war, escalation of sanctions on Russia, a sharper-than-anticipated deceleration in China due to Omicron, and a renewed flare-up of the pandemic. Inflation is expected to remain elevated for longer than previously forecast, driven by war-induced commodity price increases and broadening price pressures. The projected inflation rates for 2022 are 5.7 percent in advanced economies and 8.7 percent in emerging market and developing economies, which are higher than projected in January. The forecast is subject to uncertainty, and worsening supply-demand imbalances and further increases in commodity prices could lead to persistently high inflation, rising inflation expectations, and strong downside risks to the global outlook. The source of this information is the 2022 WEO April update.\"}\n"
     ]
    }
   ],
   "source": [
    "QA_chain = load_qa_with_sources_chain(llm, chain_type=\"refine\",verbose=True)\n",
    "answer = QA_chain({\"input_documents\": docs, \"question\": Q}, return_only_outputs=False)\n",
    "print(answer)"
   ]
  },
  {
   "attachments": {},
   "cell_type": "markdown",
   "metadata": {},
   "source": [
    "- this does look a little better "
   ]
  },
  {
   "cell_type": "code",
   "execution_count": 228,
   "metadata": {},
   "outputs": [
    {
     "name": "stdout",
     "output_type": "stream",
     "text": [
      "Refined answer: The 2022 World Economic Outlook (WEO) macro-economic forecast predicts a significant worsening of global economic prospects since the last forecast in January, largely due to Russia's invasion of Ukraine. The war will severely set back the global recovery, slowing growth and increasing inflation even further. The forecast projects global growth at 3.6 percent in 2022 and 2023, which is 0.8 and 0.2 percentage points lower than in the January forecast, respectively. The downgrade largely reflects the war's direct impacts on Russia and Ukraine and global spillovers. Both Russia and Ukraine are projected to experience large GDP contractions in 2022. The severe collapse in Ukraine is a direct result of the invasion, destruction of infrastructure, and exodus of its people. In addition to the war, frequent and wider-ranging lockdowns in China, including in key manufacturing hubs, have also slowed activity there and could cause new bottlenecks in global supply chains. The forecast is highly uncertain, with downside risks dominating, including a possible worsening of the war, escalation of sanctions on Russia, a sharper-than-anticipated deceleration in China due to Omicron, and a renewed flare-up of the pandemic. Inflation is expected to remain elevated for longer than previously forecast, driven by war-induced commodity price increases and broadening price pressures. The projected inflation rates for 2022 are 5.7 percent in advanced economies and 8.7 percent in emerging market and developing economies, which are higher than projected in January. The forecast is subject to uncertainty, and worsening supply-demand imbalances and further increases in commodity prices could lead to persistently high inflation, rising inflation expectations, and strong downside risks to the global outlook. The source of this information is the 2022 WEO April update.\n"
     ]
    }
   ],
   "source": [
    "print(answer['output_text'])"
   ]
  },
  {
   "attachments": {},
   "cell_type": "markdown",
   "metadata": {},
   "source": [
    "- try a different questoin "
   ]
  },
  {
   "cell_type": "code",
   "execution_count": 229,
   "metadata": {},
   "outputs": [],
   "source": [
    "qa_with_sources = VectorDBQAWithSourcesChain.from_chain_type(\n",
    "    llm=llm,\n",
    "    chain_type=\"refine\",#only work with small context \n",
    "    vectorstore=vectordb,\n",
    "    k=5,\n",
    "    return_source_documents=True)"
   ]
  },
  {
   "cell_type": "code",
   "execution_count": 230,
   "metadata": {},
   "outputs": [],
   "source": [
    "Q = \"what is the assessment on banking sector risks?\"\n",
    "answer = qa_with_sources(Q)"
   ]
  },
  {
   "cell_type": "code",
   "execution_count": 233,
   "metadata": {},
   "outputs": [
    {
     "name": "stdout",
     "output_type": "stream",
     "text": [
      "The new context provides additional information on the risks faced by the banking sector in emerging markets, particularly related to their holdings of domestic sovereign debt. According to the 2022 Global Financial Stability Report and the IPCC Sixth Assessment Report, emerging market banks have significantly increased their holdings of domestic sovereign debt during the COVID-19 pandemic, which on average accounts for about one-fifth of banking sector assets and 200 percent of their regulatory capital. This deepens the ties between the sovereign and banking sectors, creating a sovereign-bank nexus that poses risks of an adverse feedback loop that could threaten macro-financial stability. The transmission of risks between the sovereign and banking sectors is significant, both directly and indirectly through the nonfinancial corporate sector. An increase in sovereign risk can adversely affect banks' balance sheets and lending appetite, especially in countries with less-well-capitalized banking systems and higher fiscal vulnerabilities. Therefore, emerging markets face complex policy trade-offs, and the policy response to mitigate risks must be tailored to country-specific circumstances. The 2022 Global Financial Stability Report highlights the risks faced by the banking sector in emerging markets, including nonperforming loans and the sustainability of corporate debt. However, it does not provide any specific information on the WEO assessment on banking sector risks. Sources: IPCC Sixth Assessment Report, 2022 Global Financial Stability Report, and Brookings Tech Stream.\n"
     ]
    }
   ],
   "source": [
    "print(answer['answer'])"
   ]
  },
  {
   "attachments": {},
   "cell_type": "markdown",
   "metadata": {},
   "source": [
    "### More low level apprach \n",
    "- [notebook from James](https://github.com/pinecone-io/examples/blob/master/generation/gpt4-retrieval-augmentation/gpt-4-langchain-docs.ipynb)\n",
    "- follow gpt3.5-4 api format, define system and user role "
   ]
  },
  {
   "cell_type": "code",
   "execution_count": null,
   "metadata": {},
   "outputs": [],
   "source": []
  },
  {
   "cell_type": "code",
   "execution_count": null,
   "metadata": {},
   "outputs": [],
   "source": []
  },
  {
   "cell_type": "code",
   "execution_count": null,
   "metadata": {},
   "outputs": [],
   "source": []
  }
 ],
 "metadata": {
  "kernelspec": {
   "display_name": "sbert",
   "language": "python",
   "name": "sbert"
  },
  "language_info": {
   "codemirror_mode": {
    "name": "ipython",
    "version": 3
   },
   "file_extension": ".py",
   "mimetype": "text/x-python",
   "name": "python",
   "nbconvert_exporter": "python",
   "pygments_lexer": "ipython3",
   "version": "3.8.13"
  },
  "orig_nbformat": 4,
  "vscode": {
   "interpreter": {
    "hash": "e7370f93d1d0cde622a1f8e1c04877d8463912d04d973331ad4851f04de6915a"
   }
  }
 },
 "nbformat": 4,
 "nbformat_minor": 2
}
