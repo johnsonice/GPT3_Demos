{
 "cells": [
  {
   "cell_type": "markdown",
   "metadata": {},
   "source": [
    "## 1. Self Querying retriever\n",
    "- https://github.com/samwit/langchain-tutorials/blob/main/RAG/YT_LangChain_RAG_tips_and_Tricks_01_Self_Query.ipynb"
   ]
  },
  {
   "cell_type": "code",
   "execution_count": 2,
   "metadata": {},
   "outputs": [],
   "source": [
    "import os,sys,getpass\n",
    "import pprint\n",
    "os.environ[\"OPENAI_API_KEY\"] = getpass.getpass(prompt='OpenAI API Token:')"
   ]
  },
  {
   "cell_type": "code",
   "execution_count": 3,
   "metadata": {},
   "outputs": [
    {
     "name": "stderr",
     "output_type": "stream",
     "text": [
      "/root/anaconda3/envs/gpt/lib/python3.9/site-packages/langchain_core/_api/deprecation.py:117: LangChainDeprecationWarning: The class `langchain_community.embeddings.openai.OpenAIEmbeddings` was deprecated in langchain-community 0.1.0 and will be removed in 0.2.0. Use langchain_openai.OpenAIEmbeddings instead.\n",
      "  warn_deprecated(\n"
     ]
    }
   ],
   "source": [
    "from langchain.schema import Document\n",
    "from langchain.embeddings.openai import OpenAIEmbeddings\n",
    "from langchain.vectorstores import Chroma\n",
    "\n",
    "embeddings = OpenAIEmbeddings() ## probably want to check which embedding endpoint it is using"
   ]
  },
  {
   "cell_type": "markdown",
   "metadata": {},
   "source": [
    "- #### Create some sample documents to work with "
   ]
  },
  {
   "cell_type": "code",
   "execution_count": 4,
   "metadata": {},
   "outputs": [],
   "source": [
    "docs = [\n",
    "    Document(\n",
    "        page_content=\"Complex, layered, rich red with dark fruit flavors\",\n",
    "        metadata={\"name\":\"Opus One\", \"year\": 2018, \"rating\": 96, \"grape\": \"Cabernet Sauvignon\", \"color\":\"red\", \"country\":\"USA\"},\n",
    "    ),\n",
    "    Document(\n",
    "        page_content=\"Luxurious, sweet wine with flavors of honey, apricot, and peach\",\n",
    "        metadata={\"name\":\"Château d'Yquem\", \"year\": 2015, \"rating\": 98, \"grape\": \"Sémillon\", \"color\":\"white\", \"country\":\"France\"},\n",
    "    ),\n",
    "    Document(\n",
    "        page_content=\"Full-bodied red with notes of black fruit and spice\",\n",
    "        metadata={\"name\":\"Penfolds Grange\", \"year\": 2017, \"rating\": 97, \"grape\": \"Shiraz\", \"color\":\"red\", \"country\":\"Australia\"},\n",
    "    ),\n",
    "    Document(\n",
    "        page_content=\"Elegant, balanced red with herbal and berry nuances\",\n",
    "        metadata={\"name\":\"Sassicaia\", \"year\": 2016, \"rating\": 95, \"grape\": \"Cabernet Franc\", \"color\":\"red\", \"country\":\"Italy\"},\n",
    "    ),\n",
    "    Document(\n",
    "        page_content=\"Highly sought-after Pinot Noir with red fruit and earthy notes\",\n",
    "        metadata={\"name\":\"Domaine de la Romanée-Conti\", \"year\": 2018, \"rating\": 100, \"grape\": \"Pinot Noir\", \"color\":\"red\", \"country\":\"France\"},\n",
    "    ),\n",
    "    Document(\n",
    "        page_content=\"Crisp white with tropical fruit and citrus flavors\",\n",
    "        metadata={\"name\":\"Cloudy Bay\", \"year\": 2021, \"rating\": 92, \"grape\": \"Sauvignon Blanc\", \"color\":\"white\", \"country\":\"New Zealand\"},\n",
    "    ),\n",
    "    Document(\n",
    "        page_content=\"Rich, complex Champagne with notes of brioche and citrus\",\n",
    "        metadata={\"name\":\"Krug Grande Cuvée\", \"year\": 2010, \"rating\": 93, \"grape\": \"Chardonnay blend\", \"color\":\"sparkling\", \"country\":\"New Zealand\"},\n",
    "    ),\n",
    "    Document(\n",
    "        page_content=\"Intense, dark fruit flavors with hints of chocolate\",\n",
    "        metadata={\"name\":\"Caymus Special Selection\", \"year\": 2018, \"rating\": 96, \"grape\": \"Cabernet Sauvignon\", \"color\":\"red\", \"country\":\"USA\"},\n",
    "    ),\n",
    "    Document(\n",
    "        page_content=\"Exotic, aromatic white with stone fruit and floral notes\",\n",
    "        metadata={\"name\":\"Jermann Vintage Tunina\", \"year\": 2020, \"rating\": 91, \"grape\": \"Sauvignon Blanc blend\", \"color\":\"white\", \"country\":\"Italy\"},\n",
    "    ),\n",
    "]\n",
    "vectorstore = Chroma.from_documents(docs, embeddings)"
   ]
  },
  {
   "cell_type": "code",
   "execution_count": 5,
   "metadata": {},
   "outputs": [],
   "source": [
    "from langchain.llms import OpenAI\n",
    "from langchain.retrievers.self_query.base import SelfQueryRetriever\n",
    "from langchain.chains.query_constructor.base import AttributeInfo"
   ]
  },
  {
   "cell_type": "code",
   "execution_count": 6,
   "metadata": {},
   "outputs": [],
   "source": [
    "metadata_field_info = [\n",
    "    AttributeInfo(\n",
    "        name=\"grape\",\n",
    "        description=\"The grape used to make the wine\",\n",
    "        type=\"string or list[string]\",\n",
    "    ),\n",
    "    AttributeInfo(\n",
    "        name=\"name\",\n",
    "        description=\"The name of the wine\",\n",
    "        type=\"string or list[string]\",\n",
    "    ),\n",
    "    AttributeInfo(\n",
    "        name=\"color\",\n",
    "        description=\"The color of the wine\",\n",
    "        type=\"string or list[string]\",\n",
    "    ),\n",
    "    AttributeInfo(\n",
    "        name=\"year\",\n",
    "        description=\"The year the wine was released\",\n",
    "        type=\"integer\",\n",
    "    ),\n",
    "    AttributeInfo(\n",
    "        name=\"country\",\n",
    "        description=\"The name of the country the wine comes from\",\n",
    "        type=\"string\",\n",
    "    ),\n",
    "    AttributeInfo(\n",
    "        name=\"rating\", description=\"The Robert Parker rating for the wine 0-100\", type=\"integer\" #float\n",
    "    ),\n",
    "]\n",
    "document_content_description = \"Brief description of the wine\""
   ]
  },
  {
   "cell_type": "markdown",
   "metadata": {},
   "source": [
    "- Set up the retriever"
   ]
  },
  {
   "cell_type": "code",
   "execution_count": 7,
   "metadata": {},
   "outputs": [
    {
     "name": "stderr",
     "output_type": "stream",
     "text": [
      "/root/anaconda3/envs/gpt/lib/python3.9/site-packages/langchain_core/_api/deprecation.py:117: LangChainDeprecationWarning: The class `langchain_community.llms.openai.OpenAI` was deprecated in langchain-community 0.1.0 and will be removed in 0.2.0. Use langchain_openai.OpenAI instead.\n",
      "  warn_deprecated(\n"
     ]
    }
   ],
   "source": [
    "\n",
    "llm = OpenAI(temperature=0)\n",
    "\n",
    "retriever = SelfQueryRetriever.from_llm(\n",
    "    llm,\n",
    "    vectorstore,\n",
    "    document_content_description,\n",
    "    metadata_field_info,\n",
    "    verbose=True\n",
    ")\n",
    "     "
   ]
  },
  {
   "cell_type": "markdown",
   "metadata": {},
   "source": [
    "- it should generate a query for semetic matching and a filter for metadata filtering\n",
    "- see [link](https://python.langchain.com/docs/modules/data_connection/retrievers/self_query/#constructing-from-scratch-with-lcel) to see how to further customize"
   ]
  },
  {
   "cell_type": "code",
   "execution_count": 17,
   "metadata": {},
   "outputs": [
    {
     "name": "stdout",
     "output_type": "stream",
     "text": [
      "[Document(page_content='Crisp white with tropical fruit and citrus flavors', metadata={'color': 'white', 'country': 'New Zealand', 'grape': 'Sauvignon Blanc', 'name': 'Cloudy Bay', 'rating': 92, 'year': 2021}), Document(page_content='Intense, dark fruit flavors with hints of chocolate', metadata={'color': 'red', 'country': 'USA', 'grape': 'Cabernet Sauvignon', 'name': 'Caymus Special Selection', 'rating': 96, 'year': 2018}), Document(page_content='Luxurious, sweet wine with flavors of honey, apricot, and peach', metadata={'color': 'white', 'country': 'France', 'grape': 'Sémillon', 'name': \"Château d'Yquem\", 'rating': 98, 'year': 2015}), Document(page_content='Complex, layered, rich red with dark fruit flavors', metadata={'color': 'red', 'country': 'USA', 'grape': 'Cabernet Sauvignon', 'name': 'Opus One', 'rating': 96, 'year': 2018})]\n"
     ]
    }
   ],
   "source": [
    "docs = retriever.invoke(\"I want a wine that has fruity nodes\")\n",
    "print(docs) "
   ]
  },
  {
   "cell_type": "code",
   "execution_count": 18,
   "metadata": {},
   "outputs": [
    {
     "data": {
      "text/plain": [
       "[Document(page_content='Luxurious, sweet wine with flavors of honey, apricot, and peach', metadata={'color': 'white', 'country': 'France', 'grape': 'Sémillon', 'name': \"Château d'Yquem\", 'rating': 98, 'year': 2015}),\n",
       " Document(page_content='Highly sought-after Pinot Noir with red fruit and earthy notes', metadata={'color': 'red', 'country': 'France', 'grape': 'Pinot Noir', 'name': 'Domaine de la Romanée-Conti', 'rating': 100, 'year': 2018})]"
      ]
     },
     "execution_count": 18,
     "metadata": {},
     "output_type": "execute_result"
    }
   ],
   "source": [
    "# This example specifies a query and a filter\n",
    "retriever.invoke(\"I want a wine that has fruity nodes and has a rating above 97\")"
   ]
  },
  {
   "cell_type": "markdown",
   "metadata": {},
   "source": [
    "- keep top k "
   ]
  },
  {
   "cell_type": "code",
   "execution_count": 19,
   "metadata": {},
   "outputs": [],
   "source": [
    "retriever = SelfQueryRetriever.from_llm(\n",
    "    llm,\n",
    "    vectorstore,\n",
    "    document_content_description,\n",
    "    metadata_field_info,\n",
    "    enable_limit=True,  ### enable limit\n",
    "    verbose=True,\n",
    ")"
   ]
  },
  {
   "cell_type": "code",
   "execution_count": 20,
   "metadata": {},
   "outputs": [
    {
     "data": {
      "text/plain": [
       "[Document(page_content='Luxurious, sweet wine with flavors of honey, apricot, and peach', metadata={'color': 'white', 'country': 'France', 'grape': 'Sémillon', 'name': \"Château d'Yquem\", 'rating': 98, 'year': 2015}),\n",
       " Document(page_content='Highly sought-after Pinot Noir with red fruit and earthy notes', metadata={'color': 'red', 'country': 'France', 'grape': 'Pinot Noir', 'name': 'Domaine de la Romanée-Conti', 'rating': 100, 'year': 2018})]"
      ]
     },
     "execution_count": 20,
     "metadata": {},
     "output_type": "execute_result"
    }
   ],
   "source": [
    "retriever.get_relevant_documents(\"what are two that have a rating above 97\")"
   ]
  },
  {
   "cell_type": "markdown",
   "metadata": {},
   "source": [
    "## 2.  Parent Document Retriever"
   ]
  },
  {
   "cell_type": "markdown",
   "metadata": {},
   "source": [
    "- You may want to have small documents, so that their embeddings can most accurately reflect their meaning. If too long, then the embeddings can lose meaning.\n",
    "- You want to have long enough documents that the context of each chunk is retained."
   ]
  },
  {
   "cell_type": "code",
   "execution_count": 23,
   "metadata": {},
   "outputs": [],
   "source": [
    "from langchain.retrievers import ParentDocumentRetriever\n",
    "from langchain.storage import InMemoryStore\n",
    "from langchain.text_splitter import RecursiveCharacterTextSplitter\n",
    "from langchain_community.document_loaders import TextLoader,DirectoryLoader\n",
    "from langchain_community.vectorstores import Chroma\n",
    "from langchain.embeddings.openai import OpenAIEmbeddings"
   ]
  },
  {
   "cell_type": "code",
   "execution_count": 31,
   "metadata": {},
   "outputs": [
    {
     "name": "stderr",
     "output_type": "stream",
     "text": [
      "100%|██████████| 2/2 [00:00<00:00, 275.25it/s]\n"
     ]
    }
   ],
   "source": [
    "## reference : https://python.langchain.com/docs/modules/data_connection/document_loaders/file_directory\n",
    "data_folder = '/root/workspace/data/Adv_RAG_temp_data'\n",
    "loader = DirectoryLoader(data_folder, glob=\"*.txt\",loader_cls=TextLoader,show_progress=True,use_multithreading=True)\n",
    "docs = loader.load()"
   ]
  },
  {
   "cell_type": "markdown",
   "metadata": {},
   "source": [
    "- Retrieving full documents : In this mode, we want to retrieve the full documents. Therefore, we only specify a child splitter."
   ]
  },
  {
   "cell_type": "code",
   "execution_count": 32,
   "metadata": {},
   "outputs": [],
   "source": [
    "# This text splitter is used to create the child documents\n",
    "child_splitter = RecursiveCharacterTextSplitter(chunk_size=400)\n",
    "# The vectorstore to use to index the child chunks\n",
    "vectorstore = Chroma(\n",
    "    collection_name=\"full_documents\", embedding_function=OpenAIEmbeddings()\n",
    ")\n",
    "# The storage layer for the parent documents\n",
    "store = InMemoryStore()\n",
    "retriever = ParentDocumentRetriever(\n",
    "    vectorstore=vectorstore,\n",
    "    docstore=store,\n",
    "    child_splitter=child_splitter,\n",
    ")\n",
    "retriever.add_documents(docs, ids=None)"
   ]
  },
  {
   "cell_type": "code",
   "execution_count": 35,
   "metadata": {},
   "outputs": [
    {
     "data": {
      "text/plain": [
       "['34c0989f-e952-41cc-aded-17edfac1f3bf',\n",
       " '277aa046-c08c-4563-a1c9-3b873b3f6ba3']"
      ]
     },
     "execution_count": 35,
     "metadata": {},
     "output_type": "execute_result"
    }
   ],
   "source": [
    "## we have two docs, so two store ids\n",
    "list(store.yield_keys())"
   ]
  },
  {
   "cell_type": "code",
   "execution_count": 42,
   "metadata": {},
   "outputs": [
    {
     "name": "stdout",
     "output_type": "stream",
     "text": [
      "retrieve chunks in docs that is related \n",
      "[Document(page_content='Chinese dynasty, which was at once involved in the usual internal and\\nexternal struggles. For the moment, however, the southern region was\\nrelatively at peace, and was accordingly attracting settlers.', metadata={'doc_id': '277aa046-c08c-4563-a1c9-3b873b3f6ba3', 'source': '/root/workspace/data/Adv_RAG_temp_data/chinahistory.txt'}),\n",
      " Document(page_content='North China before its defeat, and resumed these from 932 on; there were\\neven relations with one of the South Chinese states; in the same way,\\nKao-li continuously played one state against the other (M. Rogers _et\\nal_.).', metadata={'doc_id': '277aa046-c08c-4563-a1c9-3b873b3f6ba3', 'source': '/root/workspace/data/Adv_RAG_temp_data/chinahistory.txt'}),\n",
      " Document(page_content='inside China we followed, had for the first time to defend itself\\nagainst views and systems entirely opposed to it; for the Turkish and\\nMongol peoples who ruled northern China brought with them their\\ntraditions of a feudal nobility with privileges of birth and all that\\nthey implied. Thus this period, socially regarded, is especially that of', metadata={'doc_id': '277aa046-c08c-4563-a1c9-3b873b3f6ba3', 'source': '/root/workspace/data/Adv_RAG_temp_data/chinahistory.txt'}),\n",
      " Document(page_content='activities all over China and often monopolized the salt, silver, rice,\\ncotton, silk or tea businesses. In the sixteenth century they had\\nwell-established contacts with smugglers on the Fukien coast and brought\\nforeign goods into the interior. Their home was also close to the main\\ncentres of porcelain production in Kiangsi which was exported to', metadata={'doc_id': '277aa046-c08c-4563-a1c9-3b873b3f6ba3', 'source': '/root/workspace/data/Adv_RAG_temp_data/chinahistory.txt'})]\n"
     ]
    }
   ],
   "source": [
    "## - Let’s now call the vector store search functionality - we should see that it returns small chunks (since we’re storing the small chunks).\n",
    "sub_docs = vectorstore.similarity_search(\"Chinese history\")\n",
    "print('retrieve chunks in docs that is related ')\n",
    "pprint.pprint(sub_docs)"
   ]
  },
  {
   "cell_type": "code",
   "execution_count": 44,
   "metadata": {},
   "outputs": [
    {
     "name": "stdout",
     "output_type": "stream",
     "text": [
      "Chinese dynasty, which was at once involved in the usual internal and\n",
      "external struggles. For the moment, however, the southern region was\n",
      "relatively at peace, and was accordingly attracting settlers.\n",
      "200\n"
     ]
    }
   ],
   "source": [
    "print(sub_docs[0].page_content)\n",
    "print(len(sub_docs[0].page_content))"
   ]
  },
  {
   "cell_type": "markdown",
   "metadata": {},
   "source": [
    "- Now we can retrieve the parent document using the parent document retriever"
   ]
  },
  {
   "cell_type": "code",
   "execution_count": 46,
   "metadata": {},
   "outputs": [
    {
     "data": {
      "text/plain": [
       "959799"
      ]
     },
     "execution_count": 46,
     "metadata": {},
     "output_type": "execute_result"
    }
   ],
   "source": [
    "## so for instance in a news article setting, we can using small chunks for matching and return the entire document \n",
    "retrieved_docs = retriever.get_relevant_documents(\"Chinese history\")\n",
    "len(retrieved_docs[0].page_content)"
   ]
  },
  {
   "cell_type": "markdown",
   "metadata": {},
   "source": [
    "- ##### A second way to use it is to return a larger chunk rather than the entire document "
   ]
  },
  {
   "cell_type": "code",
   "execution_count": 47,
   "metadata": {},
   "outputs": [],
   "source": [
    "# This text splitter is used to create the parent documents\n",
    "parent_splitter = RecursiveCharacterTextSplitter(chunk_size=2000)\n",
    "# This text splitter is used to create the child documents\n",
    "# It should create documents smaller than the parent\n",
    "child_splitter = RecursiveCharacterTextSplitter(chunk_size=400)\n",
    "# The vectorstore to use to index the child chunks\n",
    "vectorstore = Chroma(\n",
    "    collection_name=\"split_parents\", embedding_function=OpenAIEmbeddings()\n",
    ")\n",
    "# The storage layer for the parent documents\n",
    "store = InMemoryStore()"
   ]
  },
  {
   "cell_type": "code",
   "execution_count": 49,
   "metadata": {},
   "outputs": [],
   "source": [
    "retriever = ParentDocumentRetriever(\n",
    "    vectorstore=vectorstore,\n",
    "    docstore=store,\n",
    "    child_splitter=child_splitter,\n",
    "    parent_splitter=parent_splitter,\n",
    ")\n",
    "\n",
    "retriever.add_documents(docs)"
   ]
  },
  {
   "cell_type": "code",
   "execution_count": 50,
   "metadata": {},
   "outputs": [
    {
     "data": {
      "text/plain": [
       "1004"
      ]
     },
     "execution_count": 50,
     "metadata": {},
     "output_type": "execute_result"
    }
   ],
   "source": [
    "## We can see that there are much more than two documents now - these are the larger chunks.\n",
    "len(list(store.yield_keys()))"
   ]
  },
  {
   "cell_type": "code",
   "execution_count": 51,
   "metadata": {},
   "outputs": [],
   "source": [
    "## Let’s make sure the underlying vector store still retrieves the small chunks.\n",
    "sub_docs = vectorstore.similarity_search(\"Chinese history\")"
   ]
  },
  {
   "cell_type": "code",
   "execution_count": 52,
   "metadata": {},
   "outputs": [
    {
     "name": "stdout",
     "output_type": "stream",
     "text": [
      "[Illustration: Map 3. China in the struggle with the Huns or Hsiung Nu\n",
      "(_roughly 128-100 B.C._)]\n"
     ]
    }
   ],
   "source": [
    "print(sub_docs[0].page_content)"
   ]
  },
  {
   "cell_type": "code",
   "execution_count": 56,
   "metadata": {},
   "outputs": [
    {
     "name": "stdout",
     "output_type": "stream",
     "text": [
      "[Illustration: Map 3. China in the struggle with the Huns or Hsiung Nu\n",
      "(_roughly 128-100 B.C._)]\n",
      "\n",
      "The first active step taken was to try, in 133 B.C., to capture the\n",
      "head of the Hsiung-nu state, who was called a _shan-yü_ but the\n",
      "_shan-yü_ saw through the plan and escaped. There followed a period of\n",
      "continuous fighting until 119 B.C. The Chinese made countless attacks,\n",
      "without lasting success. But the Hsiung-nu were weakened, one sign of\n",
      "this being that there were dissensions after the death of the _shan-yü_\n",
      "Chün-ch'en, and in 127 B.C. his son went over to the Chinese. Finally\n",
      "the Chinese altered their tactics, advancing in 119 B.C. with a strong\n",
      "army of cavalry, which suffered enormous losses but inflicted serious\n",
      "loss on the Hsiung-nu. After that the Hsiung-nu withdrew farther to the\n",
      "north, and the Chinese settled peasants in the important region of\n",
      "Kansu.\n"
     ]
    }
   ],
   "source": [
    "## with the parent doc retriever to get larger chunks \n",
    "retrieved_docs = retriever.get_relevant_documents(\"Chinese history\")\n",
    "print(retrieved_docs[0].page_content)"
   ]
  },
  {
   "cell_type": "markdown",
   "metadata": {},
   "source": [
    "## 3.  Hybrid Search BM25 & Ensemble Retriever"
   ]
  },
  {
   "cell_type": "code",
   "execution_count": 60,
   "metadata": {},
   "outputs": [],
   "source": [
    "from langchain.retrievers import BM25Retriever, EnsembleRetriever\n",
    "from langchain_community.vectorstores import FAISS, Chroma\n",
    "from langchain.embeddings.openai import OpenAIEmbeddings\n",
    "embedding = OpenAIEmbeddings()"
   ]
  },
  {
   "cell_type": "code",
   "execution_count": 61,
   "metadata": {},
   "outputs": [],
   "source": [
    "doc_list = [\n",
    "    \"I like apples\",\n",
    "    \"I like oranges\",\n",
    "    \"Apples and oranges are fruits\",\n",
    "]"
   ]
  },
  {
   "cell_type": "code",
   "execution_count": 64,
   "metadata": {},
   "outputs": [],
   "source": [
    "# initialize the bm25 retriever and faiss retriever\n",
    "bm25_retriever = BM25Retriever.from_texts(doc_list)\n",
    "bm25_retriever.k = 2\n",
    "\n",
    "embedding = OpenAIEmbeddings()\n",
    "faiss_vectorstore = FAISS.from_texts(doc_list, embedding)\n",
    "faiss_retriever = faiss_vectorstore.as_retriever(search_kwargs={\"k\": 2})"
   ]
  },
  {
   "cell_type": "markdown",
   "metadata": {},
   "source": [
    "- initialize the ensemble retriever : and provide a weighting system \n",
    "- it is often useful when people know exactly what they want to search for"
   ]
  },
  {
   "cell_type": "code",
   "execution_count": 65,
   "metadata": {},
   "outputs": [],
   "source": [
    "ensemble_retriever = EnsembleRetriever(\n",
    "    retrievers=[bm25_retriever, faiss_retriever], weights=[0.5, 0.5]\n",
    ")"
   ]
  },
  {
   "cell_type": "code",
   "execution_count": 66,
   "metadata": {},
   "outputs": [
    {
     "data": {
      "text/plain": [
       "[Document(page_content='I like apples'),\n",
       " Document(page_content='Apples and oranges are fruits')]"
      ]
     },
     "execution_count": 66,
     "metadata": {},
     "output_type": "execute_result"
    }
   ],
   "source": [
    "docs = ensemble_retriever.get_relevant_documents(\"apples\")\n",
    "docs"
   ]
  },
  {
   "cell_type": "markdown",
   "metadata": {},
   "source": [
    "## 4. Contextual Compressors & Filters "
   ]
  },
  {
   "cell_type": "code",
   "execution_count": 3,
   "metadata": {},
   "outputs": [],
   "source": [
    "from langchain.embeddings import HuggingFaceBgeEmbeddings\n",
    "\n",
    "model_name = \"BAAI/bge-small-en-v1.5\"\n",
    "encode_kwargs = {'normalize_embeddings': True} # set True to compute cosine similarity\n",
    "\n",
    "bge_embeddings = HuggingFaceBgeEmbeddings(\n",
    "    model_name=model_name,\n",
    "    model_kwargs={'device': 'cuda'},\n",
    "    encode_kwargs=encode_kwargs\n",
    ")"
   ]
  },
  {
   "cell_type": "code",
   "execution_count": 12,
   "metadata": {},
   "outputs": [],
   "source": [
    "import os\n",
    "import pprint\n",
    "import getpass\n",
    "from langchain.vectorstores import FAISS\n",
    "from langchain.schema import Document\n",
    "from langchain.vectorstores import Chroma\n",
    "## Text Splitting & Docloader\n",
    "from langchain.text_splitter import RecursiveCharacterTextSplitter\n",
    "from langchain.storage import InMemoryStore\n",
    "from langchain_community.document_loaders import TextLoader,DirectoryLoader\n",
    "from langchain.embeddings import OpenAIEmbeddings\n"
   ]
  },
  {
   "cell_type": "code",
   "execution_count": 9,
   "metadata": {},
   "outputs": [],
   "source": [
    "os.environ[\"OPENAI_API_KEY\"] = getpass.getpass(prompt='OpenAI API Token:')"
   ]
  },
  {
   "cell_type": "markdown",
   "metadata": {},
   "source": [
    "- Load raw data "
   ]
  },
  {
   "cell_type": "code",
   "execution_count": 13,
   "metadata": {},
   "outputs": [
    {
     "name": "stderr",
     "output_type": "stream",
     "text": [
      "100%|██████████| 2/2 [00:00<00:00, 263.96it/s]\n"
     ]
    }
   ],
   "source": [
    "data_folder = '/root/workspace/data/Adv_RAG_temp_data'\n",
    "loader = DirectoryLoader(data_folder, glob=\"*.txt\",loader_cls=TextLoader,show_progress=True,use_multithreading=True)\n",
    "docs = loader.load()"
   ]
  },
  {
   "cell_type": "markdown",
   "metadata": {},
   "source": [
    "- basic recursive chunking of text "
   ]
  },
  {
   "cell_type": "code",
   "execution_count": 15,
   "metadata": {},
   "outputs": [],
   "source": [
    "text_splitter = RecursiveCharacterTextSplitter(chunk_size=1000, chunk_overlap=200)\n",
    "texts = text_splitter.split_documents(docs)"
   ]
  },
  {
   "cell_type": "code",
   "execution_count": 16,
   "metadata": {},
   "outputs": [],
   "source": [
    "def pretty_print_docs(docs):\n",
    "    print(f\"\\n{'-' * 100}\\n\".join([f\"Document {i+1}:\\n\\n\" + d.page_content for i, d in enumerate(docs)]))"
   ]
  },
  {
   "cell_type": "markdown",
   "metadata": {},
   "source": [
    "- basic retriever "
   ]
  },
  {
   "cell_type": "code",
   "execution_count": 17,
   "metadata": {},
   "outputs": [
    {
     "name": "stdout",
     "output_type": "stream",
     "text": [
      "Document 1:\n",
      "\n",
      "Until recently we were dependent for the beginnings of Chinese history\n",
      "on the written Chinese tradition. According to these sources China's\n",
      "history began either about 4000 B.C. or about 2700 B.C. with a\n",
      "succession of wise emperors who \"invented\" the elements of a\n",
      "civilization, such as clothing, the preparation of food, marriage, and a\n",
      "state system; they instructed their people in these things, and so\n",
      "brought China, as early as in the third millennium B.C., to an\n",
      "astonishingly high cultural level. However, all we know of the origin of\n",
      "civilizations makes this of itself entirely improbable; no other\n",
      "civilization in the world originated in any such way. As time went on,\n",
      "Chinese historians found more and more to say about primeval times. All\n",
      "these narratives were collected in the great imperial history that\n",
      "appeared at the beginning of the Manchu epoch. That book was translated\n",
      "into French, and all the works written in Western languages until recent\n",
      "----------------------------------------------------------------------------------------------------\n",
      "Document 2:\n",
      "\n",
      "A HISTORY OF CHINA\n",
      "\n",
      "by\n",
      "\n",
      "WOLFRAM EBERHARD\n",
      "\n",
      "\n",
      "\n",
      "\n",
      "\n",
      "CONTENTS\n",
      "\n",
      "INTRODUCTION\n",
      "\n",
      "\n",
      "           _THE EARLIEST TIMES_\n",
      "\n",
      "Chapter I: PREHISTORY\n",
      "\n",
      "  1 Sources for the earliest history\n",
      "  2 The Peking Man\n",
      "  3 The Palaeolithic Age\n",
      "  4 The Neolithic Age\n",
      "  5 The eight principal prehistoric cultures\n",
      "  6 The Yang-shao culture\n",
      "  7 The Lung-shan culture\n",
      "  8 The first petty States in Shansi\n",
      "\n",
      "Chapter II: THE SHANG DYNASTY (_c_. 1600-1028 B.C.)\n",
      "\n",
      "  1 Period, origin, material culture\n",
      "  2 Writing and Religion\n",
      "  3 Transition to feudalism\n",
      "\n",
      "\n",
      "             _ANTIQUITY_\n",
      "\n",
      "Chapter III: THE CHOU DYNASTY (_c_. 1028-257 B.C.)\n",
      "\n",
      "  1 Cultural origin of the Chou and end of the Shang dynasty\n",
      "  2 Feudalism in the new empire\n",
      "  3 Fusion of Chou and Shang\n",
      "  4 Limitation of the imperial power\n",
      "  5 Changes in the relative strength of the feudal states\n",
      "  6 Confucius\n",
      "  7 Lao Tz[)u]\n",
      "\n",
      "Chapter IV: THE CONTENDING STATES (481-256 B.C.):\n",
      "DISSOLUTION OF THE FEUDAL SYSTEM\n",
      "\n",
      "  1 Social and military changes\n",
      "  2 Economic changes\n",
      "  3 Cultural changes\n",
      "----------------------------------------------------------------------------------------------------\n",
      "Document 3:\n",
      "\n",
      "(_Shan Hai Ching_). This book, arranged according to regions of the\n",
      "world, contains everything known at the time about geography, natural\n",
      "philosophy, and the animal and plant world, and also about popular\n",
      "myths. This tendency to systemization is shown also in the historical\n",
      "works. The famous _Shih Chi_, one of our main sources for Chinese\n",
      "history, is the first historical work of the modern type, that is to\n",
      "say, built up on a definite plan, and it was also the model for all\n",
      "later official historiography. Its author, Ss[)u]-ma Ch'ien (born 135\n",
      "B.C.), and his father, made use of the material in the state archives\n",
      "and of private documents, old historical and philosophical books,\n",
      "inscriptions, and the results of their own travels. The philosophical\n",
      "and historical books of earlier times (with the exception of those of\n",
      "the nature of chronicles) consisted merely of a few dicta or reports of\n",
      "particular events, but the _Shih Chi_ is a compendium of a mass of\n",
      "----------------------------------------------------------------------------------------------------\n",
      "Document 4:\n",
      "\n",
      "It is usual to split up Chinese history under the various dynasties that\n",
      "have ruled China or parts thereof. The beginning or end of a dynasty\n",
      "does not always indicate the beginning or the end of a definite period\n",
      "of China's social or cultural development. We have tried to break\n",
      "China's history down into the three large periods--\"Antiquity\", \"The\n",
      "Middle Ages\", and \"Modern Times\". This does not mean that we compare\n",
      "these periods with periods of the same name in Western history although,\n",
      "naturally, we find some similarities with the development of society and\n",
      "culture in the West. Every attempt towards periodization is to some\n",
      "degree arbitrary: the beginning and end of the Middle Ages, for\n",
      "instance, cannot be fixed to a year, because development is a continuous\n",
      "process. To some degree any periodization is a matter of convenience,\n",
      "and it should be accepted as such.\n"
     ]
    }
   ],
   "source": [
    "retriever = FAISS.from_documents(texts,\n",
    "                                 bge_embeddings\n",
    "                                #  OpenAIEmbeddings()\n",
    "                                 ).as_retriever()\n",
    "\n",
    "docs = retriever.get_relevant_documents(\"What is Chinese History?\")\n",
    "#lets look at the docs\n",
    "pretty_print_docs(docs)"
   ]
  },
  {
   "cell_type": "markdown",
   "metadata": {},
   "source": [
    "- ### Adding contextual compression with an LLMChainExtractor\n",
    "- it will do a summarization based on each retrieved chunk and see if they are useful \n",
    "- then you can pass them into llm to generate answer "
   ]
  },
  {
   "cell_type": "code",
   "execution_count": 18,
   "metadata": {},
   "outputs": [],
   "source": [
    "from langchain.llms import OpenAI\n",
    "from langchain.retrievers import ContextualCompressionRetriever\n",
    "from langchain.retrievers.document_compressors import LLMChainExtractor"
   ]
  },
  {
   "cell_type": "code",
   "execution_count": 19,
   "metadata": {},
   "outputs": [
    {
     "name": "stderr",
     "output_type": "stream",
     "text": [
      "/root/anaconda3/envs/gpt/lib/python3.9/site-packages/langchain_core/_api/deprecation.py:117: LangChainDeprecationWarning: The class `langchain_community.llms.openai.OpenAI` was deprecated in langchain-community 0.1.0 and will be removed in 0.2.0. Use langchain_openai.OpenAI instead.\n",
      "  warn_deprecated(\n"
     ]
    }
   ],
   "source": [
    "# making the compressor\n",
    "llm = OpenAI(temperature=0)\n",
    "compressor = LLMChainExtractor.from_llm(llm)"
   ]
  },
  {
   "cell_type": "code",
   "execution_count": 20,
   "metadata": {},
   "outputs": [],
   "source": [
    "# it needs a base retriever (we're using FAISS Retriever) and a compressor (Made above)\n",
    "compression_retriever = ContextualCompressionRetriever(base_compressor=compressor,\n",
    "                                                       base_retriever=retriever)"
   ]
  },
  {
   "cell_type": "code",
   "execution_count": 25,
   "metadata": {},
   "outputs": [
    {
     "data": {
      "text/plain": [
       "PromptTemplate(input_variables=['context', 'question'], output_parser=NoOutputParser(), template='Given the following question and context, extract any part of the context *AS IS* that is relevant to answer the question. If none of the context is relevant return NO_OUTPUT. \\n\\nRemember, *DO NOT* edit the extracted parts of the context.\\n\\n> Question: {question}\\n> Context:\\n>>>\\n{context}\\n>>>\\nExtracted relevant parts:')"
      ]
     },
     "execution_count": 25,
     "metadata": {},
     "output_type": "execute_result"
    }
   ],
   "source": [
    "# compressor prompt\n",
    "compressor.llm_chain.prompt"
   ]
  },
  {
   "cell_type": "code",
   "execution_count": 26,
   "metadata": {},
   "outputs": [
    {
     "name": "stderr",
     "output_type": "stream",
     "text": [
      "/root/anaconda3/envs/gpt/lib/python3.9/site-packages/langchain/chains/llm.py:316: UserWarning: The predict_and_parse method is deprecated, instead pass an output parser directly to LLMChain.\n",
      "  warnings.warn(\n",
      "huggingface/tokenizers: The current process just got forked, after parallelism has already been used. Disabling parallelism to avoid deadlocks...\n",
      "To disable this warning, you can either:\n",
      "\t- Avoid using `tokenizers` before the fork if possible\n",
      "\t- Explicitly set the environment variable TOKENIZERS_PARALLELISM=(true | false)\n",
      "/root/anaconda3/envs/gpt/lib/python3.9/site-packages/langchain/chains/llm.py:316: UserWarning: The predict_and_parse method is deprecated, instead pass an output parser directly to LLMChain.\n",
      "  warnings.warn(\n",
      "/root/anaconda3/envs/gpt/lib/python3.9/site-packages/langchain/chains/llm.py:316: UserWarning: The predict_and_parse method is deprecated, instead pass an output parser directly to LLMChain.\n",
      "  warnings.warn(\n",
      "/root/anaconda3/envs/gpt/lib/python3.9/site-packages/langchain/chains/llm.py:316: UserWarning: The predict_and_parse method is deprecated, instead pass an output parser directly to LLMChain.\n",
      "  warnings.warn(\n"
     ]
    },
    {
     "name": "stdout",
     "output_type": "stream",
     "text": [
      "Document 1:\n",
      "\n",
      "- Until recently we were dependent for the beginnings of Chinese history\n",
      "on the written Chinese tradition. According to these sources China's\n",
      "history began either about 4000 B.C. or about 2700 B.C. with a\n",
      "succession of wise emperors who \"invented\" the elements of a\n",
      "civilization, such as clothing, the preparation of food, marriage, and a\n",
      "state system; they instructed their people in these things, and so\n",
      "brought China, as early as in the third millennium B.C., to an\n",
      "astonishingly high cultural level. However, all we know of the origin of\n",
      "civilizations makes this of itself entirely improbable; no other\n",
      "civilization in the world originated in any such way. As time went on,\n",
      "Chinese historians found more and more to say about primeval times. All\n",
      "these narratives were collected in the great imperial history that\n",
      "appeared at the beginning of the Manchu epoch.\n",
      "----------------------------------------------------------------------------------------------------\n",
      "Document 2:\n",
      "\n",
      "- Chapter III: THE CHOU DYNASTY (_c_. 1028-257 B.C.)\n",
      "- 1 Cultural origin of the Chou and end of the Shang dynasty\n",
      "- 2 Feudalism in the new empire\n",
      "- 3 Fusion of Chou and Shang\n",
      "- 4 Limitation of the imperial power\n",
      "- 5 Changes in the relative strength of the feudal states\n",
      "- 6 Confucius\n",
      "- 7 Lao Tz[)u]\n",
      "----------------------------------------------------------------------------------------------------\n",
      "Document 3:\n",
      "\n",
      "- The famous _Shih Chi_, one of our main sources for Chinese history, is the first historical work of the modern type, that is to say, built up on a definite plan, and it was also the model for all later official historiography.\n",
      "----------------------------------------------------------------------------------------------------\n",
      "Document 4:\n",
      "\n",
      "- split up Chinese history under the various dynasties\n",
      "- beginning or end of a dynasty does not always indicate the beginning or the end of a definite period of China's social or cultural development\n",
      "- break China's history down into the three large periods--\"Antiquity\", \"The Middle Ages\", and \"Modern Times\"\n",
      "- compare these periods with periods of the same name in Western history\n",
      "- similarities with the development of society and culture in the West\n",
      "- every attempt towards periodization is to some degree arbitrary\n",
      "- beginning and end of the Middle Ages cannot be fixed to a year\n",
      "- development is a continuous process\n",
      "- any periodization is a matter of convenience\n",
      "- should be accepted as such\n"
     ]
    }
   ],
   "source": [
    "compressed_docs = compression_retriever.get_relevant_documents(\"What is Chinese History?\")\n",
    "pretty_print_docs(compressed_docs)"
   ]
  },
  {
   "cell_type": "markdown",
   "metadata": {},
   "source": [
    "- ### More built-in compressors: filters\n",
    "- LLMChainFilter\n",
    "    - Uses an LLM chain to select out the queries to show the final LLM - This could be shown to a model fine tuned to do this\n",
    "    - \"YES\" we show it or \"NO\" we don't show it"
   ]
  },
  {
   "cell_type": "code",
   "execution_count": 27,
   "metadata": {},
   "outputs": [],
   "source": [
    "from langchain.retrievers.document_compressors import LLMChainFilter\n",
    "\n",
    "_filter = LLMChainFilter.from_llm(llm)"
   ]
  },
  {
   "cell_type": "markdown",
   "metadata": {},
   "source": [
    "- basically use llm to determine if it is relevant "
   ]
  },
  {
   "cell_type": "code",
   "execution_count": 28,
   "metadata": {},
   "outputs": [
    {
     "data": {
      "text/plain": [
       "PromptTemplate(input_variables=['context', 'question'], output_parser=BooleanOutputParser(), template=\"Given the following question and context, return YES if the context is relevant to the question and NO if it isn't.\\n\\n> Question: {question}\\n> Context:\\n>>>\\n{context}\\n>>>\\n> Relevant (YES / NO):\")"
      ]
     },
     "execution_count": 28,
     "metadata": {},
     "output_type": "execute_result"
    }
   ],
   "source": [
    "_filter.llm_chain.prompt"
   ]
  },
  {
   "cell_type": "code",
   "execution_count": 35,
   "metadata": {},
   "outputs": [
    {
     "name": "stderr",
     "output_type": "stream",
     "text": [
      "/root/anaconda3/envs/gpt/lib/python3.9/site-packages/langchain/chains/llm.py:316: UserWarning: The predict_and_parse method is deprecated, instead pass an output parser directly to LLMChain.\n",
      "  warnings.warn(\n",
      "/root/anaconda3/envs/gpt/lib/python3.9/site-packages/langchain/chains/llm.py:316: UserWarning: The predict_and_parse method is deprecated, instead pass an output parser directly to LLMChain.\n",
      "  warnings.warn(\n",
      "/root/anaconda3/envs/gpt/lib/python3.9/site-packages/langchain/chains/llm.py:316: UserWarning: The predict_and_parse method is deprecated, instead pass an output parser directly to LLMChain.\n",
      "  warnings.warn(\n",
      "/root/anaconda3/envs/gpt/lib/python3.9/site-packages/langchain/chains/llm.py:316: UserWarning: The predict_and_parse method is deprecated, instead pass an output parser directly to LLMChain.\n",
      "  warnings.warn(\n"
     ]
    }
   ],
   "source": [
    "compression_retriever = ContextualCompressionRetriever(base_compressor=_filter, base_retriever=retriever)\n",
    "compressed_docs = compression_retriever.get_relevant_documents(\"What is Chinese History?\")"
   ]
  },
  {
   "cell_type": "code",
   "execution_count": 37,
   "metadata": {},
   "outputs": [
    {
     "data": {
      "text/plain": [
       "[Document(page_content='Until recently we were dependent for the beginnings of Chinese history\\non the written Chinese tradition. According to these sources China\\'s\\nhistory began either about 4000 B.C. or about 2700 B.C. with a\\nsuccession of wise emperors who \"invented\" the elements of a\\ncivilization, such as clothing, the preparation of food, marriage, and a\\nstate system; they instructed their people in these things, and so\\nbrought China, as early as in the third millennium B.C., to an\\nastonishingly high cultural level. However, all we know of the origin of\\ncivilizations makes this of itself entirely improbable; no other\\ncivilization in the world originated in any such way. As time went on,\\nChinese historians found more and more to say about primeval times. All\\nthese narratives were collected in the great imperial history that\\nappeared at the beginning of the Manchu epoch. That book was translated\\ninto French, and all the works written in Western languages until recent', metadata={'source': '/root/workspace/data/Adv_RAG_temp_data/chinahistory.txt'}),\n",
       " Document(page_content='A HISTORY OF CHINA\\n\\nby\\n\\nWOLFRAM EBERHARD\\n\\n\\n\\n\\n\\nCONTENTS\\n\\nINTRODUCTION\\n\\n\\n           _THE EARLIEST TIMES_\\n\\nChapter I: PREHISTORY\\n\\n  1 Sources for the earliest history\\n  2 The Peking Man\\n  3 The Palaeolithic Age\\n  4 The Neolithic Age\\n  5 The eight principal prehistoric cultures\\n  6 The Yang-shao culture\\n  7 The Lung-shan culture\\n  8 The first petty States in Shansi\\n\\nChapter II: THE SHANG DYNASTY (_c_. 1600-1028 B.C.)\\n\\n  1 Period, origin, material culture\\n  2 Writing and Religion\\n  3 Transition to feudalism\\n\\n\\n             _ANTIQUITY_\\n\\nChapter III: THE CHOU DYNASTY (_c_. 1028-257 B.C.)\\n\\n  1 Cultural origin of the Chou and end of the Shang dynasty\\n  2 Feudalism in the new empire\\n  3 Fusion of Chou and Shang\\n  4 Limitation of the imperial power\\n  5 Changes in the relative strength of the feudal states\\n  6 Confucius\\n  7 Lao Tz[)u]\\n\\nChapter IV: THE CONTENDING STATES (481-256 B.C.):\\nDISSOLUTION OF THE FEUDAL SYSTEM\\n\\n  1 Social and military changes\\n  2 Economic changes\\n  3 Cultural changes', metadata={'source': '/root/workspace/data/Adv_RAG_temp_data/chinahistory.txt'}),\n",
       " Document(page_content=\"(_Shan Hai Ching_). This book, arranged according to regions of the\\nworld, contains everything known at the time about geography, natural\\nphilosophy, and the animal and plant world, and also about popular\\nmyths. This tendency to systemization is shown also in the historical\\nworks. The famous _Shih Chi_, one of our main sources for Chinese\\nhistory, is the first historical work of the modern type, that is to\\nsay, built up on a definite plan, and it was also the model for all\\nlater official historiography. Its author, Ss[)u]-ma Ch'ien (born 135\\nB.C.), and his father, made use of the material in the state archives\\nand of private documents, old historical and philosophical books,\\ninscriptions, and the results of their own travels. The philosophical\\nand historical books of earlier times (with the exception of those of\\nthe nature of chronicles) consisted merely of a few dicta or reports of\\nparticular events, but the _Shih Chi_ is a compendium of a mass of\", metadata={'source': '/root/workspace/data/Adv_RAG_temp_data/chinahistory.txt'}),\n",
       " Document(page_content='It is usual to split up Chinese history under the various dynasties that\\nhave ruled China or parts thereof. The beginning or end of a dynasty\\ndoes not always indicate the beginning or the end of a definite period\\nof China\\'s social or cultural development. We have tried to break\\nChina\\'s history down into the three large periods--\"Antiquity\", \"The\\nMiddle Ages\", and \"Modern Times\". This does not mean that we compare\\nthese periods with periods of the same name in Western history although,\\nnaturally, we find some similarities with the development of society and\\nculture in the West. Every attempt towards periodization is to some\\ndegree arbitrary: the beginning and end of the Middle Ages, for\\ninstance, cannot be fixed to a year, because development is a continuous\\nprocess. To some degree any periodization is a matter of convenience,\\nand it should be accepted as such.', metadata={'source': '/root/workspace/data/Adv_RAG_temp_data/chinahistory.txt'})]"
      ]
     },
     "execution_count": 37,
     "metadata": {},
     "output_type": "execute_result"
    }
   ],
   "source": [
    "compressed_docs"
   ]
  },
  {
   "cell_type": "markdown",
   "metadata": {},
   "source": [
    "- ### EmbeddingsFilter\n",
    "- Use an Embedding model to filter out the results that are closest to the query"
   ]
  },
  {
   "cell_type": "code",
   "execution_count": 38,
   "metadata": {},
   "outputs": [
    {
     "data": {
      "text/plain": [
       "[_DocumentWithState(page_content='Until recently we were dependent for the beginnings of Chinese history\\non the written Chinese tradition. According to these sources China\\'s\\nhistory began either about 4000 B.C. or about 2700 B.C. with a\\nsuccession of wise emperors who \"invented\" the elements of a\\ncivilization, such as clothing, the preparation of food, marriage, and a\\nstate system; they instructed their people in these things, and so\\nbrought China, as early as in the third millennium B.C., to an\\nastonishingly high cultural level. However, all we know of the origin of\\ncivilizations makes this of itself entirely improbable; no other\\ncivilization in the world originated in any such way. As time went on,\\nChinese historians found more and more to say about primeval times. All\\nthese narratives were collected in the great imperial history that\\nappeared at the beginning of the Manchu epoch. That book was translated\\ninto French, and all the works written in Western languages until recent', metadata={'source': '/root/workspace/data/Adv_RAG_temp_data/chinahistory.txt'}, state={'embedded_doc': [0.038268124506410005, -0.004597436391494531, 0.001701981786206208, -0.019134062253205002, -0.013384860226432378, -0.01926239104656235, -0.02199583010785882, -0.01513015305024588, 0.005017718498278238, -0.004453064636322465, 0.0007463214171694821, 0.03215959496645012, -0.01894156533787888, -0.0049439284176429855, -0.007776822014394644, 0.043144678258630824, 0.030157642693276872, 0.0015696410882420242, 0.0028601636516046003, 0.015258483706248278, -0.03495719842442527, 0.0036028756701209966, -0.00971461035655048, -0.003407171978510855, -0.010144517215968242, 0.004283027029346676, 0.03405888569505353, -0.022727313170691946, 0.027976025266526205, -0.02769369856837895, -0.00713516966570518, 0.010041852877430828, -0.019146894014953706, -0.010125267710700134, -0.019955376961504307, -0.009791609308945435, -0.011350822960952217, -0.016195296377478755, -0.015848803420007773, -0.021662170774781598, 0.020584194754477494, 0.007154419170973286, -0.00031922185488019746, 0.04678925994840269, 0.004501188399492732, 0.005717118897110762, 0.01099791505392941, -0.0072570835095107, -0.009746693486212344, 0.008540387741228367, 0.029798317974057187, 0.015912967816686448, -0.034854533154565326, -0.020635527389407462, -0.021020517494769606, -0.007398247324245591, -0.015425313372786891, 0.049663861427450266, -0.015604975732396732, -0.023484461619667527, -0.003509836317048268, 0.023368964588058885, -0.00678226129302111, 0.0034167967311449082, -0.023766788317814782, -0.007334081996244391, -0.008379974886886632, -0.015694807377862916, 0.00045717703068601776, 0.004440231477589972, 0.0072570835095107, 0.009053709433915433, -0.0025297129574564457, 0.006451810366042324, 0.03785746715226035, -0.00046840592816163286, -0.012910037544281525, -0.01701660922313301, -0.027539702526234094, 9.158579144191919e-05, -0.01682411417045194, -0.021790501430783996, 0.022829976577906832, 0.0073019993322437915, 0.00789231951166455, 0.012518629695399979, 0.0019634548924514525, 0.04296501496769846, -0.004873346743106172, -0.018004753597970928, 0.014142009606730486, 0.003946159755832275, 0.0035355024016826215, 0.023638457661812384, 0.007642075011856631, 0.005332127860426093, -0.0006994006316631551, 0.005559914448867466, 0.006422936108140163, -0.027360039235301725, -0.007148002824437671, 0.0099006895283572, -0.02966998731805479, 0.0016682951519870204, -0.017773759534753644, 0.02025053542140027, 0.015309815409855723, -0.029207997328975166, 0.006840009808825431, -0.014167674992872945, -0.006031528259258617, 0.020712525410479892, 0.003981450360270051, -0.04029574402837076, 0.001416446681960514, -0.026744053204077245, 0.011928309981640484, -0.020135038389791627, 0.005899989662819043, -0.005479707556035335, -0.0009841337507995554, 0.028232686578531004, -0.005328919454327654, -0.0019746838481347257, 0.02759103516116406, 0.017183438889671623, -0.031184286078651004, -0.007237834004242593, -0.003804996173928016, -0.00959269651274496, 0.011844895148371178, -0.006490309376578539, -0.02155950550492166, 0.027026379902224503, -0.04157904686310464, 0.021610838139851627, -0.02121301441009573, 0.023882285349423427, -0.0010194245880679623, -0.01827424853436948, 0.016926779440311877, -0.005755617907646976, -0.01394951362272689, -0.019223892036026136, -0.0012448047555201902, 0.023535794254597498, -0.008328642251956663, 0.02191883022414134, -0.004959969516812654, 0.004250944365346077, 0.026230732442712703, 0.015900136054937744, 0.027206043193156868, 0.006086068834625763, 0.03087629213171624, 0.003455295741681123, -0.011222493236272345, 0.0035419187482182363, 0.01033059638777496, -0.010016187491288369, 0.0005145246703510079, -0.00902804311645045, -6.210990646460056e-05, -0.005466874862964106, 0.015245651013177049, 0.02787336185931132, 0.04961253065516534, 0.0011196826220315466, 0.005547081290134973, -0.014668163992488782, -0.028797339974825514, -0.004497980459055556, -0.027924692631596238, -0.00782815418366335, -0.013397692919503608, 0.002717396099481753, 0.019916876088323043, 0.026590057161932388, -0.017350268556210236, -0.003136074003216241, -0.02552491476602204, 0.0051011333315475445, 0.03749814057039562, 0.01586163704440153, -0.03472620436120798, -0.005479707556035335, 0.0052102140166205724, -0.010195849850898211, 0.016734282524985756, -0.03752380781918312, -0.003657416245488142, 0.008540387741228367, 0.014988989701172252, -0.019993875972040522, -0.6549983271318032, -0.028053023287598636, -0.04165604488417707, -0.011562568450223921, 0.0023340090330156724, -0.012140055470912188, 0.008379974886886632, 0.008861213449911837, -0.005851865899648775, 0.012197803986716509, -0.024575269401720334, 0.001867207249695601, 0.00864305207976578, -0.022945473609515477, -0.01849240897319301, -0.005762034719843854, 0.0016586702829376513, -0.011633149659099474, -0.006137401003894469, -0.008187478902883035, -0.012890788039013418, 0.007391830512048713, -0.02078952343155232, 0.01056800819451165, -0.021521006494385445, -0.006904175136826631, 0.0073019993322437915, 0.014847826352098624, -0.00581336688911256, 0.04481297492401695, -0.008450556095762184, 0.017067941858062978, 0.028643343932680657, 0.010118851829825783, 0.0345208738214881, -0.014077844278729287, -0.02150817286999169, 0.045839616446746036, 0.010227932049237548, 0.030029312037274474, 0.013423359236968592, -0.005944905485552134, 0.0015672349000835108, 0.028797339974825514, 0.006159858915261015, 0.007212168152438871, 0.023818120952744753, -0.018505242597586766, 0.030157642693276872, -0.010619339898119095, 0.017504266461000142, 0.006076444081991709, -0.011491986310025846, 0.0018816443786466815, -0.004068073599637795, 0.0032210928067041354, -0.00364458308675565, -0.022188325160539892, -0.003190614345752755, -0.0010916103492386799, -0.002402986504503267, 0.019544719607354655, 0.0107669200593896, 0.00143088392732691, -0.011992475309641683, 0.03457220831906312, -0.04586528369553354, -0.003184197766386509, 0.01904423060773882, 0.004453064636322465, -0.004286234969783852, 0.020135038389791627, -0.03254458879710236, -0.025678910808166897, 0.00355154350085229, 0.013859681977260705, 0.02697504912993958, -0.0018271039196948516, -0.0027061671437984803, 0.016208128139227458, -0.004825222979935904, -0.004215653295247038, -0.008899712460448052, -0.017902090190756042, 0.01602846671094014, 0.0062464816889674975, -0.030208975328206843, 0.005707494144476708, -0.020481531347262605, -0.004334359198615382, 0.008238811537813005, -0.0044209819723218646, -0.003339798477241848, -0.009682528158211145, -0.0027141876933833146, 0.042092369487114235, 0.00844414021488783, -0.02041736508793888, 0.008052732366006284, 0.005871115404916882, -0.005187756105254027, -0.023638457661812384, -0.0018623948733785742, 0.018826068306270236, 0.007796071519662751, 0.014591165971416353, 0.003962200855001943, -0.016362124181372315, 0.052179136324633106, -0.04170737938175209, 0.020404533326190178, 0.00934886882513392, -0.002189637277843606, 0.012223470304181494, 0.0004503594587651246, -0.007905152204735779, -0.011459904111686509, 0.030722296089571385, 0.026076736400567846, -0.011973225804373575, -0.00015369569063056253, -0.02094351947369718, 0.002178408322160333, -0.025832908712956806, 0.0014220611598021503, 0.02664138979686236, -0.02159800451545787, 0.0012969390263135067, -0.02493459598358507, 0.005081883360618175, 0.015912967816686448, -0.01699094383699055, 0.03670249311088382, -0.006743762282484895, 0.019621717628427085, -0.006086068834625763, 0.02725737582808684, -0.025473582131092073, 0.002138305108574899, 0.006111735152090747, -0.017773759534753644, 0.00901521042337922, -0.006070027735456094, -0.0031697606374354284, 0.015989967700403927, -0.013166697924963796, -0.009400201460063888, 0.00221369915942874, -0.029490324027122424, 0.012595627716472407, -4.002805294728772e-05, -0.03239059275495751, -0.020609860140619954, 0.024061948640355792, -0.018928733576130174, 0.007917984897807009, -0.008251644230884234, -0.008797048121910638, 0.0030510551997283467, -0.020584194754477494, -0.00410657261017401, 0.014411502680483987, -0.0035547519069507286, 0.01281379001794099, 0.03262158681817479, -0.02843801525560583, -0.01921106027427743, 0.005495749120866267, -0.014603998664487583, -0.027565367912376553, 0.015720472764005376, -0.007943651215271994, 0.0034103801517786623, 0.02170066978531781, -0.02974698533912722, 0.011941142674711714, -0.030234640714349302, -0.021764834181996484, 0.0036959152560243564, -0.011851311960568055, -0.006955507306095337, -0.008270893736152342, -0.019519052358567147, -0.01894156533787888, 0.008219562032544897, -0.0009889461271165821, 0.005547081290134973, -0.014167674992872945, 0.0066731806079480815, 0.02895133601697037, -0.0039525761023678895, 0.01027284787197064, 0.014462835315413956, -0.03457220831906312, 0.01672145076323705, 0.004250944365346077, -0.0011277032880316964, 0.0049920521808132536, 0.012486547497060642, 0.007686990368928461, 0.016490454837374713, 0.010420428033241145, 0.011671649600958213, -0.006118151498626362, 0.013667186924579633, -0.008508304611566505, 0.00030779243202342987, 0.008225977913419249, -0.001701981786206208, -0.004129030521540556, 2.1091801284626827e-05, -0.004911845753642386, -0.025447916744949613, -0.02249631724482961, 0.0062561064416015505, 0.0511011640296191, 0.0014870284729126433, -0.011081328955876192, -0.00896387778844925, -0.00026889228341342393, 0.004035990935637196, 6.982977711706457e-05, -0.014154842299801716, 0.0005032957728753928, -0.03721581200960331, 0.00904087580952168, -0.01364152060711465, 0.02078952343155232, 0.005367418464863868, -0.012653377163599254, -0.015835969795614017, -0.004764266058033143, -0.02025053542140027, -0.0048444724852040105, 0.014937657997564809, 0.05451475165617368, 0.019519052358567147, -0.015335481727320707, 0.013102533528285122, 0.028566345911608226, -0.0016955653232552776, 0.01326936226350121, 0.034649206340135554, -0.010240765673631302, 0.014424336304877742, -0.0036606244187559495, 0.014924824373171053, 0.014770828331026196, 0.004700100730031944, 0.02137984407663434, 0.004841264079105572, 0.016118296493761276, -0.018261414909975727, -0.017863591180219827, 0.00890612927264493, -0.009451533163671333, 0.013243696877358751, 0.0043183176337844515, 0.016682951752700837, 0.01201172481490979, 0.0016859405706212238, -0.010632172591190325, -0.015027488711708467, -0.01637495780576607, 0.03498286567321278, -0.01876190390959156, 0.014539833336486384, 0.0026596473508468, -0.028463680641748288, 0.007148002824437671, -0.02059702837887125, -0.01348752456496979, 0.03457220831906312, -0.014899158987028593, 0.0160541320970826, 0.002396570157967652, -0.0018768320023296546, -0.012833039523209097, 0.006066819329357655, 0.0011204847235561563, -0.03590684565137202, -0.007321248837511899, 0.00467443441256696, 0.007994983850201963, -0.012127221846518432, -0.006281772759066536, -0.025024425766406202, 0.004180362690809262, -0.027360039235301725, 0.0014661747645953167, -0.02116168177516576, -0.017940589201292257, -0.009008793611182342, -0.01348752456496979, -0.0045813948266636, 0.013192364242428782, 0.03783179990347284, -0.008553220434299597, 0.017542765471536357, 0.020353200691260207, 7.148403875199976e-05, -0.018518076221980522, -0.01985271169164437, -0.007898735392538903, 0.014347338283805312, -0.006949090959559722, 0.01704227647192052, 0.006788677639556725, 0.00932320343899146, -0.012460881179595658, -0.012679042549741714, 0.004680851224763837, -0.005332127860426093, 0.02091785408755472, 0.01910839500441749, 0.006390853444139564, -0.012351800028861366, 0.027488369891304123, 0.01901856335895131, 0.003195426722069782, 0.018928733576130174, -0.03654849706873896, -0.03282691363260457, 0.010523092371778559, 0.08290143613949459, 0.0011076516812389796, -0.010343430012168716, 0.01906989599388128, -0.011305907138219126, -0.020930687711948472, -0.0037793300892936628, -0.03616350323808672, 0.022650315149619515, -0.0032355299356552156, -0.00947078266893944, 0.0021222637765745994, 0.006949090959559722, 0.0023067387453321, 0.02034036706686645, 0.0028136438586529203, -0.009329619319865812, -0.029721318090339708, -0.013359193908967393, -0.0025409416803090874, -0.013307861274037424, 0.01881323468187648, 0.027616700547306524, 0.03729281375596584, -0.004478730488126186, 0.006230440589797829, 0.011864144653639285, 0.002539337710090499, -0.00215274223752598, 0.004225278047881092, -0.010747670554121493, 0.02415178028582198, -0.011036414064465625, 0.010176600345630104, 0.022136992525609925, 0.04121972028123991, -0.0014565500119612632, 0.022727313170691946, 0.012435214862130672, -0.00022457818234293395, 0.026718387817934786, 0.0058935733162834274, 0.004048824094369689, -0.02651305914085996, 0.004465897795054957, 0.005925655980284028, 0.017273270535137806, 0.007327665649708776, -0.0011445467215566059, -0.023176469535377813, 0.004680851224763837, -0.018210082275045756, -0.018094585243437114, -0.03488020040335284, 0.016118296493761276, -0.003788954841927716, 0.009220539100454046, -0.0007427121349317119, -0.012435214862130672, -0.0028024149029696474, 0.0003881994427831076, -0.04545462634138389, 0.016131130118155028, -0.015284150023713262, -0.008726466913035087, -0.022355154827078505, -0.0070325053271677665, 0.009265453991864613, -0.007712656686393446, 0.017132108117386705, -0.005697869391842655, -0.009259038110990261, 0.0046295190554951305, 0.010484593361242344, 0.02030186805633024, -0.002686917638530373, 0.02185466582746267, -0.00031681566672168407, -0.008784215428839408, 0.030747961475713844, 0.0053096699490595475, -0.03967975613450123, -0.014052177961264302, -0.024947427745333775, 0.01131874076261288, 0.02619223343217649, -0.005361002118328254, -0.01269187617413547, -0.0020982018949894654, -0.007500911662783004, 0.005822991641746614, -0.007096670655168965, -0.006333104928335242, 0.005794117383844453, 0.00355154350085229, -0.01849240897319301, -0.020289034431936484, 0.0027623116893842137, 0.03282691363260457, -0.04052673809158805, -0.007943651215271994, 0.006156650509162576, -0.0004299068012101029, -0.019865545316038125, 0.01711927449299295, 0.004151488432907102, -0.015245651013177049, 0.005842241147014721, -0.01881323468187648, 0.011947559486908592, 0.009926355845822184, -0.033930556901696184, 0.03739547530053568, 0.014219007627802914, -0.023959283370495854, 0.014988989701172252, 0.012614877221740515, 0.038807110653917, -0.004222070107443915, -0.026667055183004818, -0.002359675117650026, -0.013731352252580832, 0.0018720196260126277, 0.021354176827846832, -0.013718518628187078, 0.005428375386766629, -0.020905020463160964, 0.005367418464863868, -0.012685459361938592, -0.025165590046802355, 0.011665232788761335, 0.053898763762304146, -0.015091654039709666, 0.004404940873152197, -0.006390853444139564, 0.005024134844813853, -0.01797908821182847, -0.017183438889671623, -0.036522829819951454, 0.004761057651934705, -0.0021591588168922257, -0.021816166816926455, -0.007590742842587925, -0.00040484229271920677, -0.002905079241507061, -0.02779636383823889, 0.008809881746304394, -0.011729398116762534, 0.014629664981952568, 0.004273402276712622, -0.025768742453633083, -0.013988012633263103, -0.007006839475364044, 0.00712233697263395, -0.007674157675857231, -0.006718095965019911, -0.0022650313286974467, -0.01661878549337711, 0.03708748321624596, 0.004356816644320666, 0.0271547105582269, -0.0211360163890233, 0.03026030610049176, 0.01722193790020784, -0.005344961019158585, 0.011941142674711714, -0.0310302881738611, 0.012800956393547235, -0.030131975444489364, -0.005223047175353065, 0.0011156723472391294, 0.0180560862329009, -0.012300468325253923, 0.003942951349733837, -0.001751709868841011, 0.028361017234533402, -0.0022217199418442055, 0.004093739451441518, -0.00890612927264493, -0.03557318631829479, -0.023497295244061283, -0.009098625256648526, 0.01379551758058203, 0.01813308425397333, -0.0003224301154594916, -0.017132108117386705, 0.016528953847910928, -0.01294853655481774, 0.02185466582746267, -0.016131130118155028, 0.02895133601697037, -0.002064515260770278, 0.010555174570117896, -0.01867207226412538, 0.0008983127293717358, -0.02522975444348103, 0.005338544206961708, -0.014911991680099823, 0.005409125881498522, -0.0003787751864263775, 0.0009648841291161326, 0.011941142674711714, 0.007327665649708776, -0.030080644672204445, -0.01255071282506184, -0.007475245345318019, -0.00933603613206269, -0.018800402920127777, -0.01908272961827503, 0.008726466913035087, -0.013384860226432378, 0.00253773350704128, -0.00035290857641087175, -0.0047899319098368654, -0.0026612515538960197, -0.0017324602471575881, -0.009169206465524077, 0.043863327697070194, -0.028874337995897944, -0.01787642294196853, 0.039577094589931396, -0.01573330638839913, 0.041348052799887354, -0.013461858247504807, 0.059185978593964725, -0.0080270660485413, -0.005447625357695999, -0.013898181919119445, 0.00021595598385507018, -0.0008060753032006435, -0.004526854716957717, 0.02759103516116406, 0.01950622059681844, -0.00621439949062816, 0.015810304409471558, 0.006028320318821441, 0.015065987722244682, -0.021713501547066517, -0.025755910691884376, 0.012204220798913387, 0.01797908821182847, -0.020404533326190178, -0.005909614415453096, -0.011491986310025846, 0.011248158622414805, 0.0165802864828409, 0.01317953154935755, 0.0053192947016936, -0.0058935733162834274, 0.001206305744983976, -0.0030334096646788275, 0.012088722835982219, -0.01108774576807307, 0.016528953847910928, -0.0057331604619416925, -0.007430329522584927, 0.003243550718070681, -0.004655184907298852, -0.0027093753170662877, 0.014860659045169854, -0.024382774349039262, -0.002313155324698346, -0.024061948640355792, 0.008495471918495276, 0.002297113992698046, 0.022047160880143742, -0.030542632798639016, -0.007545827019854833, -0.007686990368928461, 0.028669009318823116, -0.02105901650530582, -0.012448048486524428, -0.016066965721476357, 0.00975311029840922, 0.009477199481136317, 0.009092208444451648, -0.005431583792865068, -0.01699094383699055, -0.023664124910599896, 0.0017196272048404116, -0.004931095258910493, 0.005476499615598159, 0.008861213449911837, -0.027360039235301725, -0.0022169075655271786, -0.013590188903507204, -0.010548758689243543, -0.012512212883203101, -0.0006825572563459036, -0.004385691367884089, -0.019300891919743615, 0.0016249836487184637, 0.017247605148995346, 0.016772781535521968, -0.007481661691853634, -0.01379551758058203, -0.0012744812313622764, 0.03375089361076382, -0.01039476171577616, 0.03631749928023158, -0.003984658766368489, 0.0011004331167634395, -0.022842810202300588, -0.013295028580966194, 0.0088291312515725, -0.02718037780701441, 0.02458810302611409, -0.0254094177344134, -0.01813308425397333, -0.021033351119163362, 0.02517842367119611, -0.0026821052622133463, -0.01308328309169449, 0.0029034750384578415, -0.008315809558885433, -0.0013979991618017008, 0.010054686501824584, -0.025435083120555858, -0.04216936750818666, 0.01814591787836708, 0.02769369856837895, 0.0088291312515725, -1.9851106877414745e-05, -0.02656439177578993, 0.025486415755485825, 0.0035419187482182363, -0.0037183731673909024, -0.0011012352182880492, -0.017722426899823673, 0.009002376798985464, -0.02330480019138021, 0.01642629044069604, -0.020584194754477494, -0.00833505906415354, -0.03138961475572583, -0.004677642818665399, -0.010811835882122691, 0.0024222362426020052, -0.015053155029173452, 0.005213422422719011, 0.015771805398935346, 0.007860236382002688, 0.01687544680538191, 0.013513189951112252, 0.01948055334803093, -0.020109373003649168, 0.014077844278729287, 0.009425867777528874, -0.02498592675586999, -0.009188455970792184, 0.004462689388956518, 0.05400142903216409, 0.015746140012792887, 0.027539702526234094, -0.014668163992488782, -0.01776092591035989, -0.02357429326513371, 0.014142009606730486, 0.031158618829863496, 0.033365903505401674, 0.031620608818943116, 0.02044303233672639, 0.002633981266212447, -0.0032563836439725422, -0.013089699903891368, 0.015104487664103421, -0.006846426621022309, -0.0034488793951455076, -0.012916454356478403, -0.021341345066098128, 0.0038723696751970225, 0.03257025232059978, 0.006397270256336441, 0.0066154316264824976, -0.002528108754407226, -0.010786169564657706, -0.015040322336102223, 0.02362562590006368, 0.03446954304920318, 0.013808350273653262, -0.011684482294029443, 0.013988012633263103, 0.026256397828855162, -0.00798215022580821, 0.017144939879135408, -0.026615722548074847, -0.014924824373171053, 0.00741108001731682, -0.01728610415953156, -0.030722296089571385, -0.02044303233672639, -0.031132953443721037, -0.009977688480752154, 0.00844414021488783, 0.018518076221980522, -0.02525542169226854, 0.019865545316038125, -0.010933749725928211, 0.01650328846176847, -0.007071004803365243, -0.016541787472304684, 0.031158618829863496, -0.0122427198094496, -0.015168652060782094, -0.036394501026594105, -0.00024503083989795563, -0.028053023287598636, 0.0030109517533122815, 0.004497980459055556, -0.01896723258666639, 0.014988989701172252, -0.009688944970408021, 0.015527977711324303, -0.0071865018349738866, -0.007725489845125937, -0.0036830823301224956, 0.014385837294341527, -0.013346361215896163, 0.04327300705198817, 0.00959269651274496, 0.014757994706632442, -0.0014140404938020005, 0.0074559958400499116, -0.02404911501596204, 0.001627389836876977, -0.019673048400712004, -0.01896723258666639, -0.009079374820057894, 0.02769369856837895, 0.01968588202510576, 0.015566476721860519, 0.004680851224763837, -0.017940589201292257, 0.02001954135818298, -0.023561459640739957, 0.008983127293717358, 0.19249558912284634, -0.004132238461977732, 0.016708617138843296, 0.03403321844626602, -0.029875315995129617, -0.00057267435333295, 0.009836524200356002, 0.03567584786286464, -0.003214676227337889, 0.011556151638027045, -0.005697869391842655, -0.005518207032232813, -0.017645428878751247, 0.016220961763621214, 0.0037151647612924635, -0.03218526221523763, -0.012101556460375973, -0.005694660985744216, -0.0002502442669772873, 0.0009504469419573943, -2.6894240748275482e-05, -0.019442054337494716, -0.010882417090998242, -0.018877400941200207, 0.00407448994617341, -0.00238373699923516, -0.005062633855350067, -0.010369095398311176, 0.006994006316631551, -0.0011662024149832265, -0.00904087580952168, -0.012043807013249126, -0.00043552127905173936, 0.0034937949850479683, -0.0379857959456177, 0.0038787860217326373, 0.0390637719659218, -0.00040484229271920677, -0.010715587424459631, -0.0005077070984301148, -0.002776748818335294, -0.023176469535377813, 0.006499934594873855, -0.020802357055946075, 0.028592011297750686, 0.02444694060836299, -0.0014324880139608136, -0.024844764338118885, -0.024421273359575477, 0.015797470785077806, -0.007911569016932657, -0.011280241752076666, 0.015373980737856922, 0.03431554700705833, 0.03575284588393706, 0.009676111346014267, 0.009387367835670134, 0.03624050125915915, 0.004356816644320666, -0.009008793611182342, -0.009207705476060292, 0.018235749523833267, -0.016952444826454336, -0.006884925631558523, -0.0004980823457960611, 0.018210082275045756, -0.004953553170277039, -0.009188455970792184, 0.013975179940191873, -0.02774503120330892, -0.019454887961888472, -0.019134062253205002, -0.03364822834090388, 0.00945794997586821, -0.01007393600709269, -0.02664138979686236, 0.03683082190424117, 0.018710571274661594, 0.013153865231892567, 0.02718037780701441, -0.01901856335895131, -0.019377889940816042, -0.01960888400403333, -0.018184416888903297, 0.010144517215968242, -0.02357429326513371, 0.0199297097127168, -0.0009231767706891372, -0.021610838139851627, 0.012756040570814142, -0.01087600121012389, -0.025435083120555858, -0.0016442331539865708, -0.006634681131750605, 0.02397211699488961, -0.004552520568761439, 0.001612150606401287, 0.012865121721548434, 0.013333527591502409, 0.011376489278417203, -0.022727313170691946, 0.02000670773378923, 0.031671939591228035, -0.00816181258541805, -0.003461712321047369, 0.008084814564345622, -0.015065987722244682, -0.009560614314405623, 0.0019506219665495915, 0.009868607330017863, -0.004555728974859878, 0.014616831357558813, 0.01002260337216272, -0.021444008473313014, 0.0022714479080636926, 0.0077704052021977665, -0.009759526179283573, -0.042143700259399154, 0.005842241147014721, -0.012063056518517233, -0.03231359100859498, -0.023099471514305383, -0.01699094383699055, 0.008912546084841806, -0.002513671625456146, 0.002587461473260767, -0.0037921630151955235, 0.035855511153797, -0.006955507306095337, -0.003378297487778063, 0.005341752613060147, -0.026102401786710305, -0.01548947870078809, 0.0046295190554951305, -0.00940661734093824, 0.019762880046178186, -0.004215653295247038, -0.000680552118949695, -0.016066965721476357, -0.016605953731628407, -0.026063902776174094, -0.01610546473201257, 0.0063042306704330815, -0.004392107714419704, 0.028823005360967973, 0.0006560891283945983, -0.004902221001008332, -0.024780598078795162, 0.0018254998330609479, -0.012294051513057045, -0.03988508667422111, -0.010054686501824584, 0.007513744355854233, -0.0059930292487224025, 0.013205196935500011, -0.009836524200356002, -0.011613900153831366, -0.006554474704579738, -0.004716141829201613, 0.027488369891304123, -0.0013635104260579034, -0.004882971495740225, 0.02913099930790274, -0.017427266577282663, -0.0004503594587651246, 0.001559214234083361, -0.15964301569203446, 0.01824858128558197, 0.014988989701172252, -0.01455266696088014, 0.01704227647192052, 0.008501888730692153, 0.01942922071310096, 0.004918262100178001, 0.0071929186471707636, -0.00877779861664253, 0.012653377163599254, 0.011857727841442407, -0.024408441597826774, -0.016836947794845694, 0.010722004236656507, 0.012486547497060642, -0.022085659890679954, 0.03285258088139208, 0.02098201848423339, -0.002308342948381319, 0.01785075755582607, -0.014899158987028593, 0.01669578351444954, 0.0011974829774592164, 0.008142563080149944, 0.017581264482072572, 0.00607323567589327, -0.03765213661254047, -0.011427821913347172, -0.022752978556834405, -0.02145684209770677, -0.0003164146159593792, -0.013141032538821337, -0.0011926706011421895, 0.0118384783361743, -0.0010009770679091491, -0.025691744432560653, -0.014745162013561212, -0.008784215428839408, 0.0038499117638304764, 0.011697314987100672, 0.0310302881738611, -0.0031456987558502944, -0.0214055094627768, -0.0009135519598474258, 0.024498271380647908, -0.0019458095902325648, -0.004655184907298852, 0.014321671966340328, -0.01688828042977566, -0.011633149659099474, -0.0032595920500709807, 0.024395607973433018, 0.01456549965395137, 0.012268385195592061, -0.004129030521540556, 0.00479634825637248, 0.015925801441080203, 0.02555058201480955, 0.004664809659932906, 0.0160541320970826, -0.008437723402690955, -0.002590669879359206, 0.014437168997948972, -0.005155673441253427, 0.00952211530386941, -0.003615708828853489, 0.011453487299489631, -0.017067941858062978, 0.027616700547306524, -0.010491009242116696, -0.026667055183004818, 0.029284995350047596, -0.020712525410479892, -0.002136701138356311, 0.006143817350430084, -0.0014485293459611133, -0.012512212883203101, 0.0010458926578116097, -0.006548058358044123, -0.03577851313272457, -0.017863591180219827, -0.008899712460448052, -0.011414988288953416, -0.01420617400340916, 0.024703600057722732, 0.008572469939567704, 0.011729398116762534, -0.029259329963905137, -0.045839616446746036, -0.01942922071310096, -0.006281772759066536, -0.03952576009235637, -0.0038499117638304764, 0.004308692881150398, 0.010811835882122691, -0.014321671966340328, -0.02231665581654229, 0.005303253602523933, -0.024177445671964438, 0.009733859861818588, -0.02126434518238065, 0.004940720011544547, 0.007898735392538903, 0.00971461035655048, 0.005717118897110762, -0.004584603232762038, -0.0013675207008503206, 0.037754801882400414, 0.011466320923883385, -0.011581817955492029, 0.02777069658945138, 0.01896723258666639, 0.03541918655085984, -0.012249135690323954, 0.040783399403592845, -0.028130021308671066, 0.0010691525542874496, 0.004741808146666597, -0.0007290770492975834, 0.03079929411064381, -0.0044177735662234265, -0.002853747072238354, 0.02177766780639024, 0.000738701801931637, -0.011511235815293952, -0.11755064247963014, -0.0009319994800062389, -0.0165802864828409, 0.030593965433568984, 0.021944497472928853, 0.024626602036650305, -0.011780729820369979, 0.0021559506436244183, -0.005113966024618774, 0.019300891919743615, -0.007962900720540102, -0.04953553263409292, 0.002248990229527778, -0.0034649204943151763, 0.031107288057578578, 0.00010857954624312066, -0.006217607431065336, -0.00387557784846483, -0.009130707454987863, 0.022881309212836803, -0.012544296012864964, -0.021905998462392638, -0.009875024142214741, -0.045172297780591585, 0.01157540114329515, -0.008354308569421648, -0.039397431298999024, 0.0115048199344196, 0.017619763492608787, -0.009682528158211145, -0.025961237506314155, 0.0036766657507562492, -0.001822291543377825, -0.0034777536530476686, 0.017914921952504746, -0.004151488432907102, -0.020507196733405064, -0.0029467866581417137, 0.01231971783052203, -0.0310302881738611, 0.01842824457651434, 0.02057136113008374, -0.0006693232214740798, -0.032903911653676995, 0.028001692515313717, -0.022919808223373018, -0.01182564564310307, 0.016849781419239446, -0.002200866233526879, -0.04476164042644193, -0.014924824373171053, -0.00445948098285808, -0.019031396983345064, -0.006955507306095337, 0.004032782529538757, -0.0099648548563584, 0.005219838769254626, 0.00976594299148045, 0.011357239773149095, -0.010029020184359598, 0.0026901258117981806, -0.014488501632878941, -0.03151794354908318, 0.001899289797280885, 0.01488632536263484, 4.619392829337137e-05, -0.013282195887894964, 0.0038082043471958232, -0.005184547699155588, -0.0321082641941652, -0.010093185512360797, 0.013846849284189475, -0.024126113037034467, 0.01781225854528986, -0.030516967412496557, -0.0035836261648528895, -0.002189637277843606, 0.007013255821899659, 0.011222493236272345, -0.013846849284189475, 0.00025405407459620983, -0.016516122086162224, 0.0018399369620120283, -0.016528953847910928, 0.00469047597739789, -0.0006532818894737801, 0.0215338401187792, -0.0156563083673267, -0.004976011081643585, -0.019916876088323043, 0.004180362690809262, 0.031620608818943116, 0.004850888831739625, -0.005531039725304042, 0.02463943566104406, 0.032903911653676995, 0.012460881179595658, 0.005640120876038333, -0.01982704630550191, 0.009868607330017863, 0.009586280631870609, -0.009676111346014267, -0.045813949197958524, 0.0007683782195660653, 0.010112435017628905, -0.008809881746304394, 0.01388534829472569, -0.0028601636516046003, 0.007359747848048113, -0.02118734716130822, -0.00829014324142045, 0.014834993659027395, -0.01293570386174651, 0.02841234800681832, -0.00865588477283701, -0.021546673743172953, -0.03403321844626602, -0.0215338401187792, 0.023368964588058885, 0.017722426899823673, -0.010645006215584079, -0.017401601191140204, 0.012576378211204301, -0.01393668092965566, 0.02419027929635819, 0.011581817955492029, -0.035239526985217574, 0.02705204715101201, -0.004388899308321265, 0.0195318859829609, -0.018120250629579573, -0.00036173128572797346, 0.01317953154935755, -0.008617385762300795, 0.04383766044828268, 0.005486124368232213, 0.015271316399319508, -0.0106385894033872, -0.0030189725357277473, 0.013551689892970991, 0.020083705754861656, 0.07458562751193168, 0.00622723218369939, -0.03159494157015561, -0.0004072484808777202, -0.0011277032880316964, -0.007802487866198366, 0.025447916744949613, -0.008219562032544897, 0.019467719723637176, 0.009894273647482849, -0.0005081081491924197, 0.035085530943072714, 0.03180027210987549, -0.009746693486212344, -0.006130984657358854, 0.007237834004242593, -0.007808904212733982, 0.004433815131054357, 0.0048380556730071335, 0.007051755298097135, -0.024203112920751946, 0.030131975444489364, 0.013962346315798119, 0.01682411417045194, -0.01763259525435749, -0.0027719364420182675, -0.03726714650717833, -0.02964432006926728, 0.005046592756180399, -0.014296005648875343, -0.0145141670190214, -0.0007868257397248785, -0.01781225854528986, 0.01388534829472569, 0.027437037256374155, -0.011953976299105468, 0.0029371619055076604, 0.0018816443786466815, -0.005960946584721803, -0.017863591180219827, 0.018402579190371877, -0.012807373205744111, 0.000560643412540383, -0.030439969391424126, 0.02463943566104406, 0.02261181427643825, 0.00020181959931997505, 0.01016376672123635, 0.013859681977260705, -0.01056800819451165, -0.001631400111669394, 0.013731352252580832, 0.010587257699779758, 0.010491009242116696, -0.0014453210562779901, -0.009124290642790986, -0.006317063363504311, -0.023510127005809987, 0.01659312010723465, 0.021174515399559515, 0.012646960351402376, 0.01889023456559396, 0.009111457949719756, 0.0017228354945235346, -0.0072891661735113, -0.03192860090323284, -0.005916031227649974, -0.026256397828855162, -0.02621789881831895, -0.015848803420007773, 0.028027357901456176, -0.0145141670190214, 0.02789902724545378, 0.018659238639731623, 0.0033590479825099553, -0.02343312898473756, 0.016131130118155028, -0.0020260160174034323, 0.0012921266499964798, -0.01773526052421743, 0.01835124655544191, 0.017029442847526766, 0.028643343932680657, 0.005030551191349468, -0.01564347474293295, 0.0142446739452679, -0.002046869725720759, 0.022406487462008476, -0.027924692631596238, -0.001940997213915538, 0.01679844878430948, 0.018800402920127777, 0.012794540512672882, -0.019467719723637176, 0.015617808425467963, -0.025986904755101663, -0.0019923293831842445, 0.02404911501596204, 0.025589081025345763, -0.007789654707465874, 0.031184286078651004, 0.009887856835285971, 0.0029275371528736066, 0.025653245422024438, 0.021046184743557118, 0.028232686578531004, 0.01982704630550191, -0.012415965356862567, -0.012063056518517233, 0.012569962330329948, 0.018928733576130174, -0.003368672735144009, -0.008925378777913036, -0.012261969314717708, -0.034289879758270816, 0.030054977423416934, -0.0027959983236034015, 0.014629664981952568, -0.00616627526179663, -0.006034736665357056, 0.027565367912376553, -0.0035547519069507286, 0.047790237947634366, -0.0010073935308600797, -0.03197993540080785, -0.0048444724852040105, 0.03916643723578174, 0.012492963377934995, -0.01169089910622632, -0.031055955422648607, -0.008880462955179944, 0.009554197502208745, -0.013153865231892567, -0.001960246719183645, 0.010266431059773762, -0.006374812344969895, -0.006609015279946883, -0.012743207877742913, 0.013769851263117047, 0.01867207226412538, -0.020391699701796422, -0.017478599212212634, -0.011883394158907391, -0.007449579493514297, -0.024742099068258947, 0.007757572043465275, 0.0022650313286974467, 0.009804442002016665, -0.013692853242044618], 'query_similarity_score': 0.8651693361724015}),\n",
       " _DocumentWithState(page_content='A HISTORY OF CHINA\\n\\nby\\n\\nWOLFRAM EBERHARD\\n\\n\\n\\n\\n\\nCONTENTS\\n\\nINTRODUCTION\\n\\n\\n           _THE EARLIEST TIMES_\\n\\nChapter I: PREHISTORY\\n\\n  1 Sources for the earliest history\\n  2 The Peking Man\\n  3 The Palaeolithic Age\\n  4 The Neolithic Age\\n  5 The eight principal prehistoric cultures\\n  6 The Yang-shao culture\\n  7 The Lung-shan culture\\n  8 The first petty States in Shansi\\n\\nChapter II: THE SHANG DYNASTY (_c_. 1600-1028 B.C.)\\n\\n  1 Period, origin, material culture\\n  2 Writing and Religion\\n  3 Transition to feudalism\\n\\n\\n             _ANTIQUITY_\\n\\nChapter III: THE CHOU DYNASTY (_c_. 1028-257 B.C.)\\n\\n  1 Cultural origin of the Chou and end of the Shang dynasty\\n  2 Feudalism in the new empire\\n  3 Fusion of Chou and Shang\\n  4 Limitation of the imperial power\\n  5 Changes in the relative strength of the feudal states\\n  6 Confucius\\n  7 Lao Tz[)u]\\n\\nChapter IV: THE CONTENDING STATES (481-256 B.C.):\\nDISSOLUTION OF THE FEUDAL SYSTEM\\n\\n  1 Social and military changes\\n  2 Economic changes\\n  3 Cultural changes', metadata={'source': '/root/workspace/data/Adv_RAG_temp_data/chinahistory.txt'}, state={'embedded_doc': [0.01623731831278864, -0.015518028095082839, 0.008311802417438967, -0.020033575343977785, -0.008751368972033364, 0.0021845120663537914, -0.018834756451822993, -0.025374972875588733, -0.015824392240108072, -0.021059229706708815, -0.0037562953769958345, 0.0346058677281034, -0.009896905969037926, 0.015811072464812437, 0.012800708253097516, 0.022178126221799547, 0.019873732452494786, -0.0056211225917061946, -0.011308846853858252, 0.008445003895685569, -0.034552588626920865, 0.020153457046928752, -0.002935438147370568, -0.014026166695843577, -0.0013861328888624717, -0.017116451421977433, 0.03324720966975587, -0.03537844077228199, 0.021965004229134007, -0.025108569919095533, -0.009210915189571215, 0.0043057533374081915, -0.000580261046729056, -0.010542935559972606, -0.012054777553477884, -0.011442048332104854, -0.01138876736827719, -0.03266112093029667, 0.003726324951258093, 0.005554521852582894, 0.0085515658233409, 0.017183052161100734, -0.004122600839157833, 0.03559156462759266, -0.0033650146376625984, 0.010016787671988893, 0.012634206405289264, -0.004095960357244, -0.0016966599293288726, 0.010955861632653172, 0.031036056190165678, 0.027759289021957553, -0.01918108178538026, -0.00974372389652531, -0.010942540926034973, -0.0023027287973928037, 0.0026140885566458224, 0.04614115821256795, 0.0005452955306324707, -0.017489418168771094, 0.005864216407093318, 0.01685004846548423, -0.02377654954869414, 0.0010289851214621835, -0.030396688349523943, -0.014012845989225378, -0.013999526213929744, 0.0160241963201231, 0.005354718703890429, 8.840239641801618e-05, 0.033753376032151, 0.02410955510695577, -0.020246697336643322, 0.010942540926034973, 0.014092767434966878, -0.007339428087213037, -0.018288628900895828, -0.006307112905511624, -0.023230421997766974, 0.009071053823676796, -0.00736606856912687, -0.01443909276852414, 0.00858486619290255, 0.009071053823676796, 0.026307386948605196, 0.004102620244891817, 0.001911448174474888, 0.03521859974344412, -0.019434166829222953, -0.026067623542703262, 0.02273757541066747, 0.0056977140936237845, 0.015704510537157105, 0.01084929970499784, -0.005864216407093318, 0.0018814777487371464, -0.015105102022402275, 0.01530490517109474, -0.0023510146126539655, -0.018688235198280757, 0.02144551622879811, 0.0050616743341608305, -0.01605083587071437, -0.005461280631545761, -0.020339939489003016, 0.01052295496570659, 0.0026507191028620225, -0.03127581959606761, 0.01760929987172206, -0.008391723863180465, -0.012008156477298037, 0.028425298275835686, 0.015584629765528702, -0.015331545653008573, 0.02011349585839672, -0.048245749764502806, 0.010609536299095907, -0.016690205574001235, 0.003729654895082002, -0.019207723198616654, -0.0034232905172261277, 0.022151486671208274, 0.008957832008373646, -0.02879826315998422, 0.03417962374277233, -0.0079787977904999, -0.035618204178183926, -0.013799723065237279, -0.005634442832663111, -0.00736606856912687, 0.00502837396459918, 0.014119407916880709, 0.01613075824777843, 0.006939822255489388, -0.040946281934499236, -0.011009141665158274, -0.033140647742100536, 0.012361141698503117, 0.0034565908867877776, -0.02026001897458408, 0.026493869390679464, 0.0037130047103011766, -0.02582786013680133, -0.024762244585538266, -0.01479873787737704, 0.02949091382709875, -0.010776039078226721, 0.03508539826519752, -0.007192905902348238, 0.007112984922268021, 0.010296511335100293, 0.010003466965370694, 0.01437249202940084, 0.012794048365449699, 0.0156645512112702, 0.002450916187000198, -0.016117436609837672, 0.00761249186267662, -0.0023726599460012947, -0.015198344174761971, -0.006270482126464784, -0.007239526512866804, -0.010509635190410956, 0.002604098259512815, -0.012620885698671066, 0.02797241101462309, 0.01810214645882156, -0.0007022240809852857, 0.004605457594785607, 0.001141374334394035, -0.023030619780397072, 0.006253831941683959, -0.013333516028729047, -0.010203270114063159, -0.014345851547487007, 0.007319447958608303, 0.03354025217684034, 0.01530490517109474, -0.031462303900787005, -0.0057343444070093435, 0.007592511734071886, -0.01613075824777843, 0.022511131780061176, 0.021392235264970447, -0.015531348801701038, 0.003258452942837908, 0.003248462878535541, -0.0038095761079928597, -0.0005860886230438768, -0.005741004760318443, 0.005904177129964067, 0.0028771622678070386, 0.026054303767407628, -0.013733122326113978, -0.6316969911759419, -0.025974383252988693, -0.046833808879682484, -0.0007954654766453999, -0.012567604734843401, -0.021192431184955417, 0.006516905885675816, 0.026840194724236727, -0.010842639817350022, 0.021179111409659782, -0.02087274726463455, 0.01027653167215684, 0.011188965150907287, -0.017622619647017695, -0.024828845324661567, -0.006673418367673623, -0.0010497979688535353, -0.026413948876260526, 0.0005294777735999625, 0.0013952905836241817, -0.018688235198280757, 0.007152945179477488, -0.014199329362622208, 0.003799586043690493, -0.004831901225391905, 0.014665535467807876, -0.0009790344507043876, 0.0006356231090313443, 0.017089811871386165, 0.02586782132533336, -0.0482990325909756, 0.042970951109370034, 0.019101161270961325, 0.015824392240108072, 0.024136194657547037, 0.0006339580789117298, -0.026360667912432863, 0.026493869390679464, 0.028025691978450756, 0.027892490500204155, 0.0069464821431372056, -0.016610285059582296, -0.011841654629489785, -0.0008832954807610216, -0.012028137071564051, -0.008664787638644048, 0.01792898379204293, -0.001929763447582988, 0.04054667749975943, -0.006400354126548758, 0.004981753354080613, 0.0079787977904999, -0.009916885631981379, 0.0050616743341608305, 0.0013736452502768528, -0.013033811771351631, 0.006426994608462591, -0.024549120730227605, 0.008052058417271019, 0.014545653764856909, 0.008638147156730216, 0.02183180088824228, -0.002294403705002391, -0.0014435762824700233, -0.026960076427187694, 0.021751880373823345, -0.03370009693096846, 0.005181556502773079, 0.013639881105076844, 0.0168766880160755, 0.00506500474364602, 0.016956610393139563, -0.026134224281826563, -0.026973398065128454, 0.03351361262624907, 0.0040826401162870835, 0.018341909864723494, 0.00944401870782533, 0.00016671058047767798, 0.02002025556868215, -0.007452649902516186, 0.010862619480293476, 0.004891842076867389, -0.0013403447642998819, -0.001520167435141652, -0.01872819638681279, -0.036444056323545054, 0.013653200880372479, -0.01919440342332102, -0.00959054089269013, -0.007392709051040703, -0.00966380245078381, -0.024162836070783435, -0.00406265998768235, 0.0006464457757050088, 0.06105977965554109, 0.011195625038555104, -0.013879644510978777, -0.0004545516801517784, -0.024016312954596074, -0.01786238305291963, -0.005241497354248561, 0.004205851763061959, 0.010043428153902726, 0.0034932214330039776, 0.013107073329445313, -0.011954876444792933, -0.04608787911138541, 0.048725276576306674, -0.03615101381646058, 0.024882126288489233, 0.000551955651110929, -0.023510146592200937, 0.011555270147408004, -0.022697614222135443, -0.021405555040266082, 0.03071637226984481, 0.011188965150907287, 0.03615101381646058, -0.022830815700382045, 0.011055762741338123, -0.0059974183510012, 0.002156206845358645, -0.029810599610064745, -0.019767170524839457, 0.03729654801949745, -0.028078972942278423, 0.002997044203588646, -0.0124210825499786, -0.0019364235680614462, 0.01433253084086881, -0.00459879770713779, 0.0646295911934788, -0.004712019522440939, 0.03127581959606761, -0.004668728855746281, 0.02633402836184159, -0.006353733516030191, -0.0018864727808883298, 0.010502974371440576, -0.01882143667652736, 0.006700058849587456, 0.012314521553645832, -0.03007700256655795, -0.00549791094493132, -0.0325012799014588, -0.013559959659335345, 0.0033816648224434236, -0.027999052427859487, 0.006766659588710756, -0.018781477350640455, -0.018688235198280757, -0.018208708386476893, 0.0160907970592464, -0.006710048681059182, 0.005847566222312492, -0.023416904439841242, -0.00959054089269013, 0.00038961573831745156, -0.03311400819150927, 0.01451901421426564, 0.020033575343977785, -0.031302459146658884, 0.026040983992111993, 0.00894451130175545, -0.003826226292773685, 0.004069319875330167, 0.019900373865731184, -0.022018283330316548, -0.04086636328272543, -0.0016258964111797248, -0.0022211426125699914, -0.006926502014532472, 0.01670352534929687, -0.01904788030713366, -0.0023709949740893404, -0.02018009659752002, -0.02328370296159464, 0.009297496522960531, 0.003666383866951969, 0.006456965034200332, 0.012088077923039535, -0.0027739307496368977, -0.01439913157999211, 0.005228177113291645, 0.022351288888578177, -0.011628530774179122, -0.0011064087600897894, 0.008185260826840183, 0.024136194657547037, -0.01754269913259876, 0.0257878989482693, 0.017675900610845362, -0.01972721119895255, -0.000456216710271393, 0.015624590022738171, -0.01185497440478542, -0.006763329644886847, 0.015251624207267073, 0.01924768252450356, 0.023483505178964543, -0.00941071833826368, 0.0067866397173154906, -0.0072928074766944705, 0.016104116834542038, -0.026733632796581395, -0.013107073329445313, 0.0001397579890899289, 0.027892490500204155, 0.009077713711324613, 0.009037753454115146, -0.010562915222916058, -0.025414934064120764, -0.024162836070783435, -0.0025391624923014684, 0.03684366075828486, -0.01110238381751797, -0.008977812602639662, -0.0171031316466818, -0.004369024132707583, 0.0010564580893319935, -0.004592137819489972, 0.004115940485848734, 0.0064536350903764235, -0.05828917698708297, 0.016929968979903166, 0.001411940768405007, 0.020992628967585514, 0.016570323871050268, 0.005890856889007151, -0.03601780861292373, -0.006373713644634925, -0.0022394580020934115, -0.014931940286946204, 0.0068166101430532314, 0.06244508098977014, 0.0242161170346111, -0.026680353695398857, 0.00768575295510902, -0.0019097830861476133, -0.014239289619831676, 0.02055306334431368, 0.037509671874808116, -0.014159368174090178, -0.0026140885566458224, -0.0011313841536763475, 0.00739936893868852, 0.022937377628037374, -0.019007919118601627, 0.007705733549375035, 0.013273575177253564, 0.015145063210934305, -0.0037229947746035435, -0.019127800821552594, 0.010116688780673844, -0.017729181574673028, -0.015970915356295436, -0.0018631624756290466, -0.002182847094441837, 0.004821910928258897, 0.00765245258554737, -0.001641714226419893, 0.0036131031359549442, -0.02688015591276876, 0.04355703984882923, -0.0056311128888392025, -0.0025558126770822936, 0.005324748278152687, -0.03631085484529845, 0.0030569850550641294, -0.0034499307663093197, -0.007912196120054036, 0.015331545653008573, -0.008198580602135817, 0.026746954434522158, 0.00563777277648702, 0.025947741839752295, -0.005724354109876336, 0.014225969844536042, 0.026547150354507127, -0.04694037080733781, 0.003689694405041893, 0.002687349649078222, 0.034685790105167466, -0.013566619546983162, -0.01541146709875007, -0.01975385074954382, 0.005701044037447693, -0.0246423628825873, 0.027706008058129887, 0.0040226992648116, -0.02019341823546078, 0.009517280265919012, -0.025028649404676594, -0.008258521453611301, -0.0031818619065815995, 0.024882126288489233, -0.0004574654974130189, -0.0030070342678910128, 0.0029787288140652258, 0.007765674400850519, -0.013586600141249178, -0.005144925723726238, 0.019660608597184125, 0.0013403447642998819, -0.004871861948262655, 0.00023102215784502196, 0.012787388477801882, -0.01515838298622994, -0.016836728690188596, -0.013773082583323446, -0.0250020079914402, 0.002249448066395779, -0.0008404211152520123, 0.017436137204943428, -0.0034599208306116866, -0.01238778218041695, -0.003153556452755812, 0.04073315807918858, -0.009803664748000792, 0.016530362682518236, -0.02460240169405527, -0.0427311877034681, -0.0034865613125255194, 0.07214218287879304, 0.03340705069859374, 0.007925516826672235, 0.017835743502328357, 0.0029087978982873753, -0.01257426555381378, -0.0159575955809998, -0.037216629367723644, 0.014891979098414174, 0.000760083717570826, -0.008278502047877317, -0.006723368922016098, 0.004678718687218007, 0.008778009453947197, 0.029837239160656014, -0.017329575277288095, -0.0034865613125255194, -0.008305142529791148, 0.006090659572038334, 0.016370521653680366, -0.005701044037447693, 0.009517280265919012, 0.018155427422649226, 0.05546529521744232, -0.017942303567338565, 0.004528866558529299, 0.03183526878493554, 0.025668017245318333, -0.006273812535949974, -0.010409733150403442, -0.013040471658999448, 0.01842183037914243, 0.013746442101409613, 0.02219144599709518, 0.00999014719007506, 0.02698671784042409, -0.0042358221887997, 0.02055306334431368, 0.00981032463564861, -0.008558225710988717, 0.028158895319342483, 0.008964491896021465, 0.01369316206890451, -0.03431282522101893, -0.009583881005042311, -0.0018415171422817174, 0.0072728268824284546, -0.005298107796238854, -0.015744471725689137, -0.023603386881915506, 0.024562442368168364, 0.0008037905690358125, -0.010862619480293476, -0.03266112093029667, 0.0020929358172286122, -0.012507663883367917, 0.0035231918587417194, 0.00373631501556046, 0.01826198935030456, 0.0013403447642998819, 0.011049102853690304, -0.034685790105167466, 0.016623604834877934, -0.02144551622879811, -0.012028137071564051, -0.014758777620167573, -0.015837713878048835, 0.006410344423681766, -0.0017066501100465598, 0.009097694305590629, -0.01537150591021804, -0.010030107447284527, -0.004355704357411948, 0.009390738675320228, 0.024455880440513035, -0.001312871796430072, 0.018781477350640455, 0.0013669851297983945, 0.009723743302259294, -0.00334003912766072, 0.01534486635962677, -0.023483505178964543, -0.006796630014448498, -0.01754269913259876, 0.0060040782386490184, 0.0066667580143645235, 0.006077339331081418, -0.01433253084086881, -0.000813364448567851, -0.007992117565795535, 0.014505693507647442, -0.008518265453779249, 0.008931191526459815, 0.008964491896021465, -0.002342689520263553, -0.024562442368168364, -0.019167762010084622, 0.030370046936287545, 0.016197358986901732, -0.004315743634541199, 0.002171192058227516, -0.005627782945015294, -0.002738965408163293, -0.007352748328169953, 0.006380373997944024, 0.017902344241451658, -0.028718342645565286, 0.004555507040443132, -0.035804688482903316, 0.005654423426929126, -0.0004928472855914229, -0.04190533555810697, 0.02417615584607907, 0.017729181574673028, -0.028691703094974014, 0.021432196453502476, 0.0004978423177426064, 0.018648274009748726, -0.001086428515069735, -0.00955724052312848, 0.006633457644802873, -0.014545653764856909, 0.009703762707993278, 0.02172523896058695, -0.02863842213114635, 0.020859427489338913, -0.02437595806344897, -0.0015276600415760873, 0.0017216353229154307, 0.0034466008224854107, 0.00036672164693232664, 0.034712429655758735, 0.0008071206292750415, -0.007725713677979769, -0.0060606891463005925, 0.02220476763503594, -0.05551857804391511, -0.016676885798705597, -0.01707649209609053, 0.004349044004102849, 0.010136669374939858, -0.0343394647716102, -0.008484965084217599, 0.010642836668657557, 0.005471270463017487, -0.026520510803915858, -0.005777635073704002, -0.007905536232406219, 0.0049118222054721225, 0.01872819638681279, -0.013120393104740948, -0.03356689545272186, -0.02004689511927342, 0.024522481179636336, -0.025854501550037726, -0.008445003895685569, -0.014958579837537475, -0.02460240169405527, 0.02946427427650748, 0.0013395122783439047, 0.02813225390610609, 0.0018565023551505883, 0.012161339481133217, 0.029810599610064745, -0.012394442068064768, 0.02935771234885215, -0.01904788030713366, 0.008518265453779249, -0.03516531691697133, 0.0027755959543794926, 0.009750383784173127, 0.014958579837537475, -0.005661083314576944, 0.006034048664386759, -0.00135616246312473, 0.0159575955809998, 0.002664039110988298, -0.0003646403738347235, 0.0005594482575453643, -0.05128275538945413, -0.01882143667652736, -0.0028488570468118922, -0.004245812485932708, -0.00035610713085148653, -0.021072549482004453, -0.019966974604854484, 0.018874717640355025, -0.001803221507738243, 0.01623731831278864, -0.02144551622879811, -0.01010336900537821, -0.02285745711361844, 0.03282096195913454, -0.010336472523632324, -0.003866187015644434, -0.011268885665326222, 0.013879644510978777, -0.02903802842853128, -0.02328370296159464, -0.005188216390420896, -0.013226955032396279, 0.024056274143128102, 0.0010606206355271998, -0.009324137004874363, -0.00014381648909255309, -0.01591763439246777, 0.008238540859345285, -0.016663566023409963, -0.026387309325669257, -0.017049850682854133, -0.012128038180249002, 0.005374699298156444, 0.0007779826894932771, -0.03215495456790153, 0.013460058550650394, 0.01027653167215684, -0.015438107580663904, 0.02157871770704471, -0.015744471725689137, -0.02957083620416281, 0.025454895252652796, 0.0026706992314667563, 0.04091964238390797, -0.0009640491796278566, 0.0431840749646807, 0.00022581894599718401, -0.01282734873501135, -0.029331070935615752, 0.007033063476526522, -0.0012088077923039535, -0.012834008622659166, 0.027066638354843024, 0.005664413258400853, -0.0015859358047242958, 0.010942540926034973, 0.0006947314745508503, 0.006686738608630539, -0.02773264760872116, -0.00675333934775384, 0.022431209402997112, 0.021192431184955417, -0.014785418102081406, -0.01839519082855116, 0.004442285225139983, 0.02339026488924997, 0.008957832008373646, 0.007692413308418119, 0.01872819638681279, -0.012234600107904335, -0.012301200847027636, -0.009483979896357362, 0.011475348701666504, -0.03370009693096846, 0.013013831177085615, -0.01494526006224184, -0.016676885798705597, -0.00021749382450294132, -0.009930206338599576, -0.015025181507983338, 0.023949712215472773, -0.021125830445832116, 0.03084957374809141, -0.022750895185963106, -0.02335030370071794, -0.0009349112398460922, -0.004628768132875532, -0.004668728855746281, -0.01124890600238277, -0.006450305146552515, 0.024202797259315467, -0.022084885932084974, -0.013320196253433413, -0.013413437474470546, 0.014865338616500341, 0.003335044211924857, 0.024282717773734402, 0.004658738558613273, -0.021791841562355377, -0.023896431251645107, 0.0010373103302679164, -0.01982045148866712, 0.0060706794434336004, -0.010982502114567003, -0.016263959726025033, -0.007232866625218987, -0.004775290317740331, 0.008897891156898164, -0.01371980161949578, -0.004692038928174923, -0.03913473661493911, -0.014212649137917843, 0.012207959625990502, 0.007798974770412169, 0.013453397731680014, -0.005471270463017487, -0.028425298275835686, -0.00459879770713779, 0.0427311877034681, -0.0032884233685756496, 0.036896943584757654, 0.018182066973240495, 7.341717627318785e-05, -0.026853514499532362, -0.0156645512112702, -0.0003198928276132753, -0.019087841495665687, 0.006580176680975208, -0.0072728268824284546, -0.029943801088311347, -0.016263959726025033, 0.040493394673286644, 0.02113915208377288, -0.012361141698503117, -0.013773082583323446, 0.02725312079691729, -0.0026240786209481893, 0.01002344755963671, -0.016370521653680366, -0.037056784613595524, 0.014865338616500341, 0.021552078156453443, 0.005001733482685347, -0.016290599276616302, -0.01919440342332102, 0.03956098432556043, 0.004938462687385955, -0.005581162334496727, 0.011235585295764572, -0.012181319144076668, 0.014092767434966878, -0.006040709017695859, 0.009077713711324613, -0.03346033352506653, -0.004179211746809407, -0.025881141100628995, -0.0119948367020024, 0.007286147123385371, -0.014958579837537475, -0.019900373865731184, 0.01555798928361487, 0.002257773158786191, 0.01154195037211237, -0.006240511700727042, -0.006300452552202526, 0.005381359185804262, 0.00959054089269013, 0.03729654801949745, 0.009031092635144764, -0.03785599720836538, 0.0026956747414686347, 0.004175881337324217, 0.03431282522101893, 0.028984747464703614, 0.021432196453502476, -0.008671447526291867, 0.003205172211840883, -0.02368330925897957, -0.021405555040266082, 0.012807368140745333, 0.02020673801075642, 0.023736590222807236, 0.014279249877041144, 0.004508886429924565, 0.007519250641639487, 0.001973054114277646, 0.013813043771855476, -0.01799558453116623, -0.004139251023938658, -0.015571309058910505, -0.020686264822560283, 0.02026001897458408, 0.025881141100628995, -0.007679093067461202, 0.005045024149380005, 0.008664787638644048, -0.006596827331417314, -0.01437249202940084, 0.02129899311261075, 0.0034332805815284946, -0.00043124134578866497, -0.013839683322446747, 0.001549305258508096, 0.009157635157066113, 0.020712904373151552, 0.013300215659167397, -0.03790927630954792, 0.01353997906506933, -0.0050616743341608305, -0.006110640166304349, -0.01534486635962677, -0.027146558869261962, -0.020273338749879716, -0.023443545853077636, 0.020353259264298654, 0.010942540926034973, -0.016650244385469203, 0.008844610193070498, -0.0036963545255203514, 0.027359682724572624, 0.0070597039584403545, -0.005644433129796119, 0.011328826516801706, -0.0004166723758977827, -0.011348807111067722, -0.0249354072523169, -0.006793300070624589, -0.009324137004874363, -0.009417378225911497, -0.005954127684306543, -0.019500767568346254, 0.023443545853077636, -0.013253595514310112, 0.012054777553477884, -0.015145063210934305, -0.002321044186916224, -0.01671684698723763, 0.01188827477434707, -0.026840194724236727, 0.036603897352382925, 0.027199839833089625, 0.001511842226335919, -0.0017665909615220431, -0.010010127784341075, -0.021485475554685017, 0.01149532929593252, -0.030956135675746742, -0.008797989116890649, -0.015464748062577737, 0.0034332805815284946, 0.012787388477801882, 0.0033933198586577453, 0.0168766880160755, -0.012161339481133217, -0.008445003895685569, -0.002311054122613857, 0.0003700517071715558, 0.20768849292038344, 0.012947230437962315, 0.017183052161100734, 0.007099664681311104, -0.018301948676191462, -0.001079768394591277, 0.01835522964001913, 0.015890994841876498, -0.011908255368613086, -0.0013486698566902945, -0.017289614088756067, 0.009930206338599576, -0.002137891455835225, 0.017489418168771094, 0.009004452153230933, -0.03068973271925354, -0.026640392506866825, -0.004415645208887432, -0.004215842060194966, -0.02794577146403182, 0.015185023468143773, -0.008165280232574167, -0.008131979863012517, -0.023803190961930537, 0.013799723065237279, -0.014172688880708375, -0.004285773208803458, -0.0009140984506624005, 0.02113915208377288, 0.0010814333665032313, -0.014225969844536042, -0.00528478802094322, 0.0173029338640517, -0.007539231235905502, -0.048085908735664935, -0.008445003895685569, 0.03697686596182171, 0.0014868669491646812, -0.0017133102305250181, 0.006580176680975208, 0.0032401377861451283, -0.01691664920460753, -0.006893201644970821, -0.015238304431971439, 0.030796292784263744, 0.011069082516633758, -0.013100412510474932, -0.013593260028896995, -0.011781713778014302, 0.023403584664545604, -0.030636451755425873, -0.004472255650877725, 0.009737063077554928, 0.04598131718373008, 0.01515838298622994, -0.009730403189907111, 0.01371980161949578, 0.04382344653061269, -0.009270856041046698, -0.027759289021957553, -0.00959054089269013, 0.0241495162954878, -0.013786403289941643, 0.003404975127702707, -0.0032085021556647916, 0.025295052361169797, -0.018368551277959888, -0.011568589922703638, 0.006203881387341483, -0.02991715967507495, -0.001538482708249752, -0.015877673203935738, -0.029783958196828348, -0.005970777869087368, -0.020153457046928752, -0.01469217594972171, 0.04840559451863093, -0.0005581994704037384, 0.013067112140913282, 0.01832859008942786, -0.027999052427859487, -0.01591763439246777, -0.020393220452830683, 0.004722009353912665, 0.003929458043774467, -0.02879826315998422, 0.033193930568573324, 0.008425024232742115, -0.014891979098414174, 0.008684768232910063, -0.004099290301067909, 0.006766659588710756, -0.0008566551152625091, 0.0060706794434336004, 0.018515072531502128, -0.00765245258554737, 0.031462303900787005, 0.018967959792714723, -0.004422305096535249, 0.009057733117058597, -0.005084984872250754, 0.05663747269636071, 0.024349318512857702, -0.007099664681311104, -0.018515072531502128, -1.9238837681363434e-05, 0.002649053898119427, 0.016010876544827465, 0.00858486619290255, 0.0005627782595769333, -0.008631487269082397, 0.015544668576996672, -0.008451664714655948, -0.03148894345137827, 0.014026166695843577, 0.001316201856669301, 0.002878827472549634, -0.03684366075828486, 0.010003466965370694, -0.01224791988319997, -0.03172870685728021, -0.03441938714867426, 0.015478067837873371, 0.0014693841620125585, -0.021485475554685017, 0.001474379194163742, 0.0009382413000853213, 0.01063617678100974, -0.0007846428099717354, -0.024815525549365933, 0.02044650141665835, -0.0162506399507294, 0.0026357338899931516, 0.018754835937404058, -0.0035331819230440863, 0.023590067106619872, -0.0023193792150042695, -0.0029504233602394383, -0.0014485713146212068, 0.0047553101891355965, -0.005131605482769321, -0.012254580702170349, 0.013633220286106463, -0.01274742728926985, 0.005068334687469929, 0.0006331255929557525, -0.013500018807859861, -0.013266915289605746, -0.022817495925086407, -0.02562805791943143, -0.01515838298622994, -0.0011896600332398765, 0.014092767434966878, -0.021938362815897613, 0.012734107513974215, -0.012700807144412565, -0.016210678762197367, 0.005984098110044285, -0.00438567478314969, 0.022617693707716505, -0.007792314882764351, -0.0124210825499786, 0.039827387282053636, 0.006220531572122308, -0.007406028826336338, 0.002659044195252435, -0.16858039585603563, 0.02267097467154417, 0.011535289553141988, -0.0005024211651234614, 0.020459821191953984, 0.016077477283950765, 0.023177141033939308, 0.0019564036966661803, -0.012560944847195584, 0.008418364345094298, 0.019154442234788988, 0.02067294504726465, -0.04864535792453287, -0.01843515201708319, 0.002557477648994248, 0.022244726960922848, -0.02589446087592463, 0.012154678662162835, 0.013513338583155498, 0.006819940552538422, 0.005810935443265652, -0.007632472456942636, 0.008644807044378033, -3.9882539069183506e-05, 0.009923546450951759, 0.03649733915001785, 0.017516057719362363, -0.010716098226751238, -0.010149989150235494, -0.006826600440186239, -0.043130795863498154, -0.020792826750215616, 0.0019231033271045297, -0.015877673203935738, 8.481218431754419e-05, 0.002262768307352695, -0.004805260743478072, -0.019993614155445753, -0.006157260776822916, 0.03825560164310519, 0.0239230726648815, 0.018781477350640455, 0.010855959592645657, -0.004215842060194966, -0.0019897042990584713, 0.025295052361169797, -0.004225832357327974, -0.008145299638308151, 0.015091782247106639, -0.029144588493541485, -0.016756806313124536, 0.00010968348805577509, 0.025814540361505694, 0.01357994025360136, 0.0247755643608339, 0.01340677758682273, -0.006227191459770126, 0.036737102555919776, 0.025987703028284327, 0.012241259995552152, -0.012840669441629546, -0.00718624601470042, 0.001216300398738389, -0.006143940535866, 0.00018887621754749273, -0.007019743235569606, -0.022870776888914073, 0.016730166762533263, -0.015677870986565836, 0.015797752689516803, -0.002903802749720872, -0.011142344074727438, 0.012161339481133217, -0.030769653233672475, 0.0069931027536557725, -0.0077123934370228525, -0.011974856107736387, 0.0008674777819361735, 0.010802678628817992, -0.008385063044210085, -0.017116451421977433, 0.012028137071564051, -0.029304431385024483, -0.013153693474302598, -0.0085515658233409, 0.029171229906777882, 0.00470535916913184, 0.005557851796406802, -0.005890856889007151, -0.024482519991104304, -0.017516057719362363, -0.008504945678483615, -0.04347712119705542, -0.004069319875330167, 0.001788236294869372, 0.014785418102081406, -0.018808116901231724, -0.02797241101462309, -0.014825378359290873, -0.017369536465820127, 0.016383841428976, -0.03852200832488864, -0.0241495162954878, 0.008864590787336514, 0.026613751093630428, 0.009111014080886264, 0.014425772061905944, 0.02044650141665835, 0.05999416410427802, -0.009637161968869977, -0.004975093466432796, 0.021552078156453443, 0.030796292784263744, 0.04054667749975943, -0.005131605482769321, 0.031089337153993344, 0.0015601279251817605, -0.01904788030713366, -0.009637161968869977, 0.021498797192625776, 0.02265765303360341, 0.016730166762533263, -0.023630028295151904, 0.01623731831278864, -0.003956098060027018, -0.010176629632149327, -0.09009780622142724, 0.006257162351169149, -0.005980768166220375, 0.019207723198616654, 0.00021999136968236315, 0.0156645512112702, -0.019074521720370052, 0.016290599276616302, 0.005041694205556097, 0.025281732585874163, -0.0019647290218872335, -0.030796292784263744, -0.020140137271633118, 0.0008062881433190644, 0.04614115821256795, -0.004658738558613273, -0.006317103202644632, -0.020419860003421955, -0.018088826683525926, 0.042784470529940895, -0.018022225944402625, 0.0017332904755450725, 0.0003650566168127121, -0.041425808746303104, 0.016676885798705597, 0.0037163346541250852, -0.04488906208187575, 0.013153693474302598, 0.004908492261648214, 0.0017416156843508054, -0.00969710282034546, -0.008198580602135817, 0.023403584664545604, -0.00797213697152952, 0.02011349585839672, -0.016956610393139563, -0.02104590993141318, -0.003906147505684543, 0.03897489558610124, -0.03713670699065958, 0.02053974170637292, 0.010616196186743724, 0.010702777520133041, -0.03540508032287326, -0.013446737844032197, -0.023190460809234942, -0.014012845989225378, 0.012261240589818168, 0.028851544123811888, -0.022084885932084974, 0.0008121157196338852, -0.022444531040937875, -0.0007729876573420937, 0.0008866255410002506, 0.022324649337986908, -0.01770254016143663, -0.007119644809915838, -0.01354663988403971, -0.007565871252158053, 0.012414422662330784, 0.006270482126464784, -0.011874954999051435, -0.017449456980239062, -0.0027373002034206976, 0.01982045148866712, 0.013513338583155498, -0.013167014180920795, 0.0026623741390763437, -0.005617792647882286, -0.03268776048088794, -0.005344728872418702, 0.0037729455617766597, -0.037376470396561515, 0.007053044070792537, -0.03822896209251392, 0.003936117931422284, -0.010935881038387156, -0.008558225710988717, 0.028585141167318685, -0.01935424445215889, -0.009004452153230933, -0.008092019605803049, 0.0029670737778509045, -0.011015802484128654, 0.03948106194849637, 0.020792826750215616, 0.0002928361900329441, -0.012627545586318885, 0.01138876736827719, -0.03135574197313167, 0.016210678762197367, 0.023496826816905302, 0.013246934695339732, -0.010769378259256342, 0.021911723265306344, 0.015704510537157105, -0.015731151950393502, -0.008418364345094298, -0.01238778218041695, 0.029410993312679812, -0.010469674001878926, -0.002922118139244292, -0.06457631209229626, 0.012540964252929568, 0.007952157308586068, -0.008558225710988717, 0.0022660982511766036, 0.005514561129712145, -0.0004231243457834166, -0.030236845458040944, -0.0013378471900166301, 0.008291821823172951, -0.006710048681059182, 0.005984098110044285, -0.005091644759898572, -0.01357994025360136, -0.01911448104625696, -0.02053974170637292, 0.018555033720034156, 0.0029920490550221423, 0.011362126886363356, 0.008857929968366133, 0.02064630363402825, 0.006277142479773883, 0.020792826750215616, 0.016730166762533263, -0.04315743541408942, 0.0016933299855049638, 0.004192531522105043, 0.017449456980239062, -0.01106242262898594, -0.0018481772627601757, 0.012987191626494346, -0.01939420564069092, 0.03431282522101893, 0.010935881038387156, 0.004682049096703197, -0.04206518031223509, 0.009830304298592062, 0.016543684320458996, 0.011195625038555104, 0.057116999508164575, 0.005890856889007151, -0.004285773208803458, 0.004695369337660114, -0.004448945578449082, 0.003956098060027018, 0.02361670851985627, -0.022631013483012143, 0.03114261811782101, 0.02305725933098834, -0.0019647290218872335, 0.02245785081623351, 0.016303920914557065, -0.005534541258316879, 0.004898501964515206, 0.015890994841876498, 0.0036164333126094935, 0.007232866625218987, -0.0043057533374081915, 0.005234837000939463, -0.012660845955880535, 0.0417454945292691, 0.0017599309574589052, 0.023336983925422303, -0.011721772926538818, 0.011342147223419903, -0.03870848890431778, -0.017116451421977433, -0.00725950710713282, -0.0017599309574589052, -0.00011259728348914303, 0.0017133102305250181, 0.001911448174474888, 0.0030070342678910128, 0.024229436809906735, 0.0029770638421532714, -0.002207822604443716, -0.0035664825254363773, -0.00398606848576476, -0.020406540228126317, 0.0008312634786979623, 0.016397161204271635, -0.008484965084217599, -0.024229436809906735, 0.02352346636749657, 0.021485475554685017, 0.006799959958272406, -0.004785280614873338, 0.029011387015294883, -0.025854501550037726, -0.004002719136206866, 0.012061437441125701, 0.01084929970499784, 0.011368787705333736, -0.01469217594972171, -0.015038501283278974, -0.026760274209817792, -0.009210915189571215, 0.007759014047541419, 0.037802718107182845, 0.004715349466264848, 0.008558225710988717, 0.015930954167763405, -0.002252778243050328, -0.018741516162108424, -0.01760929987172206, 0.012167999368781034, -0.018008904306461865, -0.012647526180584899, -0.003982738541940851, 0.018781477350640455, -0.008724728490119531, 0.02361670851985627, 0.004322403522189017, 0.012734107513974215, -0.022617693707716505, 0.015238304431971439, -0.017049850682854133, 0.0008583201453821236, -0.01756933868319003, 0.03385993795980633, 0.005930817146216618, 0.023563427556028603, -0.004771960373916422, -0.03127581959606761, 0.008231880971697468, -0.005218186816158638, 0.013380137104908896, -0.017529377494657997, 0.010110028893026026, 0.026200825020949864, -0.0007409359002990887, -0.00721954638426207, -0.04190533555810697, 0.000912433420542786, -0.003779605682255118, 0.008964491896021465, -0.0042591327268896246, 0.007659112938856468, -0.02417615584607907, 0.06601489252770787, 0.01823534793706816, -0.027026677166310995, 0.012341162035559666, 0.018594993045921063, 0.035191956467562596, -0.0005219851671655272, -0.014039486471139211, -0.004029359152459418, -0.007306127717651387, 0.015331545653008573, -0.00473865953869349, -0.01911448104625696, -0.02137891548967481, -0.015571309058910505, 0.034872274409886855, -0.016383841428976, 0.010562915222916058, 0.011122363480461424, -7.575861578394891e-05, 0.00685990080974789, -0.0027422953519872016, 0.0346058677281034, -0.004462265819405998, -0.027333043173981355, -0.0023776550945677983, 0.047606381923861074, -0.019833771263962758, 0.008025417935357186, -0.033034085814445203, -0.009317477117226546, 0.0010972511817433997, -0.025641377694727064, -0.017276294313460432, 0.02556145718030813, -0.010889259962207307, 0.00908437359897243, -0.015797752689516803, 0.0014752116801197192, 0.011149003962375255, -0.020406540228126317, 0.017342895052583733, -0.005607802350749278, -0.005661083314576944, -0.01803554571969826, -0.0005361378940784208, 0.002122906242966354, 0.005421319908675011, -0.01196819622008857], 'query_similarity_score': 0.8539408978834193}),\n",
       " _DocumentWithState(page_content=\"(_Shan Hai Ching_). This book, arranged according to regions of the\\nworld, contains everything known at the time about geography, natural\\nphilosophy, and the animal and plant world, and also about popular\\nmyths. This tendency to systemization is shown also in the historical\\nworks. The famous _Shih Chi_, one of our main sources for Chinese\\nhistory, is the first historical work of the modern type, that is to\\nsay, built up on a definite plan, and it was also the model for all\\nlater official historiography. Its author, Ss[)u]-ma Ch'ien (born 135\\nB.C.), and his father, made use of the material in the state archives\\nand of private documents, old historical and philosophical books,\\ninscriptions, and the results of their own travels. The philosophical\\nand historical books of earlier times (with the exception of those of\\nthe nature of chronicles) consisted merely of a few dicta or reports of\\nparticular events, but the _Shih Chi_ is a compendium of a mass of\", metadata={'source': '/root/workspace/data/Adv_RAG_temp_data/chinahistory.txt'}, state={'embedded_doc': [0.025009638481084288, -0.005082172587822111, 0.0009478920428497858, -0.022241190977988493, -0.0064162427582478, 0.015246517297805065, -0.03653814485824048, -0.02749722704748276, -0.017118896549723404, -0.04715721105527038, 0.007616571287444313, 0.031803699699423954, -0.014216708336720963, 0.030653523820027114, 0.002835317159557217, 0.011642187330994515, 0.026801771258149067, 0.0009955373395562365, -0.006941177582485278, -0.00042776342496636695, -0.02389958397646916, 0.029155620045963428, 0.01543375503673239, -0.019392500725329272, -0.007543013571032773, 0.005697382833624776, 0.03755457909640814, -0.037153354172720615, 0.004196135611662615, -0.03447852879871735, 0.0010732745986715055, 0.003865125887810683, -0.01901802338482955, -0.01398934829168939, -0.021198009156633023, 0.0002146131208148043, 0.00496514865174658, -0.00710166727256353, -0.0056940393857262996, -0.014230083059637402, 0.013079907180240564, 0.02923586465817192, 0.0037246973507845545, 0.019940839219194813, 0.010953418437457774, -0.014484191619179318, 0.018737166310777292, -0.02284302650087472, -0.012364390703516016, 0.014363823769544044, 0.023257625216156153, 0.020342064142882345, -0.021719600067310756, -0.00031094871631895475, -0.012103594316854614, -0.0242205642879482, 0.002594582624439839, 0.011976540502744923, 0.013474444276808608, -0.027136125361222008, 0.022334809381790888, 0.02006120706883009, -0.008011108849673624, 0.01189629589053643, -0.004476992685714873, -0.02700238371999283, -0.016155959340576426, -0.002019494917572053, 0.00014042844971464124, -0.010385018324878842, 0.0157681082084828, 0.03479950724755132, -0.013541314166100661, 0.0031412505585093117, 0.03086751007346478, -0.0016316448332162777, -0.019245383429861124, 0.0014051203009133731, -0.017586990431380452, 0.01646356399781649, -0.009569195617232412, -0.029503347940630274, 0.02345823767799992, 0.008258530513418587, 0.015059279558877738, 0.00605514107198705, -0.0012028364643663202, 0.03391681465061284, -0.009121162422966216, -0.026494166600909, 0.014323701463439798, -0.003019211683416701, 0.019459369683298793, 0.012805737001985259, -0.012223962166489886, -0.015955346878732662, 0.00043298770782688165, 0.00496514865174658, -0.015072653350471641, -0.02274940809707232, -0.005928086792216092, 0.011354643361145306, -0.018523180057339623, -0.011889608063416945, -0.03150946883377779, 0.01697178111690032, 0.02266916348486383, -0.017653861251995043, 0.02295002055891609, -0.011301146332124621, -0.004824720114720452, 0.012524879927933, 0.004002210511277069, -0.03739408987199116, 0.02934285871621329, -0.025985949481825168, 0.029182369491796305, -0.012030036600443073, -0.0013583108661815414, -0.01929888045888181, -0.008492577454247113, 0.023471611469593822, 0.007623258648902532, -0.006810779854815844, 0.025905704869616675, 0.004871529782282917, -0.026092943539866537, -0.018389440278755515, -0.0034605582147165773, -0.0128324855164956, -0.008505951245841017, -0.005871246315296932, 0.013634933501225592, 0.025130004468074493, -0.027243119419263377, -0.002462513172821167, -0.03239216143071628, 0.00710166727256353, -0.020007710039809404, -0.02583883404900209, 0.016476937789410395, 0.006797405597560673, -0.031348979609360804, -0.013153464896652103, -0.0040088978727352885, 0.024033325617698338, -0.014658054635190206, 0.03688587089026226, 0.009214780826768612, 0.004604046965485831, 0.033194611278091334, -0.009602631027539705, -0.017680610697827916, 0.03220492462311148, 0.03356908489330092, 0.01588847605811807, -0.002923920857173166, 0.016624053222233474, 0.012551628442443343, -0.012899356337110188, -0.0007359955025563223, 0.01136801715273921, -0.0076433198019546554, -0.02475552899021984, 0.01377536203825172, 0.02274940809707232, 0.019232009638267218, -0.0065901062399199555, 0.005456648065676764, -0.012190526756182592, -0.022588918872655336, 0.0018088521120328599, -0.01420333454512706, -0.008612944372559852, -0.0018773945401813696, 0.007008048403099866, 0.025103256884886686, 0.009562508721435459, -0.02060954556269563, -0.009248216237075908, -0.003405389927407922, 0.006750595929998208, 0.015259891089398969, 0.004908308640488687, -0.021960333903936233, -0.015527374371857321, -0.01151513258556229, 0.002587895728642887, 0.005824437113395734, -0.025825460257408183, -0.012063472010750368, -0.0003519070008131367, 0.018255698637526338, 0.0008442424222370855, -0.6389628372808861, -0.031348979609360804, -0.023097135991739168, -0.02602607271925195, 0.015447128828326296, -0.014337076186356237, 0.002049586647150238, 0.014644680843596302, -0.0030643493941992952, -0.007736938671418318, -0.022000457141363016, 0.02016819926422639, 0.0030008222543138163, -0.015166272685596572, -0.02617318815207503, -0.013828858135949872, 0.0017520121007749666, -0.031001251714693957, -0.00192253236737928, 0.010953418437457774, 0.01333401573978248, -0.005262723430952485, -0.01377536203825172, 0.015032531044367395, -0.011481697175254995, 0.01588847605811807, 0.009375270982508132, -0.015527374371857321, 0.008365523640137422, 0.027818207358961795, -0.03554845820326063, 0.017266011982546483, 0.02454154273678217, -0.006249065706711329, 0.04231577183841248, -0.013975973568772952, -0.01497903401534671, 0.05301508078500581, 0.038250034885741836, 0.03664513891628185, -0.01909826799703804, -0.02574521564519969, 0.008653067609986633, 0.01079292921304079, -0.022883149738301498, -0.004874873230181393, 0.04028290336207716, -0.006987986784386476, 0.01920526205507941, 0.008044544259980918, 0.016396693177201903, -0.02559810021237661, 0.012618499263057931, 0.003408733375306398, 0.008138162663783316, -0.021826592262707056, 0.010746120011139592, -0.02464853679482354, 0.0015154569919460005, 0.025143378259668395, 0.005704069729421728, 0.020596171771101728, -0.013073219353121076, -0.022468551023020065, -0.014243456851231306, 0.03423779309944681, -0.01992746542760091, 0.008198346588600951, 0.01041176590806665, 0.0010390033263895922, 0.008793495215690226, 0.02177309709633144, -0.027296614585638992, -0.02657441121311749, -0.011789302763817596, 0.040416645003306335, 0.034532023965092966, 0.007509578160725478, -0.010572256063806169, 0.006753939377896684, 0.008158224282496705, 0.004634138927894649, 0.010679249190525004, -0.01374861352374138, 0.005774283997934792, -0.02508988309329278, -0.04357294177585069, -0.004540519592769718, -0.011909669682130334, 0.0016533778266329556, -0.007937551133262085, -0.011602064093567734, -0.010485323624478191, 0.002688201726734136, 0.0014561092783489334, 0.04940406392239831, 0.004296441842584498, -0.012157091345875297, -0.011073786287093048, -0.025611474003970517, -0.008271904305012491, 0.005801032046783867, 0.0027467134619412674, 0.027029133165825708, -0.029289361687192605, 0.010231215064936275, -0.0107728675943274, -0.012177152033266154, 0.04100510673459866, -0.019499492920725572, 0.025009638481084288, -0.008933923752716356, -0.019619860770360844, 0.015941973087138756, -0.006757283291456427, -0.01739975362377566, 0.02787170252533741, 0.012879294718396798, 0.016717671626035872, -0.016396693177201903, 0.01975360241159002, -0.012036724427562559, -0.014698177872616987, -0.02039555930925796, 0.0005688188002658017, 0.03166995805819477, -0.01052544686190497, -0.0028185994544035697, -0.011167404690895444, 0.00968956253554515, 0.010966793160374213, -0.0073825238809545205, 0.03362258378496667, -0.009575882513029363, -0.0035575207649093505, 0.0005337116660092694, 0.0052359749164421435, -0.016771168655056557, 0.016222828298545947, -0.002312054059268977, -0.015834979029097387, 0.004797972065871377, 0.0010038961921330601, -0.008459142043939818, -0.0014067921412779277, -0.04089811267655729, 0.00906097849814858, -0.008813556834403618, -0.020087954652017896, 0.010866486929452331, -0.002766774847824024, -0.0390792323163047, -0.020422308755090837, 0.027029133165825708, -0.020943899665768574, -0.0030743799707253568, 0.013367451150089773, -0.016904910296285734, 0.000962102045664259, -0.015754734416888894, 0.014818544790929726, 0.027029133165825708, -0.01826907242912024, -0.006118667979041895, 0.006018362213781279, -0.021251504323008638, -0.018536555711578594, 0.013320641016866041, -0.006158790285146141, -0.04919007953160571, 0.0021198009156633024, 0.003019211683416701, -0.005550267400801695, 0.020128077889444675, -0.0058679028673984555, -0.0022351528949589605, -0.016731047280274844, -0.018563303294766402, -0.005887964020450579, -0.015647740358847525, -0.01790797074285949, -0.0006043438655096434, -0.023484985261187728, -0.023164006812353758, 0.011582003406176879, -0.004259662984378728, 0.017747481518442507, 0.006118667979041895, 0.004654200080946772, 0.025932452452804487, 0.013046471769933269, 0.005506801181137706, 0.004573955003077012, -0.025464358571147434, -0.002623002862899419, 0.014805170999335822, 3.568178208812547e-05, -0.002952340862802113, 0.030252298896339583, 0.0179347183260473, 0.023311122245176837, 0.016089088519961835, 0.005526862334189829, -0.022588918872655336, 0.020087954652017896, -0.02987782341848493, 0.0029406385623268133, -0.010585629855400073, 0.010391705220675795, 0.008566135170658653, 0.015607618984065813, -0.02859390589785891, -0.01012422193821744, -0.04038989742011853, -0.0034037179706280507, 0.03228516737267491, 0.006412899310349324, -0.006329310784581089, -0.015045904835961299, -0.01098685384776507, -0.00015662369747840768, 0.0028603937172876873, -0.010893235443962673, -0.004186105267967187, -0.03241890901390408, 0.022067327961977603, 0.020449056338278645, 0.01273886618137067, 0.006770657083050331, 0.004466961876358178, -0.020047833277236183, 0.00034124949870228174, -0.016450190206222588, 0.018563303294766402, 0.021411995410070692, 0.036377655633823495, 0.004229571021969909, -0.0040356459215843635, 0.01045188914549343, 0.018188827816911748, -0.004507084648123691, 0.018630174115380992, 0.017332882803161073, -0.02880789215129658, 0.00197101352606035, -0.00018755139089461352, 0.0215457351886548, -0.02078341044135159, -0.0032983968006890874, 0.013514566582912854, 0.00674056558630278, 0.0017001872613647874, -0.0016374959834539273, -0.010398392116472746, 0.022241190977988493, -0.013668368911532888, -0.00045806420734969394, 0.0009102772644617381, 0.01909826799703804, 0.020649668800122412, -0.020328690351288443, -0.009181345416461319, -0.0066803816614851436, -0.009000794573330943, 0.03327485402765476, -0.014577810022981714, 0.0027784771482993235, -0.0077636871859286605, -0.04985878401246145, -0.010512072138988533, -0.0009186361170385617, 0.004366656111097563, -0.0023170694639473243, 0.004874873230181393, 0.014310327671845894, -0.0005424884495734025, 0.007710190622569243, -0.009916923511899257, 0.007810496387829859, -0.0012822454474308272, -0.018349317041328733, -0.02126487997724761, -0.01435044997795014, 0.011709057220286569, 0.001041511028728766, 0.008385584327528279, -0.03049303459561013, -0.0022602292198587973, -0.02645404522612729, 0.01699852870008813, -0.016075712865722864, -0.014858667097033972, -0.01477842248482548, -0.017881223159671684, -0.013320641016866041, -0.006576732448326052, 0.024086822646719023, -0.010545507549295827, -0.0016609007008198432, 0.004476992685714873, -0.015861726612285194, -0.014791796276419383, 0.006396181605195677, 0.007910802618751742, 0.027202996181836598, 0.014765047761909041, -0.011528506377156194, 0.01876391575661017, -0.006259096516068024, -0.02634705116808592, -0.009729684841649397, -0.016369945594014095, -0.012116969039771051, 0.0055736720017522945, 0.022548795635228557, -0.012023349704646122, -0.008071291843168727, 0.01254494154664639, 0.04199479338957851, -0.007696816365314072, 0.010164345175644221, -0.028272927449024942, -0.02646741901772119, 0.013253770196251452, 0.09024868515787011, 0.014109715210002129, -0.018402814070349417, 0.024140319675739708, 0.0037848810427715575, -0.014283579157335552, -0.026012698927658045, -0.031054748743714642, 0.010879860721046235, -0.015955346878732662, -0.009796555662263983, -0.015741360625294992, 0.0012262412981475527, 0.022655789693269927, 0.020021083831403306, -0.007777060977522564, -0.0037882244906700334, -0.021211382948226925, -0.012778988487474916, 0.008077979670288213, -0.018643547906974894, 0.007375836985157569, 0.02779145791312892, 0.026975636136805023, -0.007803809492032907, -0.010705997705035346, 0.02415369346733361, 0.0012279130220967907, -0.008044544259980918, -0.011020289258072363, -0.016155959340576426, 0.009562508721435459, 0.006292531926375318, -0.007656694059209826, -0.0022150915090762037, 0.04611402550862478, 0.0071885992462302414, 0.01689153650469183, -0.005613794307856541, -0.02328437466198903, 0.021639355455102264, 0.0018439592462893921, 0.021465490576446308, -0.03742083745517897, -0.015059279558877738, 0.0009044260560164299, 0.004634138927894649, 0.00142183800606702, -0.019486119129131667, -0.006576732448326052, 0.011902982786333383, -0.023311122245176837, -0.0002704083628120823, -0.028005444166566588, 0.01113396928058815, -0.007930863306142597, 0.006035079918934927, 0.008291964992403348, 0.004670917786100419, 0.010806303004634693, -0.011889608063416945, -0.03273989118802819, -0.0018339286697633306, -0.009000794573330943, -0.0076633809550067785, -0.021318375143623225, -0.008526012864554407, 0.0010799616108837743, -0.018924404981027154, 0.005322906890108854, -0.003253259089906494, -0.018349317041328733, -0.014484191619179318, -0.008633005991273241, 0.017800976684818122, -0.016945033533712513, 0.007937551133262085, -0.007609884391647361, 0.006894367914922813, 0.010926670854269967, 0.010331521295858157, -0.0450440961040815, -0.033194611278091334, -0.022334809381790888, 0.00746276895882428, 0.016771168655056557, -0.0033418627875224432, -0.007121728425615653, 0.010057352048925387, 0.030225551313151775, 0.024019951826104436, 0.007823870179423762, 0.019686731590975434, 0.009796555662263983, 0.004573955003077012, -0.011033663980988801, 0.017319509011567168, 0.020007710039809404, 0.009595944131742754, -0.007716877518366195, -0.0071885992462302414, 0.015580870469555471, -0.000892723697333472, -0.001890768681021224, 0.03236541384752847, -0.0018707075279691008, -0.00013018887859109576, 0.021131138336018433, -0.020047833277236183, 0.006071858777140697, 0.02706925454060742, -0.03811629324451266, 0.031803699699423954, 0.01290604323290714, -0.011969853606947972, 0.01295953933060529, 0.021024144277977067, 0.020636295008528507, -0.014136463724512471, -0.03576244631934337, -0.004510428096022167, -0.010097474355029633, 0.006974612992792572, 0.022107449336759316, -0.0378220623788665, 0.010619065265707366, -0.013267144919167891, -0.0005750879396984193, -0.03905248100782676, -0.0026464074638500182, 0.008492577454247113, 0.0380360467696591, -0.0006269127209009403, 0.00934852246799779, -0.015647740358847525, -0.009462202490513577, -0.016222828298545947, -0.009027543087841285, -0.009522386415331213, 0.010391705220675795, 0.009983794332513845, -0.018964528218453933, 0.01137470404853616, 0.008726625326398172, -0.008586196789372044, -0.026427295780294412, -0.013828858135949872, -0.01757361663978655, 0.021251504323008638, 0.01377536203825172, 0.00317134252091813, -0.013882355164970555, 0.003995523615480117, 0.01052544686190497, 0.000713008716177716, -0.02399320238027156, -0.002788507724825385, -0.0024541543202443437, 0.025771963228387502, 0.007703503261111025, 0.031322232026173, 0.006640259355380897, 0.00892054996112245, 0.0452580804948741, -0.031108243910090257, 0.02674827609177345, -0.00445693153266275, -0.0019559675448559406, -0.0380360467696591, -0.004991897166256923, 0.019151765026058726, 0.011615438816484172, -0.005112264084569661, 0.011602064093567734, -0.00927496475158625, 0.015821605237503485, 0.015674489804680402, -0.009682875639748198, 0.012317580570292282, -0.05119620042475322, -0.01174918045771335, 0.00047896130968792366, 0.019125017442870918, 0.01052544686190497, 0.007034796451948941, -0.004430183018152407, 0.025330616929918257, -0.018844160368818662, 0.010090786527910145, -0.01657055619321279, 0.033649331368154484, -0.008405645946241668, 0.017546869056598743, -0.0042329144698683855, 0.027015757511586736, -0.017707358281015727, 0.017426501206963468, -0.012792363210391355, -0.007315653526001199, 0.02216094636578, 0.005620481203653493, 0.007683442108058902, 0.032659644713174625, -0.007850618693934105, -0.0014536015760097595, -0.016303074773399505, -0.007750312928673489, 0.010565569168009216, -0.023150633020759852, 0.009067665393945532, -0.01172911883899996, -0.005934773688013044, 0.016557182401618888, -0.007583136342798286, 0.015473877342836636, -0.0028537065886601017, -0.017439874998557373, 0.03209793056507011, -0.013180212479839911, -0.0012203900314945863, 0.018416187861943323, -0.009034229983638238, 0.037126606589532804, -0.0002522278700990227, 0.037099859006345, 0.021960333903936233, -0.011963166711151019, -0.018402814070349417, 0.018496432474151815, -0.0024207189099370494, 0.0014469145637974908, 0.0315362164169656, 0.0006724683626708435, 0.014818544790929726, -0.01540700652222205, 0.018683671144401677, 0.0107728675943274, -0.027657716271899745, -0.027443730018462075, -0.004570611555178536, 0.029289361687192605, 8.604376845527666e-05, -0.016436814551983613, -0.0003567133235825127, 0.0015681176933307988, 0.006743909034201256, -0.004476992685714873, 0.024126944021500736, -0.011755867353510302, 0.002089708953254484, 0.004647512719488552, 0.010879860721046235, -0.03619041510092857, 0.025330616929918257, -0.004196135611662615, -0.015126149448169791, -0.008057918051574823, -0.014724925455804795, -0.0009529073311128165, 0.011862860480229137, -0.01772073207260963, 0.01588847605811807, -0.012096907421057661, -0.013648307292819496, 0.008198346588600951, 0.024621787348990662, 0.0006143744420357049, -0.02389958397646916, -0.013320641016866041, 0.02595920189863736, -0.027136125361222008, -0.018242324845932432, -0.015928597432899785, 0.018282446220714146, 0.005048737177514816, 0.004975179461103276, -0.005232631468543667, -0.00904091687943519, -0.009682875639748198, 0.00634268504183626, 0.0033803133696774517, 0.010966793160374213, 0.005821093665497257, -0.010752806906936543, -0.0034605582147165773, -0.01057894295960312, 0.0024692003014487526, -0.008953985371429746, -0.00949563790082087, -0.025009638481084288, -0.020756660995518712, -0.000641958643897691, 0.0013691773046822218, 0.03557520578644844, -0.000631092147189352, -0.031589715308631354, -0.02483577360242833, 0.05365704140796389, -0.024608413557396756, 0.03217817703992367, -0.0011309504719040177, -0.0029590279914296987, -0.033863315758947084, 0.001343265001392449, -0.005526862334189829, -0.009181345416461319, 0.015286639603909311, -0.0178410999222449, -0.016811291892483336, -0.017774229101630314, 0.04014916172084798, 0.014885415611544314, -0.013140090173735665, 0.004212853316816262, 0.00892054996112245, -0.013487818068402511, 0.007944238029059036, -0.028112438224607957, -0.023164006812353758, 0.022990143796342868, -0.005861215971601504, 0.008472516766856257, -0.005222600659186972, -0.025116630676480588, 0.036832375723886646, -0.020007710039809404, -0.006790718701763721, -0.000774446142918989, -0.01646356399781649, -0.0035775819179614736, -0.016690924042848065, 0.012364390703516016, -0.024568290319969977, -0.004055707074636487, -0.03413079904140544, -0.005834467457091161, -0.0017419814078335882, -0.00043800302519374164, -0.023725720960458274, 0.00927496475158625, 0.0031178459575587126, 0.020422308755090837, 0.0023354588930502096, 0.004894934383233516, 0.00329338139601074, 0.01113396928058815, 0.01675779486346265, 0.004359968749639343, -0.0704014643424777, 0.0003207703273513615, -0.0009019184118849146, 0.05087522197591925, 0.01706539952070272, 0.00949563790082087, -0.030252298896339583, -0.0049283697935408105, -0.018135330787891063, -0.012712117666860328, 0.012391138286703823, 0.00433990759658722, 0.0034772759198702244, 0.01790797074285949, -0.011648874226791468, -0.001969341802111112, -0.013802110552762063, 0.007048170709204112, -4.221212111185427e-05, -0.012745553077167621, -0.025504479945929148, -0.010217841273342371, 0.012899356337110188, 0.025143378259668395, -0.016048965282535056, -0.029610341998671644, 0.007041483347745893, -0.008706563707684783, -0.011454948660744653, 0.01772073207260963, 0.015286639603909311, 0.011441574869150749, 0.008980733885940088, 0.023190754395541566, 0.018563303294766402, -0.008900488342409061, 0.015727986833701087, -0.038544265751388, 0.0121102821439741, -0.0013783721356489813, -0.015273265812315405, -0.02068979203754919, -0.008031169537064481, -0.01801496293825579, -0.01685141326726505, 0.008425706633632525, 0.016089088519961835, -0.026146438706242153, 0.007329027317595103, 0.0003280843233560821, 0.018710418727589485, -0.0220539541703837, -0.0033836568175759276, 0.017493372027578058, 0.00016863951895376234, -0.02558472642078271, -0.005811062856140563, -0.0006461380119784444, -0.0011184123094540991, 0.0019726852500095877, 0.0020044489363676443, -0.01964660835354865, 0.03367607895134229, -0.012946165539011387, 0.016169333132170328, -0.02379259178107286, -0.0026129722863733576, -0.007115041529818701, 0.018576677086360308, -0.017239264399358675, 0.02269591106805164, 0.019445995891704888, -0.005329593785905806, -0.003371954517100628, -0.007991047230960235, -0.0016349883975300705, 0.01209022052526071, -0.009602631027539705, -0.017560242848192645, -0.027055880749013515, 0.024381053512365185, 0.0018038368237698291, -0.005319563442210379, 0.011816050347005403, -0.018068459967276476, 0.011361330256942257, -0.048146897710250235, 0.0021799843748196717, 0.20029108851417676, 0.0013658338567837458, 0.017921344534453394, 0.011642187330994515, -0.01739975362377566, -0.015126149448169791, 0.02934285871621329, 0.022401680202405478, 0.011622125712281125, 0.004393404159946638, -2.5677298963930894e-05, -0.012585063852750636, -0.002790179448774623, 0.01570123738786821, 0.0031379071106108357, -0.03982818327201401, -0.010518759034785484, -0.013708491217637134, -0.009535760206925117, -0.014016096806199732, 0.014096341418408225, -0.024956141452063603, -0.01587510226652417, -0.01570123738786821, 0.0009888503273439678, -0.007837244902340201, 0.00790411572295479, -0.018389440278755515, 0.022722660513884513, 0.007756999824470441, -0.014029470597793636, -0.000300918110689064, 2.3391680669423677e-05, -0.0024357648911414584, -0.04365318452541411, 0.0021432055166139014, 0.006941177582485278, 0.029155620045963428, 0.01598209446192047, 0.006720504433250657, -0.02974408177725575, -0.01916513881765263, 0.020475805784111522, -0.001645854836030751, 0.014337076186356237, 0.013802110552762063, -0.019138391234464824, 0.01232426839741177, -0.004871529782282917, 0.028754396984920966, -0.018844160368818662, -0.003972119014529518, 0.019606485116121872, 0.051008959891858295, 0.02787170252533741, -0.016155959340576426, 0.020716539620737, 0.016543808610024982, -0.007823870179423762, -0.019459369683298793, -0.005102233740874234, 0.021505613813873087, -0.011020289258072363, 0.009796555662263983, -0.0024591694920920574, 0.0055101446290361815, -0.030225551313151775, -0.006292531926375318, 0.0019258758152777562, -0.005871246315296932, 0.010572256063806169, -0.01727938577414039, -0.046194271983478336, -0.022067327961977603, 0.005496770837442278, -0.026146438706242153, 0.04779916795293832, -0.007636632906157703, 0.022762781888666227, 0.026373800613918797, -0.0308140130444441, -0.027737962746753303, -0.014644680843596302, 0.0016475265599799889, -0.001805508547719067, -0.033649331368154484, 0.02848691370246261, -0.00249427662634859, -0.025985949481825168, 0.017493372027578058, -0.00694786447828223, -0.0018422875223401542, -0.00934852246799779, -0.018389440278755515, 0.022990143796342868, -0.009241529341278955, 0.007703503261111025, 0.01663742701382738, -0.0018957840856995715, 0.016396693177201903, -0.015072653350471641, 0.04905633789037653, 0.006185538799656483, -0.010257963579446618, 0.006132042236297066, -0.014671429358106645, 0.003734727927310616, -0.012892668509990702, 0.0011944777282048135, 0.014658054635190206, -0.004440213827509102, 0.0036912619404772602, -0.0018790663805459244, -0.02569171861617901, 0.0027400265661443155, 0.012631873054651835, 0.0019576395016358125, -0.038544265751388, 0.016450190206222588, -0.00433990759658722, -0.02515675391390737, -0.01667755025125416, 0.001924204091328518, 0.024795652227646618, -0.005663947423317482, -0.01619608071535814, 0.005028676024462693, 0.025210249080282986, 0.005570328553853818, -0.018295820012308048, 0.024233938079542102, -0.01588847605811807, -0.0016609007008198432, 0.023645476348249782, -0.009388644774102036, 0.011809363451208452, 0.006349371937633212, -0.009214780826768612, -0.008826930625997521, -0.003584269046589059, -0.010331521295858157, -0.015540748163451225, 0.016262951535972726, -0.014430694590158633, 0.02923586465817192, 0.009181345416461319, 0.003908591641813406, -0.013761988246657817, -0.004624108118537954, -0.03188394617427751, -0.017413127415369566, -0.0022568857719603213, 0.00031011282524050655, -0.004864842420824698, 0.013735239732147474, -0.0046642304246422, -0.025009638481084288, -0.01706539952070272, 0.023190754395541566, 0.017319509011567168, -0.007409272395464863, 0.007837244902340201, 0.02995806803069342, 0.0076433198019546554, -0.02685526828716975, -0.007415959291261815, -0.16937007768640117, 0.01497903401534671, 0.0380360467696591, -0.02689539152459653, 0.01440394607564829, -0.0027182934563123205, 0.008806869938606665, 0.009629379542050048, 0.014069592903897882, -0.004353281853842391, 0.020408934963496935, 0.028834641597129458, -0.018175454025317846, -0.03389006706742503, -0.0027751337004008475, -0.00228363405364003, -0.026520916046741876, -0.0030961128477267176, 0.018108583204703255, 0.014123089932918567, 0.0022117480611777277, 0.0029406385623268133, 0.00759651013439219, -0.007121728425615653, 0.018068459967276476, 0.042155282613995496, 0.010572256063806169, -0.00192253236737928, 0.003848408182657036, -0.009194720139377758, -0.0044736492378163965, -0.008151537386699752, 0.026199935735262837, -0.016583929984806695, 0.028272927449024942, 0.012772301591677963, -0.008760059805382933, -0.01891103118943325, -0.03883849661703416, 0.0008567807011023209, 0.013126716382141761, 0.012217275270692935, 0.01657055619321279, -0.010231215064936275, -0.008011108849673624, -0.0034505276381905157, 0.002375581199154456, -0.009575882513029363, 0.02190683687491555, -0.03405055629184201, -0.019445995891704888, -0.011093846974483904, 0.019178514471891603, 0.011227588615713081, 0.02656103742152359, 0.011769241145104206, -0.010003855019904702, 0.03418429793307119, 0.012752239972964574, 0.001522979982548205, -0.0335155897269253, -0.03367607895134229, -0.012290832987104474, -0.005018645215105998, 0.014791796276419383, -0.02264241590167602, -0.016343196148181218, 0.013802110552762063, -0.020515927158893235, 0.013474444276808608, 0.0014761704314010565, -0.018630174115380992, 0.01931225425047571, -0.00927496475158625, 0.014216708336720963, 0.00015662369747840768, -0.02078341044135159, -0.015166272685596572, 0.013153464896652103, -0.0027834923201470376, -0.014912163194732122, 0.004326533804993316, -0.013313954121069088, -0.02415369346733361, 0.020756660995518712, 0.0069010552763810315, -0.0034338099330368686, -0.010712684600832297, -0.01772073207260963, -0.005643886270265359, -0.00826521740921554, -0.019258759084100095, -0.008840305348913958, -0.007315653526001199, 0.001905814662225633, 0.01612920989474355, 0.012611812367260979, -0.01094004464586387, 0.011568629614582975, -0.022027204724550824, 0.02241505585664445, 0.007756999824470441, -0.0002543175832432286, -0.005627168565111711, 0.0015756405675176866, 0.01848305868255791, 0.005102233740874234, 0.022909897321489306, 0.051222948007941034, 0.009890174997388914, -0.025250372317709765, 0.019552989949746257, 0.028165933390983573, 0.026627908242138176, -0.0046675738725406755, 0.033221358861279145, -0.009081039185539435, -0.022802905126093006, 0.011000228570681508, 0.0031863882692919052, 0.044455634372789175, 0.011989914294338827, -0.003848408182657036, 0.014149837516106375, -0.005620481203653493, -0.02541086154212675, -0.11362667636101648, -0.001263856018327942, 0.010726058392426201, -0.0010381674644149733, 0.0013800438595982193, 0.024019951826104436, -0.010164345175644221, -0.007028109556151989, -0.016383319385607997, 0.019459369683298793, -0.014791796276419383, -0.03359583247648873, -0.012698743875266424, -0.013501191859996415, 0.04156682088270318, -0.0021766409269211957, -0.029182369491796305, -0.03292712799563298, 0.00433990759658722, 0.024621787348990662, -0.018616800323787087, -0.0032031059744455524, 0.009174658520664366, -0.041058601900974274, 0.006439647359198399, -0.008546074483267798, -0.03439828232386379, 0.018362690832922638, 0.01995421301078872, -0.0004898278063962626, -0.0017553555486734425, -0.023846086947448476, -0.011448261764947702, 7.042319762693267e-05, 0.019352377487902493, -0.01275892780008406, -0.013006349463829022, 0.014938911709242464, 0.013815484344355967, -0.018389440278755515, 0.010826364623348085, 0.010331521295858157, 0.021746347650498564, -0.018563303294766402, 0.015901849849711977, -0.005921399430757873, -0.007034796451948941, 0.025785337019981404, 0.001408463865227166, -0.020128077889444675, 0.007302279268746028, 0.0005993285772466126, -0.006028392557476708, 0.018456311099370102, 0.021625981663508362, 0.004697665834949494, 0.009174658520664366, 0.02018157305582029, -0.013788735829845626, 0.024809026019240524, -0.021746347650498564, -0.0012095235929939058, -0.021385245964237815, 0.02292327297572828, 0.01772073207260963, 0.021893463083321647, -0.011541881100072633, -0.0008496756996950841, 0.017988215355067984, -0.045097591270457114, -0.011394765667249552, 0.021251504323008638, -0.028112438224607957, -0.0186569216985688, -0.020275193322267758, -0.03415754662459324, -0.022869775946707596, 0.015300013395503215, 0.027149499152815913, -0.0308140130444441, 0.004931713241439286, -0.014791796276419383, -0.004801315513769853, -0.03273989118802819, 0.030519782178797937, 0.0006678710053951222, 0.012765614695881012, -0.028058941195587273, 0.01317352558404296, -0.015794857654315677, 0.00477456699925951, 0.02606619409403366, 0.005456648065676764, -0.006476426217404169, 0.03193744134065313, -0.0011794317470004043, 0.005403151502317347, 0.005837811370650905, -0.019339003696308588, 0.011501758793968387, -0.03578919390253117, -0.004881560125978345, -0.05213238818806732, 0.016811291892483336, 0.0076633809550067785, -0.0014377198492460483, 0.012565002234037247, -0.004510428096022167, 0.009629379542050048, -0.032338666264340656, -0.005329593785905806, -0.0026146440103225954, -0.019994336248215498, 0.004189448715865663, -0.012785675383271867, -0.023618726902416905, -0.01194310509243763, -0.03525422733761447, 0.01956636374134016, 0.02230806179860308, 0.004734444693155264, -0.0018456309702386301, 0.001487872848291673, 0.0018138674002958907, 0.04606053034224916, 0.011715745047406056, -0.02515675391390737, 0.0021147855109849545, -0.016838039475671144, 0.025892331078022773, -0.018563303294766402, 0.009468889386310528, 0.004948430946592934, -0.010311460608467302, 0.028433416673441927, 0.02284302650087472, 0.020208322501653168, -0.014551061508471371, 0.0019793723786371733, 0.01624957774437882, 0.010391705220675795, 0.061681524980553945, -0.0040155847685322404, -0.010960106264577262, 0.012177152033266154, -0.007436020444313938, -0.01642344076038971, 0.01901802338482955, -0.02570509240777291, 0.022321435590196986, 0.031161740939110942, -0.010237902892055761, 0.020261819530673852, 0.020515927158893235, -0.01674442107186875, -0.007061544966459284, 0.014524313925283564, 0.00186569223970607, 0.015326761910013557, 0.024033325617698338, -0.00244579546766752, -0.024126944021500736, 0.005319563442210379, 0.01513952417108623, 0.017212514953525798, -0.017693984489421822, 0.010465262937087334, -0.02689539152459653, -0.016838039475671144, 0.003376969688948342, 0.008519325968757456, -0.011281085644733764, -0.020703165829143097, -0.0022251220856022652, 0.013106654763428371, 0.01808183375887038, 0.002325428316524148, -0.022294688007009178, -0.002791851172723861, -0.0038718127836076355, -0.015941973087138756, 0.01334070263557943, 0.001100022880351214, 0.009609317923336658, -0.023752468543646082, 0.018937778772621056, 0.02067641638331022, -0.004313159547738145, -0.01750674581917196, 0.020435682546684743, 0.013527940374506758, -5.1041142411422364e-05, 0.01570123738786821, 0.015126149448169791, 0.005185821800981202, -0.023912957768063067, -0.0028420042881848024, -0.0013232037319250091, -0.028674152372712473, 0.00018378991014542583, 0.031268733134507246, 0.014430694590158633, -0.007048170709204112, 0.018402814070349417, 0.0019342346678545795, 0.0005345475861915468, -0.020756660995518712, -0.0009704608982410826, 0.0005600420167016685, -0.025985949481825168, -0.012504819240542144, -0.0047311012452567885, -0.011287772540530717, 0.005831124009192686, 0.03482625483073913, 0.007342401574850274, -0.027684465717732618, 0.011047037772582705, 0.007362462727902397, 0.0059882702513724614, -0.012177152033266154, 0.03624391399259432, -0.0030376011125195865, 0.010311460608467302, 0.008131475767986363, -0.01804171238408867, 0.024033325617698338, 0.01389572895656446, 0.034986744055156116, -0.00586455941949998, 0.0044234961223554555, 0.02747047946429495, 0.000550011440175607, 0.010839738414941989, -0.015246517297805065, 0.002447467191616758, -0.017974841563474078, 0.011836111965718795, -0.00746276895882428, 0.009295025438977105, -0.03407730387502982, 0.04910983305675214, 0.021612606009269387, 0.0065198919714068914, 0.011267710921817328, 0.004630795014334906, 0.03608342476817734, -0.0015020828511061461, 0.009555821825638508, -0.013654995119938982, 0.0010657516080693008, 0.022829652709280814, -0.0026597817211051894, 0.023110509783333073, -0.01667755025125416, -0.034665765606322146, 0.02819268283681645, -0.014497565410773221, 0.008131475767986363, 0.01631644856499341, -0.005941460583809996, 0.010672562294728051, 0.00014774243116744725, 0.03811629324451266, 0.0006214794434429415, -0.04384042505830905, -0.0035775819179614736, 0.01877728954820407, -0.007081606119511407, -0.009776494974873129, -0.031348979609360804, -0.013407573456194019, 0.029316109270380412, -0.02487589683985511, -0.03418429793307119, 0.006907742172177983, -0.013621559709631689, 0.011361330256942257, -0.01073943311534264, 0.023525108498614507, 0.030466285149777252, 0.0036778879160527227, -0.00026016876258470753, -0.01612920989474355, -0.028246179865837134, -0.003328488530267272, 0.012143717554281393, -0.02118463350239405, -0.009789868766467032, -0.036591640024616096], 'query_similarity_score': 0.851375900370004}),\n",
       " _DocumentWithState(page_content='It is usual to split up Chinese history under the various dynasties that\\nhave ruled China or parts thereof. The beginning or end of a dynasty\\ndoes not always indicate the beginning or the end of a definite period\\nof China\\'s social or cultural development. We have tried to break\\nChina\\'s history down into the three large periods--\"Antiquity\", \"The\\nMiddle Ages\", and \"Modern Times\". This does not mean that we compare\\nthese periods with periods of the same name in Western history although,\\nnaturally, we find some similarities with the development of society and\\nculture in the West. Every attempt towards periodization is to some\\ndegree arbitrary: the beginning and end of the Middle Ages, for\\ninstance, cannot be fixed to a year, because development is a continuous\\nprocess. To some degree any periodization is a matter of convenience,\\nand it should be accepted as such.', metadata={'source': '/root/workspace/data/Adv_RAG_temp_data/chinahistory.txt'}, state={'embedded_doc': [0.0036067701668990263, -0.00612244378983911, 0.024671085037141136, -0.01734098782115431, -0.024632232122196496, -0.011836940354662654, -0.014491834594514598, -0.018286390125022426, -0.011934070779379108, -0.013662989172835253, 0.006986902986567183, 0.03232494723110758, -0.005193231131853829, 0.01354643322196905, -0.007511406628110236, 0.028232527734593987, 0.03276527281656624, 0.00902663818032244, 0.008547462473886845, 0.0002551692872552408, -0.03310199062883921, 0.004497130841262239, -0.011046947847927948, -0.020449155824145422, -0.009602944311474489, 0.021265050274176554, 0.033568218157594296, -0.02240471156483244, 0.012439148429111127, -0.001001251040794608, 0.006915674039485869, 0.013041355572237031, 0.009836057144529465, -0.012601031849423504, -0.01485445341876142, -0.0068703465700396945, -0.005788963254816912, -0.010813835014872972, -0.013455778283076703, -0.0013768214187662483, 0.003778367048778205, -0.008942458727254198, -0.012918324135546722, 0.02996792068255167, -0.011610303007431785, 0.013067257515533457, 0.029423992911842722, -0.024204859371031184, -0.009447536376986218, -0.0014504784402009597, 0.009829581658705358, 0.013766595083375814, -0.02662664077782815, -0.01968506526070714, -0.015735100864388472, -0.021226199221877056, -0.012931275107194934, 0.03810096137692141, -0.008204269175789772, -0.013365123344184356, -0.012769390755559988, 0.02601795814887814, -0.006863871549876874, 0.01274996522941024, -0.025953205153282217, -0.01085268699849504, -0.0033137604869549224, -0.0017920532160879696, 0.005277410584922071, 0.002305224757438837, 0.04517204288523427, 0.015553791917926347, -0.005779250026080752, 0.010205152385922962, 0.029527596959738143, -0.00745312818701585, -0.013086683041683205, -0.02180897990753064, -0.014336425728703757, -0.0026047096903764047, -0.011448419587119407, -0.017522297698939007, 0.0019069906447441098, 0.0031292130990888158, 0.019568508378518368, -0.000575496753631696, -0.0003290287549334464, 0.019905226190791336, 0.009557616842028315, 7.036884886072414e-05, -0.01622722847379485, 0.009052540123618865, 0.025577634426064613, 0.02626402102225876, -0.011558500052161504, -0.0039273001959342965, -0.007297719786866294, 0.013520531278672625, 0.00014994482540078724, -0.009395733421715938, -0.011519648068539437, 0.014530686578136665, -0.006054452585669849, -0.004215453261510321, -0.0321695392966193, -0.00043627671879644227, 0.006779691631147347, -0.021498164038554098, 0.026484183814988092, -0.0261215640594187, -0.009939663055070025, 0.02652303486728759, 0.017211481829962464, -0.026548936810584015, 0.015489037991007855, -0.020164241898465305, 0.010878588941791464, -0.017561150613883643, -0.003244150644160277, -0.00033348053502219824, -0.006621045953747023, 0.020772924527415314, 0.013753644111727602, -0.014206918806189342, 0.03281707670315909, 0.0032020606847955138, -0.024930098882169967, -0.003784842301771669, -0.005594702871045288, -0.001085430610278171, 0.013313320388914075, 0.002671082023089639, -0.0034157472932088134, 0.0298125127480634, -0.036883596119021395, -0.014686094512624936, -0.024968951797114603, -0.0026613690271841224, -0.017418691788398444, -0.032791174759862665, 0.02287093723094239, 0.0024379694228653056, -0.01892097469726886, -0.021070789424743646, -0.006954526488769221, 0.01014039845900447, -0.02473583803273706, 0.0334646103844086, -0.02103193837244415, 0.00136953661362945, 0.03667638429794027, 0.0019506993591495783, 0.01097571843518535, -0.0032781460134142654, 0.021640621001394158, 0.013883151034242017, 0.011280060680982924, -0.017056072032829054, -0.0149062563740317, -0.008398529093900112, -0.002138484489927738, 0.013831348078971737, 0.003444886513756007, -0.005277410584922071, 0.005743635785370738, 0.017379840736098946, 0.024425022163760517, -0.00488565207446677, -0.008942458727254198, -0.01967211428905893, -0.012542753408329119, -0.01394790496116051, -0.023272409901456417, -0.0074919801706379175, -0.0034286980320263837, 0.008029434783829182, 0.014375277712325824, 0.02678204871231642, -0.027636796077292188, -0.0015727006739938982, -0.009065490163944508, -0.016253128554446137, 0.02784400603572817, 0.01946490246797781, -0.03240265306099685, 0.010282856353167098, 0.010237528883720924, -0.0025690952168357477, 0.016343783493338482, -0.02895776724573277, 0.0020543048040288538, 0.016550995314419604, 0.015696249812088975, -0.015048714268194327, -0.6552018485581391, -0.012698162274139958, -0.018674909961243102, -0.026238119078962334, 0.010535394712371823, -0.011046947847927948, 0.001225460080841438, 0.01328741937694022, -0.014051509940378501, -0.0022323769389014964, -0.01910228271240842, 0.013300369417265864, 0.0005091244209184617, -0.0019766006039540762, -0.021239148330880128, -0.01758705255718007, 0.009926712083421812, -0.01288594763774876, -0.0001851545519736073, 0.0010797646765973992, -0.010224577912072711, 0.032687566986676964, -0.022896839174238813, 0.020837677523011237, -0.01765180555277599, 0.002386166700425668, 0.006637234202646004, 0.010256955341193242, 0.0063911708636041, 0.032299049013101426, -0.03600294867339434, 0.001405151087170107, 0.03924062453022244, 0.01267873581666764, 0.03833407514129896, -0.005542899915775008, -0.00859278994333302, 0.038567185180386224, 0.024671085037141136, 0.024463873216060014, -0.005520236181051921, -0.00272612248844133, -0.003185872435896533, 0.012691686788315852, -0.0011744666777144923, 0.00515761642548253, 0.03424165378214023, -0.024437973135408728, 0.022171599663100033, -0.014815601435139351, 0.005779250026080752, 0.0007721855610026804, -0.010153349430652683, -0.0067149381698901394, -0.00468815348212181, -0.0029754235703952866, 0.014427080667596105, -0.017146726971721402, -0.0005580942347253741, 0.011972922763001177, -0.011772187359066731, 0.03022693639022564, 0.00656600525556469, 0.010120972932854721, -0.011169979284618258, 0.014647242529002869, -0.031159385859800406, -0.006650184708632932, 0.010218103357571175, 0.004684916204871041, -0.0066307587168218975, 0.023026345165430662, -0.00937630696424362, -0.03496689329327901, 0.002305224757438837, 0.032350849174404, 0.031988229418834606, -0.014737897467895215, -0.017107875919421905, 0.008961885184726516, 0.0015629876780883813, 0.009233850001403561, 0.00867696939640126, -0.011927595293555002, 0.015268876129601091, -0.0025027228841225137, -0.009745402205637117, 0.02180897990753064, -0.013650038201187042, 0.002399117206412596, -0.01775541146331655, 0.005889330956784134, 0.01358528520559112, -0.02388109253040643, 0.004005004163178432, 0.05428933693577163, -0.004005004163178432, -0.012996028102790857, -0.008042384824154826, -0.01800147433669717, -0.004778808421014157, -0.006598382219023936, -0.004827373633372384, 0.0031178812317272722, -0.01156497553798561, 0.010405887789857408, -0.019723918175651778, -0.021485213066905887, 0.054651956691341014, -0.03097807598201571, 0.025784844384500596, -0.001966887608048559, 0.006935100031296903, 0.01394790496116051, -0.0024784402779434002, -0.01638263640828312, 0.009318029454471802, 0.015281827101249304, 0.015489037991007855, -0.011577926509633824, 0.0006471303021616954, -0.010373511292059446, 0.011875792338284723, -0.040224876023744915, 0.008256072131060053, 0.03716851004470151, -7.821009012882855e-05, 0.007064607419472603, -0.014168066822567273, 0.012206035596056151, -0.0008960266080439848, -0.03167741354985806, 0.04398057957063067, -0.004166888049152094, 0.020850628494659452, -0.00043344375195605644, 0.031729217436450914, -0.013740693140079389, -0.004759382429203124, -0.015501988962656067, -0.0039402507019212244, 0.001268359243103572, -0.0009445917621945512, -0.010211627871747068, 0.016563946286067815, -0.018040325388996668, -0.02297454314148295, 0.01581280483163261, -0.0011040472827765126, 0.008424431037196535, -0.009259751013377416, -0.014582488602084376, -0.01658984822936424, 0.011500222542389688, -0.028413837612378683, -0.0018406183120308756, -0.0018211923202198417, -0.008741723323319753, -0.005682120067025583, -0.0042640180082072635, 0.0061159683040150035, 0.0076473885707874735, -0.014465932651218172, 0.02424371228597582, 0.021718324968638292, 0.001346872878906363, -0.02078587549906353, 0.011856366812134972, 0.0007402134900304225, -0.026199268026662836, 0.0007701619716826472, 0.010820310500697079, -0.008812951804739783, 0.011798088371040587, -0.005309787082720032, 0.0058763804507972065, -0.030252836470876926, -0.0050378227317042735, -0.008638117412779193, -0.021122593311336493, 0.027507288223455204, 0.007459603672839956, -0.01608476964830965, -0.018882121782324224, 0.02296159216983474, 0.0069415755171210085, 0.0032182491665251373, -0.026225168107314123, -0.006345843394157926, 0.0367022862412367, -0.0018632820467539624, 0.017431642760046658, -0.007899927861314767, -0.02003473404462832, 0.011817514828512905, -0.007997057354708651, 0.0035193529709187316, -0.0031632087011734464, 0.01596821462876602, 0.01725033288226196, 0.033801328196681565, -0.01389610200589023, -0.0006204195052138632, 0.004451803371816066, 0.013138485996953485, -0.006268138961252506, -0.00589580644260824, -0.0034934514932835913, 0.01785901551121197, 0.01445298167956996, 0.002373215961608098, -0.00874819880914386, -0.02565533839330875, -0.01709492494777369, -0.015799855722629534, 0.049860197764339934, 0.005568801393410148, -0.00069124367622351, -0.0008741723090489111, 0.012821193710830268, 0.012672260330843534, -0.013144961482777592, -0.002727741359897357, 0.01591641074217317, -0.03846358113249081, -0.0024784402779434002, 0.004510081347249167, 0.018998678664512995, 0.0025124358800280304, -0.015385432080467294, -0.010613099610938528, 0.024114204432138835, -0.013714792128105535, 0.004804709898649297, 0.0004261590050269187, 0.05133657872991392, 0.018700811904539528, -0.013624137189213186, 0.0017515822445945543, -0.005083150201150447, -0.015307728113223158, 0.00937630696424362, 0.02869875340070394, -0.006863871549876874, 0.02617336608336641, 0.016291981469390773, 0.020254896837357653, 0.012329067032746461, -0.013468728323402346, -0.00020518766423639656, 0.02525386572279472, 0.016136573534902502, -0.01861015696564718, -0.03017513250363279, 0.021511113147557173, -0.010392937749531764, 0.0009996321693385814, 0.0011040472827765126, 0.016175424587202, 0.02221045257804467, -0.010762032059602692, -0.0014237676432531277, -0.0007045990746974261, -0.031470201728776945, 0.030537752259202182, -0.0072523923174201204, 0.0130802075558591, 0.0014860929137416167, -0.021821930879178855, -0.0023230318777938443, -0.012283739563300287, -0.017768360572319623, 0.03211773913531673, -0.019957030077384186, 0.0016066962760785287, -0.008884180286159811, 0.013170862494751447, -0.007595586081178478, 0.016032967624361943, 0.009194997086458923, -0.024049451436542912, -0.012290215049124394, -0.0021255337511101677, 0.028387935669082258, -0.016538044342771393, -0.02388109253040643, -0.011260634223510606, -0.01339102435615821, -0.017807213487264262, 0.021731275940286506, 0.009849008116177676, -0.02063046570193012, 0.0037751293058661517, -0.012225461122205902, -0.015786904750981323, 0.01224488757967822, 0.017457544703343084, 0.001541942814821321, 0.00841795555137243, 0.017056072032829054, 0.0029025757518579462, -0.0068185440804307, -0.0030272262928349243, -0.007783370979125995, 0.01622722847379485, 0.010114497447030614, -0.003969389922468418, -0.0076214875588136175, -0.01394790496116051, -0.020319649832953576, -0.011558500052161504, -0.02662664077782815, 0.011021045904631524, -0.002301987014526784, 0.02205504278091126, 0.012076528673541736, -0.005886093679533366, 0.014414129695947893, 0.04838381679876594, -0.010379986777883552, 0.009777778703435078, -0.02004768501627653, -0.030667260113039167, -0.006773216610984525, 0.09034408577046854, 0.005665931352465317, -0.005831052981351032, 0.027325978345670507, -0.00862516644113098, -0.011746285415770306, 0.0028766745070534483, -0.02179602893588243, 0.013041355572237031, 0.005125239927684568, -0.015255925157952878, 0.006025313365122656, 0.00940868439336415, 0.031159385859800406, 0.010742606533452943, 0.010451215259303582, 0.01300897907443907, -0.013041355572237031, -0.022521268447021212, 0.004853275111007524, -0.0067149381698901394, -0.027740400125187612, 0.01740574267939537, 0.028491541579622817, -0.00984253263035357, 0.012775866241384094, 0.021692423025341866, -0.014971010300950192, 0.002656512412816043, -0.01866195898959489, -0.013934953989512298, 0.020228994894061228, -0.0011833702378919958, 0.0167323051922043, -0.007692716040233647, 0.025901401266689366, 0.008515085976088884, 0.027481386280158778, 0.013054306543885244, -0.012497425938882945, 0.013326271360562287, 0.00892303320110445, 0.023363064840348766, -0.017457544703343084, -0.01148079608491737, -0.00478204616392621, 0.0048597505968316305, -0.0033105229768735115, 0.005381016029801346, -0.019192937651300767, 0.0048824143315547176, -0.024321416253219957, -0.03167741354985806, -0.0343970617166285, 0.02601795814887814, -0.024178957427734758, 0.007517881648273057, 0.0019328921223792498, -0.0035646804403649053, -0.006141869781650143, 0.0056497431035663365, -0.03413804600895453, 0.015851657746577246, -0.013857250022268163, -0.013675940144483466, -0.022676676381509484, -0.009369832409742082, 0.002206475694096999, -0.007543783125908197, -5.071514504352596e-05, -0.012601031849423504, 0.00862516644113098, 0.006154820753298356, 0.01683591110274486, 0.01652509337112318, 0.007835173934396275, 0.014543636618462308, -0.01866195898959489, 0.0014488596851602543, 0.01947785343962602, 0.01123473321153675, -0.030511850315905756, -0.01739279170774716, -0.026458281871691667, -0.011590877481282034, 0.015579692929900203, -0.010742606533452943, -0.01775541146331655, 0.0006600810409792654, 0.0019523181141902837, 0.0007750184696354057, 0.0023133188818883275, 0.008793526278590034, 0.001206033972615083, -0.024373218277167666, -0.014919207345679912, -0.0071811633703388065, 0.015527889974629921, 0.0130802075558591, -0.015307728113223158, -0.019736867284654853, -0.0032328187767987336, -0.0035161152280066784, -0.03781604745124129, -0.008145990734695387, 0.006038264336770868, -0.020267845946360726, -0.0022000002082728926, -0.01638263640828312, 0.01166858144852617, 0.015514939934304278, -0.045042536894042425, 0.014763798479869071, 0.021355705213068902, -0.0033639445707691756, 0.0003025202878137873, 0.017004270008881342, 0.028880063278488636, -0.0065465792637536555, -0.021524064119205384, -0.002549669225024714, -0.011247683251862393, 0.007129360880729811, 0.020112438011872458, -0.02566828936495696, 0.022909790145887027, -0.013119059539481167, -0.0011323769511803713, -0.025901401266689366, -0.016499193290471892, -0.01754819964223543, 0.035873442682202494, -0.018195735186130078, -0.01581280483163261, -0.009454011862810323, 0.027248274378426373, -0.010839736958169397, -0.01250390142470705, -0.007731568489516999, 0.005018396739893239, 0.007874025918018343, -0.018726713847835953, -0.0005746873179036827, -0.0166934541399048, 0.023712733624269944, -0.03260986488207797, -0.01693951701328542, -0.0038107437794068087, 0.007200589827811125, 0.014362326740677613, -0.037867847612543866, -0.020708169669174253, -0.008398529093900112, 0.021925536789719414, -0.006967476994756149, -0.0031389260949943325, 0.002344076741060905, -0.020747022584118893, 6.136406556147338e-05, 0.02794761194626873, 0.018467700002807123, -0.0035387789627297655, -0.0004621781382239218, 0.02434731819651638, -0.015139369207086676, 0.009266226499201523, -0.017768360572319623, 0.02055276173468598, -0.02534452066168707, 0.007640913550624652, 0.011662105962702065, 0.018480649111810195, -0.01556674195825199, -0.003765416309960635, 0.0030709348908250717, 0.026302873937203396, 0.0030110378111053012, -0.023868141558758216, -0.008618690955306875, -0.049419875904171545, -0.010341134794261485, 0.0068185440804307, -0.0024703461534939094, -0.003687712109885857, -0.0009850626754803061, -0.008074762253275357, 0.03022693639022564, 0.006766741125160419, 0.002798970306978671, -0.013714792128105535, 0.024554528154952363, -0.005144665919495602, 0.02779220401178046, -0.02204209180926305, 0.008547462473886845, -0.027507288223455204, 0.013701841156457322, -0.02683385259890927, 0.000457321611167333, 0.006070640834568829, -0.010127448418678827, 0.03499279523657544, -0.0025027228841225137, -0.0255646834544164, -0.001822811075260547, -0.003752465571143065, -0.009900811071447958, -0.03248035889088612, -0.024321416253219957, -0.005057248723515307, -0.01262693286139736, -0.0019215602550177063, 0.0034416487708439536, -0.03159971144525907, 0.008133039763047174, 0.017794262515616048, -0.0023003681430707576, 0.011176454770442363, -0.00813951524887128, -0.008281973143033907, 0.041934370753696444, -0.01217365909825819, 0.03848948307578723, -0.0019571746121430423, 0.06143812427397376, 0.006138632038738091, -0.008644592898603299, -0.022702578324805905, -0.015048714268194327, -0.010146873944828575, -0.0047885216497503165, 0.03188462537093919, 0.0017094925180604333, 0.006627520973909845, 0.009797205160907397, 0.01001736702231416, 0.0019717442224166386, -0.0064850635454085015, -0.011558500052161504, 0.024684036008789347, 0.003561442697452852, -0.015281827101249304, 0.009868433642327427, 0.0008272260263543712, 0.014517735606488452, 0.0009534953223720549, 0.0015370863168685624, 0.02221045257804467, -0.01718557988666604, -0.0034610747626549875, -0.015204123134005168, 0.01643443843223083, -0.026756148631665134, 0.025020753821062315, -0.012510376910531158, -0.009447536376986218, -0.001069242244963869, -0.019594410321814793, -0.014155115850919062, 0.000811847038560422, -0.017625903609479566, 0.01006916997758444, -0.029009569269680482, -0.00984253263035357, 0.004128036065530027, 0.020267845946360726, -0.001213318777751881, -0.021770128855231143, -0.026885654622856983, 0.02885416133519221, -0.0219514368703707, -0.009570567813676528, -0.00745312818701585, 0.01306078202970935, 0.009790729675083291, -0.0029171453621315425, 6.949619051837498e-06, -0.029657104813575128, -0.029242683034058026, 0.014219869777837554, -0.004383812167646804, 0.010464166230951793, -0.0009308316458566285, -0.0020089775674133224, -0.008217219216115415, -0.010528920157870285, -0.001131567515452358, -0.009324504940295908, 0.002970566956027207, -0.016045918596010154, -0.021174395335284205, 0.006676086186268072, 0.010023842508138266, 0.013455778283076703, -0.007712142497705966, -0.023401915892648263, -0.012931275107194934, 0.026756148631665134, 0.0019490804876935517, 0.031055779949259843, 0.00862516644113098, -0.011506698028213793, -0.01998293202068061, 0.002318175496256407, -0.0038139812894882196, -0.012478000412733196, 0.022495366503724787, -0.033775426253385143, -0.021070789424743646, -0.008864754760010063, 0.036624580411347425, 0.016538044342771393, -0.02144636015196125, 0.001057100941874312, 0.004892127094629592, -0.008385579053574468, 0.004918028572264733, -0.02261192338591356, -0.05180280253337873, 0.03898160882254847, -0.003593819428081456, 0.010049743520112122, -0.028180725710646275, -0.007446653166853028, 0.038618989066979074, -0.018260488181726, 0.01140956760349734, 0.01384429905061995, -0.008722296865847435, 0.00513171494784739, -0.018571304050702543, 0.023401915892648263, -0.03343870844111217, 0.008605740914981232, -0.038878004774653044, -0.02063046570193012, -0.007783370979125995, 0.018040325388996668, -0.008981310710876267, 0.02717057041118224, 0.026484183814988092, 0.0033866083054922627, 0.018985727692864784, 0.01537248204014165, 0.013203238992549408, -0.011804563856864693, 0.016421489323227758, -0.004969831527535012, -0.03007152659309223, -0.011662105962702065, -0.006734364161701173, 0.057034887045838485, 0.033542316214297874, 0.01785901551121197, -0.006439736075962327, 0.005368065523814418, -0.023518472774837037, -0.02662664077782815, 0.0343970617166285, 0.020721120640822467, 0.03097807598201571, 0.0251502616748993, -0.014828552406787564, 0.0024671084105818567, 0.014284622773433477, 0.0003759750376279863, -0.014491834594514598, -0.005562325907586042, -0.022547170390317634, -0.000817108254377187, 0.007569684603543338, 0.005144665919495602, 0.0010279618377424403, 0.007990582800207115, 0.016563946286067815, -0.03128889185099225, -0.02121324825022884, 0.023388964921000052, 0.024917147910521752, 5.5040479903606005e-05, -0.018415896116214272, 0.009033113666146547, 0.017379840736098946, 0.0056983083159245634, 0.026458281871691667, -0.04462811325188018, -0.014219869777837554, -0.0029883743092128565, -0.0239976494125952, -0.025227965642143434, 0.00012687640191752392, -0.041468143224941356, -0.0177036075767237, 0.010444739773479475, 0.01410331289564878, -0.019698016232355352, -0.005348639532003385, -0.005274172842010018, 0.02540927551992813, 0.017470495674991295, -0.010632525137088277, 0.023790437591514082, 0.001060338568371044, -0.0007118838216265638, -0.011759236387418518, -0.0146083905453808, -0.018830319758376513, 0.004111847350969761, 0.011331862704930635, -0.011875792338284723, 0.026989260533397542, -0.02069522056017118, 0.023414866864296478, -0.019244741537893614, -0.00836615259610215, 0.0002782377107385041, 0.022352909540884727, -0.014440031639244318, 0.019089333603405343, 0.02382928864381358, 0.01466019350065108, 0.008774099821117714, -0.0060415020796829215, -0.031781021323043765, 0.01146137055876762, -0.015851657746577246, -0.02276733132040183, -0.015294777141574947, 0.01080088404322476, -0.002614422686281922, 0.0015953644087169853, 0.014634291557354656, -0.023660929737677097, -0.00015439663459336934, -0.01820868615777829, 0.01212185614298791, 0.19591820127485152, 0.01014039845900447, 0.010742606533452943, 0.03369772414878614, -0.005306549805469264, 0.007148786872540845, 0.012510376910531158, 0.014971010300950192, 0.0016479766832999574, 0.0043579106900116646, -0.008430906523020643, -0.009220899029755349, -0.007381899239934536, 0.014155115850919062, 0.027325978345670507, -0.03722031393129436, -0.010917440925413533, -0.006614570467922917, 0.007770420473139067, 0.004659014727235901, 0.0021303903654782477, -0.018143931299537227, -0.024956000825466392, -0.00935688143809387, 0.004998970282420921, -0.008010008326356864, -0.01440117965562225, -0.0019960268285957525, 0.0033704198237626396, 0.008709345894199222, -0.01290537316389851, -0.01805327636064488, 0.012160708126609979, 0.02114849525463292, -0.04245239844375411, -0.025163210783902372, 0.01921883959459719, -0.01769065660507549, -0.0033121416154988956, 0.01156497553798561, 0.008340251584128294, -0.01947785343962602, 0.0054781464545178, 0.0006463209246413428, 0.05006740958542105, 0.007071082439635425, -0.010373511292059446, -0.006922149525309975, -0.002211332075634436, 0.01300897907443907, -0.01942605141567831, -0.02271552929645412, 0.011590877481282034, 0.03276527281656624, 0.012186609138583833, 0.005436056727983679, 0.00900721265417269, 0.03949963651260613, -0.009143195062511213, -0.00619043499400837, -0.005533186687038848, 0.01321618996419762, -0.008405004579724217, 0.010049743520112122, -0.004626637763776655, 0.016110671591606077, -0.011092275317374122, -0.007459603672839956, 0.008314349640831869, -0.022339958569236516, -0.0008296542753307505, -0.017936721341101247, -0.03605475255998719, -0.0010943341704556745, 0.004276968979855476, -0.014789700423165497, 0.04750316935313889, 0.027403682312914644, -0.00013942239376725702, 0.017910819397804822, -0.024696986980437558, -0.04097601747818012, -0.006999853958215395, 0.0019458427447814988, -0.006459162067773361, -0.021757177883582928, 0.042996328077108195, 0.0001602649272061444, -0.012860045694452336, -0.0005427153051390855, -0.019853424166843624, -0.03481148535879074, 0.012950700633344683, 0.0005115526698948408, 0.01951670635457066, -0.002735835484346847, 0.020759973555767103, -0.0035841064321759392, 0.0011623253746249355, -0.021873732903126563, -0.02012538898352067, 0.04411008556182252, 0.030822668047527438, 0.021821930879178855, -0.007459603672839956, -0.006902723533498941, -0.021226199221877056, 0.0035905816851694032, 0.014155115850919062, -0.008463283020818604, 0.009861959087825889, 0.005788963254816912, 0.010651951594560595, -0.029527596959738143, -0.00038265273686494437, -0.0026273734250994918, -0.013766595083375814, -0.053719505359121116, 0.003998528677354326, -0.005992936867324694, -0.022327007597588305, -0.03367182220548972, 0.0008401767069642807, -0.0038139812894882196, -0.005335688560355172, -0.008275497657209802, 0.006656660194457037, 0.016253128554446137, -0.007258867803244226, -0.01271111324578817, 0.014258721761459621, -0.04418779139171179, 0.010218103357571175, -0.006530391014854675, -0.016887713126692572, 0.0059476093978785205, 0.00383988276712336, -0.005374541009638524, 0.012704637759964065, 0.01001736702231416, -0.0009713025591423834, 0.016550995314419604, -0.007938779844936836, -0.0069415755171210085, 0.02363502965702581, 0.007899927861314767, -0.004727005931405162, -0.013157911523103236, -0.03597704673009791, -0.02460633204154521, -0.022132746748155394, 0.007576160089367444, 0.01179161288521648, -0.004798234412825192, 0.01379249609534967, -0.016784109078797148, -0.021420458208664825, 0.0013484917503623897, -0.00040349527030383175, 0.022780282292050043, -0.009454011862810323, -0.016291981469390773, 0.024178957427734758, 0.015527889974629921, -0.003856071248852983, -0.004675202976134882, -0.16193556692567554, 0.02854334360357053, 0.045767776405181204, 0.007343047256312468, 0.03626196065577803, 0.004581310294330481, 0.022948641198186525, -0.0004069353139402276, -0.00366504837516277, -0.015204123134005168, 0.022132746748155394, 0.01851950202675483, -0.04131273529045309, -0.018377045063914774, 0.004794997135574423, 0.02323355698651178, -0.019089333603405343, 0.027559092110048054, 0.021744226911934717, 0.009926712083421812, 0.005526711666876028, -0.007297719786866294, 0.012775866241384094, 0.0032846214992383713, 0.022301107516937018, 0.011293010721308568, 0.027351880288966932, -0.011072848859901804, -0.017172628915017828, -0.018143931299537227, -0.029579400846330994, -0.006468874830848236, -0.010807359529048866, -0.012743489743586132, -0.005319500311456191, 0.007627962578976439, 0.000398638743247243, -0.014647242529002869, -0.01811803121888594, 0.0022501842920871463, 0.021278001245824765, -0.002601471947464352, 0.004798234412825192, -0.00023554086375262786, 0.01280176725335795, 0.040406185901529605, -0.007744518995503927, -0.017017220980529556, 0.024865345886574044, -0.0031745405685349895, -0.023013396056427587, 0.010774983031250905, 0.025240916613791648, 0.007757469967152139, 0.014983960341275835, 0.003856071248852983, -0.01399970791643079, 0.012180133652759727, 0.020617514730281908, 0.005604415634120162, 0.004309345477653438, -0.00468815348212181, 0.0038172190324002727, -0.010185725928450644, -0.014815601435139351, 0.016887713126692572, 0.0018130980793550301, 0.007524357134097164, -0.02170537399699008, 0.0021983815696475085, 0.006478588059584395, -0.008858279274185957, 0.008392054539398574, -0.014219869777837554, 0.03017513250363279, 0.0026387052924610353, 0.0034416487708439536, -0.010820310500697079, -0.0025966155659269143, -0.007712142497705966, -0.004804709898649297, 0.019413100444030097, -0.025849599242741658, -0.01912818465570484, -0.00854098698806274, 0.022883888202590602, 0.020267845946360726, 0.022676676381509484, -0.0344747638212275, -0.02526681669444293, -0.016032967624361943, -0.01537248204014165, -0.026885654622856983, 0.009292127511175377, 0.009065490163944508, 0.008392054539398574, -0.009285652025351272, -0.03450066576452392, -0.004911553086440626, -0.01014039845900447, 0.007750994481328034, -0.020254896837357653, 0.0025383373576631707, 0.0261604151117182, 0.004170125792064147, 0.028569245546866955, -0.010457690745127687, -0.010710229104332412, 0.01910228271240842, 0.0025561444780181778, -0.018998678664512995, 0.013688891116131679, 0.020164241898465305, 0.033568218157594296, -0.006915674039485869, 0.03996586404136122, -0.011539074526011755, 0.0034157472932088134, 0.019490804411274234, 0.009454011862810323, 0.03538131321015098, 0.0015233261423229791, 0.0014229582075251143, 0.03675409012782955, 0.026471232843339878, -0.02575894430384931, -0.12702047751898937, 0.010716704590156518, 2.5382867388263393e-05, 0.019892277081788264, 0.02843973955567511, 0.021083740396391857, -0.007763944987314961, -0.0018406183120308756, 0.0011493746358073654, 0.02029374788965715, -0.01734098782115431, -0.024580430098248788, -0.012180133652759727, -0.02530566960938757, 0.03602885061669076, -0.010159824916476788, 0.007880501403842449, -0.0219125858180712, -0.008961885184726516, 0.03680589028913212, -0.02342781783594469, -0.01684886207439307, 0.002240471296181629, -0.02231405662594009, 0.01596821462876602, -0.011014571350129987, -0.02717057041118224, 0.013455778283076703, -0.00014701069364631486, -0.009648271780920663, -0.009369832409742082, -0.011603827521607678, -0.002114201883748624, -0.005979985895676482, 0.025486979487172264, -0.011254158737686499, -0.013883151034242017, -0.010600148639290315, 0.025694189445608247, -0.030149230560336367, 0.00900721265417269, 0.027662696157943475, 0.005177042417293563, -0.01295717611916879, 0.00722649083978498, -0.016628699281663738, -0.01652509337112318, 0.01758705255718007, 0.004205740032774162, -0.015191172162356955, -0.009984990524516199, 0.00041280357744917235, -0.020008832101331895, -0.012691686788315852, 0.006213098728731457, -0.008515085976088884, 0.008528036016414527, -0.008605740914981232, 0.006993378472391289, 0.009486388360608286, -0.0033671820808505865, -0.016266079526094348, -0.01921883959459719, 0.006009125116223675, 0.02156291703415002, -0.006727889141538351, -0.0136370881608614, 0.006128919275663216, 0.014427080667596105, -0.030667260113039167, -0.021174395335284205, 0.019283592590193112, -0.026548936810584015, 0.018882121782324224, -0.033853132083274416, 0.0009324504591049945, -0.010146873944828575, 0.014932158317328125, 0.008955409698902411, -0.013973805973134365, 0.0019490804876935517, -0.017884917454508396, 0.005714496564823544, -0.015074615280168183, 0.036132454664586186, 0.017962621421752534, 0.008482708546968353, -0.022780282292050043, 0.002651656031278605, -0.0177036075767237, 0.012031201204095562, 0.013986756944782578, 0.029190879147465175, -0.00892303320110445, -0.004380574424734752, 0.02104488934409236, 0.02509845778830645, -0.011176454770442363, -0.009887860099799745, 0.04198617091499902, -0.002909051237682052, -0.01598116560041423, -0.033853132083274416, 0.012633408347221466, 0.010166300402300894, -0.0038819724936574804, 0.01271111324578817, -0.00018201804673521644, 0.0035484919586352822, -0.02210684666750411, -0.03165151160656164, 0.018040325388996668, -0.004856512853919578, 0.014971010300950192, -0.010431789733153831, -0.01027638086734299, -0.030926273958067997, -0.02206799375255947, 0.013960855001486153, 0.003755703314055118, -0.004976306547697834, -0.006248712969441472, 0.011040472362103843, -0.007524357134097164, 0.03351641427100145, 0.01993112813408776, -0.035562623087935674, 0.006708463149727318, 0.003150257962355876, 0.025137310703251085, -0.0033089041054174847, -0.023285360873104632, 0.032739370873269814, -0.021239148330880128, 0.03128889185099225, 0.00424459201639623, -0.002909051237682052, -0.03001972456914452, -0.0022857987656278033, 0.022948641198186525, 0.016900664098340783, 0.07060722221110396, 0.001861663291713257, -0.016499193290471892, 0.010321708336789165, -0.015799855722629534, -0.013922003017864086, 0.020928332461903586, -0.012937749661696472, 0.014893306333706056, -0.004937454564075766, 0.008955409698902411, 0.025331571552683993, 0.013138485996953485, -0.015553791917926347, -0.006410596855415134, 0.0033995590443098326, -0.014530686578136665, 0.0076214875588136175, -0.005934658426230308, -0.024204859371031184, -0.02460633204154521, 0.03481148535879074, 0.01805327636064488, 0.002392641953419132, -0.028672851457407514, -0.0008134659100164486, -0.025577634426064613, -0.03144429978548052, 0.006287565418724825, -0.026238119078962334, -0.00028005891202270364, -0.014491834594514598, 0.009861959087825889, 0.001968506479504586, 0.01800147433669717, 0.009104343078889144, 0.018428847087862483, 0.008515085976088884, -0.0146083905453808, -0.005092862964225322, 0.007220015819622159, 0.0038852102365695335, -0.007524357134097164, -0.023855190587110005, 0.02843973955567511, 0.018843268867379585, 0.009933187569245919, 0.001398675717761322, 0.031185287803096828, -0.031806919541049916, -0.00010390913607238956, 0.022093895695855896, 0.019244741537893614, 0.010412363275681513, -0.013909052977538442, -0.015761002807684898, -0.018843268867379585, -0.0261604151117182, 0.020837677523011237, 0.018998678664512995, 0.026186317055014622, 0.009680649210041194, -0.001652833181252716, 0.004471229363627099, 0.002018690563318839, -0.027636796077292188, 0.010548345684020036, -0.016097720619957866, -0.007122885394905704, 0.0034416487708439536, 0.03185872342764276, -0.009492863846432392, 0.012264314037150538, 0.009764828663109435, -0.00024525390331389023, -0.02358322577043296, 0.014919207345679912, -0.0040859458733346204, -0.015191172162356955, -0.023544374718133462, 0.008495659518616566, 0.0066178082108349695, 0.036935400005614245, -0.0016269318200328971, -0.012426197457462915, -0.0064850635454085015, 0.011066373374077697, 0.030045626512440943, -0.03367182220548972, -0.008178367232493348, 0.04496483478944342, -0.0028831497600469123, -0.004568359788343553, -0.02570714041725646, 0.0023068436288948635, -0.01532067908487137, -0.020112438011872458, -0.00584400348733796, 0.006274614447076612, -0.01827343915337421, 0.04434319932620007, 0.006935100031296903, -0.029553498903034568, 0.016719354220556086, 0.015178221190708743, 0.03413804600895453, 0.0014059604064827992, 0.0017111113895164599, -0.002677557276083103, -0.006323179659434839, 0.008612216400805337, -0.009395733421715938, -0.03196233120082846, -0.0019636500979671482, -0.008236645673587735, 0.021770128855231143, -0.019063431660108918, -0.0062713767041645595, 0.0048727011028185585, -0.0006212289409418765, 0.02281913520699468, -0.005458720462706766, 0.03017513250363279, -0.0006111111689646924, -0.024632232122196496, -0.016408538351579544, 0.02869875340070394, -0.00813951524887128, 0.004736718694480037, -0.011150553758468509, -0.010651951594560595, -0.003749227828231012, -0.025383373576631705, -0.01224488757967822, 0.000353716020768906, -0.00022319723083489808, -0.016861813046041285, -0.014375277712325824, -0.0038495957630288766, 0.015152320178734888, -0.03154790755866622, -0.014193967834541129, -0.017612952637831355, -0.016097720619957866, -0.025733042360552884, 0.0031259753561767626, 0.015450186007385786, -0.003729801836419978, -0.005905519671344399], 'query_similarity_score': 0.8505504244240889})]"
      ]
     },
     "execution_count": 38,
     "metadata": {},
     "output_type": "execute_result"
    }
   ],
   "source": [
    "from langchain.embeddings import OpenAIEmbeddings\n",
    "from langchain.retrievers.document_compressors import EmbeddingsFilter\n",
    "\n",
    "embeddings = OpenAIEmbeddings()\n",
    "embeddings_filter = EmbeddingsFilter(embeddings=embeddings, similarity_threshold=0.76)\n",
    "compression_retriever = ContextualCompressionRetriever(base_compressor=embeddings_filter, base_retriever=retriever)\n",
    "\n",
    "compressed_docs = compression_retriever.get_relevant_documents(\"What is Chinese History?\")\n",
    "compressed_docs ## will add a state with embedding and query similarity "
   ]
  },
  {
   "cell_type": "markdown",
   "metadata": {},
   "source": [
    "- ## Pipelines\n",
    "    - ### Stringing compressors and document transformers together\n",
    "    - DocumentCompressorPipeline allows us to string things together.\n",
    "    - BaseDocumentTransformers - can do transformations on the docs -eg. split the text and\n",
    "    - EmbeddingsRedundantFilter - filter out what is not related after a split or transformation"
   ]
  },
  {
   "cell_type": "code",
   "execution_count": 43,
   "metadata": {},
   "outputs": [],
   "source": [
    "from langchain.document_transformers import EmbeddingsRedundantFilter\n",
    "from langchain.retrievers.document_compressors import DocumentCompressorPipeline\n",
    "from langchain.text_splitter import CharacterTextSplitter\n",
    "\n",
    "splitter = CharacterTextSplitter(chunk_size=300, chunk_overlap=0, separator=\". \")\n",
    "\n",
    "redundant_filter = EmbeddingsRedundantFilter(embeddings=embeddings)\n",
    "relevant_filter = EmbeddingsFilter(embeddings=embeddings, similarity_threshold=0.76)\n",
    "\n",
    "## making the pipeline\n",
    "pipeline_compressor = DocumentCompressorPipeline(\n",
    "    transformers=[splitter, compressor, redundant_filter, relevant_filter]\n",
    ")"
   ]
  },
  {
   "cell_type": "code",
   "execution_count": 44,
   "metadata": {},
   "outputs": [
    {
     "name": "stderr",
     "output_type": "stream",
     "text": [
      "Created a chunk of size 304, which is longer than the specified 300\n",
      "Created a chunk of size 399, which is longer than the specified 300\n"
     ]
    },
    {
     "name": "stderr",
     "output_type": "stream",
     "text": [
      "/root/anaconda3/envs/gpt/lib/python3.9/site-packages/langchain/chains/llm.py:316: UserWarning: The predict_and_parse method is deprecated, instead pass an output parser directly to LLMChain.\n",
      "  warnings.warn(\n",
      "/root/anaconda3/envs/gpt/lib/python3.9/site-packages/langchain/chains/llm.py:316: UserWarning: The predict_and_parse method is deprecated, instead pass an output parser directly to LLMChain.\n",
      "  warnings.warn(\n",
      "/root/anaconda3/envs/gpt/lib/python3.9/site-packages/langchain/chains/llm.py:316: UserWarning: The predict_and_parse method is deprecated, instead pass an output parser directly to LLMChain.\n",
      "  warnings.warn(\n",
      "/root/anaconda3/envs/gpt/lib/python3.9/site-packages/langchain/chains/llm.py:316: UserWarning: The predict_and_parse method is deprecated, instead pass an output parser directly to LLMChain.\n",
      "  warnings.warn(\n",
      "/root/anaconda3/envs/gpt/lib/python3.9/site-packages/langchain/chains/llm.py:316: UserWarning: The predict_and_parse method is deprecated, instead pass an output parser directly to LLMChain.\n",
      "  warnings.warn(\n",
      "/root/anaconda3/envs/gpt/lib/python3.9/site-packages/langchain/chains/llm.py:316: UserWarning: The predict_and_parse method is deprecated, instead pass an output parser directly to LLMChain.\n",
      "  warnings.warn(\n",
      "/root/anaconda3/envs/gpt/lib/python3.9/site-packages/langchain/chains/llm.py:316: UserWarning: The predict_and_parse method is deprecated, instead pass an output parser directly to LLMChain.\n",
      "  warnings.warn(\n",
      "/root/anaconda3/envs/gpt/lib/python3.9/site-packages/langchain/chains/llm.py:316: UserWarning: The predict_and_parse method is deprecated, instead pass an output parser directly to LLMChain.\n",
      "  warnings.warn(\n",
      "/root/anaconda3/envs/gpt/lib/python3.9/site-packages/langchain/chains/llm.py:316: UserWarning: The predict_and_parse method is deprecated, instead pass an output parser directly to LLMChain.\n",
      "  warnings.warn(\n",
      "/root/anaconda3/envs/gpt/lib/python3.9/site-packages/langchain/chains/llm.py:316: UserWarning: The predict_and_parse method is deprecated, instead pass an output parser directly to LLMChain.\n",
      "  warnings.warn(\n",
      "/root/anaconda3/envs/gpt/lib/python3.9/site-packages/langchain/chains/llm.py:316: UserWarning: The predict_and_parse method is deprecated, instead pass an output parser directly to LLMChain.\n",
      "  warnings.warn(\n",
      "/root/anaconda3/envs/gpt/lib/python3.9/site-packages/langchain/chains/llm.py:316: UserWarning: The predict_and_parse method is deprecated, instead pass an output parser directly to LLMChain.\n",
      "  warnings.warn(\n",
      "/root/anaconda3/envs/gpt/lib/python3.9/site-packages/langchain/chains/llm.py:316: UserWarning: The predict_and_parse method is deprecated, instead pass an output parser directly to LLMChain.\n",
      "  warnings.warn(\n",
      "/root/anaconda3/envs/gpt/lib/python3.9/site-packages/langchain/chains/llm.py:316: UserWarning: The predict_and_parse method is deprecated, instead pass an output parser directly to LLMChain.\n",
      "  warnings.warn(\n",
      "/root/anaconda3/envs/gpt/lib/python3.9/site-packages/langchain/chains/llm.py:316: UserWarning: The predict_and_parse method is deprecated, instead pass an output parser directly to LLMChain.\n",
      "  warnings.warn(\n"
     ]
    },
    {
     "data": {
      "text/plain": [
       "[_DocumentWithState(page_content='\"China\\'s history down into the three large periods--\"Antiquity\", \"The Middle Ages\", and \"Modern Times\"\"', metadata={'source': '/root/workspace/data/Adv_RAG_temp_data/chinahistory.txt'}, state={'embedded_doc': [0.015720563599641173, 0.004834137000035384, 0.018041462108573336, -0.015682094392487713, -0.01895186896712192, 6.423844686951297e-06, -0.027543041488473273, -0.026235131286090587, -0.023375682503459966, -0.010386342273432044, -0.005994586720162715, 0.03482630567008694, -0.007385843766969564, -0.004943129672121024, -0.001565164061242393, 0.01596419384015143, 0.011001829098792425, 0.006584428183522871, 0.0050777672405456385, 0.0013880513183491651, -0.02736352535145545, 0.019413484551803455, -0.0019586589930397783, -0.022837130367116508, -0.004651414319652693, 0.013656116848066252, 0.019503243551634866, -0.032056612161997726, 0.007296085232799405, -0.010565859341772363, -0.004125686028462472, -0.0001565765142604166, -0.01020041398100698, -0.03210790195467568, -0.014335716845596569, -0.0007881919681106596, -0.010296584204923133, -0.00806544376449988, -0.015053785118957845, 0.01578467584048861, 0.01640016266584899, 0.0008567129732541688, 0.007603828645479595, 0.02913304927587467, -0.003442880186059159, 0.0013095126591579317, 0.025991501045580335, -0.02177285040524408, -0.005770190151906691, -0.00245072812495447, 0.023247456159120095, 0.024363025913670473, 0.0006279089212705085, -0.008033386712753663, -0.009450289587221985, -0.02419633036217714, -0.005584261859481628, 0.029517728308894285, -0.0017567024075722313, -0.010040131516243393, 0.00857193791777462, 0.02531190197937252, -0.010258115929092173, 0.019387839655464482, -0.026286422941413534, -0.017515732420399367, 0.005295752584716918, -0.0011115630887433496, 0.019541710896143327, -0.005039299430375926, 0.023875765432649965, 0.0003225696594144409, 0.00905919839879513, 0.01007218763666711, 0.03982713496198691, -0.00736019840496934, -0.002962030929123393, -0.006395294279055437, -0.014887090498787012, 0.008943794502624747, 0.005625935281693711, -0.021695915716227157, 0.028414981002513395, 0.004568067475228526, 0.014156199777256248, 0.015130720739297268, 0.0033242706778464034, 0.040186170961312544, 0.01764395876473924, -0.006866526234202837, 0.008059032540415137, -0.004263529674590707, 0.023875765432649965, 0.023580843536816762, -0.005741339177864095, 0.006366443305012841, -0.01339966415938651, 0.0345698492561172, -0.008488591073350454, -0.006693420855608511, -0.006789590613863415, 0.01542564170380797, -0.00898867400254045, -0.007744877437988953, -0.03079999361493799, -0.014438298293597465, 0.020311068962182554, -0.02540165911655893, 0.031261609199619525, -0.01890057917444397, -0.021272767476054083, 0.02296535671145638, 0.01300216174687491, -0.05000831527073966, 0.010027308136751406, -0.008527059349181415, -0.0035614896942719144, -0.01119416954662473, 0.0038019143227397975, -0.01647709921751091, -0.017759362660909623, 0.034621142774085144, 0.01934937044831102, -0.011360863235473063, 0.028414981002513395, 0.022939711815117406, -0.03492888525544283, -0.012046875388410622, -0.008257783281009687, 0.0036159857974841095, 0.020157197721503706, 0.031800159473317983, 0.002259991181635225, 0.023016648366779326, -0.028491917554175315, -0.015053785118957845, -0.02477334984302906, 0.015335883635299061, -0.00047043078496743267, -0.039647616962324085, 0.00808467743675411, 0.011008240322877168, -0.016630970458189755, -0.009290006191135897, -0.004257117984844714, 0.016387340217679503, -0.03133854388863645, 0.020682925547032677, -0.003869233106952105, 0.00855270424552039, 0.025927388804732898, -0.0035935462803568822, 0.0219523684049069, 0.018490253382440387, 0.019618647447805247, 0.01188018076823979, -0.00012622290957295886, -0.014207490501256697, 0.0024234799569330602, -0.01260466026568581, -0.002732826175634436, -0.0019490420404973503, 0.020093085480656272, -0.021016314787374344, 0.006840881337863863, 0.009322063242882116, 0.02446560736167137, -0.012444376869599722, -0.015220479739128677, -0.022016480645754337, -0.018797997726443076, 0.00317360458354868, -0.01670790700985168, -0.006084345254332875, 0.00026667095541456744, 0.026260776182429564, 0.023568021088647275, 0.018131219245759746, -0.02715836245545366, 0.002623833736379421, -0.01238667492151453, -0.03410823739672566, 0.00866169691760603, -0.008918149606285772, -0.039878424754664854, 0.004750790155611217, -0.01027093837726166, -0.009860614447903072, 0.016336050425001553, -0.027619978040135194, 0.01631040366601758, 0.015900079736658992, 0.01072614273785845, 0.00015737793182292359, -0.6794976042094599, -0.02564528935706918, -0.03539050084012437, -0.018015815349589362, 0.016361695321340526, 0.002636656417379533, -0.004135302864589587, -0.004282763346844938, -0.011707074923984213, -0.022272935197079076, 0.0008098301986426066, 0.020554699202692806, 0.004353288208760867, -0.011636550527729534, -0.02631206783775251, -0.0145024114657674, 0.004798874801908044, -0.012476433921345939, -0.0028834922699321596, -0.003991048460037857, 0.001023407360594376, 0.004606535285398237, -0.014771687533939128, 0.020952202546526907, -0.014361362673258042, 0.014451120741766951, 0.006209365986630373, -0.007315318905053636, -0.002394628982890464, 0.03641631159484334, -0.030312733133917483, -0.006452996227140628, 0.03387742960438489, 0.012521312489939145, 0.030671767270598123, -0.005875977211949959, -0.015092253394788806, 0.031261609199619525, 0.03587776132114488, 0.030261441478594536, -0.008424477901180519, -0.00204360910914638, 0.004487925777185482, -0.0007982096803660401, 0.011713486148068957, 0.02081115375401755, 0.03669840917986206, -0.018067107004912313, 0.02247809623043587, -0.0036063689613569944, 0.014387007569597016, 0.002628642154442979, 0.0002668713061672157, 0.00363521993539959, -0.00564196380756682, 0.0017166315585507093, 0.01591290218482848, -0.007853869644413343, 0.004279557734802567, 0.002457139349039214, -0.014207490501256697, 0.02282430791894702, -0.004160948226589811, 0.00357110653039903, -0.02287559957426997, 0.025837629804901487, -0.03672405407620103, 0.019375017207294995, 0.018310737245422565, 0.0026959611714859107, 0.003930140899910293, 0.01481015487844759, -0.013951037812576955, -0.02974853610123505, -0.00140167540235987, 0.02535036932388098, 0.02636335763043046, -0.004282763346844938, -0.026594165422771227, -0.002944399830059723, 0.011309572511472615, -0.0013567961352747902, 0.003891672856909957, -0.00736019840496934, 0.001593213632274396, 0.022901244470608945, -0.011540380303813382, 0.009847791068411086, -0.00033579301281602133, 0.005494503325311468, -0.015233302187298164, -0.005776601375991434, 0.004279557734802567, 0.0006948270621851755, -0.003609574573399366, 0.026260776182429564, -0.010386342273432044, -0.018977513863460894, -0.004138508476631959, -0.014861445602448039, 0.002003538260124858, 0.012418731973260747, 0.010649207117519028, -0.002904329213868826, -0.018656948933933718, 0.018580012382271794, -0.00640170550314018, -0.014092086605086313, 0.04749507817662019, -0.021131718683544725, 0.01498967194678791, 0.008475768625180968, -0.013745875847897661, 0.012559780765770105, -0.01577185339231912, -0.01406644170874734, 0.023196164503797148, 0.009911904240581021, 0.004859782362035607, -0.009995252016327687, 0.008943794502624747, 0.009706742275901728, 0.013117565643045294, -0.023555198640477785, -0.0026350536113583472, 0.028491917554175315, 0.005879182823992331, 0.00362560286644185, -0.014925558774617974, 0.0052091996625891306, 0.008180847660670263, -0.011059531046877616, 0.03274903553902003, -0.004209033338547888, 0.02084962109852601, 0.005241256248674098, 0.03946810268795126, -0.022939711815117406, 0.016028306080998863, -0.002330515810720529, -0.0035935462803568822, -0.0053406316189713735, -0.0019298081354124947, -0.025850452253070977, 0.01428442612159612, -0.01851590014142436, -0.003651248228442074, 0.009437467139052498, -0.01088642520262204, 0.003821148227824653, -0.017708072868231672, -0.02226011088626459, -0.018810820174612563, 0.0013872499153385722, -0.018092751901251286, 0.01383563391640657, -0.0017967731401784411, -0.011424976407642999, -0.0034364689619744153, -0.025491418116390337, 0.0029860734851024314, 0.018490253382440387, -0.02997934389357582, 0.0019282052129759963, 0.024632301050519702, -0.007244794508798957, -0.0053919223429718215, 0.017092586042871293, -0.01815686600474372, -0.031107736096295684, -0.002237551664507997, -0.00234173545286883, -0.02117018602805319, 0.012925226126535488, -0.006834469648117869, 0.021439463027547415, -0.02190107861222895, -0.013681762675727726, 0.00923871546713545, -0.02132405913137703, 0.024670768395028162, 0.013502245607387407, -0.02345261719247689, -0.018528722589593847, 0.006520315011352936, 0.003075832019272591, 0.0007340964499884485, -0.009463112035391474, -0.00909766667462609, 0.023619312743970222, -0.006725477441693479, 0.019823808481162043, 0.0099824295681582, -0.024888753739199444, 0.009469523259476217, 0.001429724973391873, -0.008219315005178725, -0.011399331511304024, 0.028158528313833652, 0.013008572970959654, 0.03292855353868285, -0.0038724387189944766, -0.012258448577174659, -0.00234173545286883, 0.01564362704797925, -0.02058034596167678, 0.01379716564057561, -0.023080760607626764, 0.01357918122772683, 0.019323725551972048, 0.01596419384015143, -0.00875145498611494, -0.03364662181204413, -0.02081115375401755, -0.023568021088647275, 0.028363691209835444, -0.000824656387169201, 0.004295586260675675, -0.004612946509482981, 0.006872937923948831, 0.0036320140905265934, 0.0029700451920599475, 0.003115902635463488, 0.007283262318968668, -0.05121364402512144, 0.004372521881015098, -0.005619524057608968, 0.008328307677264366, 0.0005826289526801322, -0.020041793825333325, -0.02242680643775792, 0.011925060268155494, 0.0028850950759533455, 0.004276352122760195, 0.0030533922693147387, 0.03285161512437593, 0.02187543185324498, -0.020798329443203062, 0.007071688664543381, -0.005247667472758842, -0.016887423146869498, 0.0009368544966742444, 0.022067772301077284, -0.021965190853076386, -0.007725643765734722, -0.0007645502300522303, 0.020516231858184346, 0.014476766569428425, -0.010931304702537744, -0.007308907680968891, 5.086482949395172e-05, 0.013220147091046191, -0.019310903103802558, -0.00764870767973405, 0.021041959683713318, -0.009405410087306281, 0.008225727160585969, 0.004888633336078203, 0.020888088443034473, 0.026119727389920206, -0.006138841124714445, -0.0038275594519093965, -0.0020099497170402263, 0.0009616983974562193, 0.03108209119995671, -0.004949540896205767, 0.001380838574838516, -0.006218982822757489, -0.018054284556742822, -0.0005429588633715628, 0.0016461070458807178, -0.021311236683207543, 0.03269774574634208, -0.016784841698868604, -0.0006327173975417224, -0.010373519825262557, -0.0003804719291484529, -0.02454254205068829, -0.0028418186148894517, 0.015951369529336942, -0.03421081698208156, -0.0344672696707613, -0.00024643520925498626, 0.012008407112579661, -0.01851590014142436, -0.012444376869599722, -0.013085509522621577, 0.015092253394788806, -0.01604112852916835, 0.036518894905489235, 0.008238549608755455, -0.007667941817649531, 0.012630305162024784, -0.009405410087306281, -0.02040082796201396, 0.006334386718927873, 0.017964525556911415, -0.004619357733567725, -0.0021942752034441034, 0.005908033798034927, -0.0059561184443317535, -0.004981597482290735, 0.001629277349827641, 0.006523520623395307, 0.020170020169673196, -0.0005569836488875643, -0.002219920332613703, 0.01666943780269822, -0.013951037812576955, -0.012258448577174659, -0.0029572225110598353, -0.02050340941001486, 0.002128558992422357, -0.00773846621390421, 0.005577850635396885, 0.02141381813120844, -0.008578349141859364, -0.002958825317081021, 0.036031630699178724, -0.022439628885927407, 0.00996319496458147, -0.02199083574941536, -0.02692755466311289, -0.004064778468334908, 0.07421746994373128, 0.0009336488264242163, -0.005513737463226949, 0.025196498083202134, 0.00016058358752103755, -0.010553036893602876, -0.0029427970240385373, -0.009956783740496727, 0.017400328524228983, 0.009745210551732688, -0.004074395304462023, 0.013040630022705871, 0.009200248122626988, 0.02442713815451791, 0.003274582992697766, -0.0001990515286579754, -0.0008278619992115728, -0.011008240322877168, 0.00866169691760603, 0.0014080867428599261, 0.0074691906113937305, -0.0227473713672851, 0.008347542280841096, 0.018259447452744618, -0.019541710896143327, -0.025055449290692776, 0.01701564949120937, -0.001235782418030256, 0.006241422572715341, -0.014835800706109063, 0.011219814442963704, 0.005247667472758842, -0.009770855448071663, 0.00032437284529210315, -0.0026574931284855745, 0.03285161512437593, -0.001630078752838234, 0.01657968066551181, 0.014887090498787012, -0.01099541787470768, -0.0023208987417627884, 0.015707739288826687, 0.015977016288320916, -0.033774846293738996, -0.017554201627552828, -0.0025164441031455915, -0.0032922140917614356, 0.009706742275901728, -0.006808824286117646, -0.005927267470289158, 0.009104077898710835, -0.011694252475814727, -0.026876264870434943, -0.03154370678463824, 0.016643792906359246, -0.007905160368413792, 0.012213569077258955, 0.0019522476525397222, 0.014515233913936887, -0.027004491214774815, 0.023478263951460864, -0.023734716640140603, 0.01560515877214829, -0.023952700121666885, -0.0012990941871895984, -0.017861944108910517, -0.006174103788503034, 0.0046450030955679485, -0.019823808481162043, 0.014758864154447143, -0.012008407112579661, 0.009911904240581021, 0.006142047202418066, 0.01565644949614874, 0.016015483632829376, -0.0018192127737209811, 0.017002827043039882, -0.012361030025175555, -0.004125686028462472, 0.02027260161767409, 0.020170020169673196, -0.015528223151808867, -0.012790588558110874, -0.0305948307189362, 0.004084012606250388, 0.022324224989757026, -0.017836299212571544, -0.015541045599978355, -0.00786669302390533, 0.004491131389227854, 0.011008240322877168, -0.015759030944149634, 0.016759196802529627, -0.017951703108741928, -0.0187723528301041, -0.022798663022608048, -0.012072520284749597, 0.017425975283212956, -0.006042671366459542, -0.007238383284714212, -0.0012590234545833887, -0.009533636431646153, -0.0024186713060388777, -0.020016148928994348, 0.002692755559443539, 0.005494503325311468, -0.025452950771881876, -0.0059048281859925555, -0.021695915716227157, 0.005888799660119446, 0.013143211470706767, -0.029774180997574024, 0.018002992901419875, 0.007180681336629021, 0.003414029212016563, 0.005555410885439032, 0.018708238726611665, 0.028491917554175315, -0.01000166324041243, -0.02887659658719493, -0.02256785523026728, -0.004914278698078428, 0.0006796001721532846, 0.035903406217483856, -0.01397668270891593, 0.029671601412218127, -0.027568686384812247, 0.003093463118336261, -0.010854369082198322, -0.016259113873339632, -0.009533636431646153, 0.03869874089662204, -0.008527059349181415, -0.013617648572235292, -0.008719398865691222, 0.0006735895913661812, -0.020118730376995245, -0.00573172234173698, -0.00972597594815596, 0.017464442627721417, -0.0009176205333817324, -0.0061067845386294775, -0.0013880513183491651, 0.0058246864879495115, 0.01379716564057561, -0.02159333426822626, -0.003907701149952441, -0.006860115010118094, 0.017836299212571544, 0.014912736326448487, -0.007783345713819914, -0.032774680435359006, -0.0009608969362379701, 0.03303113312403875, -0.02636335763043046, -0.036134214009824625, -0.007687175489903761, -0.005936884772077523, -0.0021702326474650653, 0.02795336541783186, 0.025811984908562513, 0.010456866669686723, 0.004766818215823076, 0.026106904941750716, -0.023786006432818554, 0.023337213296306506, 0.00014124944885220156, 0.003564695306314286, -0.03187709416233491, 0.005577850635396885, 0.009155368622711282, 0.014887090498787012, 0.0008647271197754106, -0.0033787670138892235, 0.002497210198060736, 0.010335051549431595, -0.0065299318474800515, -0.002651081904400831, -0.006218982822757489, -0.04649491231824019, -0.011078765650454346, 0.0038724387189944766, 0.0006214975807704524, 0.008379598401264813, -0.007783345713819914, -0.020682925547032677, 0.04121198171603151, -0.009354119363305833, -0.0005501716068822117, -0.005032888206291183, 0.020246956721335117, -0.025183675635032647, 0.023426972296137914, -0.032518227746679264, -0.003375561401846852, -0.01697718214670091, 0.016682262113512706, -0.021195832787037162, -0.0025869687322308955, 0.0006924228531533966, -0.0022327430136138146, 0.020926555787542933, -0.002877081045847416, -0.021221477683376136, -0.0037442123746546053, 0.0059048281859925555, 0.00611319622837547, -0.021747205508905108, -0.03169757988796209, -0.017708072868231672, -0.014566524637937336, 0.0031062857993363726, -0.002383409107911538, -0.025850452253070977, 0.027260943903454554, 0.0029780592221658768, -0.005238050636631727, 0.022503741126774845, -0.01565644949614874, -0.009200248122626988, 0.028440625898852368, -0.010501746169602427, 0.04503313087517866, -0.008539881797350903, 0.03859616131126614, -0.004516776751228078, -0.010232471032753198, -0.0072512057328837, -0.0035614896942719144, -0.016246291425170145, -0.005228433334843362, 0.01379716564057561, 0.011540380303813382, 0.018438963589762436, -0.006235011348630598, 0.017131053387379754, 0.005436801377226277, -0.010681263237942747, -0.01868259383027269, 0.0320822570583367, -6.47643775996555e-05, -0.0025853656933790847, -0.003667276521484558, -0.0015347102811786113, -0.004718733569526249, 0.009507991535307177, -0.0053919223429718215, -0.003232909337655058, -0.014463943189936438, -0.013681762675727726, -0.010302995429007877, 0.02547859566822085, -0.026748036663450072, 0.012777766109941385, -0.0015924122292638031, -0.010681263237942747, 0.01551540070363938, -0.022555032782097792, 0.014835800706109063, 0.0038660274949097327, -0.028158528313833652, 0.013617648572235292, -0.020695749857847164, -0.013079098298536833, -0.014387007569597016, 0.024055281569667783, -0.022375514782434974, -0.010309406653092622, -0.015579513875809315, 0.026440294182092382, -0.013809989020067597, 0.00033599336356866956, -0.01864412648576423, 0.02027260161767409, 0.007687175489903761, 0.005802246737991659, -0.005055327956249036, -0.015669271944318226, -0.02785078583247596, 0.008315485229094878, -0.004253912372802342, 0.008546293021435647, -0.016541211458358348, -0.005773395763949063, -0.006917816958203285, 0.007437134025308763, -0.010681263237942747, -0.005266901610674323, 0.005420773317014418, -0.039186001377642554, -0.01498967194678791, 0.015374350979807522, 0.007373020853138827, 0.01723363483538065, 0.0019730844800610763, -0.01828509234908359, 0.006340797943012616, 0.0328772600207149, -0.006738299889862966, 0.04526393866751943, 0.006273479158800309, 0.0004275550836164914, -0.014604992913768296, -0.021221477683376136, 0.002566131788294229, -0.0171823450427027, 0.02090091089120396, -0.021503575268394852, -0.018413318693423462, -0.025658111805238668, 0.019426306999972942, 0.022849952815285998, -0.0105273919972639, -0.009642629103731792, 0.010123478360667558, -0.021311236683207543, -0.0073473754911386035, -0.014976849498618421, -0.02631206783775251, 0.03187709416233491, -0.010495334945517684, 0.010431221773347748, -0.02340132739979894, -0.009232304243050705, 0.03356968339773721, -0.00884121398594635, 0.000352422387220278, 0.029415146860893387, -0.013130388091214782, 0.01565644949614874, -0.031492416991960294, 0.016900245595038985, -0.037929382830582815, 0.007699998403734498, -0.02151639771656434, -0.013540712951895868, -0.002976456416144691, 0.016554033906527835, -0.00934770813922109, 0.02882530679451698, 0.006674186717693031, 0.008405244228926289, 0.019593000688821277, 0.02070857230601665, 0.008539881797350903, -0.0019217938724759402, 0.018054284556742822, -0.010219647653261213, -0.025273432772219058, -0.007719232541649979, -0.007411488663308539, 0.0415197241973892, 0.018015815349589362, 0.014169023156748235, -0.011527557855643895, 0.009623395431477562, -0.003369149944931483, -0.011655784199983766, 0.013643294399896765, 0.01640016266584899, 0.007879515472074817, 0.018567189934102307, -0.00286586117086849, -0.016784841698868604, -0.0007585395910574707, 0.001397668270891593, -0.005398333567056565, 0.006578016959438128, -0.01222639245675094, -0.03474936725578002, -0.003981431158249492, 0.02692755466311289, -0.010277349601346403, 0.0028017479986985542, 0.02269608157460715, -0.030440959478257354, -0.016554033906527835, 0.02093938009835742, 0.01000166324041243, -0.013104743194875807, -0.016938714802192445, 0.0038756445638674733, -0.0027456488566345483, -0.0003013321594916185, 0.023657780088478682, -0.04398167149883072, -0.013040630022705871, -0.004590506759525129, -0.01591290218482848, -0.02208059474924677, 0.01189941444049402, -0.03372355650106105, -0.0020211693591885276, 0.00024062495011670305, 0.01634887287317104, -0.006077933564586881, -1.9246488852530916e-05, 0.005080973318249259, 0.03010757023791569, 0.011046708598708129, -0.0036704821335269296, 0.03408258877509669, -0.007950039868329496, -0.0016396957053806617, 0.00938617641505205, -0.003917317986079557, -0.02146510792388639, 0.006170897710799413, 0.003240923600591612, 0.0033659443328891113, 0.02569658101239213, -0.022234465989925616, 0.0030341583642298827, 0.0012734489416046867, -0.011232636891133192, -0.016143709977169247, 0.006904994510033798, -0.03336452422702541, 0.0171823450427027, 0.020336715721166524, 0.0052701072227166945, 0.01170066369989947, 0.00978367789624115, -0.02486310884286047, -0.007533303783563666, -0.009751621775817433, -0.025581177116221748, -0.018810820174612563, 0.006286301606969797, 0.014964027050448934, 0.0013720230253066812, 0.016784841698868604, -0.01878517527827359, 0.00952722520756141, -0.009758032999902176, 0.006629307683438576, 0.21398429330760058, 0.005690048919524897, 0.005754162091694832, 0.03090257506293889, -0.0050585335682914075, 0.025991501045580335, 0.009270772518881667, 0.0055009145493962125, 0.008418066677095775, 0.002401040206975208, -0.01207893150883434, 0.002457139349039214, 0.006642130131608063, 0.005667609169567044, -0.006193337460757265, -0.04085294571670587, -0.017156698283718727, -0.013604826124065803, -0.00017500907454233552, -0.023862942984480474, 0.013284260263216127, -0.010123478360667558, -0.008533470573266158, -0.03839099841526435, -0.0052797240588438096, -0.014156199777256248, 0.00363521993539959, 0.00023701857836137856, 0.01432289439742708, -0.0026606987405279467, 0.0020965024063373896, -0.006100373314544733, 0.007834635972159113, 0.004930307223951536, -0.03962197206598511, -0.012809822230365104, -0.0004267536515020704, -0.006225394046842233, 0.0017374683860720632, 0.010931304702537744, 0.007443545249393506, 0.001809595821178553, 0.0073473754911386035, 0.005052122344206664, 0.05313704105286451, 0.004282763346844938, -0.01547693242780842, 0.0022664024057199683, 0.015630804599809763, 0.018708238726611665, -0.007405077439223795, -0.005430390153141533, 0.0210547839945278, 0.03654453980182821, 0.006084345254332875, 0.014271603673426633, 0.02636335763043046, 0.023734716640140603, 0.01405361926057785, -0.01714387583554924, 0.0028706695889320474, 0.025183675635032647, -0.0029668395800175754, -0.0004684272483371222, 0.004731556017695737, 0.029056112724212747, -0.02151639771656434, -0.00925795007071218, 0.018541545037763334, -0.037519060763869225, -0.0029812650670388735, -0.006629307683438576, -0.029363857068215437, -0.007623062317733825, -0.009245126691220193, -0.019516065999804353, 0.04782846555431685, 0.024042459121498296, -0.0002544493557762282, 0.015502578255469893, -0.023965524432481372, -0.02790207562515391, -0.009142546174541796, 0.010533803221348646, 0.0015371146066257026, -0.03600598580283975, 0.03090257506293889, -0.00012211566093601377, -0.007988508144160458, 0.011764776872069406, -0.008886092554539555, -0.006956284768372997, 0.019618647447805247, 0.010617150065772811, 0.01524612463546765, 0.01828509234908359, 0.007706409627819242, -0.014643460258276758, -0.0039012896930370727, -0.010277349601346403, -0.023786006432818554, 0.02944079361987736, 0.02808159176217173, 0.016990004594870396, -0.01643863001035745, 0.004228267010802119, -0.023208986951966635, -0.0009528827897167282, 0.014463943189936438, -0.00439496163097295, 0.0018945458208698427, 0.016143709977169247, 0.013207324642876703, -0.010104244688413328, 0.0037025387196118974, -0.007334553042969116, 0.005574645023354512, -0.0399297182726328, 0.014027973432916377, 0.007456368163224244, -0.01647709921751091, -0.03303113312403875, 0.002623833736379421, 0.0009865422400305382, -0.010386342273432044, -0.009398998863221538, 0.007879515472074817, 0.00462897503535609, 0.029543375067878255, -0.014245958777087658, 0.022490918678605358, -0.026465939078431356, -0.0009496771194667002, -0.0029460026360809094, -0.010418399325178261, 0.02177285040524408, 0.00038808537416439834, -0.0013471791827323624, 0.010110655912498072, 0.0172849246280586, 0.016938714802192445, -0.007911571592498536, -0.013156033918876256, -0.009943961292327238, 0.018541545037763334, 0.012053286612495365, -0.010142712032921788, 0.0049880087063754784, -0.029594664860556206, -0.022067772301077284, -0.0345698492561172, -0.0014850225960299738, -0.007411488663308539, -0.00042234587673615294, 0.01960582499963576, 0.009104077898710835, -0.03718566966088256, 0.007315318905053636, -0.007148624750544053, 0.020118730376995245, -0.01240590952509126, -0.027260943903454554, 0.024080926466006757, 0.002285636543635449, -0.005148292102461567, -0.008039798868160905, -0.1626937257693322, 0.02504262497987829, 0.04641797390393327, 0.017207989939041674, 0.01902880551878384, -0.011546791527898125, 0.03382613608641695, -0.0027905281237196283, -0.0018160070452632967, -0.001218151318966586, 0.01819533334925218, 0.013809989020067597, -0.04364828412113406, -0.00826419450509443, 0.01459217046559881, 0.009834968620241599, -0.043007150536789704, 0.023657780088478682, 0.01670790700985168, 0.006119607452460214, 0.014245958777087658, 0.0032457320186551697, -0.0038756445638674733, -0.011585259803729087, -0.00010949336706833508, 0.03469807746310207, 0.01784912166074103, -0.02000332648082486, -0.009604160827900832, -0.010187591532837494, -0.025324724427542005, -0.0152974153594681, -0.008623228641775069, -0.006462613063267744, -0.004035927494292312, 0.013912569536745995, -0.007962862316498984, -0.013784343192406123, -0.014271603673426633, 0.006597251097353608, 0.017861944108910517, 0.021747205508905108, 0.028414981002513395, -0.011174934943048, 0.0024218771509118744, 0.03636502180216539, -0.012040463233003378, -0.01502814022261887, 0.009655451551901279, -0.007462779387308987, -0.005609907221481852, -0.0005485688008610259, 0.02882530679451698, 0.003016527265166213, 0.006533137459522423, 0.00788592669615956, -0.010476101273263453, 0.016451454321171937, 0.02327310105545907, 0.008745043762030197, 0.0035037877461867226, -0.0002814971148373338, 0.003289008479719064, -0.017066941146532316, -0.010411988101093518, 0.013463777331556445, -0.006350414779139732, -0.00817443643658552, -0.0037858860296973136, 0.014643460258276758, -0.007546126697394403, -0.01834920458993103, 0.003061406532251293, -0.012066109060664852, 0.015310237807637586, 0.0061580752626299255, 0.00016789650640801067, 0.0022471685006351127, 0.011174934943048, -0.006013820392416946, -0.019362194759125508, 0.01542564170380797, -0.026696746870772125, -0.004196210424717151, 0.007898749144329049, 0.028927886379872876, -0.00362560286644185, -0.0018304325322845948, -0.020182842617842683, -0.017387506076059496, -0.0038307652967823932, -0.01764395876473924, -0.02887659658719493, 0.00607472795254451, 0.007776934024073921, 0.004071189692419651, -0.012598249041601067, -0.015874434840320018, -0.023414149847968427, -0.020529054306353833, 0.00477322943990782, -0.024055281569667783, -0.007744877437988953, 0.017759362660909623, 0.006382471365224699, 0.029594664860556206, 0.007392254991054308, -0.008866858882285323, 0.024311734258347525, 0.00406798408037728, -0.007424311577139276, 0.014399830017766504, 0.013130388091214782, 0.02564528935706918, -0.011457033459389216, 0.03182580436965696, -0.006937051096118766, -0.010681263237942747, -0.0017118231404871515, 0.020836798650356522, 0.03687792717952487, -0.006706243303777998, -0.006725477441693479, 0.032774680435359006, 0.019144209414954226, -0.0076102398695643385, -0.09560564131595575, 0.00886044765820058, -0.009270772518881667, 0.02504262497987829, 0.01481015487844759, 0.02803030196949378, -0.004590506759525129, -0.009706742275901728, -0.0025388836202728192, 0.003133533967357783, -0.004680265293695288, -0.030081925341576714, -0.01863130403759474, -0.006033054530332426, 0.05103412602545862, -0.011784010544323638, 0.003260157505676468, -0.024516897154349317, -0.005074561628503266, 0.017387506076059496, -0.025760693253239566, -0.008033386712753663, 0.021747205508905108, -0.032902908642343874, 0.014258781225257144, -0.01965711479231371, -0.027876430728814936, 0.009629806655562305, 0.007719232541649979, 0.0028866978819745313, -0.0267223917671111, -0.00357110653039903, -0.031235962440635555, -0.013027807574536384, 0.01121340321887896, -0.023927055225327912, -0.004359699432845611, 0.00866169691760603, 0.020913733339373446, -0.03485195056642591, 0.0022070978844442152, 0.015169189015128228, -0.002187863746528735, -0.027235297144470583, 0.004455869191100514, -0.03085128340761594, -0.02833804631349647, 0.02728658879979353, -0.003274582992697766, -0.01992638992916294, -0.003157576290506196, 0.011841712492408828, -0.01607959773632181, -0.027184007351792633, 0.005917650634162042, 0.0029940875152083607, 0.004193004812674779, -0.004555244561397789, -0.004920689922163171, 0.015553868048147842, 0.00676394525186319, -0.010309406653092622, -0.014707573430446694, 0.013771520744236636, 0.03103080140727876, 0.001475405643487546, -0.00609396209045999, 0.003987842382334236, 0.0026029970252733794, -0.038160190622923584, -0.019580178240651787, 0.021965190853076386, -0.024363025913670473, 0.006648541355692807, -0.026824973215111993, 0.0016461070458807178, -0.006783179389778671, 0.011719897372153702, 0.027337878592471478, -0.01148267835572819, 0.0014273206479447817, -0.019387839655464482, 0.0008254577901797939, -0.008091088660838854, 0.03654453980182821, 0.008975851554370964, 0.002933179955080797, -0.015438465083299957, -0.005484886489184353, -0.021836964508736515, 0.012162278353258506, 0.028235464865495573, 0.03041531458191838, -0.011758365647984662, 0.006295918908758162, 0.01834920458993103, 0.006975518906288477, -0.01661814801002027, -0.022734548919115614, 0.023170519607458175, -0.007071688664543381, -0.011963527612663956, -0.06083062916383676, 0.009174602294965514, 0.015810320736827584, -0.00244111105599673, 0.007924394971990522, 0.002173438259507437, 0.002809762028804484, -0.028363691209835444, -0.030876930166599915, 0.008482179849265711, -0.0004728350231030396, 0.011149290046709025, -0.0013327536957110644, -0.0017374683860720632, -0.02200365819758485, -0.019759696240314605, 0.008078266212669367, -6.015623752917576e-05, 0.016374517769510016, 0.00048605837650462006, 0.012380263697429787, -0.017861944108910517, 0.021580511820056773, 0.029415146860893387, -0.027696912729152118, 0.011380097839049794, -0.011514735407474408, 0.029722891204896077, -0.026773683422434046, -0.009251538846627435, 0.019631469895974737, -0.005215610886673874, 0.013271437815046638, 0.008315485229094878, -0.0011612507738919871, -0.03559566373612617, -0.006706243303777998, 0.02591456635656341, 0.01947759865529589, 0.06006127109779753, -0.0002578553767789045, -0.01068767446202749, 0.017605491420230775, -5.979309633303307e-06, -0.004404578467100066, 0.01666943780269822, -0.013912569536745995, 0.021580511820056773, 0.014681928534107718, -0.008674519365775518, 0.012110988560580557, -0.00021197435593058346, -0.013463777331556445, -0.0004944732245311585, 0.008315485229094878, -0.018015815349589362, 0.00828342910867116, -0.020067438721672298, -0.009072021778287117, -0.018528722589593847, 0.03131289899229748, 0.014438298293597465, 0.014758864154447143, -0.017131053387379754, -0.009181013519050258, -0.025491418116390337, -0.030210151685916585, -0.000843890350461713, -0.01811839679759026, -0.027337878592471478, -0.0030101158082508446, 0.003991048460037857, 0.004680265293695288, 0.03041531458191838, 0.007533303783563666, 0.015566691427639829, 0.0003700535153877759, 0.0022728138626353367, -0.013322728539047087, 0.01029017298083839, 0.008982262778455707, 0.0014473560724555428, -0.015977016288320916, 0.017002827043039882, 0.01802863966040385, 0.018310737245422565, -0.01141215395947351, 0.019708404584991658, -0.023016648366779326, -0.004193004812674779, 0.025068271738862263, 0.017951703108741928, 0.0078474584203286, -0.016284758769678605, -0.026594165422771227, -0.008507824745604685, -0.011559614907390112, 0.0006387279783288258, 0.030876930166599915, 0.007424311577139276, -0.004677059681652916, -0.005321397481055893, -0.004446252354973398, 0.005613112833524224, -0.036672764283523084, 0.007103745250628349, -0.017425975283212956, -0.010033719360836149, 0.009001496450709938, 0.025773515701409053, -0.013707407572066701, 0.020246956721335117, 0.004879016499951088, 0.007642296455649306, -0.020336715721166524, 0.017528554868568854, -0.014361362673258042, -0.016913068043208475, -0.02601714594191931, 0.028184173210172626, 0.0006174905075098314, 0.023350035744475993, 0.004494337001270225, -0.015579513875809315, 0.006315152581012392, 0.010341462773516339, 0.021760027957074594, -0.03187709416233491, -0.0010578682721264349, 0.029825472652896975, -0.009129723726372309, -0.01045045544560198, -0.02222164354175613, -0.00025004158101031077, -0.02247809623043587, 0.007635885231564563, -0.021118896235375238, 0.013412486607555996, -0.014617815361937783, 0.04988009078904478, 0.004199416036759523, -0.027337878592471478, 0.01498967194678791, 0.01405361926057785, 0.03805761103756768, -0.0016429014338383459, -0.010315817877177365, -0.008610406193605582, -0.0007797771200841212, 0.0028818894639109738, -0.005821480875907139, -0.024632301050519702, -0.018451786037931923, -0.0077705227999891775, 0.0051386748006732015, -0.010302995429007877, 0.000361237965855941, -0.00866169691760603, -0.0007649509315575268, 0.027030136111113788, -0.0013383636332005276, 0.03587776132114488, -0.0031687961654851223, -0.02636335763043046, -0.006414527951309667, 0.04557168114887712, -0.012463610541853952, -0.001380838574838516, -0.008341131056756353, -0.0019282052129759963, -0.006469024287352488, -0.03818583551926256, -0.02269608157460715, 0.003962197485995261, -0.008648874469436543, -0.004449457967015771, -0.026247953734260077, 0.009649040327816535, 0.019246790862955124, -0.031979677472980805, -0.0004399770049036508, -0.011021063702369155, -0.012970105626451192, -0.023337213296306506, 0.012027640784833891, 0.009046375950625643, -0.02388858788081945, -0.0002516444161353248], 'query_similarity_score': 0.87768355393001}),\n",
       " _DocumentWithState(page_content=\"China's history began either about 4000 B.C. or about 2700 B.C\", metadata={'source': '/root/workspace/data/Adv_RAG_temp_data/chinahistory.txt'}, state={'embedded_doc': [0.02605920039341894, -0.013741198614048726, 0.006729506268491587, -0.009115813092295052, -0.03442661013238717, -0.01770406176041423, -0.02181415210131044, -0.021728269260726678, -0.001602628581028978, 0.0015842251817126398, 0.001022155024102886, 0.04475704478559287, -0.009698586317436112, -0.012833297891550233, 0.004067149386265604, 0.020084233496897214, 0.004383074019811676, -0.00561610130834505, 0.013409937426354641, 0.021188437455877496, -0.04326023807893922, 0.01857515568428005, -0.021163898969240678, -0.014281031350220458, 0.003919922191734899, -0.0022574825629278227, 0.01740960737135282, -0.029175508102555446, 0.033248792576141536, -0.008618920845092649, 0.005410596605035728, 0.009735393116068788, -0.027629622559983052, -0.00819564312647815, -0.004002737255827782, -0.026868949963337815, -0.01669800988533612, -0.00442908275093316, 0.0031745847522538463, 0.0128578354468645, 0.008710938307335615, 0.022280372171539373, 0.003196055462399787, 0.03798459756247068, -0.002452251678333535, -0.0025427350195004242, 0.028095842630211983, -0.0004984251459176309, 0.0015136788952768902, 0.014244224551587782, 0.027899540325052746, 0.030942234436923902, -0.01983885421846434, -0.0073122804249552, -0.020734486628966976, -0.008784551904600969, -0.024844576969863183, 0.006324631949193427, -0.0015121452398620889, -0.012477499148541881, 0.0110911100438186, 0.011802707529835303, 0.008760013417964148, -0.004045678676119663, -0.03315064235488447, -0.01302960019670947, 0.0072570702270061856, 0.0016425025740759373, 0.018108935614051115, 0.004054880142947194, 0.01160027060301686, 0.0008856631846451519, 0.011833379706808774, 0.0006092288974616999, 0.028439372129901927, -0.006668161914544645, -0.02477096337259783, -0.014281031350220458, -0.011655480335304598, -0.0069380782826305104, 0.0007664245029426548, -0.03148206624177308, 0.020157847094162566, 0.01544657873182513, 0.02674626125544393, 0.014698174447175753, -0.011281278658641185, 0.021372470517718324, 0.003177652063083449, -0.012980525086080937, 0.01090707605065522, -0.006637489271909896, 0.012698339009015385, 0.0063859763031403685, -0.005567025732055241, -0.0048891672681803345, 0.00011482948786856057, 0.009054467807025558, -3.973023467969413e-05, -0.03997216282599009, 0.006668161914544645, 0.013643046530146554, -0.030745930269119558, -0.007895054115757536, -0.023384574267874547, 0.020587259434436272, 0.015839185204788712, -0.020390957129277035, 0.012882373002178767, -0.006717237490834454, -0.008692534442358001, 0.026795336366072463, 0.011011361824894043, -0.03688039546613551, 0.002728302668078606, -0.016587588558115537, -0.0032175261725457273, -0.007428835442512433, 0.010919345293973629, -0.02829214493537122, 0.004551771924488321, 0.016869773703858535, 0.013753466926044584, -0.01883280234338623, 0.031408454507152836, 0.019237678059668216, -0.038647118075213746, -0.015348427579245512, 1.426981602206249e-05, 0.004950512087788554, 0.005563958421225638, 0.011655480335304598, 0.0034721062193142195, 0.018194818454634876, -0.04966461545308955, 0.03224274070106342, -0.01607229337725807, 0.018096666370732706, -0.03305248840833719, -0.0025979452174494386, 0.008355139564327265, 0.0030902360327461622, -0.004680595719702688, 0.00356412321589591, -0.008852030880207116, 0.018219356941271695, -0.01575330236420495, 0.01891868518396999, -0.015139856030767866, -0.004634586988581204, 0.015949604669364188, 0.01963028266998669, 0.010213881498293578, 0.024954998297083763, 0.02991164407520897, -0.011747497797547565, -0.0005053264206612576, 0.009244636421848142, -0.006533203497671073, -0.00898698883141941, -0.005932025941891122, -0.0030227568243093765, 0.006149799422857576, -0.005895219608919723, 0.026697184282170293, 0.02598558679615359, 0.03594795532567764, -0.0031745847522538463, 0.0008097491624652574, -0.016256328301744005, -0.01463683009322881, 0.005401395138208198, -0.022022723649788085, -0.005659042728636931, 0.004392275952300484, -0.0008526904081341596, 0.015139856030767866, 0.026525420463647875, -0.030745930269119558, 0.010821193210071457, -0.03015702149099674, -0.010477663710381516, 0.02964172817278438, 0.0061436652668596485, -0.032905261213806485, -0.0011778169741690399, -0.03177652063083449, -0.012821028648231824, 0.013741198614048726, -0.018562886440961636, 0.012980525086080937, 0.01010346110239555, 0.013238171745187117, -0.0014017249603793798, -0.6862746916794776, -0.027752313130522042, -0.03089315746365026, 0.01001757919313434, -0.0014477333422549057, -0.015581537614359979, -0.002581075473547902, 0.022942892684282436, -0.009293712463799229, -0.015642881036984368, -0.010851866318367482, 0.010502201265695782, 0.005913623008236061, -0.014514140454012371, -0.010256822918585458, -0.023826255851466662, -0.002892399606510847, 0.0094654772136442, 0.007974802334682094, -0.005634504707661388, -0.013912963363893697, 0.014305568905534725, -0.02410844099720966, 0.017875827441581754, -0.002959878582116995, -0.0035978629365296215, 0.009520686945931937, 0.0011839514794129255, -0.006131396023541238, 0.0449288104667604, 0.00491677259998548, 0.023593145816352194, 0.028807440116228687, 0.021372470517718324, 0.019164064462402864, -0.011876321127100655, -0.02674626125544393, 0.052020250565580815, 0.02951903760224539, 0.016452630606903242, 0.0013925232607212108, 0.0027421051011505405, -0.0035610561378969455, -0.0016317673354182864, -0.009238501800188937, 0.00042289456669526644, 0.020771292496277096, -0.02055045170448104, 0.02480777110255306, -0.01671027912865453, -0.006251018351928074, 0.010876403873681748, -0.01140396736653507, 0.0011540458973162166, -0.00931211539745429, 0.0070975742548183484, -0.012759684294284881, -0.014685905203857342, -0.005913623008236061, -0.01315228983592591, 0.0070607674561856725, 0.02131112616377138, -0.006606817094936426, -0.007588331414700271, -0.0025718737738897324, -0.004039544054460459, -0.03528543481293458, 0.006778582310442673, 0.026942563560603167, 0.02188776569857579, 0.0037144177212562164, 0.009275308598821613, -0.027875001838415927, -0.01831750716252876, 0.01010346110239555, 0.003557988827067343, 0.04178796613363218, -0.025494830101932944, 0.007956399401027032, 0.015176662829400542, 0.004122359584214618, 3.352388299398427e-05, -0.003456770130827484, -0.01544657873182513, 0.016685740642017707, 0.0077723654078636515, -0.014919015238971808, 0.0014845401408875819, 0.00044551540198698873, -0.015434310419829275, -0.01093774822762869, -0.0014346976204750528, 0.0006341501576679644, 0.0019400240411363103, -0.003999670410659456, 0.03489282647732589, 0.005447403403668405, -0.00452109974751485, 0.007557658772065523, 0.010029847505130198, -0.010250688296926254, -0.007091439633159143, 0.005619168619174652, 0.030328787172164265, 0.005579294509712373, 0.01701700089838924, -0.0068644646853651585, -0.02131112616377138, 0.025077687004977648, -0.013937500919207963, 0.005591563287369507, 0.006343035348509765, -0.01026909216190387, 0.010416319356434573, 0.015152124342763721, -0.021642386420142913, 0.0014561682142056741, 0.020771292496277096, 0.032414506382230944, -0.021740538504045087, 0.021372470517718324, -0.015986412399319416, 0.013409937426354641, -0.023617684302989016, 0.0005919757397064628, 0.011060437866845128, -0.018035322016785763, -0.02376491149751972, -0.008864300123525525, -0.0122259852484498, 0.0044689568603954385, -0.011410101988194275, 0.03437753315911353, -0.0032819380701529107, 0.03283164947918624, 0.010213881498293578, 0.04173888916035854, -0.011704556377255685, -0.001739120420486712, 0.008496232137198764, -0.006931943660971306, 0.00106662986697893, -0.00885816550186632, 0.0012023548787292635, 0.015606075169674246, -2.1099199758625774e-05, -0.006134463334370841, 0.0006099957251691006, -0.030255173574898913, 0.001345747934722965, 0.009784469158019874, -0.028635676297706268, -0.025764746004357533, -0.006796985709759011, -0.030255173574898913, 0.016894312190495357, -0.019237678059668216, -0.0025412015969162615, 0.017888094822255056, -0.028537524213804098, 0.011778169974521037, 0.020722217385648566, -0.01883280234338623, 0.002180801654832868, 0.031089461631454606, -0.019728434753888864, -0.01636674776631948, 0.018562886440961636, -0.013446744224987317, -0.014894477683657542, 0.00326046736000697, -0.0033156775579559843, -0.008275391345402706, 0.021433814871665267, -0.010410184734775368, -0.010643293838567281, -0.0360461055469347, -0.007735558609230976, 0.024402895386271068, -0.03307702689497401, 0.009753796981046402, -0.00044283159232257595, -0.020145577850844157, -0.016857506323185233, 0.025224914199508355, 0.005168285568755008, 0.0004922906988814047, -0.024525584094164953, -0.010649428460226486, 0.03432845618583989, 0.004153031761188089, 0.030377862282792795, 0.017937171795528697, -0.01507851074549837, 0.01958120755935816, -0.0027697102001250475, 0.0020765158805940444, 0.007974802334682094, 0.014968091280922895, 0.003935258280221635, 0.01209716191889671, 0.018550617197643227, 0.025151300602243, -0.015066242433502514, -0.0043094604225463245, 0.001039024768004423, 0.007944130157708623, 0.005260302565336698, 0.02504087927502242, 0.014514140454012371, 0.001095768504952919, -0.021433814871665267, -0.026697184282170293, 0.00018729283629685442, 0.002334163238192139, 0.04129720757676643, 0.004113157651725811, -0.0010137200357367986, 0.007686482567279889, -0.007091439633159143, -0.0029644795483613983, -0.012268926668741681, -0.01831750716252876, 0.0065822790739608825, -0.01706607787166288, 0.004048745986949266, -0.022034992893106495, 0.02367902865693596, 0.006477993299722059, -0.0032389966498610296, -0.0061436652668596485, -0.006278623218071943, -0.015851454448107122, -0.01048379833204072, 0.0010152536911515997, 0.03626694820137587, 0.04485519873214015, -0.002590277173206071, 0.01993700630236651, 0.02544575499130441, -0.002574941084719335, 0.009293712463799229, 0.049983608328787774, 0.013103213793974822, -0.007177322473742905, -0.011311950835614657, 0.021752807747363496, 0.007987071578000503, 0.0003602080314297346, 0.002962945892946597, 0.0026316849380831502, -0.008852030880207116, -0.015299351537294427, -0.005511815534106226, 0.0074533729978266995, -0.007373625244563419, 0.0026838278252025623, 0.004892234579009937, 0.011048168623526719, 0.007085305477161215, 0.006717237490834454, 0.009864217376944432, -0.011680018821941418, 0.0008848963569377513, 0.03972678541020232, -0.03118761185271167, -0.002361768337166646, 0.00836740787632312, -0.019519863205411218, 0.011502119450437241, -0.0054044624490378005, -0.02376491149751972, 0.027531472338725986, -0.02284474246302537, 0.009244636421848142, 0.0075085831957757134, 0.00980287302299749, -0.026132813990684293, -0.009232367178529733, -0.0011241404316348269, -0.04083098750653749, -0.018955492913925218, -0.0020044359387434937, -0.0037972327853490993, -0.02318827196271531, -0.015667419523621186, -0.043726454423877945, 0.018869610073341456, -0.024991804164393887, 0.0024292475456034316, -0.012483632838878534, -0.03135937753387919, 0.007030095279212201, 0.011446908786826951, -0.006149799422857576, 0.0034015599328784695, 0.026942563560603167, -0.026525420463647875, -0.006981019237261115, 0.005579294509712373, 0.003996603099829854, -0.009263040286825758, -0.005953496652037063, -0.02375264225420131, 0.016612127044752355, -0.002433848279017197, 0.01612137035053171, -0.009520686945931937, 0.020808100226232328, 0.00016265913648086513, 0.004472023705563764, -0.007796902963177917, -0.0023740373476544177, -0.00787051656044327, -0.007428835442512433, -0.0034813079189723885, -0.014158341711004021, 0.02113936048260386, 0.02185095796862056, -0.0030718326334298243, 0.016219520571788777, -0.026549957087639586, -0.04122359584214618, -0.009373459751401232, 0.07798129887509758, 0.014244224551587782, -0.007183456629740834, 0.0014722712468151296, 0.006392110924799574, 0.0001415719129481994, -0.009103543848976643, -0.012833297891550233, 0.015912798802054064, 0.0004194439293234531, 0.012170775516162063, -0.009238501800188937, 0.026819874852709282, 0.0032880724589814773, 0.016538513447487004, 0.006570010296303749, -0.006373707525483236, -0.01648943833685847, -0.0014630695471569606, 0.013827080523309936, -0.020452301483223977, 0.014023383759791726, 0.03430392142449328, 0.052265627981368586, -0.01604775675326636, 0.02178961361467362, 0.01647716909354006, 0.004554839235317924, 0.004919839910815083, 0.007287742403979657, -0.0016317673354182864, 0.015127586787449456, -0.009913293418895517, 0.0008940980565959203, 0.02131112616377138, 0.018538347954324817, -0.002817252353830694, 0.01672254650932783, 0.010109595724054754, -0.005152949480268273, 0.01698019503107912, -0.0034506357419989172, 0.00545353802532761, -0.02153196695556744, -0.0043002589557187935, -0.0034905096186305575, 0.0015466515553725633, -0.002970613937189965, 0.00042251118194539596, -0.013360861384403556, 0.0073122804249552, -0.0053860590497214625, -0.013140020592607498, -0.017348263017405878, 0.0143423757041674, 0.004806352204087452, -0.005726521704243078, -0.0056467734853185205, -0.004005804566657385, -0.023642222789625834, 0.008974720519423553, -0.051529492008715067, 0.01507851074549837, -0.007146649831108158, 0.0009002325036321465, -0.03253719509012483, -0.020047425766941986, -0.012526574259170415, -0.011784304596180241, -0.015507924017094627, -0.03712577288192327, -0.0031929881515701843, 0.013888424877256878, 0.026181890963957934, 0.0076496757686472135, -0.0023556339483380797, 0.004846226313549731, 0.016207253191115472, -0.012035817564949768, 0.03015702149099674, -0.005036394462711039, -0.034696526034811756, -0.03764106620013563, -0.030304248685527443, 0.008717072928994821, 0.03670862978496798, -0.011391699054539213, -0.010072788925422078, 0.014649098405224666, -0.002329562504778374, 0.007306145803295995, -0.006790851088099806, 0.021372470517718324, 0.011575732116380041, 0.003919922191734899, -0.01902910651119057, -0.012103296540555916, 0.011655480335304598, 0.008115894907553593, -0.017250110933503707, -0.008263122102084297, -0.016648934774707587, -0.007410432043196095, -0.014207417752955106, 0.01934809752424369, 0.026697184282170293, -0.01379027372467726, -0.006839926664389615, -0.030107946380368206, -0.0031745847522538463, 0.007520852439094124, -0.032193663727789784, 0.01304186944002788, -0.013471281780301584, -0.004723536674333292, 0.014563216495963458, 0.01026909216190387, 0.036585941077074094, -0.019335828280925282, -0.028635676297706268, -0.00019390655065020597, -0.01835431489248399, 0.007827575140151389, 0.016219520571788777, 0.0006958782165069051, 0.02178961361467362, -0.018526080573651516, 0.006465724522064926, -0.00839194636295994, -0.01576557160752336, -0.008753879727627497, 0.026525420463647875, -0.01759364043319365, -0.0109500174709471, -0.018894146697333167, -0.0033524843565886603, -0.036365098422632934, -0.009686318005440255, -0.005695849527269607, -0.00955136005422796, -0.01861196155159017, 0.0007541556088702025, -0.0039260568133941045, -0.026795336366072463, -0.013115483037293233, -0.02251348034400873, 0.006465724522064926, -0.019814317594472625, 0.02344591862182149, -0.0006583045901668283, -0.013017331884713615, -0.007821440518492184, -0.013201364946554441, 0.009287577842140024, -0.015888260315417246, -0.008864300123525525, -0.0026792268589581583, -0.015201200384714808, 0.03724846158981716, 0.004978116953932423, 0.029101894505290094, -0.013839349766628345, 0.028562062700440916, 0.0012376280219471385, -0.00849009751553956, -0.009526821567591142, -0.013225903433191261, 0.029494500978253676, -0.03285618796582306, -0.005189756278900949, 0.016796160106593183, 0.023887600205413605, -0.012821028648231824, 0.020170116337480976, 0.00010994108492515827, 0.022599363184592495, 0.007827575140151389, 0.0004731205009614958, -0.005202025056558082, -0.04851133638348073, -0.030402400769429617, -0.013360861384403556, 0.014882208440339132, 0.015630613656311066, 0.003061097278356854, -0.017004733517715937, 0.01607229337725807, 0.0004788715632478514, 0.021262051053142852, -0.014538678009326638, 0.03229181394904685, 0.0056866475947808, 0.009269173977162409, -0.012624725411750033, -0.0077723654078636515, -0.03459837581355469, -0.0053001762091377, -0.01062489090491222, 0.012287330533719297, -0.00997463777284246, 0.003968997768024708, 0.025175837226234715, 0.006392110924799574, -0.02409617175389125, -0.008122029529212798, -0.010508335887354987, -0.004769545405454776, -0.02708979075513387, -0.009164888202923585, -0.004800217582428247, -0.01637901700963789, -0.0052633698761663005, 0.0014646032025717618, -0.004045678676119663, 0.010232285363271193, -0.016992464274397528, -0.007674213789622756, 0.03923602685333656, -0.01918860108639458, -0.02154423619888585, 0.041640738939101474, -0.02096759666408144, 0.048732179037921895, -0.0009447073465081903, 0.05766395720573101, 0.009901024175577108, -0.004220510736794236, -0.0005053264206612576, -0.00594122787437993, -0.004622318210924071, 0.0043554691536678075, 0.01986339270510116, 0.014538678009326638, -0.02282020397638855, 0.0020688478363506766, 0.010821193210071457, 0.01302960019670947, -0.023789449984156538, -0.009066737050343967, 0.02028053580205645, 0.012612457099754178, 0.0005885250732308196, -0.00963724196348917, -0.00675404428946713, 0.00197069645094042, 0.02185095796862056, -0.004475091016393367, -0.005655975417807328, -0.008913375234154058, -0.006201942775638265, -0.009870351998603637, 0.013274978543819793, -0.02376491149751972, 0.013778005412681402, -0.006827657886732483, -0.002880130596023076, 0.006177404754662722, 0.010913210672314424, 0.0005743391680975254, 0.01352035782225267, -0.014305568905534725, 0.010581949484620339, -0.010367243314483488, 0.00481248636008538, 0.00048730643519861983, 0.012612457099754178, -0.043407465273469927, -0.016207253191115472, -0.016194983947797063, 0.028831978602865505, -0.010220016119952782, -0.005045596395199846, -0.000603477864279174, 0.04011939002052079, 0.029592651199510742, 0.0034997113182887265, -0.0016148974751014303, -0.008036146688629035, -0.011526657005751508, 0.008005474511655564, 0.009189426689560406, 0.007711020588255432, -0.005812404079165563, -0.025519368588569763, -0.010704639123836778, -0.022280372171539373, -0.02544575499130441, -0.003134710875622206, -0.002953744193288428, -0.03256173357676165, -0.00866186226538453, 0.004840091691890525, 0.011814976773153713, 0.03020609846427038, 0.003573324915554079, 0.009404132859697257, 0.00749631441811858, 0.023384574267874547, -0.00887656843552138, 0.036806780006225046, 0.0035487871274091742, 0.01990019857241128, -0.02581382297763117, -0.013593971419518023, 0.0006191974248272695, -0.01352035782225267, 0.0061988754648086624, -0.02053818432380774, -0.007545389994408389, -0.03187467085209155, 0.01713969146892823, 0.023605415059670606, 0.014268762106902049, -0.0076680791679635514, 0.00395059436870837, -0.014133804155689754, 0.005873748898773783, -0.021936840809204324, -0.031113998255446317, 0.02758054744935452, 0.017851288954944936, 0.006355304126166898, -0.0052081596782172866, -0.01268607069701953, 0.02802222903294663, 0.012698339009015385, -0.0034414340423407483, 0.013581702176199612, -0.013238171745187117, 0.014575484807959314, -0.018550617197643227, 0.0034537028199978816, -0.0163912862529563, -0.0009094342032903154, -0.047137218384720965, -0.006784716466440601, -0.0013334790406505127, 0.010698504502177573, -0.007803037584837123, -0.003447568431169315, 0.009011526386733675, 0.007183456629740834, 0.007214128806714305, 0.006925809039312101, 0.029347273783722972, -0.018035322016785763, 0.0006111459085225418, 0.0015297818114710265, -0.018415659246430932, -0.01731145528745065, 0.0023004237503890653, 0.03268442228465553, 0.029764416880678265, 0.017863558198263345, -0.018280701295218638, -0.007122112275793891, -0.01061262166159381, -0.00562530277517258, 0.010477663710381516, 0.03432845618583989, 0.025200375712871533, 0.017789944600997993, -0.00240624318004269, -0.004064082075436001, -0.02672172276880711, 0.019065912378500693, -0.02309011987881314, 0.0029062020395827816, 0.00852076969251303, -0.034941903450599526, 0.016648934774707587, 0.012250523735086621, -0.005536353089420493, -0.000780993880137309, -0.00995009928620564, -0.008330601077690444, -0.01837885337912081, 0.013851618078624202, -0.00309790407698953, 0.01268607069701953, -0.026181890963957934, 0.003702148710768445, 0.005576227198882771, 0.0018725449491148439, 0.001874078604529645, -0.028660212921697983, -0.0006724905535077821, 0.004395343263130087, -0.01076598347778372, -0.013422205738350498, -0.01493128448229022, -0.009226233488193082, -0.0047020664298486285, 0.011581866738039246, 0.00921396424487467, -0.02615735247732111, 0.006085387758081031, -0.016808429349911592, 0.0029307398277276862, 0.01867330590553711, -0.01607229337725807, 0.01352035782225267, -0.012882373002178767, 0.011134051464110482, -0.019973812169676634, -0.006981019237261115, -0.030304248685527443, 0.0035426527385806076, -0.006827657886732483, -0.004015006499146192, 0.03185013609074495, -0.018808265719394514, 0.008036146688629035, -0.0036316024243326956, -0.00899925807473782, -0.005560891110396035, 0.005189756278900949, -0.04326023807893922, 0.056093535039166906, 0.02180188285799203, -0.004315595044205529, -0.003123975520549236, 0.013348592141085146, -0.011667749578623007, -0.003800300096178702, -0.008710938307335615, -0.018133474100687934, 0.009710855560754522, 0.026427268379745704, 0.01928675317029675, 0.023310960670609195, 0.006336900726850559, -0.00441681350761475, 0.009766066224364814, -0.018550617197643227, -0.004263452157086118, 0.19816770698078265, 0.008937913720790877, 0.011913127925733331, 0.02672172276880711, -0.019164064462402864, 0.004085552785581942, 0.004208241959137104, 0.01233640564434783, -0.007533121216751257, 0.018219356941271695, -0.003133177220207405, 0.003008954391237442, -0.009937830974209784, 0.011164723641083951, -0.01284556620354609, -0.020722217385648566, -0.022120875733690256, -0.010170940078001697, -0.007643541612649285, 0.0017115153215122051, 0.010833462453389868, -0.015961873912682598, -0.007987071578000503, -0.022758859622441608, 0.00026474042658006073, -0.007023960657552996, -0.00921396424487467, -0.003622400724674526, -0.006981019237261115, -0.004751142006138438, -0.00570811830492674, -0.00968018338378105, 0.005410596605035728, 0.0176549866497857, -0.023384574267874547, -0.0021547302112731623, 0.021102554615293735, -0.005128411459292729, -0.006477993299722059, 0.0035978629365296215, -0.014182879266318286, -0.008655727643725325, 0.021016671774709974, -0.001012953324444717, 0.008962451276105144, -0.00031324102760846854, -0.007520852439094124, -0.02662357068490494, -0.0074901797964593755, 0.027629622559983052, -0.022133144977008665, -0.010833462453389868, 0.010189343942979311, 0.03665955281169434, 0.013544895377566936, 0.008680266130362144, 0.03459837581355469, 0.024231131567748653, 0.001436231275889854, -0.0008036147154290313, -0.001445432975548023, 0.01640355549627471, -0.01704153938502606, -0.011618673536671922, -0.009263040286825758, 0.002464520688821307, 0.004079418163922737, 0.010557411929306072, 0.01461229160659199, -0.039775862383475954, 0.005935093252720725, -0.013287247787138204, -0.03749383900560493, -0.006008706849986077, -0.022341716525486315, -0.027629622559983052, 0.031923747825365195, 0.012029682943290564, 0.017875827441581754, 0.01545884797514354, -0.029052819394661564, -0.007931860914390212, -0.017213305066193584, -0.03678224151958823, -0.009471611835303404, -0.022942892684282436, 0.032389967895594125, 0.0020657805255210743, -0.012882373002178767, 0.021777346234000315, 0.008201777748137355, -0.03457383732691787, -0.0061988754648086624, 0.0034199633321948075, 0.02610827736669258, 0.01461229160659199, 0.007895054115757536, 0.015176662829400542, -0.008318332765694589, 0.00240624318004269, -0.030058871269739676, 0.018182549211316467, 0.028169456227477335, -0.010085058168740488, -0.005836942100141107, -0.004211309269966706, 0.0009209363278630268, 0.009888754932258699, 0.0038923170927603924, 0.011379429811220804, -0.00991942710923217, -0.0029752146706037304, 0.005594630598199109, -0.023139196852086777, -0.0028571264632929723, 0.008950182032786734, -0.011526657005751508, -0.0424014096731016, 0.02451331671349165, 0.004840091691890525, -0.019691627023933633, -0.034868291715979285, -0.008336735699349649, 0.0008649593604142716, -0.0043278638218626625, -0.01183951432846798, 0.015998681642637826, 0.00929984615413588, 0.013250440988505528, -0.029469962491616857, 0.0045333685251719835, -0.02181415210131044, -0.009410266550033908, 0.009870351998603637, -0.004352401842838205, 0.025789284490994352, 0.007839844383469798, 9.901407385703999e-05, -0.006760178911126335, -0.01769179251709582, 0.006870599307024363, -0.014072458870420258, 0.004039544054460459, -0.008778417282941762, 0.017740867627724352, 0.012060355120264035, -0.00549647944561949, -0.013287247787138204, -0.011581866738039246, -0.0061712701330035175, -0.010900941428996015, -0.02250121110069032, 0.0024369155898467994, -0.0021838689656624704, 0.011483715585459627, -0.01361850897483229, -0.015262544738661751, 0.006533203497671073, -0.021114823858612145, 0.02826760831137951, -0.00491677259998548, -0.006330766105191355, 0.020390957129277035, -0.01207875898524165, -0.002939941527385855, -0.0012621658100920431, -0.15252729902800555, 0.01331178534245247, -0.0005187455562948108, 0.0005984936005963892, -0.0030227568243093765, 0.01234867488766624, 0.0143423757041674, 0.0011732161243399554, 0.008778417282941762, -0.000616513586059027, 0.026230966074586467, 0.012416153863272387, -0.018587424927598458, -0.016219520571788777, 0.024255668191740364, 0.008514635070853826, -0.01867330590553711, 0.025249450823500066, 0.03226727918770024, -0.020010619899631862, 0.008968585897764348, -0.016244059058425596, 0.0013035734585538038, -0.027138865865762404, 0.018403390003112523, 0.008907240612494852, 0.01967935964326033, -0.02893012882412257, -0.021360201274399915, 0.00025592214077559204, -0.025102223628969363, -0.0046836630305322905, -0.012232119870109005, 0.007422700820853228, 0.016931119920450585, 0.0042910570232299865, -0.032659883798018714, -0.002439982900676402, -0.013225903433191261, 0.018415659246430932, 0.012005145387976297, 0.009667914140462641, -0.0074165661991940236, -0.010900941428996015, -0.005668244195464462, 0.02059952867775468, -0.004156099072017692, -0.011980606901339478, 0.020243729934746327, -0.007398162799877686, -0.010821193210071457, -0.01221985155811315, 0.024280206678377186, 0.0015144457229842908, 0.016820698593230005, 0.014489602898698105, 0.01175363241920677, 0.009741527737727993, 0.006306228549877089, 0.010876403873681748, 0.00802387837663318, -0.008686399820698796, 0.0018679440992857594, 0.006852195907708025, -0.01012799958903237, 0.018452466976386164, -0.007821440518492184, -0.00496584817627529, -0.0006962616303606054, 0.02158104206619597, -0.00689513686233863, -0.0063675729038240305, 0.01629313416905413, -0.021028941018028383, 0.0012299599777037707, 0.003186853762741618, 0.012747415050966472, 0.004695931808189424, 0.011722959310910745, -0.02097986590739985, -0.015127586787449456, 0.01929902241361516, -0.009845813511966816, 0.01065556308188569, -0.0009861150531776106, 0.0351872808663873, 0.0031301099093778025, -0.00012096394945670161, -0.013409937426354641, -0.04411906275948663, -0.007674213789622756, -0.010729176679151044, -0.015115317544131045, -0.0018832803041878142, 0.010465394467063106, 0.00849009751553956, -0.004932108688472216, -0.021421545628346857, -0.01126287479366357, -0.007968667713022888, 0.002639352982326518, -0.027850463351779108, -0.0003768860975082511, 0.012833297891550233, 0.014072458870420258, 0.017164228092919946, 0.019225408816349807, 0.002101053668738949, 0.035579889201995986, 0.011821111394812917, -0.011735228554229156, 0.02824306982474269, 0.00425425022459731, 0.03506459215849341, -0.013802542967995669, 0.022623901671229314, -0.01544657873182513, 0.010796655654757192, 0.027065252268497052, 0.004189838559820766, 0.010643293838567281, -0.0051989577457284795, -0.006858330063705954, 0.023225077830025434, -0.0005191289701485111, -0.013655315773464965, -0.10688689107522845, -0.004140762983530956, -0.0018234692564097154, 0.027850463351779108, 0.01187018650544145, 0.013532626134248526, -0.011643212023308742, 0.006416648945775117, 0.007422700820853228, 0.02214541235768197, 0.007287742403979657, -0.03663501432505752, 0.004432150061762763, -0.01027522585224052, 0.03057416645059714, -0.020170116337480976, 0.011557329182724979, -0.011367160567902395, -0.003502778629118329, 0.009741527737727993, 0.0017253178709994586, -0.014023383759791726, -0.0019599610958674495, -0.03064778004786249, 0.011115647599132866, -0.024550122580801775, -0.04141989628466031, 0.020108771983534033, 0.019078181621819103, -0.018587424927598458, -0.018182549211316467, 0.0016440362294907387, 0.020734486628966976, -0.011851783571786388, 0.00014185947333847463, -0.0029154037392409506, -0.021262051053142852, -0.0014607690640347586, 0.014403720058114343, -0.027825926727787394, 0.013287247787138204, 0.002018238371815428, -0.0004451320172371182, -0.0269916386712317, 0.003729753809742952, -0.026500881977011056, -0.00014396819132616673, 0.006907405639995763, 0.002467587999650909, -0.0351872808663873, -0.002252881596683419, 0.00011540459409719613, -0.028463910616538746, -0.003975132389683914, 0.0013886891221842077, -0.017912633308891878, 0.003377022144733565, 0.016685740642017707, 0.002424646579359028, -0.00763740699099008, 0.012587918613117357, -0.002596411562034637, -0.013446744224987317, 0.0048707638688639966, 0.011557329182724979, 0.003959796301197178, -0.019986081412995044, 0.017237841690185298, -0.00968018338378105, -0.014465064412061286, -0.010661697703544895, 0.03528543481293458, -0.018562886440961636, 0.017164228092919946, -0.04151805023120759, -0.007594465570698199, -0.008072953487261713, -0.00026474042658006073, 0.03661047956371091, -0.03511366913176705, -0.004094754252409473, 0.002108721712982317, 0.003143912575280375, -0.009876486620262841, 0.025764746004357533, 0.009600435164856494, -0.0009424069215936481, 0.0024783233547238793, -0.013912963363893697, -0.03185013609074495, 0.004321729665864734, 0.033175177116231074, 0.00374815720905929, -8.813498952063426e-05, 0.013606239731513878, 0.024967265677757068, -0.008723206619331472, -0.0016854438779524991, -0.02598558679615359, 0.015385234377878188, 0.01802305277346735, -0.020121039364207338, -0.0378619088545768, 0.007796902963177917, 0.01332405458577088, 0.0003289606172603938, 0.008379677119641531, 0.0015566200827381328, 0.010692369880518367, -0.043039395424498056, -0.01732372453076906, 0.020084233496897214, -0.004674461098043483, 0.03015702149099674, -0.00898698883141941, -0.00675404428946713, -0.024918190567128535, -0.006465724522064926, 0.018108935614051115, 0.012600187856435767, 0.019311291656933568, -0.011992876144657888, 0.0039260568133941045, -0.00572958901507268, 0.03312610386824765, 0.010532873442669254, -0.03226727918770024, 0.012048085876945626, -0.009766066224364814, 0.023298691427290786, -0.02610827736669258, -0.004570175323804659, 0.015483385530457807, -0.009667914140462641, 0.039996701312626906, 0.017470951725299763, 0.0007388194621758073, -0.025666595783100467, 0.0014814729464732986, 0.005695849527269607, 0.02284474246302537, 0.04595940082847533, 0.01027522585224052, -0.02225583368490255, 0.016771623482601472, 0.014833132398388047, -0.025961050172161874, 0.020464570726542387, 0.0012452960661905063, -0.008115894907553593, 0.023629953546307425, -0.00997463777284246, 0.019409441878190634, 0.012636994655068443, -0.004257317535426913, -0.0007054632718111148, -0.0029736812480195673, -0.001193920006778495, 0.008772282661282558, -0.011318085457273861, 0.006637489271909896, -0.02096759666408144, 0.023237347073343843, 0.023924407935368833, 0.002005969594158295, -0.003576392226383681, -0.007655810390306418, -0.020452301483223977, -0.026451806866382523, 0.004404544729957617, -0.024954998297083763, -0.02451331671349165, 0.015606075169674246, -0.010532873442669254, 0.025666595783100467, 0.010471529088722311, -0.020501376593852507, -0.01221985155811315, -0.009410266550033908, -0.022378522392796436, -0.03621787122810223, -0.0033156775579559843, -0.0014791724633510968, -0.01832977640584717, -0.03859804482723032, 0.010207746876634373, 0.02251348034400873, 0.01835431489248399, 0.0032083244728875583, 0.01175976610954342, 0.01012799958903237, -0.004380006708982074, 0.010545142685987663, 0.006545472740989483, 0.008324467387353793, 0.004830889759401718, -0.0056467734853185205, -0.010962285782942957, 0.004490427104880103, 0.008980854209760206, 0.023899869448732014, 0.002873996207194509, 0.007545389994408389, 0.015397503621196598, -0.019777509864517397, -0.009815141334993345, -0.033543246965202944, 0.004297191644889191, -0.02610827736669258, -0.01544657873182513, 0.0017099816660974038, 0.002739038023151576, -0.00964951120680758, 0.03258626833810826, -0.0058062694575063585, 0.01442825761342861, -0.011336488390928923, 0.01698019503107912, -0.0024599199554075414, -0.008526904314172235, -0.01796170841952041, 0.02731063154692993, 0.013741198614048726, 0.012170775516162063, -0.002108721712982317, -0.016612127044752355, 0.009397998238038052, -0.013888424877256878, 0.020734486628966976, -0.0091832920679012, -0.0068644646853651585, 0.00993169635255058, 0.0072570702270061856, 0.008852030880207116, -0.03081954386638491, -0.018145743344006343, -0.028635676297706268, -0.0018326709560678846, 0.008122029529212798, 0.01983885421846434, -0.0056007652198583145, 0.044634356077698986, -0.009821275956652551, -0.005125344148463127, 0.019483055475455986, 0.018452466976386164, 0.03275803401927578, -0.0021363268119568243, 0.0022666842625859917, -0.01572876387756813, -0.013900694120575287, 0.02353180146240525, -0.004674461098043483, -0.031163075228719958, -0.028488449103175564, -0.017937171795528697, 0.008201777748137355, -0.0021547302112731623, -0.005744925103559416, -0.01705380862834447, 0.0021577975221027646, 0.04583671212058144, -0.00045931795147424227, 0.027899540325052746, 0.013863887321942612, -0.01092547898431028, -0.0016900447277815838, 0.031163075228719958, -0.005134546080951935, -0.010348839449505872, -0.022672976781857847, -0.02149515922561221, -0.008980854209760206, -0.026451806866382523, 0.002765109466711282, 0.013827080523309936, -0.01580237747483348, -0.007576062171381861, -0.012747415050966472, 0.022660707538539437, 0.012318002710692768, -0.022096337247053437, -0.011784304596180241, -0.011072706178840985, 0.012017413699972154, -0.013385398939717822, -0.0008135832427946009, 0.010673966015540753, -0.000491523871174004, -0.012833297891550233], 'query_similarity_score': 0.8608285888093933})]"
      ]
     },
     "execution_count": 44,
     "metadata": {},
     "output_type": "execute_result"
    }
   ],
   "source": [
    "compression_retriever = ContextualCompressionRetriever(base_compressor=pipeline_compressor,\n",
    "                                                       base_retriever=retriever)\n",
    "compressed_docs = compression_retriever.get_relevant_documents(\"What is Chinese History?\")\n",
    "compressed_docs[:2]"
   ]
  },
  {
   "cell_type": "markdown",
   "metadata": {},
   "source": [
    "### HyDE - Hypothetical Document Embeddings\n",
    "- https://www.youtube.com/watch?v=v_BnBEubv58&list=PL8motc6AQftn-X1HkaGG9KjmKtWImCKJS&index=11\n",
    "- https://colab.research.google.com/drive/1ncrpizJUITFaZ2E7P3ZV9mpNOOds7TMU?usp=sharing#scrollTo=Ln5WZyf05DVh"
   ]
  },
  {
   "cell_type": "markdown",
   "metadata": {},
   "source": [
    "- the idea is to generate some answers given a question\n",
    "- then use the answer to retrieve \n",
    "\n",
    "I am not sure this is going to be reliable for most situations "
   ]
  },
  {
   "cell_type": "markdown",
   "metadata": {},
   "source": [
    "## RAG Fusion\n",
    "- https://towardsdatascience.com/forget-rag-the-future-is-rag-fusion-1147298d8ad1\n",
    "- https://colab.research.google.com/drive/1rTO2qtBFw4voPr3yyvs9uNsIaGT7da0y?usp=sharing#scrollTo=K1i89ZetrjxS\n",
    "- basic idea is based on simple user query, generate a bunch of queries from different angle; how the re-writting is performed can be tuned \n",
    "- then used RRF to re-rank all results\n",
    "- then generate answer based on all those info "
   ]
  },
  {
   "cell_type": "code",
   "execution_count": null,
   "metadata": {},
   "outputs": [],
   "source": []
  },
  {
   "cell_type": "code",
   "execution_count": null,
   "metadata": {},
   "outputs": [],
   "source": []
  },
  {
   "cell_type": "code",
   "execution_count": null,
   "metadata": {},
   "outputs": [],
   "source": []
  }
 ],
 "metadata": {
  "kernelspec": {
   "display_name": "gpt",
   "language": "python",
   "name": "python3"
  },
  "language_info": {
   "codemirror_mode": {
    "name": "ipython",
    "version": 3
   },
   "file_extension": ".py",
   "mimetype": "text/x-python",
   "name": "python",
   "nbconvert_exporter": "python",
   "pygments_lexer": "ipython3",
   "version": "3.9.0"
  },
  "orig_nbformat": 4
 },
 "nbformat": 4,
 "nbformat_minor": 2
}
