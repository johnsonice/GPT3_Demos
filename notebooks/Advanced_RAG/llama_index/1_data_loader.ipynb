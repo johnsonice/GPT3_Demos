{
 "cells": [
  {
   "cell_type": "code",
   "execution_count": 15,
   "metadata": {},
   "outputs": [],
   "source": [
    "from llama_index.core import SimpleDirectoryReader\n",
    "import os\n",
    "from llama_index.core import Document"
   ]
  },
  {
   "cell_type": "markdown",
   "metadata": {},
   "source": [
    "### Simple Directory Reader\n",
    "- https://docs.llamaindex.ai/en/stable/module_guides/loading/simpledirectoryreader/\n",
    "- supports : \n",
    ".csv - comma-separated values\n",
    ".docx - Microsoft Word\n",
    ".epub - EPUB ebook format\n",
    ".hwp - Hangul Word Processor\n",
    ".ipynb - Jupyter Notebook\n",
    ".jpeg, .jpg - JPEG image\n",
    ".mbox - MBOX email archive\n",
    ".md - Markdown\n",
    ".mp3, .mp4 - audio and video\n",
    ".pdf - Portable Document Format\n",
    ".png - Portable Network Graphics\n",
    ".ppt, .pptm, .pptx - Microsoft PowerPoint\n",
    "- for json use JsonReader"
   ]
  },
  {
   "cell_type": "code",
   "execution_count": 10,
   "metadata": {},
   "outputs": [],
   "source": [
    "data_folder = '/Users/huang/Dev/Protagolabs_works/data/temp'\n",
    "reader = SimpleDirectoryReader(input_dir=data_folder,\n",
    "                               input_files=[os.path.join(data_folder, \"2408.14484.pdf\")])\n",
    "# you can specify folder and specific files if needed \n",
    "documents = reader.load_data()"
   ]
  },
  {
   "cell_type": "code",
   "execution_count": 13,
   "metadata": {},
   "outputs": [
    {
     "name": "stdout",
     "output_type": "stream",
     "text": [
      "14\n",
      "Agentic Retrieval-Augmented Generation for Time Series Analysis\n",
      "Chidaksh Ravuru\n",
      "IIT Dharwad\n",
      "India\n",
      "20\n"
     ]
    }
   ],
   "source": [
    "print(len(documents))\n",
    "print(documents[0].text[:100])"
   ]
  },
  {
   "cell_type": "markdown",
   "metadata": {},
   "source": [
    "- for pdfs, the default reader load it page by page, need to merge them back togehter, it is better for chunking\n",
    "- for multi documents, you may need different logics. maybe better to transform them to MD first."
   ]
  },
  {
   "cell_type": "code",
   "execution_count": 16,
   "metadata": {},
   "outputs": [],
   "source": [
    "document = Document(text=\"\\n\\n\".join([doc.text for doc in documents]))"
   ]
  },
  {
   "cell_type": "code",
   "execution_count": null,
   "metadata": {},
   "outputs": [],
   "source": []
  }
 ],
 "metadata": {
  "kernelspec": {
   "display_name": "gpt",
   "language": "python",
   "name": "python3"
  },
  "language_info": {
   "codemirror_mode": {
    "name": "ipython",
    "version": 3
   },
   "file_extension": ".py",
   "mimetype": "text/x-python",
   "name": "python",
   "nbconvert_exporter": "python",
   "pygments_lexer": "ipython3",
   "version": "3.10.16"
  }
 },
 "nbformat": 4,
 "nbformat_minor": 2
}
