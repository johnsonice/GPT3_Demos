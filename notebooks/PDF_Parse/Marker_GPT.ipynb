{
 "cells": [
  {
   "cell_type": "markdown",
   "metadata": {},
   "source": [
    "### PDF Tobale convert with Marker + LLM \n",
    "- some env issues: it only support python 3.10, and need some cv libs see https://github.com/ultralytics/ultralytics/issues/1270"
   ]
  },
  {
   "cell_type": "code",
   "execution_count": 1,
   "metadata": {},
   "outputs": [
    {
     "name": "stderr",
     "output_type": "stream",
     "text": [
      "/root/miniconda3/envs/LLM/lib/python3.10/site-packages/tqdm/auto.py:21: TqdmWarning: IProgress not found. Please update jupyter and ipywidgets. See https://ipywidgets.readthedocs.io/en/stable/user_install.html\n",
      "  from .autonotebook import tqdm as notebook_tqdm\n"
     ]
    }
   ],
   "source": [
    "from marker.convert import convert_single_pdf\n",
    "from marker.models import load_all_models"
   ]
  },
  {
   "cell_type": "code",
   "execution_count": 14,
   "metadata": {},
   "outputs": [
    {
     "data": {
      "text/plain": [
       "True"
      ]
     },
     "execution_count": 14,
     "metadata": {},
     "output_type": "execute_result"
    }
   ],
   "source": [
    "import os,sys\n",
    "sys.path.insert(0,'../../libs')\n",
    "from llm_utils import BSAgent\n",
    "from dotenv import load_dotenv\n",
    "load_dotenv()"
   ]
  },
  {
   "cell_type": "code",
   "execution_count": 23,
   "metadata": {},
   "outputs": [],
   "source": [
    "from IPython.display import Markdown"
   ]
  },
  {
   "cell_type": "code",
   "execution_count": null,
   "metadata": {},
   "outputs": [],
   "source": [
    "# Load all models\n",
    "model_lst = load_all_models()"
   ]
  },
  {
   "cell_type": "code",
   "execution_count": 4,
   "metadata": {},
   "outputs": [
    {
     "name": "stderr",
     "output_type": "stream",
     "text": [
      "Detecting bboxes: 100%|██████████| 1/1 [00:01<00:00,  1.50s/it]\n",
      "Detecting bboxes: 100%|██████████| 1/1 [00:01<00:00,  1.01s/it]\n",
      "Finding reading order: 100%|██████████| 1/1 [00:00<00:00,  2.30it/s]\n",
      "Recognizing tables: 100%|██████████| 1/1 [00:00<00:00,  1.33it/s]\n"
     ]
    }
   ],
   "source": [
    "# Define the file path\n",
    "fpath = '/root/data/home/xiong/data/Fund/pdf_parse/111_2023_0_table1.pdf'\n",
    "# Convert the PDF to text, images, and metadata\n",
    "full_text, images, out_meta = convert_single_pdf(fpath, model_lst)"
   ]
  },
  {
   "cell_type": "code",
   "execution_count": 8,
   "metadata": {},
   "outputs": [
    {
     "data": {
      "text/plain": [
       "{'languages': None,\n",
       " 'filetype': 'pdf',\n",
       " 'pdf_toc': [],\n",
       " 'pages': 1,\n",
       " 'ocr_stats': {'ocr_pages': 0,\n",
       "  'ocr_failed': 0,\n",
       "  'ocr_success': 0,\n",
       "  'ocr_engine': 'none'},\n",
       " 'block_stats': {'header_footer': 0,\n",
       "  'code': 0,\n",
       "  'table': 1,\n",
       "  'equations': {'successful_ocr': 0, 'unsuccessful_ocr': 0, 'equations': 0}},\n",
       " 'computed_toc': [{'title': 'Table 1. United States: Selected Economic Indicators ',\n",
       "   'level': 2,\n",
       "   'page': 0}]}"
      ]
     },
     "execution_count": 8,
     "metadata": {},
     "output_type": "execute_result"
    }
   ],
   "source": [
    "out_meta"
   ]
  },
  {
   "cell_type": "code",
   "execution_count": 24,
   "metadata": {},
   "outputs": [
    {
     "data": {
      "text/markdown": [
       "# Table 1. United States: Selected Economic Indicators\n",
       "\n",
       "(Percentage change from previous period, unless otherwise indicated) \n",
       "\n",
       "|                                                          |        |        |        |        |        | Projections   |        |        |        |\n",
       "|----------------------------------------------------------|--------|--------|--------|--------|--------|---------------|--------|--------|--------|\n",
       "| 2019                                                     | 2020   | 2021   | 2022   | 2023   | 2024   | 2025          | 2026   | 2027   | 2028   |\n",
       "| National Production and Income                           |        |        |        |        |        |               |        |        |        |\n",
       "| Real GDP  2.3                                            | \\-2.8  | 5.9    | 2.1    | 1.7    | 1.0    | 1.8           | 2.1    | 2.1    | 2.1    |\n",
       "| Real GDP (q4/q4)  2.6                                    | \\-1.5  | 5.7    | 0.9    | 1.2    | 1.1    | 2.0           | 2.1    | 2.1    | 2.1    |\n",
       "| Net exports 1/  \\-0.1                                    | \\-0.3  | \\-1.2  | \\-0.4  | 0.5    | 0.0    | 0.0           | 0.0    | 0.0    | 0.0    |\n",
       "| Total domestic demand  2.3                               | \\-2.4  | 7.0    | 2.4    | 1.1    | 1.0    | 1.7           | 2.0    | 2.1    | 2.1    |\n",
       "| Final domestic demand  2.3                               | \\-1.9  | 6.7    | 1.7    | 1.6    | 1.0    | 1.7           | 2.1    | 2.1    | 2.1    |\n",
       "| Private final consumption  2.0                           | \\-3.0  | 8.3    | 2.7    | 2.0    | 0.8    | 1.4           | 1.7    | 2.0    | 2.0    |\n",
       "| Public consumption expenditure  3.4                      | 2.2    | 1.3    | \\-0.2  | 3.0    | 1.4    | 1.3           | 1.3    | 1.3    | 1.3    |\n",
       "| Gross fixed domestic investment  2.6                     | \\-1.2  | 5.7    | \\-0.5  | \\-0.8  | 1.3    | 3.2           | 3.7    | 3.2    | 3.1    |\n",
       "| Private fixed investment  2.5                            | \\-2.3  | 7.4    | \\-0.2  | \\-1.9  | 0.7    | 3.0           | 3.7    | 3.7    | 3.8    |\n",
       "| Public fixed investment  3.1                             | 3.9    | \\-2.3  | \\-2.1  | 4.9    | 4.1    | 3.9           | 3.5    | 0.5    | 0.0    |\n",
       "| Change in private inventories 1/  0.0                    | \\-0.5  | 0.2    | 0.7    | \\-0.5  | 0.0    | 0.0           | 0.0    | 0.0    | 0.0    |\n",
       "| Nominal GDP  4.1                                         | \\-1.5  | 10.7   | 9.2    | 6.0    | 4.1    | 4.3           | 4.2    | 4.1    | 4.1    |\n",
       "| Personal saving rate (% of disposable income)  8.8       | 16.8   | 11.9   | 3.5    | 4.1    | 4.0    | 4.9           | 4.9    | 4.9    | 5.4    |\n",
       "| Private investment rate (% of GDP)  17.8                 | 17.3   | 17.6   | 18.2   | 17.2   | 17.1   | 17.3          | 17.5   | 17.8   | 18.0   |\n",
       "| Unemployment and Potential Output                        |        |        |        |        |        |               |        |        |        |\n",
       "| Unemployment rate  3.7                                   | 8.1    | 5.4    | 3.6    | 3.7    | 4.2    | 4.3           | 4.0    | 4.0    | 4.0    |\n",
       "| Labor force participation rate  63.1                     | 61.7   | 61.7   | 62.2   | 62.5   | 62.5   | 62.4          | 62.2   | 62.2   | 62.2   |\n",
       "| Potential GDP  1.6                                       | 0.4    | 1.8    | 2.2    | 2.1    | 2.0    | 2.0           | 2.0    | 2.0    | 2.0    |\n",
       "| Output gap (% of potential GDP)  0.7                     | \\-2.5  | 1.5    | 1.4    | 0.9    | 0.0    | \\-0.2         | \\-0.2  | \\-0.1  | 0.0    |\n",
       "| Inflation                                                |        |        |        |        |        |               |        |        |        |\n",
       "| CPI inflation (q4/q4)  2.0                               | 1.2    | 6.8    | 7.1    | 3.6    | 2.5    | 2.4           | 2.1    | 2.1    | 2.2    |\n",
       "| Core CPI Inflation (q4/q4)  2.3                          | 1.6    | 5.0    | 6.0    | 4.2    | 2.9    | 2.7           | 2.3    | 2.3    | 2.3    |\n",
       "| PCE Inflation (q4/q4)  1.4                               | 1.1    | 5.7    | 5.7    | 3.8    | 2.6    | 2.3           | 1.9    | 1.9    | 2.0    |\n",
       "| Core PCE Inflation (q4/q4)  1.6                          | 1.4    | 4.7    | 4.8    | 4.1    | 2.8    | 2.5           | 2.0    | 2.0    | 2.0    |\n",
       "| GDP deflator  1.8                                        | 1.3    | 4.5    | 7.0    | 4.3    | 3.0    | 2.5           | 2.1    | 1.9    | 1.9    |\n",
       "| Government Finances                                      |        |        |        |        |        |               |        |        |        |\n",
       "| Federal balance (% of GDP) 2/  \\-4.7                     | \\-14.9 | \\-12.3 | \\-5.5  | \\-5.6  | \\-5.7  | \\-6.4         | \\-6.2  | \\-5.9  | \\-6.4  |\n",
       "| Federal debt held by the public (% of GDP)  79.4         | 99.8   | 98.4   | 97.0   | 96.6   | 98.4   | 101.2         | 103.6  | 105.8  | 108.3  |\n",
       "| General government budget balance (% of GDP)  \\-5.7      | \\-14.0 | \\-11.6 | \\-3.7  | \\-6.7  | \\-7.0  | \\-7.3         | \\-7.1  | \\-6.9  | \\-7.0  |\n",
       "| General government gross debt (% of GDP)  108.7          | 133.5  | 126.4  | 121.4  | 121.8  | 124.6  | 127.5         | 130.1  | 132.5  | 134.9  |\n",
       "| Interest Rates (percent; period average)                 |        |        |        |        |        |               |        |        |        |\n",
       "| Fed funds rate  2.2                                      | 0.4    | 0.1    | 1.7    | 5.1    | 5.3    | 4.2           | 3.2    | 2.4    | 2.4    |\n",
       "| Three\\-month Treasury bill rate  2.1                     | 0.4    | 0.0    | 2.1    | 5.2    | 5.3    | 4.2           | 3.2    | 2.4    | 2.4    |\n",
       "| Ten\\-year government bond rate  2.1                      | 0.9    | 1.4    | 3.0    | 3.8    | 3.8    | 3.6           | 3.4    | 3.4    | 3.4    |\n",
       "| Balance of Payments                                      |        |        |        |        |        |               |        |        |        |\n",
       "| Current account balance (% of GDP)  \\-2.1                | \\-2.9  | \\-3.6  | \\-3.7  | \\-2.8  | \\-2.5  | \\-2.4         | \\-2.3  | \\-2.2  | \\-2.2  |\n",
       "| Merchandise trade balance (% of GDP)  \\-4.0              | \\-4.3  | \\-4.7  | \\-4.7  | \\-4.0  | \\-3.7  | \\-3.6         | \\-3.5  | \\-3.5  | \\-3.4  |\n",
       "| Export volume (NIPA basis, goods)  0.1                   | \\-10.1 | 7.4    | 6.3    | 3.6    | 0.4    | 2.1           | 2.3    | 2.1    | 2.1    |\n",
       "| Import volume (NIPA basis, goods)  0.5                   | \\-5.8  | 14.5   | 6.9    | \\-1.6  | \\-0.4  | 1.4           | 2.2    | 2.1    | 2.0    |\n",
       "| Net International Investment Position (% of GDP)  \\-54.5 | \\-69.8 | \\-77.7 | \\-63.3 | \\-62.5 | \\-62.6 | \\-62.4        | \\-62.2 | \\-62.0 | \\-61.7 |\n",
       "| Saving and Investment (% of GDP)                         |        |        |        |        |        |               |        |        |        |\n",
       "| Gross national saving  19.7                              | 19.3   | 18.0   | 18.3   | 16.4   | 16.9   | 17.3          | 17.8   | 18.1   | 18.3   |\n",
       "| General government  \\-3.1                                | \\-11.1 | \\-8.4  | \\-1.3  | \\-4.0  | \\-4.0  | \\-4.5         | \\-4.5  | \\-4.5  | \\-4.7  |\n",
       "| Private  22.8                                            | 30.4   | 26.4   | 19.6   | 20.4   | 20.9   | 21.8          | 22.3   | 22.6   | 23.0   |\n",
       "| Personal  6.8                                            | 14.2   | 9.6    | 2.6    | 3.0    | 3.0    | 3.6           | 3.6    | 3.6    | 3.9    |\n",
       "| Business  16.0                                           | 16.2   | 16.8   | 17.1   | 17.4   | 17.9   | 18.2          | 18.7   | 19.0   | 19.1   |\n",
       "| Gross domestic investment  21.3                          | 21.1   | 21.1   | 21.6   | 20.6   | 20.7   | 21.0          | 21.2   | 21.4   | 21.6   |\n",
       "| Private  17.8                                            | 17.3   | 17.6   | 18.2   | 17.2   | 17.1   | 17.3          | 17.5   | 17.8   | 18.0   |\n",
       "| Public  3.5                                              | 3.8    | 3.5    | 3.4    | 3.5    | 3.6    | 3.6           | 3.7    | 3.6    | 3.5    |\n",
       "\n",
       "Sources: BEA; BLS; FRB; Haver Analytics; and IMF staff estimates.\n",
       "\n",
       "1/ Contribution to real GDP growth, percentage points.\n",
       "\n",
       "2/ Includes staff's adjustments for one-off items, including costs of financial sector support."
      ],
      "text/plain": [
       "<IPython.core.display.Markdown object>"
      ]
     },
     "execution_count": 24,
     "metadata": {},
     "output_type": "execute_result"
    }
   ],
   "source": [
    "Markdown(full_text)"
   ]
  },
  {
   "cell_type": "code",
   "execution_count": 15,
   "metadata": {},
   "outputs": [
    {
     "name": "stdout",
     "output_type": "stream",
     "text": [
      "\n",
      "Simple completion:\n",
      "The capital of France is Paris.\n"
     ]
    }
   ],
   "source": [
    "## Basic test and see if OPENAI key works \n",
    "agent = BSAgent()\n",
    "prompt = {\n",
    "    \"system\": \"You are a helpful assistant.\",\n",
    "    \"user\": \"What is the capital of France?\"\n",
    "}\n",
    "print(\"\\nSimple completion:\")\n",
    "print(agent.get_response_content(prompt_template=prompt))"
   ]
  },
  {
   "cell_type": "code",
   "execution_count": 19,
   "metadata": {},
   "outputs": [],
   "source": [
    "markdown_cleaning_prompt = {\n",
    "    \"system\": '''You will be provided with markdown format text, and you need to follow the steps one by one to cleanup the markdown files:\n",
    "        1. Restructure the data by deleting unnecessary spaces or tabs \n",
    "        2. Preserving tables, headings, and any numerical data  \n",
    "        3. Any numerical data exactly as presented in the document.\n",
    "        4. Do not make up or generate new content \n",
    "        5. Double check if LaTex get successfully detected and convert. If not, please convert it to Latex format \n",
    "        ''',\n",
    "    \"user\": full_text\n",
    "}"
   ]
  },
  {
   "cell_type": "code",
   "execution_count": 20,
   "metadata": {},
   "outputs": [],
   "source": [
    "res = agent.get_response_content(prompt_template=markdown_cleaning_prompt)"
   ]
  },
  {
   "cell_type": "code",
   "execution_count": 22,
   "metadata": {},
   "outputs": [
    {
     "data": {
      "text/markdown": [
       "# Table 1. United States: Selected Economic Indicators\n",
       "\n",
       "(Percentage change from previous period, unless otherwise indicated)\n",
       "\n",
       "|                                                          | 2019   | 2020   | 2021   | 2022   | 2023   | 2024          | 2025   | 2026   | 2027   | 2028   |\n",
       "|----------------------------------------------------------|--------|--------|--------|--------|--------|---------------|--------|--------|--------|--------|\n",
       "| National Production and Income                           |        |        |        |        |        |               |        |        |        |        |\n",
       "| Real GDP                                                 | 2.3    | \\-2.8  | 5.9    | 2.1    | 1.7    | 1.0           | 1.8    | 2.1    | 2.1    | 2.1    |\n",
       "| Real GDP (q4/q4)                                         | 2.6    | \\-1.5  | 5.7    | 0.9    | 1.2    | 1.1           | 2.0    | 2.1    | 2.1    | 2.1    |\n",
       "| Net exports 1/                                           | \\-0.1  | \\-0.3  | \\-1.2  | \\-0.4  | 0.5    | 0.0           | 0.0    | 0.0    | 0.0    | 0.0    |\n",
       "| Total domestic demand                                    | 2.3    | \\-2.4  | 7.0    | 2.4    | 1.1    | 1.0           | 1.7    | 2.0    | 2.1    | 2.1    |\n",
       "| Final domestic demand                                    | 2.3    | \\-1.9  | 6.7    | 1.7    | 1.6    | 1.0           | 1.7    | 2.1    | 2.1    | 2.1    |\n",
       "| Private final consumption                                | 2.0    | \\-3.0  | 8.3    | 2.7    | 2.0    | 0.8           | 1.4    | 1.7    | 2.0    | 2.0    |\n",
       "| Public consumption expenditure                           | 3.4    | 2.2    | 1.3    | \\-0.2  | 3.0    | 1.4           | 1.3    | 1.3    | 1.3    | 1.3    |\n",
       "| Gross fixed domestic investment                          | 2.6    | \\-1.2  | 5.7    | \\-0.5  | \\-0.8  | 1.3           | 3.2    | 3.7    | 3.2    | 3.1    |\n",
       "| Private fixed investment                                 | 2.5    | \\-2.3  | 7.4    | \\-0.2  | \\-1.9  | 0.7           | 3.0    | 3.7    | 3.7    | 3.8    |\n",
       "| Public fixed investment                                  | 3.1    | 3.9    | \\-2.3  | \\-2.1  | 4.9    | 4.1           | 3.9    | 3.5    | 0.5    | 0.0    |\n",
       "| Change in private inventories 1/                         | 0.0    | \\-0.5  | 0.2    | 0.7    | \\-0.5  | 0.0           | 0.0    | 0.0    | 0.0    | 0.0    |\n",
       "| Nominal GDP                                              | 4.1    | \\-1.5  | 10.7   | 9.2    | 6.0    | 4.1           | 4.3    | 4.2    | 4.1    | 4.1    |\n",
       "| Personal saving rate (% of disposable income)            | 8.8    | 16.8   | 11.9   | 3.5    | 4.1    | 4.0           | 4.9    | 4.9    | 4.9    | 5.4    |\n",
       "| Private investment rate (% of GDP)                       | 17.8   | 17.3   | 17.6   | 18.2   | 17.2   | 17.1          | 17.3   | 17.5   | 17.8   | 18.0   |\n",
       "| Unemployment and Potential Output                        |        |        |        |        |        |               |        |        |        |        |\n",
       "| Unemployment rate                                        | 3.7    | 8.1    | 5.4    | 3.6    | 3.7    | 4.2           | 4.3    | 4.0    | 4.0    | 4.0    |\n",
       "| Labor force participation rate                           | 63.1   | 61.7   | 61.7   | 62.2   | 62.5   | 62.5          | 62.4   | 62.2   | 62.2   | 62.2   |\n",
       "| Potential GDP                                            | 1.6    | 0.4    | 1.8    | 2.2    | 2.1    | 2.0           | 2.0    | 2.0    | 2.0    | 2.0    |\n",
       "| Output gap (% of potential GDP)                          | 0.7    | \\-2.5  | 1.5    | 1.4    | 0.9    | 0.0           | \\-0.2  | \\-0.2  | \\-0.1  | 0.0    |\n",
       "| Inflation                                                |        |        |        |        |        |               |        |        |        |        |\n",
       "| CPI inflation (q4/q4)                                    | 2.0    | 1.2    | 6.8    | 7.1    | 3.6    | 2.5           | 2.4    | 2.1    | 2.1    | 2.2    |\n",
       "| Core CPI Inflation (q4/q4)                               | 2.3    | 1.6    | 5.0    | 6.0    | 4.2    | 2.9           | 2.7    | 2.3    | 2.3    | 2.3    |\n",
       "| PCE Inflation (q4/q4)                                    | 1.4    | 1.1    | 5.7    | 5.7    | 3.8    | 2.6           | 2.3    | 1.9    | 1.9    | 2.0    |\n",
       "| Core PCE Inflation (q4/q4)                               | 1.6    | 1.4    | 4.7    | 4.8    | 4.1    | 2.8           | 2.5    | 2.0    | 2.0    | 2.0    |\n",
       "| GDP deflator                                             | 1.8    | 1.3    | 4.5    | 7.0    | 4.3    | 3.0           | 2.5    | 2.1    | 1.9    | 1.9    |\n",
       "| Government Finances                                      |        |        |        |        |        |               |        |        |        |        |\n",
       "| Federal balance (% of GDP) 2/                            | \\-4.7  | \\-14.9 | \\-12.3 | \\-5.5  | \\-5.6  | \\-5.7         | \\-6.4  | \\-6.2  | \\-5.9  | \\-6.4  |\n",
       "| Federal debt held by the public (% of GDP)               | 79.4   | 99.8   | 98.4   | 97.0   | 96.6   | 98.4          | 101.2  | 103.6  | 105.8  | 108.3  |\n",
       "| General government budget balance (% of GDP)             | \\-5.7  | \\-14.0 | \\-11.6 | \\-3.7  | \\-6.7  | \\-7.0         | \\-7.3  | \\-7.1  | \\-6.9  | \\-7.0  |\n",
       "| General government gross debt (% of GDP)                 | 108.7  | 133.5  | 126.4  | 121.4  | 121.8  | 124.6         | 127.5  | 130.1  | 132.5  | 134.9  |\n",
       "| Interest Rates (percent; period average)                 |        |        |        |        |        |               |        |        |        |        |\n",
       "| Fed funds rate                                           | 2.2    | 0.4    | 0.1    | 1.7    | 5.1    | 5.3           | 4.2    | 3.2    | 2.4    | 2.4    |\n",
       "| Three-month Treasury bill rate                           | 2.1    | 0.4    | 0.0    | 2.1    | 5.2    | 5.3           | 4.2    | 3.2    | 2.4    | 2.4    |\n",
       "| Ten-year government bond rate                            | 2.1    | 0.9    | 1.4    | 3.0    | 3.8    | 3.8           | 3.6    | 3.4    | 3.4    | 3.4    |\n",
       "| Balance of Payments                                      |        |        |        |        |        |               |        |        |        |        |\n",
       "| Current account balance (% of GDP)                       | \\-2.1  | \\-2.9  | \\-3.6  | \\-3.7  | \\-2.8  | \\-2.5         | \\-2.4  | \\-2.3  | \\-2.2  | \\-2.2  |\n",
       "| Merchandise trade balance (% of GDP)                     | \\-4.0  | \\-4.3  | \\-4.7  | \\-4.7  | \\-4.0  | \\-3.7         | \\-3.6  | \\-3.5  | \\-3.5  | \\-3.4  |\n",
       "| Export volume (NIPA basis, goods)                        | 0.1    | \\-10.1 | 7.4    | 6.3    | 3.6    | 0.4           | 2.1    | 2.3    | 2.1    | 2.1    |\n",
       "| Import volume (NIPA basis, goods)                        | 0.5    | \\-5.8  | 14.5   | 6.9    | \\-1.6  | \\-0.4         | 1.4    | 2.2    | 2.1    | 2.0    |\n",
       "| Net International Investment Position (% of GDP)         | \\-54.5 | \\-69.8 | \\-77.7 | \\-63.3 | \\-62.5 | \\-62.6        | \\-62.4 | \\-62.2 | \\-62.0 | \\-61.7 |\n",
       "| Saving and Investment (% of GDP)                         |        |        |        |        |        |               |        |        |        |        |\n",
       "| Gross national saving                                    | 19.7   | 19.3   | 18.0   | 18.3   | 16.4   | 16.9          | 17.3   | 17.8   | 18.1   | 18.3   |\n",
       "| General government                                       | \\-3.1  | \\-11.1 | \\-8.4  | \\-1.3  | \\-4.0  | \\-4.0         | \\-4.5  | \\-4.5  | \\-4.5  | \\-4.7  |\n",
       "| Private                                                  | 22.8   | 30.4   | 26.4   | 19.6   | 20.4   | 20.9          | 21.8   | 22.3   | 22.6   | 23.0   |\n",
       "| Personal                                                 | 6.8    | 14.2   | 9.6    | 2.6    | 3.0    | 3.0           | 3.6    | 3.6    | 3.6    | 3.9    |\n",
       "| Business                                                 | 16.0   | 16.2   | 16.8   | 17.1   | 17.4   | 17.9          | 18.2   | 18.7   | 19.0   | 19.1   |\n",
       "| Gross domestic investment                                | 21.3   | 21.1   | 21.1   | 21.6   | 20.6   | 20.7          | 21.0   | 21.2   | 21.4   | 21.6   |\n",
       "| Private                                                  | 17.8   | 17.3   | 17.6   | 18.2   | 17.2   | 17.1          | 17.3   | 17.5   | 17.8   | 18.0   |\n",
       "| Public                                                   | 3.5    | 3.8    | 3.5    | 3.4    | 3.5    | 3.6           | 3.6    | 3.7    | 3.6    | 3.5    |\n",
       "\n",
       "Sources: BEA; BLS; FRB; Haver Analytics; and IMF staff estimates.\n",
       "\n",
       "1/ Contribution to real GDP growth, percentage points.\n",
       "\n",
       "2/ Includes staff's adjustments for one-off items, including costs of financial sector support."
      ],
      "text/plain": [
       "<IPython.core.display.Markdown object>"
      ]
     },
     "execution_count": 22,
     "metadata": {},
     "output_type": "execute_result"
    }
   ],
   "source": [
    "Markdown(res)"
   ]
  },
  {
   "cell_type": "code",
   "execution_count": null,
   "metadata": {},
   "outputs": [],
   "source": []
  }
 ],
 "metadata": {
  "kernelspec": {
   "display_name": "gpt",
   "language": "python",
   "name": "python3"
  },
  "language_info": {
   "codemirror_mode": {
    "name": "ipython",
    "version": 3
   },
   "file_extension": ".py",
   "mimetype": "text/x-python",
   "name": "python",
   "nbconvert_exporter": "python",
   "pygments_lexer": "ipython3",
   "version": "3.10.15"
  }
 },
 "nbformat": 4,
 "nbformat_minor": 2
}
