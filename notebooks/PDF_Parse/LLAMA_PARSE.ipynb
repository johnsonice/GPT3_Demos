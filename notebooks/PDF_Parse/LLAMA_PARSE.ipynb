{
 "cells": [
  {
   "cell_type": "markdown",
   "metadata": {},
   "source": [
    "### PDF parsing with LLAMA Parse"
   ]
  },
  {
   "cell_type": "code",
   "execution_count": 5,
   "metadata": {},
   "outputs": [],
   "source": [
    "import os \n",
    "from dotenv import load_dotenv\n",
    "load_dotenv()\n",
    "os.environ['LLAMA_CLOUD_API_KEY'] = os.getenv(\"LLAMA_CLOUD_API_KEY\")\n",
    "### Only needed for notebook\n",
    "import nest_asyncio\n",
    "nest_asyncio.apply()\n",
    "from llama_parse import LlamaParse"
   ]
  },
  {
   "cell_type": "code",
   "execution_count": 6,
   "metadata": {},
   "outputs": [],
   "source": [
    "## Initiate parser\n",
    "parser = LlamaParse(\n",
    "    api_key=os.environ['LLAMA_CLOUD_API_KEY'],\n",
    "    result_type=\"markdown\",  # \"markdown\" and \"text\" are available\n",
    "    num_workers=4,  # if multiple files passed, split in `num_workers` API calls\n",
    "    verbose=True,\n",
    "    language=\"en\",  # Optionally you can define a language, default=en\n",
    ")"
   ]
  },
  {
   "cell_type": "code",
   "execution_count": 25,
   "metadata": {},
   "outputs": [],
   "source": [
    "docs = ['/data/home/xiong/data/Fund/pdf_parse/111_2023_0_table1.pdf','/data/home/xiong/data/Fund/pdf_parse/111_2024_0_table1.pdf']"
   ]
  },
  {
   "cell_type": "markdown",
   "metadata": {},
   "source": [
    "#### Basic Parse"
   ]
  },
  {
   "cell_type": "code",
   "execution_count": 8,
   "metadata": {},
   "outputs": [
    {
     "name": "stdout",
     "output_type": "stream",
     "text": [
      "Started parsing the file under job_id 0f04aa4d-cbd1-4609-ae48-c8c7bdd04e80\n",
      "...."
     ]
    }
   ],
   "source": [
    "documents = parser.load_data(docs[0])\n",
    "\n",
    "# # sync batch\n",
    "# documents = parser.load_data([\"./my_file1.pdf\", \"./my_file2.pdf\"])\n",
    "# # async\n",
    "# documents = await parser.aload_data(\"./my_file.pdf\")\n",
    "# # async batch\n",
    "# documents = await parser.aload_data([\"./my_file1.pdf\", \"./my_file2.pdf\"])"
   ]
  },
  {
   "cell_type": "code",
   "execution_count": 13,
   "metadata": {},
   "outputs": [
    {
     "name": "stdout",
     "output_type": "stream",
     "text": [
      "# UNITED STATES\n",
      "\n",
      "# Table 1. United States: Selected Economic Indicators, 2020-29\n",
      "\n",
      "# (Percentage change from previous period, unless otherwise indicated)\n",
      "\n",
      "| |Projections|2020|2021|2022|2023|2024|2025|2026|2027|2028|2029|\n",
      "|---|---|---|---|---|---|---|---|---|---|---|---|\n",
      "|National Production and Income| |-2.2|5.8|1.9|2.5|2.6|1.9|2.0|2.1|2.1|2.1|\n",
      "|Real GDP (q4/q4)| |-1.1|5.4|0.7|3.1|2.0|1.8|2.1|2.1|2.1|2.1|\n",
      "|Net exports 1/| |-0.2|-1.3|-0.5|0.6|-0.2|0.0|0.1|0.2|0.2|0.2|\n",
      "|Total domestic demand| |-1.9|6.9|2.3|1.9|2.6|1.8|1.8|1.9|1.9|1.9|\n",
      "|Final domestic demand| |-1.5|6.6|1.7|2.3|2.7|1.8|1.8|1.9|1.9|1.9|\n",
      "|Private final consumption| |-2.5|8.4|2.5|2.2|2.3|1.5|1.4|1.6|1.6|1.6|\n",
      "|Public consumption expenditure| |2.9|0.3|-0.9|2.7|2.0|1.5|1.3|1.3|1.3|1.3|\n",
      "|Gross fixed domestic investment| |-1.0|5.3|0.9|2.1|4.5|3.1|3.6|3.2|3.1|3.1|\n",
      "|Private fixed investment| |-2.1|7.1|1.3|0.6|4.0|2.9|3.7|3.8|3.8|3.8|\n",
      "|Public fixed investment| |4.3|-2.8|-1.1|9.4|7.1|3.9|3.4|0.5|0.0|0.0|\n",
      "|Change in private inventories 1/| |-0.5|0.3|0.6|-0.3|-0.1|0.0|0.0|0.0|0.0|0.0|\n",
      "|Nominal GDP| |-0.9|10.7|9.1|6.3|5.1|3.9|3.9|4.0|4.0|4.0|\n",
      "|Personal saving rate (% of disposable income)| |15.3|11.3|3.3|4.5|3.8|3.7|3.4|3.3|3.8|4.2|\n",
      "|Private investment rate(% of GDP)| |17.6|17.9|18.5|17.7|17.7|17.8|17.9|18.1|18.3|18.4|\n",
      "|Unemployment and Potential Output| | | | | | | | | | | |\n",
      "|Unemployment rate| |8.1|5.4|3.6|3.6|4.0|4.3|4.3|4.2|4.0|3.9|\n",
      "|Labor force participation rate| |61.8|61.7|62.2|62.6|62.6|62.6|62.5|62.4|62.3|62.2|\n",
      "|Potential GDP| |1.2|2.2|2.3|2.4|2.5|2.4|2.3|2.1|2.1|2.1|\n",
      "|Output gap (% of potential GDP)| |-2.6|0.8|0.4|0.6|0.6|0.2|-0.2|-0.2|-0.2|-0.1|\n",
      "|Inflation| | | | | | | | | | | |\n",
      "|CPI inflation (q4/q4)| |1.2|6.8|7.1|3.2|2.8|1.9|2.1|2.1|2.1|2.1|\n",
      "|Core CPI Inflation (q4/q4)| |1.6|5.0|6.0|4.0|3.1|2.2|2.3|2.3|2.3|2.3|\n",
      "|PCE Inflation (q4/q4)| |1.2|5.9|5.9|2.8|2.4|1.8|1.9|1.9|1.9|1.9|\n",
      "|Core PCE Inflation (q4/q4)| |1.4|4.9|5.1|3.2|2.5|1.9|2.0|2.0|2.0|2.0|\n",
      "|GDP deflator| |1.3|4.6|7.1|3.6|2.5|2.0|1.8|1.8|1.8|1.8|\n",
      "|Government Finances| | | | | | | | | | | |\n",
      "|Federal balance(% of GDP) 2/| |-14.7|-12.1|-5.4|-6.3|-6.8|-6.6|-6.1|-5.4|-5.6|-5.3|\n",
      "|Federal debt held by the public(% of GDP)| |98.7|97.1|95.8|97.3|99.2|102.1|104.7|106.3|108.1|109.5|\n",
      "|General government budget balance(% of GDP)| |-13.9|-11.1|-4.1|-7.6|-7.8|-7.6|-7.2|-6.7|-6.7|-6.5|\n",
      "|General government gross debt(% of GDP)| |132.0|125.0|119.8|120.7|123.2|126.7|129.6|131.8|134.0|135.9|\n",
      "|Interest Rates (percent; period average)| | | | | | | | | | | |\n",
      "|Fed funds rate| |0.4|0.1|1.7|5.1|5.4|4.7|3.7|2.9|2.9|2.9|\n",
      "|Three-month Treasury bill rate| |0.4|0.0|2.1|5.3|5.4|4.8|3.8|3.0|3.0|3.0|\n",
      "|Ten-year government bond rate| |0.9|1.4|3.0|4.0|4.2|3.7|3.3|3.2|3.2|3.2|\n",
      "|Balance of Payments| | | | | | | | | | | |\n",
      "|Current account balance(% of GDP)| |-2.8|-3.5|-3.8|-3.0|-2.9|-2.8|-2.5|-2.2|-1.9|-1.6|\n",
      "|Merchandise trade balance(% of GDP)| |-4.3|-4.6|-4.6|-3.9|-3.8|-3.5|-3.2|-3.0|-2.7|-2.4|\n",
      "|Export volume (NIPA basis, goods)| |-10.0|7.6|5.8|2.6|2.8|3.6|3.0|3.0|2.9|2.8|\n",
      "|Import volume (NIPA basis, goods)| |-5.9|14.6|6.8|-1.6|2.5|1.0|0.5|0.5|0.3|0.1|\n",
      "|Net International Investment Position (% of GDP)| |-69.0|-79.6|-62.8|-72.2|-71.6|-71.7|-71.5|-71.0|-70.2|-69.2|\n",
      "|Saving and Investment(% of GDP)| | | | | | | | | | | |\n",
      "|Gross national saving| |18.5|17.8|18.3|16.4|16.3|16.7|17.2|17.7|18.2|18.6|\n",
      "|General government| |-10.9|-7.8|-1.1|-3.8|-4.2|-4.3|-3.9|-3.5|-3.5|-3.4|\n",
      "|Private| |29.4|25.6|19.3|20.3|20.6|21.0|21.1|21.2|21.7|22.0|\n",
      "|Personal| |12.6|9.0|2.4|3.3|2.8|2.7|2.4|2.4|2.7|3.0|\n",
      "|Business| |16.8|16.6|16.9|17.0|17.8|18.3|18.7|18.9|19.0|19.0|\n",
      "|Gross domestic investment| |21.4|21.4|21.9|21.3|21.5|21.6|21.8|21.9|22.0|22.1|\n",
      "|Private| |17.6|17.9|18.5|17.7|17.7|17.8|17.9|18.1|18.3|18.4|\n",
      "|Public| |3.8|3.5|3.4|3.6|3.8|3.8|3.9|3.8|3.8|3.7|\n",
      "\n",
      "Sources: BEA; BLS; FRB; Haver Analytics; and IMF staff estimates.\n",
      "\n",
      "1/ Contribution to real GDP growth, percentage points.\n",
      "\n",
      "2/ Includes staff's adjustments for one-off items, including costs of financial sector support.\n"
     ]
    }
   ],
   "source": [
    "print(documents[0].text)"
   ]
  },
  {
   "cell_type": "code",
   "execution_count": 15,
   "metadata": {},
   "outputs": [],
   "source": [
    "instruct_parser = LlamaParse(\n",
    "    api_key=os.environ['LLAMA_CLOUD_API_KEY'],\n",
    "    result_type=\"markdown\",  # \"markdown\" and \"text\" are available\n",
    "    parsing_instruction=\"\"\" \n",
    "    I only need table contents with years as column names and economic indicators as row names\n",
    "    \"\"\",\n",
    "    num_workers=4,  # if multiple files passed, split in `num_workers` API calls\n",
    "    verbose=True,\n",
    "    language=\"en\",  # Optionally you can define a language, default=en\n",
    ")"
   ]
  },
  {
   "cell_type": "code",
   "execution_count": 16,
   "metadata": {},
   "outputs": [
    {
     "name": "stdout",
     "output_type": "stream",
     "text": [
      "Started parsing the file under job_id 50bf3469-6f18-4325-bafe-551683114513\n",
      "......."
     ]
    }
   ],
   "source": [
    "documents = instruct_parser.load_data(docs[0])"
   ]
  },
  {
   "cell_type": "code",
   "execution_count": 17,
   "metadata": {},
   "outputs": [
    {
     "name": "stdout",
     "output_type": "stream",
     "text": [
      "# UNITED STATES\n",
      "\n",
      "# Table 1. United States: Selected Economic Indicators, 2020-29\n",
      "\n",
      "# (Percentage change from previous period, unless otherwise indicated)\n",
      "\n",
      "|Economic Indicators|2020|2021|2022|2023|2024|2025|2026|2027|2028|2029|\n",
      "|---|---|---|---|---|---|---|---|---|---|---|\n",
      "|National Production and Income| | | | | | | | | | |\n",
      "|Real GDP|-2.2|5.8|1.9|2.5|2.6|1.9|2.0|2.1|2.1|2.1|\n",
      "|Real GDP (q4/q4)|-1.1|5.4|0.7|3.1|2.0|1.8|2.1|2.1|2.1|2.1|\n",
      "|Net exports 1/|-0.2|-1.3|-0.5|0.6|-0.2|0.0|0.1|0.2|0.2|0.2|\n",
      "|Total domestic demand|-1.9|6.9|2.3|1.9|2.6|1.8|1.8|1.9|1.9|1.9|\n",
      "|Final domestic demand|-1.5|6.6|1.7|2.3|2.7|1.8|1.8|1.9|1.9|1.9|\n",
      "|Private final consumption|-2.5|8.4|2.5|2.2|2.3|1.5|1.4|1.6|1.6|1.6|\n",
      "|Public consumption expenditure|2.9|0.3|-0.9|2.7|2.0|1.5|1.3|1.3|1.3|1.3|\n",
      "|Gross fixed domestic investment|-1.0|5.3|0.9|2.1|4.5|3.1|3.6|3.2|3.1|3.1|\n",
      "|Private fixed investment|-2.1|7.1|1.3|0.6|4.0|2.9|3.7|3.8|3.8|3.8|\n",
      "|Public fixed investment|4.3|-2.8|-1.1|9.4|7.1|3.9|3.4|0.5|0.0|0.0|\n",
      "|Change in private inventories 1/|-0.5|0.3|0.6|-0.3|-0.1|0.0|0.0|0.0|0.0|0.0|\n",
      "|Nominal GDP|-0.9|10.7|9.1|6.3|5.1|3.9|3.9|4.0|4.0|4.0|\n",
      "|Personal saving rate (% of disposable income)|15.3|11.3|3.3|4.5|3.8|3.7|3.4|3.3|3.8|4.2|\n",
      "|Private investment rate(% of GDP)|17.6|17.9|18.5|17.7|17.7|17.8|17.9|18.1|18.3|18.4|\n",
      "|Unemployment and Potential Output| | | | | | | | | | |\n",
      "|Unemployment rate|8.1|5.4|3.6|3.6|4.0|4.3|4.3|4.2|4.0|3.9|\n",
      "|Labor force participation rate|61.8|61.7|62.2|62.6|62.6|62.6|62.5|62.4|62.3|62.2|\n",
      "|Potential GDP|1.2|2.2|2.3|2.4|2.5|2.4|2.3|2.1|2.1|2.1|\n",
      "|Output gap (% of potential GDP)|-2.6|0.8|0.4|0.6|0.6|0.2|-0.2|-0.2|-0.2|-0.1|\n",
      "|Inflation| | | | | | | | | | |\n",
      "|CPI inflation (q4/q4)|1.2|6.8|7.1|3.2|2.8|1.9|2.1|2.1|2.1|2.1|\n",
      "|Core CPI Inflation (q4/q4)|1.6|5.0|6.0|4.0|3.1|2.2|2.3|2.3|2.3|2.3|\n",
      "|PCE Inflation (q4/q4)|1.2|5.9|5.9|2.8|2.4|1.8|1.9|1.9|1.9|1.9|\n",
      "|Core PCE Inflation (q4/q4)|1.4|4.9|5.1|3.2|2.5|1.9|2.0|2.0|2.0|2.0|\n",
      "|GDP deflator|1.3|4.6|7.1|3.6|2.5|2.0|1.8|1.8|1.8|1.8|\n",
      "|Government Finances| | | | | | | | | | |\n",
      "|Federal balance(% of GDP) 2/|-14.7|-12.1|-5.4|-6.3|-6.8|-6.6|-6.1|-5.4|-5.6|-5.3|\n",
      "|Federal debt held by the public(% of GDP)|98.7|97.1|95.8|97.3|99.2|102.1|104.7|106.3|108.1|109.5|\n",
      "|General government budget balance(% of GDP)|-13.9|-11.1|-4.1|-7.6|-7.8|-7.6|-7.2|-6.7|-6.7|-6.5|\n",
      "|General government gross debt(% of GDP)|132.0|125.0|119.8|120.7|123.2|126.7|129.6|131.8|134.0|135.9|\n",
      "|Interest Rates (percent; period average)| | | | | | | | | | |\n",
      "|Fed funds rate|0.4|0.1|1.7|5.1|5.4|4.7|3.7|2.9|2.9|2.9|\n",
      "|Three-month Treasury bill rate|0.4|0.0|2.1|5.3|5.4|4.8|3.8|3.0|3.0|3.0|\n",
      "|Ten-year government bond rate|0.9|1.4|3.0|4.0|4.2|3.7|3.3|3.2|3.2|3.2|\n",
      "|Balance of Payments| | | | | | | | | | |\n",
      "|Current account balance(% of GDP)|-2.8|-3.5|-3.8|-3.0|-2.9|-2.8|-2.5|-2.2|-1.9|-1.6|\n",
      "|Merchandise trade balance(% of GDP)|-4.3|-4.6|-4.6|-3.9|-3.8|-3.5|-3.2|-3.0|-2.7|-2.4|\n",
      "|Export volume (NIPA basis, goods)|-10.0|7.6|5.8|2.6|2.8|3.6|3.0|3.0|2.9|2.8|\n",
      "|Import volume (NIPA basis, goods)|-5.9|14.6|6.8|-1.6|2.5|1.0|0.5|0.5|0.3|0.1|\n",
      "|Net International Investment Position (% of GDP)|-69.0|-79.6|-62.8|-72.2|-71.6|-71.7|-71.5|-71.0|-70.2|-69.2|\n",
      "|Saving and Investment(% of GDP)| | | | | | | | | | |\n",
      "|Gross national saving|18.5|17.8|18.3|16.4|16.3|16.7|17.2|17.7|18.2|18.6|\n",
      "|General government|-10.9|-7.8|-1.1|-3.8|-4.2|-4.3|-3.9|-3.5|-3.5|-3.4|\n",
      "|Private|29.4|25.6|19.3|20.3|20.6|21.0|21.1|21.2|21.7|22.0|\n",
      "|Personal|12.6|9.0|2.4|3.3|2.8|2.7|2.4|2.4|2.7|3.0|\n",
      "|Business|16.8|16.6|16.9|17.0|17.8|18.3|18.7|18.9|19.0|19.0|\n",
      "|Gross domestic investment|21.4|21.4|21.9|21.3|21.5|21.6|21.8|21.9|22.0|22.1|\n",
      "|Private|17.6|17.9|18.5|17.7|17.7|17.8|17.9|18.1|18.3|18.4|\n",
      "|Public|3.8|3.5|3.4|3.6|3.8|3.8|3.9|3.8|3.8|3.7|\n",
      "\n",
      "Sources: BEA; BLS; FRB; Haver Analytics; and IMF staff estimates.\n",
      "\n",
      "1/ Contribution to real GDP growth, percentage points.\n",
      "\n",
      "2/ Includes staff's adjustments for one-off items, including costs of financial sector support.\n"
     ]
    }
   ],
   "source": [
    "print(documents[0].text)"
   ]
  },
  {
   "cell_type": "markdown",
   "metadata": {},
   "source": [
    "#### Work on batches "
   ]
  },
  {
   "cell_type": "code",
   "execution_count": 26,
   "metadata": {},
   "outputs": [
    {
     "name": "stderr",
     "output_type": "stream",
     "text": [
      "Parsing files: 100%|██████████| 2/2 [01:32<00:00, 46.38s/it]\n"
     ]
    }
   ],
   "source": [
    "documents = instruct_parser.load_data(docs)"
   ]
  },
  {
   "cell_type": "code",
   "execution_count": null,
   "metadata": {},
   "outputs": [],
   "source": [
    "for document,dp in zip(documents,docs):\n",
    "    out_name = dp.replace('pdf','md')\n",
    "    with open(out_name,'w') as f:\n",
    "        f.write(document.text)"
   ]
  }
 ],
 "metadata": {
  "kernelspec": {
   "display_name": "gpt",
   "language": "python",
   "name": "python3"
  },
  "language_info": {
   "codemirror_mode": {
    "name": "ipython",
    "version": 3
   },
   "file_extension": ".py",
   "mimetype": "text/x-python",
   "name": "python",
   "nbconvert_exporter": "python",
   "pygments_lexer": "ipython3",
   "version": "3.9.19"
  }
 },
 "nbformat": 4,
 "nbformat_minor": 2
}
