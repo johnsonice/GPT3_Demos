{
 "cells": [
  {
   "cell_type": "code",
   "execution_count": 1,
   "metadata": {},
   "outputs": [
    {
     "data": {
      "text/plain": [
       "True"
      ]
     },
     "execution_count": 1,
     "metadata": {},
     "output_type": "execute_result"
    }
   ],
   "source": [
    "from google import genai\n",
    "from google.genai import types\n",
    "import os,re,json\n",
    "import pathlib\n",
    "import httpx\n",
    "import pandas as pd\n",
    "from io import StringIO\n",
    "from dotenv import load_dotenv\n",
    "load_dotenv()"
   ]
  },
  {
   "cell_type": "code",
   "execution_count": 2,
   "metadata": {},
   "outputs": [],
   "source": [
    "client = genai.Client(api_key=os.getenv(\"GEMINI_API_KEY\"))"
   ]
  },
  {
   "cell_type": "code",
   "execution_count": 3,
   "metadata": {},
   "outputs": [],
   "source": [
    "PROMPT_RAM = \"\"\"\n",
    "**Objective:** Extract data from Risk Assessment Matrix (RAM) tables within a provided document and output it into a structured CSV file.\n",
    "\n",
    "**Phase 1: Identification of Relevant Risk Assessment Matrix Tables**\n",
    "Carefully examine the document to identify the correct table(s) based on the following ordered criteria:\n",
    "\n",
    "1.  **Primary Keyword Search:**\n",
    "    * Look for titles or headings immediately preceding a table that contain any of these exact phrases (case-insensitive): \"RAM\", \"Risk Assessment Matrix\", \"Overall Level of Concern\".\n",
    "    * Look for these same phrases within the table itself, either as a table heading or as a column header.\n",
    "2.  **Handling Multi-Page Tables:**\n",
    "    * If a table matching the criteria spans multiple pages, ensure all segments of the table are consolidated and treated as a single entity.\n",
    "3.  **Appendix Search (Secondary Location):**\n",
    "    * If no table is identified in the main body of the document using the primary keywords, search within any section labeled as \"Appendix\" (or similar, e.g., \"Annex\").\n",
    "    * In the appendix, look for tables that contain column names such as (or similar to): \"Source\", \"Risk\", \"Threat\", \"Likelihood\", AND \"Impact\". The presence of columns related to both likelihood and impact is crucial here.\n",
    "4.  **No Table Found:**\n",
    "    * If, after following all the above steps, no suitable table can be confidently identified, return nothing or an empty CSV.\n",
    "\n",
    "**Phase 2: Data Extraction and CSV Output Formatting**\n",
    "Once a relevant table is identified, extract its data and structure it into a CSV file with the following precise columns. Apply these rules to each row of the identified table(s):\n",
    "\n",
    "1.  **`Heading`**:\n",
    "    * Content: Store the table's primary title or caption if available. If multiple (e.g., a number and a title), combine them. If no explicit title/caption is found directly associated with the table, leave this field empty for that table's rows.\n",
    "2.  **`Risk Type`**:\n",
    "    * Source: Identify the row, column or section headers  in the source table that most likely contains types of risks. They oftern appear as 'Global Risks','External Risks' or 'Domestic Risks','Country Specific Risks', or similar.\n",
    "    * Content: it should be classificed as either \"Global Risks\" Or \"Domestic Risks\". This field cannot be empty. \n",
    "3.  **`Risk`**:\n",
    "    * Source: Identify the column in the source table that most likely contains risk descriptions. Look for column headers containing keywords like \"Risk\", \"Threat\", \"Hazard\", or \"Source\".\n",
    "    * Content: Extract the full text from this cell. This field cannot be empty. It often contains long, descriptive text.\n",
    "4.  **`Time Horizon`**:\n",
    "    * Source: Identify the column in the source table that most likely contains description on the time horizon of the risk. Look for column headers containing keywords like \"Time Horizon\".\n",
    "    * Content: Extract coresponding time horizon description from this cell. There are cases where time horizon information is mix together with likelihood infomation, Make sure only extract time horizon infomation. This field is optional, if the table does not contain this information, leave it empty.\n",
    "5.  **`Likelihood Full`**:\n",
    "    * Source: Identify the column in the source table that most likely contains detailed likelihood information. Look for column headers containing the keyword \"Likelihood\".\n",
    "    * Content: Extract EVERYTHING from this cell, including multiple paragraphs, bullet points, and any text separated by large blank spaces. This field cannot be empty.\n",
    "6.  **`Likelihood`**:\n",
    "    * Source: From the content extracted for `Likelihood Full`.\n",
    "    * Content: Extract only the first line or primary categorical value that typically describes the level of likelihood (e.g., \"High\", \"Medium\", \"Low\", \"Likely\", \"Unlikely\", \"Remote\", \"Possible\", \"Frequent\"). If the first line is a detailed sentence, try to infer the single-word or short-phrase category.\n",
    "7.  **`Impact Full`**:\n",
    "    * Source: Identify the column in the source table that most likely contains detailed impact information. Look for column headers containing the keyword \"Impact\" or \"Consequence\".\n",
    "    * Content: Extract EVERYTHING from this cell, including multiple paragraphs, bullet points, and any text separated by large blank spaces. This field cannot be empty.\n",
    "8.  **`Impact`**:\n",
    "    * Source: From the content extracted for `Impact Full`.\n",
    "    * Content: Extract only the first line or primary categorical value that typically describes the level of impact (e.g., \"High\", \"Medium\", \"Low\", \"Severe\", \"Moderate\", \"Minor\", \"Catastrophic\", \"Significant\"). If the first line is a detailed sentence, try to infer the single-word or short-phrase category.\n",
    "9.  **`Policy Response`**:\n",
    "    * Source: Identify the column in the source table that most likely contains information about policy responses to the risk. Look for column headers containing keywords like \"Policy\", \"Response\", \"Mitigation\", \"Action\", or \"Measure\".\n",
    "    * Content: Extract the full text from this cell. If no such column is found, or if the cell for a given risk is empty, leave this field empty in the CSV.\n",
    "\n",
    "**Phase 3: Important Processing Details**\n",
    "\n",
    "1.  **Footnote Removal:** If footnotes or source notes are present directly beneath the table content (and are clearly distinguishable from the main table data), they should be excluded from the extraction.\n",
    "2.  **Data Integrity:**\n",
    "    * If a row within an identified RAM table is missing data for the determined \"Risk\", \"Likelihood Full\", or \"Impact Full\" source columns, still include the row but leave the corresponding CSV cells empty for that missing piece (this slightly overrides \"can't be empty\" for cases where a source cell *within an otherwise valid RAM row* is blank). The expectation is that most rows in a valid RAM will have this data.\n",
    "    * Prioritize accurate mapping of table columns to the requested CSV columns.\n",
    "    * All data rows must have the **same number of columns** as the table header. Ensure all rows are well-formed and consistent.\n",
    "\n",
    "**Output:**\n",
    "Provide the extracted data as a single CSV file.\n",
    "\n",
    "\"\"\""
   ]
  },
  {
   "cell_type": "code",
   "execution_count": 5,
   "metadata": {},
   "outputs": [],
   "source": [
    "def extract_csv_content(text):\n",
    "    match = re.search(r\"```csv(.*?)```\", text, re.DOTALL)\n",
    "    if match:\n",
    "        return match.group(1).strip()\n",
    "    return text.strip()\n",
    "\n",
    "def clean_markdown_fence(text):\n",
    "    \"\"\"\n",
    "    Removes Markdown code fences like ```csv ... ``` and returns only the inner content.\n",
    "    Handles cases with or without newlines, with or without language tags.\n",
    "    \"\"\"\n",
    "    # Match fenced code block with or without language tag\n",
    "    match = re.search(r\"```(?:\\w+)?(.*?)```\", text, re.DOTALL)\n",
    "    if match:\n",
    "        return match.group(1).strip()\n",
    "    return text.strip()\n",
    "\n",
    "def clean_RAM(ram):\n",
    "\n",
    "    letter_pattern = r'[a-zA-Z]'\n",
    "    keyword_pattern = r'(risk|assessment|matrix|ram)'\n",
    "    likelihood_impact_keywords = ['high', 'medium', 'low', 'moderate', 'severe']\n",
    "\n",
    "    # Remove rows where 'Likelihood' or 'Impact' columns contain no letters\n",
    "\n",
    "    cleaned_df = ram[\n",
    "        ram['Likelihood'].str.contains(letter_pattern, na=False) &\n",
    "        ram['Impact'].str.contains(letter_pattern, na=False) &\n",
    "        ram['Likelihood Full'].str.contains(letter_pattern, na=False) &\n",
    "        ram['Impact Full'].str.contains(letter_pattern, na=False)\n",
    "    ]\n",
    "\n",
    "    # Remove rows where 'Heading' does not contain RAM keywords if 'Heading' is not missing\n",
    "    cleaned_df = cleaned_df[\n",
    "        cleaned_df['Heading'].isna() | \n",
    "        (cleaned_df['Heading'].str.count(keyword_pattern, flags=re.IGNORECASE) >=2)\n",
    "    ]\n",
    "\n",
    "    # # Remove rows where 'Likelihood' or 'Impact' columns do not contain keywords from high, medium, low\n",
    "    # cleaned_df = cleaned_df[\n",
    "    #     cleaned_df['Likelihood'].str.contains('|'.join(likelihood_impact_keywords), case=False, na=False) |\n",
    "    #     cleaned_df['Impact'].str.contains('|'.join(likelihood_impact_keywords), case=False, na=False)\n",
    "    # ]\n",
    "\n",
    "    # Keep only the specified columns\n",
    "    cleaned_df = cleaned_df[['Heading', 'Risk Type','Risk', 'Time Horizon','Likelihood', 'Likelihood Full', 'Impact', 'Impact Full','Policy Response']]\n",
    "\n",
    "    print(f\"Rows before cleaning: {len(ram)}\")\n",
    "    print(f\"Rows after cleaning: {len(cleaned_df)}\")\n",
    "\n",
    "    return cleaned_df"
   ]
  },
  {
   "cell_type": "markdown",
   "metadata": {},
   "source": [
    "- process to convert to csv directly "
   ]
  },
  {
   "cell_type": "code",
   "execution_count": 6,
   "metadata": {},
   "outputs": [
    {
     "data": {
      "text/plain": [
       "True"
      ]
     },
     "execution_count": 6,
     "metadata": {},
     "output_type": "execute_result"
    }
   ],
   "source": [
    "# Retrieve and encode the PDF byte\n",
    "f_path= \"/ephemeral/home/xiong/data/Fund/RAM_Table/RAM_Table_Examples/678_2023_0.pdf\"\n",
    "#### experimented with various coner cases 124_2022_0; 466_2022_0;  536_2023_0\n",
    "filepath = pathlib.Path(f_path)\n",
    "filepath.exists()"
   ]
  },
  {
   "cell_type": "code",
   "execution_count": 7,
   "metadata": {},
   "outputs": [],
   "source": [
    "response = client.models.generate_content(\n",
    "          model=\"gemini-2.5-pro-preview-05-06\",\n",
    "          contents=[\n",
    "              types.Part.from_bytes(\n",
    "                data=filepath.read_bytes(),\n",
    "                mime_type='application/pdf',\n",
    "              ),\n",
    "              PROMPT_RAM])\n"
   ]
  },
  {
   "cell_type": "code",
   "execution_count": 8,
   "metadata": {},
   "outputs": [
    {
     "name": "stdout",
     "output_type": "stream",
     "text": [
      "Rows before cleaning: 8\n",
      "Rows after cleaning: 7\n"
     ]
    }
   ],
   "source": [
    "df = pd.read_csv(StringIO(extract_csv_content(response.text)))\n",
    "if df.empty:\n",
    "    print(\"No relevant RAM table found.\")\n",
    "else:\n",
    "    df = clean_RAM(df)"
   ]
  },
  {
   "cell_type": "code",
   "execution_count": 9,
   "metadata": {},
   "outputs": [
    {
     "data": {
      "text/html": [
       "<div>\n",
       "<style scoped>\n",
       "    .dataframe tbody tr th:only-of-type {\n",
       "        vertical-align: middle;\n",
       "    }\n",
       "\n",
       "    .dataframe tbody tr th {\n",
       "        vertical-align: top;\n",
       "    }\n",
       "\n",
       "    .dataframe thead th {\n",
       "        text-align: right;\n",
       "    }\n",
       "</style>\n",
       "<table border=\"1\" class=\"dataframe\">\n",
       "  <thead>\n",
       "    <tr style=\"text-align: right;\">\n",
       "      <th></th>\n",
       "      <th>Heading</th>\n",
       "      <th>Risk Type</th>\n",
       "      <th>Risk</th>\n",
       "      <th>Time Horizon</th>\n",
       "      <th>Likelihood</th>\n",
       "      <th>Likelihood Full</th>\n",
       "      <th>Impact</th>\n",
       "      <th>Impact Full</th>\n",
       "      <th>Policy Response</th>\n",
       "    </tr>\n",
       "  </thead>\n",
       "  <tbody>\n",
       "    <tr>\n",
       "      <th>0</th>\n",
       "      <td>Annex VI. Risk Assessment Matrix</td>\n",
       "      <td>Global Risks</td>\n",
       "      <td>Intensification of regional conflict(s). Escal...</td>\n",
       "      <td>Shorter horizon (12-18 months)</td>\n",
       "      <td>High</td>\n",
       "      <td>High</td>\n",
       "      <td>Medium</td>\n",
       "      <td>Medium\\nFurther sanctions on Russia/Belorussia...</td>\n",
       "      <td>• Targeted social measures\\n• Create fiscal sp...</td>\n",
       "    </tr>\n",
       "    <tr>\n",
       "      <th>1</th>\n",
       "      <td>Annex VI. Risk Assessment Matrix</td>\n",
       "      <td>Global Risks</td>\n",
       "      <td>Commodity price volatility. A succession of su...</td>\n",
       "      <td>Shorter horizon (12-18 months)</td>\n",
       "      <td>Medium</td>\n",
       "      <td>Medium</td>\n",
       "      <td>High</td>\n",
       "      <td>High\\nThe effect on Mali will depend on the si...</td>\n",
       "      <td>• Create fiscal space to scale up social spend...</td>\n",
       "    </tr>\n",
       "    <tr>\n",
       "      <th>2</th>\n",
       "      <td>Annex VI. Risk Assessment Matrix</td>\n",
       "      <td>Global Risks</td>\n",
       "      <td>Monetary policy miscalibration. Amid high econ...</td>\n",
       "      <td>Shorter horizon (12-18 months)</td>\n",
       "      <td>Medium</td>\n",
       "      <td>Medium</td>\n",
       "      <td>Medium</td>\n",
       "      <td>Medium\\nSupply shocks could cause core and hea...</td>\n",
       "      <td>• Create fiscal space for priority spending th...</td>\n",
       "    </tr>\n",
       "    <tr>\n",
       "      <th>3</th>\n",
       "      <td>Annex VI. Risk Assessment Matrix</td>\n",
       "      <td>Global Risks</td>\n",
       "      <td>Abrupt global slowdown or recession. Global an...</td>\n",
       "      <td>Shorter horizon (12-18 months)</td>\n",
       "      <td>Medium</td>\n",
       "      <td>Medium</td>\n",
       "      <td>High</td>\n",
       "      <td>High\\nMali will be negatively affected by lowe...</td>\n",
       "      <td>• Create fiscal buffers to absorb risk premia ...</td>\n",
       "    </tr>\n",
       "    <tr>\n",
       "      <th>5</th>\n",
       "      <td>Annex VI. Risk Assessment Matrix</td>\n",
       "      <td>Global Risks</td>\n",
       "      <td>Extreme climate events. Extreme climate events...</td>\n",
       "      <td>Longer horizon</td>\n",
       "      <td>Medium</td>\n",
       "      <td>Medium</td>\n",
       "      <td>Medium</td>\n",
       "      <td>Medium\\nExtreme drought or rainfall could adve...</td>\n",
       "      <td>• Build resilience to climate change in agricu...</td>\n",
       "    </tr>\n",
       "    <tr>\n",
       "      <th>6</th>\n",
       "      <td>Annex VI. Risk Assessment Matrix</td>\n",
       "      <td>Domestic Risks</td>\n",
       "      <td>Significant deterioration of security situatio...</td>\n",
       "      <td>Shorter horizon (12-18 months)</td>\n",
       "      <td>High</td>\n",
       "      <td>High</td>\n",
       "      <td>High</td>\n",
       "      <td>High\\nA deterioration in the security situatio...</td>\n",
       "      <td>• Restore collaboration with international sec...</td>\n",
       "    </tr>\n",
       "    <tr>\n",
       "      <th>7</th>\n",
       "      <td>Annex VI. Risk Assessment Matrix</td>\n",
       "      <td>Domestic Risks</td>\n",
       "      <td>Risks of socio-political instability. Any dela...</td>\n",
       "      <td>Shorter horizon (12-18 months)</td>\n",
       "      <td>Medium/High</td>\n",
       "      <td>Medium/High</td>\n",
       "      <td>High</td>\n",
       "      <td>High\\nNew sanctions may constrain imports and ...</td>\n",
       "      <td>• Adhere to agreed timetable for return to dem...</td>\n",
       "    </tr>\n",
       "  </tbody>\n",
       "</table>\n",
       "</div>"
      ],
      "text/plain": [
       "                            Heading       Risk Type  \\\n",
       "0  Annex VI. Risk Assessment Matrix    Global Risks   \n",
       "1  Annex VI. Risk Assessment Matrix    Global Risks   \n",
       "2  Annex VI. Risk Assessment Matrix    Global Risks   \n",
       "3  Annex VI. Risk Assessment Matrix    Global Risks   \n",
       "5  Annex VI. Risk Assessment Matrix    Global Risks   \n",
       "6  Annex VI. Risk Assessment Matrix  Domestic Risks   \n",
       "7  Annex VI. Risk Assessment Matrix  Domestic Risks   \n",
       "\n",
       "                                                Risk  \\\n",
       "0  Intensification of regional conflict(s). Escal...   \n",
       "1  Commodity price volatility. A succession of su...   \n",
       "2  Monetary policy miscalibration. Amid high econ...   \n",
       "3  Abrupt global slowdown or recession. Global an...   \n",
       "5  Extreme climate events. Extreme climate events...   \n",
       "6  Significant deterioration of security situatio...   \n",
       "7  Risks of socio-political instability. Any dela...   \n",
       "\n",
       "                     Time Horizon   Likelihood Likelihood Full  Impact  \\\n",
       "0  Shorter horizon (12-18 months)         High            High  Medium   \n",
       "1  Shorter horizon (12-18 months)       Medium          Medium    High   \n",
       "2  Shorter horizon (12-18 months)       Medium          Medium  Medium   \n",
       "3  Shorter horizon (12-18 months)       Medium          Medium    High   \n",
       "5                  Longer horizon       Medium          Medium  Medium   \n",
       "6  Shorter horizon (12-18 months)         High            High    High   \n",
       "7  Shorter horizon (12-18 months)  Medium/High     Medium/High    High   \n",
       "\n",
       "                                         Impact Full  \\\n",
       "0  Medium\\nFurther sanctions on Russia/Belorussia...   \n",
       "1  High\\nThe effect on Mali will depend on the si...   \n",
       "2  Medium\\nSupply shocks could cause core and hea...   \n",
       "3  High\\nMali will be negatively affected by lowe...   \n",
       "5  Medium\\nExtreme drought or rainfall could adve...   \n",
       "6  High\\nA deterioration in the security situatio...   \n",
       "7  High\\nNew sanctions may constrain imports and ...   \n",
       "\n",
       "                                     Policy Response  \n",
       "0  • Targeted social measures\\n• Create fiscal sp...  \n",
       "1  • Create fiscal space to scale up social spend...  \n",
       "2  • Create fiscal space for priority spending th...  \n",
       "3  • Create fiscal buffers to absorb risk premia ...  \n",
       "5  • Build resilience to climate change in agricu...  \n",
       "6  • Restore collaboration with international sec...  \n",
       "7  • Adhere to agreed timetable for return to dem...  "
      ]
     },
     "execution_count": 9,
     "metadata": {},
     "output_type": "execute_result"
    }
   ],
   "source": [
    "df"
   ]
  },
  {
   "cell_type": "markdown",
   "metadata": {},
   "source": [
    "- process to convert to markdown "
   ]
  },
  {
   "cell_type": "code",
   "execution_count": 10,
   "metadata": {},
   "outputs": [],
   "source": [
    "from IPython.display import Markdown, display"
   ]
  },
  {
   "cell_type": "code",
   "execution_count": 11,
   "metadata": {},
   "outputs": [],
   "source": [
    "PROMPT_RAM_MD = \"\"\"\n",
    "**Objective:** Convert data from Risk Assessment Matrix (RAM) tables within a provided document and output it into a Markdown.\n",
    "\n",
    "**Phase 1: Identification of Relevant Risk Assessment Matrix Tables**\n",
    "Carefully examine the document to identify the correct table(s) based on the following ordered criteria:\n",
    "\n",
    "1.  **Primary Keyword Search:**\n",
    "    * Look for titles or headings immediately preceding a table that contain any of these exact phrases (case-insensitive): \"RAM\", \"Risk Assessment Matrix\", \"Overall Level of Concern\".\n",
    "    * Look for these same phrases within the table itself, either as a table heading or as a column header.\n",
    "2.  **Handling Multi-Page Tables:**\n",
    "    * If a table matching the criteria spans multiple pages, ensure all segments of the table are consolidated and treated as a single entity.\n",
    "3.  **Appendix Search (Secondary Location):**\n",
    "    * If no table is identified in the main body of the document using the primary keywords, search within any section labeled as \"Appendix\" (or similar, e.g., \"Annex\").\n",
    "    * In the appendix, look for tables that contain column names such as (or similar to): \"Source\", \"Risk\", \"Threat\", \"Likelihood\", AND \"Impact\". The presence of columns related to both likelihood and impact is crucial here.\n",
    "4.  **No Table Found:**\n",
    "    * If, after following all the above steps, no suitable table can be confidently identified, return nothing.\n",
    "    \n",
    "**Phase 2: Data Extraction and Markdown Output Formatting**\n",
    "1.  Once a relevant table is identified, extract its data and structure it into a Markdown format.\n",
    "\n",
    "**Phase 3: Important Processing Details**\n",
    "1.  **Footnote Removal:** If footnotes or source notes are present directly beneath the table content (and are clearly distinguishable from the main table data), they should be excluded from the extraction.\n",
    "2.  **Data Integrity:** the output content should be the exact content from the table, without any paraphrasing, summarization or modification in wording. \n",
    "\n",
    "**Output:**\n",
    "Provide the extracted data as a Markdown file.\n",
    "\"\"\""
   ]
  },
  {
   "cell_type": "code",
   "execution_count": 12,
   "metadata": {},
   "outputs": [],
   "source": [
    "response = client.models.generate_content(\n",
    "          model=\"gemini-2.5-pro-preview-05-06\",\n",
    "          contents=[\n",
    "              types.Part.from_bytes(\n",
    "                data=filepath.read_bytes(),\n",
    "                mime_type='application/pdf',\n",
    "              ),\n",
    "              PROMPT_RAM_MD])"
   ]
  },
  {
   "cell_type": "code",
   "execution_count": 42,
   "metadata": {},
   "outputs": [],
   "source": [
    "# print(response.text)"
   ]
  },
  {
   "cell_type": "code",
   "execution_count": 13,
   "metadata": {},
   "outputs": [
    {
     "data": {
      "text/markdown": [
       "### MALI\n",
       "### Annex VI. Risk Assessment Matrix\n",
       "\n",
       "| Source of Risk | Relative Likelihood | Expected Impact if Realized / Time Horizon | Policies to Mitigate Risks |\n",
       "|---|---|---|---|\n",
       "| **Global Risks / Conjunctural Shocks** ||||\n",
       "| • Intensification of regional conflict(s). Escalation of Russia's war in Ukraine or other regional conflicts and resulting economic sanctions disrupt trade (e.g., energy, food, tourism, and/or critical supply chain components), remittances, refugee flows, FDI and financial flows, and payment systems. | High | Medium <br> Further sanctions on Russia/Belorussia could lead to supply shortages for fertilizer but is likely to have less of an impact on agricultural imports. Higher commodity prices could raise consumer price inflation. | • Targeted social measures <br> • Create fiscal space to scale up social spending <br> • Continue structural reforms to diversify the economy and remove constraints to growth <br> • Bolster trade links with alternative suppliers |\n",
       "| • Commodity price volatility. A succession of supply disruptions (e.g., due to conflicts and export restrictions) and demand fluctuations (e.g., reflecting China reopening) causes recurrent commodity price volatility, external and fiscal pressures, and social and economic instability. | Medium | High <br> The effect on Mali will depend on the size and direction of any changes in different commodity prices. Higher food and energy commodity prices could cause social and economic tensions by raising Mali's food and energy imports bill, for example. Any volatility would potentially raise uncertainty, which could weigh on capital investment. | • Create fiscal space to scale up social spending <br> • Targeted social measures <br> • Raise domestic food supply and request aid from international partners for food/energy needs <br> • Review principles of the fiscal regime for mining taxation <br> • Enhance resilience against commodity price shocks by updating revenue projections in multi-year fiscal framework |\n",
       "| • Monetary policy miscalibration. Amid high economic uncertainty and volatility, major central banks slow monetary policy tightening or pivot to loosen monetary policy stance prematurely, de-anchoring inflation expectations and triggering a wage-price spiral in tight labor markets. | Medium | Medium <br> Supply shocks could cause core and headline inflation to spike and lead to a further wage-price spiral, especially in the public sector. In addition, tighter global monetary policy could put downward pressure on gold prices, reduce gold production, investment and export revenues. Cotton prices may also fall in response to global recession. | • Create fiscal space for priority spending through revenue mobilization and gradual cuts in non-targeted subsidies, while protecting growth-enhancing capital spending as much as possible <br> • Avoid real increases in the public sector wage bill <br> • Longer term, diversify economy away from mining and the narrow agricultural base |\n",
       "| • Abrupt global slowdown or recession. Global and idiosyncratic risk factors combine to cause a synchronized sharp growth downturn, with recessions in some countries, adverse spillovers through trade and financial channels, and markets fragmentation. <br> • EMDES: A new bout of global financial tightening, possibly combined with volatile commodity prices, leads to spiking risk premia, debt distress, widening of external imbalances, fiscal pressures, and sudden stops. | Medium | High <br> Mali will be negatively affected by lower gold and cotton prices, accounting for over 85 percent of its exports. A spike in risk premia on EMDE debt could lead to sovereign debt distress as the DSA already points to limited space to absorb shocks. | • Create fiscal buffers to absorb risk premia shocks <br> • Enhance resilience against commodity price shocks by updating revenue projections in multi-year fiscal framework <br> • Raise domestic food supply and request aid from international partners for food/energy needs |\n",
       "| **Global Structural risks** ||||\n",
       "| • Extreme climate events. Extreme climate events cause more severe than expected damage to infrastructure (especially in smaller vulnerable economies) and loss of human lives and livelihoods, amplifying supply chain disruptions and inflationary pressures, causing water and food shortages, and reducing growth. | Medium | Medium <br> Extreme drought or rainfall could adversely affect food production and livelihoods, particularly given that a large share of Mali's agriculture is for self-sustenance. | • Build resilience to climate change in agriculture <br> • Longer term, broaden the economic base and expand non-agricultural activities |\n",
       "| **Domestic/Regional Risks** ||||\n",
       "| • Significant deterioration of security situation. An increase in terrorist attacks across the country and a rise in the internally displaced population. | High | High <br> A deterioration in the security situation would be expected to lead to a rise in military spending, crowding out developmental priorities. Internal refugee flows would put emergency aid procedures under strain. | • Restore collaboration with international security forces and aid organizations <br> • Adhere to 2015 decentralization agreement with shared responsibilities |\n",
       "| • Risks of socio-political instability. Any delay in the return to democratic rule beyond February 2024 could lead to new ECOWAS sanctions. Non-adherence to the 2015 agreement for decentralization could spark regional tensions in the north and central regions. | Medium/ High | High <br> New sanctions may constrain imports and freeze financial transactions, leading to heightened food insecurity and poverty. | • Adhere to agreed timetable for return to democratic rule <br> • Adhere to 2015 decentralization agreement with shared responsibilities |"
      ],
      "text/plain": [
       "<IPython.core.display.Markdown object>"
      ]
     },
     "metadata": {},
     "output_type": "display_data"
    }
   ],
   "source": [
    "display(Markdown(clean_markdown_fence(response.text)))"
   ]
  },
  {
   "cell_type": "markdown",
   "metadata": {},
   "source": [
    "### Experiment with full document without specific Table Identification "
   ]
  },
  {
   "cell_type": "code",
   "execution_count": 44,
   "metadata": {},
   "outputs": [
    {
     "data": {
      "text/plain": [
       "True"
      ]
     },
     "execution_count": 44,
     "metadata": {},
     "output_type": "execute_result"
    }
   ],
   "source": [
    "full_doc_path= '/ephemeral/home/xiong/data/Fund/pdf_parse/Fund_Document/input/All_AIV_2008-2025_PDF/536_2023_0.pdf'\n",
    "filepath = pathlib.Path(f_path)\n",
    "filepath.exists()"
   ]
  },
  {
   "cell_type": "code",
   "execution_count": 45,
   "metadata": {},
   "outputs": [],
   "source": [
    "response = client.models.generate_content(\n",
    "          model=\"gemini-2.5-pro-preview-05-06\",\n",
    "          contents=[\n",
    "              types.Part.from_bytes(\n",
    "                data=filepath.read_bytes(),\n",
    "                mime_type='application/pdf',\n",
    "              ),\n",
    "              PROMPT_RAM])"
   ]
  },
  {
   "cell_type": "code",
   "execution_count": 46,
   "metadata": {},
   "outputs": [
    {
     "name": "stdout",
     "output_type": "stream",
     "text": [
      "Rows before cleaning: 7\n",
      "Rows after cleaning: 7\n"
     ]
    }
   ],
   "source": [
    "df = pd.read_csv(StringIO(extract_csv_content(response.text)))\n",
    "if df.empty:\n",
    "    print(\"No relevant RAM table found.\")\n",
    "else:\n",
    "    df = clean_RAM(df)"
   ]
  },
  {
   "cell_type": "code",
   "execution_count": 50,
   "metadata": {},
   "outputs": [
    {
     "data": {
      "text/html": [
       "<div>\n",
       "<style scoped>\n",
       "    .dataframe tbody tr th:only-of-type {\n",
       "        vertical-align: middle;\n",
       "    }\n",
       "\n",
       "    .dataframe tbody tr th {\n",
       "        vertical-align: top;\n",
       "    }\n",
       "\n",
       "    .dataframe thead th {\n",
       "        text-align: right;\n",
       "    }\n",
       "</style>\n",
       "<table border=\"1\" class=\"dataframe\">\n",
       "  <thead>\n",
       "    <tr style=\"text-align: right;\">\n",
       "      <th></th>\n",
       "      <th>Heading</th>\n",
       "      <th>Risk Type</th>\n",
       "      <th>Risk</th>\n",
       "      <th>Time Horizon</th>\n",
       "      <th>Likelihood</th>\n",
       "      <th>Likelihood Full</th>\n",
       "      <th>Impact</th>\n",
       "      <th>Impact Full</th>\n",
       "      <th>Policy Response</th>\n",
       "    </tr>\n",
       "  </thead>\n",
       "  <tbody>\n",
       "    <tr>\n",
       "      <th>0</th>\n",
       "      <td>Annex II. Risk Assessment Matrix¹</td>\n",
       "      <td>Global Risks</td>\n",
       "      <td>• EMDES: A new bout of global financial tighte...</td>\n",
       "      <td>NaN</td>\n",
       "      <td>Medium</td>\n",
       "      <td>Medium</td>\n",
       "      <td>High</td>\n",
       "      <td>High. Lower GDP growth, due to weaker investme...</td>\n",
       "      <td>Use available fiscal space to provide targeted...</td>\n",
       "    </tr>\n",
       "    <tr>\n",
       "      <th>1</th>\n",
       "      <td>Annex II. Risk Assessment Matrix¹</td>\n",
       "      <td>Global Risks</td>\n",
       "      <td>Systemic financial instability 2/</td>\n",
       "      <td>NaN</td>\n",
       "      <td>Medium</td>\n",
       "      <td>Medium</td>\n",
       "      <td>Medium</td>\n",
       "      <td>Medium. An increase in capital outflows that l...</td>\n",
       "      <td>Provided the monetary policy stance remains ad...</td>\n",
       "    </tr>\n",
       "    <tr>\n",
       "      <th>2</th>\n",
       "      <td>Annex II. Risk Assessment Matrix¹</td>\n",
       "      <td>Global Risks</td>\n",
       "      <td>Commodity price volatility 3/</td>\n",
       "      <td>NaN</td>\n",
       "      <td>Medium</td>\n",
       "      <td>Medium</td>\n",
       "      <td>Medium</td>\n",
       "      <td>Medium. The economic impacts will critically d...</td>\n",
       "      <td>Use fiscal and monetary policy countercyclical...</td>\n",
       "    </tr>\n",
       "    <tr>\n",
       "      <th>3</th>\n",
       "      <td>Annex II. Risk Assessment Matrix¹</td>\n",
       "      <td>Global Risks</td>\n",
       "      <td>Deepening geo-economic fragmentation 4/</td>\n",
       "      <td>NaN</td>\n",
       "      <td>High</td>\n",
       "      <td>High</td>\n",
       "      <td>Medium</td>\n",
       "      <td>Medium. Weaker exports; reduced FDI inflows; i...</td>\n",
       "      <td>Accelerate structural reforms to facilitate th...</td>\n",
       "    </tr>\n",
       "    <tr>\n",
       "      <th>4</th>\n",
       "      <td>Annex II. Risk Assessment Matrix¹</td>\n",
       "      <td>Domestic Risks</td>\n",
       "      <td>Persistently high domestic inflation, due to g...</td>\n",
       "      <td>NaN</td>\n",
       "      <td>Medium</td>\n",
       "      <td>Medium</td>\n",
       "      <td>High</td>\n",
       "      <td>High. Slower closing of the output gap amid we...</td>\n",
       "      <td>Use available fiscal space to provide targeted...</td>\n",
       "    </tr>\n",
       "    <tr>\n",
       "      <th>5</th>\n",
       "      <td>Annex II. Risk Assessment Matrix¹</td>\n",
       "      <td>Domestic Risks</td>\n",
       "      <td>Natural disasters Major natural disasters (e.g...</td>\n",
       "      <td>NaN</td>\n",
       "      <td>Medium</td>\n",
       "      <td>Medium</td>\n",
       "      <td>Low</td>\n",
       "      <td>Low. Disruption in economic activity in the af...</td>\n",
       "      <td>Prioritize expenditures to affected households...</td>\n",
       "    </tr>\n",
       "    <tr>\n",
       "      <th>6</th>\n",
       "      <td>Annex II. Risk Assessment Matrix¹</td>\n",
       "      <td>Domestic Risks</td>\n",
       "      <td>A stronger boost from pent-up demand, together...</td>\n",
       "      <td>NaN</td>\n",
       "      <td>Medium</td>\n",
       "      <td>Medium</td>\n",
       "      <td>Medium</td>\n",
       "      <td>Medium. Stronger private sector investment as ...</td>\n",
       "      <td>Monetary policy can be tightened if inflation ...</td>\n",
       "    </tr>\n",
       "  </tbody>\n",
       "</table>\n",
       "</div>"
      ],
      "text/plain": [
       "                             Heading       Risk Type  \\\n",
       "0  Annex II. Risk Assessment Matrix¹    Global Risks   \n",
       "1  Annex II. Risk Assessment Matrix¹    Global Risks   \n",
       "2  Annex II. Risk Assessment Matrix¹    Global Risks   \n",
       "3  Annex II. Risk Assessment Matrix¹    Global Risks   \n",
       "4  Annex II. Risk Assessment Matrix¹  Domestic Risks   \n",
       "5  Annex II. Risk Assessment Matrix¹  Domestic Risks   \n",
       "6  Annex II. Risk Assessment Matrix¹  Domestic Risks   \n",
       "\n",
       "                                                Risk  Time Horizon Likelihood  \\\n",
       "0  • EMDES: A new bout of global financial tighte...           NaN     Medium   \n",
       "1                  Systemic financial instability 2/           NaN     Medium   \n",
       "2                      Commodity price volatility 3/           NaN     Medium   \n",
       "3            Deepening geo-economic fragmentation 4/           NaN       High   \n",
       "4  Persistently high domestic inflation, due to g...           NaN     Medium   \n",
       "5  Natural disasters Major natural disasters (e.g...           NaN     Medium   \n",
       "6  A stronger boost from pent-up demand, together...           NaN     Medium   \n",
       "\n",
       "  Likelihood Full  Impact                                        Impact Full  \\\n",
       "0          Medium    High  High. Lower GDP growth, due to weaker investme...   \n",
       "1          Medium  Medium  Medium. An increase in capital outflows that l...   \n",
       "2          Medium  Medium  Medium. The economic impacts will critically d...   \n",
       "3            High  Medium  Medium. Weaker exports; reduced FDI inflows; i...   \n",
       "4          Medium    High  High. Slower closing of the output gap amid we...   \n",
       "5          Medium     Low  Low. Disruption in economic activity in the af...   \n",
       "6          Medium  Medium  Medium. Stronger private sector investment as ...   \n",
       "\n",
       "                                     Policy Response  \n",
       "0  Use available fiscal space to provide targeted...  \n",
       "1  Provided the monetary policy stance remains ad...  \n",
       "2  Use fiscal and monetary policy countercyclical...  \n",
       "3  Accelerate structural reforms to facilitate th...  \n",
       "4  Use available fiscal space to provide targeted...  \n",
       "5  Prioritize expenditures to affected households...  \n",
       "6  Monetary policy can be tightened if inflation ...  "
      ]
     },
     "execution_count": 50,
     "metadata": {},
     "output_type": "execute_result"
    }
   ],
   "source": [
    "df"
   ]
  },
  {
   "cell_type": "code",
   "execution_count": 48,
   "metadata": {},
   "outputs": [
    {
     "data": {
      "text/markdown": [
       "# Annex II. Risk Assessment Matrix¹\n",
       "\n",
       "| Category | Source of Risks | Likelihoo | Expected Impact | Policy Recommendation |\n",
       "|---|---|---|---|---|\n",
       "| **Global** | **Abrupt global slowdown or recession 1/** <br> • EMDES: A new bout of global financial tightening, possibly combined with volatile commodity prices, leads to spiking risk premia, debt distress, widening of external imbalances, fiscal pressures, and sudden stops. | Medium | **High.** Lower GDP growth, due to weaker investment and exports; a decline in capital inflows, leading to currency depreciation and tighter domestic credit conditions; higher poverty rate. | Use available fiscal space to provide targeted support, while allowing the exchange rate to act as a shock absorber. FXI could be used to address disorderly market conditions (e.g., a sharp pickup in the UIP premium), easing the burden on monetary policy. |\n",
       "| **Global** | **Systemic financial instability 2/** | Medium | **Medium.** An increase in capital outflows that lead to large exchange rate depreciation and volatility; tighter financial conditions; and upward pressures on inflation through exchange rate passthrough. | Provided the monetary policy stance remains adequate to address inflation risks, and considering Indonesia's shallow FX markets, the use of FXI may be appropriate under certain circumstances (see Annex V for further discussions). |\n",
       "| **Global** | **Commodity price volatility 3/** | Medium | **Medium.** The economic impacts will critically depend on whether commodity prices rise or decline, given Indonesia's commodity exporter status; A sharper-than-expected decline in international commodity prices would lead to lower growth, worsen the external balance, and lead to a faster moderation in inflation momentum. | Use fiscal and monetary policy countercyclically to stabilize output and inflation. Seek to make progress on reforming energy subsidies. The exchange rate should remain flexible and determined by market forces. |\n",
       "| **Global** | **Deepening geo-economic fragmentation 4/** | High | **Medium.** Weaker exports; reduced FDI inflows; increased uncertainty leading to weaker investment. | Accelerate structural reforms to facilitate the transition to a higher value-added and greener economy, including through additional investment in education and infrastructure and by reducing trade restrictions. |\n",
       "| **Domestic** | **Persistently high domestic inflation,** due to global or domestic supply disruptions, coupled with a slower-than-expected growth. | Medium | **High.** Slower closing of the output gap amid weaker private consumption and investment; a decline in capital inflows due to less positive economic prospects. | Use available fiscal space to provide targeted policy support to low-income households and small businesses. Monetary policy should carefully balance risks to output, inflation and financial stability and be tightened further if inflation surprises on the upside or if global monetary conditions tighten substantially, leading to large depreciation pressures on the rupiah. |\n",
       "| **Domestic** | **Natural disasters** <br> Major natural disasters (e.g., volcanic eruptions and/or earthquakes) disrupt economic activity and affect sentiment, resulting in higher fiscal expenditures. | Medium | **Low.** Disruption in economic activity in the affected region; slower economic growth accompanied by a decline in portfolio inflows. | Prioritize expenditures to affected households and businesses. If the economy slows significantly, loosen monetary and fiscal policies to accelerate the recovery, strengthen monitoring of corporate vulnerabilities. |\n",
       "| **Domestic** | **A stronger boost from pent-up demand,** together with a faster recovery in China, a faster fall in inflation domestically or in Indonesia's key trading partners can lift economic prospects | Medium | **Medium.** Stronger private sector investment as economic prospects improve, contributing to a faster-than-projected closing of the output gap; inflation stays high for longer; and the recovery in bank credit accelerates. | Monetary policy can be tightened if inflation momentum picks up. Macroprudential policies should be tightened if credit growth accelerates, closing the credit gap earlier. |"
      ],
      "text/plain": [
       "<IPython.core.display.Markdown object>"
      ]
     },
     "metadata": {},
     "output_type": "display_data"
    }
   ],
   "source": [
    "response = client.models.generate_content(\n",
    "          model=\"gemini-2.5-pro-preview-05-06\",\n",
    "          contents=[\n",
    "              types.Part.from_bytes(\n",
    "                data=filepath.read_bytes(),\n",
    "                mime_type='application/pdf',\n",
    "              ),\n",
    "              PROMPT_RAM_MD])\n",
    "display(Markdown(clean_markdown_fence(response.text)))"
   ]
  },
  {
   "cell_type": "markdown",
   "metadata": {},
   "source": [
    "### process with json output "
   ]
  },
  {
   "cell_type": "code",
   "execution_count": 21,
   "metadata": {},
   "outputs": [],
   "source": [
    "# GenAI configuration\n",
    "generation_config = {\n",
    "    \"temperature\": 0.01,\n",
    "    \"top_p\": 0.95,\n",
    "    \"top_k\": 40,\n",
    "    \"max_output_tokens\": 8000, # put it as 8k\n",
    "    \"response_mime_type\": \"application/json\",\n",
    "    }"
   ]
  },
  {
   "cell_type": "code",
   "execution_count": 23,
   "metadata": {},
   "outputs": [],
   "source": [
    "response = client.models.generate_content(\n",
    "          model=\"gemini-2.5-pro-preview-05-06\",\n",
    "          config=generation_config,\n",
    "          contents=[\n",
    "              types.Part.from_bytes(\n",
    "                data=filepath.read_bytes(),\n",
    "                mime_type='application/pdf',\n",
    "              ),\n",
    "              PROMPT_RAM])"
   ]
  },
  {
   "cell_type": "code",
   "execution_count": 24,
   "metadata": {},
   "outputs": [
    {
     "data": {
      "text/plain": [
       "'[\\n  {\\n    \"Heading\": \"Annex VI. Risk Assessment Matrix\",\\n    \"Risk Type\": \"Global Risks\",\\n    \"Risk\": \"Intensification of regional conflict(s). Escalation of Russia\\'s war in Ukraine or other regional conflicts and resulting economic sanctions disrupt trade (e.g., energy, food, tourism, and/or critical supply chain components), remittances, refugee flows, FDI and financial flows, and payment systems.\",\\n    \"Time Horizon\": \"Shorter horizon (between 12 to 18 months)\",\\n    \"Likelihood Full\": \"High\",\\n    \"Likelihood\": \"High\",\\n    \"Impact Full\": \"Medium\\\\nFurther sanctions on Russia/Belorussia could lead to supply shortages for fertilizer but is likely to have less of an impact on agricultural imports. Higher commodity prices could raise consumer price inflation.\",\\n    \"Impact\": \"Medium\",\\n    \"Policy Response\": \"• Targeted social measures\\\\n• Create fiscal space to scale up social spending\\\\n• Continue structural reforms to diversify the economy and remove constraints to growth\\\\n• Bolster trade links with alternative suppliers\"\\n  },\\n  {\\n    \"Heading\": \"Annex VI. Risk Assessment Matrix\",\\n    \"Risk Type\": \"Global Risks\",\\n    \"Risk\": \"Commodity price volatility. A succession of supply disruptions (e.g., due to conflicts and export restrictions) and demand fluctuations (e.g., reflecting China reopening) causes recurrent commodity price volatility, external and fiscal pressures, and social and economic instability.\",\\n    \"Time Horizon\": \"Shorter horizon (between 12 to 18 months)\",\\n    \"Likelihood Full\": \"Medium\",\\n    \"Likelihood\": \"Medium\",\\n    \"Impact Full\": \"High\\\\nThe effect on Mali will depend on the size and direction of any changes in different commodity prices. Higher food and energy commodity prices could cause social and economic tensions by raising Mali\\'s food and energy imports bill, for example. Any volatility would potentially raise uncertainty, which could weigh on capital investment.\",\\n    \"Impact\": \"High\",\\n    \"Policy Response\": \"• Create fiscal space to scale up social spending\\\\n• Targeted social measures\\\\n• Raise domestic food supply and request aid from international partners for food/energy needs\\\\n• Review principles of the fiscal regime for mining taxation\\\\n• Enhance resilience against commodity price shocks by updating revenue projections in multi-year fiscal framework\"\\n  },\\n  {\\n    \"Heading\": \"Annex VI. Risk Assessment Matrix\",\\n    \"Risk Type\": \"Global Risks\",\\n    \"Risk\": \"Monetary policy miscalibration. Amid high economic uncertainty and volatility, major central banks slow monetary policy tightening or pivot to loosen monetary policy stance prematurely, de-anchoring inflation expectations and triggering a wage-price spiral in tight labor markets.\",\\n    \"Time Horizon\": \"Shorter horizon (between 12 to 18 months)\",\\n    \"Likelihood Full\": \"Medium\",\\n    \"Likelihood\": \"Medium\",\\n    \"Impact Full\": \"Medium\\\\nSupply shocks could cause core and headline inflation to spike and lead to a further wage-price spiral, especially in the public sector. In addition, tighter global monetary policy could put downward pressure on gold prices, reduce gold production, investment and export revenues. Cotton prices may also fall in response to global recession.\",\\n    \"Impact\": \"Medium\",\\n    \"Policy Response\": \"• Create fiscal space for priority spending through revenue mobilization and gradual cuts in non-targeted subsidies, while protecting growth-enhancing capital spending as much as possible\\\\n• Avoid real increases in the public sector wage bill\\\\n• Longer term, diversify economy away from mining and the narrow agricultural base\"\\n  },\\n  {\\n    \"Heading\": \"Annex VI. Risk Assessment Matrix\",\\n    \"Risk Type\": \"Global Risks\",\\n    \"Risk\": \"Abrupt global slowdown or recession. Global and idiosyncratic risk factors combine to cause a synchronized sharp growth downturn, with recessions in some countries, adverse spillovers through trade and financial channels, and markets fragmentation.\",\\n    \"Time Horizon\": \"Shorter horizon (between 12 to 18 months)\",\\n    \"Likelihood Full\": \"Medium\",\\n    \"Likelihood\": \"Medium\",\\n    \"Impact Full\": \"High\\\\nMali will be negatively affected by lower gold and cotton prices, accounting for over 85 percent of its exports. A spike in risk premia on EMDE debt could lead to sovereign debt distress as the DSA already points to limited space to absorb shocks.\",\\n    \"Impact\": \"High\",\\n    \"Policy Response\": \"• Create fiscal buffers to absorb risk premia shocks\\\\n• Enhance resilience against commodity price shocks by updating revenue projections in multi-year fiscal framework\\\\n• Raise domestic food supply and request aid from international partners for food/energy needs\"\\n  },\\n  {\\n    \"Heading\": \"Annex VI. Risk Assessment Matrix\",\\n    \"Risk Type\": \"Global Risks\",\\n    \"Risk\": \"EMDES: A new bout of global financial tightening, possibly combined with volatile commodity prices, leads to spiking risk premia, debt distress, widening of external imbalances, fiscal pressures, and sudden stops.\",\\n    \"Time Horizon\": \"S'"
      ]
     },
     "execution_count": 24,
     "metadata": {},
     "output_type": "execute_result"
    }
   ],
   "source": [
    "response.text"
   ]
  },
  {
   "cell_type": "code",
   "execution_count": null,
   "metadata": {},
   "outputs": [],
   "source": []
  }
 ],
 "metadata": {
  "kernelspec": {
   "display_name": "llm",
   "language": "python",
   "name": "python3"
  },
  "language_info": {
   "codemirror_mode": {
    "name": "ipython",
    "version": 3
   },
   "file_extension": ".py",
   "mimetype": "text/x-python",
   "name": "python",
   "nbconvert_exporter": "python",
   "pygments_lexer": "ipython3",
   "version": "3.11.11"
  }
 },
 "nbformat": 4,
 "nbformat_minor": 2
}
