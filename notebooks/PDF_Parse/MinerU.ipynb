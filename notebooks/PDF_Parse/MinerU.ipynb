{
 "cells": [
  {
   "cell_type": "markdown",
   "metadata": {},
   "source": [
    "MinerU - PDF Test"
   ]
  },
  {
   "cell_type": "markdown",
   "metadata": {},
   "source": [
    "- for installization : https://github.com/opendatalab/MinerU/blob/master/docs/README_Ubuntu_CUDA_Acceleration_en_US.md\n",
    "- usage for python API : https://mineru.readthedocs.io/en/latest/user_guide/usage/api.html\n",
    "\n"
   ]
  },
  {
   "cell_type": "code",
   "execution_count": 1,
   "metadata": {},
   "outputs": [
    {
     "name": "stderr",
     "output_type": "stream",
     "text": [
      "/ephemeral/home/xiong/miniconda3/envs/MinerU/lib/python3.10/site-packages/tqdm/auto.py:21: TqdmWarning: IProgress not found. Please update jupyter and ipywidgets. See https://ipywidgets.readthedocs.io/en/stable/user_install.html\n",
      "  from .autonotebook import tqdm as notebook_tqdm\n"
     ]
    }
   ],
   "source": [
    "import os\n",
    "from magic_pdf.data.data_reader_writer import FileBasedDataWriter, FileBasedDataReader\n",
    "from magic_pdf.data.dataset import PymuDocDataset\n",
    "from magic_pdf.model.doc_analyze_by_custom_model import doc_analyze\n",
    "from magic_pdf.config.enums import SupportedPdfParseMethod"
   ]
  },
  {
   "cell_type": "markdown",
   "metadata": {},
   "source": [
    "##### Example, convert pdf"
   ]
  },
  {
   "cell_type": "code",
   "execution_count": 5,
   "metadata": {},
   "outputs": [],
   "source": [
    "\n",
    "input_dir = '/ephemeral/home/xiong/data/Fund/pdf_parse'\n",
    "output_dir = os.path.join(input_dir, 'temp','output')\n",
    "pdf_file_path = os.path.join(input_dir, 'temp','input','111_2023_0_table1.pdf')  # replace with the real pdf path"
   ]
  },
  {
   "cell_type": "code",
   "execution_count": 6,
   "metadata": {},
   "outputs": [],
   "source": [
    "## specify output dir\n",
    "name_without_suffix = os.path.splitext(os.path.basename(pdf_file_path))[0]\n",
    "pdf_output_dir = os.path.join(output_dir, name_without_suffix)\n",
    "local_image_dir = os.path.join(pdf_output_dir, \"images\")\n",
    "local_md_dir = pdf_output_dir\n",
    "os.makedirs(local_image_dir, exist_ok=True)\n",
    "os.makedirs(local_md_dir, exist_ok=True)"
   ]
  },
  {
   "cell_type": "code",
   "execution_count": 9,
   "metadata": {},
   "outputs": [
    {
     "name": "stderr",
     "output_type": "stream",
     "text": [
      "\u001b[32m2025-04-13 01:27:28.455\u001b[0m | \u001b[1mINFO    \u001b[0m | \u001b[36mmagic_pdf.data.dataset\u001b[0m:\u001b[36m__init__\u001b[0m:\u001b[36m157\u001b[0m - \u001b[1mlang: None\u001b[0m\n",
      "\u001b[32m2025-04-13 01:27:28.513\u001b[0m | \u001b[1mINFO    \u001b[0m | \u001b[36mmagic_pdf.libs.pdf_check\u001b[0m:\u001b[36mdetect_invalid_chars\u001b[0m:\u001b[36m67\u001b[0m - \u001b[1mcid_count: 0, text_len: 3258, cid_chars_radio: 0.0\u001b[0m\n",
      "\u001b[32m2025-04-13 01:27:28.532\u001b[0m | \u001b[1mINFO    \u001b[0m | \u001b[36mmagic_pdf.model.doc_analyze_by_custom_model\u001b[0m:\u001b[36mmay_batch_image_analyze\u001b[0m:\u001b[36m275\u001b[0m - \u001b[1mgpu_memory: 79 GB, batch_ratio: 16\u001b[0m\n",
      "Layout Predict: 100%|██████████| 1/1 [00:00<00:00, 29.65it/s]\n",
      "MFD Predict: 100%|██████████| 1/1 [00:00<00:00, 24.61it/s]\n",
      "MFR Predict: 100%|██████████| 13/13 [00:00<00:00, 27.03it/s]\n",
      "OCR-det Predict: 100%|██████████| 1/1 [00:00<00:00, 32.77it/s]\n",
      "Table Predict: 100%|██████████| 1/1 [00:03<00:00,  3.65s/it]\n",
      "Processing pages: 100%|██████████| 1/1 [00:00<00:00,  5.89it/s]\n"
     ]
    }
   ],
   "source": [
    "### run pdf processing\n",
    "# read bytes\n",
    "image_writer = FileBasedDataWriter(local_image_dir)\n",
    "md_writer = FileBasedDataWriter(local_md_dir)\n",
    "# Readers\n",
    "reader = FileBasedDataReader(\"\")\n",
    "pdf_bytes = reader.read(pdf_file_path)\n",
    "# Processing\n",
    "ds = PymuDocDataset(pdf_bytes)\n",
    "## inference\n",
    "if ds.classify() == SupportedPdfParseMethod.OCR:\n",
    "    infer_result = ds.apply(doc_analyze, ocr=True)\n",
    "    pipe_result = infer_result.pipe_ocr_mode(image_writer)\n",
    "else:\n",
    "    infer_result = ds.apply(doc_analyze, ocr=False)\n",
    "    pipe_result = infer_result.pipe_txt_mode(image_writer)"
   ]
  },
  {
   "cell_type": "code",
   "execution_count": 10,
   "metadata": {},
   "outputs": [],
   "source": [
    "from IPython.display import HTML, display"
   ]
  },
  {
   "cell_type": "code",
   "execution_count": 11,
   "metadata": {},
   "outputs": [],
   "source": [
    "### get model inference result\n",
    "model_inference_result = infer_result.get_infer_res()\n",
    "md_content = pipe_result.get_markdown(local_image_dir)\n",
    "content_list_content = pipe_result.get_content_list(local_image_dir)"
   ]
  },
  {
   "cell_type": "code",
   "execution_count": 12,
   "metadata": {},
   "outputs": [
    {
     "data": {
      "text/html": [
       "\n",
       "\n",
       "<html><body><table><tr><td colspan=\"10\">Table 1. United States: Selected Economic Indicators (Percentage change from previous period, unless otherwise indicated)</td></tr><tr><td></td><td></td><td></td><td></td><td></td><td></td><td></td><td></td><td></td><td></td><td></td></tr><tr><td></td><td>2019 2020</td><td></td><td>2021</td><td>2022</td><td>2023</td><td>2024</td><td>Projections 2025</td><td>2026 2027</td><td>2028</td><td></td></tr><tr><td></td><td></td><td></td><td></td><td></td><td></td><td></td><td></td><td></td><td></td><td></td></tr><tr><td>National Production and Income</td><td></td><td></td><td></td><td></td><td></td><td></td><td></td><td></td><td></td><td>2.1</td></tr><tr><td>Real GDP Real GDP (q4/q4)</td><td>2.3 2.6</td><td>-2.8</td><td>5.9</td><td>2.1</td><td>1.7</td><td>1.0</td><td>1.8</td><td>2.1</td><td>2.1</td><td>2.1</td></tr><tr><td></td><td></td><td>-1.5</td><td>5.7</td><td>0.9</td><td>1.2</td><td>1.1</td><td>2.0</td><td>2.1</td><td>2.1</td><td>0.0</td></tr><tr><td>Net exports 1/</td><td>-0.1</td><td>-0.3</td><td>-1.2 7.0</td><td>-0.4</td><td>0.5</td><td>0.0</td><td>0.0</td><td>0.0</td><td>0.0</td><td></td></tr><tr><td>Total domestic demand Final domestic demand</td><td>2.3</td><td>-2.4 -1.9</td><td>6.7</td><td>2.4</td><td>1.1</td><td>1.0</td><td>1.7</td><td>2.0</td><td>2.1</td><td>2.1</td></tr><tr><td></td><td>2.3</td><td>-3.0</td><td>8.3</td><td>1.7 2.7</td><td>1.6</td><td>1.0</td><td>1.7 1.4</td><td>2.1 1.7</td><td>2.1 2.0</td><td>2.1 2.0</td></tr><tr><td>Private final consumption</td><td>2.0</td><td>2.2</td><td>1.3</td><td></td><td>2.0</td><td>0.8</td><td></td><td>1.3</td><td>1.3</td><td>1.3</td></tr><tr><td>Public consumption expenditure</td><td>3.4</td><td>-1.2</td><td>5.7</td><td>-0.2 -0.5</td><td>3.0 -0.8</td><td>1.4</td><td>1.3</td><td>3.7</td><td>3.2</td><td></td></tr><tr><td>Gross fixed domestic investment</td><td>2.6</td><td>-2.3</td><td>7.4</td><td>-0.2</td><td></td><td>1.3</td><td>3.2</td><td>3.7</td><td>3.7</td><td>3.1 3.8</td></tr><tr><td> Private fixed investment</td><td>2.5</td><td>3.9</td><td>-2.3</td><td>-2.1</td><td>-1.9 4.9</td><td>0.7</td><td>3.0 3.9</td><td>3.5</td><td>0.5</td><td>0.0</td></tr><tr><td> Public fixed investment</td><td>3.1</td><td>-0.5</td><td>0.2</td><td>0.7</td><td>-0.5</td><td>4.1 0.0</td><td>0.0</td><td>0.0</td><td>0.0</td><td>0.0</td></tr><tr><td>Change in private inventories 1/</td><td>0.0</td><td></td><td></td><td></td><td></td><td></td><td></td><td></td><td></td><td></td></tr><tr><td>Nominal GDP</td><td>4.1</td><td>-1.5</td><td>10.7</td><td>9.2</td><td>6.0</td><td>4.1</td><td>4.3</td><td>4.2</td><td>4.1</td><td>4.1</td></tr><tr><td>Personal saving rate (% of disposable income)</td><td>8.8</td><td>16.8</td><td>11.9 17.6</td><td>3.5 18.2</td><td>4.1</td><td>4.0</td><td>4.9</td><td>4.9</td><td>4.9 17.8</td><td>5.4</td></tr><tr><td>Private investment rate (% of GDP)</td><td>17.8</td><td>17.3</td><td></td><td></td><td>17.2</td><td>17.1</td><td>17.3</td><td>17.5</td><td></td><td>18.0</td></tr><tr><td>Unemployment and Potential Output</td><td></td><td></td><td>5.4</td><td></td><td></td><td></td><td></td><td>4.0</td><td></td><td>4.0</td></tr><tr><td>Unemployment rate</td><td>3.7</td><td>8.1</td><td></td><td>3.6</td><td>3.7</td><td>4.2</td><td>4.3</td><td></td><td>4.0</td><td>62.2</td></tr><tr><td>Labor force participation rate Potential GDP</td><td>63.1</td><td>61.7</td><td>61.7</td><td>62.2</td><td>62.5</td><td>62.5</td><td>62.4</td><td>62.2</td><td>62.2 2.0</td><td></td></tr><tr><td>Output gap (% of potential GDP)</td><td>1.6 0.7</td><td>0.4 -2.5</td><td>1.8 1.5</td><td>2.2 1.4</td><td>2.1 0.9</td><td>2.0 0.0</td><td>2.0 -0.2</td><td>2.0 -0.2</td><td>-0.1</td><td>2.0</td></tr><tr><td></td><td></td><td></td><td></td><td></td><td></td><td></td><td></td><td></td><td></td><td>0.0</td></tr><tr><td> Inflation</td><td></td><td></td><td>6.8</td><td>7.1</td><td>3.6</td><td>2.5</td><td>2.4</td><td>2.1</td><td></td><td>2.2</td></tr><tr><td>CPl inflation (q4/q4)</td><td>2.0 2.3</td><td>1.2 1.6</td><td>5.0</td><td>6.0</td><td>4.2</td><td>2.9</td><td>2.7</td><td>2.3</td><td>2.1 2.3</td><td>2.3</td></tr><tr><td>Core CPI Inflation (q4/q4) PCE Inflation (q4/q4)</td><td>1.4</td><td>1.1</td><td>5.7</td><td>5.7</td><td>3.8</td><td>2.6</td><td>2.3</td><td>1.9</td><td>1.9</td><td></td></tr><tr><td>Core PCE Inflation (q4/q4)</td><td>1.6</td><td>1.4</td><td>4.7</td><td>4.8</td><td>4.1</td><td>2.8</td><td>2.5</td><td>2.0</td><td>2.0 </td><td>2.0</td></tr><tr><td>GDP deflator</td><td></td><td>1.3</td><td>4.5</td><td>7.0</td><td>4.3</td><td>3.0</td><td>2.5</td><td>2.1</td><td>1.9</td><td>2.0</td></tr><tr><td></td><td>1.8</td><td></td><td></td><td></td><td></td><td></td><td></td><td></td><td></td><td>1.9</td></tr><tr><td>Government Finances</td><td></td><td></td><td></td><td></td><td></td><td></td><td></td><td></td><td></td><td>-6.4</td></tr><tr><td>Federal balance (% of GDP) 2/</td><td>-4.7</td><td>-14.9</td><td>-12.3</td><td>-5.5</td><td>-5.6</td><td>-5.7</td><td>-6.4</td><td>-6.2</td><td>-5.9</td><td>108.3</td></tr><tr><td>Federal debt held by the public (% of GDP)</td><td>79.4</td><td>99.8</td><td>98.4</td><td>97.0</td><td>96.6</td><td>98.4</td><td>101.2</td><td>103.6</td><td>105.8</td><td></td></tr><tr><td>General government budget balance (% of GDP)</td><td>-5.7</td><td>-14.0</td><td>-11.6</td><td>-3.7</td><td>-6.7</td><td>-7.0</td><td>-7.3</td><td>-7.1</td><td>-6.9</td><td>-7.0</td></tr><tr><td>General government gross debt (% of GDP)</td><td>108.7</td><td>133.5</td><td>126.4</td><td>121.4</td><td>121.8</td><td>124.6</td><td>127.5</td><td>130.1</td><td>132.5</td><td>134.9</td></tr><tr><td> Interest Rates (percent; period average)</td><td></td><td></td><td></td><td></td><td></td><td></td><td></td><td></td><td></td><td>2.4</td></tr><tr><td>Fed funds rate</td><td>2.2</td><td>0.4</td><td>0.1</td><td>1.7</td><td>5.1</td><td>5.3</td><td>4.2</td><td>3.2</td><td>2.4</td><td></td></tr><tr><td>Three-month Treasury bill rate Ten-year government bond rate</td><td>2.1</td><td>0.4</td><td>0.0</td><td>2.1 3.0</td><td>5.2 3.8</td><td>5.3</td><td>4.2 3.6</td><td>3.2 3.4</td><td>2.4 3.4</td><td>2.4 3.4</td></tr><tr><td>Balance of Payments</td><td>2.1</td><td>0.9</td><td>1.4</td><td></td><td></td><td>3.8</td><td></td><td></td><td></td></table></body></html>\n",
       "\n"
      ],
      "text/plain": [
       "<IPython.core.display.HTML object>"
      ]
     },
     "metadata": {},
     "output_type": "display_data"
    }
   ],
   "source": [
    "display(HTML(content_list_content[0]['table_body']))"
   ]
  },
  {
   "cell_type": "code",
   "execution_count": 16,
   "metadata": {},
   "outputs": [],
   "source": [
    "class PDFConverter:\n",
    "    def __init__(self, input_dir, output_dir):\n",
    "        self.input_dir = input_dir\n",
    "        self.output_dir = output_dir\n",
    "\n",
    "    def process_pdf(self, pdf_file_path,pdf_output_dir=None,draw_pdf=False):\n",
    "        # Create a unique directory for each PDF\n",
    "        name_without_suffix = os.path.splitext(os.path.basename(pdf_file_path))[0]\n",
    "        if pdf_output_dir is None:\n",
    "            pdf_output_dir = os.path.join(self.output_dir, name_without_suffix)\n",
    "        else:\n",
    "            pdf_output_dir = os.path.join(pdf_output_dir, name_without_suffix)\n",
    "        local_image_dir = os.path.join(pdf_output_dir, \"images\")\n",
    "        local_md_dir = pdf_output_dir\n",
    "        os.makedirs(local_image_dir, exist_ok=True)\n",
    "        os.makedirs(local_md_dir, exist_ok=True)\n",
    "        # read bytes\n",
    "        image_writer = FileBasedDataWriter(local_image_dir)\n",
    "        md_writer = FileBasedDataWriter(local_md_dir)\n",
    "        # Readers\n",
    "        reader = FileBasedDataReader(\"\")\n",
    "        pdf_bytes = reader.read(pdf_file_path)\n",
    "        # Processing\n",
    "        ds = PymuDocDataset(pdf_bytes)\n",
    "\n",
    "        ## inference\n",
    "        if ds.classify() == SupportedPdfParseMethod.OCR:\n",
    "            infer_result = ds.apply(doc_analyze, ocr=True)\n",
    "            pipe_result = infer_result.pipe_ocr_mode(image_writer)\n",
    "        else:\n",
    "            infer_result = ds.apply(doc_analyze, ocr=False)\n",
    "            pipe_result = infer_result.pipe_txt_mode(image_writer)\n",
    "\n",
    "        # Output\n",
    "        if draw_pdf:\n",
    "            infer_result.draw_model(os.path.join(local_md_dir, f\"{name_without_suffix}_model.pdf\"))\n",
    "            pipe_result.draw_layout(os.path.join(local_md_dir, f\"{name_without_suffix}_layout.pdf\"))\n",
    "            pipe_result.draw_span(os.path.join(local_md_dir, f\"{name_without_suffix}_spans.pdf\"))\n",
    "\n",
    "        md_content = pipe_result.get_markdown(local_image_dir)\n",
    "        pipe_result.dump_md(md_writer, f\"{name_without_suffix}.md\", local_image_dir)\n",
    "        pipe_result.dump_content_list(md_writer, f\"{name_without_suffix}_content_list.json\", local_image_dir)\n",
    "        pipe_result.dump_middle_json(md_writer, f\"{name_without_suffix}_middle.json\")\n",
    "\n",
    "    def process_all_pdfs(self,input_dir=None,output_dir=None):\n",
    "        if input_dir is None:\n",
    "            input_dir = self.input_dir\n",
    "        if output_dir is None:\n",
    "            output_dir = self.output_dir\n",
    "        # Walk through all directories and subdirectories\n",
    "        for root, dirs, files in os.walk(input_dir):\n",
    "            for filename in files:\n",
    "                # Case insensitive check for .pdf extension\n",
    "                if filename.lower().endswith('.pdf'):\n",
    "                    pdf_file_path = os.path.join(root, filename)\n",
    "                    self.process_pdf(pdf_file_path,output_dir)\n",
    "\n"
   ]
  },
  {
   "cell_type": "code",
   "execution_count": 17,
   "metadata": {},
   "outputs": [
    {
     "name": "stderr",
     "output_type": "stream",
     "text": [
      "\u001b[32m2025-04-13 01:52:41.227\u001b[0m | \u001b[1mINFO    \u001b[0m | \u001b[36mmagic_pdf.data.dataset\u001b[0m:\u001b[36m__init__\u001b[0m:\u001b[36m157\u001b[0m - \u001b[1mlang: None\u001b[0m\n",
      "\u001b[32m2025-04-13 01:52:41.284\u001b[0m | \u001b[1mINFO    \u001b[0m | \u001b[36mmagic_pdf.libs.pdf_check\u001b[0m:\u001b[36mdetect_invalid_chars\u001b[0m:\u001b[36m67\u001b[0m - \u001b[1mcid_count: 0, text_len: 3258, cid_chars_radio: 0.0\u001b[0m\n",
      "\u001b[32m2025-04-13 01:52:41.292\u001b[0m | \u001b[1mINFO    \u001b[0m | \u001b[36mmagic_pdf.model.doc_analyze_by_custom_model\u001b[0m:\u001b[36mmay_batch_image_analyze\u001b[0m:\u001b[36m275\u001b[0m - \u001b[1mgpu_memory: 79 GB, batch_ratio: 16\u001b[0m\n",
      "Layout Predict: 100%|██████████| 1/1 [00:00<00:00, 38.85it/s]\n",
      "MFD Predict: 100%|██████████| 1/1 [00:00<00:00, 30.77it/s]\n",
      "MFR Predict: 100%|██████████| 13/13 [00:00<00:00, 33.69it/s]\n",
      "OCR-det Predict: 100%|██████████| 1/1 [00:00<00:00, 32.88it/s]\n",
      "Table Predict: 100%|██████████| 1/1 [00:03<00:00,  3.43s/it]\n",
      "Processing pages: 100%|██████████| 1/1 [00:00<00:00,  5.86it/s]\n",
      "\u001b[32m2025-04-13 01:52:45.840\u001b[0m | \u001b[1mINFO    \u001b[0m | \u001b[36mmagic_pdf.data.dataset\u001b[0m:\u001b[36m__init__\u001b[0m:\u001b[36m157\u001b[0m - \u001b[1mlang: None\u001b[0m\n",
      "\u001b[32m2025-04-13 01:52:47.302\u001b[0m | \u001b[1mINFO    \u001b[0m | \u001b[36mmagic_pdf.libs.pdf_check\u001b[0m:\u001b[36mdetect_invalid_chars\u001b[0m:\u001b[36m67\u001b[0m - \u001b[1mcid_count: 0, text_len: 3819, cid_chars_radio: 0.0\u001b[0m\n",
      "\u001b[32m2025-04-13 01:52:47.356\u001b[0m | \u001b[1mINFO    \u001b[0m | \u001b[36mmagic_pdf.model.doc_analyze_by_custom_model\u001b[0m:\u001b[36mmay_batch_image_analyze\u001b[0m:\u001b[36m275\u001b[0m - \u001b[1mgpu_memory: 79 GB, batch_ratio: 16\u001b[0m\n",
      "Layout Predict: 100%|██████████| 1/1 [00:00<00:00, 41.06it/s]\n",
      "MFD Predict: 100%|██████████| 1/1 [00:00<00:00, 30.75it/s]\n",
      "MFR Predict: 100%|██████████| 8/8 [00:00<00:00, 22.26it/s]\n",
      "OCR-det Predict: 100%|██████████| 1/1 [00:00<00:00, 27.35it/s]\n",
      "Table Predict: 100%|██████████| 1/1 [00:03<00:00,  3.45s/it]\n",
      "Processing pages: 100%|██████████| 1/1 [00:00<00:00,  4.29it/s]\n"
     ]
    }
   ],
   "source": [
    "input_folder = '/ephemeral/home/xiong/data/Fund/pdf_parse/temp/input'\n",
    "output_folder = '/ephemeral/home/xiong/data/Fund/pdf_parse/temp/output'\n",
    "#pdf_file_path = os.path.join(input_dir, '111_2023_0_table1.pdf')  # replace with the real pdf path\n",
    "converter = PDFConverter(input_folder, output_folder)\n",
    "converter.process_all_pdfs()"
   ]
  },
  {
   "cell_type": "markdown",
   "metadata": {},
   "source": [
    "#### Print out the markdown content "
   ]
  },
  {
   "cell_type": "code",
   "execution_count": 22,
   "metadata": {},
   "outputs": [
    {
     "data": {
      "text/markdown": [
       "<html><body><table><tr><td colspan=\"10\">Table 1. United States: Selected Economic Indicators (Percentage change from previous period, unless otherwise indicated)</td></tr><tr><td></td><td></td><td></td><td></td><td></td><td></td><td></td><td></td><td></td><td></td><td></td></tr><tr><td></td><td>2019 2020</td><td></td><td>2021</td><td>2022</td><td>2023</td><td>2024</td><td>Projections 2025</td><td>2026 2027</td><td>2028</td><td></td></tr><tr><td></td><td></td><td></td><td></td><td></td><td></td><td></td><td></td><td></td><td></td><td></td></tr><tr><td>National Production and Income</td><td></td><td></td><td></td><td></td><td></td><td></td><td></td><td></td><td></td><td>2.1</td></tr><tr><td>Real GDP Real GDP (q4/q4)</td><td>2.3 2.6</td><td>-2.8</td><td>5.9</td><td>2.1</td><td>1.7</td><td>1.0</td><td>1.8</td><td>2.1</td><td>2.1</td><td>2.1</td></tr><tr><td></td><td></td><td>-1.5</td><td>5.7</td><td>0.9</td><td>1.2</td><td>1.1</td><td>2.0</td><td>2.1</td><td>2.1</td><td>0.0</td></tr><tr><td>Net exports 1/</td><td>-0.1</td><td>-0.3</td><td>-1.2 7.0</td><td>-0.4</td><td>0.5</td><td>0.0</td><td>0.0</td><td>0.0</td><td>0.0</td><td></td></tr><tr><td>Total domestic demand Final domestic demand</td><td>2.3</td><td>-2.4 -1.9</td><td>6.7</td><td>2.4</td><td>1.1</td><td>1.0</td><td>1.7</td><td>2.0</td><td>2.1</td><td>2.1</td></tr><tr><td></td><td>2.3</td><td>-3.0</td><td>8.3</td><td>1.7 2.7</td><td>1.6</td><td>1.0</td><td>1.7 1.4</td><td>2.1 1.7</td><td>2.1 2.0</td><td>2.1 2.0</td></tr><tr><td>Private final consumption</td><td>2.0</td><td>2.2</td><td>1.3</td><td></td><td>2.0</td><td>0.8</td><td></td><td>1.3</td><td>1.3</td><td>1.3</td></tr><tr><td>Public consumption expenditure</td><td>3.4</td><td>-1.2</td><td>5.7</td><td>-0.2 -0.5</td><td>3.0 -0.8</td><td>1.4</td><td>1.3</td><td>3.7</td><td>3.2</td><td></td></tr><tr><td>Gross fixed domestic investment</td><td>2.6</td><td>-2.3</td><td>7.4</td><td>-0.2</td><td></td><td>1.3</td><td>3.2</td><td>3.7</td><td>3.7</td><td>3.1 3.8</td></tr><tr><td> Private fixed investment</td><td>2.5</td><td>3.9</td><td>-2.3</td><td>-2.1</td><td>-1.9 4.9</td><td>0.7</td><td>3.0 3.9</td><td>3.5</td><td>0.5</td><td>0.0</td></tr><tr><td> Public fixed investment</td><td>3.1</td><td>-0.5</td><td>0.2</td><td>0.7</td><td>-0.5</td><td>4.1 0.0</td><td>0.0</td><td>0.0</td><td>0.0</td><td>0.0</td></tr><tr><td>Change in private inventories 1/</td><td>0.0</td><td></td><td></td><td></td><td></td><td></td><td></td><td></td><td></td><td></td></tr><tr><td>Nominal GDP</td><td>4.1</td><td>-1.5</td><td>10.7</td><td>9.2</td><td>6.0</td><td>4.1</td><td>4.3</td><td>4.2</td><td>4.1</td><td>4.1</td></tr><tr><td>Personal saving rate (% of disposable income)</td><td>8.8</td><td>16.8</td><td>11.9 17.6</td><td>3.5 18.2</td><td>4.1</td><td>4.0</td><td>4.9</td><td>4.9</td><td>4.9 17.8</td><td>5.4</td></tr><tr><td>Private investment rate (% of GDP)</td><td>17.8</td><td>17.3</td><td></td><td></td><td>17.2</td><td>17.1</td><td>17.3</td><td>17.5</td><td></td><td>18.0</td></tr><tr><td>Unemployment and Potential Output</td><td></td><td></td><td>5.4</td><td></td><td></td><td></td><td></td><td>4.0</td><td></td><td>4.0</td></tr><tr><td>Unemployment rate</td><td>3.7</td><td>8.1</td><td></td><td>3.6</td><td>3.7</td><td>4.2</td><td>4.3</td><td></td><td>4.0</td><td>62.2</td></tr><tr><td>Labor force participation rate Potential GDP</td><td>63.1</td><td>61.7</td><td>61.7</td><td>62.2</td><td>62.5</td><td>62.5</td><td>62.4</td><td>62.2</td><td>62.2 2.0</td><td></td></tr><tr><td>Output gap (% of potential GDP)</td><td>1.6 0.7</td><td>0.4 -2.5</td><td>1.8 1.5</td><td>2.2 1.4</td><td>2.1 0.9</td><td>2.0 0.0</td><td>2.0 -0.2</td><td>2.0 -0.2</td><td>-0.1</td><td>2.0</td></tr><tr><td></td><td></td><td></td><td></td><td></td><td></td><td></td><td></td><td></td><td></td><td>0.0</td></tr><tr><td> Inflation</td><td></td><td></td><td>6.8</td><td>7.1</td><td>3.6</td><td>2.5</td><td>2.4</td><td>2.1</td><td></td><td>2.2</td></tr><tr><td>CPl inflation (q4/q4)</td><td>2.0 2.3</td><td>1.2 1.6</td><td>5.0</td><td>6.0</td><td>4.2</td><td>2.9</td><td>2.7</td><td>2.3</td><td>2.1 2.3</td><td>2.3</td></tr><tr><td>Core CPI Inflation (q4/q4) PCE Inflation (q4/q4)</td><td>1.4</td><td>1.1</td><td>5.7</td><td>5.7</td><td>3.8</td><td>2.6</td><td>2.3</td><td>1.9</td><td>1.9</td><td></td></tr><tr><td>Core PCE Inflation (q4/q4)</td><td>1.6</td><td>1.4</td><td>4.7</td><td>4.8</td><td>4.1</td><td>2.8</td><td>2.5</td><td>2.0</td><td>2.0 </td><td>2.0</td></tr><tr><td>GDP deflator</td><td></td><td>1.3</td><td>4.5</td><td>7.0</td><td>4.3</td><td>3.0</td><td>2.5</td><td>2.1</td><td>1.9</td><td>2.0</td></tr><tr><td></td><td>1.8</td><td></td><td></td><td></td><td></td><td></td><td></td><td></td><td></td><td>1.9</td></tr><tr><td>Government Finances</td><td></td><td></td><td></td><td></td><td></td><td></td><td></td><td></td><td></td><td>-6.4</td></tr><tr><td> Federal balance (% of GDP) 2/</td><td>-4.7</td><td>-14.9</td><td>-12.3</td><td>-5.5</td><td>-5.6</td><td>-5.7</td><td>-6.4</td><td>-6.2</td><td>-5.9</td><td>108.3</td></tr><tr><td>Federal debt held by the public (% of GDP)</td><td>79.4</td><td>99.8</td><td>98.4</td><td>97.0</td><td>96.6</td><td>98.4</td><td>101.2</td><td>103.6</td><td>105.8</td><td></td></tr><tr><td>General government budget balance (% of GDP)</td><td>-5.7</td><td>-14.0</td><td>-11.6</td><td>-3.7</td><td>-6.7</td><td>-7.0</td><td>-7.3</td><td>-7.1</td><td>-6.9</td><td>-7.0</td></tr><tr><td>General government gross debt (% of GDP)</td><td>108.7</td><td>133.5</td><td>126.4</td><td>121.4</td><td>121.8</td><td>124.6</td><td>127.5</td><td>130.1</td><td>132.5</td><td>134.9</td></tr><tr><td> Interest Rates (percent; period average)</td><td></td><td></td><td></td><td></td><td></td><td></td><td></td><td></td><td></td><td>2.4</td></tr><tr><td>Fed funds rate</td><td>2.2</td><td>0.4</td><td>0.1</td><td>1.7</td><td>5.1</td><td>5.3</td><td>4.2</td><td>3.2</td><td>2.4</td><td></td></tr><tr><td>Three-month Treasury bill rate Ten-year government bond rate</td><td>2.1</td><td>0.4</td><td>0.0</td><td>2.1 3.0</td><td>5.2 3.8</td><td>5.3</td><td>4.2 3.6</td><td>3.2 3.4</td><td>2.4 3.4</td><td>2.4 3.4</td></tr><tr><td>Balance of Payments</td><td>2.1</td><td>0.9</td><td>1.4</td><td></td><td></td><td>3.8</td><td></td><td></td><td></td></table></body></html>\n",
       "\n",
       "Sources: BEA; BLS; FRB; Haver Analytics; and IMF staff estimates. 1/ Contribution to real GDP growth, percentage points. 2/ Includes staff's adjustments for one-off items, including costs of financial sector support.  "
      ],
      "text/plain": [
       "<IPython.core.display.Markdown object>"
      ]
     },
     "metadata": {},
     "output_type": "display_data"
    }
   ],
   "source": [
    "# Get the markdown file path from the processed PDF\n",
    "name_without_suffix = os.path.splitext(os.path.basename(pdf_file_path))[0]\n",
    "md_file_path = os.path.join(output_folder,name_without_suffix, name_without_suffix + '.md')\n",
    "\n",
    "# Read and display markdown content if file exists\n",
    "if os.path.exists(md_file_path):\n",
    "    # Read markdown content\n",
    "    with open(md_file_path, 'r', encoding='utf-8') as f:\n",
    "        md_content = f.read()\n",
    "    # Display markdown content inline using IPython\n",
    "    from IPython.display import display, Markdown\n",
    "    display(Markdown(md_content))\n",
    "else:\n",
    "    print(f\"Markdown file not found at: {md_file_path}\")\n"
   ]
  },
  {
   "cell_type": "code",
   "execution_count": null,
   "metadata": {},
   "outputs": [],
   "source": []
  }
 ],
 "metadata": {
  "kernelspec": {
   "display_name": "MinerU",
   "language": "python",
   "name": "python3"
  },
  "language_info": {
   "codemirror_mode": {
    "name": "ipython",
    "version": 3
   },
   "file_extension": ".py",
   "mimetype": "text/x-python",
   "name": "python",
   "nbconvert_exporter": "python",
   "pygments_lexer": "ipython3",
   "version": "3.10.16"
  }
 },
 "nbformat": 4,
 "nbformat_minor": 2
}
