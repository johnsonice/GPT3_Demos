{
 "cells": [
  {
   "cell_type": "markdown",
   "metadata": {},
   "source": [
    "MinerU - PDF Test"
   ]
  },
  {
   "cell_type": "markdown",
   "metadata": {},
   "source": [
    "- for installization : https://github.com/opendatalab/MinerU/blob/master/docs/README_Ubuntu_CUDA_Acceleration_en_US.md\n",
    "- usage for python API : https://mineru.readthedocs.io/en/latest/user_guide/usage/api.html\n",
    "\n"
   ]
  },
  {
   "cell_type": "code",
   "execution_count": 3,
   "metadata": {},
   "outputs": [],
   "source": [
    "import os\n",
    "from magic_pdf.data.data_reader_writer import FileBasedDataWriter, FileBasedDataReader\n",
    "from magic_pdf.data.dataset import PymuDocDataset\n",
    "from magic_pdf.model.doc_analyze_by_custom_model import doc_analyze\n",
    "from magic_pdf.config.enums import SupportedPdfParseMethod"
   ]
  },
  {
   "cell_type": "markdown",
   "metadata": {},
   "source": [
    "##### Example, convert pdf"
   ]
  },
  {
   "cell_type": "code",
   "execution_count": 5,
   "metadata": {},
   "outputs": [],
   "source": [
    "\n",
    "\n",
    "input_dir = '/home/xiong/data/Fund/pdf_parse'\n",
    "output_dir = os.path.join(input_dir, 'temp','output')\n",
    "pdf_file_path = os.path.join(input_dir, 'temp','111_2023_0_table1.pdf')  # replace with the real pdf path"
   ]
  },
  {
   "cell_type": "code",
   "execution_count": 6,
   "metadata": {},
   "outputs": [],
   "source": [
    "## specify output dir\n",
    "name_without_suffix = os.path.splitext(os.path.basename(pdf_file_path))[0]\n",
    "pdf_output_dir = os.path.join(output_dir, name_without_suffix)\n",
    "local_image_dir = os.path.join(pdf_output_dir, \"images\")\n",
    "local_md_dir = pdf_output_dir\n",
    "os.makedirs(local_image_dir, exist_ok=True)\n",
    "os.makedirs(local_md_dir, exist_ok=True)"
   ]
  },
  {
   "cell_type": "code",
   "execution_count": 7,
   "metadata": {},
   "outputs": [
    {
     "name": "stderr",
     "output_type": "stream",
     "text": [
      "\u001b[32m2025-04-13 00:54:13.673\u001b[0m | \u001b[1mINFO    \u001b[0m | \u001b[36mmagic_pdf.data.dataset\u001b[0m:\u001b[36m__init__\u001b[0m:\u001b[36m157\u001b[0m - \u001b[1mlang: None\u001b[0m\n"
     ]
    },
    {
     "name": "stderr",
     "output_type": "stream",
     "text": [
      "\u001b[32m2025-04-13 00:54:13.830\u001b[0m | \u001b[1mINFO    \u001b[0m | \u001b[36mmagic_pdf.libs.pdf_check\u001b[0m:\u001b[36mdetect_invalid_chars\u001b[0m:\u001b[36m67\u001b[0m - \u001b[1mcid_count: 0, text_len: 3258, cid_chars_radio: 0.0\u001b[0m\n"
     ]
    },
    {
     "name": "stdout",
     "output_type": "stream",
     "text": [
      "Creating new Ultralytics Settings v0.0.6 file ✅ \n",
      "View Ultralytics Settings with 'yolo settings' or at '/home/xiong/.config/Ultralytics/settings.json'\n",
      "Update Settings with 'yolo settings key=value', i.e. 'yolo settings runs_dir=path/to/dir'. For help see https://docs.ultralytics.com/quickstart/#ultralytics-settings.\n"
     ]
    },
    {
     "name": "stderr",
     "output_type": "stream",
     "text": [
      "/home/xiong/miniconda3/envs/llm/lib/python3.10/site-packages/torch/cuda/__init__.py:619: UserWarning: Can't initialize NVML\n",
      "  warnings.warn(\"Can't initialize NVML\")\n"
     ]
    },
    {
     "ename": "ValueError",
     "evalue": "numpy.dtype size changed, may indicate binary incompatibility. Expected 96 from C header, got 88 from PyObject",
     "output_type": "error",
     "traceback": [
      "\u001b[0;31m---------------------------------------------------------------------------\u001b[0m",
      "\u001b[0;31mValueError\u001b[0m                                Traceback (most recent call last)",
      "Cell \u001b[0;32mIn[7], line 15\u001b[0m\n\u001b[1;32m     13\u001b[0m     pipe_result \u001b[38;5;241m=\u001b[39m infer_result\u001b[38;5;241m.\u001b[39mpipe_ocr_mode(image_writer)\n\u001b[1;32m     14\u001b[0m \u001b[38;5;28;01melse\u001b[39;00m:\n\u001b[0;32m---> 15\u001b[0m     infer_result \u001b[38;5;241m=\u001b[39m \u001b[43mds\u001b[49m\u001b[38;5;241;43m.\u001b[39;49m\u001b[43mapply\u001b[49m\u001b[43m(\u001b[49m\u001b[43mdoc_analyze\u001b[49m\u001b[43m,\u001b[49m\u001b[43m \u001b[49m\u001b[43mocr\u001b[49m\u001b[38;5;241;43m=\u001b[39;49m\u001b[38;5;28;43;01mFalse\u001b[39;49;00m\u001b[43m)\u001b[49m\n\u001b[1;32m     16\u001b[0m     pipe_result \u001b[38;5;241m=\u001b[39m infer_result\u001b[38;5;241m.\u001b[39mpipe_txt_mode(image_writer)\n",
      "File \u001b[0;32m~/miniconda3/envs/llm/lib/python3.10/site-packages/magic_pdf/data/dataset.py:214\u001b[0m, in \u001b[0;36mPymuDocDataset.apply\u001b[0;34m(self, proc, *args, **kwargs)\u001b[0m\n\u001b[1;32m    212\u001b[0m \u001b[38;5;28;01mif\u001b[39;00m \u001b[38;5;124m'\u001b[39m\u001b[38;5;124mlang\u001b[39m\u001b[38;5;124m'\u001b[39m \u001b[38;5;129;01min\u001b[39;00m kwargs \u001b[38;5;129;01mand\u001b[39;00m \u001b[38;5;28mself\u001b[39m\u001b[38;5;241m.\u001b[39m_lang \u001b[38;5;129;01mis\u001b[39;00m \u001b[38;5;129;01mnot\u001b[39;00m \u001b[38;5;28;01mNone\u001b[39;00m:\n\u001b[1;32m    213\u001b[0m     kwargs[\u001b[38;5;124m'\u001b[39m\u001b[38;5;124mlang\u001b[39m\u001b[38;5;124m'\u001b[39m] \u001b[38;5;241m=\u001b[39m \u001b[38;5;28mself\u001b[39m\u001b[38;5;241m.\u001b[39m_lang\n\u001b[0;32m--> 214\u001b[0m \u001b[38;5;28;01mreturn\u001b[39;00m \u001b[43mproc\u001b[49m\u001b[43m(\u001b[49m\u001b[38;5;28;43mself\u001b[39;49m\u001b[43m,\u001b[49m\u001b[43m \u001b[49m\u001b[38;5;241;43m*\u001b[39;49m\u001b[43margs\u001b[49m\u001b[43m,\u001b[49m\u001b[43m \u001b[49m\u001b[38;5;241;43m*\u001b[39;49m\u001b[38;5;241;43m*\u001b[39;49m\u001b[43mkwargs\u001b[49m\u001b[43m)\u001b[49m\n",
      "File \u001b[0;32m~/miniconda3/envs/llm/lib/python3.10/site-packages/magic_pdf/model/doc_analyze_by_custom_model.py:160\u001b[0m, in \u001b[0;36mdoc_analyze\u001b[0;34m(dataset, ocr, show_log, start_page_id, end_page_id, lang, layout_model, formula_enable, table_enable)\u001b[0m\n\u001b[1;32m    158\u001b[0m results \u001b[38;5;241m=\u001b[39m []\n\u001b[1;32m    159\u001b[0m \u001b[38;5;28;01mfor\u001b[39;00m batch_image \u001b[38;5;129;01min\u001b[39;00m batch_images:\n\u001b[0;32m--> 160\u001b[0m     result \u001b[38;5;241m=\u001b[39m \u001b[43mmay_batch_image_analyze\u001b[49m\u001b[43m(\u001b[49m\u001b[43mbatch_image\u001b[49m\u001b[43m,\u001b[49m\u001b[43m \u001b[49m\u001b[43mocr\u001b[49m\u001b[43m,\u001b[49m\u001b[43m \u001b[49m\u001b[43mshow_log\u001b[49m\u001b[43m,\u001b[49m\u001b[43mlayout_model\u001b[49m\u001b[43m,\u001b[49m\u001b[43m \u001b[49m\u001b[43mformula_enable\u001b[49m\u001b[43m,\u001b[49m\u001b[43m \u001b[49m\u001b[43mtable_enable\u001b[49m\u001b[43m)\u001b[49m\n\u001b[1;32m    161\u001b[0m     results\u001b[38;5;241m.\u001b[39mextend(result)\n\u001b[1;32m    163\u001b[0m model_json \u001b[38;5;241m=\u001b[39m []\n",
      "File \u001b[0;32m~/miniconda3/envs/llm/lib/python3.10/site-packages/magic_pdf/model/doc_analyze_by_custom_model.py:248\u001b[0m, in \u001b[0;36mmay_batch_image_analyze\u001b[0;34m(images_with_extra_info, ocr, show_log, layout_model, formula_enable, table_enable)\u001b[0m\n\u001b[1;32m    239\u001b[0m \u001b[38;5;28;01mdef\u001b[39;00m\u001b[38;5;250m \u001b[39m\u001b[38;5;21mmay_batch_image_analyze\u001b[39m(\n\u001b[1;32m    240\u001b[0m         images_with_extra_info: \u001b[38;5;28mlist\u001b[39m[(np\u001b[38;5;241m.\u001b[39mndarray, \u001b[38;5;28mbool\u001b[39m, \u001b[38;5;28mstr\u001b[39m)],\n\u001b[1;32m    241\u001b[0m         ocr: \u001b[38;5;28mbool\u001b[39m,\n\u001b[0;32m   (...)\u001b[0m\n\u001b[1;32m    245\u001b[0m         table_enable\u001b[38;5;241m=\u001b[39m\u001b[38;5;28;01mNone\u001b[39;00m):\n\u001b[1;32m    246\u001b[0m     \u001b[38;5;66;03m# os.environ['CUDA_VISIBLE_DEVICES'] = str(idx)\u001b[39;00m\n\u001b[0;32m--> 248\u001b[0m     \u001b[38;5;28;01mfrom\u001b[39;00m\u001b[38;5;250m \u001b[39m\u001b[38;5;21;01mmagic_pdf\u001b[39;00m\u001b[38;5;21;01m.\u001b[39;00m\u001b[38;5;21;01mmodel\u001b[39;00m\u001b[38;5;21;01m.\u001b[39;00m\u001b[38;5;21;01mbatch_analyze\u001b[39;00m\u001b[38;5;250m \u001b[39m\u001b[38;5;28;01mimport\u001b[39;00m BatchAnalyze\n\u001b[1;32m    250\u001b[0m     model_manager \u001b[38;5;241m=\u001b[39m ModelSingleton()\n\u001b[1;32m    252\u001b[0m     \u001b[38;5;66;03m# images = [image for image, _, _ in images_with_extra_info]\u001b[39;00m\n",
      "File \u001b[0;32m~/miniconda3/envs/llm/lib/python3.10/site-packages/magic_pdf/model/batch_analyze.py:7\u001b[0m\n\u001b[1;32m      4\u001b[0m \u001b[38;5;28;01mfrom\u001b[39;00m\u001b[38;5;250m \u001b[39m\u001b[38;5;21;01mtqdm\u001b[39;00m\u001b[38;5;250m \u001b[39m\u001b[38;5;28;01mimport\u001b[39;00m tqdm\n\u001b[1;32m      6\u001b[0m \u001b[38;5;28;01mfrom\u001b[39;00m\u001b[38;5;250m \u001b[39m\u001b[38;5;21;01mmagic_pdf\u001b[39;00m\u001b[38;5;21;01m.\u001b[39;00m\u001b[38;5;21;01mconfig\u001b[39;00m\u001b[38;5;21;01m.\u001b[39;00m\u001b[38;5;21;01mconstants\u001b[39;00m\u001b[38;5;250m \u001b[39m\u001b[38;5;28;01mimport\u001b[39;00m MODEL_NAME\n\u001b[0;32m----> 7\u001b[0m \u001b[38;5;28;01mfrom\u001b[39;00m\u001b[38;5;250m \u001b[39m\u001b[38;5;21;01mmagic_pdf\u001b[39;00m\u001b[38;5;21;01m.\u001b[39;00m\u001b[38;5;21;01mmodel\u001b[39;00m\u001b[38;5;21;01m.\u001b[39;00m\u001b[38;5;21;01msub_modules\u001b[39;00m\u001b[38;5;21;01m.\u001b[39;00m\u001b[38;5;21;01mmodel_init\u001b[39;00m\u001b[38;5;250m \u001b[39m\u001b[38;5;28;01mimport\u001b[39;00m AtomModelSingleton\n\u001b[1;32m      8\u001b[0m \u001b[38;5;28;01mfrom\u001b[39;00m\u001b[38;5;250m \u001b[39m\u001b[38;5;21;01mmagic_pdf\u001b[39;00m\u001b[38;5;21;01m.\u001b[39;00m\u001b[38;5;21;01mmodel\u001b[39;00m\u001b[38;5;21;01m.\u001b[39;00m\u001b[38;5;21;01msub_modules\u001b[39;00m\u001b[38;5;21;01m.\u001b[39;00m\u001b[38;5;21;01mmodel_utils\u001b[39;00m\u001b[38;5;250m \u001b[39m\u001b[38;5;28;01mimport\u001b[39;00m (\n\u001b[1;32m      9\u001b[0m     clean_vram, crop_img, get_res_list_from_layout_res)\n\u001b[1;32m     10\u001b[0m \u001b[38;5;28;01mfrom\u001b[39;00m\u001b[38;5;250m \u001b[39m\u001b[38;5;21;01mmagic_pdf\u001b[39;00m\u001b[38;5;21;01m.\u001b[39;00m\u001b[38;5;21;01mmodel\u001b[39;00m\u001b[38;5;21;01m.\u001b[39;00m\u001b[38;5;21;01msub_modules\u001b[39;00m\u001b[38;5;21;01m.\u001b[39;00m\u001b[38;5;21;01mocr\u001b[39;00m\u001b[38;5;21;01m.\u001b[39;00m\u001b[38;5;21;01mpaddleocr2pytorch\u001b[39;00m\u001b[38;5;21;01m.\u001b[39;00m\u001b[38;5;21;01mocr_utils\u001b[39;00m\u001b[38;5;250m \u001b[39m\u001b[38;5;28;01mimport\u001b[39;00m (\n\u001b[1;32m     11\u001b[0m     get_adjusted_mfdetrec_res, get_ocr_result_list)\n",
      "File \u001b[0;32m~/miniconda3/envs/llm/lib/python3.10/site-packages/magic_pdf/model/sub_modules/model_init.py:7\u001b[0m\n\u001b[1;32m      5\u001b[0m \u001b[38;5;28;01mfrom\u001b[39;00m\u001b[38;5;250m \u001b[39m\u001b[38;5;21;01mmagic_pdf\u001b[39;00m\u001b[38;5;21;01m.\u001b[39;00m\u001b[38;5;21;01mmodel\u001b[39;00m\u001b[38;5;21;01m.\u001b[39;00m\u001b[38;5;21;01mmodel_list\u001b[39;00m\u001b[38;5;250m \u001b[39m\u001b[38;5;28;01mimport\u001b[39;00m AtomicModel\n\u001b[1;32m      6\u001b[0m \u001b[38;5;28;01mfrom\u001b[39;00m\u001b[38;5;250m \u001b[39m\u001b[38;5;21;01mmagic_pdf\u001b[39;00m\u001b[38;5;21;01m.\u001b[39;00m\u001b[38;5;21;01mmodel\u001b[39;00m\u001b[38;5;21;01m.\u001b[39;00m\u001b[38;5;21;01msub_modules\u001b[39;00m\u001b[38;5;21;01m.\u001b[39;00m\u001b[38;5;21;01mlanguage_detection\u001b[39;00m\u001b[38;5;21;01m.\u001b[39;00m\u001b[38;5;21;01myolov11\u001b[39;00m\u001b[38;5;21;01m.\u001b[39;00m\u001b[38;5;21;01mYOLOv11\u001b[39;00m\u001b[38;5;250m \u001b[39m\u001b[38;5;28;01mimport\u001b[39;00m YOLOv11LangDetModel\n\u001b[0;32m----> 7\u001b[0m \u001b[38;5;28;01mfrom\u001b[39;00m\u001b[38;5;250m \u001b[39m\u001b[38;5;21;01mmagic_pdf\u001b[39;00m\u001b[38;5;21;01m.\u001b[39;00m\u001b[38;5;21;01mmodel\u001b[39;00m\u001b[38;5;21;01m.\u001b[39;00m\u001b[38;5;21;01msub_modules\u001b[39;00m\u001b[38;5;21;01m.\u001b[39;00m\u001b[38;5;21;01mlayout\u001b[39;00m\u001b[38;5;21;01m.\u001b[39;00m\u001b[38;5;21;01mdoclayout_yolo\u001b[39;00m\u001b[38;5;21;01m.\u001b[39;00m\u001b[38;5;21;01mDocLayoutYOLO\u001b[39;00m\u001b[38;5;250m \u001b[39m\u001b[38;5;28;01mimport\u001b[39;00m DocLayoutYOLOModel\n\u001b[1;32m      8\u001b[0m \u001b[38;5;28;01mfrom\u001b[39;00m\u001b[38;5;250m \u001b[39m\u001b[38;5;21;01mmagic_pdf\u001b[39;00m\u001b[38;5;21;01m.\u001b[39;00m\u001b[38;5;21;01mmodel\u001b[39;00m\u001b[38;5;21;01m.\u001b[39;00m\u001b[38;5;21;01msub_modules\u001b[39;00m\u001b[38;5;21;01m.\u001b[39;00m\u001b[38;5;21;01mmfd\u001b[39;00m\u001b[38;5;21;01m.\u001b[39;00m\u001b[38;5;21;01myolov8\u001b[39;00m\u001b[38;5;21;01m.\u001b[39;00m\u001b[38;5;21;01mYOLOv8\u001b[39;00m\u001b[38;5;250m \u001b[39m\u001b[38;5;28;01mimport\u001b[39;00m YOLOv8MFDModel\n\u001b[1;32m      9\u001b[0m \u001b[38;5;28;01mfrom\u001b[39;00m\u001b[38;5;250m \u001b[39m\u001b[38;5;21;01mmagic_pdf\u001b[39;00m\u001b[38;5;21;01m.\u001b[39;00m\u001b[38;5;21;01mmodel\u001b[39;00m\u001b[38;5;21;01m.\u001b[39;00m\u001b[38;5;21;01msub_modules\u001b[39;00m\u001b[38;5;21;01m.\u001b[39;00m\u001b[38;5;21;01mmfr\u001b[39;00m\u001b[38;5;21;01m.\u001b[39;00m\u001b[38;5;21;01munimernet\u001b[39;00m\u001b[38;5;21;01m.\u001b[39;00m\u001b[38;5;21;01mUnimernet\u001b[39;00m\u001b[38;5;250m \u001b[39m\u001b[38;5;28;01mimport\u001b[39;00m UnimernetModel\n",
      "File \u001b[0;32m~/miniconda3/envs/llm/lib/python3.10/site-packages/magic_pdf/model/sub_modules/layout/doclayout_yolo/DocLayoutYOLO.py:1\u001b[0m\n\u001b[0;32m----> 1\u001b[0m \u001b[38;5;28;01mfrom\u001b[39;00m\u001b[38;5;250m \u001b[39m\u001b[38;5;21;01mdoclayout_yolo\u001b[39;00m\u001b[38;5;250m \u001b[39m\u001b[38;5;28;01mimport\u001b[39;00m YOLOv10\n\u001b[1;32m      2\u001b[0m \u001b[38;5;28;01mfrom\u001b[39;00m\u001b[38;5;250m \u001b[39m\u001b[38;5;21;01mtqdm\u001b[39;00m\u001b[38;5;250m \u001b[39m\u001b[38;5;28;01mimport\u001b[39;00m tqdm\n\u001b[1;32m      5\u001b[0m \u001b[38;5;28;01mclass\u001b[39;00m\u001b[38;5;250m \u001b[39m\u001b[38;5;21;01mDocLayoutYOLOModel\u001b[39;00m(\u001b[38;5;28mobject\u001b[39m):\n",
      "File \u001b[0;32m~/miniconda3/envs/llm/lib/python3.10/site-packages/doclayout_yolo/__init__.py:5\u001b[0m\n\u001b[1;32m      1\u001b[0m \u001b[38;5;66;03m# Ultralytics YOLO 🚀, AGPL-3.0 license\u001b[39;00m\n\u001b[1;32m      3\u001b[0m __version__ \u001b[38;5;241m=\u001b[39m \u001b[38;5;124m\"\u001b[39m\u001b[38;5;124m0.0.2b1\u001b[39m\u001b[38;5;124m\"\u001b[39m\n\u001b[0;32m----> 5\u001b[0m \u001b[38;5;28;01mfrom\u001b[39;00m\u001b[38;5;250m \u001b[39m\u001b[38;5;21;01mdoclayout_yolo\u001b[39;00m\u001b[38;5;21;01m.\u001b[39;00m\u001b[38;5;21;01mdata\u001b[39;00m\u001b[38;5;21;01m.\u001b[39;00m\u001b[38;5;21;01mexplorer\u001b[39;00m\u001b[38;5;21;01m.\u001b[39;00m\u001b[38;5;21;01mexplorer\u001b[39;00m\u001b[38;5;250m \u001b[39m\u001b[38;5;28;01mimport\u001b[39;00m Explorer\n\u001b[1;32m      6\u001b[0m \u001b[38;5;28;01mfrom\u001b[39;00m\u001b[38;5;250m \u001b[39m\u001b[38;5;21;01mdoclayout_yolo\u001b[39;00m\u001b[38;5;21;01m.\u001b[39;00m\u001b[38;5;21;01mmodels\u001b[39;00m\u001b[38;5;250m \u001b[39m\u001b[38;5;28;01mimport\u001b[39;00m RTDETR, SAM, YOLO, YOLOWorld, YOLOv10\n\u001b[1;32m      7\u001b[0m \u001b[38;5;28;01mfrom\u001b[39;00m\u001b[38;5;250m \u001b[39m\u001b[38;5;21;01mdoclayout_yolo\u001b[39;00m\u001b[38;5;21;01m.\u001b[39;00m\u001b[38;5;21;01mmodels\u001b[39;00m\u001b[38;5;21;01m.\u001b[39;00m\u001b[38;5;21;01mfastsam\u001b[39;00m\u001b[38;5;250m \u001b[39m\u001b[38;5;28;01mimport\u001b[39;00m FastSAM\n",
      "File \u001b[0;32m~/miniconda3/envs/llm/lib/python3.10/site-packages/doclayout_yolo/data/explorer/__init__.py:3\u001b[0m\n\u001b[1;32m      1\u001b[0m \u001b[38;5;66;03m# Ultralytics YOLO 🚀, AGPL-3.0 license\u001b[39;00m\n\u001b[0;32m----> 3\u001b[0m \u001b[38;5;28;01mfrom\u001b[39;00m\u001b[38;5;250m \u001b[39m\u001b[38;5;21;01m.\u001b[39;00m\u001b[38;5;21;01mutils\u001b[39;00m\u001b[38;5;250m \u001b[39m\u001b[38;5;28;01mimport\u001b[39;00m plot_query_result\n\u001b[1;32m      5\u001b[0m __all__ \u001b[38;5;241m=\u001b[39m [\u001b[38;5;124m\"\u001b[39m\u001b[38;5;124mplot_query_result\u001b[39m\u001b[38;5;124m\"\u001b[39m]\n",
      "File \u001b[0;32m~/miniconda3/envs/llm/lib/python3.10/site-packages/doclayout_yolo/data/explorer/utils.py:8\u001b[0m\n\u001b[1;32m      6\u001b[0m \u001b[38;5;28;01mimport\u001b[39;00m\u001b[38;5;250m \u001b[39m\u001b[38;5;21;01mcv2\u001b[39;00m\n\u001b[1;32m      7\u001b[0m \u001b[38;5;28;01mimport\u001b[39;00m\u001b[38;5;250m \u001b[39m\u001b[38;5;21;01mnumpy\u001b[39;00m\u001b[38;5;250m \u001b[39m\u001b[38;5;28;01mas\u001b[39;00m\u001b[38;5;250m \u001b[39m\u001b[38;5;21;01mnp\u001b[39;00m\n\u001b[0;32m----> 8\u001b[0m \u001b[38;5;28;01mimport\u001b[39;00m\u001b[38;5;250m \u001b[39m\u001b[38;5;21;01mpandas\u001b[39;00m\u001b[38;5;250m \u001b[39m\u001b[38;5;28;01mas\u001b[39;00m\u001b[38;5;250m \u001b[39m\u001b[38;5;21;01mpd\u001b[39;00m\n\u001b[1;32m     10\u001b[0m \u001b[38;5;28;01mfrom\u001b[39;00m\u001b[38;5;250m \u001b[39m\u001b[38;5;21;01mdoclayout_yolo\u001b[39;00m\u001b[38;5;21;01m.\u001b[39;00m\u001b[38;5;21;01mdata\u001b[39;00m\u001b[38;5;21;01m.\u001b[39;00m\u001b[38;5;21;01maugment\u001b[39;00m\u001b[38;5;250m \u001b[39m\u001b[38;5;28;01mimport\u001b[39;00m LetterBox\n\u001b[1;32m     11\u001b[0m \u001b[38;5;28;01mfrom\u001b[39;00m\u001b[38;5;250m \u001b[39m\u001b[38;5;21;01mdoclayout_yolo\u001b[39;00m\u001b[38;5;21;01m.\u001b[39;00m\u001b[38;5;21;01mutils\u001b[39;00m\u001b[38;5;250m \u001b[39m\u001b[38;5;28;01mimport\u001b[39;00m LOGGER \u001b[38;5;28;01mas\u001b[39;00m logger\n",
      "File \u001b[0;32m~/miniconda3/envs/llm/lib/python3.10/site-packages/pandas/__init__.py:22\u001b[0m\n\u001b[1;32m     19\u001b[0m \u001b[38;5;28;01mdel\u001b[39;00m _hard_dependencies, _dependency, _missing_dependencies\n\u001b[1;32m     21\u001b[0m \u001b[38;5;66;03m# numpy compat\u001b[39;00m\n\u001b[0;32m---> 22\u001b[0m \u001b[38;5;28;01mfrom\u001b[39;00m\u001b[38;5;250m \u001b[39m\u001b[38;5;21;01mpandas\u001b[39;00m\u001b[38;5;21;01m.\u001b[39;00m\u001b[38;5;21;01mcompat\u001b[39;00m\u001b[38;5;250m \u001b[39m\u001b[38;5;28;01mimport\u001b[39;00m is_numpy_dev \u001b[38;5;28;01mas\u001b[39;00m _is_numpy_dev  \u001b[38;5;66;03m# pyright: ignore # noqa:F401\u001b[39;00m\n\u001b[1;32m     24\u001b[0m \u001b[38;5;28;01mtry\u001b[39;00m:\n\u001b[1;32m     25\u001b[0m     \u001b[38;5;28;01mfrom\u001b[39;00m\u001b[38;5;250m \u001b[39m\u001b[38;5;21;01mpandas\u001b[39;00m\u001b[38;5;21;01m.\u001b[39;00m\u001b[38;5;21;01m_libs\u001b[39;00m\u001b[38;5;250m \u001b[39m\u001b[38;5;28;01mimport\u001b[39;00m hashtable \u001b[38;5;28;01mas\u001b[39;00m _hashtable, lib \u001b[38;5;28;01mas\u001b[39;00m _lib, tslib \u001b[38;5;28;01mas\u001b[39;00m _tslib\n",
      "File \u001b[0;32m~/miniconda3/envs/llm/lib/python3.10/site-packages/pandas/compat/__init__.py:25\u001b[0m\n\u001b[1;32m     17\u001b[0m \u001b[38;5;28;01mfrom\u001b[39;00m\u001b[38;5;250m \u001b[39m\u001b[38;5;21;01mpandas\u001b[39;00m\u001b[38;5;21;01m.\u001b[39;00m\u001b[38;5;21;01mcompat\u001b[39;00m\u001b[38;5;21;01m.\u001b[39;00m\u001b[38;5;21;01m_constants\u001b[39;00m\u001b[38;5;250m \u001b[39m\u001b[38;5;28;01mimport\u001b[39;00m (\n\u001b[1;32m     18\u001b[0m     IS64,\n\u001b[1;32m     19\u001b[0m     PY39,\n\u001b[0;32m   (...)\u001b[0m\n\u001b[1;32m     22\u001b[0m     PYPY,\n\u001b[1;32m     23\u001b[0m )\n\u001b[1;32m     24\u001b[0m \u001b[38;5;28;01mimport\u001b[39;00m\u001b[38;5;250m \u001b[39m\u001b[38;5;21;01mpandas\u001b[39;00m\u001b[38;5;21;01m.\u001b[39;00m\u001b[38;5;21;01mcompat\u001b[39;00m\u001b[38;5;21;01m.\u001b[39;00m\u001b[38;5;21;01mcompressors\u001b[39;00m\n\u001b[0;32m---> 25\u001b[0m \u001b[38;5;28;01mfrom\u001b[39;00m\u001b[38;5;250m \u001b[39m\u001b[38;5;21;01mpandas\u001b[39;00m\u001b[38;5;21;01m.\u001b[39;00m\u001b[38;5;21;01mcompat\u001b[39;00m\u001b[38;5;21;01m.\u001b[39;00m\u001b[38;5;21;01mnumpy\u001b[39;00m\u001b[38;5;250m \u001b[39m\u001b[38;5;28;01mimport\u001b[39;00m (\n\u001b[1;32m     26\u001b[0m     is_numpy_dev,\n\u001b[1;32m     27\u001b[0m     np_version_under1p21,\n\u001b[1;32m     28\u001b[0m )\n\u001b[1;32m     29\u001b[0m \u001b[38;5;28;01mfrom\u001b[39;00m\u001b[38;5;250m \u001b[39m\u001b[38;5;21;01mpandas\u001b[39;00m\u001b[38;5;21;01m.\u001b[39;00m\u001b[38;5;21;01mcompat\u001b[39;00m\u001b[38;5;21;01m.\u001b[39;00m\u001b[38;5;21;01mpyarrow\u001b[39;00m\u001b[38;5;250m \u001b[39m\u001b[38;5;28;01mimport\u001b[39;00m (\n\u001b[1;32m     30\u001b[0m     pa_version_under7p0,\n\u001b[1;32m     31\u001b[0m     pa_version_under8p0,\n\u001b[1;32m     32\u001b[0m     pa_version_under9p0,\n\u001b[1;32m     33\u001b[0m     pa_version_under11p0,\n\u001b[1;32m     34\u001b[0m )\n\u001b[1;32m     37\u001b[0m \u001b[38;5;28;01mdef\u001b[39;00m\u001b[38;5;250m \u001b[39m\u001b[38;5;21mset_function_name\u001b[39m(f: F, name: \u001b[38;5;28mstr\u001b[39m, \u001b[38;5;28mcls\u001b[39m) \u001b[38;5;241m-\u001b[39m\u001b[38;5;241m>\u001b[39m F:\n",
      "File \u001b[0;32m~/miniconda3/envs/llm/lib/python3.10/site-packages/pandas/compat/numpy/__init__.py:4\u001b[0m\n\u001b[1;32m      1\u001b[0m \u001b[38;5;124;03m\"\"\" support numpy compatibility across versions \"\"\"\u001b[39;00m\n\u001b[1;32m      2\u001b[0m \u001b[38;5;28;01mimport\u001b[39;00m\u001b[38;5;250m \u001b[39m\u001b[38;5;21;01mnumpy\u001b[39;00m\u001b[38;5;250m \u001b[39m\u001b[38;5;28;01mas\u001b[39;00m\u001b[38;5;250m \u001b[39m\u001b[38;5;21;01mnp\u001b[39;00m\n\u001b[0;32m----> 4\u001b[0m \u001b[38;5;28;01mfrom\u001b[39;00m\u001b[38;5;250m \u001b[39m\u001b[38;5;21;01mpandas\u001b[39;00m\u001b[38;5;21;01m.\u001b[39;00m\u001b[38;5;21;01mutil\u001b[39;00m\u001b[38;5;21;01m.\u001b[39;00m\u001b[38;5;21;01mversion\u001b[39;00m\u001b[38;5;250m \u001b[39m\u001b[38;5;28;01mimport\u001b[39;00m Version\n\u001b[1;32m      6\u001b[0m \u001b[38;5;66;03m# numpy versioning\u001b[39;00m\n\u001b[1;32m      7\u001b[0m _np_version \u001b[38;5;241m=\u001b[39m np\u001b[38;5;241m.\u001b[39m__version__\n",
      "File \u001b[0;32m~/miniconda3/envs/llm/lib/python3.10/site-packages/pandas/util/__init__.py:2\u001b[0m\n\u001b[1;32m      1\u001b[0m \u001b[38;5;66;03m# pyright: reportUnusedImport = false\u001b[39;00m\n\u001b[0;32m----> 2\u001b[0m \u001b[38;5;28;01mfrom\u001b[39;00m\u001b[38;5;250m \u001b[39m\u001b[38;5;21;01mpandas\u001b[39;00m\u001b[38;5;21;01m.\u001b[39;00m\u001b[38;5;21;01mutil\u001b[39;00m\u001b[38;5;21;01m.\u001b[39;00m\u001b[38;5;21;01m_decorators\u001b[39;00m\u001b[38;5;250m \u001b[39m\u001b[38;5;28;01mimport\u001b[39;00m (  \u001b[38;5;66;03m# noqa:F401\u001b[39;00m\n\u001b[1;32m      3\u001b[0m     Appender,\n\u001b[1;32m      4\u001b[0m     Substitution,\n\u001b[1;32m      5\u001b[0m     cache_readonly,\n\u001b[1;32m      6\u001b[0m )\n\u001b[1;32m      8\u001b[0m \u001b[38;5;28;01mfrom\u001b[39;00m\u001b[38;5;250m \u001b[39m\u001b[38;5;21;01mpandas\u001b[39;00m\u001b[38;5;21;01m.\u001b[39;00m\u001b[38;5;21;01mcore\u001b[39;00m\u001b[38;5;21;01m.\u001b[39;00m\u001b[38;5;21;01mutil\u001b[39;00m\u001b[38;5;21;01m.\u001b[39;00m\u001b[38;5;21;01mhashing\u001b[39;00m\u001b[38;5;250m \u001b[39m\u001b[38;5;28;01mimport\u001b[39;00m (  \u001b[38;5;66;03m# noqa:F401\u001b[39;00m\n\u001b[1;32m      9\u001b[0m     hash_array,\n\u001b[1;32m     10\u001b[0m     hash_pandas_object,\n\u001b[1;32m     11\u001b[0m )\n",
      "File \u001b[0;32m~/miniconda3/envs/llm/lib/python3.10/site-packages/pandas/util/_decorators.py:14\u001b[0m\n\u001b[1;32m      6\u001b[0m \u001b[38;5;28;01mfrom\u001b[39;00m\u001b[38;5;250m \u001b[39m\u001b[38;5;21;01mtyping\u001b[39;00m\u001b[38;5;250m \u001b[39m\u001b[38;5;28;01mimport\u001b[39;00m (\n\u001b[1;32m      7\u001b[0m     Any,\n\u001b[1;32m      8\u001b[0m     Callable,\n\u001b[1;32m      9\u001b[0m     Mapping,\n\u001b[1;32m     10\u001b[0m     cast,\n\u001b[1;32m     11\u001b[0m )\n\u001b[1;32m     12\u001b[0m \u001b[38;5;28;01mimport\u001b[39;00m\u001b[38;5;250m \u001b[39m\u001b[38;5;21;01mwarnings\u001b[39;00m\n\u001b[0;32m---> 14\u001b[0m \u001b[38;5;28;01mfrom\u001b[39;00m\u001b[38;5;250m \u001b[39m\u001b[38;5;21;01mpandas\u001b[39;00m\u001b[38;5;21;01m.\u001b[39;00m\u001b[38;5;21;01m_libs\u001b[39;00m\u001b[38;5;21;01m.\u001b[39;00m\u001b[38;5;21;01mproperties\u001b[39;00m\u001b[38;5;250m \u001b[39m\u001b[38;5;28;01mimport\u001b[39;00m cache_readonly\n\u001b[1;32m     15\u001b[0m \u001b[38;5;28;01mfrom\u001b[39;00m\u001b[38;5;250m \u001b[39m\u001b[38;5;21;01mpandas\u001b[39;00m\u001b[38;5;21;01m.\u001b[39;00m\u001b[38;5;21;01m_typing\u001b[39;00m\u001b[38;5;250m \u001b[39m\u001b[38;5;28;01mimport\u001b[39;00m (\n\u001b[1;32m     16\u001b[0m     F,\n\u001b[1;32m     17\u001b[0m     T,\n\u001b[1;32m     18\u001b[0m )\n\u001b[1;32m     19\u001b[0m \u001b[38;5;28;01mfrom\u001b[39;00m\u001b[38;5;250m \u001b[39m\u001b[38;5;21;01mpandas\u001b[39;00m\u001b[38;5;21;01m.\u001b[39;00m\u001b[38;5;21;01mutil\u001b[39;00m\u001b[38;5;21;01m.\u001b[39;00m\u001b[38;5;21;01m_exceptions\u001b[39;00m\u001b[38;5;250m \u001b[39m\u001b[38;5;28;01mimport\u001b[39;00m find_stack_level\n",
      "File \u001b[0;32m~/miniconda3/envs/llm/lib/python3.10/site-packages/pandas/_libs/__init__.py:13\u001b[0m\n\u001b[1;32m      1\u001b[0m __all__ \u001b[38;5;241m=\u001b[39m [\n\u001b[1;32m      2\u001b[0m     \u001b[38;5;124m\"\u001b[39m\u001b[38;5;124mNaT\u001b[39m\u001b[38;5;124m\"\u001b[39m,\n\u001b[1;32m      3\u001b[0m     \u001b[38;5;124m\"\u001b[39m\u001b[38;5;124mNaTType\u001b[39m\u001b[38;5;124m\"\u001b[39m,\n\u001b[0;32m   (...)\u001b[0m\n\u001b[1;32m      9\u001b[0m     \u001b[38;5;124m\"\u001b[39m\u001b[38;5;124mInterval\u001b[39m\u001b[38;5;124m\"\u001b[39m,\n\u001b[1;32m     10\u001b[0m ]\n\u001b[0;32m---> 13\u001b[0m \u001b[38;5;28;01mfrom\u001b[39;00m\u001b[38;5;250m \u001b[39m\u001b[38;5;21;01mpandas\u001b[39;00m\u001b[38;5;21;01m.\u001b[39;00m\u001b[38;5;21;01m_libs\u001b[39;00m\u001b[38;5;21;01m.\u001b[39;00m\u001b[38;5;21;01minterval\u001b[39;00m\u001b[38;5;250m \u001b[39m\u001b[38;5;28;01mimport\u001b[39;00m Interval\n\u001b[1;32m     14\u001b[0m \u001b[38;5;28;01mfrom\u001b[39;00m\u001b[38;5;250m \u001b[39m\u001b[38;5;21;01mpandas\u001b[39;00m\u001b[38;5;21;01m.\u001b[39;00m\u001b[38;5;21;01m_libs\u001b[39;00m\u001b[38;5;21;01m.\u001b[39;00m\u001b[38;5;21;01mtslibs\u001b[39;00m\u001b[38;5;250m \u001b[39m\u001b[38;5;28;01mimport\u001b[39;00m (\n\u001b[1;32m     15\u001b[0m     NaT,\n\u001b[1;32m     16\u001b[0m     NaTType,\n\u001b[0;32m   (...)\u001b[0m\n\u001b[1;32m     21\u001b[0m     iNaT,\n\u001b[1;32m     22\u001b[0m )\n",
      "File \u001b[0;32m~/miniconda3/envs/llm/lib/python3.10/site-packages/pandas/_libs/interval.pyx:1\u001b[0m, in \u001b[0;36minit pandas._libs.interval\u001b[0;34m()\u001b[0m\n",
      "\u001b[0;31mValueError\u001b[0m: numpy.dtype size changed, may indicate binary incompatibility. Expected 96 from C header, got 88 from PyObject"
     ]
    }
   ],
   "source": [
    "### run pdf processing\n",
    "# read bytes\n",
    "image_writer = FileBasedDataWriter(local_image_dir)\n",
    "md_writer = FileBasedDataWriter(local_md_dir)\n",
    "# Readers\n",
    "reader = FileBasedDataReader(\"\")\n",
    "pdf_bytes = reader.read(pdf_file_path)\n",
    "# Processing\n",
    "ds = PymuDocDataset(pdf_bytes)\n",
    "## inference\n",
    "if ds.classify() == SupportedPdfParseMethod.OCR:\n",
    "    infer_result = ds.apply(doc_analyze, ocr=True)\n",
    "    pipe_result = infer_result.pipe_ocr_mode(image_writer)\n",
    "else:\n",
    "    infer_result = ds.apply(doc_analyze, ocr=False)\n",
    "    pipe_result = infer_result.pipe_txt_mode(image_writer)"
   ]
  },
  {
   "cell_type": "code",
   "execution_count": 38,
   "metadata": {},
   "outputs": [],
   "source": [
    "from IPython.display import HTML, display"
   ]
  },
  {
   "cell_type": "code",
   "execution_count": 39,
   "metadata": {},
   "outputs": [],
   "source": [
    "### get model inference result\n",
    "model_inference_result = infer_result.get_infer_res()\n",
    "md_content = pipe_result.get_markdown(local_image_dir)\n",
    "content_list_content = pipe_result.get_content_list(local_image_dir)"
   ]
  },
  {
   "cell_type": "code",
   "execution_count": 40,
   "metadata": {},
   "outputs": [
    {
     "data": {
      "text/html": [
       "\n",
       "\n",
       "<html><body><table><tr><td colspan=\"10\">Table 1.United States: Selected Economic Indicators (Percentage change from previous period, unless otherwise indicated)</td></tr><tr><td></td><td></td><td></td><td></td><td></td><td></td><td></td><td>Projections</td><td></td><td></td><td></td></tr><tr><td></td><td>2019</td><td>2020</td><td>2021</td><td>2022</td><td>2023</td><td>2024</td><td>2025</td><td>2026 2027</td><td>2028</td><td></td></tr><tr><td></td><td></td><td></td><td></td><td></td><td></td><td></td><td></td><td></td><td></td><td></td></tr><tr><td>National Production and Income</td><td>2.3</td><td></td><td>5.9</td><td></td><td></td><td></td><td></td><td></td><td>2.1</td><td>2.1</td></tr><tr><td>Real GDP</td><td>2.6</td><td>-2.8 -1.5</td><td></td><td>2.1</td><td>1.7</td><td>1.0</td><td>1.8</td><td>2.1</td><td>2.1</td><td>2.1</td></tr><tr><td>Real GDP (q4/q4) Net exports 1/</td><td>-0.1</td><td>-0.3</td><td>5.7 -1.2</td><td>0.9 -0.4</td><td>1.2 0.5</td><td>1.1</td><td>2.0 0.0</td><td>2.1 0.0</td><td>0.0</td><td>0.0</td></tr><tr><td>Total domesticdemand</td><td>2.3</td><td>-2.4</td><td>7.0</td><td>2.4</td><td>1.1</td><td>0.0</td><td>1.7</td><td>2.0</td><td>2.1</td><td></td></tr><tr><td>Final domestic demand</td><td>2.3</td><td>-1.9</td><td>6.7</td><td>1.7</td><td>1.6</td><td>1.0 1.0</td><td>1.7</td><td>2.1</td><td>2.1</td><td>2.1 2.1</td></tr><tr><td>Privatefinalconsumption</td><td>2.0</td><td>-3.0</td><td>8.3</td><td>2.7</td><td>2.0</td><td>0.8</td><td>1.4</td><td>1.7</td><td>2.0</td><td>2.0</td></tr><tr><td></td><td>3.4</td><td>2.2</td><td>1.3</td><td>-0.2</td><td>3.0</td><td>1.4</td><td>1.3</td><td>1.3</td><td>1.3</td><td>1.3</td></tr><tr><td>Public consumption expenditure</td><td>2.6</td><td>-1.2</td><td>5.7</td><td>-0.5</td><td>-0.8</td><td>1.3</td><td>3.2</td><td>3.7</td><td>3.2</td><td>3.1</td></tr><tr><td>Grossfixeddomesticinvestment</td><td>2.5</td><td>-2.3</td><td>7.4</td><td>-0.2</td><td>-1.9</td><td>0.7</td><td>3.0</td><td>3.7</td><td>3.7</td><td>3.8</td></tr><tr><td>Privatefixedinvestment</td><td>3.1</td><td>3.9</td><td>-2.3</td><td>-2.1</td><td>4.9</td><td>4.1</td><td>3.9</td><td>3.5</td><td>0.5</td><td>0.0</td></tr><tr><td>Publicfixedinvestment</td><td>0.0</td><td>-0.5</td><td>0.2</td><td>0.7</td><td>-0.5</td><td>0.0</td><td>0.0</td><td>0.0</td><td>0.0</td><td>0.0</td></tr><tr><td>Change in private inventories 1/</td><td></td><td></td><td></td><td></td><td></td><td></td><td></td><td></td><td></td><td></td></tr><tr><td>Nominal GDP</td><td>4.1</td><td>-1.5</td><td>10.7</td><td>9.2</td><td>6.0</td><td>4.1</td><td>4.3</td><td>4.2</td><td>4.1</td><td>4.1</td></tr><tr><td>Personal saving rate (%of disposableincome)</td><td>8.8</td><td>16.8 17.3</td><td>11.9 17.6</td><td>3.5 18.2</td><td>4.1 17.2</td><td>4.0 17.1</td><td>4.9 17.3</td><td>4.9 17.5</td><td>4.9 17.8</td><td>5.4 18.0</td></tr><tr><td>Private investment rate (% of GDP)</td><td>17.8</td><td></td><td></td><td></td><td></td><td></td><td></td><td></td><td></td><td></td></tr><tr><td>Unemployment and Potential Output</td><td></td><td></td><td></td><td>3.6</td><td>3.7</td><td>4.2</td><td>4.3</td><td>4.0</td><td></td><td>4.0</td></tr><tr><td>Unemploymentrate Labor force participation rate</td><td>3.7 63.1</td><td>8.1 61.7</td><td>61.7</td><td>62.2</td><td>62.5</td><td>62.5</td><td>62.4</td><td>62.2</td><td>4.0 62.2</td><td>62.2</td></tr><tr><td>Potential GDP</td><td>1.6</td><td>0.4</td><td></td><td>2.2</td><td>2.1</td><td></td><td>2.0</td><td>2.0</td><td>2.0</td><td></td></tr><tr><td>Output gap (% of potential GDP)</td><td>0.7</td><td>-2.5</td><td>1.8 1.5</td><td>1.4</td><td>0.9</td><td>2.0 0.0</td><td>-0.2</td><td>-0.2</td><td>-0.1</td><td>2.0 0.0</td></tr><tr><td></td><td></td><td></td><td></td><td></td><td></td><td></td><td></td><td></td><td></td><td></td></tr><tr><td>Inflation</td><td></td><td>1.2</td><td>6.8</td><td>7.1</td><td>3.6</td><td>2.5</td><td>2.4</td><td>2.1</td><td></td><td>2.2</td></tr><tr><td>CPl inflation (q4/q4) Core CPl Inflation (q4/q4)</td><td>2.0 2.3</td><td>1.6</td><td></td><td>6.0</td><td>4.2</td><td>2.9</td><td>2.7</td><td>2.3</td><td>2.1 2.3</td><td>2.3</td></tr><tr><td>PCE Inflation (q4/q4)</td><td>1.4</td><td>1.1</td><td>5.0 5.7</td><td>5.7</td><td>3.8</td><td>2.6</td><td>2.3</td><td>1.9</td><td>1.9</td><td>2.0</td></tr><tr><td>Core PCE Inflation (q4/q4)</td><td>1.6</td><td>1.4</td><td>4.7</td><td>4.8</td><td>4.1</td><td>2.8</td><td>2.5</td><td>2.0</td><td>2.0</td><td>2.0</td></tr><tr><td>GDP deflator</td><td>1.8</td><td>1.3</td><td>4.5</td><td>7.0</td><td>4.3</td><td>3.0</td><td>2.5</td><td>2.1</td><td>1.9</td><td>1.9</td></tr><tr><td></td><td></td><td></td><td></td><td></td><td></td><td></td><td></td><td></td><td></td><td></td></tr><tr><td>Government Finances</td><td></td><td></td><td></td><td></td><td></td><td></td><td></td><td>-6.2</td><td></td><td>-6.4</td></tr><tr><td>Federal balance (% of GDP) 2/</td><td>-4.7</td><td>-14.9</td><td>-12.3</td><td>-5.5</td><td>-5.6</td><td>-5.7</td><td>-6.4</td><td></td><td>-5.9</td><td>108.3</td></tr><tr><td>Federal debt held by the public (% of GDP)</td><td>79.4</td><td>99.8</td><td>98.4</td><td>97.0</td><td>96.6</td><td>98.4</td><td>101.2</td><td>103.6</td><td>105.8</td><td></td></tr><tr><td>General governmentbudgetbalance(%of GDP)</td><td>-5.7</td><td>-14.0</td><td>-11.6 126.4</td><td>-3.7</td><td>-6.7</td><td>-7.0</td><td>-7.3</td><td>-7.1</td><td>-6.9</td><td>-7.0</td></tr><tr><td>Generalgovernmentgross debt (%of GDP)</td><td>108.7</td><td>133.5</td><td></td><td>121.4</td><td>121.8</td><td>124.6</td><td>127.5</td><td>130.1</td><td>132.5</td><td>134.9</td></tr><tr><td>Interest Rates (percent; period average)</td><td></td><td></td><td></td><td></td><td></td><td></td><td></td><td></td><td></td><td>2.4</td></tr><tr><td>Fed funds rate</td><td>2.2</td><td>0.4</td><td>0.1</td><td>1.7</td><td>5.1</td><td>5.3</td><td>4.2</td><td>3.2</td><td>2.4</td><td></td></tr><tr><td>Three-month Treasury bill rate Ten-year government bond rate</td><td>2.1 2.1</td><td>0.4 0.9</td><td>0.0</td><td>2.1 3.0</td><td>5.2 3.8</td><td>5.3 3.8</td><td>4.2 3.6</td><td>3.2 3.4</td><td>2.4 3.4</td><td>2.4 3.4</td></tr><tr><td>Balance of Payments</td><td></td><td></td><td>1.4</td><td></td><td></td><td></td><td></td><td></td><td></td></table></body></html>\n",
       "\n"
      ],
      "text/plain": [
       "<IPython.core.display.HTML object>"
      ]
     },
     "metadata": {},
     "output_type": "display_data"
    }
   ],
   "source": [
    "display(HTML(content_list_content[0]['table_body']))"
   ]
  },
  {
   "cell_type": "code",
   "execution_count": 41,
   "metadata": {},
   "outputs": [],
   "source": [
    "class PDFConverter:\n",
    "    def __init__(self, input_dir, output_dir):\n",
    "        self.input_dir = input_dir\n",
    "        self.output_dir = output_dir\n",
    "\n",
    "    def process_pdf(self, pdf_file_path,draw_pdf=False):\n",
    "        # Create a unique directory for each PDF\n",
    "        name_without_suffix = os.path.splitext(os.path.basename(pdf_file_path))[0]\n",
    "        pdf_output_dir = os.path.join(self.output_dir, name_without_suffix)\n",
    "        local_image_dir = os.path.join(pdf_output_dir, \"images\")\n",
    "        local_md_dir = pdf_output_dir\n",
    "        os.makedirs(local_image_dir, exist_ok=True)\n",
    "        os.makedirs(local_md_dir, exist_ok=True)\n",
    "        # read bytes\n",
    "        image_writer = FileBasedDataWriter(local_image_dir)\n",
    "        md_writer = FileBasedDataWriter(local_md_dir)\n",
    "        # Readers\n",
    "        reader = FileBasedDataReader(\"\")\n",
    "        pdf_bytes = reader.read(pdf_file_path)\n",
    "        # Processing\n",
    "        ds = PymuDocDataset(pdf_bytes)\n",
    "\n",
    "        ## inference\n",
    "        if ds.classify() == SupportedPdfParseMethod.OCR:\n",
    "            infer_result = ds.apply(doc_analyze, ocr=True)\n",
    "            pipe_result = infer_result.pipe_ocr_mode(image_writer)\n",
    "        else:\n",
    "            infer_result = ds.apply(doc_analyze, ocr=False)\n",
    "            pipe_result = infer_result.pipe_txt_mode(image_writer)\n",
    "\n",
    "        # Output\n",
    "        if draw_pdf:\n",
    "            infer_result.draw_model(os.path.join(local_md_dir, f\"{name_without_suffix}_model.pdf\"))\n",
    "            pipe_result.draw_layout(os.path.join(local_md_dir, f\"{name_without_suffix}_layout.pdf\"))\n",
    "            pipe_result.draw_span(os.path.join(local_md_dir, f\"{name_without_suffix}_spans.pdf\"))\n",
    "\n",
    "        md_content = pipe_result.get_markdown(local_image_dir)\n",
    "        pipe_result.dump_md(md_writer, f\"{name_without_suffix}.md\", local_image_dir)\n",
    "        pipe_result.dump_content_list(md_writer, f\"{name_without_suffix}_content_list.json\", local_image_dir)\n",
    "        pipe_result.dump_middle_json(md_writer, f\"{name_without_suffix}_middle.json\")\n",
    "\n",
    "    def process_all_pdfs(self):\n",
    "        for filename in os.listdir(self.input_dir):\n",
    "            if filename.endswith(\".pdf\"):\n",
    "                pdf_file_path = os.path.join(self.input_dir, filename)\n",
    "                self.process_pdf(pdf_file_path)\n",
    "\n"
   ]
  },
  {
   "cell_type": "code",
   "execution_count": 43,
   "metadata": {},
   "outputs": [
    {
     "name": "stderr",
     "output_type": "stream",
     "text": [
      "\u001b[32m2025-03-02 21:31:20.995\u001b[0m | \u001b[1mINFO    \u001b[0m | \u001b[36mmagic_pdf.data.dataset\u001b[0m:\u001b[36m__init__\u001b[0m:\u001b[36m156\u001b[0m - \u001b[1mlang: None\u001b[0m\n",
      "\u001b[32m2025-03-02 21:31:21.057\u001b[0m | \u001b[1mINFO    \u001b[0m | \u001b[36mmagic_pdf.libs.pdf_check\u001b[0m:\u001b[36mdetect_invalid_chars\u001b[0m:\u001b[36m67\u001b[0m - \u001b[1mcid_count: 0, text_len: 3258, cid_chars_radio: 0.0\u001b[0m\n",
      "\u001b[32m2025-03-02 21:31:22.324\u001b[0m | \u001b[1mINFO    \u001b[0m | \u001b[36mmagic_pdf.model.pdf_extract_kit\u001b[0m:\u001b[36m__call__\u001b[0m:\u001b[36m210\u001b[0m - \u001b[1mlayout detection time: 1.25\u001b[0m\n",
      "\u001b[32m2025-03-02 21:31:25.956\u001b[0m | \u001b[1mINFO    \u001b[0m | \u001b[36mmagic_pdf.model.pdf_extract_kit\u001b[0m:\u001b[36m__call__\u001b[0m:\u001b[36m216\u001b[0m - \u001b[1mmfd time: 3.63\u001b[0m\n",
      "\u001b[32m2025-03-02 21:31:31.807\u001b[0m | \u001b[1mINFO    \u001b[0m | \u001b[36mmagic_pdf.model.pdf_extract_kit\u001b[0m:\u001b[36m__call__\u001b[0m:\u001b[36m223\u001b[0m - \u001b[1mformula nums: 13, mfr time: 5.85\u001b[0m\n",
      "\u001b[32m2025-03-02 21:31:31.990\u001b[0m | \u001b[1mINFO    \u001b[0m | \u001b[36mmagic_pdf.model.pdf_extract_kit\u001b[0m:\u001b[36m__call__\u001b[0m:\u001b[36m257\u001b[0m - \u001b[1mdet time: 0.18\u001b[0m\n",
      "\u001b[32m2025-03-02 21:31:40.271\u001b[0m | \u001b[1mINFO    \u001b[0m | \u001b[36mmagic_pdf.model.pdf_extract_kit\u001b[0m:\u001b[36m__call__\u001b[0m:\u001b[36m297\u001b[0m - \u001b[1mtable time: 8.28\u001b[0m\n",
      "\u001b[32m2025-03-02 21:31:40.272\u001b[0m | \u001b[1mINFO    \u001b[0m | \u001b[36mmagic_pdf.model.doc_analyze_by_custom_model\u001b[0m:\u001b[36mdoc_analyze\u001b[0m:\u001b[36m228\u001b[0m - \u001b[1m-----page_id : 0, page total time: 19.2-----\u001b[0m\n",
      "\u001b[32m2025-03-02 21:31:40.553\u001b[0m | \u001b[1mINFO    \u001b[0m | \u001b[36mmagic_pdf.model.doc_analyze_by_custom_model\u001b[0m:\u001b[36mdoc_analyze\u001b[0m:\u001b[36m239\u001b[0m - \u001b[1mgc time: 0.28\u001b[0m\n",
      "\u001b[32m2025-03-02 21:31:40.554\u001b[0m | \u001b[1mINFO    \u001b[0m | \u001b[36mmagic_pdf.model.doc_analyze_by_custom_model\u001b[0m:\u001b[36mdoc_analyze\u001b[0m:\u001b[36m243\u001b[0m - \u001b[1mdoc analyze time: 19.5, speed: 0.05 pages/second\u001b[0m\n",
      "\u001b[32m2025-03-02 21:31:41.185\u001b[0m | \u001b[1mINFO    \u001b[0m | \u001b[36mmagic_pdf.data.dataset\u001b[0m:\u001b[36m__init__\u001b[0m:\u001b[36m156\u001b[0m - \u001b[1mlang: None\u001b[0m\n",
      "\u001b[32m2025-03-02 21:31:42.681\u001b[0m | \u001b[1mINFO    \u001b[0m | \u001b[36mmagic_pdf.libs.pdf_check\u001b[0m:\u001b[36mdetect_invalid_chars\u001b[0m:\u001b[36m67\u001b[0m - \u001b[1mcid_count: 0, text_len: 3819, cid_chars_radio: 0.0\u001b[0m\n",
      "\u001b[32m2025-03-02 21:31:44.038\u001b[0m | \u001b[1mINFO    \u001b[0m | \u001b[36mmagic_pdf.model.pdf_extract_kit\u001b[0m:\u001b[36m__call__\u001b[0m:\u001b[36m210\u001b[0m - \u001b[1mlayout detection time: 1.29\u001b[0m\n",
      "\u001b[32m2025-03-02 21:31:47.909\u001b[0m | \u001b[1mINFO    \u001b[0m | \u001b[36mmagic_pdf.model.pdf_extract_kit\u001b[0m:\u001b[36m__call__\u001b[0m:\u001b[36m216\u001b[0m - \u001b[1mmfd time: 3.87\u001b[0m\n",
      "\u001b[32m2025-03-02 21:31:51.098\u001b[0m | \u001b[1mINFO    \u001b[0m | \u001b[36mmagic_pdf.model.pdf_extract_kit\u001b[0m:\u001b[36m__call__\u001b[0m:\u001b[36m223\u001b[0m - \u001b[1mformula nums: 8, mfr time: 3.19\u001b[0m\n",
      "\u001b[32m2025-03-02 21:31:51.462\u001b[0m | \u001b[1mINFO    \u001b[0m | \u001b[36mmagic_pdf.model.pdf_extract_kit\u001b[0m:\u001b[36m__call__\u001b[0m:\u001b[36m257\u001b[0m - \u001b[1mdet time: 0.36\u001b[0m\n",
      "\u001b[32m2025-03-02 21:31:59.873\u001b[0m | \u001b[1mINFO    \u001b[0m | \u001b[36mmagic_pdf.model.pdf_extract_kit\u001b[0m:\u001b[36m__call__\u001b[0m:\u001b[36m297\u001b[0m - \u001b[1mtable time: 8.41\u001b[0m\n",
      "\u001b[32m2025-03-02 21:31:59.875\u001b[0m | \u001b[1mINFO    \u001b[0m | \u001b[36mmagic_pdf.model.doc_analyze_by_custom_model\u001b[0m:\u001b[36mdoc_analyze\u001b[0m:\u001b[36m228\u001b[0m - \u001b[1m-----page_id : 0, page total time: 17.13-----\u001b[0m\n",
      "\u001b[32m2025-03-02 21:32:00.118\u001b[0m | \u001b[1mINFO    \u001b[0m | \u001b[36mmagic_pdf.model.doc_analyze_by_custom_model\u001b[0m:\u001b[36mdoc_analyze\u001b[0m:\u001b[36m239\u001b[0m - \u001b[1mgc time: 0.24\u001b[0m\n",
      "\u001b[32m2025-03-02 21:32:00.119\u001b[0m | \u001b[1mINFO    \u001b[0m | \u001b[36mmagic_pdf.model.doc_analyze_by_custom_model\u001b[0m:\u001b[36mdoc_analyze\u001b[0m:\u001b[36m243\u001b[0m - \u001b[1mdoc analyze time: 17.44, speed: 0.06 pages/second\u001b[0m\n"
     ]
    }
   ],
   "source": [
    "input_folder = '/ephemeral/home/xiong/data/Fund/pdf_parse'\n",
    "output_folder = os.path.join(input_dir, 'output')\n",
    "pdf_file_path = os.path.join(input_dir, '111_2023_0_table1.pdf')  # replace with the real pdf path\n",
    "converter = PDFConverter(input_folder, output_folder)\n",
    "converter.process_all_pdfs()"
   ]
  },
  {
   "cell_type": "markdown",
   "metadata": {},
   "source": [
    "#### Print out the markdown content "
   ]
  },
  {
   "cell_type": "code",
   "execution_count": 46,
   "metadata": {},
   "outputs": [
    {
     "data": {
      "text/markdown": [
       "<html><body><table><tr><td colspan=\"10\">Table 1.United States: Selected Economic Indicators (Percentage change from previous period, unless otherwise indicated)</td></tr><tr><td></td><td></td><td></td><td></td><td></td><td></td><td></td><td>Projections</td><td></td><td></td><td></td></tr><tr><td></td><td>2019</td><td>2020</td><td>2021</td><td>2022</td><td>2023</td><td>2024</td><td>2025</td><td>2026 2027</td><td>2028</td><td></td></tr><tr><td></td><td></td><td></td><td></td><td></td><td></td><td></td><td></td><td></td><td></td><td></td></tr><tr><td>National Production and Income</td><td>2.3</td><td></td><td>5.9</td><td></td><td></td><td></td><td></td><td></td><td>2.1</td><td>2.1</td></tr><tr><td>Real GDP</td><td>2.6</td><td>-2.8 -1.5</td><td></td><td>2.1</td><td>1.7</td><td>1.0</td><td>1.8</td><td>2.1</td><td>2.1</td><td>2.1</td></tr><tr><td>Real GDP (q4/q4) Net exports 1/</td><td>-0.1</td><td>-0.3</td><td>5.7 -1.2</td><td>0.9 -0.4</td><td>1.2 0.5</td><td>1.1</td><td>2.0 0.0</td><td>2.1 0.0</td><td>0.0</td><td>0.0</td></tr><tr><td>Total domesticdemand</td><td>2.3</td><td>-2.4</td><td>7.0</td><td>2.4</td><td>1.1</td><td>0.0</td><td>1.7</td><td>2.0</td><td>2.1</td><td></td></tr><tr><td>Final domestic demand</td><td>2.3</td><td>-1.9</td><td>6.7</td><td>1.7</td><td>1.6</td><td>1.0 1.0</td><td>1.7</td><td>2.1</td><td>2.1</td><td>2.1 2.1</td></tr><tr><td>Privatefinalconsumption</td><td>2.0</td><td>-3.0</td><td>8.3</td><td>2.7</td><td>2.0</td><td>0.8</td><td>1.4</td><td>1.7</td><td>2.0</td><td>2.0</td></tr><tr><td></td><td>3.4</td><td>2.2</td><td>1.3</td><td>-0.2</td><td>3.0</td><td>1.4</td><td>1.3</td><td>1.3</td><td>1.3</td><td>1.3</td></tr><tr><td>Public consumption expenditure</td><td>2.6</td><td>-1.2</td><td>5.7</td><td>-0.5</td><td>-0.8</td><td>1.3</td><td>3.2</td><td>3.7</td><td>3.2</td><td>3.1</td></tr><tr><td>Grossfixeddomesticinvestment</td><td>2.5</td><td>-2.3</td><td>7.4</td><td>-0.2</td><td>-1.9</td><td>0.7</td><td>3.0</td><td>3.7</td><td>3.7</td><td>3.8</td></tr><tr><td>Privatefixedinvestment</td><td>3.1</td><td>3.9</td><td>-2.3</td><td>-2.1</td><td>4.9</td><td>4.1</td><td>3.9</td><td>3.5</td><td>0.5</td><td>0.0</td></tr><tr><td>Publicfixedinvestment</td><td>0.0</td><td>-0.5</td><td>0.2</td><td>0.7</td><td>-0.5</td><td>0.0</td><td>0.0</td><td>0.0</td><td>0.0</td><td>0.0</td></tr><tr><td>Change in private inventories 1/</td><td></td><td></td><td></td><td></td><td></td><td></td><td></td><td></td><td></td><td></td></tr><tr><td>Nominal GDP</td><td>4.1</td><td>-1.5</td><td>10.7</td><td>9.2</td><td>6.0</td><td>4.1</td><td>4.3</td><td>4.2</td><td>4.1</td><td>4.1</td></tr><tr><td>Personal saving rate (%of disposableincome)</td><td>8.8</td><td>16.8 17.3</td><td>11.9 17.6</td><td>3.5 18.2</td><td>4.1 17.2</td><td>4.0 17.1</td><td>4.9 17.3</td><td>4.9 17.5</td><td>4.9 17.8</td><td>5.4 18.0</td></tr><tr><td>Private investment rate (% of GDP)</td><td>17.8</td><td></td><td></td><td></td><td></td><td></td><td></td><td></td><td></td><td></td></tr><tr><td>Unemployment and Potential Output</td><td></td><td></td><td></td><td>3.6</td><td>3.7</td><td>4.2</td><td>4.3</td><td>4.0</td><td></td><td>4.0</td></tr><tr><td>Unemploymentrate Labor force participation rate</td><td>3.7 63.1</td><td>8.1 61.7</td><td>61.7</td><td>62.2</td><td>62.5</td><td>62.5</td><td>62.4</td><td>62.2</td><td>4.0 62.2</td><td>62.2</td></tr><tr><td>Potential GDP</td><td>1.6</td><td>0.4</td><td></td><td>2.2</td><td>2.1</td><td></td><td>2.0</td><td>2.0</td><td>2.0</td><td></td></tr><tr><td>Output gap (% of potential GDP)</td><td>0.7</td><td>-2.5</td><td>1.8 1.5</td><td>1.4</td><td>0.9</td><td>2.0 0.0</td><td>-0.2</td><td>-0.2</td><td>-0.1</td><td>2.0 0.0</td></tr><tr><td></td><td></td><td></td><td></td><td></td><td></td><td></td><td></td><td></td><td></td><td></td></tr><tr><td>Inflation</td><td></td><td>1.2</td><td>6.8</td><td>7.1</td><td>3.6</td><td>2.5</td><td>2.4</td><td>2.1</td><td></td><td>2.2</td></tr><tr><td>CPl inflation (q4/q4) Core CPl Inflation (q4/q4)</td><td>2.0 2.3</td><td>1.6</td><td></td><td>6.0</td><td>4.2</td><td>2.9</td><td>2.7</td><td>2.3</td><td>2.1 2.3</td><td>2.3</td></tr><tr><td>PCE Inflation (q4/q4)</td><td>1.4</td><td>1.1</td><td>5.0 5.7</td><td>5.7</td><td>3.8</td><td>2.6</td><td>2.3</td><td>1.9</td><td>1.9</td><td>2.0</td></tr><tr><td>Core PCE Inflation (q4/q4)</td><td>1.6</td><td>1.4</td><td>4.7</td><td>4.8</td><td>4.1</td><td>2.8</td><td>2.5</td><td>2.0</td><td>2.0</td><td>2.0</td></tr><tr><td>GDP deflator</td><td>1.8</td><td>1.3</td><td>4.5</td><td>7.0</td><td>4.3</td><td>3.0</td><td>2.5</td><td>2.1</td><td>1.9</td><td>1.9</td></tr><tr><td></td><td></td><td></td><td></td><td></td><td></td><td></td><td></td><td></td><td></td><td></td></tr><tr><td>Government Finances</td><td></td><td></td><td></td><td></td><td></td><td></td><td></td><td>-6.2</td><td></td><td>-6.4</td></tr><tr><td>Federal balance (% of GDP) 2/</td><td>-4.7</td><td>-14.9</td><td>-12.3</td><td>-5.5</td><td>-5.6</td><td>-5.7</td><td>-6.4</td><td></td><td>-5.9</td><td>108.3</td></tr><tr><td>Federal debt held by the public (% of GDP)</td><td>79.4</td><td>99.8</td><td>98.4</td><td>97.0</td><td>96.6</td><td>98.4</td><td>101.2</td><td>103.6</td><td>105.8</td><td></td></tr><tr><td>General governmentbudgetbalance(%of GDP)</td><td>-5.7</td><td>-14.0</td><td>-11.6 126.4</td><td>-3.7</td><td>-6.7</td><td>-7.0</td><td>-7.3</td><td>-7.1</td><td>-6.9</td><td>-7.0</td></tr><tr><td>Generalgovernmentgross debt (%of GDP)</td><td>108.7</td><td>133.5</td><td></td><td>121.4</td><td>121.8</td><td>124.6</td><td>127.5</td><td>130.1</td><td>132.5</td><td>134.9</td></tr><tr><td>Interest Rates (percent; period average)</td><td></td><td></td><td></td><td></td><td></td><td></td><td></td><td></td><td></td><td>2.4</td></tr><tr><td>Fed funds rate</td><td>2.2</td><td>0.4</td><td>0.1</td><td>1.7</td><td>5.1</td><td>5.3</td><td>4.2</td><td>3.2</td><td>2.4</td><td></td></tr><tr><td>Three-month Treasury bill rate Ten-year government bond rate</td><td>2.1 2.1</td><td>0.4 0.9</td><td>0.0</td><td>2.1 3.0</td><td>5.2 3.8</td><td>5.3 3.8</td><td>4.2 3.6</td><td>3.2 3.4</td><td>2.4 3.4</td><td>2.4 3.4</td></tr><tr><td>Balance of Payments</td><td></td><td></td><td>1.4</td><td></td><td></td><td></td><td></td><td></td><td></td></table></body></html>\n",
       "\n",
       "Sources: BEA; BLS; FRB; Haver Analytics; and IMF staff estimates. 1/ Contribution to real GDP growth, percentage points. 2/ Includes staff's adjustments for one-off items, including costs of financial sector support.  "
      ],
      "text/plain": [
       "<IPython.core.display.Markdown object>"
      ]
     },
     "metadata": {},
     "output_type": "display_data"
    }
   ],
   "source": [
    "# Get the markdown file path from the processed PDF\n",
    "name_without_suffix = os.path.splitext(os.path.basename(pdf_file_path))[0]\n",
    "md_file_path = os.path.join(output_folder,name_without_suffix, name_without_suffix + '.md')\n",
    "\n",
    "# Read and display markdown content if file exists\n",
    "if os.path.exists(md_file_path):\n",
    "    # Read markdown content\n",
    "    with open(md_file_path, 'r', encoding='utf-8') as f:\n",
    "        md_content = f.read()\n",
    "    # Display markdown content inline using IPython\n",
    "    from IPython.display import display, Markdown\n",
    "    display(Markdown(md_content))\n",
    "else:\n",
    "    print(f\"Markdown file not found at: {md_file_path}\")\n"
   ]
  }
 ],
 "metadata": {
  "kernelspec": {
   "display_name": "llm",
   "language": "python",
   "name": "python3"
  },
  "language_info": {
   "codemirror_mode": {
    "name": "ipython",
    "version": 3
   },
   "file_extension": ".py",
   "mimetype": "text/x-python",
   "name": "python",
   "nbconvert_exporter": "python",
   "pygments_lexer": "ipython3",
   "version": "3.10.16"
  }
 },
 "nbformat": 4,
 "nbformat_minor": 2
}
