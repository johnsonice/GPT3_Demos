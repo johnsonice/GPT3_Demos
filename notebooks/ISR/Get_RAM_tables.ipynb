{
 "cells": [
  {
   "cell_type": "markdown",
   "metadata": {},
   "source": [
    "#### Get Ram Table "
   ]
  },
  {
   "cell_type": "code",
   "execution_count": 86,
   "metadata": {},
   "outputs": [],
   "source": [
    "import os,sys # ,getpass\n",
    "sys.path.insert(0,'../../libs')\n",
    "from utils_pdf import get_target_pagenum,get_table_end,key_reg_match\n",
    "import re\n",
    "from utils import get_all_files\n",
    "import PyPDF2"
   ]
  },
  {
   "cell_type": "code",
   "execution_count": 87,
   "metadata": {},
   "outputs": [],
   "source": [
    "def matching_function(content):\n",
    "    match_key = 'risk assessment matrix'\n",
    "    if key_reg_match(content,search_text=match_key,mode='key'):\n",
    "            pattern = re.compile(r'likelihood|policy response',re.I)\n",
    "            # Search the text for the pattern\n",
    "            res = key_reg_match(content,reg_text = pattern,mode='rgx')\n",
    "            return res \n",
    "    return None"
   ]
  },
  {
   "cell_type": "code",
   "execution_count": 88,
   "metadata": {},
   "outputs": [],
   "source": [
    "#PDF_folder = '/root/workspace/data/DOCs/PDF'\n",
    "PDF_folder = '/root/workspace/data/DOCs/pdf_temp'\n",
    "res_folder = '/root/workspace/data/ISR_Results'\n",
    "all_pdfs = get_all_files(PDF_folder,end_with='.pdf')\n",
    "file_names = [os.path.basename(f) for f in all_pdfs]"
   ]
  },
  {
   "cell_type": "code",
   "execution_count": 90,
   "metadata": {},
   "outputs": [
    {
     "data": {
      "text/plain": [
       "['/root/workspace/data/DOCs/pdf_temp/122_2022_0.pdf',\n",
       " '/root/workspace/data/DOCs/pdf_temp/124_2022_0.pdf',\n",
       " '/root/workspace/data/DOCs/pdf_temp/132_2022_0.pdf',\n",
       " '/root/workspace/data/DOCs/pdf_temp/135_2022_0.pdf',\n",
       " '/root/workspace/data/DOCs/pdf_temp/137_2023_0.pdf']"
      ]
     },
     "execution_count": 90,
     "metadata": {},
     "output_type": "execute_result"
    }
   ],
   "source": [
    "all_pdfs[:5]"
   ]
  },
  {
   "cell_type": "code",
   "execution_count": 91,
   "metadata": {},
   "outputs": [],
   "source": [
    "results = []\n",
    "for file_path in all_pdfs:\n",
    "    pgn = get_target_pagenum(file_path,match_func=matching_function,return_mode='first')\n",
    "    end_pgn = get_table_end(file_path,pgn,check_page_n=2)\n",
    "    if not end_pgn:\n",
    "        end_pgn = pgn\n",
    "    results.append((file_path,pgn,end_pgn))\n",
    "#print(results)\n"
   ]
  },
  {
   "cell_type": "code",
   "execution_count": 93,
   "metadata": {},
   "outputs": [
    {
     "data": {
      "text/html": [
       "<div>\n",
       "<style scoped>\n",
       "    .dataframe tbody tr th:only-of-type {\n",
       "        vertical-align: middle;\n",
       "    }\n",
       "\n",
       "    .dataframe tbody tr th {\n",
       "        vertical-align: top;\n",
       "    }\n",
       "\n",
       "    .dataframe thead th {\n",
       "        text-align: right;\n",
       "    }\n",
       "</style>\n",
       "<table border=\"1\" class=\"dataframe\">\n",
       "  <thead>\n",
       "    <tr style=\"text-align: right;\">\n",
       "      <th></th>\n",
       "      <th>0</th>\n",
       "      <th>1</th>\n",
       "      <th>2</th>\n",
       "    </tr>\n",
       "  </thead>\n",
       "  <tbody>\n",
       "    <tr>\n",
       "      <th>0</th>\n",
       "      <td>/root/workspace/data/DOCs/pdf_temp/122_2022_0.pdf</td>\n",
       "      <td>46</td>\n",
       "      <td>47</td>\n",
       "    </tr>\n",
       "    <tr>\n",
       "      <th>1</th>\n",
       "      <td>/root/workspace/data/DOCs/pdf_temp/124_2022_0.pdf</td>\n",
       "      <td>35</td>\n",
       "      <td>36</td>\n",
       "    </tr>\n",
       "    <tr>\n",
       "      <th>2</th>\n",
       "      <td>/root/workspace/data/DOCs/pdf_temp/132_2022_0.pdf</td>\n",
       "      <td>50</td>\n",
       "      <td>50</td>\n",
       "    </tr>\n",
       "    <tr>\n",
       "      <th>3</th>\n",
       "      <td>/root/workspace/data/DOCs/pdf_temp/135_2022_0.pdf</td>\n",
       "      <td>34</td>\n",
       "      <td>34</td>\n",
       "    </tr>\n",
       "    <tr>\n",
       "      <th>4</th>\n",
       "      <td>/root/workspace/data/DOCs/pdf_temp/137_2023_0.pdf</td>\n",
       "      <td>45</td>\n",
       "      <td>45</td>\n",
       "    </tr>\n",
       "  </tbody>\n",
       "</table>\n",
       "</div>"
      ],
      "text/plain": [
       "                                                   0   1   2\n",
       "0  /root/workspace/data/DOCs/pdf_temp/122_2022_0.pdf  46  47\n",
       "1  /root/workspace/data/DOCs/pdf_temp/124_2022_0.pdf  35  36\n",
       "2  /root/workspace/data/DOCs/pdf_temp/132_2022_0.pdf  50  50\n",
       "3  /root/workspace/data/DOCs/pdf_temp/135_2022_0.pdf  34  34\n",
       "4  /root/workspace/data/DOCs/pdf_temp/137_2023_0.pdf  45  45"
      ]
     },
     "execution_count": 93,
     "metadata": {},
     "output_type": "execute_result"
    }
   ],
   "source": [
    "pd.DataFrame(results).head()"
   ]
  },
  {
   "cell_type": "code",
   "execution_count": 94,
   "metadata": {},
   "outputs": [
    {
     "name": "stdout",
     "output_type": "stream",
     "text": [
      "/root/workspace/data/DOCs/pdf_temp/122_2022_0.pdf 46 47\n",
      "/root/workspace/data/DOCs/pdf_temp/124_2022_0.pdf 35 36\n",
      "/root/workspace/data/DOCs/pdf_temp/132_2022_0.pdf 50 50\n",
      "/root/workspace/data/DOCs/pdf_temp/135_2022_0.pdf 34 34\n",
      "/root/workspace/data/DOCs/pdf_temp/137_2023_0.pdf 45 45\n",
      "/root/workspace/data/DOCs/pdf_temp/138_2022_0.pdf 44 45\n",
      "/root/workspace/data/DOCs/pdf_temp/138_2022_1.pdf 37 38\n",
      "/root/workspace/data/DOCs/pdf_temp/142_2022_0.pdf 32 33\n",
      "/root/workspace/data/DOCs/pdf_temp/144_2023_0.pdf 36 36\n",
      "/root/workspace/data/DOCs/pdf_temp/146_2023_0.pdf 46 46\n",
      "/root/workspace/data/DOCs/pdf_temp/156_2022_0.pdf 16 16\n",
      "/root/workspace/data/DOCs/pdf_temp/158_2023_0.pdf 51 51\n",
      "/root/workspace/data/DOCs/pdf_temp/172_2022_0.pdf 37 38\n",
      "/root/workspace/data/DOCs/pdf_temp/181_2022_0.pdf 43 43\n",
      "/root/workspace/data/DOCs/pdf_temp/184_2022_0.pdf 48 49\n",
      "/root/workspace/data/DOCs/pdf_temp/186_2022_0.pdf 69 69\n",
      "/root/workspace/data/DOCs/pdf_temp/193_2022_0.pdf 58 58\n",
      "/root/workspace/data/DOCs/pdf_temp/199_2023_0.pdf 79 79\n",
      "/root/workspace/data/DOCs/pdf_temp/218_2022_0.pdf 36 36\n",
      "/root/workspace/data/DOCs/pdf_temp/228_2022_0.pdf 40 40\n",
      "/root/workspace/data/DOCs/pdf_temp/233_2023_0.pdf 46 46\n",
      "/root/workspace/data/DOCs/pdf_temp/253_2023_0.pdf 52 52\n",
      "/root/workspace/data/DOCs/pdf_temp/253_2023_1.pdf 52 52\n",
      "/root/workspace/data/DOCs/pdf_temp/258_2023_0.pdf 43 43\n",
      "/root/workspace/data/DOCs/pdf_temp/273_2022_0.pdf 55 56\n",
      "/root/workspace/data/DOCs/pdf_temp/278_2022_0.pdf 52 52\n",
      "/root/workspace/data/DOCs/pdf_temp/283_2022_0.pdf 52 52\n",
      "/root/workspace/data/DOCs/pdf_temp/293_2023_0.pdf 13 13\n",
      "/root/workspace/data/DOCs/pdf_temp/298_2023_0.pdf 45 45\n",
      "/root/workspace/data/DOCs/pdf_temp/311_2022_0.pdf 38 39\n",
      "/root/workspace/data/DOCs/pdf_temp/339_2023_0.pdf 48 48\n",
      "/root/workspace/data/DOCs/pdf_temp/343_2022_0.pdf 35 35\n",
      "/root/workspace/data/DOCs/pdf_temp/361_2023_0.pdf 36 36\n",
      "/root/workspace/data/DOCs/pdf_temp/364_2022_0.pdf 53 54\n",
      "/root/workspace/data/DOCs/pdf_temp/369_2023_0.pdf 58 58\n",
      "/root/workspace/data/DOCs/pdf_temp/423_2023_0.pdf 48 49\n",
      "/root/workspace/data/DOCs/pdf_temp/433_2022_0.pdf 48 48\n",
      "/root/workspace/data/DOCs/pdf_temp/449_2022_0.pdf 54 54\n",
      "/root/workspace/data/DOCs/pdf_temp/466_2022_0.pdf 56 57\n",
      "/root/workspace/data/DOCs/pdf_temp/522_2022_0.pdf 39 39\n",
      "/root/workspace/data/DOCs/pdf_temp/532_2023_0.pdf 45 45\n",
      "/root/workspace/data/DOCs/pdf_temp/534_2022_0.pdf 4 4\n",
      "/root/workspace/data/DOCs/pdf_temp/536_2023_0.pdf 61 61\n",
      "/root/workspace/data/DOCs/pdf_temp/544_2023_0.pdf 43 43\n",
      "/root/workspace/data/DOCs/pdf_temp/548_2023_0.pdf 61 62\n",
      "/root/workspace/data/DOCs/pdf_temp/556_2022_0.pdf 44 45\n",
      "/root/workspace/data/DOCs/pdf_temp/558_2023_0.pdf 57 58\n",
      "/root/workspace/data/DOCs/pdf_temp/566_2022_0.pdf 47 47\n",
      "/root/workspace/data/DOCs/pdf_temp/578_2022_0.pdf 39 39\n",
      "/root/workspace/data/DOCs/pdf_temp/611_2022_0.pdf 32 32\n",
      "/root/workspace/data/DOCs/pdf_temp/612_2022_0.pdf 38 38\n",
      "/root/workspace/data/DOCs/pdf_temp/614_2022_0.pdf 42 42\n",
      "/root/workspace/data/DOCs/pdf_temp/656_2022_0.pdf 50 50\n",
      "/root/workspace/data/DOCs/pdf_temp/672_2022_0.pdf 45 45\n",
      "/root/workspace/data/DOCs/pdf_temp/672_2023_0.pdf 29 29\n",
      "/root/workspace/data/DOCs/pdf_temp/674_2022_0.pdf 53 54\n",
      "/root/workspace/data/DOCs/pdf_temp/678_2023_0.pdf 56 56\n",
      "/root/workspace/data/DOCs/pdf_temp/682_2022_0.pdf 52 52\n",
      "/root/workspace/data/DOCs/pdf_temp/686_2022_0.pdf 37 38\n",
      "/root/workspace/data/DOCs/pdf_temp/692_2022_0.pdf 49 49\n",
      "/root/workspace/data/DOCs/pdf_temp/694_2022_0.pdf 41 42\n",
      "/root/workspace/data/DOCs/pdf_temp/698_2023_0.pdf 57 57\n",
      "/root/workspace/data/DOCs/pdf_temp/726_2022_0.pdf 61 61\n",
      "/root/workspace/data/DOCs/pdf_temp/728_2022_0.pdf 32 33\n",
      "/root/workspace/data/DOCs/pdf_temp/734_2023_0.pdf 33 33\n",
      "/root/workspace/data/DOCs/pdf_temp/738_2023_0.pdf 65 66\n",
      "/root/workspace/data/DOCs/pdf_temp/813_2023_0.pdf 33 33\n",
      "/root/workspace/data/DOCs/pdf_temp/826_2023_0.pdf 31 31\n",
      "/root/workspace/data/DOCs/pdf_temp/846_2023_0.pdf 42 42\n",
      "/root/workspace/data/DOCs/pdf_temp/862_2023_0.pdf 59 59\n",
      "/root/workspace/data/DOCs/pdf_temp/914_2022_0.pdf 5 5\n",
      "/root/workspace/data/DOCs/pdf_temp/916_2022_0.pdf 39 40\n",
      "/root/workspace/data/DOCs/pdf_temp/917_2022_0.pdf 31 31\n",
      "/root/workspace/data/DOCs/pdf_temp/923_2022_0.pdf 36 36\n",
      "/root/workspace/data/DOCs/pdf_temp/924_2022_0.pdf 53 53\n",
      "/root/workspace/data/DOCs/pdf_temp/935_2022_0.pdf 46 47\n",
      "/root/workspace/data/DOCs/pdf_temp/944_2022_0.pdf 46 47\n",
      "/root/workspace/data/DOCs/pdf_temp/948_2022_0.pdf 68 68\n",
      "/root/workspace/data/DOCs/pdf_temp/961_2022_0.pdf 41 42\n",
      "/root/workspace/data/DOCs/pdf_temp/964_2023_0.pdf 70 70\n",
      "/root/workspace/data/DOCs/pdf_temp/967_2022_0.pdf 34 34\n"
     ]
    }
   ],
   "source": [
    "pdfWriter = PyPDF2.PdfWriter()\n",
    "#res_folder = '/root/workspace/data/ISR_Results'\n",
    "for filename,start_pgn,end_pgn in results:\n",
    "    print(filename,start_pgn,end_pgn)\n",
    "    if start_pgn and end_pgn:\n",
    "        with open(filename,'rb') as pdfFileObj:\n",
    "            pdfReader = PyPDF2.PdfReader(pdfFileObj)\n",
    "            for extract_pagenum in range(start_pgn,end_pgn+1):\n",
    "                pageObj = pdfReader.pages[extract_pagenum]\n",
    "                pdfWriter.add_page(pageObj)\n",
    "out_name = os.path.join(res_folder,'RAM_tables_large.pdf')\n",
    "pdfOutput = open(out_name, 'wb')\n",
    "pdfWriter.write(pdfOutput)\n",
    "pdfOutput.close()"
   ]
  },
  {
   "cell_type": "code",
   "execution_count": 21,
   "metadata": {},
   "outputs": [
    {
     "name": "stderr",
     "output_type": "stream",
     "text": [
      "/tmp/ipykernel_14543/4293802776.py:2: DeprecationWarning: Importing display from IPython.core.display is deprecated since IPython 7.14, please import from IPython display\n",
      "  from IPython.core.display import display, HTML\n"
     ]
    }
   ],
   "source": [
    "from llmsherpa.readers import LayoutPDFReader\n",
    "from IPython.core.display import display, HTML"
   ]
  },
  {
   "cell_type": "code",
   "execution_count": 22,
   "metadata": {},
   "outputs": [],
   "source": [
    "llmsherpa_api_url = \"https://readers.llmsherpa.com/api/document/developer/parseDocument?renderFormat=all\"\n",
    "pdf_url = out_name # also allowed is a file path e.g. /home/downloads/xyz.pdf\n",
    "pdf_reader = LayoutPDFReader(llmsherpa_api_url)\n",
    "doc = pdf_reader.read_pdf(pdf_url)"
   ]
  },
  {
   "cell_type": "code",
   "execution_count": 30,
   "metadata": {},
   "outputs": [],
   "source": [
    "x  = doc.tables()[0]"
   ]
  },
  {
   "cell_type": "code",
   "execution_count": 31,
   "metadata": {},
   "outputs": [
    {
     "data": {
      "text/plain": [
       "{'block_class': 'cls_4',\n",
       " 'block_idx': 20,\n",
       " 'left': 324.6,\n",
       " 'level': 5,\n",
       " 'name': 'De-anchoring of inflation expectations and stagflation.',\n",
       " 'page_idx': 0,\n",
       " 'table_rows': [{'block_idx': 20,\n",
       "   'cells': [{'cell_value': '', 'col_span': 1},\n",
       "    {'cell_value': 'Near-universal automatic wage (and benefit) indexation may quickly translate de-anchored inflation expectations into wages and prices. International competitiveness would suffer, weakening the external balance and potential output. Tightening by central banks may lead to financing pressures, given elevated debt and deficit levels.',\n",
       "     'col_span': 3},\n",
       "    {'cell_value': 'With monetary policy levers out of the direct control of the Belgian authorities, breaking the harmful effects of a wage- price spiral would require prompt response through discretionary fiscal tightening, possibly exceptional and temporary pause to the indexation mechanism, in addition to multiannual real wage restraint, and modifications to the indexation mechanism over the medium term.',\n",
       "     'col_span': 1}],\n",
       "   'type': 'table_header'},\n",
       "  {'block_idx': 21,\n",
       "   'cell_value': 'Structural Risks',\n",
       "   'col_span': 5,\n",
       "   'type': 'full_row'},\n",
       "  {'block_idx': 22,\n",
       "   'cells': [{'cell_value': 'Deepening geo-economic fragmentation and geopolitical tensions. Broadening of conflicts and reduced international cooperation accelerate deglobalization, resulting in a reconfiguration of trade, supply disruptions, technological and'},\n",
       "    {'cell_value': 'High'},\n",
       "    {'cell_value': 'MT'},\n",
       "    {'cell_value': 'Medium Belgium is vulnerable to deglobalization due to strong cross-border real and financial linkages and the presence of multi-national corporations and large financial/payment services'},\n",
       "    {'cell_value': 'Strengthen international competitiveness and accelerate diversification of export markets by advancing labor and product market reforms. Continue to enhance financial sector resilience by keeping an eye on'}],\n",
       "   'type': 'table_header'}],\n",
       " 'tag': 'table',\n",
       " 'top': 391.92}"
      ]
     },
     "execution_count": 31,
     "metadata": {},
     "output_type": "execute_result"
    }
   ],
   "source": [
    "x.block_json"
   ]
  },
  {
   "cell_type": "code",
   "execution_count": 32,
   "metadata": {},
   "outputs": [],
   "source": [
    "import tabula"
   ]
  },
  {
   "cell_type": "code",
   "execution_count": 34,
   "metadata": {},
   "outputs": [],
   "source": [
    "dfs = tabula.read_pdf(pdf_url, pages='all')"
   ]
  },
  {
   "cell_type": "code",
   "execution_count": 44,
   "metadata": {},
   "outputs": [
    {
     "data": {
      "text/html": [
       "<div>\n",
       "<style scoped>\n",
       "    .dataframe tbody tr th:only-of-type {\n",
       "        vertical-align: middle;\n",
       "    }\n",
       "\n",
       "    .dataframe tbody tr th {\n",
       "        vertical-align: top;\n",
       "    }\n",
       "\n",
       "    .dataframe thead th {\n",
       "        text-align: right;\n",
       "    }\n",
       "</style>\n",
       "<table border=\"1\" class=\"dataframe\">\n",
       "  <thead>\n",
       "    <tr style=\"text-align: right;\">\n",
       "      <th></th>\n",
       "      <th>Source of risks</th>\n",
       "      <th>Likelihood</th>\n",
       "      <th>Expected impact if realized</th>\n",
       "      <th>Possible policy response</th>\n",
       "    </tr>\n",
       "  </thead>\n",
       "  <tbody>\n",
       "    <tr>\n",
       "      <th>0</th>\n",
       "      <td>NaN</td>\n",
       "      <td>NaN</td>\n",
       "      <td>Conjunctural Risks</td>\n",
       "      <td>NaN</td>\n",
       "    </tr>\n",
       "    <tr>\n",
       "      <th>1</th>\n",
       "      <td>Intensification of regional</td>\n",
       "      <td>High</td>\n",
       "      <td>High</td>\n",
       "      <td>• Provide targeted fuel and</td>\n",
       "    </tr>\n",
       "    <tr>\n",
       "      <th>2</th>\n",
       "      <td>conflict(s). Escalation of</td>\n",
       "      <td>NaN</td>\n",
       "      <td>• Higher import bills on</td>\n",
       "      <td>food subsidies to the poor</td>\n",
       "    </tr>\n",
       "    <tr>\n",
       "      <th>3</th>\n",
       "      <td>Russia’s war in Ukraine or other</td>\n",
       "      <td>NaN</td>\n",
       "      <td>commodities will worsen</td>\n",
       "      <td>and vulnerable groups.</td>\n",
       "    </tr>\n",
       "    <tr>\n",
       "      <th>4</th>\n",
       "      <td>regional conflicts and resulting</td>\n",
       "      <td>NaN</td>\n",
       "      <td>external position, push up</td>\n",
       "      <td>• Enhance tourism promotion</td>\n",
       "    </tr>\n",
       "    <tr>\n",
       "      <th>5</th>\n",
       "      <td>economic sanctions disrupt</td>\n",
       "      <td>NaN</td>\n",
       "      <td>domestic prices and</td>\n",
       "      <td>in alternative markets,</td>\n",
       "    </tr>\n",
       "    <tr>\n",
       "      <th>6</th>\n",
       "      <td>trade (e.g., energy, food,</td>\n",
       "      <td>NaN</td>\n",
       "      <td>dampen economic activity.</td>\n",
       "      <td>including within the regional</td>\n",
       "    </tr>\n",
       "    <tr>\n",
       "      <th>7</th>\n",
       "      <td>tourism, and/or critical supply</td>\n",
       "      <td>NaN</td>\n",
       "      <td>• Disrupted tourist flows and</td>\n",
       "      <td>markets.</td>\n",
       "    </tr>\n",
       "    <tr>\n",
       "      <th>8</th>\n",
       "      <td>chain components),</td>\n",
       "      <td>NaN</td>\n",
       "      <td>decline in tourists from</td>\n",
       "      <td>NaN</td>\n",
       "    </tr>\n",
       "    <tr>\n",
       "      <th>9</th>\n",
       "      <td>remittances, refugee flows, FDI</td>\n",
       "      <td>NaN</td>\n",
       "      <td>long-haul destinations.</td>\n",
       "      <td>NaN</td>\n",
       "    </tr>\n",
       "    <tr>\n",
       "      <th>10</th>\n",
       "      <td>and financial flows, and</td>\n",
       "      <td>NaN</td>\n",
       "      <td>NaN</td>\n",
       "      <td>NaN</td>\n",
       "    </tr>\n",
       "    <tr>\n",
       "      <th>11</th>\n",
       "      <td>payment systems.</td>\n",
       "      <td>NaN</td>\n",
       "      <td>NaN</td>\n",
       "      <td>NaN</td>\n",
       "    </tr>\n",
       "    <tr>\n",
       "      <th>12</th>\n",
       "      <td>Commodity price volatility. A</td>\n",
       "      <td>Medium</td>\n",
       "      <td>High</td>\n",
       "      <td>• Ramp up domestic</td>\n",
       "    </tr>\n",
       "    <tr>\n",
       "      <th>13</th>\n",
       "      <td>succession of supply</td>\n",
       "      <td>NaN</td>\n",
       "      <td>• Higher food and energy</td>\n",
       "      <td>production of some</td>\n",
       "    </tr>\n",
       "    <tr>\n",
       "      <th>14</th>\n",
       "      <td>disruptions (e.g., due to</td>\n",
       "      <td>NaN</td>\n",
       "      <td>prices will hurt domestic</td>\n",
       "      <td>imported commodities,</td>\n",
       "    </tr>\n",
       "    <tr>\n",
       "      <th>15</th>\n",
       "      <td>conflicts and export</td>\n",
       "      <td>NaN</td>\n",
       "      <td>economic activity and</td>\n",
       "      <td>including cooking oil, and</td>\n",
       "    </tr>\n",
       "    <tr>\n",
       "      <th>16</th>\n",
       "      <td>restrictions) and demand</td>\n",
       "      <td>NaN</td>\n",
       "      <td>corporate profits.</td>\n",
       "      <td>wheat.</td>\n",
       "    </tr>\n",
       "    <tr>\n",
       "      <th>17</th>\n",
       "      <td>fluctuations (e.g., reflecting</td>\n",
       "      <td>NaN</td>\n",
       "      <td>• Rising prices would erode</td>\n",
       "      <td>• Provide targeted fiscal</td>\n",
       "    </tr>\n",
       "    <tr>\n",
       "      <th>18</th>\n",
       "      <td>China reopening) causes</td>\n",
       "      <td>NaN</td>\n",
       "      <td>household’s purchasing</td>\n",
       "      <td>support as needed and</td>\n",
       "    </tr>\n",
       "    <tr>\n",
       "      <th>19</th>\n",
       "      <td>recurrent commodity price</td>\n",
       "      <td>NaN</td>\n",
       "      <td>power and increase poverty</td>\n",
       "      <td>avoid policies that could</td>\n",
       "    </tr>\n",
       "    <tr>\n",
       "      <th>20</th>\n",
       "      <td>volatility, external and fiscal</td>\n",
       "      <td>NaN</td>\n",
       "      <td>levels.</td>\n",
       "      <td>distort market incentives.</td>\n",
       "    </tr>\n",
       "    <tr>\n",
       "      <th>21</th>\n",
       "      <td>pressures, and social and</td>\n",
       "      <td>NaN</td>\n",
       "      <td>NaN</td>\n",
       "      <td>• Tighten monetary policy if</td>\n",
       "    </tr>\n",
       "    <tr>\n",
       "      <th>22</th>\n",
       "      <td>economic instability.</td>\n",
       "      <td>NaN</td>\n",
       "      <td>NaN</td>\n",
       "      <td>needed to combat inflation.</td>\n",
       "    </tr>\n",
       "    <tr>\n",
       "      <th>23</th>\n",
       "      <td>Abrupt global slowdown or</td>\n",
       "      <td>Medium</td>\n",
       "      <td>Medium</td>\n",
       "      <td>• Improve business</td>\n",
       "    </tr>\n",
       "    <tr>\n",
       "      <th>24</th>\n",
       "      <td>recession. Global and</td>\n",
       "      <td>NaN</td>\n",
       "      <td>• Lower trade and fewer</td>\n",
       "      <td>environment and</td>\n",
       "    </tr>\n",
       "    <tr>\n",
       "      <th>25</th>\n",
       "      <td>idiosyncratic risk factors</td>\n",
       "      <td>NaN</td>\n",
       "      <td>investment inflows.</td>\n",
       "      <td>competitiveness to attract</td>\n",
       "    </tr>\n",
       "    <tr>\n",
       "      <th>26</th>\n",
       "      <td>combine to cause a</td>\n",
       "      <td>NaN</td>\n",
       "      <td>NaN</td>\n",
       "      <td>more foreign investment.</td>\n",
       "    </tr>\n",
       "    <tr>\n",
       "      <th>27</th>\n",
       "      <td>synchronized sharp growth</td>\n",
       "      <td>NaN</td>\n",
       "      <td>NaN</td>\n",
       "      <td>• Boost regional and</td>\n",
       "    </tr>\n",
       "    <tr>\n",
       "      <th>28</th>\n",
       "      <td>slowdown, with outright</td>\n",
       "      <td>NaN</td>\n",
       "      <td>NaN</td>\n",
       "      <td>international trade.</td>\n",
       "    </tr>\n",
       "    <tr>\n",
       "      <th>29</th>\n",
       "      <td>recessions in some countries,</td>\n",
       "      <td>NaN</td>\n",
       "      <td>NaN</td>\n",
       "      <td>NaN</td>\n",
       "    </tr>\n",
       "    <tr>\n",
       "      <th>30</th>\n",
       "      <td>spillovers through trade and</td>\n",
       "      <td>NaN</td>\n",
       "      <td>NaN</td>\n",
       "      <td>NaN</td>\n",
       "    </tr>\n",
       "    <tr>\n",
       "      <th>31</th>\n",
       "      <td>financial channels, and</td>\n",
       "      <td>NaN</td>\n",
       "      <td>NaN</td>\n",
       "      <td>NaN</td>\n",
       "    </tr>\n",
       "    <tr>\n",
       "      <th>32</th>\n",
       "      <td>downward pressures on some</td>\n",
       "      <td>NaN</td>\n",
       "      <td>NaN</td>\n",
       "      <td>NaN</td>\n",
       "    </tr>\n",
       "    <tr>\n",
       "      <th>33</th>\n",
       "      <td>commodity prices.</td>\n",
       "      <td>NaN</td>\n",
       "      <td>NaN</td>\n",
       "      <td>NaN</td>\n",
       "    </tr>\n",
       "  </tbody>\n",
       "</table>\n",
       "</div>"
      ],
      "text/plain": [
       "                     Source of risks Likelihood  \\\n",
       "0                                NaN        NaN   \n",
       "1        Intensification of regional       High   \n",
       "2         conflict(s). Escalation of        NaN   \n",
       "3   Russia’s war in Ukraine or other        NaN   \n",
       "4   regional conflicts and resulting        NaN   \n",
       "5         economic sanctions disrupt        NaN   \n",
       "6         trade (e.g., energy, food,        NaN   \n",
       "7    tourism, and/or critical supply        NaN   \n",
       "8                 chain components),        NaN   \n",
       "9    remittances, refugee flows, FDI        NaN   \n",
       "10          and financial flows, and        NaN   \n",
       "11                  payment systems.        NaN   \n",
       "12     Commodity price volatility. A     Medium   \n",
       "13              succession of supply        NaN   \n",
       "14         disruptions (e.g., due to        NaN   \n",
       "15              conflicts and export        NaN   \n",
       "16          restrictions) and demand        NaN   \n",
       "17    fluctuations (e.g., reflecting        NaN   \n",
       "18           China reopening) causes        NaN   \n",
       "19         recurrent commodity price        NaN   \n",
       "20   volatility, external and fiscal        NaN   \n",
       "21         pressures, and social and        NaN   \n",
       "22             economic instability.        NaN   \n",
       "23         Abrupt global slowdown or     Medium   \n",
       "24             recession. Global and        NaN   \n",
       "25        idiosyncratic risk factors        NaN   \n",
       "26                combine to cause a        NaN   \n",
       "27         synchronized sharp growth        NaN   \n",
       "28           slowdown, with outright        NaN   \n",
       "29     recessions in some countries,        NaN   \n",
       "30      spillovers through trade and        NaN   \n",
       "31           financial channels, and        NaN   \n",
       "32        downward pressures on some        NaN   \n",
       "33                 commodity prices.        NaN   \n",
       "\n",
       "      Expected impact if realized       Possible policy response  \n",
       "0              Conjunctural Risks                            NaN  \n",
       "1                            High    • Provide targeted fuel and  \n",
       "2        • Higher import bills on     food subsidies to the poor  \n",
       "3         commodities will worsen         and vulnerable groups.  \n",
       "4      external position, push up    • Enhance tourism promotion  \n",
       "5             domestic prices and        in alternative markets,  \n",
       "6       dampen economic activity.  including within the regional  \n",
       "7   • Disrupted tourist flows and                       markets.  \n",
       "8        decline in tourists from                            NaN  \n",
       "9         long-haul destinations.                            NaN  \n",
       "10                            NaN                            NaN  \n",
       "11                            NaN                            NaN  \n",
       "12                           High             • Ramp up domestic  \n",
       "13       • Higher food and energy             production of some  \n",
       "14      prices will hurt domestic          imported commodities,  \n",
       "15          economic activity and     including cooking oil, and  \n",
       "16             corporate profits.                         wheat.  \n",
       "17    • Rising prices would erode      • Provide targeted fiscal  \n",
       "18         household’s purchasing          support as needed and  \n",
       "19     power and increase poverty      avoid policies that could  \n",
       "20                        levels.     distort market incentives.  \n",
       "21                            NaN   • Tighten monetary policy if  \n",
       "22                            NaN    needed to combat inflation.  \n",
       "23                         Medium             • Improve business  \n",
       "24        • Lower trade and fewer                environment and  \n",
       "25            investment inflows.     competitiveness to attract  \n",
       "26                            NaN       more foreign investment.  \n",
       "27                            NaN           • Boost regional and  \n",
       "28                            NaN           international trade.  \n",
       "29                            NaN                            NaN  \n",
       "30                            NaN                            NaN  \n",
       "31                            NaN                            NaN  \n",
       "32                            NaN                            NaN  \n",
       "33                            NaN                            NaN  "
      ]
     },
     "execution_count": 44,
     "metadata": {},
     "output_type": "execute_result"
    }
   ],
   "source": [
    "dfs[9]"
   ]
  },
  {
   "cell_type": "code",
   "execution_count": 47,
   "metadata": {},
   "outputs": [],
   "source": [
    "from docx import Document\n",
    "import pandas as pd"
   ]
  },
  {
   "cell_type": "code",
   "execution_count": 48,
   "metadata": {},
   "outputs": [],
   "source": [
    "# Load the document\n",
    "doc_path = out_name = os.path.join(res_folder,'RAM_tables.docx')\n",
    "doc = Document(doc_path)"
   ]
  },
  {
   "cell_type": "code",
   "execution_count": 52,
   "metadata": {},
   "outputs": [],
   "source": [
    "t = doc.tables[0]"
   ]
  },
  {
   "cell_type": "code",
   "execution_count": 66,
   "metadata": {},
   "outputs": [
    {
     "data": {
      "text/plain": [
       "_TableStyle('Table Normal') id: 139912926172304"
      ]
     },
     "execution_count": 66,
     "metadata": {},
     "output_type": "execute_result"
    }
   ],
   "source": [
    "t.table"
   ]
  },
  {
   "cell_type": "code",
   "execution_count": 59,
   "metadata": {},
   "outputs": [],
   "source": [
    "table_data = []\n",
    "for row in t.rows:\n",
    "    row_data = [cell.text for cell in row.cells]\n",
    "    table_data.append(row_data)"
   ]
  },
  {
   "cell_type": "code",
   "execution_count": 60,
   "metadata": {},
   "outputs": [
    {
     "data": {
      "text/plain": [
       "[['\\nSource of Risks',\n",
       "  'Relative Likelihood',\n",
       "  'Time Horizon',\n",
       "  '\\nExpected Impact',\n",
       "  '\\nPolicy Response'],\n",
       " ['Global Risks',\n",
       "  'Global Risks',\n",
       "  'Global Risks',\n",
       "  'Global Risks',\n",
       "  'Global Risks'],\n",
       " ['Conjunctural Risks',\n",
       "  'Conjunctural Risks',\n",
       "  'Conjunctural Risks',\n",
       "  'Conjunctural Risks',\n",
       "  'Conjunctural Risks'],\n",
       " ['Abrupt global slowdown or recession. Global and idiosyncratic risk factors combine to cause a synchronized sharp growth slowdown, with outright recessions in some countries, spillovers through trade and financial channels, and downward pressures on some commodity prices.\\nEurope: the fallout from the war in Ukraine is exacerbated by a gas shutoff by Russia, resulting in acute gas shortages and further supply disruptions, which triggers an EU recession.',\n",
       "  'Medium\\n\\n\\n\\n\\n\\n\\nHigh',\n",
       "  'ST, MT',\n",
       "  'High\\nEnergy dependence on Russia and direct trade and financial links with Belarus, Russia, and Ukraine are relatively limited. However, indirect links and spillovers are important; depressed activity in key trading partners (e.g., Germany) is likely with disruption of energy supplies from Russia. Falling commodity prices may alleviate inflationary pressures.',\n",
       "  '\\nWith fiscal space highly constrained and with elevated inflation, fiscal stimulus should be avoided, particularly in a fragile financial market environment. Automatic stabilizers should be left to operate but be offset to prevent increases in the overall deficit. More active support, if needed to cushion the impact of a global slowdown on the most vulnerable groups, should be well-targeted, limited in scope to preserve fiscal room for maneuver in future crises, allow for efficient resource\\nreallocation, and be offset in other areas.'],\n",
       " ['De-anchoring of inflation expectations and stagflation. Supply shocks to food and energy prices sharply increase headline inflation and pass through to core inflation, de-anchoring inflation expectations and triggering a wage- price spiral in tight labor markets. Central banks tighten monetary policy more than envisaged leading to weaker global demand, currency depreciations in EMDEs, and sovereign defaults. Together, this could lead to the onset of stagflation.',\n",
       "  'Medium',\n",
       "  'ST, MT',\n",
       "  'High\\nNear-universal automatic wage (and benefit) indexation may quickly translate de-anchored inflation expectations into wages and prices.\\nInternational competitiveness would suffer, weakening the external balance and potential output. Tightening by central banks may lead to financing pressures, given elevated debt and deficit\\nlevels.',\n",
       "  '\\nWith monetary policy levers out of the direct control of the Belgian authorities, breaking the harmful effects of a wage- price spiral would require prompt response through discretionary fiscal tightening, possibly exceptional and temporary pause to the indexation mechanism, in addition to multiannual real wage restraint, and modifications to the indexation mechanism over the medium\\nterm.'],\n",
       " ['Structural Risks',\n",
       "  'Structural Risks',\n",
       "  'Structural Risks',\n",
       "  'Structural Risks',\n",
       "  'Structural Risks'],\n",
       " ['Deepening geo-economic fragmentation and geopolitical tensions. Broadening of conflicts and reduced international cooperation accelerate deglobalization, resulting in a reconfiguration of trade, supply\\ndisruptions, technological and',\n",
       "  'High',\n",
       "  'MT',\n",
       "  'Medium Belgium is vulnerable to deglobalization due to\\nstrong cross-border real and financial linkages and the presence of multi-national corporations and large\\nfinancial/payment services',\n",
       "  '\\nStrengthen international competitiveness and accelerate diversification of export markets by advancing labor and product market reforms. Continue to enhance financial sector\\nresilience by keeping an eye on']]"
      ]
     },
     "execution_count": 60,
     "metadata": {},
     "output_type": "execute_result"
    }
   ],
   "source": [
    "table_data"
   ]
  },
  {
   "cell_type": "code",
   "execution_count": 49,
   "metadata": {},
   "outputs": [
    {
     "data": {
      "text/plain": [
       "(8,\n",
       "                                                    0  \\\n",
       " 0                                  \\nSource of Risks   \n",
       " 1                                       Global Risks   \n",
       " 2                                 Conjunctural Risks   \n",
       " 3  Abrupt global slowdown or recession. Global an...   \n",
       " 4  De-anchoring of inflation expectations and sta...   \n",
       " \n",
       "                           1                   2  \\\n",
       " 0       Relative Likelihood        Time Horizon   \n",
       " 1              Global Risks        Global Risks   \n",
       " 2        Conjunctural Risks  Conjunctural Risks   \n",
       " 3  Medium\\n\\n\\n\\n\\n\\n\\nHigh              ST, MT   \n",
       " 4                    Medium              ST, MT   \n",
       " \n",
       "                                                    3  \\\n",
       " 0                                  \\nExpected Impact   \n",
       " 1                                       Global Risks   \n",
       " 2                                 Conjunctural Risks   \n",
       " 3  High\\nEnergy dependence on Russia and direct t...   \n",
       " 4  High\\nNear-universal automatic wage (and benef...   \n",
       " \n",
       "                                                    4  \n",
       " 0                                  \\nPolicy Response  \n",
       " 1                                       Global Risks  \n",
       " 2                                 Conjunctural Risks  \n",
       " 3  \\nWith fiscal space highly constrained and wit...  \n",
       " 4  \\nWith monetary policy levers out of the direc...  )"
      ]
     },
     "execution_count": 49,
     "metadata": {},
     "output_type": "execute_result"
    }
   ],
   "source": [
    "# Initialize a list to store the tables\n",
    "tables_list = []\n",
    "\n",
    "# Extracting tables from the document\n",
    "for table in doc.tables:\n",
    "    # Initialize a list to store each row of the table\n",
    "    table_data = []\n",
    "    for row in table.rows:\n",
    "        row_data = [cell.text for cell in row.cells]\n",
    "        table_data.append(row_data)\n",
    "    # Convert each table to a DataFrame and append to the list\n",
    "    df = pd.DataFrame(table_data)\n",
    "    tables_list.append(df)\n",
    "\n",
    "# Show the number of tables extracted and a preview of the first one\n",
    "num_tables = len(tables_list)\n",
    "first_table_preview = tables_list[0] if num_tables > 0 else None\n",
    "\n",
    "num_tables, first_table_preview.head()"
   ]
  },
  {
   "cell_type": "code",
   "execution_count": 68,
   "metadata": {},
   "outputs": [],
   "source": [
    "table_datas=[]\n",
    "for table in doc.tables:\n",
    "    data = []\n",
    "    # Extract column headers\n",
    "    headers = [cell.text.strip() for cell in table.rows[0].cells]\n",
    "\n",
    "    # Extract row data\n",
    "    for row in table.rows[1:]:\n",
    "        row_data = {headers[i]: row.cells[i].text.strip() for i in range(len(row.cells))}\n",
    "        data.append(row_data)\n",
    "    table_datas.append(data)"
   ]
  },
  {
   "cell_type": "code",
   "execution_count": 83,
   "metadata": {},
   "outputs": [
    {
     "data": {
      "text/plain": [
       "{'Source of Risks': 'Abrupt global slowdown or recession 1/\\n\\nEMDEs: A new bout of global financial tightening, possibly combined with volatile commodity prices, leads to spiking risk premia, debt distress, widening of external imbalances, fiscal pressures, and sudden stops.\\nSystemic financial instability 2/\\n\\n\\n\\nCommodity price volatility 3/\\n\\n\\n\\n\\n\\nDeepening geo-economic fragmentation\\n4/',\n",
       " 'Likelihoo': 'Medium\\n\\n\\n\\nMedium\\n\\n\\n\\nMedium\\n\\n\\n\\n\\n\\nHigh',\n",
       " 'Expected Impact': 'High. Lower GDP growth, due to weaker investment and exports; a decline in capital inflows, leading to currency depreciation and tighter domestic credit conditions; higher poverty rate.\\n\\nMedium. An increase in capital outflows that lead to large exchange rate depreciation and volatility; tighter financial conditions; and upward pressures on inflation through exchange rate passthrough.\\n\\nMedium. The economic impacts will critically depend on whether commodity prices rise or decline, given Indonesia’s commodity exporter status; A sharper-than-expected decline in international commodity prices would lead to lower growth, worsen the external balance, and lead to a faster moderation in inflation momentum.\\nMedium. Weaker exports; reduced FDI inflows; increased uncertainty leading to weaker investment.',\n",
       " 'Policy Recommendation': 'Use available fiscal space to provide targeted support, while allowing the exchange rate to act as a shock absorber. FXI could be used to address disorderly market conditions (e.g., a sharp pickup in the UIP premium), easing the burden on monetary policy.'}"
      ]
     },
     "execution_count": 83,
     "metadata": {},
     "output_type": "execute_result"
    }
   ],
   "source": [
    "table_datas[2][0]"
   ]
  },
  {
   "cell_type": "code",
   "execution_count": 84,
   "metadata": {},
   "outputs": [
    {
     "data": {
      "text/plain": [
       "{'Source of Risks': 'Abrupt global slowdown or recession 1/\\n\\nEMDEs: A new bout of global financial tightening, possibly combined with volatile commodity prices, leads to spiking risk premia, debt distress, widening of external imbalances, fiscal pressures, and sudden stops.\\nSystemic financial instability 2/\\n\\n\\n\\nCommodity price volatility 3/\\n\\n\\n\\n\\n\\nDeepening geo-economic fragmentation\\n4/',\n",
       " 'Likelihoo': 'Medium\\n\\n\\n\\nMedium\\n\\n\\n\\nMedium\\n\\n\\n\\n\\n\\nHigh',\n",
       " 'Expected Impact': 'High. Lower GDP growth, due to weaker investment and exports; a decline in capital inflows, leading to currency depreciation and tighter domestic credit conditions; higher poverty rate.\\n\\nMedium. An increase in capital outflows that lead to large exchange rate depreciation and volatility; tighter financial conditions; and upward pressures on inflation through exchange rate passthrough.\\n\\nMedium. The economic impacts will critically depend on whether commodity prices rise or decline, given Indonesia’s commodity exporter status; A sharper-than-expected decline in international commodity prices would lead to lower growth, worsen the external balance, and lead to a faster moderation in inflation momentum.\\nMedium. Weaker exports; reduced FDI inflows; increased uncertainty leading to weaker investment.',\n",
       " 'Policy Recommendation': 'Provided the monetary policy stance remains adequate to address inflation risks, and considering Indonesia’s shallow FX markets, the use of FXI may be appropriate under certain circumstances (see Annex V for further discussions).'}"
      ]
     },
     "execution_count": 84,
     "metadata": {},
     "output_type": "execute_result"
    }
   ],
   "source": [
    "table_datas[2][1]"
   ]
  },
  {
   "cell_type": "code",
   "execution_count": 85,
   "metadata": {},
   "outputs": [
    {
     "data": {
      "text/plain": [
       "{'Source of Risks': 'Persistently high domestic inflation, due to Medium High. Slower closing of the output gap amid global or domestic supply disruptions,\\tweaker private consumption and investment; coupled with a slower-than-expected growth.\\ta decline in capital inflows due to less\\npositive economic prospects.',\n",
       " 'Likelihoo': 'Persistently high domestic inflation, due to Medium High. Slower closing of the output gap amid global or domestic supply disruptions,\\tweaker private consumption and investment; coupled with a slower-than-expected growth.\\ta decline in capital inflows due to less\\npositive economic prospects.',\n",
       " 'Expected Impact': 'Persistently high domestic inflation, due to Medium High. Slower closing of the output gap amid global or domestic supply disruptions,\\tweaker private consumption and investment; coupled with a slower-than-expected growth.\\ta decline in capital inflows due to less\\npositive economic prospects.',\n",
       " 'Policy Recommendation': 'Use available fiscal space to provide targeted policy support to low-income households and small businesses. Monetary policy should carefully balance risks to output, inflation and financial stability and be tightened further if inflation surprises on the upside or if global monetary conditions tighten substantially, leading to large depreciation pressures on the rupiah.'}"
      ]
     },
     "execution_count": 85,
     "metadata": {},
     "output_type": "execute_result"
    }
   ],
   "source": [
    "table_datas[2][4]"
   ]
  },
  {
   "cell_type": "code",
   "execution_count": null,
   "metadata": {},
   "outputs": [],
   "source": []
  }
 ],
 "metadata": {
  "kernelspec": {
   "display_name": "gpt",
   "language": "python",
   "name": "python3"
  },
  "language_info": {
   "codemirror_mode": {
    "name": "ipython",
    "version": 3
   },
   "file_extension": ".py",
   "mimetype": "text/x-python",
   "name": "python",
   "nbconvert_exporter": "python",
   "pygments_lexer": "ipython3",
   "version": "3.9.18"
  },
  "orig_nbformat": 4
 },
 "nbformat": 4,
 "nbformat_minor": 2
}
