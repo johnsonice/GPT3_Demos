{
 "cells": [
  {
   "cell_type": "markdown",
   "metadata": {},
   "source": [
    "### ISR Naive Approach \n",
    "- use assistant api, upload the entire document and do QA on entire document\n",
    "- https://platform.openai.com/docs/assistants/how-it-works/objects\n",
    "- https://platform.openai.com/docs/api-reference/assistants"
   ]
  },
  {
   "cell_type": "code",
   "execution_count": 1,
   "metadata": {},
   "outputs": [],
   "source": [
    "import os,sys,getpass\n",
    "sys.path.insert(0,'../../libs')\n",
    "import time\n",
    "import pandas as pd \n",
    "from utils import load_json,logging,exception_handler\n",
    "from llm_utils import get_oai_fees\n",
    "import json\n",
    "import openai\n",
    "from openai import OpenAI\n",
    "## load API Key\n",
    "key = load_json('/root/workspace/key/openai_key.json') \n",
    "os.environ['OPENAI_API_KEY'] = key['ISR']['API_KEY']\n",
    "#os.environ[\"OPENAI_API_KEY\"] = getpass.getpass(prompt='OpenAI API Token:')\n"
   ]
  },
  {
   "cell_type": "markdown",
   "metadata": {},
   "source": [
    "### Create a basic File manager to mange files "
   ]
  },
  {
   "cell_type": "code",
   "execution_count": 37,
   "metadata": {},
   "outputs": [],
   "source": [
    "class OpenAI_File_Manager(object):\n",
    "    def __init__(self, client=None, api_key=None):\n",
    "        if not api_key:\n",
    "            api_key = os.environ['OPENAI_API_KEY']\n",
    "        if not client:\n",
    "            client = OpenAI(api_key=api_key)\n",
    "        self.client = client\n",
    "        \n",
    "    def upload_file(self,up_file_path,purpose='assistants'):\n",
    "        \"\"\"upload a document to openai and return doc id and name\"\"\"\n",
    "        assert os.path.exists(up_file_path)\n",
    "        file = self.client.files.create(\n",
    "            file=open(up_file_path,'rb'),\n",
    "            purpose=purpose\n",
    "        )\n",
    "        return(file.id,file.filename)\n",
    "    \n",
    "    def _get_file_list(self):\n",
    "        ''' retrieve file list '''\n",
    "        file_list = self.client.files.list().data\n",
    "        return file_list \n",
    "    \n",
    "    def _get_file_info(self):\n",
    "        files_data = self._get_file_list()\n",
    "        files_data_dict = [i.dict() for i in files_data]\n",
    "        files_info = pd.DataFrame(files_data_dict)\n",
    "        \n",
    "        return files_info\n",
    "    \n",
    "    def get_files_by_ids(self,file_ids):\n",
    "        if not isinstance(file_ids,list):\n",
    "            file_ids=[file_ids]\n",
    "        res = []\n",
    "        for f_i in file_ids:\n",
    "            f_r = self.client.files.retrieve(f_i)\n",
    "            res.append(f_r)\n",
    "        \n",
    "        return res\n",
    "    \n",
    "    def delete_files_by_ids(self,file_ids):\n",
    "        if not isinstance(file_ids,list):\n",
    "            file_ids=[file_ids]\n",
    "            \n",
    "        files_info_df = self._get_file_info()\n",
    "        db_file_ids = files_info_df['id'].values\n",
    "        res = []\n",
    "        for f_i in file_ids:\n",
    "            if f_i in db_file_ids:\n",
    "                self.client.files.delete(f_i)\n",
    "                res.append(f_i)\n",
    "            else:\n",
    "                print(\"{} does not exist on openai server, please double check.\".format(f_i))\n",
    "            \n",
    "        if len(res)>0:\n",
    "            print(\"{} has been removed from file server.\".format(res))\n",
    "            \n",
    "    def get_files_info_by(self,filter_criteria={},return_fields=['id','filename'],to_dict=True,to_single_list=True):\n",
    "        \"\"\"\n",
    "        Filter file info based on a dictionary of criteria.\n",
    "        Parameters:\n",
    "        filter_criteria (dict): A dictionary where keys are column names and values are lists of column values to filter by.\n",
    "        Returns:\n",
    "        pd.DataFrame or dict: Filtered DataFrame.\n",
    "        \"\"\"\n",
    "        files_info_df = self._get_file_info()\n",
    "        \n",
    "        for column, values in filter_criteria.items():\n",
    "            if column in files_info_df.columns:\n",
    "                files_info_df = files_info_df[files_info_df[column].isin(values)]\n",
    "            else:\n",
    "                raise ValueError(f\"Column '{column}' not found in DataFrame\")\n",
    "            \n",
    "        if return_fields:\n",
    "            files_info_df = files_info_df[return_fields]\n",
    "        \n",
    "        if to_dict:\n",
    "            files_info_df = files_info_df.to_dict(orient='records')\n",
    "        \n",
    "        if len(return_fields)==1 and to_dict and to_single_list:\n",
    "            files_info_df = [i.get(return_fields[0]) for i in files_info_df]\n",
    "            \n",
    "        return files_info_df\n",
    "    \n",
    "    "
   ]
  },
  {
   "cell_type": "markdown",
   "metadata": {},
   "source": [
    "- list all submitted documents"
   ]
  },
  {
   "cell_type": "code",
   "execution_count": 29,
   "metadata": {},
   "outputs": [],
   "source": [
    "FM = OpenAI_File_Manager()\n"
   ]
  },
  {
   "cell_type": "code",
   "execution_count": 30,
   "metadata": {},
   "outputs": [
    {
     "data": {
      "text/html": [
       "<div>\n",
       "<style scoped>\n",
       "    .dataframe tbody tr th:only-of-type {\n",
       "        vertical-align: middle;\n",
       "    }\n",
       "\n",
       "    .dataframe tbody tr th {\n",
       "        vertical-align: top;\n",
       "    }\n",
       "\n",
       "    .dataframe thead th {\n",
       "        text-align: right;\n",
       "    }\n",
       "</style>\n",
       "<table border=\"1\" class=\"dataframe\">\n",
       "  <thead>\n",
       "    <tr style=\"text-align: right;\">\n",
       "      <th></th>\n",
       "      <th>id</th>\n",
       "      <th>bytes</th>\n",
       "      <th>created_at</th>\n",
       "      <th>filename</th>\n",
       "      <th>object</th>\n",
       "      <th>purpose</th>\n",
       "      <th>status</th>\n",
       "      <th>status_details</th>\n",
       "    </tr>\n",
       "  </thead>\n",
       "  <tbody>\n",
       "    <tr>\n",
       "      <th>0</th>\n",
       "      <td>file-5klPBAljevBPP8hf90jDY6cq</td>\n",
       "      <td>2814763</td>\n",
       "      <td>1704393422</td>\n",
       "      <td>Belgium_2022.pdf</td>\n",
       "      <td>file</td>\n",
       "      <td>assistants</td>\n",
       "      <td>processed</td>\n",
       "      <td>None</td>\n",
       "    </tr>\n",
       "    <tr>\n",
       "      <th>1</th>\n",
       "      <td>file-a77M79Jvt7ujU1DDCA6sT0K3</td>\n",
       "      <td>2814763</td>\n",
       "      <td>1704393393</td>\n",
       "      <td>Belgium_2022.pdf</td>\n",
       "      <td>file</td>\n",
       "      <td>assistants</td>\n",
       "      <td>processed</td>\n",
       "      <td>None</td>\n",
       "    </tr>\n",
       "    <tr>\n",
       "      <th>2</th>\n",
       "      <td>file-bPuZpeGbCK6bN24DVyAE4Epd</td>\n",
       "      <td>3466567</td>\n",
       "      <td>1704250068</td>\n",
       "      <td>USA_2022.pdf</td>\n",
       "      <td>file</td>\n",
       "      <td>assistants</td>\n",
       "      <td>processed</td>\n",
       "      <td>None</td>\n",
       "    </tr>\n",
       "    <tr>\n",
       "      <th>3</th>\n",
       "      <td>file-mYHLNzsxghkkFr2lMNgEFfUo</td>\n",
       "      <td>300597</td>\n",
       "      <td>1702931200</td>\n",
       "      <td>Consolidated BRICS Summit Statements_2009-2023...</td>\n",
       "      <td>file</td>\n",
       "      <td>assistants</td>\n",
       "      <td>processed</td>\n",
       "      <td>None</td>\n",
       "    </tr>\n",
       "    <tr>\n",
       "      <th>4</th>\n",
       "      <td>file-ydI8r3jehRdvY1aABv1lOhvG</td>\n",
       "      <td>300597</td>\n",
       "      <td>1702931166</td>\n",
       "      <td>Consolidated BRICS Summit Statements_2009-2023...</td>\n",
       "      <td>file</td>\n",
       "      <td>assistants</td>\n",
       "      <td>processed</td>\n",
       "      <td>None</td>\n",
       "    </tr>\n",
       "  </tbody>\n",
       "</table>\n",
       "</div>"
      ],
      "text/plain": [
       "                              id    bytes  created_at  \\\n",
       "0  file-5klPBAljevBPP8hf90jDY6cq  2814763  1704393422   \n",
       "1  file-a77M79Jvt7ujU1DDCA6sT0K3  2814763  1704393393   \n",
       "2  file-bPuZpeGbCK6bN24DVyAE4Epd  3466567  1704250068   \n",
       "3  file-mYHLNzsxghkkFr2lMNgEFfUo   300597  1702931200   \n",
       "4  file-ydI8r3jehRdvY1aABv1lOhvG   300597  1702931166   \n",
       "\n",
       "                                            filename object     purpose  \\\n",
       "0                                   Belgium_2022.pdf   file  assistants   \n",
       "1                                   Belgium_2022.pdf   file  assistants   \n",
       "2                                       USA_2022.pdf   file  assistants   \n",
       "3  Consolidated BRICS Summit Statements_2009-2023...   file  assistants   \n",
       "4  Consolidated BRICS Summit Statements_2009-2023...   file  assistants   \n",
       "\n",
       "      status status_details  \n",
       "0  processed           None  \n",
       "1  processed           None  \n",
       "2  processed           None  \n",
       "3  processed           None  \n",
       "4  processed           None  "
      ]
     },
     "execution_count": 30,
     "metadata": {},
     "output_type": "execute_result"
    }
   ],
   "source": [
    "FM._get_file_info()"
   ]
  },
  {
   "cell_type": "markdown",
   "metadata": {},
   "source": [
    "- upload a local file "
   ]
  },
  {
   "cell_type": "code",
   "execution_count": 21,
   "metadata": {},
   "outputs": [
    {
     "name": "stdout",
     "output_type": "stream",
     "text": [
      "file-5klPBAljevBPP8hf90jDY6cq Belgium_2022.pdf\n"
     ]
    }
   ],
   "source": [
    "up_file_path = '/root/workspace/data/DOCs/PDF/Belgium_2022.pdf'\n",
    "fid,fname=FM.upload_file(up_file_path,purpose='assistants')\n",
    "print(fid,fname)"
   ]
  },
  {
   "cell_type": "markdown",
   "metadata": {},
   "source": [
    "- filter and get doc info by filters "
   ]
  },
  {
   "cell_type": "code",
   "execution_count": 31,
   "metadata": {},
   "outputs": [
    {
     "name": "stdout",
     "output_type": "stream",
     "text": [
      "['file-5klPBAljevBPP8hf90jDY6cq', 'file-a77M79Jvt7ujU1DDCA6sT0K3']\n"
     ]
    }
   ],
   "source": [
    "## get file ids by name\n",
    "filter_criteria={'filename':['Belgium_2022.pdf']} #USA_2022.pdf\n",
    "sampled_file_ids = FM.get_files_info_by(filter_criteria,return_fields=['id'],to_dict=True,to_single_list=True)\n",
    "print(sampled_file_ids)"
   ]
  },
  {
   "cell_type": "markdown",
   "metadata": {},
   "source": [
    "- delete files "
   ]
  },
  {
   "cell_type": "code",
   "execution_count": 32,
   "metadata": {},
   "outputs": [
    {
     "name": "stdout",
     "output_type": "stream",
     "text": [
      "['file-5klPBAljevBPP8hf90jDY6cq', 'file-a77M79Jvt7ujU1DDCA6sT0K3'] has been removed from file server.\n"
     ]
    }
   ],
   "source": [
    "FM.delete_files_by_ids(file_ids=sampled_file_ids)"
   ]
  },
  {
   "cell_type": "markdown",
   "metadata": {},
   "source": [
    "### Create a Base Assistant object to access basic functionalities "
   ]
  },
  {
   "cell_type": "code",
   "execution_count": 135,
   "metadata": {},
   "outputs": [],
   "source": [
    "class OpenAIAssistant_Base():\n",
    "    def __init__(self, client=None,api_key=None):\n",
    "        if not api_key:\n",
    "            api_key = os.environ['OPENAI_API_KEY']\n",
    "        if not client:\n",
    "            client = OpenAI(api_key=api_key)\n",
    "        self.client = client\n",
    "        self.assistant = None\n",
    "        \n",
    "        self.FileManager = OpenAI_File_Manager(client=client,api_key=api_key)\n",
    "    \n",
    "    def _set_active_assistant(self,current_assistant):\n",
    "        self.assistant = current_assistant\n",
    "        print('set {} as current active assistant.'.format(current_assistant.name,))\n",
    "    \n",
    "    def create_assistant(self,name,description,model=\"gpt-4-1106-preview\",tools=[{\"type\":\"retrieval\"}],set_to_current=True,**kwargs):\n",
    "        new_assistant = self.client.beta.assistants.create(\n",
    "                        #instructions=\"You are a personal math tutor. When asked a question, write and run Python code to answer the question.\",\n",
    "                        name=name,\n",
    "                        description=description,\n",
    "                        tools=tools,\n",
    "                        model=model,\n",
    "                        **kwargs\n",
    "                        )\n",
    "        \n",
    "        if set_to_current:\n",
    "            self._set_active_assistant(new_assistant)\n",
    "            print('New assistant created and set to current')\n",
    "        return new_assistant\n",
    "    \n",
    "    def update_current_assistant(self,**kwargs):\n",
    "        if self.assistant:\n",
    "            self.assistant = self.client.beta.assistants.update(\n",
    "                self.assistant.id,\n",
    "                **kwargs\n",
    "                # instructions=\"You are an HR bot, and you have access to files to answer employee questions about company policies. Always response with info from either of the files.\",\n",
    "                # name=\"HR Helper\",\n",
    "                # tools=[{\"type\": \"retrieval\"}],\n",
    "                # model=\"gpt-4\",\n",
    "                # file_ids=[\"file-abc123\", \"file-abc456\"],\n",
    "                )\n",
    "        else:\n",
    "            raise('Current Assistant not set, please use _set_active_assistant to set current assistant.')\n",
    "            \n",
    "    def delete_assistants_by_ids(self,as_ids):\n",
    "        if not isinstance(as_ids,list):\n",
    "            as_ids=[as_ids]\n",
    "            \n",
    "        as_info_df = self._get_assistant_info()\n",
    "        db_as_ids = as_info_df['id'].values\n",
    "        res = []\n",
    "        for a_i in as_ids:\n",
    "            if a_i in db_as_ids:\n",
    "                self.client.beta.assistants.delete(a_i)\n",
    "                res.append(a_i)\n",
    "            else:\n",
    "                print(\"{} does not exist on openai server, please double check.\".format(a_i))\n",
    "            \n",
    "        if len(res)>0:\n",
    "            print(\"{} has been removed from file server.\".format(res))\n",
    "        \n",
    "    def _get_assistant_list(self):\n",
    "        ''' retrieve assistant list '''\n",
    "        a_list = self.client.beta.assistants.list(\n",
    "            order=\"desc\",\n",
    "            #limit=\"20\"\n",
    "        )\n",
    "        \n",
    "        return a_list\n",
    "    \n",
    "    def _get_assistant_info(self):\n",
    "        \"\"\"Get assistants meta info\"\"\"\n",
    "        a_data = self._get_assistant_list()\n",
    "        a_data_dict = [i.dict() for i in a_data]\n",
    "        a_info = pd.DataFrame(a_data_dict)\n",
    "        \n",
    "        return a_info\n",
    "    \n",
    "    def get_assistants_by_ids(self,a_ids):\n",
    "        if not isinstance(a_ids,list):\n",
    "            a_ids=[a_ids]\n",
    "        res = []\n",
    "        for a_i in a_ids:\n",
    "            a_r = self.client.beta.assistants.retrieve(a_i)\n",
    "            res.append(a_r)\n",
    "        if len(res) == 1:\n",
    "            res = res[0]\n",
    "        return res\n",
    "    \n",
    "    def get_assistants_info_by(self,filter_criteria={},return_fields=['id','name'],to_dict=True,to_single_list=True):\n",
    "        \"\"\"\n",
    "        Filter file info based on a dictionary of criteria.\n",
    "        Parameters:\n",
    "        filter_criteria (dict): A dictionary where keys are column names and values are lists of column values to filter by.\n",
    "        Returns:\n",
    "        pd.DataFrame or dict: Filtered DataFrame. or a list \n",
    "        \"\"\"\n",
    "        as_info_df = self._get_assistant_info()\n",
    "        \n",
    "        for column, values in filter_criteria.items():\n",
    "            if column in as_info_df.columns:\n",
    "                as_info_df = as_info_df[as_info_df[column].isin(values)]\n",
    "            else:\n",
    "                raise ValueError(f\"Column '{column}' not found in DataFrame\")\n",
    "            \n",
    "        if return_fields:\n",
    "            as_info_df = as_info_df[return_fields]\n",
    "        \n",
    "        if to_dict:\n",
    "            as_info_df = as_info_df.to_dict(orient='records')\n",
    "        \n",
    "        if len(return_fields)==1 and to_dict and to_single_list:\n",
    "            as_info_df = [i.get(return_fields[0]) for i in as_info_df]\n",
    "            \n",
    "        return as_info_df\n",
    "    \n",
    "    def quick_run(self,user_input_dict,**kwargs):\n",
    "        if self.assistant:\n",
    "            run = self.client.beta.threads.create_and_run(\n",
    "                        assistant_id=self.assistant.id,\n",
    "                        thread={\n",
    "                            \"messages\": [\n",
    "                                            user_input_dict\n",
    "                                            #{\"role\": \"user\", \"content\": \"Explain deep learning to a 5 year old.\"} ## not sure if you can add files here \n",
    "                                        ]\n",
    "                        },\n",
    "                        **kwargs\n",
    "                        #instructions= 'update system instruction on the fly '\n",
    "                    )\n",
    "        else:\n",
    "            raise('no active assistant set, please use _set_activate_assistant to activate an assistant.')\n",
    "        \n",
    "        return run\n",
    "    \n",
    "    def _get_finished_run(self,initial_run):\n",
    "        while True:\n",
    "            time.sleep(1)\n",
    "            post_run = self.client.beta.threads.runs.retrieve(thread_id=initial_run.thread_id, run_id=initial_run.id)\n",
    "            #print(f\"Current run status: {post_run.status}\")\n",
    "            if post_run.status in ['completed', 'failed', 'requires_action']:\n",
    "                return post_run\n",
    "    \n",
    "    "
   ]
  },
  {
   "cell_type": "code",
   "execution_count": 130,
   "metadata": {},
   "outputs": [],
   "source": [
    "OAI_Agent = OpenAIAssistant_Base()"
   ]
  },
  {
   "cell_type": "markdown",
   "metadata": {},
   "source": [
    "- create a new assistant "
   ]
  },
  {
   "cell_type": "code",
   "execution_count": 120,
   "metadata": {},
   "outputs": [
    {
     "name": "stdout",
     "output_type": "stream",
     "text": [
      "New assistant created and set to current\n",
      "test_name asst_0MWdHhRpTawqjxRgc3cgmnDF\n"
     ]
    }
   ],
   "source": [
    "OAI_Agent.create_assistant(name='test_name',\n",
    "                      description='this is just a test assistant',\n",
    "                      instructions=\"You are a personal math tutor. When asked a question, write and run Python code to answer the question.\")\n",
    "print(OAI_Agent.assistant.name , OAI_Agent.assistant.id)"
   ]
  },
  {
   "cell_type": "markdown",
   "metadata": {},
   "source": [
    "- update an assistant "
   ]
  },
  {
   "cell_type": "code",
   "execution_count": 121,
   "metadata": {},
   "outputs": [],
   "source": [
    "ass_info_dict = {\n",
    "                'instructions':\"You are an experienced IMF economist. Your main job is to review and analyze IMF country staff reports. Use your knowledge base to best respond to user questions\",\n",
    "                'name':\"ISR Test Bot\",\n",
    "                'tools':[{\"type\": \"retrieval\"}],\n",
    "                'model':\"gpt-4-1106-preview\",\n",
    "                'file_ids':[\"file-bPuZpeGbCK6bN24DVyAE4Epd\"] ### USA file id\n",
    "                }\n",
    "OAI_Agent.update_current_assistant(**ass_info_dict)"
   ]
  },
  {
   "cell_type": "code",
   "execution_count": 122,
   "metadata": {},
   "outputs": [
    {
     "data": {
      "text/html": [
       "<div>\n",
       "<style scoped>\n",
       "    .dataframe tbody tr th:only-of-type {\n",
       "        vertical-align: middle;\n",
       "    }\n",
       "\n",
       "    .dataframe tbody tr th {\n",
       "        vertical-align: top;\n",
       "    }\n",
       "\n",
       "    .dataframe thead th {\n",
       "        text-align: right;\n",
       "    }\n",
       "</style>\n",
       "<table border=\"1\" class=\"dataframe\">\n",
       "  <thead>\n",
       "    <tr style=\"text-align: right;\">\n",
       "      <th></th>\n",
       "      <th>id</th>\n",
       "      <th>created_at</th>\n",
       "      <th>description</th>\n",
       "      <th>file_ids</th>\n",
       "      <th>instructions</th>\n",
       "      <th>metadata</th>\n",
       "      <th>model</th>\n",
       "      <th>name</th>\n",
       "      <th>object</th>\n",
       "      <th>tools</th>\n",
       "    </tr>\n",
       "  </thead>\n",
       "  <tbody>\n",
       "    <tr>\n",
       "      <th>0</th>\n",
       "      <td>asst_0MWdHhRpTawqjxRgc3cgmnDF</td>\n",
       "      <td>1704402315</td>\n",
       "      <td>this is just a test assistant</td>\n",
       "      <td>[file-bPuZpeGbCK6bN24DVyAE4Epd]</td>\n",
       "      <td>You are an experienced IMF economist. Your mai...</td>\n",
       "      <td>{}</td>\n",
       "      <td>gpt-4-1106-preview</td>\n",
       "      <td>ISR Test Bot</td>\n",
       "      <td>assistant</td>\n",
       "      <td>[{'type': 'retrieval'}]</td>\n",
       "    </tr>\n",
       "    <tr>\n",
       "      <th>1</th>\n",
       "      <td>asst_Xbwtd9DsHFS2VlnwT3oCcuQU</td>\n",
       "      <td>1704398376</td>\n",
       "      <td>this is just a test assistant</td>\n",
       "      <td>[file-bPuZpeGbCK6bN24DVyAE4Epd]</td>\n",
       "      <td>You are an Macro Econ bot, and you have access...</td>\n",
       "      <td>{}</td>\n",
       "      <td>gpt-4-1106-preview</td>\n",
       "      <td>updated test bot</td>\n",
       "      <td>assistant</td>\n",
       "      <td>[{'type': 'retrieval'}]</td>\n",
       "    </tr>\n",
       "    <tr>\n",
       "      <th>2</th>\n",
       "      <td>asst_sOY7glbeM2iIq8n7EWKlewV7</td>\n",
       "      <td>1704250341</td>\n",
       "      <td>None</td>\n",
       "      <td>[file-bPuZpeGbCK6bN24DVyAE4Epd]</td>\n",
       "      <td>You are an experienced IMF economist. Your mai...</td>\n",
       "      <td>{}</td>\n",
       "      <td>gpt-4-1106-preview</td>\n",
       "      <td>None</td>\n",
       "      <td>assistant</td>\n",
       "      <td>[{'type': 'retrieval'}]</td>\n",
       "    </tr>\n",
       "    <tr>\n",
       "      <th>3</th>\n",
       "      <td>asst_NRAvnu7V68Pd5DyPSXFoTs45</td>\n",
       "      <td>1703463015</td>\n",
       "      <td>None</td>\n",
       "      <td>[]</td>\n",
       "      <td>You are an advanced AI with access to a wide r...</td>\n",
       "      <td>{}</td>\n",
       "      <td>gpt-4-1106-preview</td>\n",
       "      <td>Paper Organizer</td>\n",
       "      <td>assistant</td>\n",
       "      <td>[{'type': 'code_interpreter'}]</td>\n",
       "    </tr>\n",
       "  </tbody>\n",
       "</table>\n",
       "</div>"
      ],
      "text/plain": [
       "                              id  created_at                    description  \\\n",
       "0  asst_0MWdHhRpTawqjxRgc3cgmnDF  1704402315  this is just a test assistant   \n",
       "1  asst_Xbwtd9DsHFS2VlnwT3oCcuQU  1704398376  this is just a test assistant   \n",
       "2  asst_sOY7glbeM2iIq8n7EWKlewV7  1704250341                           None   \n",
       "3  asst_NRAvnu7V68Pd5DyPSXFoTs45  1703463015                           None   \n",
       "\n",
       "                          file_ids  \\\n",
       "0  [file-bPuZpeGbCK6bN24DVyAE4Epd]   \n",
       "1  [file-bPuZpeGbCK6bN24DVyAE4Epd]   \n",
       "2  [file-bPuZpeGbCK6bN24DVyAE4Epd]   \n",
       "3                               []   \n",
       "\n",
       "                                        instructions metadata  \\\n",
       "0  You are an experienced IMF economist. Your mai...       {}   \n",
       "1  You are an Macro Econ bot, and you have access...       {}   \n",
       "2  You are an experienced IMF economist. Your mai...       {}   \n",
       "3  You are an advanced AI with access to a wide r...       {}   \n",
       "\n",
       "                model              name     object  \\\n",
       "0  gpt-4-1106-preview      ISR Test Bot  assistant   \n",
       "1  gpt-4-1106-preview  updated test bot  assistant   \n",
       "2  gpt-4-1106-preview              None  assistant   \n",
       "3  gpt-4-1106-preview   Paper Organizer  assistant   \n",
       "\n",
       "                            tools  \n",
       "0         [{'type': 'retrieval'}]  \n",
       "1         [{'type': 'retrieval'}]  \n",
       "2         [{'type': 'retrieval'}]  \n",
       "3  [{'type': 'code_interpreter'}]  "
      ]
     },
     "execution_count": 122,
     "metadata": {},
     "output_type": "execute_result"
    }
   ],
   "source": [
    "OAI_Agent._get_assistant_info()"
   ]
  },
  {
   "cell_type": "markdown",
   "metadata": {},
   "source": [
    "- get assistant meta info by filter criteria"
   ]
  },
  {
   "cell_type": "code",
   "execution_count": 131,
   "metadata": {},
   "outputs": [
    {
     "name": "stdout",
     "output_type": "stream",
     "text": [
      "['asst_0MWdHhRpTawqjxRgc3cgmnDF']\n"
     ]
    }
   ],
   "source": [
    "filter_criteria={'name':['ISR Test Bot']}\n",
    "as_id = OAI_Agent.get_assistants_info_by(filter_criteria,return_fields=['id'])\n",
    "print(as_id)"
   ]
  },
  {
   "cell_type": "markdown",
   "metadata": {},
   "source": [
    "- retrieve assistant by ids "
   ]
  },
  {
   "cell_type": "code",
   "execution_count": 132,
   "metadata": {},
   "outputs": [
    {
     "name": "stdout",
     "output_type": "stream",
     "text": [
      "ISR Test Bot asst_0MWdHhRpTawqjxRgc3cgmnDF\n"
     ]
    }
   ],
   "source": [
    "## retrieve by id \n",
    "assit = OAI_Agent.get_assistants_by_ids(as_id[0])\n",
    "print(assit.name, assit.id )"
   ]
  },
  {
   "cell_type": "markdown",
   "metadata": {},
   "source": [
    "- delete assistants by ids "
   ]
  },
  {
   "cell_type": "code",
   "execution_count": 110,
   "metadata": {},
   "outputs": [
    {
     "name": "stdout",
     "output_type": "stream",
     "text": [
      "['asst_4YM67lGJ1IiYdxSAMzs1TwrL', 'asst_5NO99A2gCwK7EfzQTVbj1mZq', 'asst_R3Nec9oV0Hxmdfc1VCkja4nc', 'asst_q8tqxGfNP9vBzqrRYYFATRiB'] has been removed from file server.\n"
     ]
    }
   ],
   "source": [
    "# del_as_ids = as_id\n",
    "# OAI_Agent.delete_assistants_by_ids(as_id)"
   ]
  },
  {
   "cell_type": "code",
   "execution_count": 136,
   "metadata": {},
   "outputs": [],
   "source": [
    "OAI_Agent._set_active_assistant(assit)"
   ]
  },
  {
   "cell_type": "code",
   "execution_count": 157,
   "metadata": {},
   "outputs": [],
   "source": [
    "prompt_identify_risks = \"\"\"\n",
    "You are an economist in the IMF. Your main task is to review Country Staff reports. \n",
    "Please read carefully the document. Please determine all major macro critical downside or upside risks described in the document. Pay more attention to common macro critical risks like inflation, geopolitics, trade, climate etc. \n",
    "Please return all identified risks in a JSON object. \n",
    "\n",
    "Output is a JSON object with the following format:\n",
    "\"risks\": [\n",
    "    {{\"risk_name\": \"<risk1>\", \"risk_description\": \"<risk_description1>\"}}, \n",
    "    {{\"risk_name\": \"<risk2>\", \"risk_description\": \"<risk_description2>\"}},\n",
    "    ......\n",
    "    ]\n",
    "\n",
    "Please proceed with the task, keeping in mind the importance of accuracy and clarity in your analysis. Return the JSON object only and nothing else. \n",
    "\n",
    "\"\"\"\n",
    "user_input_dict = {\"role\":\"user\",\n",
    "                    \"content\":prompt_identify_risks\n",
    "                    }\n",
    "run = OAI_Agent.quick_query(user_input_dict)#,instructions=\"You are a testing bot. For every user question. Just say 'I don't know'\") #quick_query(self,user_input_dict,**kwargs"
   ]
  },
  {
   "cell_type": "code",
   "execution_count": 158,
   "metadata": {},
   "outputs": [
    {
     "name": "stdout",
     "output_type": "stream",
     "text": [
      "Elapsed time: 54.45 s || Status: completedss"
     ]
    }
   ],
   "source": [
    "def wait_for_run_completion(run):\n",
    "    start_time = time.time()\n",
    "    while True:\n",
    "        time.sleep(1)\n",
    "        run = OAI_Agent.client.beta.threads.runs.retrieve(thread_id=run.thread_id, run_id=run.id)\n",
    "        elapsed_time = time.time() - start_time\n",
    "        print(f\"\\rElapsed time: {elapsed_time:.2f} s || Status: {run.status}    \", end=\"\", flush=True)\n",
    "        if run.status in ['completed', 'failed', 'requires_action']:\n",
    "            return run\n",
    "\n",
    "run = wait_for_run_completion(run)"
   ]
  },
  {
   "cell_type": "code",
   "execution_count": 156,
   "metadata": {},
   "outputs": [
    {
     "name": "stdout",
     "output_type": "stream",
     "text": [
      "I don't know\n"
     ]
    }
   ],
   "source": [
    "## retrieve the message \n",
    "return_messages = OAI_Agent.client.beta.threads.messages.list(\n",
    "  thread_id=run.thread_id\n",
    ")\n",
    "# for each in return_messages:\n",
    "#   print(each.role+\": {}\".format(each.content[0].text.value))\n",
    "#   print(\"=============\")\n",
    "print(return_messages.data[0].content[0].text.value)"
   ]
  },
  {
   "cell_type": "code",
   "execution_count": 13,
   "metadata": {},
   "outputs": [
    {
     "name": "stdout",
     "output_type": "stream",
     "text": [
      "asst_sOY7glbeM2iIq8n7EWKlewV7\n"
     ]
    }
   ],
   "source": [
    "# Add the file to the assistant \n",
    "assistant_usa = client.beta.assistants.create(\n",
    "    instructions=\"You are an experienced IMF economist. Your main job is to review and analyze IMF country staff reports. Use your knowledge base to best respond to user questions\",\n",
    "    model=\"gpt-4-1106-preview\",\n",
    "    tools=[{\"type\":\"retrieval\"}],\n",
    "    file_ids = [usa_file_id]\n",
    ")\n",
    "## you can use client.beta.assistants.update if you need to change some of the settings\n",
    "print(assistant_usa.id)"
   ]
  },
  {
   "cell_type": "code",
   "execution_count": 14,
   "metadata": {},
   "outputs": [
    {
     "name": "stdout",
     "output_type": "stream",
     "text": [
      "Thread(id='thread_N7fCWBnVZGIDeW3cPlnJjcXy', created_at=1704250418, metadata={}, object='thread')\n"
     ]
    }
   ],
   "source": [
    "# create a thread \n",
    "thread = client.beta.threads.create()\n",
    "print(thread)"
   ]
  },
  {
   "cell_type": "code",
   "execution_count": 15,
   "metadata": {},
   "outputs": [],
   "source": [
    "prompt_identify_risks = \"\"\"\n",
    "You are an economist in the IMF. Your main task is to review Country Staff reports. \n",
    "Please read carefully the document. Please determine all major macro critical downside or upside risks described in the document. Pay more attention to common macro critical risks like inflation, geopolitics, trade, climate etc. \n",
    "Please return all identified risks in a JSON object. \n",
    "\n",
    "Output is a JSON object with the following format:\n",
    "\"risks\": [\n",
    "    {{\"risk_name\": \"<risk1>\", \"risk_description\": \"<risk_description1>\"}}, \n",
    "    {{\"risk_name\": \"<risk2>\", \"risk_description\": \"<risk_description2>\"}},\n",
    "    ......\n",
    "    ]\n",
    "\n",
    "Please proceed with the task, keeping in mind the importance of accuracy and clarity in your analysis. Return the JSON object only and nothing else. \n",
    "\n",
    "\"\"\""
   ]
  },
  {
   "cell_type": "code",
   "execution_count": 16,
   "metadata": {},
   "outputs": [],
   "source": [
    "## create message and add to the thread \n",
    "message = client.beta.threads.messages.create(\n",
    "    thread_id=thread.id,\n",
    "    role=\"user\",\n",
    "    content=prompt_identify_risks\n",
    ")"
   ]
  },
  {
   "cell_type": "code",
   "execution_count": 17,
   "metadata": {},
   "outputs": [
    {
     "name": "stdout",
     "output_type": "stream",
     "text": [
      "run_86psMX1AmxbnlZzzfhlWP5Sz\n"
     ]
    }
   ],
   "source": [
    "## run the assistant \n",
    "run = client.beta.threads.runs.create(\n",
    "    thread_id = thread.id,\n",
    "    assistant_id = assistant_usa.id,\n",
    "    #instructions=\"You are an economist in the IMF. Your main task is to review Country Staff reports.\"\n",
    ")\n",
    "\n",
    "print(run.id)"
   ]
  },
  {
   "cell_type": "code",
   "execution_count": 18,
   "metadata": {},
   "outputs": [
    {
     "name": "stdout",
     "output_type": "stream",
     "text": [
      "Current run status: completed\n"
     ]
    }
   ],
   "source": [
    "def wait_for_run_completion(thread_id, run_id):\n",
    "    while True:\n",
    "        time.sleep(1)\n",
    "        run = client.beta.threads.runs.retrieve(thread_id=thread_id, run_id=run_id)\n",
    "        print(f\"Current run status: {run.status}\")\n",
    "        if run.status in ['completed', 'failed', 'requires_action']:\n",
    "            return run\n",
    "\n",
    "run = wait_for_run_completion(thread.id,run.id)"
   ]
  },
  {
   "cell_type": "code",
   "execution_count": 20,
   "metadata": {},
   "outputs": [
    {
     "name": "stdout",
     "output_type": "stream",
     "text": [
      "```json\n",
      "{\n",
      "  \"risks\": [\n",
      "    {\"risk_name\": \"Geopolitical tension and sanctions\", \"risk_description\": \"Russia's invasion of Ukraine leading to escalation of sanctions and other disruptions, which result in higher commodity prices, refugee migration, tighter financial conditions, and other adverse spillovers, particularly affecting LICs and commodity-importing EMs【11†source】.\"},\n",
      "    {\"risk_name\": \"Commodity price volatility\", \"risk_description\": \"Rising and volatile food and energy prices due to supply constraints, war in Ukraine, export restrictions, and currency depreciations, causing disruptions in the green transition, price and real sector volatility, food insecurity, social unrest, and acute crises, especially in EMDEs with lack of fiscal space【12†source】.\"},\n",
      "    {\"risk_name\": \"China's economic slowdown\", \"risk_description\": \"Abrupt growth slowdown in China due to extended COVID-19 lockdowns, rising geopolitical tensions, property sector slowdown, or inadequate policy responses, with spillovers through supply chain disruptions, trade, commodity prices, and financial channels【13†source】.\"},\n",
      "    {\"risk_name\": \"New COVID-19 variants\", \"risk_description\": \"Outbreaks of lethal and highly contagious COVID-19 variants leading to increased hospitalizations and deaths, forcing more social distancing and/or lockdowns, causing supply chain disruptions, capital outflows, financial tightening, and damage to growth prospects【14†source】.\"},\n",
      "    {\"risk_name\": \"Inflation and expectations\", \"risk_description\": \"De-anchoring of inflation expectations due to worsening supply-demand imbalances, higher commodity prices, and nominal wage growth, leading to central banks tightening policies faster than anticipated, which would cause a sharp tightening of global financial conditions and spiking risk premia, resulting in lower global demand, currency depreciations, market selloffs, bankruptcies, sovereign defaults, and contagion across EMDEs【15†source】.\"},\n",
      "    {\"risk_name\": \"Cyberthreats\", \"risk_description\": \"Cyberattacks on critical physical or digital infrastructure, including digital currency platforms, causing financial instability or widespread disruptions in socio-economic activities【16†source】.\"},\n",
      "    {\"risk_name\": \"Abrupt financial tightening\", \"risk_description\": \"A more abrupt tightening of financial conditions due to continued upside surprises to inflation, shifting market views on the likely path for the federal funds rate and asset valuations, potentially causing stress in financial markets【17†source】.\"},\n",
      "    {\"risk_name\": \"Labor market recovery\", \"risk_description\": \"Persistently slow recovery in labor force participation, where higher wages fail to boost labor supply or renewed health concerns lead to a decline in labor participation, thereby increasing wage growth, pressuring corporate margins, fueling inflation, and slowing economic activity【18†source】.\"}\n",
      "  ]\n",
      "}\n",
      "```\n"
     ]
    }
   ],
   "source": [
    "## retrieve the message \n",
    "return_messages = client.beta.threads.messages.list(\n",
    "  thread_id=thread.id\n",
    ")\n",
    "# for each in return_messages:\n",
    "#   print(each.role+\": {}\".format(each.content[0].text.value))\n",
    "#   print(\"=============\")\n",
    "print(return_messages.data[0].content[0].text.value)"
   ]
  },
  {
   "cell_type": "code",
   "execution_count": null,
   "metadata": {},
   "outputs": [],
   "source": []
  }
 ],
 "metadata": {
  "kernelspec": {
   "display_name": "gpt",
   "language": "python",
   "name": "python3"
  },
  "language_info": {
   "codemirror_mode": {
    "name": "ipython",
    "version": 3
   },
   "file_extension": ".py",
   "mimetype": "text/x-python",
   "name": "python",
   "nbconvert_exporter": "python",
   "pygments_lexer": "ipython3",
   "version": "3.9.0"
  },
  "orig_nbformat": 4
 },
 "nbformat": 4,
 "nbformat_minor": 2
}
