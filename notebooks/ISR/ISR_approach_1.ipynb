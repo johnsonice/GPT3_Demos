{
 "cells": [
  {
   "cell_type": "markdown",
   "metadata": {},
   "source": [
    "### ISR Naive Approach \n",
    "- use assistant api, upload the entire document and do QA on entire document\n",
    "- https://platform.openai.com/docs/assistants/how-it-works/objects\n",
    "- https://platform.openai.com/docs/api-reference/assistants"
   ]
  },
  {
   "cell_type": "code",
   "execution_count": 1,
   "metadata": {},
   "outputs": [],
   "source": [
    "import os,sys,getpass\n",
    "sys.path.insert(0,'../../libs')\n",
    "import time\n",
    "from utils import load_json,logging,exception_handler\n",
    "from llm_utils import get_oai_fees\n",
    "import json\n",
    "import openai\n",
    "from openai import OpenAI\n",
    "## load API Key\n",
    "#key = load_json('/root/workspace/Dev/openai_key.json') \n",
    "#os.environ['OPENAI_API_KEY'] = key['ChatGPT1']['API_KEY']\n",
    "os.environ[\"OPENAI_API_KEY\"] = getpass.getpass(prompt='OpenAI API Token:')\n"
   ]
  },
  {
   "cell_type": "code",
   "execution_count": 2,
   "metadata": {},
   "outputs": [],
   "source": [
    "client = OpenAI(api_key=os.environ['OPENAI_API_KEY'])"
   ]
  },
  {
   "cell_type": "code",
   "execution_count": 7,
   "metadata": {},
   "outputs": [],
   "source": [
    "## upload a file \n",
    "def upload_file(client,up_file_path):\n",
    "    assert os.path.exists(up_file_path)\n",
    "    file = client.files.create(\n",
    "        file=open(up_file_path,'rb'),\n",
    "        purpose='assistants'\n",
    "    )\n",
    "    return(file.id)"
   ]
  },
  {
   "cell_type": "code",
   "execution_count": 8,
   "metadata": {},
   "outputs": [],
   "source": [
    "up_file_path = '/root/workspace/data/DOCs/PDF/USA_2022.pdf'\n",
    "usa_file_id = upload_file(client,up_file_path)\n",
    "print(usa_file_id)"
   ]
  },
  {
   "cell_type": "code",
   "execution_count": 12,
   "metadata": {},
   "outputs": [
    {
     "name": "stdout",
     "output_type": "stream",
     "text": [
      "SyncPage[FileObject](data=[FileObject(id='file-bPuZpeGbCK6bN24DVyAE4Epd', bytes=3466567, created_at=1704250068, filename='USA_2022.pdf', object='file', purpose='assistants', status='processed', status_details=None), FileObject(id='file-puUNnu0XOnn8wazwphqSb2Jh', bytes=70886, created_at=1703462607, filename='paper.mmd', object='file', purpose='assistants', status='processed', status_details=None), FileObject(id='file-5tTWpLqP9KDOvf0wSdUZLt48', bytes=70886, created_at=1703462320, filename='paper.mmd', object='file', purpose='assistants', status='processed', status_details=None), FileObject(id='file-Ge0W1Zby8GliSvzlHd3I62rZ', bytes=70886, created_at=1703461727, filename='paper.mmd', object='file', purpose='assistants', status='processed', status_details=None), FileObject(id='file-mYHLNzsxghkkFr2lMNgEFfUo', bytes=300597, created_at=1702931200, filename='Consolidated BRICS Summit Statements_2009-2023.docx', object='file', purpose='assistants', status='processed', status_details=None), FileObject(id='file-ydI8r3jehRdvY1aABv1lOhvG', bytes=300597, created_at=1702931166, filename='Consolidated BRICS Summit Statements_2009-2023.docx', object='file', purpose='assistants', status='processed', status_details=None)], object='list', has_more=False)\n"
     ]
    }
   ],
   "source": [
    "print(client.files.list())"
   ]
  },
  {
   "cell_type": "code",
   "execution_count": 13,
   "metadata": {},
   "outputs": [
    {
     "name": "stdout",
     "output_type": "stream",
     "text": [
      "asst_sOY7glbeM2iIq8n7EWKlewV7\n"
     ]
    }
   ],
   "source": [
    "# Add the file to the assistant \n",
    "assistant_usa = client.beta.assistants.create(\n",
    "    instructions=\"You are an experienced IMF economist. Your main job is to review and analyze IMF country staff reports. Use your knowledge base to best respond to user questions\",\n",
    "    model=\"gpt-4-1106-preview\",\n",
    "    tools=[{\"type\":\"retrieval\"}],\n",
    "    file_ids = [usa_file_id]\n",
    ")\n",
    "## you can use client.beta.assistants.update if you need to change some of the settings\n",
    "print(assistant_usa.id)"
   ]
  },
  {
   "cell_type": "code",
   "execution_count": 14,
   "metadata": {},
   "outputs": [
    {
     "name": "stdout",
     "output_type": "stream",
     "text": [
      "Thread(id='thread_N7fCWBnVZGIDeW3cPlnJjcXy', created_at=1704250418, metadata={}, object='thread')\n"
     ]
    }
   ],
   "source": [
    "# create a thread \n",
    "thread = client.beta.threads.create()\n",
    "print(thread)"
   ]
  },
  {
   "cell_type": "code",
   "execution_count": 15,
   "metadata": {},
   "outputs": [],
   "source": [
    "prompt_identify_risks = \"\"\"\n",
    "You are an economist in the IMF. Your main task is to review Country Staff reports. \n",
    "Please read carefully the document. Please determine all major macro critical downside or upside risks described in the document. Pay more attention to common macro critical risks like inflation, geopolitics, trade, climate etc. \n",
    "Please return all identified risks in a JSON object. \n",
    "\n",
    "Output is a JSON object with the following format:\n",
    "\"risks\": [\n",
    "    {{\"risk_name\": \"<risk1>\", \"risk_description\": \"<risk_description1>\"}}, \n",
    "    {{\"risk_name\": \"<risk2>\", \"risk_description\": \"<risk_description2>\"}},\n",
    "    ......\n",
    "    ]\n",
    "\n",
    "Please proceed with the task, keeping in mind the importance of accuracy and clarity in your analysis. Return the JSON object only and nothing else. \n",
    "\n",
    "\"\"\""
   ]
  },
  {
   "cell_type": "code",
   "execution_count": 16,
   "metadata": {},
   "outputs": [],
   "source": [
    "## create message and add to the thread \n",
    "message = client.beta.threads.messages.create(\n",
    "    thread_id=thread.id,\n",
    "    role=\"user\",\n",
    "    content=prompt_identify_risks\n",
    ")"
   ]
  },
  {
   "cell_type": "code",
   "execution_count": 17,
   "metadata": {},
   "outputs": [
    {
     "name": "stdout",
     "output_type": "stream",
     "text": [
      "run_86psMX1AmxbnlZzzfhlWP5Sz\n"
     ]
    }
   ],
   "source": [
    "## run the assistant \n",
    "run = client.beta.threads.runs.create(\n",
    "    thread_id = thread.id,\n",
    "    assistant_id = assistant_usa.id,\n",
    "    #instructions=\"You are an economist in the IMF. Your main task is to review Country Staff reports.\"\n",
    ")\n",
    "\n",
    "print(run.id)"
   ]
  },
  {
   "cell_type": "code",
   "execution_count": 18,
   "metadata": {},
   "outputs": [
    {
     "name": "stdout",
     "output_type": "stream",
     "text": [
      "Current run status: completed\n"
     ]
    }
   ],
   "source": [
    "def wait_for_run_completion(thread_id, run_id):\n",
    "    while True:\n",
    "        time.sleep(1)\n",
    "        run = client.beta.threads.runs.retrieve(thread_id=thread_id, run_id=run_id)\n",
    "        print(f\"Current run status: {run.status}\")\n",
    "        if run.status in ['completed', 'failed', 'requires_action']:\n",
    "            return run\n",
    "\n",
    "run = wait_for_run_completion(thread.id,run.id)"
   ]
  },
  {
   "cell_type": "code",
   "execution_count": 20,
   "metadata": {},
   "outputs": [
    {
     "name": "stdout",
     "output_type": "stream",
     "text": [
      "```json\n",
      "{\n",
      "  \"risks\": [\n",
      "    {\"risk_name\": \"Geopolitical tension and sanctions\", \"risk_description\": \"Russia's invasion of Ukraine leading to escalation of sanctions and other disruptions, which result in higher commodity prices, refugee migration, tighter financial conditions, and other adverse spillovers, particularly affecting LICs and commodity-importing EMs【11†source】.\"},\n",
      "    {\"risk_name\": \"Commodity price volatility\", \"risk_description\": \"Rising and volatile food and energy prices due to supply constraints, war in Ukraine, export restrictions, and currency depreciations, causing disruptions in the green transition, price and real sector volatility, food insecurity, social unrest, and acute crises, especially in EMDEs with lack of fiscal space【12†source】.\"},\n",
      "    {\"risk_name\": \"China's economic slowdown\", \"risk_description\": \"Abrupt growth slowdown in China due to extended COVID-19 lockdowns, rising geopolitical tensions, property sector slowdown, or inadequate policy responses, with spillovers through supply chain disruptions, trade, commodity prices, and financial channels【13†source】.\"},\n",
      "    {\"risk_name\": \"New COVID-19 variants\", \"risk_description\": \"Outbreaks of lethal and highly contagious COVID-19 variants leading to increased hospitalizations and deaths, forcing more social distancing and/or lockdowns, causing supply chain disruptions, capital outflows, financial tightening, and damage to growth prospects【14†source】.\"},\n",
      "    {\"risk_name\": \"Inflation and expectations\", \"risk_description\": \"De-anchoring of inflation expectations due to worsening supply-demand imbalances, higher commodity prices, and nominal wage growth, leading to central banks tightening policies faster than anticipated, which would cause a sharp tightening of global financial conditions and spiking risk premia, resulting in lower global demand, currency depreciations, market selloffs, bankruptcies, sovereign defaults, and contagion across EMDEs【15†source】.\"},\n",
      "    {\"risk_name\": \"Cyberthreats\", \"risk_description\": \"Cyberattacks on critical physical or digital infrastructure, including digital currency platforms, causing financial instability or widespread disruptions in socio-economic activities【16†source】.\"},\n",
      "    {\"risk_name\": \"Abrupt financial tightening\", \"risk_description\": \"A more abrupt tightening of financial conditions due to continued upside surprises to inflation, shifting market views on the likely path for the federal funds rate and asset valuations, potentially causing stress in financial markets【17†source】.\"},\n",
      "    {\"risk_name\": \"Labor market recovery\", \"risk_description\": \"Persistently slow recovery in labor force participation, where higher wages fail to boost labor supply or renewed health concerns lead to a decline in labor participation, thereby increasing wage growth, pressuring corporate margins, fueling inflation, and slowing economic activity【18†source】.\"}\n",
      "  ]\n",
      "}\n",
      "```\n"
     ]
    }
   ],
   "source": [
    "## retrieve the message \n",
    "return_messages = client.beta.threads.messages.list(\n",
    "  thread_id=thread.id\n",
    ")\n",
    "# for each in return_messages:\n",
    "#   print(each.role+\": {}\".format(each.content[0].text.value))\n",
    "#   print(\"=============\")\n",
    "print(return_messages.data[0].content[0].text.value)"
   ]
  },
  {
   "cell_type": "code",
   "execution_count": null,
   "metadata": {},
   "outputs": [],
   "source": []
  }
 ],
 "metadata": {
  "kernelspec": {
   "display_name": "gpt",
   "language": "python",
   "name": "python3"
  },
  "language_info": {
   "codemirror_mode": {
    "name": "ipython",
    "version": 3
   },
   "file_extension": ".py",
   "mimetype": "text/x-python",
   "name": "python",
   "nbconvert_exporter": "python",
   "pygments_lexer": "ipython3",
   "version": "3.9.0"
  },
  "orig_nbformat": 4
 },
 "nbformat": 4,
 "nbformat_minor": 2
}
