{
 "cells": [
  {
   "cell_type": "markdown",
   "metadata": {},
   "source": [
    "### Assistant API\n",
    "\n",
    "- use assistant api, upload the entire document and do QA on entire document\n",
    "- https://platform.openai.com/docs/assistants/how-it-works/objects\n",
    "- https://platform.openai.com/docs/api-reference/assistants"
   ]
  },
  {
   "cell_type": "code",
   "execution_count": 1,
   "metadata": {},
   "outputs": [],
   "source": [
    "import os,sys,getpass\n",
    "sys.path.insert(0,'../../libs')\n",
    "import time\n",
    "import pandas as pd \n",
    "from utils import load_json,logging,exception_handler\n",
    "from llm_utils import get_oai_fees\n",
    "import json\n",
    "import openai\n",
    "from openai import OpenAI\n",
    "## load API Key\n",
    "key = load_json('/root/workspace/key/openai_key.json') \n",
    "os.environ['OPENAI_API_KEY'] = key['ISR']['API_KEY']\n",
    "#os.environ[\"OPENAI_API_KEY\"] = getpass.getpass(prompt='OpenAI API Token:')\n"
   ]
  },
  {
   "cell_type": "markdown",
   "metadata": {},
   "source": [
    "### Create a basic File manager to mange files "
   ]
  },
  {
   "cell_type": "code",
   "execution_count": 2,
   "metadata": {},
   "outputs": [],
   "source": [
    "class OpenAI_File_Manager(object):\n",
    "    def __init__(self, client=None, api_key=None):\n",
    "        if not api_key:\n",
    "            api_key = os.environ['OPENAI_API_KEY']\n",
    "        if not client:\n",
    "            client = OpenAI(api_key=api_key)\n",
    "        self.client = client\n",
    "        \n",
    "    def upload_file(self,up_file_path,purpose='assistants'):\n",
    "        \"\"\"upload a document to openai and return doc id and name\"\"\"\n",
    "        assert os.path.exists(up_file_path)\n",
    "        file = self.client.files.create(\n",
    "            file=open(up_file_path,'rb'),\n",
    "            purpose=purpose\n",
    "        )\n",
    "        return(file.id,file.filename)\n",
    "    \n",
    "    def _get_file_list(self):\n",
    "        ''' retrieve file list '''\n",
    "        file_list = self.client.files.list().data\n",
    "        return file_list \n",
    "    \n",
    "    def _get_file_info(self):\n",
    "        files_data = self._get_file_list()\n",
    "        files_data_dict = [i.dict() for i in files_data]\n",
    "        files_info = pd.DataFrame(files_data_dict)\n",
    "        \n",
    "        return files_info\n",
    "    \n",
    "    def get_files_by_ids(self,file_ids):\n",
    "        if not isinstance(file_ids,list):\n",
    "            file_ids=[file_ids]\n",
    "        res = []\n",
    "        for f_i in file_ids:\n",
    "            f_r = self.client.files.retrieve(f_i)\n",
    "            res.append(f_r)\n",
    "        \n",
    "        return res\n",
    "    \n",
    "    def delete_files_by_ids(self,file_ids):\n",
    "        if not isinstance(file_ids,list):\n",
    "            file_ids=[file_ids]\n",
    "            \n",
    "        files_info_df = self._get_file_info()\n",
    "        db_file_ids = files_info_df['id'].values\n",
    "        res = []\n",
    "        for f_i in file_ids:\n",
    "            if f_i in db_file_ids:\n",
    "                self.client.files.delete(f_i)\n",
    "                res.append(f_i)\n",
    "            else:\n",
    "                print(\"{} does not exist on openai server, please double check.\".format(f_i))\n",
    "            \n",
    "        if len(res)>0:\n",
    "            print(\"{} has been removed from file server.\".format(res))\n",
    "            \n",
    "    def get_files_info_by(self,filter_criteria={},return_fields=['id','filename'],to_dict=True,to_single_list=True):\n",
    "        \"\"\"\n",
    "        Filter file info based on a dictionary of criteria.\n",
    "        Parameters:\n",
    "        filter_criteria (dict): A dictionary where keys are column names and values are lists of column values to filter by.\n",
    "        Returns:\n",
    "        pd.DataFrame or dict: Filtered DataFrame.\n",
    "        \"\"\"\n",
    "        files_info_df = self._get_file_info()\n",
    "        \n",
    "        for column, values in filter_criteria.items():\n",
    "            if column in files_info_df.columns:\n",
    "                files_info_df = files_info_df[files_info_df[column].isin(values)]\n",
    "            else:\n",
    "                raise ValueError(f\"Column '{column}' not found in DataFrame\")\n",
    "            \n",
    "        if return_fields:\n",
    "            files_info_df = files_info_df[return_fields]\n",
    "        \n",
    "        if to_dict:\n",
    "            files_info_df = files_info_df.to_dict(orient='records')\n",
    "        \n",
    "        if len(return_fields)==1 and to_dict and to_single_list:\n",
    "            files_info_df = [i.get(return_fields[0]) for i in files_info_df]\n",
    "            \n",
    "        return files_info_df\n",
    "    \n",
    "    "
   ]
  },
  {
   "cell_type": "markdown",
   "metadata": {},
   "source": [
    "- list all submitted documents"
   ]
  },
  {
   "cell_type": "code",
   "execution_count": 3,
   "metadata": {},
   "outputs": [],
   "source": [
    "FM = OpenAI_File_Manager()\n"
   ]
  },
  {
   "cell_type": "code",
   "execution_count": 4,
   "metadata": {},
   "outputs": [
    {
     "data": {
      "text/html": [
       "<div>\n",
       "<style scoped>\n",
       "    .dataframe tbody tr th:only-of-type {\n",
       "        vertical-align: middle;\n",
       "    }\n",
       "\n",
       "    .dataframe tbody tr th {\n",
       "        vertical-align: top;\n",
       "    }\n",
       "\n",
       "    .dataframe thead th {\n",
       "        text-align: right;\n",
       "    }\n",
       "</style>\n",
       "<table border=\"1\" class=\"dataframe\">\n",
       "  <thead>\n",
       "    <tr style=\"text-align: right;\">\n",
       "      <th></th>\n",
       "      <th>id</th>\n",
       "      <th>bytes</th>\n",
       "      <th>created_at</th>\n",
       "      <th>filename</th>\n",
       "      <th>object</th>\n",
       "      <th>purpose</th>\n",
       "      <th>status</th>\n",
       "      <th>status_details</th>\n",
       "    </tr>\n",
       "  </thead>\n",
       "  <tbody>\n",
       "    <tr>\n",
       "      <th>0</th>\n",
       "      <td>file-bPuZpeGbCK6bN24DVyAE4Epd</td>\n",
       "      <td>3466567</td>\n",
       "      <td>1704250068</td>\n",
       "      <td>USA_2022.pdf</td>\n",
       "      <td>file</td>\n",
       "      <td>assistants</td>\n",
       "      <td>processed</td>\n",
       "      <td>None</td>\n",
       "    </tr>\n",
       "  </tbody>\n",
       "</table>\n",
       "</div>"
      ],
      "text/plain": [
       "                              id    bytes  created_at      filename object  \\\n",
       "0  file-bPuZpeGbCK6bN24DVyAE4Epd  3466567  1704250068  USA_2022.pdf   file   \n",
       "\n",
       "      purpose     status status_details  \n",
       "0  assistants  processed           None  "
      ]
     },
     "execution_count": 4,
     "metadata": {},
     "output_type": "execute_result"
    }
   ],
   "source": [
    "FM._get_file_info()"
   ]
  },
  {
   "cell_type": "markdown",
   "metadata": {},
   "source": [
    "- upload a local file "
   ]
  },
  {
   "cell_type": "code",
   "execution_count": 5,
   "metadata": {},
   "outputs": [
    {
     "name": "stdout",
     "output_type": "stream",
     "text": [
      "file-3CP4PI8wViYusvF18IC0D7Th Belgium_2022.pdf\n"
     ]
    }
   ],
   "source": [
    "up_file_path = '/root/workspace/data/DOCs/PDF/Belgium_2022.pdf'\n",
    "fid,fname=FM.upload_file(up_file_path,purpose='assistants')\n",
    "print(fid,fname)"
   ]
  },
  {
   "cell_type": "markdown",
   "metadata": {},
   "source": [
    "- filter and get doc info by filters "
   ]
  },
  {
   "cell_type": "code",
   "execution_count": 6,
   "metadata": {},
   "outputs": [
    {
     "name": "stdout",
     "output_type": "stream",
     "text": [
      "['file-3CP4PI8wViYusvF18IC0D7Th']\n"
     ]
    }
   ],
   "source": [
    "## get file ids by name\n",
    "filter_criteria={'filename':['Belgium_2022.pdf']} #USA_2022.pdf\n",
    "sampled_file_ids = FM.get_files_info_by(filter_criteria,return_fields=['id'],to_dict=True,to_single_list=True)\n",
    "print(sampled_file_ids)"
   ]
  },
  {
   "cell_type": "markdown",
   "metadata": {},
   "source": [
    "- delete files "
   ]
  },
  {
   "cell_type": "code",
   "execution_count": 7,
   "metadata": {},
   "outputs": [
    {
     "name": "stdout",
     "output_type": "stream",
     "text": [
      "['file-3CP4PI8wViYusvF18IC0D7Th'] has been removed from file server.\n"
     ]
    }
   ],
   "source": [
    "FM.delete_files_by_ids(file_ids=sampled_file_ids[0])"
   ]
  },
  {
   "cell_type": "markdown",
   "metadata": {},
   "source": [
    "### Create a Base Assistant object to access basic functionalities "
   ]
  },
  {
   "cell_type": "code",
   "execution_count": 8,
   "metadata": {},
   "outputs": [],
   "source": [
    "class OpenAIAssistant_Base():\n",
    "    def __init__(self, client=None,api_key=None):\n",
    "        if not api_key:\n",
    "            api_key = os.environ['OPENAI_API_KEY']\n",
    "        if not client:\n",
    "            client = OpenAI(api_key=api_key)\n",
    "        self.client = client\n",
    "        self.assistant = None\n",
    "        \n",
    "        self.FileManager = OpenAI_File_Manager(client=client,api_key=api_key)\n",
    "    \n",
    "    def _set_active_assistant(self,current_assistant):\n",
    "        self.assistant = current_assistant\n",
    "        print('set {} as current active assistant.'.format(current_assistant.name,))\n",
    "    \n",
    "    def create_assistant(self,name,description,model=\"gpt-4-1106-preview\",tools=[{\"type\":\"retrieval\"}],set_to_current=True,**kwargs):\n",
    "        new_assistant = self.client.beta.assistants.create(\n",
    "                        #instructions=\"You are a personal math tutor. When asked a question, write and run Python code to answer the question.\",\n",
    "                        name=name,\n",
    "                        description=description,\n",
    "                        tools=tools,\n",
    "                        model=model,\n",
    "                        **kwargs\n",
    "                        )\n",
    "        \n",
    "        if set_to_current:\n",
    "            self._set_active_assistant(new_assistant)\n",
    "            print('New assistant created and set to current')\n",
    "        return new_assistant\n",
    "    \n",
    "    def update_current_assistant(self,**kwargs):\n",
    "        if self.assistant:\n",
    "            self.assistant = self.client.beta.assistants.update(\n",
    "                self.assistant.id,\n",
    "                **kwargs\n",
    "                # instructions=\"You are an HR bot, and you have access to files to answer employee questions about company policies. Always response with info from either of the files.\",\n",
    "                # name=\"HR Helper\",\n",
    "                # tools=[{\"type\": \"retrieval\"}],\n",
    "                # model=\"gpt-4\",\n",
    "                # file_ids=[\"file-abc123\", \"file-abc456\"],\n",
    "                )\n",
    "        else:\n",
    "            raise('Current Assistant not set, please use _set_active_assistant to set current assistant.')\n",
    "            \n",
    "    def delete_assistants_by_ids(self,as_ids):\n",
    "        if not isinstance(as_ids,list):\n",
    "            as_ids=[as_ids]\n",
    "            \n",
    "        as_info_df = self._get_assistant_info()\n",
    "        db_as_ids = as_info_df['id'].values\n",
    "        res = []\n",
    "        for a_i in as_ids:\n",
    "            if a_i in db_as_ids:\n",
    "                self.client.beta.assistants.delete(a_i)\n",
    "                res.append(a_i)\n",
    "            else:\n",
    "                print(\"{} does not exist on openai server, please double check.\".format(a_i))\n",
    "            \n",
    "        if len(res)>0:\n",
    "            print(\"{} has been removed from file server.\".format(res))\n",
    "        \n",
    "    def _get_assistant_list(self):\n",
    "        ''' retrieve assistant list '''\n",
    "        a_list = self.client.beta.assistants.list(\n",
    "            order=\"desc\",\n",
    "            #limit=\"20\"\n",
    "        )\n",
    "        \n",
    "        return a_list\n",
    "    \n",
    "    def _get_assistant_info(self):\n",
    "        \"\"\"Get assistants meta info\"\"\"\n",
    "        a_data = self._get_assistant_list()\n",
    "        a_data_dict = [i.dict() for i in a_data]\n",
    "        a_info = pd.DataFrame(a_data_dict)\n",
    "        \n",
    "        return a_info\n",
    "    \n",
    "    def get_assistants_by_ids(self,a_ids):\n",
    "        if not isinstance(a_ids,list):\n",
    "            a_ids=[a_ids]\n",
    "        res = []\n",
    "        for a_i in a_ids:\n",
    "            a_r = self.client.beta.assistants.retrieve(a_i)\n",
    "            res.append(a_r)\n",
    "        if len(res) == 1:\n",
    "            res = res[0]\n",
    "        return res\n",
    "    \n",
    "    def get_assistants_info_by(self,filter_criteria={},return_fields=['id','name'],to_dict=True,to_single_list=True):\n",
    "        \"\"\"\n",
    "        Filter file info based on a dictionary of criteria.\n",
    "        Parameters:\n",
    "        filter_criteria (dict): A dictionary where keys are column names and values are lists of column values to filter by.\n",
    "        Returns:\n",
    "        pd.DataFrame or dict: Filtered DataFrame. or a list \n",
    "        \"\"\"\n",
    "        as_info_df = self._get_assistant_info()\n",
    "        \n",
    "        for column, values in filter_criteria.items():\n",
    "            if column in as_info_df.columns:\n",
    "                as_info_df = as_info_df[as_info_df[column].isin(values)]\n",
    "            else:\n",
    "                raise ValueError(f\"Column '{column}' not found in DataFrame\")\n",
    "            \n",
    "        if return_fields:\n",
    "            as_info_df = as_info_df[return_fields]\n",
    "        \n",
    "        if to_dict:\n",
    "            as_info_df = as_info_df.to_dict(orient='records')\n",
    "        \n",
    "        if len(return_fields)==1 and to_dict and to_single_list:\n",
    "            as_info_df = [i.get(return_fields[0]) for i in as_info_df]\n",
    "            \n",
    "        return as_info_df\n",
    "    \n",
    "    def quick_run(self,user_input_dict,**kwargs):\n",
    "        if self.assistant:\n",
    "            run = self.client.beta.threads.create_and_run(\n",
    "                        assistant_id=self.assistant.id,\n",
    "                        thread={\n",
    "                            \"messages\": [\n",
    "                                            user_input_dict\n",
    "                                            #{\"role\": \"user\", \"content\": \"Explain deep learning to a 5 year old.\"} ## not sure if you can add files here \n",
    "                                        ]\n",
    "                        },\n",
    "                        **kwargs\n",
    "                        #instructions= 'update system instruction on the fly '\n",
    "                    )\n",
    "        else:\n",
    "            raise('no active assistant set, please use _set_activate_assistant to activate an assistant.')\n",
    "        \n",
    "        return run\n",
    "    \n",
    "    def _get_finished_run(self,initial_run):\n",
    "        start_time = time.time()\n",
    "        while True:\n",
    "            time.sleep(1)\n",
    "            run = self.client.beta.threads.runs.retrieve(thread_id=initial_run.thread_id, run_id=initial_run.id)\n",
    "            elapsed_time = time.time() - start_time\n",
    "            print(f\"\\rElapsed time: {elapsed_time:.2f} s || Status: {run.status}    \", end=\"\", flush=True)\n",
    "            if run.status in ['completed', 'failed', 'requires_action']:\n",
    "                return run\n",
    "            \n",
    "    def _parse_return_message(self,run):\n",
    "        ## retrieve the message \n",
    "        return_messages = self.client.beta.threads.messages.list(\n",
    "            thread_id=run.thread_id\n",
    "        )\n",
    "        # for each in return_messages:\n",
    "        #   print(each.role+\": {}\".format(each.content[0].text.value))\n",
    "        #   print(\"=============\")\n",
    "        return return_messages.data[0].content[0].text.value\n",
    "\n",
    "    def quick_query(self,user_input_dict,**kwargs):\n",
    "        \"\"\"\n",
    "        A quick query from scratch, no conversation history is used \n",
    "        \n",
    "        Args:\n",
    "            user_input_dict (_type_): a dictionary with system message and user message\n",
    "\n",
    "        Returns:\n",
    "            json string : a json string of responses \n",
    "        \"\"\"\n",
    "        init_run = self.quick_run(user_input_dict,**kwargs)\n",
    "        post_run = self._get_finished_run(init_run)\n",
    "        res = self._parse_return_message(post_run)\n",
    "        \n",
    "        return res\n",
    "    \n",
    "    def quick_query_and_parse(self,**kwargs):\n",
    "        \n",
    "        raise NotImplementedError(\"This function is a placeholder and needs to be implemented.\")\n",
    "    "
   ]
  },
  {
   "cell_type": "code",
   "execution_count": 9,
   "metadata": {},
   "outputs": [],
   "source": [
    "OAI_Agent = OpenAIAssistant_Base()"
   ]
  },
  {
   "cell_type": "markdown",
   "metadata": {},
   "source": [
    "- create a new assistant "
   ]
  },
  {
   "cell_type": "code",
   "execution_count": 10,
   "metadata": {},
   "outputs": [
    {
     "name": "stdout",
     "output_type": "stream",
     "text": [
      "set ISR Test Bot as current active assistant.\n",
      "New assistant created and set to current\n",
      "ISR Test Bot asst_FVLC0kuZlTg4dRIRZ6ay6dvD\n"
     ]
    }
   ],
   "source": [
    "OAI_Agent.create_assistant(name='ISR Test Bot',\n",
    "                      description='this is just a test assistant',\n",
    "                      instructions=\"You are a personal math tutor. When asked a question, write and run Python code to answer the question.\")\n",
    "print(OAI_Agent.assistant.name , OAI_Agent.assistant.id)"
   ]
  },
  {
   "cell_type": "markdown",
   "metadata": {},
   "source": [
    "- update an assistant "
   ]
  },
  {
   "cell_type": "code",
   "execution_count": 11,
   "metadata": {},
   "outputs": [
    {
     "data": {
      "text/html": [
       "<div>\n",
       "<style scoped>\n",
       "    .dataframe tbody tr th:only-of-type {\n",
       "        vertical-align: middle;\n",
       "    }\n",
       "\n",
       "    .dataframe tbody tr th {\n",
       "        vertical-align: top;\n",
       "    }\n",
       "\n",
       "    .dataframe thead th {\n",
       "        text-align: right;\n",
       "    }\n",
       "</style>\n",
       "<table border=\"1\" class=\"dataframe\">\n",
       "  <thead>\n",
       "    <tr style=\"text-align: right;\">\n",
       "      <th></th>\n",
       "      <th>id</th>\n",
       "      <th>created_at</th>\n",
       "      <th>description</th>\n",
       "      <th>file_ids</th>\n",
       "      <th>instructions</th>\n",
       "      <th>metadata</th>\n",
       "      <th>model</th>\n",
       "      <th>name</th>\n",
       "      <th>object</th>\n",
       "      <th>tools</th>\n",
       "    </tr>\n",
       "  </thead>\n",
       "  <tbody>\n",
       "    <tr>\n",
       "      <th>0</th>\n",
       "      <td>asst_FVLC0kuZlTg4dRIRZ6ay6dvD</td>\n",
       "      <td>1704470138</td>\n",
       "      <td>this is just a test assistant</td>\n",
       "      <td>[]</td>\n",
       "      <td>You are a personal math tutor. When asked a qu...</td>\n",
       "      <td>{}</td>\n",
       "      <td>gpt-4-1106-preview</td>\n",
       "      <td>ISR Test Bot</td>\n",
       "      <td>assistant</td>\n",
       "      <td>[{'type': 'retrieval'}]</td>\n",
       "    </tr>\n",
       "    <tr>\n",
       "      <th>1</th>\n",
       "      <td>asst_NRAvnu7V68Pd5DyPSXFoTs45</td>\n",
       "      <td>1703463015</td>\n",
       "      <td>None</td>\n",
       "      <td>[]</td>\n",
       "      <td>You are an advanced AI with access to a wide r...</td>\n",
       "      <td>{}</td>\n",
       "      <td>gpt-4-1106-preview</td>\n",
       "      <td>Paper Organizer</td>\n",
       "      <td>assistant</td>\n",
       "      <td>[{'type': 'code_interpreter'}]</td>\n",
       "    </tr>\n",
       "  </tbody>\n",
       "</table>\n",
       "</div>"
      ],
      "text/plain": [
       "                              id  created_at                    description  \\\n",
       "0  asst_FVLC0kuZlTg4dRIRZ6ay6dvD  1704470138  this is just a test assistant   \n",
       "1  asst_NRAvnu7V68Pd5DyPSXFoTs45  1703463015                           None   \n",
       "\n",
       "  file_ids                                       instructions metadata  \\\n",
       "0       []  You are a personal math tutor. When asked a qu...       {}   \n",
       "1       []  You are an advanced AI with access to a wide r...       {}   \n",
       "\n",
       "                model             name     object  \\\n",
       "0  gpt-4-1106-preview     ISR Test Bot  assistant   \n",
       "1  gpt-4-1106-preview  Paper Organizer  assistant   \n",
       "\n",
       "                            tools  \n",
       "0         [{'type': 'retrieval'}]  \n",
       "1  [{'type': 'code_interpreter'}]  "
      ]
     },
     "execution_count": 11,
     "metadata": {},
     "output_type": "execute_result"
    }
   ],
   "source": [
    "OAI_Agent._get_assistant_info()"
   ]
  },
  {
   "cell_type": "markdown",
   "metadata": {},
   "source": [
    "- get assistant meta info by filter criteria"
   ]
  },
  {
   "cell_type": "code",
   "execution_count": 12,
   "metadata": {},
   "outputs": [
    {
     "name": "stdout",
     "output_type": "stream",
     "text": [
      "['asst_FVLC0kuZlTg4dRIRZ6ay6dvD']\n"
     ]
    }
   ],
   "source": [
    "filter_criteria={'name':['ISR Test Bot']}\n",
    "as_id = OAI_Agent.get_assistants_info_by(filter_criteria,return_fields=['id'])\n",
    "print(as_id)"
   ]
  },
  {
   "cell_type": "markdown",
   "metadata": {},
   "source": [
    "- retrieve assistant by ids "
   ]
  },
  {
   "cell_type": "code",
   "execution_count": 13,
   "metadata": {},
   "outputs": [
    {
     "name": "stdout",
     "output_type": "stream",
     "text": [
      "ISR Test Bot asst_FVLC0kuZlTg4dRIRZ6ay6dvD\n",
      "set ISR Test Bot as current active assistant.\n"
     ]
    }
   ],
   "source": [
    "## retrieve by id \n",
    "assit = OAI_Agent.get_assistants_by_ids(as_id[0])\n",
    "print(assit.name, assit.id )\n",
    "\n",
    "## set the retrieved assistant as current active assistant \n",
    "OAI_Agent._set_active_assistant(assit)"
   ]
  },
  {
   "cell_type": "markdown",
   "metadata": {},
   "source": [
    "- delete assistants by ids "
   ]
  },
  {
   "cell_type": "code",
   "execution_count": 14,
   "metadata": {},
   "outputs": [],
   "source": [
    "# del_as_ids = as_id\n",
    "# OAI_Agent.delete_assistants_by_ids(as_id)"
   ]
  },
  {
   "cell_type": "markdown",
   "metadata": {},
   "source": [
    "- give assistant instructions; model ; tools and file "
   ]
  },
  {
   "cell_type": "code",
   "execution_count": 15,
   "metadata": {},
   "outputs": [
    {
     "name": "stdout",
     "output_type": "stream",
     "text": [
      "['file-bPuZpeGbCK6bN24DVyAE4Epd']\n"
     ]
    }
   ],
   "source": [
    "filter_criteria={'filename':['USA_2022.pdf']} \n",
    "sampled_file_ids = OAI_Agent.FileManager.get_files_info_by(filter_criteria,return_fields=['id'],to_dict=True,to_single_list=True)\n",
    "print(sampled_file_ids)"
   ]
  },
  {
   "cell_type": "code",
   "execution_count": 16,
   "metadata": {},
   "outputs": [],
   "source": [
    "ass_info_dict = {\n",
    "                'instructions':\"You are an experienced IMF economist. Your main job is to review and analyze IMF country staff reports. Use your knowledge base to best respond to user questions\",\n",
    "                'name':\"ISR Test Bot\",\n",
    "                'tools':[{\"type\": \"retrieval\"}],\n",
    "                'model':\"gpt-4-1106-preview\",\n",
    "                'file_ids':sampled_file_ids ### USA file id\n",
    "                }\n",
    "OAI_Agent.update_current_assistant(**ass_info_dict)"
   ]
  },
  {
   "cell_type": "code",
   "execution_count": 17,
   "metadata": {},
   "outputs": [
    {
     "name": "stdout",
     "output_type": "stream",
     "text": [
      "Elapsed time: 55.71 s || Status: completed      "
     ]
    }
   ],
   "source": [
    "prompt_identify_risks = \"\"\"\n",
    "You are an economist in the IMF. Your main task is to review Country Staff reports. \n",
    "Please read carefully the document. Please determine all major macro critical downside or upside risks described in the document. Pay more attention to common macro critical risks like inflation, geopolitics, trade, climate etc. \n",
    "Please return all identified risks in a JSON object. \n",
    "\n",
    "Output is a JSON object with the following format:\n",
    "\"risks\": [\n",
    "    {{\"risk_name\": \"<risk1>\", \"risk_description\": \"<risk_description1>\"}}, \n",
    "    {{\"risk_name\": \"<risk2>\", \"risk_description\": \"<risk_description2>\"}},\n",
    "    ......\n",
    "    ]\n",
    "\n",
    "Please proceed with the task, keeping in mind the importance of accuracy and clarity in your analysis. Return the JSON object only and nothing else. \n",
    "\n",
    "\"\"\"\n",
    "user_input_dict = {\"role\":\"user\",\n",
    "                    \"content\":prompt_identify_risks\n",
    "                    }\n",
    "msg = OAI_Agent.quick_query(user_input_dict)#,instructions=\"You are a testing bot. For every user question. Just say 'I don't know'\") #quick_query(self,user_input_dict,**kwargs"
   ]
  },
  {
   "cell_type": "code",
   "execution_count": 18,
   "metadata": {},
   "outputs": [
    {
     "name": "stdout",
     "output_type": "stream",
     "text": [
      "```json\n",
      "\"risks\": [\n",
      "    {\n",
      "        \"risk_name\": \"Geopolitical tensions and sanctions\",\n",
      "        \"risk_description\": \"Russia’s invasion of Ukraine leads to the broadening of sanctions impacting oil, gas, and food sectors, combined with Russian countersanctions and impacts on global financial and trading systems, resulting in higher commodity prices, refugee migration, tighter financial conditions, and other adverse spillovers, particularly affecting LICs and commodity-importing EMs\"\n",
      "    },\n",
      "    {\n",
      "        \"risk_name\": \"Rising and volatile food and energy prices\",\n",
      "        \"risk_description\": \"Commodity prices are volatile and tend to increase due to supply constraints, the war in Ukraine, export restrictions, and currency depreciations, leading to short-run disruptions in the green transition, bouts of price and real sector volatility, food insecurity, social unrest, and acute crises, especially in EMDEs with limited fiscal space\"\n",
      "    },\n",
      "    {\n",
      "        \"risk_name\": \"China's economic slowdown\",\n",
      "        \"risk_description\": \"An abrupt slowdown in China’s economy due to prolonged COVID-19 lockdowns, rising geopolitical tensions, a sharp decline in the property sector, or inadequate policy responses, causing spillovers through supply chain disruptions, trade, commodity price fluctuations, and financial channels\"\n",
      "    },\n",
      "    {\n",
      "        \"risk_name\": \"COVID-19 variants\",\n",
      "        \"risk_description\": \"New highly contagious and lethal COVID-19 variants could lead to increased hospitalizations and deaths, necessitating more social distancing, lockdowns, extended supply chain disruptions, and a reassessment of growth prospects, triggering capital outflows and financial tightening\"\n",
      "    },\n",
      "    {\n",
      "        \"risk_name\": \"De-anchoring of inflation expectations\",\n",
      "        \"risk_description\": \"Worsening supply-demand imbalances, higher commodity prices, and higher nominal wage growth could lead to persistently higher inflation or inflation expectations, prompting central banks to tighten policies faster than anticipated, with impacts such as lower global demand, currency depreciations, asset market sell-offs, bankruptcies, and contagion across EMDEs\"\n",
      "    },\n",
      "    {\n",
      "        \"risk_name\": \"Cyberthreats\",\n",
      "        \"risk_description\": \"Cyberattacks on critical infrastructure, including digital currency platforms, could trigger financial instability or widespread disruptions in socio-economic activities\"\n",
      "    },\n",
      "    {\n",
      "        \"risk_name\": \"Abrupt tightening of financial conditions\",\n",
      "        \"risk_description\": \"Surprises in inflation could shift market expectations about interest rates and asset valuations, leading to stress in corporates, non-bank financial institutions, treasury markets, and constraints on investment and employment growth, thereby slowing economic activity with negative spillovers\"\n",
      "    },\n",
      "    {\n",
      "        \"risk_name\": \"Slow recovery in labor force participation\",\n",
      "        \"risk_description\": \"A persistent underperformance in labor force recovery owing to higher wages failing to boost labor supply or renewed health concerns leading to a decline in labor participation, resulting in increased wage growth, pressure on corporate margins, and further contributions to inflation\"\n",
      "    }\n",
      "]\n",
      "```\n"
     ]
    }
   ],
   "source": [
    "print(msg)"
   ]
  },
  {
   "cell_type": "markdown",
   "metadata": {},
   "source": [
    "- now let's try change a file id see if it still works "
   ]
  },
  {
   "cell_type": "code",
   "execution_count": 19,
   "metadata": {},
   "outputs": [],
   "source": [
    "up_file_path = '/root/workspace/data/DOCs/PDF/Indonesia_2023.pdf'\n",
    "fid,fname=OAI_Agent.FileManager.upload_file(up_file_path,purpose='assistants')"
   ]
  },
  {
   "cell_type": "code",
   "execution_count": 20,
   "metadata": {},
   "outputs": [
    {
     "name": "stdout",
     "output_type": "stream",
     "text": [
      "['file-PG4bC7c6m9Aa7017oMQbWoNu']\n"
     ]
    }
   ],
   "source": [
    "## get a different document as use it as reference\n",
    "filter_criteria={'filename':['Indonesia_2023.pdf']} \n",
    "sampled_file_ids = OAI_Agent.FileManager.get_files_info_by(filter_criteria,return_fields=['id'],to_dict=True,to_single_list=True)\n",
    "print(sampled_file_ids)\n"
   ]
  },
  {
   "cell_type": "code",
   "execution_count": 21,
   "metadata": {},
   "outputs": [
    {
     "name": "stdout",
     "output_type": "stream",
     "text": [
      "['file-PG4bC7c6m9Aa7017oMQbWoNu']\n"
     ]
    }
   ],
   "source": [
    "ass_info_dict = {\n",
    "                'file_ids':sampled_file_ids ### Belgium_ file id\n",
    "                }\n",
    "OAI_Agent.update_current_assistant(**ass_info_dict)\n",
    "print(OAI_Agent.assistant.file_ids)"
   ]
  },
  {
   "cell_type": "code",
   "execution_count": 22,
   "metadata": {},
   "outputs": [
    {
     "data": {
      "text/html": [
       "<div>\n",
       "<style scoped>\n",
       "    .dataframe tbody tr th:only-of-type {\n",
       "        vertical-align: middle;\n",
       "    }\n",
       "\n",
       "    .dataframe tbody tr th {\n",
       "        vertical-align: top;\n",
       "    }\n",
       "\n",
       "    .dataframe thead th {\n",
       "        text-align: right;\n",
       "    }\n",
       "</style>\n",
       "<table border=\"1\" class=\"dataframe\">\n",
       "  <thead>\n",
       "    <tr style=\"text-align: right;\">\n",
       "      <th></th>\n",
       "      <th>id</th>\n",
       "      <th>bytes</th>\n",
       "      <th>created_at</th>\n",
       "      <th>filename</th>\n",
       "      <th>object</th>\n",
       "      <th>purpose</th>\n",
       "      <th>status</th>\n",
       "      <th>status_details</th>\n",
       "    </tr>\n",
       "  </thead>\n",
       "  <tbody>\n",
       "    <tr>\n",
       "      <th>0</th>\n",
       "      <td>file-PG4bC7c6m9Aa7017oMQbWoNu</td>\n",
       "      <td>7302895</td>\n",
       "      <td>1704470314</td>\n",
       "      <td>Indonesia_2023.pdf</td>\n",
       "      <td>file</td>\n",
       "      <td>assistants</td>\n",
       "      <td>processed</td>\n",
       "      <td>None</td>\n",
       "    </tr>\n",
       "    <tr>\n",
       "      <th>1</th>\n",
       "      <td>file-bPuZpeGbCK6bN24DVyAE4Epd</td>\n",
       "      <td>3466567</td>\n",
       "      <td>1704250068</td>\n",
       "      <td>USA_2022.pdf</td>\n",
       "      <td>file</td>\n",
       "      <td>assistants</td>\n",
       "      <td>processed</td>\n",
       "      <td>None</td>\n",
       "    </tr>\n",
       "  </tbody>\n",
       "</table>\n",
       "</div>"
      ],
      "text/plain": [
       "                              id    bytes  created_at            filename  \\\n",
       "0  file-PG4bC7c6m9Aa7017oMQbWoNu  7302895  1704470314  Indonesia_2023.pdf   \n",
       "1  file-bPuZpeGbCK6bN24DVyAE4Epd  3466567  1704250068        USA_2022.pdf   \n",
       "\n",
       "  object     purpose     status status_details  \n",
       "0   file  assistants  processed           None  \n",
       "1   file  assistants  processed           None  "
      ]
     },
     "execution_count": 22,
     "metadata": {},
     "output_type": "execute_result"
    }
   ],
   "source": [
    "OAI_Agent.FileManager._get_file_info()"
   ]
  },
  {
   "cell_type": "code",
   "execution_count": 23,
   "metadata": {},
   "outputs": [
    {
     "name": "stdout",
     "output_type": "stream",
     "text": [
      "Elapsed time: 38.74 s || Status: completed      ```json\n",
      "{\n",
      "  \"risks\": [\n",
      "    {\n",
      "      \"risk_name\": \"Financial Shocks due to Investor Risk Appetite\",\n",
      "      \"risk_description\": \"Shallow FX markets in Indonesia make it vulnerable to financial shocks caused by sudden changes in investor risk appetite, resulting in capital outflows, exchange rate depreciation, volatility, and a spike in the uncovered interest parity (UIP) premium.\"\n",
      "    },\n",
      "    {\n",
      "      \"risk_name\": \"Global Supply Shocks\",\n",
      "      \"risk_description\": \"Global supply shocks can lead to higher inflation and tightening of monetary policy in advanced economies. For Indonesia, this may mean a negative impact with currency depreciation, spikes in domestic inflation, and capital outflows from emerging markets.\"\n",
      "    },\n",
      "    {\n",
      "      \"risk_name\": \"Tradeoffs from Policy Response to Inflation and Exchange Rate Shocks\",\n",
      "      \"risk_description\": \"Policy responses to inflation and exchange rate shocks, such as tightening monetary policy, can create tradeoffs between domestic output and financial stability. Using policy tools like FX intervention (FXI) and fiscal policies can help minimize these tradeoffs but also have their own costs such as reduced reserves or higher debt.\"\n",
      "    },\n",
      "    {\n",
      "      \"risk_name\": \"Monetary Policy Adjustment\",\n",
      "      \"risk_description\": \"Increase in interest rates raises debt-at-risk in the corporate sector, and inappropriate monetary policy adjustment in response to UIP shocks can exacerbate financial stability risks.\"\n",
      "    },\n",
      "    {\n",
      "      \"risk_name\": \"Magnitude of Economic Shocks\",\n",
      "      \"risk_description\": \"The size of economic shocks is critical as large shocks could make price and financial stability considerations more pertinent, even with well-anchored inflation expectations and limited FX exposures on private sector balance sheets.\"\n",
      "    },\n",
      "    {\n",
      "      \"risk_name\": \"Effectiveness of FX Intervention\",\n",
      "      \"risk_description\": \"The effectiveness of FXI in stabilizing the exchange rate is uncertain and may be limited by the availability of reserves. Large-scale interventions could be costly and may not be feasible if reserves are insufficient.\"\n",
      "    },\n",
      "    {\n",
      "      \"risk_name\": \"Dependency on Commodity Exports\",\n",
      "      \"risk_description\": \"Indonesia’s economy has a strong dependence on the export of raw commodities, which poses risks associated with price volatility and market demand changes.\"\n",
      "    }\n",
      "  ]\n",
      "}\n",
      "```\n"
     ]
    }
   ],
   "source": [
    "msg = OAI_Agent.quick_query(user_input_dict)\n",
    "print(msg)"
   ]
  },
  {
   "cell_type": "markdown",
   "metadata": {},
   "source": [
    "- system instructions:"
   ]
  },
  {
   "cell_type": "markdown",
   "metadata": {},
   "source": [
    "You are an economist in the IMF. Your main task is to review Country Staff reports.  You should read the document in your knowledge base carefully and follow user instruction to complete the task."
   ]
  },
  {
   "cell_type": "markdown",
   "metadata": {},
   "source": [
    "- User message "
   ]
  },
  {
   "cell_type": "markdown",
   "metadata": {},
   "source": [
    "Please determine all major macro critical risks described in the document. Pay more attention to common macro critical risks like inflation, macro stability, financial market volatility, debt, geopolitics, trade, climate, and other country specific risks etc. Please return all identified risks in a JSON object.\n",
    "\n",
    "Output is a JSON object with the following format: \"risks\": [ {{\"risk_name\": \"<risk1>\", \"risk_description\": \"<risk_description1>\"}}, {{\"risk_name\": \"<risk2>\", \"risk_description\": \"<risk_description2>\"}}, ...... ]\n",
    "\n",
    "Please proceed with the task, keeping in mind the importance of accuracy and clarity in your analysis. Return the JSON object only and nothing else."
   ]
  },
  {
   "cell_type": "code",
   "execution_count": null,
   "metadata": {},
   "outputs": [],
   "source": []
  },
  {
   "cell_type": "code",
   "execution_count": null,
   "metadata": {},
   "outputs": [],
   "source": []
  }
 ],
 "metadata": {
  "kernelspec": {
   "display_name": "gpt",
   "language": "python",
   "name": "python3"
  },
  "language_info": {
   "codemirror_mode": {
    "name": "ipython",
    "version": 3
   },
   "file_extension": ".py",
   "mimetype": "text/x-python",
   "name": "python",
   "nbconvert_exporter": "python",
   "pygments_lexer": "ipython3",
   "version": "3.9.0"
  },
  "orig_nbformat": 4
 },
 "nbformat": 4,
 "nbformat_minor": 2
}
