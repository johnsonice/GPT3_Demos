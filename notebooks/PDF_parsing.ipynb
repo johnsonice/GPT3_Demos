{
 "cells": [
  {
   "cell_type": "markdown",
   "metadata": {},
   "source": [
    "#### PDF Parser"
   ]
  },
  {
   "cell_type": "markdown",
   "metadata": {},
   "source": [
    "- [LayourPDFReader for \"Context-aware\" chunking](https://blog.llamaindex.ai/mastering-pdfs-extracting-sections-headings-paragraphs-and-tables-with-cutting-edge-parser-faea18870125)\n",
    "    - Identifying sections and subsections, along with their respective hierarchy levels.\n",
    "    - Merging lines into coherent paragraphs.\n",
    "    - Establishing connections between sections and paragraphs.\n",
    "    - Recognizing tables and associating them with their corresponding sections.\n",
    "    - Handling lists and nested list structures with precision."
   ]
  },
  {
   "cell_type": "code",
   "execution_count": 3,
   "metadata": {},
   "outputs": [
    {
     "name": "stderr",
     "output_type": "stream",
     "text": [
      "/tmp/ipykernel_5407/4293802776.py:2: DeprecationWarning: Importing display from IPython.core.display is deprecated since IPython 7.14, please import from IPython display\n",
      "  from IPython.core.display import display, HTML\n"
     ]
    }
   ],
   "source": [
    "from llmsherpa.readers import LayoutPDFReader\n",
    "from IPython.core.display import display, HTML"
   ]
  },
  {
   "cell_type": "code",
   "execution_count": 4,
   "metadata": {},
   "outputs": [],
   "source": [
    "llmsherpa_api_url = \"https://readers.llmsherpa.com/api/document/developer/parseDocument?renderFormat=all\"\n",
    "pdf_url = '/root/workspace/data/DOCs/PDF/USA_2022.pdf' # also allowed is a file path e.g. /home/downloads/xyz.pdf\n",
    "pdf_reader = LayoutPDFReader(llmsherpa_api_url)\n",
    "doc = pdf_reader.read_pdf(pdf_url)"
   ]
  },
  {
   "cell_type": "code",
   "execution_count": 55,
   "metadata": {},
   "outputs": [],
   "source": [
    "## export to txt to check consistency \n",
    "def to_txt(strings,out_path):\n",
    "    with open(out_path, 'w') as file:\n",
    "        for string in strings:\n",
    "            file.write(string + '\\n')\n",
    "    print(\"export to {}\".format(out_path))"
   ]
  },
  {
   "cell_type": "code",
   "execution_count": 56,
   "metadata": {},
   "outputs": [],
   "source": [
    "def extract_chunks(chunks):\n",
    "    contents = []\n",
    "    for idx,c in enumerate(chunks):\n",
    "        contents.append(\"{} : {}\".format(idx,c.to_context_text()))  ## for qa purpose, often need to use to_context_text\n",
    "    return contents "
   ]
  },
  {
   "cell_type": "code",
   "execution_count": 57,
   "metadata": {},
   "outputs": [
    {
     "name": "stdout",
     "output_type": "stream",
     "text": [
      "['0 : UNITED STATES > July 2022\\n2022 ARTICLE IV CONSULTATION—PRESS RELEASE; STAFF REPORT; AND STATEMENT BY THE EXECUTIVE DIRECTOR FOR THE UNITED STATES', '1 : UNITED STATES > July 2022\\nUnder Article IV of the IMF’s Articles of Agreement, the IMF holds bilateral discussions with members, usually every year.\\nIn the context of the 2022 Article IV consultation with the United States, the following documents have been released and are included in this package:\\n• A Press Release summarizing the views of the Executive Board as expressed during its July 11, 2022 consideration of the staff report that concluded the Article IV consultation with the United States.\\n• The Staff Report prepared by a staff team of the IMF for the Executive Board’s consideration on July 11, 2022, following discussions that ended on June 15, 2022, with the officials of the United States on economic developments and policies.\\nBased on information available at the time of these discussions, the staff report was completed on June 24, 2022.\\n• An Informational Annex prepared by the IMF staff.\\n• A Staff Supplement updating information on recent developments.\\n• A Statement by the Executive Director for the United States', '2 : UNITED STATES > July 2022\\nThe IMF’s transparency policy allows for the deletion of market-sensitive information and premature disclosure of the authorities’ policy intentions in published staff reports and other documents.', '3 : UNITED STATES > July 2022\\nCopies of this report are available to the public from', '4 : UNITED STATES > July 2022\\nInternational Monetary Fund • Publication Services PO Box 92780 • Washington, D.C. 20090 Telephone: (202) 623-7430 • Fax: (202) 623-7201 E-mail: publications@imf.org Web: http://www.imf.org Price: $18.00 per printed copy', '5 : UNITED STATES > International Monetary Fund Washington, D.C.\\n© 2022 International Monetary Fund', '6 : FOR IMMEDIATE RELEASE\\nWashington, DC – July 11, 2022: The Executive Board of the International Monetary Fund (IMF) concluded the Article IV consultation1 with the United States.', '7 : FOR IMMEDIATE RELEASE\\nThe United States (U.S.) has recovered quickly from the pandemic shock.\\nThe positive effects of unprecedented policy stimulus, combined with the advantages of a highly flexible economy, have resulted in an unemployment rate that is back at end-2019 levels, output that is now close to its pre-pandemic trend, wages have increased rapidly for lower income workers, poverty has fallen, and 8.5 million jobs have been created since the end of 2020.', '8 : FOR IMMEDIATE RELEASE\\nHowever, the rapid recovery of demand and associated depletion of slack, rising energy prices, and ongoing global supply disruptions have led to a significant acceleration in inflation.\\nWage and price pressures are broad based had have spread quickly across the economy.\\nLonger-run measures of inflation expectations have started to drift higher and shorter horizon measures of inflation expectations have increased significantly.', '9 : FOR IMMEDIATE RELEASE\\nDuring the pandemic, the overall general government deficit rose by close to 9 percent of GDP with the US$1.9 trillion American Rescue Plan—passed in March 2021—slowing the pace of f iscal contraction in 2021–22 but not forestalling it.\\nThe f iscal deficit is now declining rapidly but, despite this, public debt is markedly higher than its pre-pandemic levels and is expected to continue to rise as a share of GDP over the medium term (as aging-related expenditures on healthcare and social security feed into the debt dynamics).']\n",
      "export to /root/workspace/data/DOCs/PDF/chunks.txt\n"
     ]
    }
   ],
   "source": [
    "chunks = doc.chunks()\n",
    "contents = extract_chunks(chunks)\n",
    "print(contents[:10])\n",
    "to_txt(contents,'/root/workspace/data/DOCs/PDF/chunks.txt')"
   ]
  },
  {
   "cell_type": "code",
   "execution_count": 74,
   "metadata": {},
   "outputs": [],
   "source": [
    "\n",
    "def extract_paragraphs(sections):\n",
    "    section_counter=0\n",
    "    p_counter = 0\n",
    "    contents=[]\n",
    "    for s in sections:\n",
    "        #print(\"Section: {} \\n\".format(section_counter))\n",
    "        contents.append(\"Section:{} \\n\".format(section_counter))\n",
    "        section_counter+=1\n",
    "        for p in s.sentences:\n",
    "            contents.append(\"     {}\".format(p))\n",
    "    \n",
    "    return contents\n"
   ]
  },
  {
   "cell_type": "code",
   "execution_count": 73,
   "metadata": {},
   "outputs": [
    {
     "data": {
      "text/plain": [
       "['UNITED STATES']"
      ]
     },
     "execution_count": 73,
     "metadata": {},
     "output_type": "execute_result"
    }
   ],
   "source": [
    "sections[1].sentences"
   ]
  },
  {
   "cell_type": "code",
   "execution_count": 75,
   "metadata": {},
   "outputs": [
    {
     "name": "stdout",
     "output_type": "stream",
     "text": [
      "['Section:0 \\n', '     IMF Country Report No. 22/220', 'Section:1 \\n', '     UNITED STATES', 'Section:2 \\n', '     July 2022', 'Section:3 \\n', '     International Monetary Fund Washington, D.C.', 'Section:4 \\n', '     PR22/254']\n",
      "export to /root/workspace/data/DOCs/PDF/paragraphs.txt\n"
     ]
    }
   ],
   "source": [
    "sections = doc.sections()\n",
    "contents = extract_paragraphs(sections)\n",
    "print(contents[:10])\n",
    "to_txt(contents,'/root/workspace/data/DOCs/PDF/paragraphs.txt')"
   ]
  },
  {
   "cell_type": "code",
   "execution_count": 130,
   "metadata": {},
   "outputs": [],
   "source": [
    "s = sections[25]"
   ]
  },
  {
   "cell_type": "code",
   "execution_count": 131,
   "metadata": {},
   "outputs": [
    {
     "data": {
      "text/plain": [
       "{'block_class': 'cls_19',\n",
       " 'block_idx': 121,\n",
       " 'level': 3,\n",
       " 'page_idx': 7,\n",
       " 'sentences': ['FIGURE'],\n",
       " 'tag': 'header'}"
      ]
     },
     "execution_count": 131,
     "metadata": {},
     "output_type": "execute_result"
    }
   ],
   "source": [
    "s.block_json"
   ]
  },
  {
   "cell_type": "code",
   "execution_count": 132,
   "metadata": {},
   "outputs": [
    {
     "data": {
      "text/plain": [
       "[<llmsherpa.readers.layout_reader.Table at 0x7f6e4ddea280>,\n",
       " <llmsherpa.readers.layout_reader.Section at 0x7f6e4ddea310>]"
      ]
     },
     "execution_count": 132,
     "metadata": {},
     "output_type": "execute_result"
    }
   ],
   "source": [
    "s.children"
   ]
  },
  {
   "cell_type": "code",
   "execution_count": 133,
   "metadata": {},
   "outputs": [
    {
     "name": "stdout",
     "output_type": "stream",
     "text": [
      " | 1. Two Scenarios for the Path of the Federal Funds Rate | 17\n",
      " | --- | ---\n",
      " | TABLES 1. Selected Economic Indicators | 35\n",
      " | 2. Balance of Payments | 36\n",
      " | 3. Federal and General Government Finances | 37\n",
      "\n",
      "4. Core Financial Soundness Indicators for Deposit Takers\n"
     ]
    }
   ],
   "source": [
    "for c in s.children:\n",
    "    print(c.to_text())\n",
    "    "
   ]
  },
  {
   "cell_type": "code",
   "execution_count": 45,
   "metadata": {},
   "outputs": [
    {
     "data": {
      "text/html": [
       "<table><th><td colSpan=1>Goods and services</td><td colSpan=1>-0.1</td><td colSpan=1>-13.6</td><td colSpan=1>4.5</td><td colSpan=1>4.8</td><td colSpan=1>3.8</td><td colSpan=1>2.2</td><td colSpan=1>2.5</td><td colSpan=1>2.5</td><td colSpan=1>2.3</td></th><tr><td colSpan=1>Goods</td><td colSpan=1>-0.1</td><td colSpan=1>-10.2</td><td colSpan=1>7.6</td><td colSpan=1>3.1</td><td colSpan=1>1.7</td><td colSpan=1>0.9</td><td colSpan=1>2.1</td><td colSpan=1>2.3</td><td colSpan=1>2.2</td></tr><tr><td colSpan=1>Services</td><td colSpan=1>-0.1</td><td colSpan=1>-19.8</td><td colSpan=1>-1.6</td><td colSpan=1>9.1</td><td colSpan=1>8.8</td><td colSpan=1>4.9</td><td colSpan=1>3.5</td><td colSpan=1>2.9</td><td colSpan=1>2.7</td></tr><tr><td>Real Imports Growth</td></tr><tr><td colSpan=1>Goods and services</td><td colSpan=1>1.1</td><td colSpan=1>-8.9</td><td colSpan=1>14.0</td><td colSpan=1>9.3</td><td colSpan=1>1.0</td><td colSpan=1>-0.6</td><td colSpan=1>0.9</td><td colSpan=1>1.9</td><td colSpan=1>1.9</td></tr><tr><td colSpan=1>Goods</td><td colSpan=1>0.5</td><td colSpan=1>-5.6</td><td colSpan=1>14.6</td><td colSpan=1>8.9</td><td colSpan=1>0.1</td><td colSpan=1>-1.3</td><td colSpan=1>0.4</td><td colSpan=1>1.5</td><td colSpan=1>1.6</td></tr><tr><td colSpan=1>Nonpetroleum goods</td><td colSpan=1>1.2</td><td colSpan=1>-5.1</td><td colSpan=1>15.0</td><td colSpan=1>8.4</td><td colSpan=1>-0.1</td><td colSpan=1>-1.2</td><td colSpan=1>0.7</td><td colSpan=1>1.8</td><td colSpan=1>1.8</td></tr><tr><td colSpan=1>Petroleum goods</td><td colSpan=1>-5.8</td><td colSpan=1>-12.4</td><td colSpan=1>5.5</td><td colSpan=1>12.2</td><td colSpan=1>1.7</td><td colSpan=1>-2.5</td><td colSpan=1>-3.0</td><td colSpan=1>-1.7</td><td colSpan=1>-1.6</td></tr><tr><td colSpan=1>Services</td><td colSpan=1>3.9</td><td colSpan=1>-22.6</td><td colSpan=1>11.5</td><td colSpan=1>11.5</td><td colSpan=1>5.4</td><td colSpan=1>2.7</td><td colSpan=1>2.8</td><td colSpan=1>3.4</td><td colSpan=1>3.4</td></tr><tr><td colSpan=1>Net Exports (contribution to real GDP growth)</td><td colSpan=1>-0.2</td><td colSpan=1>-0.3</td><td colSpan=1>-1.4</td><td colSpan=1>-0.9</td><td colSpan=1>0.3</td><td colSpan=1>0.4</td><td colSpan=1>0.2</td><td colSpan=1>0.0</td><td colSpan=1>0.0</td></tr><tr><td>Nominal Exports</td></tr><tr><td colSpan=1>Goods and services</td><td colSpan=1>11.8</td><td colSpan=1>10.2</td><td colSpan=1>10.8</td><td colSpan=1>11.5</td><td colSpan=1>11.7</td><td colSpan=1>11.8</td><td colSpan=1>11.9</td><td colSpan=1>11.9</td><td colSpan=1>11.9</td></tr><tr><td>Nominal Imports</td></tr><tr><td colSpan=1>Goods and services</td><td colSpan=1>14.6</td><td colSpan=1>13.3</td><td colSpan=1>14.8</td><td colSpan=1>15.9</td><td colSpan=1>15.5</td><td colSpan=1>15.1</td><td colSpan=1>14.9</td><td colSpan=1>14.7</td><td colSpan=1>14.7</td></tr><tr><td>Current Account</td></tr><tr><td colSpan=1>Current account balance</td><td colSpan=1>-2.2</td><td colSpan=1>-2.9</td><td colSpan=1>-3.6</td><td colSpan=1>-3.7</td><td colSpan=1>-3.1</td><td colSpan=1>-2.6</td><td colSpan=1>-2.4</td><td colSpan=1>-2.2</td><td colSpan=1>-2.1</td></tr><tr><td colSpan=1>Balance on trade in goods and services</td><td colSpan=1>-2.7</td><td colSpan=1>-3.2</td><td colSpan=1>-3.7</td><td colSpan=1>-4.1</td><td colSpan=1>-3.5</td><td colSpan=1>-3.0</td><td colSpan=1>-2.7</td><td colSpan=1>-2.6</td><td colSpan=1>-2.5</td></tr><tr><td colSpan=1>Balance on income</td><td colSpan=1>0.5</td><td colSpan=1>0.3</td><td colSpan=1>0.2</td><td colSpan=1>0.4</td><td colSpan=1>0.4</td><td colSpan=1>0.4</td><td colSpan=1>0.4</td><td colSpan=1>0.4</td><td colSpan=1>0.4</td></tr><tr><td>Capital and Financial Account</td></tr><tr><td colSpan=1>Capital account balance</td><td colSpan=1>0.0</td><td colSpan=1>0.0</td><td colSpan=1>0.0</td><td colSpan=1>0.0</td><td colSpan=1>0.0</td><td colSpan=1>0.0</td><td colSpan=1>0.0</td><td colSpan=1>0.0</td><td colSpan=1>0.0</td></tr><tr><td colSpan=1>Financial account balance</td><td colSpan=1>-2.2</td><td colSpan=1>-3.1</td><td colSpan=1>-3.0</td><td colSpan=1>-3.7</td><td colSpan=1>-3.1</td><td colSpan=1>-2.7</td><td colSpan=1>-2.4</td><td colSpan=1>-2.2</td><td colSpan=1>-2.1</td></tr><tr><td colSpan=1>Direct investment, net</td><td colSpan=1>-0.8</td><td colSpan=1>0.5</td><td colSpan=1>0.2</td><td colSpan=1>-0.3</td><td colSpan=1>-0.3</td><td colSpan=1>-0.3</td><td colSpan=1>-0.3</td><td colSpan=1>-0.3</td><td colSpan=1>-0.3</td></tr><tr><td colSpan=1>Portfolio investment, net</td><td colSpan=1>-0.9</td><td colSpan=1>-2.3</td><td colSpan=1>0.1</td><td colSpan=1>-1.3</td><td colSpan=1>-1.0</td><td colSpan=1>-0.5</td><td colSpan=1>-0.1</td><td colSpan=1>-0.2</td><td colSpan=1>-0.2</td></tr><tr><td colSpan=1>Financial derivatives, net</td><td colSpan=1>-0.2</td><td colSpan=1>0.0</td><td colSpan=1>-0.2</td><td colSpan=1>-0.1</td><td colSpan=1>-0.1</td><td colSpan=1>-0.1</td><td colSpan=1>-0.1</td><td colSpan=1>-0.1</td><td colSpan=1>-0.1</td></tr><tr><td colSpan=1>Other investment, net</td><td colSpan=1>-0.3</td><td colSpan=1>-1.3</td><td colSpan=1>-3.6</td><td colSpan=1>-2.0</td><td colSpan=1>-1.7</td><td colSpan=1>-1.8</td><td colSpan=1>-1.8</td><td colSpan=1>-1.7</td><td colSpan=1>-1.6</td></tr><tr><td colSpan=1>Reserve assets, net</td><td colSpan=1>0.0</td><td colSpan=1>0.0</td><td colSpan=1>0.5</td><td colSpan=1>0.0</td><td colSpan=1>0.0</td><td colSpan=1>0.0</td><td colSpan=1>0.0</td><td colSpan=1>0.0</td><td colSpan=1>0.0</td></tr><tr><td colSpan=1>Errors and Omissions</td><td colSpan=1>0.0</td><td colSpan=1>-0.2</td><td colSpan=1>0.6</td><td colSpan=1>0.0</td><td colSpan=1>0.0</td><td colSpan=1>0.0</td><td colSpan=1>0.0</td><td colSpan=1>0.0</td><td colSpan=1>0.0</td></tr><tr><td colSpan=1>Net International Investment Position</td><td colSpan=1>-52.6</td><td colSpan=1>-67.1</td><td colSpan=1>-78.7</td><td colSpan=1>-75.4</td><td colSpan=1>-75.1</td><td colSpan=1>-75.7</td><td colSpan=1>-75.4</td><td colSpan=1>-74.7</td><td colSpan=1>-74.0</td></tr><tr><td colSpan=1>Direct investment, net</td><td colSpan=1>-8.3</td><td colSpan=1>-12.3</td><td colSpan=1>-16.5</td><td colSpan=1>-15.4</td><td colSpan=1>-15.0</td><td colSpan=1>-15.0</td><td colSpan=1>-14.8</td><td colSpan=1>-14.5</td><td colSpan=1>-14.3</td></tr><tr><td colSpan=1>Portfolio investment, net</td><td colSpan=1>-38.4</td><td colSpan=1>-48.0</td><td colSpan=1>-52.9</td><td colSpan=1>-49.6</td><td colSpan=1>-48.4</td><td colSpan=1>-47.6</td><td colSpan=1>-46.1</td><td colSpan=1>-44.6</td><td colSpan=1>-43.1</td></tr><tr><td colSpan=1>Financial derivatives, net</td><td colSpan=1>0.1</td><td colSpan=1>0.0</td><td colSpan=1>0.1</td><td colSpan=1>0.1</td><td colSpan=1>0.1</td><td colSpan=1>0.1</td><td colSpan=1>0.1</td><td colSpan=1>0.1</td><td colSpan=1>0.1</td></tr><tr><td colSpan=1>Other investment, net</td><td colSpan=1>-8.3</td><td colSpan=1>-9.7</td><td colSpan=1>-12.5</td><td colSpan=1>-13.4</td><td colSpan=1>-14.5</td><td colSpan=1>-15.8</td><td colSpan=1>-17.1</td><td colSpan=1>-18.1</td><td colSpan=1>-19.0</td></tr><tr><td colSpan=1>Reserve assets, net</td><td colSpan=1>2.4</td><td colSpan=1>3.0</td><td colSpan=1>3.1</td><td colSpan=1>2.8</td><td colSpan=1>2.7</td><td colSpan=1>2.6</td><td colSpan=1>2.5</td><td colSpan=1>2.4</td><td colSpan=1>2.3</td></tr><tr><td>Memorandum Items</td></tr><tr><td colSpan=1>Current account balance (US$ billions)</td><td colSpan=1>-472</td><td colSpan=1>-616</td><td colSpan=1>-822</td><td colSpan=1>-944</td><td colSpan=1>-831</td><td colSpan=1>-720</td><td colSpan=1>-667</td><td colSpan=1>-650</td><td colSpan=1>-648</td></tr><tr><td colSpan=1>Non-oil trade balance (% of GDP)</td><td colSpan=1>-2.7</td><td colSpan=1>-3.1</td><td colSpan=1>-3.9</td><td colSpan=1>-4.3</td><td colSpan=1>-3.7</td><td colSpan=1>-3.3</td><td colSpan=1>-3.1</td><td colSpan=1>-2.9</td><td colSpan=1>-2.9</td></tr><tr><td colSpan=1>Foreign real GDP growth</td><td colSpan=1>1.7</td><td colSpan=1>-5.0</td><td colSpan=1>5.5</td><td colSpan=1>3.2</td><td colSpan=1>3.0</td><td colSpan=1>2.5</td><td colSpan=1>2.4</td><td colSpan=1>2.4</td><td colSpan=1>2.3</td></tr><tr><td colSpan=1>U.S. real GDP growth</td><td colSpan=1>2.3</td><td colSpan=1>-3.4</td><td colSpan=1>5.7</td><td colSpan=1>2.9</td><td colSpan=1>1.7</td><td colSpan=1>0.8</td><td colSpan=1>1.7</td><td colSpan=1>2.1</td><td colSpan=1>1.9</td></tr><tr><td colSpan=1>U.S. real total domestic demand growth</td><td colSpan=1>2.4</td><td colSpan=1>-3.0</td><td colSpan=1>6.9</td><td colSpan=1>3.6</td><td colSpan=1>1.4</td><td colSpan=1>0.5</td><td colSpan=1>1.5</td><td colSpan=1>2.0</td><td colSpan=1>1.8</td></tr></table>"
      ],
      "text/plain": [
       "<IPython.core.display.HTML object>"
      ]
     },
     "execution_count": 45,
     "metadata": {},
     "output_type": "execute_result"
    }
   ],
   "source": [
    "HTML(doc.tables()[6].to_html())"
   ]
  },
  {
   "cell_type": "markdown",
   "metadata": {},
   "source": [
    "### get Raw Json file"
   ]
  },
  {
   "cell_type": "code",
   "execution_count": 97,
   "metadata": {},
   "outputs": [
    {
     "data": {
      "text/plain": [
       "[{'block_class': 'cls_1',\n",
       "  'block_idx': 0,\n",
       "  'level': 0,\n",
       "  'page_idx': 0,\n",
       "  'sentences': ['IMF Country Report No. 22/220'],\n",
       "  'tag': 'header'},\n",
       " {'block_class': 'cls_2',\n",
       "  'block_idx': 1,\n",
       "  'level': 0,\n",
       "  'page_idx': 0,\n",
       "  'sentences': ['UNITED STATES'],\n",
       "  'tag': 'header'},\n",
       " {'block_class': 'cls_0',\n",
       "  'block_idx': 2,\n",
       "  'level': 1,\n",
       "  'page_idx': 0,\n",
       "  'sentences': ['July 2022'],\n",
       "  'tag': 'header'},\n",
       " {'block_class': 'cls_3',\n",
       "  'block_idx': 3,\n",
       "  'level': 1,\n",
       "  'page_idx': 0,\n",
       "  'sentences': ['2022 ARTICLE IV CONSULTATION—PRESS RELEASE; STAFF REPORT; AND STATEMENT BY THE EXECUTIVE DIRECTOR FOR THE UNITED STATES'],\n",
       "  'tag': 'para'},\n",
       " {'block_class': 'cls_0',\n",
       "  'block_idx': 4,\n",
       "  'level': 1,\n",
       "  'page_idx': 0,\n",
       "  'sentences': ['Under Article IV of the IMF’s Articles of Agreement, the IMF holds bilateral discussions with members, usually every year.',\n",
       "   'In the context of the 2022 Article IV consultation with the United States, the following documents have been released and are included in this package:'],\n",
       "  'tag': 'para'}]"
      ]
     },
     "execution_count": 97,
     "metadata": {},
     "output_type": "execute_result"
    }
   ],
   "source": [
    "doc.json[:5]"
   ]
  },
  {
   "cell_type": "markdown",
   "metadata": {},
   "source": [
    "## Use [Unstructured](https://github.com/Unstructured-IO/unstructured) \n",
    "- for PDF you need to install some system dependencies [instructions](https://github.com/Unstructured-IO/unstructured?tab=readme-ov-file#installing-the-library)\n",
    "- installiation issues with pdf2image [link](https://unix.stackexchange.com/questions/754574/pdfinfonotinstallederror-unable-to-get-page-count-is-poppler-installed-and-in)\n",
    "- arguments explainations [here](https://unstructured-io.github.io/unstructured/core/partition.html)"
   ]
  },
  {
   "cell_type": "code",
   "execution_count": 16,
   "metadata": {},
   "outputs": [],
   "source": [
    "import os, sys \n",
    "#from unstructured.partition.auto import partition\n",
    "from unstructured.partition.pdf import partition_pdf"
   ]
  },
  {
   "cell_type": "code",
   "execution_count": 17,
   "metadata": {},
   "outputs": [],
   "source": [
    "pdf_url = '/root/workspace/data/DOCs/PDF/USA_2022.pdf'\n",
    "elements = partition_pdf(filename=pdf_url,strategy=\"hi_res\")"
   ]
  },
  {
   "cell_type": "markdown",
   "metadata": {},
   "source": [
    "- I am not sure if this is any better than just used Docx\n",
    "- As table extraction is often not perfectly accurage"
   ]
  },
  {
   "cell_type": "code",
   "execution_count": 68,
   "metadata": {},
   "outputs": [
    {
     "name": "stdout",
     "output_type": "stream",
     "text": [
      "NarrativeText  :  21. Contending with these wage and price pressures will require a rapid withdrawal of monetary accommodation. Given the broad-based nature of wage and price inflation, a range of model simulations indicate that quickly bringing inflation back to 2 percent requires an increase in the ex-ante real policy rate to above neutral (Box 4). There is also some evidence to suggest that a secular increase in market concentration among U.S. corporates may dampen the transmission of monetary tightening, requiring a more decisive cooling of labor markets to stabilize the system (Box\n",
      "NarrativeText  :  INTERNATIONAL MONETARY FUND 15\n",
      "Title  :  UNITED STATES\n",
      "NarrativeText  :  5). Staff’s baseline forecast is predicated on the median projection for the federal funds rate published at the June FOMC meeting. That rate path would push the ex ante real policy rate above zero by late-2022 and is expected to bring inflation back to 2 percent by late 2023/early 2024. However, if there is more inertia in wage and price inflation than is currently envisaged, a tighter policy stance will be needed to bring inflation back to target. This would lead to a more pronounced increase in unemployment and a short recession (Figure 1).\n",
      "NarrativeText  :  22. In addition to adopting a more front-loaded rate path, the Federal Reserve’s balance sheet should be quickly pared back (as was communicated in the May FOMC meeting). However, the empirical evidence suggests that balance sheet run-off is likely to have a relatively small impact on monetary conditions (Box 6). As such, changes in the federal funds rate will need to continue to be the primary tool for policy.\n",
      "NarrativeText  :  23. The effective communication of policy intentions will help keep medium-term inflation expectations anchored and bring inflation back to target. To strengthen the communications toolkit, the Federal Reserve could begin publishing, at each policy meeting, an internally-consistent economic projection and rate path—produced by Fed staff and potentially endorsed (or otherwise recognized) by the FOMC. This central forecast should be supplemented with a few alternate, quantified scenarios to show the range of views on the FOMC and the distribution of risks around the baseline. This would be preferable to the current reliance on the quarterly Summary of Economic Projections to convey FOMC members’ policy expectations. Putting in place such a communications device would help ensure that policymakers’ expectations about the likely future path for the policy rate are clearly conveyed and, in so doing, would strengthen the impact of forward guidance. The Federal Reserve could also usefully clarify in its Statement on Longer-Run Goals and Monetary Policy Strategy how the policy framework applies in an environment where inflation has moved well above two percent.\n",
      "NarrativeText  :  24. Bringing down inflation poses important macro and financial stability risks. Coupled with the pullback of fiscal stimulus, the envisioned withdrawal of monetary accommodation will further tighten financial conditions and restrain demand. A clear communication of policy intentions—particularly by the Federal Reserve—will help reduce the possibility that this shift in financial conditions is abrupt or disruptive. However, even with effective communications, a smooth transition back to lower inflation is by no means assured. Monetary policy will have to contend with a complex transmission of policy to financial and macroeconomic outcomes, including through the nonbanks (Box 7). Policymakers also face significant ongoing uncertainties related to the pandemic, China lockdowns, and the Russian invasion of Ukraine. This means there is a material chance that the needed shift in monetary policy will trigger a contraction in activity and a sizable increase in unemployment. Such a scenario would evidently have important negative outward spillovers—both through a drop in U.S. demand and a tightening of global financial conditions—that could side- swipe countries, individuals and firms that are leveraged in U.S. dollars and/or that face sizable near- term funding needs.\n",
      "ListItem  :  25. Authorities’ views. Inflation remains unacceptably high and bringing down inflation is a top priority of the Federal Reserve and the administration. The FOMC has increased its policy rate at its\n",
      "ListItem  :  16 INTERNATIONAL MONETARY FUND\n",
      "Title  :  UNITED STATES\n",
      "NarrativeText  :  meetings since March and clearly indicated its expectation of ongoing increases in the target range for the federal funds rate in the coming FOMC meetings. There is also clarity about the strong commitment and determination of policymakers to restore price stability. Given the high degree of uncertainty in the pace and timing of disinflation, the Federal Reserve is being data dependent and is following an approach that involves expediting the return of the policy rate to neutral or modestly restrictive settings and then assessing, later this year, the effects of these policy changes and whether or not further policy adjustments are then required. The plan to reduce the Federal Reserve’s balance sheet is underway and will help firm the stance of monetary policy. The Federal Reserve considers its existing suite of communication tools—including the FOMC statement, press conferences after each meeting, the Summary of Economic Projections, minutes of FOMC meetings, and periodic speeches by senior officials—as being well understood by market participants and effective in aligning market expectations of the policy outlook with the FOMC’s own assessment.\n",
      "Title  :  Figure 1. Two Scenarios for the Path of the Federal Funds Rate\n",
      "Image  :  Federal Funds Rate (Percent) More persistent inflation expectations —— Baseline 0 202201 2023Q1 2024Q1 202501 202601\n",
      "Image  :  Real GDP Growth 5((/Q annualized, percent) 4 -1 -2 2022Q1 + 2023Q1_--2024Q1_-—.2025Q1_ 202601\n",
      "Image  :  Unemployment Rate Percent) 6 5.5 45 3.5 3 2022Q1 =.2023Q1-—- 2024Q1-—s.2025Q1_—s.2026Q1\n",
      "Image  :  Core PCE Inflation (Q/Q, annualized, percent) 6 5 1 2022Q1 =. 2023Q1- = 2024Q1_-—s 2025Q1_—. 202601\n",
      "FigureCaption  :  Source: IMF staff calculations.\n",
      "NarrativeText  :  26. Beyond the downside macro risks, it is possible that markets may not smoothly absorb higher interest rates and the shrinking of the Fed’s balance sheet. As discussed earlier, there are\n",
      "ListItem  :  INTERNATIONAL MONETARY FUND 17\n",
      "Title  :  UNITED STATES\n",
      "NarrativeText  :  known shortcomings in the “plumbing” of key Treasury and money markets and certain asset management vehicles pose run risks. If such systemic vulnerabilities in market functioning were to materialize, the Federal Reserve would face a tricky dilemma in deciding whether or not to inject liquidity to restore market functioning at the same time as interest rates are moving higher to contain inflation. The introduction of standing facilities for primary dealers and foreign and international monetary authorities should help mitigate potential volatility in short-term interest rates but more needs to be done (including to reduce the possible stigma associated with the use of these facilities). Future changes that should be considered include the introduction of central clearing for the Treasury market, modifying the design of the supplementary leverage ratio (to allow for an increase in dealer intermediation capacity), moving all money market funds to a floating net asset value, considering more binding (and possibly countercyclical) liquid asset requirements, subjecting asset management vehicles to an annual liquidity stress test, instituting pre-determined arrangements to lock-in a proportion of an investor’s shares in the event of unusual outflows, providing for in-kind redemptions to meet withdrawals by institutional investors, and allowing for swing pricing or temporary gates on outflows.\n",
      "NarrativeText  :  27. Authorities’ views. Recent years have seen episodes during which some markets were under stress. At the same time, the overall size and flows through key markets have grown significantly and are increasingly influenced by the activities of automated trading strategies. During the course of 2022, measures of liquidity and market depth in many markets have declined—notably in the Treasury market. On the whole, U.S. markets have functioned well in 2022. Furthermore, work is underway in hedge funds, open-ended mutual funds, and Treasury and related markets to close data gaps and increase the resilience-under-stress of these entities and markets.\n",
      "NarrativeText  :  18 =INTERNATIONAL MONETARY FUND\n",
      "UncategorizedText  :  18\n",
      "Title  :  INTERNATIONAL MONETARY FUND\n",
      "Title  :  UNITED STATES\n",
      "Title  :  Box 3. Prospects for a Wage-Price Spiral\n",
      "NarrativeText  :  The evidence suggests a relatively weak feedback loop between wages and retail prices in the U.S. The pass- through from wages to prices has tended to be low and concentrated in services. Furthermore, higher prices only partially feed into nominal wage growth, and even then do so with a considerable lag.\n",
      "NarrativeText  :  The empirical literature offers limited evidence on the wage and price feedback loop. At the macro level, the link between labor cost and price inflation has been declining over the past three decades.1 Analysis using disaggregated data has, however, been relatively scant. Rissman2 finds a weak passthrough of wages to inflation and only in the manufacturing and retail sectors. Heise et al.3 find some evidence of passthrough from wage growth to producer price inflation in the services sector (but do not examine whether this translates also to retail price inflation).\n",
      "NarrativeText  :  Sectoral data suggests the acceleration of nominal wages has likely added only modestly to services inflation. Input-output matrices were used to construct industry wage costs across 73 sectors and these were matched with the same sectoral prices from the personal consumption expenditure index. Following the empirical strategy in Heise et al. (2021), panel estimates were then used to estimate the impact of wages on consumer prices (controlling for sectoral productivity growth and incorporating time and industry fixed effects). The results suggest that the passthrough from higher wages to services inflation is only around 13 percent after five quarters and there is no material passthrough to goods inflation. Restricting the sample to the post-COVID period suggests, if anything, that the passthrough to services has been smaller over the past two years than the historic average.\n"
     ]
    }
   ],
   "source": [
    "for e in elements[250:280]:\n",
    "    e_dict = e.to_dict()\n",
    "    print(e_dict['type'],\" : \",e_dict['text'])"
   ]
  },
  {
   "cell_type": "markdown",
   "metadata": {},
   "source": [
    "## User docx2python\n",
    "- https://github.com/ShayHill/docx2python"
   ]
  },
  {
   "cell_type": "code",
   "execution_count": 166,
   "metadata": {},
   "outputs": [],
   "source": [
    "from docx2python import docx2python\n",
    "from docx2python.iterators import get_html_map"
   ]
  },
  {
   "cell_type": "markdown",
   "metadata": {},
   "source": [
    "- seems difficult to remove data tables automatically "
   ]
  },
  {
   "cell_type": "code",
   "execution_count": 171,
   "metadata": {},
   "outputs": [
    {
     "name": "stdout",
     "output_type": "stream",
     "text": [
      "----media/image1.jpeg----\n",
      "\n",
      "\n",
      "\n",
      "UNITED STATES\n",
      "\n",
      "\n",
      "IMF Country Report No. 22/220\n",
      "\n",
      "\n",
      "\n",
      "\n",
      "\n",
      "July 2022\n",
      "\n",
      "\n",
      "2022 ARTICLE IV CONSULTATION—PRESS RELEASE; STAFF REPORT; AND STATEMENT BY THE EXECUTIVE DIRECTOR FOR THE UNITED STATES\n",
      "\n",
      "Under Article IV of the IMF’s Articles of Agreement, the IMF holds bilateral discussions with members, usually every year. In the context of the 2022 Article IV consultation with the United States, the following documents have been released and are included in this package:\n",
      "\n",
      "\n",
      "\n",
      "--\t\tA Press Release summarizing the views of the Executive Board as expressed during its July 11, 2022 consideration of the staff report that concluded the Article IV consultation with the United States.\n",
      "\n",
      "--\t\tThe Staff Report prepared by a staff team of the IMF for the Executive Board’s consideration on July 11, 2022, following discussions that ended on June 15, 2022, with the officials of the United States on economic developments and policies. Based on information available at the time of these discuss\n"
     ]
    }
   ],
   "source": [
    "fp = '/root/workspace/data/DOCs/Word/USA_2022.docx'\n",
    "docx_content = docx2python(fp)\n",
    "print(docx_content.text[:1000]) ## this will extract all text, include tables \n"
   ]
  },
  {
   "cell_type": "code",
   "execution_count": 187,
   "metadata": {},
   "outputs": [],
   "source": [
    "docx_content.close()"
   ]
  },
  {
   "cell_type": "markdown",
   "metadata": {},
   "source": [
    "## Use python-docx"
   ]
  },
  {
   "cell_type": "code",
   "execution_count": 177,
   "metadata": {},
   "outputs": [],
   "source": [
    "from docx import Document"
   ]
  },
  {
   "cell_type": "code",
   "execution_count": 178,
   "metadata": {},
   "outputs": [],
   "source": [
    "def extract_text_and_tables(doc_path):\n",
    "    # Load the document\n",
    "    doc = Document(doc_path)\n",
    "\n",
    "    # Extract paragraphs\n",
    "    paragraphs = [para.text for para in doc.paragraphs]\n",
    "\n",
    "    # Extract tables\n",
    "    tables = []\n",
    "    for table in doc.tables:\n",
    "        table_data = []\n",
    "        for row in table.rows:\n",
    "            row_data = []\n",
    "            for cell in row.cells:\n",
    "                row_data.append(cell.text)\n",
    "            table_data.append(row_data)\n",
    "        tables.append(table_data)\n",
    "\n",
    "    return paragraphs, tables"
   ]
  },
  {
   "cell_type": "markdown",
   "metadata": {},
   "source": [
    "- this is fine but not everything is in right order"
   ]
  },
  {
   "cell_type": "code",
   "execution_count": 181,
   "metadata": {},
   "outputs": [],
   "source": [
    "doc_path = '/root/workspace/data/DOCs/Word/USA_2022.docx'\n",
    "paragraphs, tables = extract_text_and_tables(doc_path)"
   ]
  },
  {
   "cell_type": "markdown",
   "metadata": {},
   "source": [
    "- maybe you can also try this :\n",
    "- https://github.com/kmrambo/Python-docx-Reading-paragraphs-tables-and-images-in-document-order-"
   ]
  },
  {
   "cell_type": "markdown",
   "metadata": {},
   "source": [
    "### Slightly customized stripts "
   ]
  },
  {
   "cell_type": "code",
   "execution_count": 206,
   "metadata": {},
   "outputs": [],
   "source": [
    "from clean_text_utils import Timelimit, cleanup_table,process_doc,process_text,filter_by_tag"
   ]
  },
  {
   "cell_type": "code",
   "execution_count": 204,
   "metadata": {},
   "outputs": [],
   "source": [
    "exclude_list = ['Download Date','Current Classification', 'MASTER FILES', 'ROOM', 'SM/', 'PUBLIC USE', 'N.A.', '(-)', '+', 'Very truly yours,'\n",
    "                'INTERNATIONAL MONETARY FUND', 'CONFIDENTIAL', 'INFORMATION', 'Att:', 'Other Distribution:', 'Washington, DC 20431', 'Yours sincerely,',\n",
    "               'Departments Heads', 'Department Heads', 'ATTACHMENT', 'ARCHIVES', 'Classification', '□JU', '(right axis)', 'RHS', 'LHS'] \n",
    "\n",
    "remove_list = ['', 'I', 'II', 'Mexican peso per', 'Inflation', 'indexed,', 'Fixed rate,', 'Floating rate, 61%', \n",
    "               'LO', 'or projections.', 'ztTJ', 's s', '8 .J¼l J U.S. dollar peJ \\ I •,']\n",
    "\n",
    "title_list = ['macroeconomic', 'fiscal', 'structural', 'monetary', 'exchange', 'civil', 'external', \"enterprise\", 'decision', 'capacity building', 'public finance',\n",
    "              'legal', 'poverty', 'alternative', 'financial', 'reform', 'government', 'real', 'statistical', \"prices\", 'vulnerability', 'consumption', 'text box']"
   ]
  },
  {
   "cell_type": "code",
   "execution_count": 207,
   "metadata": {},
   "outputs": [],
   "source": [
    "doc_path = '/root/workspace/data/DOCs/Word/USA_2022.docx'\n",
    "cleaned_text = []\n",
    "doc = Document(doc_path)\n",
    "temp = cleanup_table(doc)\n",
    "t = [process_doc(p, exclude_list = exclude_list) for p in temp]\n",
    "t = [t for t in t if t != '']\n",
    "text = process_text(t, remove_list=remove_list, title_list=title_list)"
   ]
  },
  {
   "cell_type": "code",
   "execution_count": 213,
   "metadata": {},
   "outputs": [],
   "source": [
    "prefixes = [\"<Para>\"]\n",
    "clean_text = filter_by_tag(text,prefixes,replace_prefix=True)"
   ]
  },
  {
   "cell_type": "code",
   "execution_count": 215,
   "metadata": {},
   "outputs": [
    {
     "data": {
      "text/plain": [
       "['IMF Country Report No. 22/220 Under Article IV of the IMF’s Articles of Agreement, the IMF holds bilateral discussions with members, usually every year. In the context of the 2022 Article IV consultation with the United States, the following documents have been released and are included in this package:',\n",
       " 'A Press Release summarizing the views of the Executive Board as expressed during its July 11, 2022 consideration of the staff report that concluded the Article IV consultation with the United States.',\n",
       " 'The Staff Report prepared by a staff team of the IMF for the Executive Board’s consideration on July 11, 2022, following discussions that ended on June 15, 2022, with the officials of the United States on economic developments and policies. Based on information available at the time of these discussions, the staff report was completed on June 24, 2022.',\n",
       " 'An Informational Annex prepared by the IMF staff.',\n",
       " 'A Staff Supplement updating information on recent developments.',\n",
       " 'A Statement by the Executive Director for the United States The IMF’s transparency policy allows for the deletion of market-sensitive information and premature disclosure of the authorities’ policy intentions in published staff reports and other documents.',\n",
       " 'Copies of this report are available to the public from International Monetary Fund   Publication Services PO Box 92780   Washington, D.C. 20090 Telephone: (202) 623-7430   Fax: (202) 623-7201 International Monetary Fund Washington, D.C.',\n",
       " 'IMF Executive Board Concludes 2022 Article IV Consultation with the United States Washington, DC – July 11, 2022: The Executive Board of the International Monetary Fund (IMF) concluded the Article IV consultation1 with the United States.',\n",
       " 'The United States (U.S.) has recovered quickly from the pandemic shock. The positive effects of unprecedented policy stimulus, combined with the advantages of a highly flexible economy, have resulted in an unemployment rate that is back at end-2019 levels, output that is now close to its pre-pandemic trend, wages have increased rapidly for lower income workers, poverty has fallen, and 8.5 million jobs have been created since the end of 2020.',\n",
       " 'However, the rapid recovery of demand and associated depletion of slack, rising energy prices, and ongoing global supply disruptions have led to a significant acceleration in inflation. Wage and price pressures are broad based had have spread quickly across the economy.']"
      ]
     },
     "execution_count": 215,
     "metadata": {},
     "output_type": "execute_result"
    }
   ],
   "source": [
    "clean_text[:10]"
   ]
  },
  {
   "cell_type": "code",
   "execution_count": null,
   "metadata": {},
   "outputs": [],
   "source": []
  }
 ],
 "metadata": {
  "kernelspec": {
   "display_name": "gpt",
   "language": "python",
   "name": "python3"
  },
  "language_info": {
   "codemirror_mode": {
    "name": "ipython",
    "version": 3
   },
   "file_extension": ".py",
   "mimetype": "text/x-python",
   "name": "python",
   "nbconvert_exporter": "python",
   "pygments_lexer": "ipython3",
   "version": "3.9.0"
  },
  "orig_nbformat": 4
 },
 "nbformat": 4,
 "nbformat_minor": 2
}
